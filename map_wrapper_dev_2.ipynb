{
 "cells": [
  {
   "cell_type": "markdown",
   "metadata": {},
   "source": [
    "# Map Wrapper Development for Scipy Differential Equation\n",
    "\n",
    "Proof of concept notebook for first Scipy, since it only requires map not the o\n",
    "\n",
    "Error_function is a pass function.\n",
    "Our \"map\" takes care of initiating the whole neuron group, calculating the errors and returing the value."
   ]
  },
  {
   "cell_type": "markdown",
   "metadata": {},
   "source": [
    "```\n",
    "params, fits, error = fit_traces(model = model, input_var = 'v', output_var = 'I',\\\n",
    "                                 input = input_traces, output = output_traces,\n",
    "                                 dt = 0.1*ms, g = [1*nS, 30*nS], E = [-20*mV,100*mV],\n",
    "                                 tol = 1e-6)\n",
    "```"
   ]
  },
  {
   "cell_type": "code",
   "execution_count": 1,
   "metadata": {},
   "outputs": [],
   "source": [
    "import numpy as np\n",
    "import multiprocessing as mp\n",
    "\n",
    "from scipy.optimize import differential_evolution, rosen\n",
    "from scipy.optimize._differentialevolution import DifferentialEvolutionSolver\n"
   ]
  },
  {
   "cell_type": "code",
   "execution_count": 2,
   "metadata": {},
   "outputs": [],
   "source": [
    "from brian2 import *\n",
    "from brian2.equations.equations import (DIFFERENTIAL_EQUATION, Equations,\n",
    "                                        SingleEquation, PARAMETER)\n",
    "from brian2.input import TimedArray\n",
    "from brian2 import NeuronGroup, StateMonitor, store, restore, run, defaultclock, second, Quantity\n",
    "from brian2.stateupdaters.base import StateUpdateMethod\n",
    "\n"
   ]
  },
  {
   "cell_type": "markdown",
   "metadata": {},
   "source": [
    "#### Artificial Data"
   ]
  },
  {
   "cell_type": "code",
   "execution_count": 3,
   "metadata": {},
   "outputs": [],
   "source": [
    "params = np.array([\n",
    " [ 1.80869973e-08,  2.50218013e-02],\n",
    " [ 1.88373085e-08,  9.89559934e-02], \n",
    " [ 1.88373085e-08,  9.89559934e-02], \n",
    "])\n"
   ]
  },
  {
   "cell_type": "code",
   "execution_count": 4,
   "metadata": {},
   "outputs": [],
   "source": [
    "params2 = np.array([[ 1.12735759e-08,  8.81556360e-02],\n",
    " [ 9.04858783e-09,  8.03343489e-02],\n",
    " [ 1.60635907e-08,  1.59710651e-03],\n",
    " [ 1.66254878e-09,  2.95479385e-02],\n",
    " [ 1.80869973e-08,  2.50218013e-02],])"
   ]
  },
  {
   "cell_type": "markdown",
   "metadata": {},
   "source": [
    "### Input / Output"
   ]
  },
  {
   "cell_type": "code",
   "execution_count": 5,
   "metadata": {},
   "outputs": [],
   "source": [
    "input_traces = zeros((10,1))*volt\n",
    "for i in range(1):\n",
    "    input_traces[1:,i]=i*10*mV\n",
    "\n",
    "# Create target current traces\n",
    "output_traces = 10*nS*input_traces\n",
    "\n",
    "input = input_traces\n",
    "output = output_traces"
   ]
  },
  {
   "cell_type": "markdown",
   "metadata": {},
   "source": [
    "### Parameters "
   ]
  },
  {
   "cell_type": "code",
   "execution_count": 6,
   "metadata": {},
   "outputs": [],
   "source": [
    "input_var = 'v'\n",
    "output_var = 'I'\n",
    "\n",
    "parameter_names = {'g', 'E'}\n",
    "method = ('linear', 'exponential_euler', 'euler')\n",
    "t_start = 0*second\n",
    "popsize, _ = np.shape(params)\n",
    "dt = 0.1 *ms\n",
    "defaultclock.dt = dt"
   ]
  },
  {
   "cell_type": "markdown",
   "metadata": {},
   "source": [
    "### Calculation for inner parameters"
   ]
  },
  {
   "cell_type": "code",
   "execution_count": 7,
   "metadata": {},
   "outputs": [],
   "source": [
    "Nsteps, Ntraces = input_traces.shape\n",
    "# N = popsize * len(parameter_names)\n",
    "N = popsize\n",
    "duration = Nsteps*dt"
   ]
  },
  {
   "cell_type": "code",
   "execution_count": 8,
   "metadata": {},
   "outputs": [
    {
     "data": {
      "text/plain": [
       "3"
      ]
     },
     "execution_count": 8,
     "metadata": {},
     "output_type": "execute_result"
    }
   ],
   "source": [
    "N"
   ]
  },
  {
   "cell_type": "code",
   "execution_count": 9,
   "metadata": {},
   "outputs": [
    {
     "data": {
      "text/plain": [
       "1"
      ]
     },
     "execution_count": 9,
     "metadata": {},
     "output_type": "execute_result"
    }
   ],
   "source": [
    "Ntraces"
   ]
  },
  {
   "cell_type": "markdown",
   "metadata": {},
   "source": [
    "### Setup The Model for Optimization"
   ]
  },
  {
   "cell_type": "code",
   "execution_count": 10,
   "metadata": {},
   "outputs": [],
   "source": [
    "model = Equations('''\n",
    "I = g*(v-E) : amp\n",
    "g : siemens (constant)\n",
    "E : volt (constant)\n",
    "''')"
   ]
  },
  {
   "cell_type": "code",
   "execution_count": 11,
   "metadata": {},
   "outputs": [
    {
     "name": "stderr",
     "output_type": "stream",
     "text": [
      "INFO       No numerical integration method specified, using method 'linear' (took 0.01s). [brian2.stateupdaters.base.method_choice]\n"
     ]
    }
   ],
   "source": [
    "state_update_code = StateUpdateMethod.apply_stateupdater(model, {}, method=method)"
   ]
  },
  {
   "cell_type": "markdown",
   "metadata": {},
   "source": [
    "### Required Model Operations"
   ]
  },
  {
   "cell_type": "code",
   "execution_count": 12,
   "metadata": {},
   "outputs": [],
   "source": [
    "model_without_diffeq = Equations([eq for eq in model.ordered\n",
    "                                      if eq.type != DIFFERENTIAL_EQUATION])\n",
    "    \n",
    "# Add a parameter for each differential equation\n",
    "diffeq_params = Equations([SingleEquation(PARAMETER, varname, model.dimensions[varname])\n",
    "                           for varname in model.diff_eq_names])\n",
    "\n",
    "# Our new model:\n",
    "model = model_without_diffeq + diffeq_params\n",
    "\n",
    "# Replace input variable by TimedArray\n",
    "input_traces = TimedArray(input, dt = dt)"
   ]
  },
  {
   "cell_type": "code",
   "execution_count": 13,
   "metadata": {},
   "outputs": [],
   "source": [
    "input_unit = input.dim\n",
    "model = model + Equations(input_var + '= input_var(t,i % Ntraces) : '+ \"% s\" % repr(input_unit))\n",
    "\n",
    "# Add criterion with TimedArray\n",
    "output_traces = TimedArray(output, dt = dt)\n",
    "error_unit = output.dim**2\n",
    "model = model + Equations('total_error : %s' % repr(error_unit))"
   ]
  },
  {
   "cell_type": "code",
   "execution_count": 14,
   "metadata": {},
   "outputs": [],
   "source": [
    "neurons = NeuronGroup(Ntraces*N, model, method = method)\n",
    "neurons.namespace['input_var'] = input_traces\n",
    "neurons.namespace['output_var'] = output_traces\n",
    "neurons.namespace['t_start'] = t_start\n",
    "neurons.namespace['Ntraces'] = Ntraces\n",
    "\n",
    "# Record error\n",
    "neurons.run_regularly('total_error +=  (' + output_var + '-output_var(t,i % Ntraces))**2 * int(t>=t_start)',\n",
    "                      when='end')\n",
    "\n",
    "# Add the code doing the numerical integration\n",
    "neurons.run_regularly(state_update_code, when='groups')\n",
    "\n",
    "store()\n"
   ]
  },
  {
   "cell_type": "code",
   "execution_count": 15,
   "metadata": {},
   "outputs": [
    {
     "data": {
      "text/html": [
       "NeuronGroup \"neurongroup\" with 3 neurons.<br>\n",
       "<b>Model:</b><nr>\n",
       "\\begin{align*}v &= \\operatorname{input_{var}}{\\left(t,i\\bmod{Ntraces} \\right)} && \\text{(unit of $v$: $\\mathrm{V}$)}\\\\\n",
       "I &= g \\left(- E + v\\right) && \\text{(unit of $I$: $\\mathrm{A}$)}\\\\\n",
       "g &&& \\text{(unit: $\\mathrm{S}$, flags: constant)}\\\\\n",
       "E &&& \\text{(unit: $\\mathrm{V}$, flags: constant)}\\\\\n",
       "total_{error} &&& \\text{(unit: $\\mathrm{A^2}$)}\\end{align*}"
      ],
      "text/plain": [
       "NeuronGroup(clock=Clock(dt=100. * usecond, name='defaultclock'), when=start, order=0, name='neurongroup')"
      ]
     },
     "execution_count": 15,
     "metadata": {},
     "output_type": "execute_result"
    }
   ],
   "source": [
    "neurons"
   ]
  },
  {
   "cell_type": "markdown",
   "metadata": {},
   "source": [
    "### Dev Map Optimization "
   ]
  },
  {
   "cell_type": "markdown",
   "metadata": {},
   "source": [
    "### Create the Dictonaries of Parameters"
   ]
  },
  {
   "cell_type": "code",
   "execution_count": 16,
   "metadata": {},
   "outputs": [],
   "source": [
    "def parameters_dict(params):\n",
    "    d = dict()\n",
    "    for name, value in zip(parameter_names, params.T):\n",
    "        d[name] = value\n",
    "            \n",
    "    return d"
   ]
  },
  {
   "cell_type": "code",
   "execution_count": 17,
   "metadata": {},
   "outputs": [
    {
     "data": {
      "text/plain": [
       "{'g': array([1.80869973e-08, 1.88373085e-08, 1.88373085e-08]),\n",
       " 'E': array([0.0250218 , 0.09895599, 0.09895599])}"
      ]
     },
     "execution_count": 17,
     "metadata": {},
     "output_type": "execute_result"
    }
   ],
   "source": [
    "d = parameters_dict(params)\n",
    "d"
   ]
  },
  {
   "cell_type": "code",
   "execution_count": 18,
   "metadata": {},
   "outputs": [
    {
     "data": {
      "text/plain": [
       "{'N': array(3),\n",
       " 'i': array([0, 1, 2], dtype=int32),\n",
       " 't': 0. * second,\n",
       " 'dt': 100. * usecond,\n",
       " 't_in_timesteps': array(0),\n",
       " 'g': array([0., 0., 0.]) * siemens,\n",
       " 'E': array([0., 0., 0.]) * volt,\n",
       " 'total_error': array([0., 0., 0.]) * amp2}"
      ]
     },
     "execution_count": 18,
     "metadata": {},
     "output_type": "execute_result"
    }
   ],
   "source": [
    "neurons.get_states()"
   ]
  },
  {
   "cell_type": "code",
   "execution_count": 19,
   "metadata": {},
   "outputs": [
    {
     "data": {
      "text/plain": [
       "{'N': array(3),\n",
       " 'i': array([0, 1, 2], dtype=int32),\n",
       " 't': 0. * second,\n",
       " 'dt': 100. * usecond,\n",
       " 't_in_timesteps': array(0),\n",
       " 'g': array([18.0869973, 18.8373085, 18.8373085]) * nsiemens,\n",
       " 'E': array([25.0218013, 98.9559934, 98.9559934]) * mvolt,\n",
       " 'total_error': array([0., 0., 0.]) * amp2}"
      ]
     },
     "execution_count": 19,
     "metadata": {},
     "output_type": "execute_result"
    }
   ],
   "source": [
    "restore()\n",
    "neurons.set_states(d, units=False)\n",
    "neurons.get_states()"
   ]
  },
  {
   "cell_type": "code",
   "execution_count": 20,
   "metadata": {},
   "outputs": [],
   "source": [
    "run(duration, namespace = {})"
   ]
  },
  {
   "cell_type": "code",
   "execution_count": 21,
   "metadata": {},
   "outputs": [
    {
     "data": {
      "text/plain": [
       "array([2.04818928e-19, 3.47473674e-18, 3.47473674e-18])"
      ]
     },
     "execution_count": 21,
     "metadata": {},
     "output_type": "execute_result"
    }
   ],
   "source": [
    "e = neurons.total_error/int((duration-t_start)/defaultclock.dt)\n",
    "e = mean(e.reshape((N,Ntraces)),axis=1)\n",
    "array(e)"
   ]
  },
  {
   "cell_type": "markdown",
   "metadata": {},
   "source": [
    "## All of the above into one hard-coded function"
   ]
  },
  {
   "cell_type": "code",
   "execution_count": 22,
   "metadata": {},
   "outputs": [],
   "source": [
    "start_scope()"
   ]
  },
  {
   "cell_type": "code",
   "execution_count": 23,
   "metadata": {},
   "outputs": [],
   "source": [
    "model = Equations('''\n",
    "I = g*(v-E) : amp\n",
    "g : siemens (constant)\n",
    "E : volt (constant)\n",
    "''')"
   ]
  },
  {
   "cell_type": "code",
   "execution_count": 24,
   "metadata": {},
   "outputs": [],
   "source": [
    "state_update_code = StateUpdateMethod.apply_stateupdater(model, {}, method=method)"
   ]
  },
  {
   "cell_type": "code",
   "execution_count": 25,
   "metadata": {},
   "outputs": [],
   "source": [
    "model_without_diffeq = Equations([eq for eq in model.ordered\n",
    "                                      if eq.type != DIFFERENTIAL_EQUATION])\n",
    "    \n",
    "# Add a parameter for each differential equation\n",
    "diffeq_params = Equations([SingleEquation(PARAMETER, varname, model.dimensions[varname])\n",
    "                           for varname in model.diff_eq_names])\n",
    "\n",
    "# Our new model:\n",
    "model = model_without_diffeq + diffeq_params\n",
    "\n",
    "# Replace input variable by TimedArray\n",
    "input_traces = TimedArray(input, dt = dt)"
   ]
  },
  {
   "cell_type": "code",
   "execution_count": 26,
   "metadata": {},
   "outputs": [],
   "source": [
    "input_unit = input.dim\n",
    "model = model + Equations(input_var + '= input_var(t,i % Ntraces) : '+ \"% s\" % repr(input_unit))\n",
    "\n",
    "# Add criterion with TimedArray\n",
    "output_traces = TimedArray(output, dt = dt)\n",
    "error_unit = output.dim**2\n",
    "model = model + Equations('total_error : %s' % repr(error_unit))"
   ]
  },
  {
   "cell_type": "code",
   "execution_count": 37,
   "metadata": {},
   "outputs": [],
   "source": [
    "def calc_error(func, params):\n",
    "    print(params)\n",
    "    popsize, _ = np.shape(params)\n",
    "    N = popsize\n",
    "\n",
    "#     neurons = NeuronGroup(Ntraces*N, model, method = method)\n",
    "    neurons = NeuronGroup(N, model, method = method)\n",
    "    neurons.namespace['input_var'] = input_traces\n",
    "    neurons.namespace['output_var'] = output_traces\n",
    "    neurons.namespace['t_start'] = t_start\n",
    "    neurons.namespace['Ntraces'] = Ntraces\n",
    "\n",
    "    # Record error\n",
    "    neurons.run_regularly('total_error +=  (' + output_var + '-output_var(t,i % Ntraces))**2 * int(t>=t_start)',\n",
    "                          when='end')\n",
    "\n",
    "    # Add the code doing the numerical integration\n",
    "    neurons.run_regularly(state_update_code, when='groups')\n",
    "\n",
    "    d = parameters_dict(params)\n",
    "    neurons.set_states(d, units=False)\n",
    "    run(duration, namespace = {})\n",
    "\n",
    "    e = neurons.total_error/int((duration-t_start)/defaultclock.dt)\n",
    "    e = mean(e.reshape((N,Ntraces)),axis=1)\n",
    "    \n",
    "    return array(e)"
   ]
  },
  {
   "cell_type": "code",
   "execution_count": 58,
   "metadata": {},
   "outputs": [],
   "source": [
    "def error_pass(x):\n",
    "    print('x', x)\n",
    "    pass"
   ]
  },
  {
   "cell_type": "code",
   "execution_count": 59,
   "metadata": {},
   "outputs": [
    {
     "name": "stdout",
     "output_type": "stream",
     "text": [
      "[[1.12735759e-08 8.81556360e-02]\n",
      " [9.04858783e-09 8.03343489e-02]\n",
      " [1.60635907e-08 1.59710651e-03]\n",
      " [1.66254878e-09 2.95479385e-02]\n",
      " [1.80869973e-08 2.50218013e-02]]\n"
     ]
    },
    {
     "data": {
      "text/plain": [
       "array([9.87696585e-19, 5.28401654e-19, 6.58192637e-22, 2.41325473e-21,\n",
       "       2.04818928e-19])"
      ]
     },
     "execution_count": 59,
     "metadata": {},
     "output_type": "execute_result"
    }
   ],
   "source": [
    "calc_error(error_pass, params2)"
   ]
  },
  {
   "cell_type": "markdown",
   "metadata": {},
   "source": [
    "## Try The Same with Differential Evolution from Scipy"
   ]
  },
  {
   "cell_type": "code",
   "execution_count": 60,
   "metadata": {},
   "outputs": [],
   "source": [
    "start_scope()"
   ]
  },
  {
   "cell_type": "code",
   "execution_count": 61,
   "metadata": {},
   "outputs": [],
   "source": [
    "model = Equations('''\n",
    "I = g*(v-E) : amp\n",
    "g : siemens (constant)\n",
    "E : volt (constant)\n",
    "''')"
   ]
  },
  {
   "cell_type": "code",
   "execution_count": 62,
   "metadata": {},
   "outputs": [],
   "source": [
    "state_update_code = StateUpdateMethod.apply_stateupdater(model, {}, method=method)"
   ]
  },
  {
   "cell_type": "code",
   "execution_count": 63,
   "metadata": {},
   "outputs": [],
   "source": [
    "model_without_diffeq = Equations([eq for eq in model.ordered\n",
    "                                      if eq.type != DIFFERENTIAL_EQUATION])\n",
    "    \n",
    "# Add a parameter for each differential equation\n",
    "diffeq_params = Equations([SingleEquation(PARAMETER, varname, model.dimensions[varname])\n",
    "                           for varname in model.diff_eq_names])\n",
    "\n",
    "# Our new model:\n",
    "model = model_without_diffeq + diffeq_params\n",
    "\n",
    "# Replace input variable by TimedArray\n",
    "input_traces = TimedArray(input, dt = dt)"
   ]
  },
  {
   "cell_type": "code",
   "execution_count": 64,
   "metadata": {},
   "outputs": [],
   "source": [
    "input_unit = input.dim\n",
    "model = model + Equations(input_var + '= input_var(t,i % Ntraces) : '+ \"% s\" % repr(input_unit))\n",
    "\n",
    "# Add criterion with TimedArray\n",
    "output_traces = TimedArray(output, dt = dt)\n",
    "error_unit = output.dim**2\n",
    "model = model + Equations('total_error : %s' % repr(error_unit))"
   ]
  },
  {
   "cell_type": "code",
   "execution_count": 65,
   "metadata": {},
   "outputs": [],
   "source": [
    "bounds = [(1, 30), (-20, 100)]"
   ]
  },
  {
   "cell_type": "code",
   "execution_count": 66,
   "metadata": {},
   "outputs": [
    {
     "name": "stdout",
     "output_type": "stream",
     "text": [
      "[[ 16.57982965  -7.40600637]\n",
      " [ 25.21027213  88.7411211 ]\n",
      " [ 24.36539379  36.27742011]\n",
      " [ 11.64744056  29.68152798]\n",
      " [ 18.23492342  52.55453932]\n",
      " [ 20.93911297  80.3428974 ]\n",
      " [  9.47275948  -0.55806989]\n",
      " [ 29.73369066  40.70953223]\n",
      " [ 23.3569819   85.58504562]\n",
      " [ 20.28635088  19.48372407]\n",
      " [  1.38290414   2.57856464]\n",
      " [  4.44705892  44.06776417]\n",
      " [ 26.92615721  58.01988381]\n",
      " [  6.96965232   6.570712  ]\n",
      " [ 28.30756136  60.3937154 ]\n",
      " [ 21.49800574  95.29577171]\n",
      " [ 14.668472    71.76181524]\n",
      " [ 16.38632382 -19.3438586 ]\n",
      " [ 13.68408973 -15.46359869]\n",
      " [  5.49237528  15.0145402 ]\n",
      " [ 22.98389252  11.9258756 ]\n",
      " [ 18.62937996  66.61316497]\n",
      " [ 13.45328302  32.49602967]\n",
      " [  2.05265169  78.227641  ]\n",
      " [  6.16431893  97.30624632]\n",
      " [  9.80121835 -11.61127095]\n",
      " [ 27.74930672  50.42998294]\n",
      " [  3.50294819  75.36879579]\n",
      " [  8.54123186  27.86489718]\n",
      " [ 11.51732874  22.87799138]]\n",
      "[[ 1.30544879e+00 -1.47156880e+00]\n",
      " [ 4.38218559e+00  1.04576299e+01]\n",
      " [ 6.87384510e+00 -5.16052842e-02]\n",
      " [ 2.72426534e+01  3.32208102e+01]\n",
      " [ 3.62509137e+00  1.26768166e+01]\n",
      " [ 2.09391130e+01  4.59916604e+00]\n",
      " [ 4.09200748e+00  4.30696433e+01]\n",
      " [ 2.97336907e+01  6.48699355e+01]\n",
      " [ 9.29177945e+00  4.37632327e+01]\n",
      " [ 1.51685951e+01  8.83722096e+00]\n",
      " [ 8.18574557e+00 -4.85310628e+00]\n",
      " [ 5.64424411e+00  1.76314742e+01]\n",
      " [ 4.47590271e+00  5.80198838e+01]\n",
      " [ 7.11933691e+00 -2.42939554e+00]\n",
      " [ 1.00529323e+01  3.10866187e+01]\n",
      " [ 1.88637269e+01 -1.00978266e+01]\n",
      " [ 1.46684720e+01  4.63231533e+01]\n",
      " [ 2.51109595e+01  4.28043020e+00]\n",
      " [ 2.26232458e+00 -2.44803152e+00]\n",
      " [ 1.58167190e+01 -1.22674670e+01]\n",
      " [ 1.22373934e+01  1.19258756e+01]\n",
      " [ 8.89307990e+00 -1.27053013e+00]\n",
      " [ 3.06853044e+00 -8.24513801e+00]\n",
      " [ 1.85028963e+00 -1.42814316e+01]\n",
      " [ 2.47863906e+01  2.06065755e+01]\n",
      " [ 1.79117027e+01  3.85073475e+01]\n",
      " [ 1.54586718e+00  2.60281461e+01]\n",
      " [ 3.58938975e+00  1.85859742e+01]\n",
      " [ 6.93075462e+00  2.92870903e+01]\n",
      " [ 1.15173287e+01  3.88180743e+01]]\n",
      "x [ 6.8738451  -0.05160528]\n",
      "x [ 6.8738451  -0.05160528]\n",
      "x [ 6.87384511 -0.05160528]\n"
     ]
    },
    {
     "ename": "TypeError",
     "evalue": "unsupported operand type(s) for -: 'NoneType' and 'NoneType'",
     "output_type": "error",
     "traceback": [
      "\u001b[0;31m---------------------------------------------------------------------------\u001b[0m",
      "\u001b[0;31mTypeError\u001b[0m                                 Traceback (most recent call last)",
      "\u001b[0;32m<ipython-input-66-a10ec6bf02e2>\u001b[0m in \u001b[0;36m<module>\u001b[0;34m\u001b[0m\n\u001b[0;32m----> 1\u001b[0;31m \u001b[0mdifferential_evolution\u001b[0m\u001b[0;34m(\u001b[0m\u001b[0merror_pass\u001b[0m\u001b[0;34m,\u001b[0m \u001b[0mbounds\u001b[0m\u001b[0;34m,\u001b[0m \u001b[0mupdating\u001b[0m\u001b[0;34m=\u001b[0m\u001b[0;34m'deferred'\u001b[0m\u001b[0;34m,\u001b[0m \u001b[0mworkers\u001b[0m\u001b[0;34m=\u001b[0m\u001b[0mcalc_error\u001b[0m\u001b[0;34m,\u001b[0m \u001b[0mmaxiter\u001b[0m\u001b[0;34m=\u001b[0m\u001b[0;36m1\u001b[0m\u001b[0;34m)\u001b[0m\u001b[0;34m\u001b[0m\u001b[0;34m\u001b[0m\u001b[0m\n\u001b[0m",
      "\u001b[0;32m~/anaconda3/envs/brian_opt/lib/python3.7/site-packages/scipy/optimize/_differentialevolution.py\u001b[0m in \u001b[0;36mdifferential_evolution\u001b[0;34m(func, bounds, args, strategy, maxiter, popsize, tol, mutation, recombination, seed, callback, disp, polish, init, atol, updating, workers)\u001b[0m\n\u001b[1;32m    270\u001b[0m                                      \u001b[0mupdating\u001b[0m\u001b[0;34m=\u001b[0m\u001b[0mupdating\u001b[0m\u001b[0;34m,\u001b[0m\u001b[0;34m\u001b[0m\u001b[0;34m\u001b[0m\u001b[0m\n\u001b[1;32m    271\u001b[0m                                      workers=workers) as solver:\n\u001b[0;32m--> 272\u001b[0;31m         \u001b[0mret\u001b[0m \u001b[0;34m=\u001b[0m \u001b[0msolver\u001b[0m\u001b[0;34m.\u001b[0m\u001b[0msolve\u001b[0m\u001b[0;34m(\u001b[0m\u001b[0;34m)\u001b[0m\u001b[0;34m\u001b[0m\u001b[0;34m\u001b[0m\u001b[0m\n\u001b[0m\u001b[1;32m    273\u001b[0m \u001b[0;34m\u001b[0m\u001b[0m\n\u001b[1;32m    274\u001b[0m     \u001b[0;32mreturn\u001b[0m \u001b[0mret\u001b[0m\u001b[0;34m\u001b[0m\u001b[0;34m\u001b[0m\u001b[0m\n",
      "\u001b[0;32m~/anaconda3/envs/brian_opt/lib/python3.7/site-packages/scipy/optimize/_differentialevolution.py\u001b[0m in \u001b[0;36msolve\u001b[0;34m(self)\u001b[0m\n\u001b[1;32m    731\u001b[0m                               \u001b[0mnp\u001b[0m\u001b[0;34m.\u001b[0m\u001b[0mcopy\u001b[0m\u001b[0;34m(\u001b[0m\u001b[0mDE_result\u001b[0m\u001b[0;34m.\u001b[0m\u001b[0mx\u001b[0m\u001b[0;34m)\u001b[0m\u001b[0;34m,\u001b[0m\u001b[0;34m\u001b[0m\u001b[0;34m\u001b[0m\u001b[0m\n\u001b[1;32m    732\u001b[0m                               \u001b[0mmethod\u001b[0m\u001b[0;34m=\u001b[0m\u001b[0;34m'L-BFGS-B'\u001b[0m\u001b[0;34m,\u001b[0m\u001b[0;34m\u001b[0m\u001b[0;34m\u001b[0m\u001b[0m\n\u001b[0;32m--> 733\u001b[0;31m                               bounds=self.limits.T)\n\u001b[0m\u001b[1;32m    734\u001b[0m \u001b[0;34m\u001b[0m\u001b[0m\n\u001b[1;32m    735\u001b[0m             \u001b[0mself\u001b[0m\u001b[0;34m.\u001b[0m\u001b[0m_nfev\u001b[0m \u001b[0;34m+=\u001b[0m \u001b[0mresult\u001b[0m\u001b[0;34m.\u001b[0m\u001b[0mnfev\u001b[0m\u001b[0;34m\u001b[0m\u001b[0;34m\u001b[0m\u001b[0m\n",
      "\u001b[0;32m~/anaconda3/envs/brian_opt/lib/python3.7/site-packages/scipy/optimize/_minimize.py\u001b[0m in \u001b[0;36mminimize\u001b[0;34m(fun, x0, args, method, jac, hess, hessp, bounds, constraints, tol, callback, options)\u001b[0m\n\u001b[1;32m    599\u001b[0m     \u001b[0;32melif\u001b[0m \u001b[0mmeth\u001b[0m \u001b[0;34m==\u001b[0m \u001b[0;34m'l-bfgs-b'\u001b[0m\u001b[0;34m:\u001b[0m\u001b[0;34m\u001b[0m\u001b[0;34m\u001b[0m\u001b[0m\n\u001b[1;32m    600\u001b[0m         return _minimize_lbfgsb(fun, x0, args, jac, bounds,\n\u001b[0;32m--> 601\u001b[0;31m                                 callback=callback, **options)\n\u001b[0m\u001b[1;32m    602\u001b[0m     \u001b[0;32melif\u001b[0m \u001b[0mmeth\u001b[0m \u001b[0;34m==\u001b[0m \u001b[0;34m'tnc'\u001b[0m\u001b[0;34m:\u001b[0m\u001b[0;34m\u001b[0m\u001b[0;34m\u001b[0m\u001b[0m\n\u001b[1;32m    603\u001b[0m         return _minimize_tnc(fun, x0, args, jac, bounds, callback=callback,\n",
      "\u001b[0;32m~/anaconda3/envs/brian_opt/lib/python3.7/site-packages/scipy/optimize/lbfgsb.py\u001b[0m in \u001b[0;36m_minimize_lbfgsb\u001b[0;34m(fun, x0, args, jac, bounds, disp, maxcor, ftol, gtol, eps, maxfun, maxiter, iprint, callback, maxls, **unknown_options)\u001b[0m\n\u001b[1;32m    333\u001b[0m             \u001b[0;31m# until the completion of the current minimization iteration.\u001b[0m\u001b[0;34m\u001b[0m\u001b[0;34m\u001b[0m\u001b[0;34m\u001b[0m\u001b[0m\n\u001b[1;32m    334\u001b[0m             \u001b[0;31m# Overwrite f and g:\u001b[0m\u001b[0;34m\u001b[0m\u001b[0;34m\u001b[0m\u001b[0;34m\u001b[0m\u001b[0m\n\u001b[0;32m--> 335\u001b[0;31m             \u001b[0mf\u001b[0m\u001b[0;34m,\u001b[0m \u001b[0mg\u001b[0m \u001b[0;34m=\u001b[0m \u001b[0mfunc_and_grad\u001b[0m\u001b[0;34m(\u001b[0m\u001b[0mx\u001b[0m\u001b[0;34m)\u001b[0m\u001b[0;34m\u001b[0m\u001b[0;34m\u001b[0m\u001b[0m\n\u001b[0m\u001b[1;32m    336\u001b[0m         \u001b[0;32melif\u001b[0m \u001b[0mtask_str\u001b[0m\u001b[0;34m.\u001b[0m\u001b[0mstartswith\u001b[0m\u001b[0;34m(\u001b[0m\u001b[0;34mb'NEW_X'\u001b[0m\u001b[0;34m)\u001b[0m\u001b[0;34m:\u001b[0m\u001b[0;34m\u001b[0m\u001b[0;34m\u001b[0m\u001b[0m\n\u001b[1;32m    337\u001b[0m             \u001b[0;31m# new iteration\u001b[0m\u001b[0;34m\u001b[0m\u001b[0;34m\u001b[0m\u001b[0;34m\u001b[0m\u001b[0m\n",
      "\u001b[0;32m~/anaconda3/envs/brian_opt/lib/python3.7/site-packages/scipy/optimize/lbfgsb.py\u001b[0m in \u001b[0;36mfunc_and_grad\u001b[0;34m(x)\u001b[0m\n\u001b[1;32m    279\u001b[0m         \u001b[0;32mdef\u001b[0m \u001b[0mfunc_and_grad\u001b[0m\u001b[0;34m(\u001b[0m\u001b[0mx\u001b[0m\u001b[0;34m)\u001b[0m\u001b[0;34m:\u001b[0m\u001b[0;34m\u001b[0m\u001b[0;34m\u001b[0m\u001b[0m\n\u001b[1;32m    280\u001b[0m             \u001b[0mf\u001b[0m \u001b[0;34m=\u001b[0m \u001b[0mfun\u001b[0m\u001b[0;34m(\u001b[0m\u001b[0mx\u001b[0m\u001b[0;34m,\u001b[0m \u001b[0;34m*\u001b[0m\u001b[0margs\u001b[0m\u001b[0;34m)\u001b[0m\u001b[0;34m\u001b[0m\u001b[0;34m\u001b[0m\u001b[0m\n\u001b[0;32m--> 281\u001b[0;31m             \u001b[0mg\u001b[0m \u001b[0;34m=\u001b[0m \u001b[0m_approx_fprime_helper\u001b[0m\u001b[0;34m(\u001b[0m\u001b[0mx\u001b[0m\u001b[0;34m,\u001b[0m \u001b[0mfun\u001b[0m\u001b[0;34m,\u001b[0m \u001b[0mepsilon\u001b[0m\u001b[0;34m,\u001b[0m \u001b[0margs\u001b[0m\u001b[0;34m=\u001b[0m\u001b[0margs\u001b[0m\u001b[0;34m,\u001b[0m \u001b[0mf0\u001b[0m\u001b[0;34m=\u001b[0m\u001b[0mf\u001b[0m\u001b[0;34m)\u001b[0m\u001b[0;34m\u001b[0m\u001b[0;34m\u001b[0m\u001b[0m\n\u001b[0m\u001b[1;32m    282\u001b[0m             \u001b[0;32mreturn\u001b[0m \u001b[0mf\u001b[0m\u001b[0;34m,\u001b[0m \u001b[0mg\u001b[0m\u001b[0;34m\u001b[0m\u001b[0;34m\u001b[0m\u001b[0m\n\u001b[1;32m    283\u001b[0m     \u001b[0;32melse\u001b[0m\u001b[0;34m:\u001b[0m\u001b[0;34m\u001b[0m\u001b[0;34m\u001b[0m\u001b[0m\n",
      "\u001b[0;32m~/anaconda3/envs/brian_opt/lib/python3.7/site-packages/scipy/optimize/optimize.py\u001b[0m in \u001b[0;36m_approx_fprime_helper\u001b[0;34m(xk, f, epsilon, args, f0)\u001b[0m\n\u001b[1;32m    668\u001b[0m         \u001b[0mei\u001b[0m\u001b[0;34m[\u001b[0m\u001b[0mk\u001b[0m\u001b[0;34m]\u001b[0m \u001b[0;34m=\u001b[0m \u001b[0;36m1.0\u001b[0m\u001b[0;34m\u001b[0m\u001b[0;34m\u001b[0m\u001b[0m\n\u001b[1;32m    669\u001b[0m         \u001b[0md\u001b[0m \u001b[0;34m=\u001b[0m \u001b[0mepsilon\u001b[0m \u001b[0;34m*\u001b[0m \u001b[0mei\u001b[0m\u001b[0;34m\u001b[0m\u001b[0;34m\u001b[0m\u001b[0m\n\u001b[0;32m--> 670\u001b[0;31m         \u001b[0mgrad\u001b[0m\u001b[0;34m[\u001b[0m\u001b[0mk\u001b[0m\u001b[0;34m]\u001b[0m \u001b[0;34m=\u001b[0m \u001b[0;34m(\u001b[0m\u001b[0mf\u001b[0m\u001b[0;34m(\u001b[0m\u001b[0;34m*\u001b[0m\u001b[0;34m(\u001b[0m\u001b[0;34m(\u001b[0m\u001b[0mxk\u001b[0m \u001b[0;34m+\u001b[0m \u001b[0md\u001b[0m\u001b[0;34m,\u001b[0m\u001b[0;34m)\u001b[0m \u001b[0;34m+\u001b[0m \u001b[0margs\u001b[0m\u001b[0;34m)\u001b[0m\u001b[0;34m)\u001b[0m \u001b[0;34m-\u001b[0m \u001b[0mf0\u001b[0m\u001b[0;34m)\u001b[0m \u001b[0;34m/\u001b[0m \u001b[0md\u001b[0m\u001b[0;34m[\u001b[0m\u001b[0mk\u001b[0m\u001b[0;34m]\u001b[0m\u001b[0;34m\u001b[0m\u001b[0;34m\u001b[0m\u001b[0m\n\u001b[0m\u001b[1;32m    671\u001b[0m         \u001b[0mei\u001b[0m\u001b[0;34m[\u001b[0m\u001b[0mk\u001b[0m\u001b[0;34m]\u001b[0m \u001b[0;34m=\u001b[0m \u001b[0;36m0.0\u001b[0m\u001b[0;34m\u001b[0m\u001b[0;34m\u001b[0m\u001b[0m\n\u001b[1;32m    672\u001b[0m     \u001b[0;32mreturn\u001b[0m \u001b[0mgrad\u001b[0m\u001b[0;34m\u001b[0m\u001b[0;34m\u001b[0m\u001b[0m\n",
      "\u001b[0;31mTypeError\u001b[0m: unsupported operand type(s) for -: 'NoneType' and 'NoneType'"
     ]
    }
   ],
   "source": [
    "differential_evolution(error_pass, bounds, updating='deferred', workers=calc_error, maxiter=1)"
   ]
  },
  {
   "cell_type": "code",
   "execution_count": null,
   "metadata": {},
   "outputs": [],
   "source": []
  }
 ],
 "metadata": {
  "kernelspec": {
   "display_name": "brian_opt",
   "language": "python",
   "name": "brian_opt"
  },
  "language_info": {
   "codemirror_mode": {
    "name": "ipython",
    "version": 3
   },
   "file_extension": ".py",
   "mimetype": "text/x-python",
   "name": "python",
   "nbconvert_exporter": "python",
   "pygments_lexer": "ipython3",
   "version": "3.7.3"
  }
 },
 "nbformat": 4,
 "nbformat_minor": 2
}
