{
 "cells": [
  {
   "cell_type": "markdown",
   "metadata": {},
   "source": [
    "# Standalone Modelfitting Dev"
   ]
  },
  {
   "cell_type": "code",
   "execution_count": 1,
   "metadata": {},
   "outputs": [],
   "source": [
    "import os\n",
    "import time\n",
    "################################################################################\n",
    "# Helper functions that expose some internal Brian machinery\n",
    "def initialize_parameter(variableview, value):\n",
    "    variable = variableview.variable\n",
    "    array_name = device.get_array_name(variable)\n",
    "    static_array_name = device.static_array(array_name, value)\n",
    "    device.main_queue.append(('set_by_array', (array_name,\n",
    "                                               static_array_name,\n",
    "                                               False)))\n",
    "    return static_array_name\n",
    "\n",
    "\n",
    "def set_parameter_value(identifier, value):\n",
    "    print(identifier)\n",
    "    np.atleast_1d(value).tofile(os.path.join(device.project_dir,\n",
    "                                             'static_arrays',\n",
    "                                             identifier))\n",
    "\n",
    "def run_again():\n",
    "    device.run(device.project_dir, with_output=False, run_args=[])"
   ]
  },
  {
   "cell_type": "code",
   "execution_count": 2,
   "metadata": {},
   "outputs": [],
   "source": [
    "from brian2 import set_device, device"
   ]
  },
  {
   "cell_type": "code",
   "execution_count": 3,
   "metadata": {},
   "outputs": [],
   "source": [
    "from brian2 import *\n",
    "set_device('cpp_standalone', directory='parallel', clean=False)\n"
   ]
  },
  {
   "cell_type": "code",
   "execution_count": 4,
   "metadata": {},
   "outputs": [],
   "source": [
    "# num_neurons = 500\n",
    "# duration = 2*second\n",
    "\n",
    "# # Parameters\n",
    "# area = 20000*umetre**2\n",
    "# Cm = 1*ufarad*cm**-2 * area\n",
    "# gl = 5e-5*siemens*cm**-2 * area\n",
    "# El = -65*mV\n",
    "# EK = -90*mV\n",
    "# ENa = 50*mV\n",
    "# g_na = 100*msiemens*cm**-2 * area\n",
    "# g_kd = 30*msiemens*cm**-2 * area\n",
    "# VT = -63*mV\n",
    "\n",
    "# # The model\n",
    "# eqs = Equations('''\n",
    "# dv/dt = (gl*(El-v) - g_na*(m*m*m)*h*(v-ENa) - g_kd*(n*n*n*n)*(v-EK) + I)/Cm : volt\n",
    "# dm/dt = 0.32*(mV**-1)*(13.*mV-v+VT)/\n",
    "#     (exp((13.*mV-v+VT)/(4.*mV))-1.)/ms*(1-m)-0.28*(mV**-1)*(v-VT-40.*mV)/\n",
    "#     (exp((v-VT-40.*mV)/(5.*mV))-1.)/ms*m : 1\n",
    "# dn/dt = 0.032*(mV**-1)*(15.*mV-v+VT)/\n",
    "#     (exp((15.*mV-v+VT)/(5.*mV))-1.)/ms*(1.-n)-.5*exp((10.*mV-v+VT)/(40.*mV))/ms*n : 1\n",
    "# dh/dt = 0.128*exp((17.*mV-v+VT)/(18.*mV))/ms*(1.-h)-4./(1+exp((40.*mV-v+VT)/(5.*mV)))/ms*h : 1\n",
    "# I : amp\n",
    "# ''')\n",
    "# # Threshold and refractoriness are only used for spike counting\n",
    "# group = NeuronGroup(num_neurons, eqs,\n",
    "#                     threshold='v > -40*mV',\n",
    "#                     refractory='v > -40*mV',\n",
    "#                     method='exponential_euler', name='neurongroup')\n",
    "# group.v = El\n",
    "# param_I = initialize_parameter(group.I, np.zeros(num_neurons))\n",
    "\n",
    "# monitor = SpikeMonitor(group, name='spikemonitor')\n",
    "# run(duration)"
   ]
  },
  {
   "cell_type": "code",
   "execution_count": 5,
   "metadata": {},
   "outputs": [],
   "source": [
    "# # Run it again\n",
    "# start = time.time()\n",
    "# set_parameter_value(param_I, 0.7*nA *np.arange(num_neurons) / num_neurons)\n",
    "# run_again()\n",
    "# print('Took: {:.3f}s'.format(time.time() - start))"
   ]
  },
  {
   "cell_type": "code",
   "execution_count": 6,
   "metadata": {},
   "outputs": [],
   "source": [
    "# 0.7*nA *np.arange(num_neurons) / num_neurons"
   ]
  },
  {
   "cell_type": "markdown",
   "metadata": {},
   "source": [
    "## Example with Parameters and Input Traces to be set"
   ]
  },
  {
   "cell_type": "code",
   "execution_count": 7,
   "metadata": {},
   "outputs": [],
   "source": [
    "start_scope()"
   ]
  },
  {
   "cell_type": "code",
   "execution_count": 8,
   "metadata": {},
   "outputs": [],
   "source": [
    "from brian2 import *\n",
    "set_device('cpp_standalone', directory='parallel', clean=False)"
   ]
  },
  {
   "cell_type": "code",
   "execution_count": 9,
   "metadata": {},
   "outputs": [],
   "source": [
    "input_traces = zeros((10,5))*volt\n",
    "for i in range(5):\n",
    "    input_traces[5:,i]=i*10*mV\n",
    "\n",
    "output_traces = 10*nS*input_traces"
   ]
  },
  {
   "cell_type": "code",
   "execution_count": 10,
   "metadata": {},
   "outputs": [
    {
     "data": {
      "text/latex": [
       "$\\left[\\begin{matrix}0.0 & 0.0 & 0.0 & 0.0 & 0.0\\\\0.0 & 0.0 & 0.0 & 0.0 & 0.0\\\\0.0 & 0.0 & 0.0 & 0.0 & 0.0\\\\0.0 & 0.0 & 0.0 & 0.0 & 0.0\\\\0.0 & 0.0 & 0.0 & 0.0 & 0.0\\\\0.0 & 10.0 & 20.0 & 30.0 & 40.0\\\\0.0 & 10.0 & 20.0 & 30.0 & 40.0\\\\0.0 & 10.0 & 20.0 & 30.0 & 40.0\\\\0.0 & 10.0 & 20.0 & 30.0 & 40.0\\\\0.0 & 10.0 & 20.0 & 30.0 & 40.0\\end{matrix}\\right]\\,\\mathrm{m}\\,\\mathrm{V}$"
      ],
      "text/plain": [
       "array([[ 0.,  0.,  0.,  0.,  0.],\n",
       "       [ 0.,  0.,  0.,  0.,  0.],\n",
       "       [ 0.,  0.,  0.,  0.,  0.],\n",
       "       [ 0.,  0.,  0.,  0.,  0.],\n",
       "       [ 0.,  0.,  0.,  0.,  0.],\n",
       "       [ 0., 10., 20., 30., 40.],\n",
       "       [ 0., 10., 20., 30., 40.],\n",
       "       [ 0., 10., 20., 30., 40.],\n",
       "       [ 0., 10., 20., 30., 40.],\n",
       "       [ 0., 10., 20., 30., 40.]]) * mvolt"
      ]
     },
     "execution_count": 10,
     "metadata": {},
     "output_type": "execute_result"
    }
   ],
   "source": [
    "input_traces"
   ]
  },
  {
   "cell_type": "code",
   "execution_count": 11,
   "metadata": {},
   "outputs": [],
   "source": [
    "area = 20000*umetre**2\n",
    "Cm = 1*ufarad*cm**-2 * area\n",
    "El = -65*mV\n",
    "EK = -90*mV\n",
    "ENa = 50*mV\n",
    "VT = -63*mV"
   ]
  },
  {
   "cell_type": "code",
   "execution_count": 12,
   "metadata": {},
   "outputs": [],
   "source": [
    "# Generate a step-current input and an \"experimental\" voltage trace\n",
    "dt = 0.01*ms\n",
    "input_current = np.hstack([np.zeros(int(5*ms/dt)), np.ones(int(5*ms/dt)), np.zeros(int(5*ms/dt))])*nA"
   ]
  },
  {
   "cell_type": "code",
   "execution_count": 13,
   "metadata": {},
   "outputs": [],
   "source": [
    "input_current = np.concatenate([np.zeros(int(5*ms/dt)), np.ones(int(5*ms/dt)), np.zeros(int(5*ms/dt))]) * nA\n"
   ]
  },
  {
   "cell_type": "code",
   "execution_count": 14,
   "metadata": {},
   "outputs": [],
   "source": [
    "x = np.concatenate([np.zeros(int(5*ms/dt)), np.ones(int(5*ms/dt)), np.zeros(int(5*ms/dt))])\n",
    "y = np.concatenate([np.zeros(int(5*ms/dt)), np.ones(int(5*ms/dt))*2, np.zeros(int(5*ms/dt))])"
   ]
  },
  {
   "cell_type": "code",
   "execution_count": 15,
   "metadata": {},
   "outputs": [
    {
     "data": {
      "text/plain": [
       "[<matplotlib.lines.Line2D at 0x7ffaf7d67e10>,\n",
       " <matplotlib.lines.Line2D at 0x7ffaf7d67f60>]"
      ]
     },
     "execution_count": 15,
     "metadata": {},
     "output_type": "execute_result"
    },
    {
     "data": {
      "image/png": "[encoded data removed]",
      "text/plain": [
       "<Figure size 432x288 with 1 Axes>"
      ]
     },
     "metadata": {
      "needs_background": "light"
     },
     "output_type": "display_data"
    }
   ],
   "source": [
    "input_current2 = np.stack((x, y)).transpose() *nA\n",
    "plot(input_current2)\n",
    "# plot(input_current2[0])\n",
    "# plot(input_current2[1]);"
   ]
  },
  {
   "cell_type": "code",
   "execution_count": 16,
   "metadata": {},
   "outputs": [],
   "source": [
    "# input_current2"
   ]
  },
  {
   "cell_type": "code",
   "execution_count": 17,
   "metadata": {},
   "outputs": [],
   "source": [
    "params_correct = {'gl': float(5e-5*siemens*cm**-2 * area),\n",
    "                  'g_na': float(100*msiemens*cm**-2 * area),\n",
    "                  'g_kd': float(30*msiemens*cm**-2 * area)}\n",
    "\n",
    "defaultclock.dt = dt\n",
    "I = TimedArray(input_current, dt=dt)"
   ]
  },
  {
   "cell_type": "code",
   "execution_count": 18,
   "metadata": {},
   "outputs": [],
   "source": [
    "# The model\n",
    "eqsHH = Equations('''\n",
    "dv/dt = (gl*(El-v) - g_na*(m*m*m)*h*(v-ENa) - g_kd*(n*n*n*n)*(v-EK) + I(t))/Cm : volt\n",
    "dm/dt = 0.32*(mV**-1)*(13.*mV-v+VT)/\n",
    "    (exp((13.*mV-v+VT)/(4.*mV))-1.)/ms*(1-m)-0.28*(mV**-1)*(v-VT-40.*mV)/\n",
    "    (exp((v-VT-40.*mV)/(5.*mV))-1.)/ms*m : 1\n",
    "dn/dt = 0.032*(mV**-1)*(15.*mV-v+VT)/\n",
    "    (exp((15.*mV-v+VT)/(5.*mV))-1.)/ms*(1.-n)-.5*exp((10.*mV-v+VT)/(40.*mV))/ms*n : 1\n",
    "dh/dt = 0.128*exp((17.*mV-v+VT)/(18.*mV))/ms*(1.-h)-4./(1+exp((40.*mV-v+VT)/(5.*mV)))/ms*h : 1\n",
    "g_na : siemens (constant)\n",
    "g_kd : siemens (constant)\n",
    "gl   : siemens (constant)\n",
    "''')"
   ]
  },
  {
   "cell_type": "code",
   "execution_count": 19,
   "metadata": {},
   "outputs": [],
   "source": [
    "duration = 20*msecond\n",
    "\n",
    "n_param_set = 2\n",
    "Ntraces  = 2\n",
    "num_neurons = Ntraces * n_param_set"
   ]
  },
  {
   "cell_type": "code",
   "execution_count": 20,
   "metadata": {},
   "outputs": [],
   "source": [
    "G = NeuronGroup(num_neurons, eqsHH, method='exponential_euler')\n",
    "G.v = El\n",
    "mon = StateMonitor(G, 'v', record=0)"
   ]
  },
  {
   "cell_type": "code",
   "execution_count": 21,
   "metadata": {},
   "outputs": [
    {
     "data": {
      "text/plain": [
       "<neurongroup.gl: array([0., 0., 0., 0.]) * siemens>"
      ]
     },
     "execution_count": 21,
     "metadata": {},
     "output_type": "execute_result"
    }
   ],
   "source": [
    "G.__getattr__('gl')"
   ]
  },
  {
   "cell_type": "code",
   "execution_count": 22,
   "metadata": {},
   "outputs": [
    {
     "data": {
      "text/plain": [
       "{'N': array(4),\n",
       " 'i': array([0, 1, 2, 3], dtype=int32),\n",
       " 't': 0. * second,\n",
       " 'dt': 10. * usecond,\n",
       " 't_in_timesteps': array(0),\n",
       " 'v': array([-65., -65., -65., -65.]) * mvolt,\n",
       " 'm': array([0., 0., 0., 0.]),\n",
       " 'n': array([0., 0., 0., 0.]),\n",
       " 'h': array([0., 0., 0., 0.]),\n",
       " 'g_na': array([0., 0., 0., 0.]) * siemens,\n",
       " 'g_kd': array([0., 0., 0., 0.]) * siemens,\n",
       " 'gl': array([0., 0., 0., 0.]) * siemens}"
      ]
     },
     "execution_count": 22,
     "metadata": {},
     "output_type": "execute_result"
    }
   ],
   "source": [
    "G.get_states()"
   ]
  },
  {
   "cell_type": "code",
   "execution_count": 23,
   "metadata": {},
   "outputs": [],
   "source": [
    "variable = G.gl.variable"
   ]
  },
  {
   "cell_type": "code",
   "execution_count": 24,
   "metadata": {},
   "outputs": [],
   "source": [
    "# device.get_array_name(variable)"
   ]
  },
  {
   "cell_type": "code",
   "execution_count": 25,
   "metadata": {},
   "outputs": [
    {
     "data": {
      "text/plain": [
       "{'g_kd', 'g_na', 'gl'}"
      ]
     },
     "execution_count": 25,
     "metadata": {},
     "output_type": "execute_result"
    }
   ],
   "source": [
    "eqsHH.parameter_names"
   ]
  },
  {
   "cell_type": "code",
   "execution_count": 26,
   "metadata": {},
   "outputs": [],
   "source": [
    "# par_init={\n",
    "# 'param_g_na': initialize_parameter(G.g_na, np.ones(num_neurons) * params_correct['g_na'] * 2),\n",
    "# 'param_g_kd': initialize_parameter(G.g_kd, np.ones(num_neurons) * params_correct['g_kd'] * 2),\n",
    "# 'param_gl': initialize_parameter(G.gl, np.ones(num_neurons) * params_correct['gl'] * 2),\n",
    "# }\n",
    "\n",
    "par_init={\n",
    "'param_g_na': initialize_parameter(G.g_na, np.ones(num_neurons)* params_correct['g_na'] * 2),\n",
    "'param_g_kd': initialize_parameter(G.g_kd, np.ones(num_neurons)* params_correct['g_kd'] * 2),\n",
    "'param_gl': initialize_parameter(G.gl, np.ones(num_neurons)* params_correct['gl'] * 2),\n",
    "}"
   ]
  },
  {
   "cell_type": "code",
   "execution_count": 27,
   "metadata": {},
   "outputs": [],
   "source": [
    "run(duration)\n",
    "\n",
    "voltage = mon.v[0]/mV"
   ]
  },
  {
   "cell_type": "code",
   "execution_count": 28,
   "metadata": {},
   "outputs": [],
   "source": [
    "# set_parameter_value(par_init['param_g_na'], np.ones(num_neurons) * params_correct['g_na'])\n",
    "# set_parameter_value(par_init['param_g_kd'], np.ones(num_neurons) * params_correct['g_kd'])\n",
    "# set_parameter_value(par_init['param_gl'], np.ones(num_neurons) * params_correct['gl'])"
   ]
  },
  {
   "cell_type": "code",
   "execution_count": 29,
   "metadata": {},
   "outputs": [],
   "source": [
    "params = {'param_g_na': np.ones(num_neurons) * params_correct['g_na'],\n",
    "          'param_g_kd': np.ones(num_neurons) * params_correct['g_kd'], \n",
    "          'param_gl': np.ones(num_neurons) * params_correct['gl'],}"
   ]
  },
  {
   "cell_type": "code",
   "execution_count": 30,
   "metadata": {},
   "outputs": [
    {
     "name": "stdout",
     "output_type": "stream",
     "text": [
      "_static_array__array_neurongroup_g_na [2.e-05 2.e-05 2.e-05 2.e-05]\n",
      "_static_array__array_neurongroup_g_na\n",
      "_static_array__array_neurongroup_g_kd [6.e-06 6.e-06 6.e-06 6.e-06]\n",
      "_static_array__array_neurongroup_g_kd\n",
      "_static_array__array_neurongroup_gl [1.e-08 1.e-08 1.e-08 1.e-08]\n",
      "_static_array__array_neurongroup_gl\n"
     ]
    }
   ],
   "source": [
    "for obj_name, obj_values in params.items():\n",
    "    print(par_init[obj_name], obj_values)\n",
    "    set_parameter_value(par_init[obj_name], obj_values)"
   ]
  },
  {
   "cell_type": "code",
   "execution_count": 31,
   "metadata": {},
   "outputs": [],
   "source": [
    "run_again()"
   ]
  },
  {
   "cell_type": "code",
   "execution_count": 32,
   "metadata": {},
   "outputs": [],
   "source": [
    "voltage1 = mon.v[0]/mV"
   ]
  },
  {
   "cell_type": "code",
   "execution_count": 33,
   "metadata": {},
   "outputs": [
    {
     "data": {
      "image/png": "[encoded data removed]",
      "text/plain": [
       "<Figure size 1080x720 with 2 Axes>"
      ]
     },
     "metadata": {
      "needs_background": "light"
     },
     "output_type": "display_data"
    }
   ],
   "source": [
    "fig, ax = plt.subplots(nrows=2, figsize=(15,10))\n",
    "ax[0].plot(input_current)\n",
    "ax[1].plot(np.arange(len(voltage))*dt/ms, voltage);\n",
    "ax[1].plot(np.arange(len(voltage1))*dt/ms, voltage1);"
   ]
  },
  {
   "cell_type": "markdown",
   "metadata": {},
   "source": [
    "## Check For Set Values like with Network "
   ]
  },
  {
   "cell_type": "code",
   "execution_count": 34,
   "metadata": {},
   "outputs": [],
   "source": [
    "def set_states(self, values, units=True, format='dict', level=0):\n",
    "        '''\n",
    "        Set the state variables of objects in the network.\n",
    "        Parameters\n",
    "        ----------\n",
    "        values : dict\n",
    "            A dictionary mapping object names to objects of ``format``, setting\n",
    "            the states of this object.\n",
    "        units : bool, optional\n",
    "            Whether the ``values`` include physical units. Defaults to ``True``.\n",
    "        format : str, optional\n",
    "            The format of ``values``. Defaults to ``'dict'``\n",
    "        level : int, optional\n",
    "            How much higher to go up the stack to _resolve external variables.\n",
    "            Only relevant when using string expressions to set values.\n",
    "        See Also\n",
    "        --------\n",
    "        Group.set_states\n",
    "        '''\n",
    "        # For the moment, 'dict' is the only supported format -- later this will\n",
    "        # be made into an extensible system, see github issue #306\n",
    "        for obj_name, obj_values in values.items():\n",
    "            if obj_name not in self:\n",
    "                raise KeyError((\"Network does not include a network with \"\n",
    "                                \"name '%s'.\") % obj_name)\n",
    "            self[obj_name].set_states(obj_values, units=units, format=format,\n",
    "                                     level=level+1)\n"
   ]
  },
  {
   "cell_type": "code",
   "execution_count": null,
   "metadata": {},
   "outputs": [],
   "source": [
    "\n"
   ]
  }
 ],
 "metadata": {
  "kernelspec": {
   "display_name": "brian_opt",
   "language": "python",
   "name": "brian_opt"
  },
  "language_info": {
   "codemirror_mode": {
    "name": "ipython",
    "version": 3
   },
   "file_extension": ".py",
   "mimetype": "text/x-python",
   "name": "python",
   "nbconvert_exporter": "python",
   "pygments_lexer": "ipython3",
   "version": "3.7.3"
  }
 },
 "nbformat": 4,
 "nbformat_minor": 2
}
