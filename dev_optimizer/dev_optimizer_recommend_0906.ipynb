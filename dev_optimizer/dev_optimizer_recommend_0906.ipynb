{
 "cells": [
  {
   "cell_type": "markdown",
   "metadata": {},
   "source": [
    "# Dev For Recommend Interface of Optimizer Class\n",
    "\n",
    "Has to be:\n",
    "* uniform within subclasses\n",
    "* return: parameters, error"
   ]
  },
  {
   "cell_type": "code",
   "execution_count": 1,
   "metadata": {},
   "outputs": [
    {
     "name": "stderr",
     "output_type": "stream",
     "text": [
      "WARNING    /home/alteska/anaconda3/envs/brian_opt/lib/python3.7/site-packages/sklearn/externals/joblib/__init__.py:15: DeprecationWarning: sklearn.externals.joblib is deprecated in 0.21 and will be removed in 0.23. Please import this functionality directly from joblib, which can be installed with: pip install joblib. If this warning is raised when loading pickled models, you may need to re-serialize those models with scikit-learn 0.21+.\n",
      "  warnings.warn(msg, category=DeprecationWarning)\n",
      " [py.warnings]\n"
     ]
    }
   ],
   "source": [
    "import numpy as np\n",
    "from random import choice\n",
    "from string import digits, ascii_lowercase\n",
    "from numpy.testing.utils import assert_equal, assert_raises\n",
    "from brian2tools import Optimizer, NevergradOptimizer, SkoptOptimizer"
   ]
  },
  {
   "cell_type": "code",
   "execution_count": 2,
   "metadata": {},
   "outputs": [],
   "source": [
    "labels = [\"\".join([choice(digits + ascii_lowercase)\n",
    "          for i in range(2)]) for j in range(5)]\n",
    "bounds = np.zeros((5, 2))\n",
    "bounds[:, 1] = np.arange(1, 6, 1.)"
   ]
  },
  {
   "cell_type": "markdown",
   "metadata": {},
   "source": [
    "## Nevergrad"
   ]
  },
  {
   "cell_type": "code",
   "execution_count": 3,
   "metadata": {},
   "outputs": [],
   "source": [
    "n = 2\n",
    "\n",
    "par_names, bound = labels[:n], bounds[:n]\n",
    "n_samples = np.random.randint(1, 30)\n",
    "\n",
    "n_opt = NevergradOptimizer(bounds=bound, parameter_names=par_names)\n",
    "params = n_opt.ask(n_samples)\n",
    "\n",
    "errors = np.random.rand(n_samples)\n",
    "n_opt.tell(params, errors)"
   ]
  },
  {
   "cell_type": "code",
   "execution_count": 4,
   "metadata": {},
   "outputs": [
    {
     "data": {
      "text/plain": [
       "5"
      ]
     },
     "execution_count": 4,
     "metadata": {},
     "output_type": "execute_result"
    }
   ],
   "source": [
    "er_min = (errors).argmin()\n",
    "er_min"
   ]
  },
  {
   "cell_type": "code",
   "execution_count": 5,
   "metadata": {},
   "outputs": [
    {
     "name": "stdout",
     "output_type": "stream",
     "text": [
      "[0.7399142625462615, 0.2504012656569766]\n",
      "0.04242591145917518\n"
     ]
    }
   ],
   "source": [
    "print(params[er_min])\n",
    "print(errors[er_min])"
   ]
  },
  {
   "cell_type": "code",
   "execution_count": 7,
   "metadata": {},
   "outputs": [],
   "source": [
    "res = n_opt.recommend()"
   ]
  },
  {
   "cell_type": "code",
   "execution_count": 8,
   "metadata": {},
   "outputs": [
    {
     "data": {
      "text/plain": [
       "{'mt': 0.7399142625462615, 'uj': 0.2504012656569766}"
      ]
     },
     "execution_count": 8,
     "metadata": {},
     "output_type": "execute_result"
    }
   ],
   "source": [
    "d = dict()\n",
    "for name, value in zip(par_names, res):\n",
    "    d[name] = value\n",
    "\n",
    "d"
   ]
  },
  {
   "cell_type": "code",
   "execution_count": 9,
   "metadata": {},
   "outputs": [
    {
     "name": "stdout",
     "output_type": "stream",
     "text": [
      "5\n",
      "0.04242591145917518\n"
     ]
    }
   ],
   "source": [
    "index_param, _ = np.where(np.array(params) == np.array(res))\n",
    "if index_param[0] == index_param[1]:\n",
    "    ii = index_param[0]\n",
    "\n",
    "params[ii] == list(res)\n",
    "    \n",
    "print(ii)\n",
    "print(errors[ii])"
   ]
  },
  {
   "cell_type": "markdown",
   "metadata": {},
   "source": [
    "## Skopt"
   ]
  },
  {
   "cell_type": "code",
   "execution_count": 10,
   "metadata": {},
   "outputs": [],
   "source": [
    "n=2\n",
    "par_names, bound = labels[:n], bounds[:n]\n",
    "n_samples = np.random.randint(1, 30)\n",
    "\n",
    "s_opt = SkoptOptimizer(bounds=bound, parameter_names=par_names)\n",
    "params = s_opt.ask(n_samples)\n",
    "\n",
    "errors = np.random.rand(n_samples)\n",
    "s_opt.tell(params, errors)"
   ]
  },
  {
   "cell_type": "code",
   "execution_count": 11,
   "metadata": {},
   "outputs": [
    {
     "name": "stdout",
     "output_type": "stream",
     "text": [
      "[0.008016740935688051, 0.02015089887816091]\n"
     ]
    }
   ],
   "source": [
    "res = s_opt.recommend()\n",
    "\n",
    "print(res)\n",
    "\n",
    "er_min = (errors).argmin()"
   ]
  },
  {
   "cell_type": "code",
   "execution_count": 12,
   "metadata": {},
   "outputs": [
    {
     "data": {
      "text/plain": [
       "{'mt': 0.008016740935688051, 'uj': 0.02015089887816091}"
      ]
     },
     "execution_count": 12,
     "metadata": {},
     "output_type": "execute_result"
    }
   ],
   "source": [
    "d = dict()\n",
    "for name, value in zip(par_names, res):\n",
    "    d[name] = value\n",
    "\n",
    "d"
   ]
  },
  {
   "cell_type": "code",
   "execution_count": 13,
   "metadata": {},
   "outputs": [
    {
     "name": "stdout",
     "output_type": "stream",
     "text": [
      "18\n",
      "0.08258181651962726\n"
     ]
    }
   ],
   "source": [
    "index_param, _ = np.where(np.array(params) == np.array(res))\n",
    "if index_param[0] == index_param[1]:\n",
    "    ii = index_param[0]\n",
    "\n",
    "params[ii] == list(res)\n",
    "    \n",
    "print(ii)\n",
    "print(errors[ii])"
   ]
  },
  {
   "cell_type": "code",
   "execution_count": null,
   "metadata": {},
   "outputs": [],
   "source": []
  }
 ],
 "metadata": {
  "kernelspec": {
   "display_name": "brian_opt",
   "language": "python",
   "name": "brian_opt"
  },
  "language_info": {
   "codemirror_mode": {
    "name": "ipython",
    "version": 3
   },
   "file_extension": ".py",
   "mimetype": "text/x-python",
   "name": "python",
   "nbconvert_exporter": "python",
   "pygments_lexer": "ipython3",
   "version": "3.7.3"
  }
 },
 "nbformat": 4,
 "nbformat_minor": 2
}
