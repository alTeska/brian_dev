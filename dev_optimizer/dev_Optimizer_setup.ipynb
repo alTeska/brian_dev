{
 "cells": [
  {
   "cell_type": "markdown",
   "metadata": {},
   "source": [
    "# Notebook used for dev of instrumentation setup for class NevergradOptimizer "
   ]
  },
  {
   "cell_type": "code",
   "execution_count": 1,
   "metadata": {},
   "outputs": [
    {
     "name": "stderr",
     "output_type": "stream",
     "text": [
      "WARNING    /home/alteska/anaconda3/envs/brian_opt/lib/python3.7/site-packages/sklearn/externals/joblib/__init__.py:15: DeprecationWarning: sklearn.externals.joblib is deprecated in 0.21 and will be removed in 0.23. Please import this functionality directly from joblib, which can be installed with: pip install joblib. If this warning is raised when loading pickled models, you may need to re-serialize those models with scikit-learn 0.21+.\n",
      "  warnings.warn(msg, category=DeprecationWarning)\n",
      " [py.warnings]\n"
     ]
    }
   ],
   "source": [
    "from brian2 import *\n",
    "from brian2tools import *\n",
    "from nevergrad.optimization import optimizerlib, registry\n",
    "from nevergrad import instrumentation as inst\n"
   ]
  },
  {
   "cell_type": "markdown",
   "metadata": {},
   "source": [
    "## Dev Passing the Arguments to creat bounds "
   ]
  },
  {
   "cell_type": "code",
   "execution_count": 2,
   "metadata": {},
   "outputs": [],
   "source": [
    "parameter_names = {'E', 'g'}\n",
    "bounds = [[-5, 5], [0, 10]]"
   ]
  },
  {
   "cell_type": "code",
   "execution_count": 3,
   "metadata": {},
   "outputs": [],
   "source": [
    "method='DE'"
   ]
  },
  {
   "cell_type": "code",
   "execution_count": 4,
   "metadata": {},
   "outputs": [],
   "source": [
    "arg1 = inst.var.Array(1).bounded(-5, 5).asscalar()\n",
    "arg2 = inst.var.Array(1).bounded(0, 10).asscalar()\n",
    "instrum = inst.Instrumentation(arg1, arg2)\n",
    "optim = optimizerlib.registry[method](instrumentation=instrum, budget=10000)\n"
   ]
  },
  {
   "cell_type": "code",
   "execution_count": 5,
   "metadata": {},
   "outputs": [
    {
     "name": "stdout",
     "output_type": "stream",
     "text": [
      "g [-5, 5]\n",
      "E [0, 10]\n"
     ]
    }
   ],
   "source": [
    "instruments = []\n",
    "\n",
    "for i, name in enumerate(parameter_names):\n",
    "    print(name, bounds[i])\n",
    "    vars()[name] = inst.var.Array(1).bounded(*bounds[i]).asscalar()\n",
    "    instruments.append(vars()[name])\n",
    "\n"
   ]
  },
  {
   "cell_type": "code",
   "execution_count": 6,
   "metadata": {},
   "outputs": [
    {
     "data": {
      "text/plain": [
       "[Array(shape=(1,), transforms=[ArctanBound(a_max=5, a_min=-5)]),\n",
       " Array(shape=(1,), transforms=[ArctanBound(a_max=10, a_min=0)])]"
      ]
     },
     "execution_count": 6,
     "metadata": {},
     "output_type": "execute_result"
    }
   ],
   "source": [
    "instruments"
   ]
  },
  {
   "cell_type": "code",
   "execution_count": 7,
   "metadata": {},
   "outputs": [],
   "source": [
    "instrum = inst.Instrumentation(*instruments)"
   ]
  },
  {
   "cell_type": "code",
   "execution_count": 8,
   "metadata": {},
   "outputs": [],
   "source": [
    "optim = optimizerlib.registry[method](instrumentation=instrum, budget=10000)"
   ]
  },
  {
   "cell_type": "markdown",
   "metadata": {},
   "source": [
    "## check if method in registry"
   ]
  },
  {
   "cell_type": "code",
   "execution_count": 9,
   "metadata": {},
   "outputs": [],
   "source": [
    "method = 'DE'"
   ]
  },
  {
   "cell_type": "code",
   "execution_count": 10,
   "metadata": {},
   "outputs": [],
   "source": [
    "method = 'lalala'"
   ]
  },
  {
   "cell_type": "code",
   "execution_count": 11,
   "metadata": {},
   "outputs": [
    {
     "ename": "AssertionError",
     "evalue": "Unknown to Nevergrad optimizatino method: lalala",
     "output_type": "error",
     "traceback": [
      "\u001b[0;31m---------------------------------------------------------------------------\u001b[0m",
      "\u001b[0;31mAssertionError\u001b[0m                            Traceback (most recent call last)",
      "\u001b[0;32m<ipython-input-11-cf774f0308f8>\u001b[0m in \u001b[0;36m<module>\u001b[0;34m\u001b[0m\n\u001b[1;32m      1\u001b[0m \u001b[0;32mif\u001b[0m \u001b[0mmethod\u001b[0m \u001b[0;32mnot\u001b[0m \u001b[0;32min\u001b[0m \u001b[0mlist\u001b[0m\u001b[0;34m(\u001b[0m\u001b[0mregistry\u001b[0m\u001b[0;34m.\u001b[0m\u001b[0mkeys\u001b[0m\u001b[0;34m(\u001b[0m\u001b[0;34m)\u001b[0m\u001b[0;34m)\u001b[0m\u001b[0;34m:\u001b[0m\u001b[0;34m\u001b[0m\u001b[0;34m\u001b[0m\u001b[0m\n\u001b[0;32m----> 2\u001b[0;31m     \u001b[0;32mraise\u001b[0m \u001b[0mAssertionError\u001b[0m\u001b[0;34m(\u001b[0m\u001b[0;34m'Unknown to Nevergrad optimizatino method: '\u001b[0m \u001b[0;34m+\u001b[0m \u001b[0mmethod\u001b[0m\u001b[0;34m)\u001b[0m\u001b[0;34m\u001b[0m\u001b[0;34m\u001b[0m\u001b[0m\n\u001b[0m",
      "\u001b[0;31mAssertionError\u001b[0m: Unknown to Nevergrad optimizatino method: lalala"
     ]
    }
   ],
   "source": [
    "if method not in list(registry.keys()):\n",
    "    raise AssertionError('Unknown to Nevergrad optimizatino method: ' + method)"
   ]
  },
  {
   "cell_type": "markdown",
   "metadata": {},
   "source": [
    "# Scipy-Optimize"
   ]
  },
  {
   "cell_type": "code",
   "execution_count": 12,
   "metadata": {},
   "outputs": [],
   "source": [
    "from skopt import Optimizer as skoptOptimizer\n",
    "from skopt.space import Real"
   ]
  },
  {
   "cell_type": "code",
   "execution_count": 13,
   "metadata": {},
   "outputs": [],
   "source": [
    "instruments = []\n",
    "for i, name in enumerate(parameter_names):\n",
    "    # vars()[name] = Real(*bounds[i])\n",
    "    instruments.append(Real(*bounds[i]))"
   ]
  },
  {
   "cell_type": "code",
   "execution_count": 14,
   "metadata": {},
   "outputs": [
    {
     "data": {
      "text/plain": [
       "[Real(low=-5, high=5, prior='uniform', transform='identity'),\n",
       " Real(low=0, high=10, prior='uniform', transform='identity')]"
      ]
     },
     "execution_count": 14,
     "metadata": {},
     "output_type": "execute_result"
    }
   ],
   "source": [
    "instruments"
   ]
  },
  {
   "cell_type": "code",
   "execution_count": 15,
   "metadata": {},
   "outputs": [],
   "source": [
    "optimizer = skoptOptimizer(\n",
    "    dimensions=instruments,\n",
    "    random_state=1,\n",
    "    base_estimator='gp'\n",
    ")"
   ]
  },
  {
   "cell_type": "markdown",
   "metadata": {},
   "source": [
    "## Check if candidates and parameters are even"
   ]
  },
  {
   "cell_type": "code",
   "execution_count": 16,
   "metadata": {},
   "outputs": [],
   "source": [
    "from brian2tools import NevergradOptimizer, fit_traces_ask_tell"
   ]
  },
  {
   "cell_type": "code",
   "execution_count": 17,
   "metadata": {},
   "outputs": [],
   "source": [
    "from brian2 import *\n",
    "from numpy import zeros"
   ]
  },
  {
   "cell_type": "code",
   "execution_count": 18,
   "metadata": {},
   "outputs": [],
   "source": [
    "# create input and output\n",
    "input_traces = zeros((10,5))*volt\n",
    "for i in range(5):\n",
    "    input_traces[5:,i]=i*10*mV\n",
    "\n",
    "output_traces = 10*nS*input_traces"
   ]
  },
  {
   "cell_type": "code",
   "execution_count": 19,
   "metadata": {},
   "outputs": [],
   "source": [
    "model = Equations('''\n",
    "    I = g*(v-E) : amp\n",
    "    g : siemens (constant)\n",
    "    E : volt (constant)\n",
    "    ''')"
   ]
  },
  {
   "cell_type": "code",
   "execution_count": 20,
   "metadata": {},
   "outputs": [],
   "source": [
    "n_opt = NevergradOptimizer(method='DE', parameter_names={'E', 'g'},\n",
    "                           bounds=[[-5, 5], [0, 10]])"
   ]
  },
  {
   "cell_type": "code",
   "execution_count": 21,
   "metadata": {},
   "outputs": [
    {
     "data": {
      "text/plain": [
       "[[0.2816587970965447, 7.86616814561799],\n",
       " [2.529812406166184, 2.9432813205058963],\n",
       " [1.9297235704178888, 4.8603585172650545],\n",
       " [-1.2906133680082756, 5.302380037136441],\n",
       " [-0.5920416354513165, 5.659383441096528],\n",
       " [-1.4233854457961437, 2.448504740684975],\n",
       " [0.9081871905924795, 2.1256821351473536],\n",
       " [-2.9572125808560403, 4.6996885821998235],\n",
       " [-3.780492608773249, 2.5241966814470493],\n",
       " [-3.1528971830826285, 5.117305807829553]]"
      ]
     },
     "execution_count": 21,
     "metadata": {},
     "output_type": "execute_result"
    }
   ],
   "source": [
    "parameters = n_opt.ask(10)\n",
    "parameters"
   ]
  },
  {
   "cell_type": "code",
   "execution_count": 22,
   "metadata": {},
   "outputs": [
    {
     "data": {
      "text/plain": [
       "[Candidate(args=(0.2816587970965447, 7.86616814561799), kwargs={}, data=[0.08871739 1.26128016]),\n",
       " Candidate(args=(2.529812406166184, 2.9432813205058963), kwargs={}, data=[ 1.01890934 -0.75412711]),\n",
       " Candidate(args=(1.9297235704178888, 4.8603585172650545), kwargs={}, data=[ 0.69333759 -0.04389783]),\n",
       " Candidate(args=(-1.2906133680082756, 5.302380037136441), kwargs={}, data=[-0.42924198  0.09528228]),\n",
       " Candidate(args=(-0.5920416354513165, 5.659383441096528), kwargs={}, data=[-0.18817026  0.21016625]),\n",
       " Candidate(args=(-1.4233854457961437, 2.448504740684975), kwargs={}, data=[-0.47956913 -1.03289039]),\n",
       " Candidate(args=(0.9081871905924795, 2.1256821351473536), kwargs={}, data=[ 0.29331813 -1.26793498]),\n",
       " Candidate(args=(-2.9572125808560403, 4.6996885821998235), kwargs={}, data=[-1.33817935 -0.09462654]),\n",
       " Candidate(args=(-3.780492608773249, 2.5241966814470493), kwargs={}, data=[-2.48117745 -0.98491119]),\n",
       " Candidate(args=(-3.1528971830826285, 5.117305807829553), kwargs={}, data=[-1.52537827  0.0368694 ])]"
      ]
     },
     "execution_count": 22,
     "metadata": {},
     "output_type": "execute_result"
    }
   ],
   "source": [
    "candidates = n_opt.candidates\n",
    "candidates"
   ]
  },
  {
   "cell_type": "code",
   "execution_count": 26,
   "metadata": {},
   "outputs": [],
   "source": [
    "import functools "
   ]
  },
  {
   "cell_type": "code",
   "execution_count": 27,
   "metadata": {},
   "outputs": [],
   "source": [
    "# initializing lists  \n",
    "test_list1 = [1, 2, 4, 3, 5] \n",
    "test_list2 = [1, 2, 4, 3, 5]"
   ]
  },
  {
   "cell_type": "code",
   "execution_count": 28,
   "metadata": {},
   "outputs": [
    {
     "name": "stdout",
     "output_type": "stream",
     "text": [
      "The lists are identical\n"
     ]
    }
   ],
   "source": [
    "if functools.reduce(lambda i, j : i and j, map(lambda m, k: m == k, test_list1, test_list2), True) :  \n",
    "    print (\"The lists are identical\") \n",
    "else : \n",
    "    print (\"The lists are not identical\") "
   ]
  },
  {
   "cell_type": "code",
   "execution_count": 31,
   "metadata": {},
   "outputs": [
    {
     "name": "stdout",
     "output_type": "stream",
     "text": [
      "The lists are identical\n"
     ]
    }
   ],
   "source": [
    "if functools.reduce(lambda i, j : i and j, map(lambda c, p: list(c.args) == p, candidates, parameters), True) :  \n",
    "    print (\"The lists are identical\") \n",
    "else : \n",
    "    print (\"The lists are not identical\") "
   ]
  },
  {
   "cell_type": "code",
   "execution_count": 24,
   "metadata": {},
   "outputs": [
    {
     "name": "stderr",
     "output_type": "stream",
     "text": [
      "INFO       No numerical integration method specified, using method 'linear' (took 0.01s). [brian2.stateupdaters.base.method_choice]\n"
     ]
    },
    {
     "name": "stdout",
     "output_type": "stream",
     "text": [
      "bounds [[1. * nsiemens, 30. * nsiemens], [-20. * mvolt, 100. * mvolt]]\n"
     ]
    }
   ],
   "source": [
    "# pass parameters to the NeuronGroup\n",
    "errors = fit_traces_ask_tell(model = model, input_var = 'v', output_var = 'I',\\\n",
    "                            input = input_traces, output = output_traces, dt = 0.1*ms,\n",
    "                            g = [1*nS, 30*nS], E = [-20*mV,100*mV], update=parameters)"
   ]
  },
  {
   "cell_type": "code",
   "execution_count": 25,
   "metadata": {},
   "outputs": [
    {
     "name": "stdout",
     "output_type": "stream",
     "text": [
      "[0.2816587970965447, 7.86616814561799] [0.2816587970965447, 7.86616814561799] True\n",
      "[2.529812406166184, 2.9432813205058963] [2.529812406166184, 2.9432813205058963] True\n",
      "[1.9297235704178888, 4.8603585172650545] [1.9297235704178888, 4.8603585172650545] True\n",
      "[-1.2906133680082756, 5.302380037136441] [-1.2906133680082756, 5.302380037136441] True\n",
      "[-0.5920416354513165, 5.659383441096528] [-0.5920416354513165, 5.659383441096528] True\n",
      "[-1.4233854457961437, 2.448504740684975] [-1.4233854457961437, 2.448504740684975] True\n",
      "[0.9081871905924795, 2.1256821351473536] [0.9081871905924795, 2.1256821351473536] True\n",
      "[-2.9572125808560403, 4.6996885821998235] [-2.9572125808560403, 4.6996885821998235] True\n",
      "[-3.780492608773249, 2.5241966814470493] [-3.780492608773249, 2.5241966814470493] True\n",
      "[-3.1528971830826285, 5.117305807829553] [-3.1528971830826285, 5.117305807829553] True\n"
     ]
    },
    {
     "ename": "AssertionError",
     "evalue": "Parameters and Candidates do not have identical values",
     "output_type": "error",
     "traceback": [
      "\u001b[0;31m---------------------------------------------------------------------------\u001b[0m",
      "\u001b[0;31mAssertionError\u001b[0m                            Traceback (most recent call last)",
      "\u001b[0;32m<ipython-input-25-0b4a495f1db6>\u001b[0m in \u001b[0;36m<module>\u001b[0;34m\u001b[0m\n\u001b[1;32m      1\u001b[0m \u001b[0;31m# give information to the optimizer\u001b[0m\u001b[0;34m\u001b[0m\u001b[0;34m\u001b[0m\u001b[0;34m\u001b[0m\u001b[0m\n\u001b[0;32m----> 2\u001b[0;31m \u001b[0mn_opt\u001b[0m\u001b[0;34m.\u001b[0m\u001b[0mtell\u001b[0m\u001b[0;34m(\u001b[0m\u001b[0mparameters\u001b[0m\u001b[0;34m,\u001b[0m \u001b[0merrors\u001b[0m\u001b[0;34m)\u001b[0m\u001b[0;34m\u001b[0m\u001b[0;34m\u001b[0m\u001b[0m\n\u001b[0m\u001b[1;32m      3\u001b[0m \u001b[0mans\u001b[0m \u001b[0;34m=\u001b[0m \u001b[0mn_opt\u001b[0m\u001b[0;34m.\u001b[0m\u001b[0mrecommend\u001b[0m\u001b[0;34m(\u001b[0m\u001b[0;34m)\u001b[0m\u001b[0;34m\u001b[0m\u001b[0;34m\u001b[0m\u001b[0m\n",
      "\u001b[0;32m~/Desktop/brian/brian2tools/brian2tools/modelfitting/optimizer.py\u001b[0m in \u001b[0;36mtell\u001b[0;34m(self, parameters, errors)\u001b[0m\n\u001b[1;32m     83\u001b[0m         \u001b[0;31m# TODO: make the comparison more elegant\u001b[0m\u001b[0;34m\u001b[0m\u001b[0;34m\u001b[0m\u001b[0;34m\u001b[0m\u001b[0m\n\u001b[1;32m     84\u001b[0m         \u001b[0;32mif\u001b[0m \u001b[0;32mnot\u001b[0m \u001b[0mreduce\u001b[0m\u001b[0;34m(\u001b[0m\u001b[0;32mlambda\u001b[0m \u001b[0mi\u001b[0m\u001b[0;34m,\u001b[0m \u001b[0mj\u001b[0m \u001b[0;34m:\u001b[0m \u001b[0mi\u001b[0m \u001b[0;32mand\u001b[0m \u001b[0mj\u001b[0m\u001b[0;34m,\u001b[0m \u001b[0mmap\u001b[0m\u001b[0;34m(\u001b[0m\u001b[0;32mlambda\u001b[0m \u001b[0mc\u001b[0m\u001b[0;34m,\u001b[0m \u001b[0mp\u001b[0m\u001b[0;34m:\u001b[0m  \u001b[0mprint\u001b[0m\u001b[0;34m(\u001b[0m\u001b[0mlist\u001b[0m\u001b[0;34m(\u001b[0m\u001b[0mc\u001b[0m\u001b[0;34m.\u001b[0m\u001b[0margs\u001b[0m\u001b[0;34m)\u001b[0m\u001b[0;34m,\u001b[0m \u001b[0mp\u001b[0m\u001b[0;34m,\u001b[0m \u001b[0mlist\u001b[0m\u001b[0;34m(\u001b[0m\u001b[0mc\u001b[0m\u001b[0;34m.\u001b[0m\u001b[0margs\u001b[0m\u001b[0;34m)\u001b[0m \u001b[0;34m==\u001b[0m \u001b[0mp\u001b[0m\u001b[0;34m)\u001b[0m\u001b[0;34m,\u001b[0m \u001b[0mself\u001b[0m\u001b[0;34m.\u001b[0m\u001b[0mcandidates\u001b[0m\u001b[0;34m,\u001b[0m \u001b[0mparameters\u001b[0m\u001b[0;34m)\u001b[0m\u001b[0;34m,\u001b[0m \u001b[0;32mTrue\u001b[0m\u001b[0;34m)\u001b[0m \u001b[0;34m:\u001b[0m\u001b[0;34m\u001b[0m\u001b[0;34m\u001b[0m\u001b[0m\n\u001b[0;32m---> 85\u001b[0;31m             \u001b[0;32mraise\u001b[0m \u001b[0mAssertionError\u001b[0m\u001b[0;34m(\u001b[0m\u001b[0;34m\"Parameters and Candidates do not have identical values\"\u001b[0m\u001b[0;34m)\u001b[0m\u001b[0;34m\u001b[0m\u001b[0;34m\u001b[0m\u001b[0m\n\u001b[0m\u001b[1;32m     86\u001b[0m \u001b[0;34m\u001b[0m\u001b[0m\n\u001b[1;32m     87\u001b[0m         \u001b[0;32mfor\u001b[0m \u001b[0mi\u001b[0m\u001b[0;34m,\u001b[0m \u001b[0mcandidate\u001b[0m \u001b[0;32min\u001b[0m \u001b[0menumerate\u001b[0m\u001b[0;34m(\u001b[0m\u001b[0mself\u001b[0m\u001b[0;34m.\u001b[0m\u001b[0mcandidates\u001b[0m\u001b[0;34m)\u001b[0m\u001b[0;34m:\u001b[0m\u001b[0;34m\u001b[0m\u001b[0;34m\u001b[0m\u001b[0m\n",
      "\u001b[0;31mAssertionError\u001b[0m: Parameters and Candidates do not have identical values"
     ]
    }
   ],
   "source": [
    "# give information to the optimizer\n",
    "n_opt.tell(parameters, errors)\n",
    "ans = n_opt.recommend()"
   ]
  },
  {
   "cell_type": "code",
   "execution_count": null,
   "metadata": {},
   "outputs": [],
   "source": [
    "ans.args"
   ]
  },
  {
   "cell_type": "code",
   "execution_count": null,
   "metadata": {},
   "outputs": [],
   "source": [
    "cand = [list(v.args) for v in candidates]\n",
    "if np.all(params == cand):\n",
    "    print('ok')\n",
    "\n",
    "if np.all(params == [list(v.args) for v in candidates]):\n",
    "    print('ok')"
   ]
  }
 ],
 "metadata": {
  "kernelspec": {
   "display_name": "brian_opt",
   "language": "python",
   "name": "brian_opt"
  },
  "language_info": {
   "codemirror_mode": {
    "name": "ipython",
    "version": 3
   },
   "file_extension": ".py",
   "mimetype": "text/x-python",
   "name": "python",
   "nbconvert_exporter": "python",
   "pygments_lexer": "ipython3",
   "version": "3.7.3"
  }
 },
 "nbformat": 4,
 "nbformat_minor": 2
}
