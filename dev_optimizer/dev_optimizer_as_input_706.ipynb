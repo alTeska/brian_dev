{
 "cells": [
  {
   "cell_type": "markdown",
   "metadata": {},
   "source": [
    "# Test Optimizer children as subclasses"
   ]
  },
  {
   "cell_type": "code",
   "execution_count": 2,
   "metadata": {},
   "outputs": [],
   "source": [
    "from brian2 import *\n",
    "from brian2tools import *"
   ]
  },
  {
   "cell_type": "code",
   "execution_count": 4,
   "metadata": {},
   "outputs": [],
   "source": [
    "# create input and output\n",
    "input_traces = zeros((10,5))*volt\n",
    "for i in range(5):\n",
    "    input_traces[5:,i]=i*10*mV\n",
    "\n",
    "output_traces = 10*nS*input_traces\n",
    "\n",
    "model = Equations('''\n",
    "    I = g*(v-E) : amp\n",
    "    g : siemens (constant)\n",
    "    E : volt (constant)\n",
    "    ''')"
   ]
  },
  {
   "cell_type": "code",
   "execution_count": 26,
   "metadata": {},
   "outputs": [],
   "source": [
    "def test_optimizer(optimizer, n_samples=10, method='DE'):\n",
    "    parameter_names = {'E', 'g'}\n",
    "    bounds=[[-5, 5], [0, 10]]\n",
    "    \n",
    "    optim = optimizer(method=method, parameter_names=parameter_names, bounds=bounds)\n",
    "\n",
    "    parameters = optim.ask(n_samples=n_samples)\n",
    "    errors = np.random.rand(n_samples)\n",
    "    \n",
    "    print('shape parameters', shape(parameters))\n",
    "    print('shape errors', shape(errors))\n",
    "\n",
    "    print('parameters', parameters)\n",
    "    print('errors', errors)\n",
    "    \n",
    "    optim.tell(parameters, errors)\n",
    "    optim.recommend()\n",
    "    \n",
    "    return parameters, errors"
   ]
  },
  {
   "cell_type": "code",
   "execution_count": 28,
   "metadata": {},
   "outputs": [
    {
     "name": "stdout",
     "output_type": "stream",
     "text": [
      "shape parameters (10, 2)\n",
      "shape errors (10,)\n",
      "parameters [[2.0264499244435896, 0.6165173181422324], [-1.2310812382614325, 1.4564339539751738], [-0.06824526266854125, 8.889254049717007], [-4.415128140915489, 2.5569481782737853], [-0.21043422400669343, 6.760874977543353], [-1.843575730312545, 9.64957360874301], [-4.757008467187856, 9.369741245296256], [3.293873456124226, 1.3446141565794747], [1.5680902589998649, 6.191443526329299], [4.165048285451618, 5.005715949235508]]\n",
      "errors [0.09706058 0.31756129 0.09542415 0.30379887 0.35098854 0.00992724\n",
      " 0.45333657 0.96304378 0.88333876 0.31883338]\n"
     ]
    },
    {
     "data": {
      "text/plain": [
       "([[2.0264499244435896, 0.6165173181422324],\n",
       "  [-1.2310812382614325, 1.4564339539751738],\n",
       "  [-0.06824526266854125, 8.889254049717007],\n",
       "  [-4.415128140915489, 2.5569481782737853],\n",
       "  [-0.21043422400669343, 6.760874977543353],\n",
       "  [-1.843575730312545, 9.64957360874301],\n",
       "  [-4.757008467187856, 9.369741245296256],\n",
       "  [3.293873456124226, 1.3446141565794747],\n",
       "  [1.5680902589998649, 6.191443526329299],\n",
       "  [4.165048285451618, 5.005715949235508]],\n",
       " array([0.09706058, 0.31756129, 0.09542415, 0.30379887, 0.35098854,\n",
       "        0.00992724, 0.45333657, 0.96304378, 0.88333876, 0.31883338]))"
      ]
     },
     "execution_count": 28,
     "metadata": {},
     "output_type": "execute_result"
    }
   ],
   "source": [
    "test_optimizer(SkoptOptimizer, 10, 'gp')"
   ]
  },
  {
   "cell_type": "code",
   "execution_count": 29,
   "metadata": {},
   "outputs": [
    {
     "name": "stdout",
     "output_type": "stream",
     "text": [
      "shape parameters (10, 2)\n",
      "shape errors (10,)\n",
      "parameters [[-0.6351182304942128, 7.08509164468683], [-2.896700691329783, 5.577113549039541], [-1.8278066046565982, 7.48425605274756], [0.5547862267189654, 3.4314199267218117], [-1.3855594624949998, 1.8601283104041992], [1.1732382281420521, 4.180847167094241], [2.8135519725301084, 7.594221506835334], [-2.942151689947753, 6.061708588717931], [2.8945836796045374, 4.025866932842289], [1.7647534127793487, 4.516481628721874]]\n",
      "errors [0.23384999 0.19836175 0.12089629 0.4472833  0.84181991 0.38544886\n",
      " 0.58871133 0.01905118 0.21929367 0.51515305]\n"
     ]
    },
    {
     "data": {
      "text/plain": [
       "([[-0.6351182304942128, 7.08509164468683],\n",
       "  [-2.896700691329783, 5.577113549039541],\n",
       "  [-1.8278066046565982, 7.48425605274756],\n",
       "  [0.5547862267189654, 3.4314199267218117],\n",
       "  [-1.3855594624949998, 1.8601283104041992],\n",
       "  [1.1732382281420521, 4.180847167094241],\n",
       "  [2.8135519725301084, 7.594221506835334],\n",
       "  [-2.942151689947753, 6.061708588717931],\n",
       "  [2.8945836796045374, 4.025866932842289],\n",
       "  [1.7647534127793487, 4.516481628721874]],\n",
       " array([0.23384999, 0.19836175, 0.12089629, 0.4472833 , 0.84181991,\n",
       "        0.38544886, 0.58871133, 0.01905118, 0.21929367, 0.51515305]))"
      ]
     },
     "execution_count": 29,
     "metadata": {},
     "output_type": "execute_result"
    }
   ],
   "source": [
    "test_optimizer(NevergradOptimizer, 10, 'DE')"
   ]
  },
  {
   "cell_type": "code",
   "execution_count": null,
   "metadata": {},
   "outputs": [],
   "source": [
    "candidates, parameters = [], []\n",
    "\n",
    "\n",
    "# setup the nevergrad optimizer\n",
    "n_opt = NevergradOptimizer(method='DE', parameter_names={'E', 'g'},\n",
    "                           bounds=[[-5, 5], [0, 10]])\n",
    "\n",
    "parameters = n_opt.ask(10)\n",
    "\n",
    "# pass parameters to the NeuronGroup\n",
    "errors = fit_traces_ask_tell(model = model, input_var = 'v', output_var = 'I',\\\n",
    "                            input = input_traces, output = output_traces, dt = 0.1*ms,\n",
    "                            g = [1*nS, 30*nS], E = [-20*mV,100*mV], update=parameters,\n",
    "                            method=('linear'))\n",
    "\n",
    "\n",
    "\n",
    "# give information to the optimizer\n",
    "n_opt.tell(parameters, errors)\n",
    "\n",
    "ans = n_opt.recommend()\n",
    "\n",
    "# show answers\n",
    "for n in zip(parameters, errors):\n",
    "    print(n)\n",
    "\n",
    "print(list(ans.args))"
   ]
  }
 ],
 "metadata": {
  "kernelspec": {
   "display_name": "brian_opt",
   "language": "python",
   "name": "brian_opt"
  },
  "language_info": {
   "codemirror_mode": {
    "name": "ipython",
    "version": 3
   },
   "file_extension": ".py",
   "mimetype": "text/x-python",
   "name": "python",
   "nbconvert_exporter": "python",
   "pygments_lexer": "ipython3",
   "version": "3.7.3"
  }
 },
 "nbformat": 4,
 "nbformat_minor": 2
}
