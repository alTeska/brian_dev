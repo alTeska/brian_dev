{
 "cells": [
  {
   "cell_type": "markdown",
   "metadata": {},
   "source": [
    "# Base Hopping using Brian Evaluation"
   ]
  },
  {
   "cell_type": "code",
   "execution_count": 90,
   "metadata": {},
   "outputs": [],
   "source": [
    "import numpy as np\n",
    "from brian2 import *\n",
    "from brian2tools import *\n",
    "from sympy import *\n",
    "from brian2.units.fundamentalunits import DIMENSIONLESS\n",
    "from scipy.optimize import basinhopping, minimize\n",
    "from tqdm import tqdm"
   ]
  },
  {
   "cell_type": "markdown",
   "metadata": {},
   "source": [
    "## Senstivity to Create The new system of Equations"
   ]
  },
  {
   "cell_type": "code",
   "execution_count": 2,
   "metadata": {},
   "outputs": [],
   "source": [
    "def get_sensitivity_equations(group, parameters):\n",
    "    eqs = group.equations\n",
    "    diff_eqs = eqs.get_substituted_expressions(group.variables)\n",
    "    diff_eq_names = [name for name, _ in diff_eqs]\n",
    "\n",
    "    system = Matrix([diff_eq[1] for diff_eq in diff_eqs])\n",
    "    J = system.jacobian(diff_eq_names)\n",
    "\n",
    "    sensitivity = []\n",
    "    sensitivity_names = []\n",
    "    for parameter in parameters:\n",
    "        F = system.jacobian([parameter])\n",
    "        names = ['S_{}_{}'.format(diff_eq_name, parameter)\n",
    "                 for diff_eq_name in diff_eq_names]\n",
    "        sensitivity.append(J * Matrix(names) + F)\n",
    "        sensitivity_names.append(names)\n",
    "\n",
    "    new_eqs = []\n",
    "    for names, sensitivity_eqs, param in zip(sensitivity_names, sensitivity, parameters):\n",
    "        for name, eq, orig_var in zip(names, sensitivity_eqs, diff_eq_names):\n",
    "            unit = eqs[orig_var].dim / group.namespace[parameter].dim\n",
    "            new_eqs.append('d{lhs}/dt = {rhs} : {unit}'.format(lhs=name,\n",
    "                                                           rhs=eq,\n",
    "                                                           unit=repr(unit) if unit is not DIMENSIONLESS else '1'))\n",
    "    new_eqs = Equations('\\n'.join(new_eqs))\n",
    "    return new_eqs"
   ]
  },
  {
   "cell_type": "markdown",
   "metadata": {},
   "source": [
    "## Neuron Example with HH"
   ]
  },
  {
   "cell_type": "code",
   "execution_count": 3,
   "metadata": {},
   "outputs": [],
   "source": [
    "dt = 0.1 * ms\n",
    "defaultclock.dt = dt"
   ]
  },
  {
   "cell_type": "code",
   "execution_count": 4,
   "metadata": {},
   "outputs": [],
   "source": [
    "duration = 2*second\n",
    "\n",
    "# Parameters\n",
    "area = 20000*umetre**2\n",
    "# gl = 5e-5*siemens*cm**-2 * area\n",
    "Cm = 1*ufarad*cm**-2 * area\n",
    "El = -65*mV\n",
    "EK = -90*mV\n",
    "ENa = 50*mV\n",
    "g_na = 100*msiemens*cm**-2 * area\n",
    "g_kd = 30*msiemens*cm**-2 * area\n",
    "VT = -63*mV"
   ]
  },
  {
   "cell_type": "code",
   "execution_count": 5,
   "metadata": {},
   "outputs": [],
   "source": [
    "# The model\n",
    "eqs = Equations('''\n",
    "dv/dt = (gl*(El-v) - g_na*(m*m*m)*h*(v-ENa) - g_kd*(n*n*n*n)*(v-EK) + I) / Cm : volt\n",
    "dm/dt = 0.32*(mV**-1)*(13.*mV-v+VT)/\n",
    "    (exp((13.*mV-v+VT)/(4.*mV))-1.)/ms*(1-m)-0.28*(mV**-1)*(v-VT-40.*mV)/\n",
    "    (exp((v-VT-40.*mV)/(5.*mV))-1.)/ms*m : 1\n",
    "dn/dt = 0.032*(mV**-1)*(15.*mV-v+VT)/\n",
    "    (exp((15.*mV-v+VT)/(5.*mV))-1.)/ms*(1.-n)-.5*exp((10.*mV-v+VT)/(40.*mV))/ms*n : 1\n",
    "dh/dt = 0.128*exp((17.*mV-v+VT)/(18.*mV))/ms*(1.-h)-4./(1+exp((40.*mV-v+VT)/(5.*mV)))/ms*h : 1\n",
    "I: amp \n",
    "'''\n",
    ")"
   ]
  },
  {
   "cell_type": "code",
   "execution_count": 6,
   "metadata": {},
   "outputs": [],
   "source": [
    "start_scope()"
   ]
  },
  {
   "cell_type": "code",
   "execution_count": 7,
   "metadata": {},
   "outputs": [],
   "source": [
    "group = NeuronGroup(1, eqs,\n",
    "                    method='exponential_euler',\n",
    "                    namespace={'gl': 5e-5*siemens*cm**-2 * area,})\n",
    "group.I = '1*nA'\n",
    "group.v = El\n",
    "mon = StateMonitor(group, ['v', 'I'], record=True)"
   ]
  },
  {
   "cell_type": "code",
   "execution_count": 8,
   "metadata": {},
   "outputs": [],
   "source": [
    "run(20*ms)"
   ]
  },
  {
   "cell_type": "code",
   "execution_count": 9,
   "metadata": {},
   "outputs": [],
   "source": [
    "output = mon.v_[0]\n",
    "# output"
   ]
  },
  {
   "cell_type": "code",
   "execution_count": 10,
   "metadata": {},
   "outputs": [
    {
     "data": {
      "image/png": "[encoded data removed]",
      "text/plain": [
       "<Figure size 432x288 with 1 Axes>"
      ]
     },
     "metadata": {
      "needs_background": "light"
     },
     "output_type": "display_data"
    }
   ],
   "source": [
    "plt.plot(mon.v[0]/mV);\n",
    "plt.plot(mon.I[0]/nA);"
   ]
  },
  {
   "cell_type": "code",
   "execution_count": 11,
   "metadata": {},
   "outputs": [
    {
     "data": {
      "text/latex": [
       "\\begin{align*}\\frac{\\mathrm{d}S_{v gl}}{\\mathrm{d}t} &= - \\frac{S_{h gl} g_{na} m^{3.0} \\left(- ENa + v\\right)}{Cm} - \\frac{3.0 S_{m gl} g_{na} h m^{2.0} \\left(- ENa + v\\right)}{Cm} - \\frac{4.0 S_{n gl} g_{kd} n^{3.0} \\left(- EK + v\\right)}{Cm} + \\frac{S_{v gl} \\left(- g_{kd} n^{4.0} - g_{na} h m^{3.0} - gl\\right)}{Cm} + \\frac{El - v}{Cm} && \\text{(unit of $S_{v gl}$: $\\mathrm{m}^{4}\\,\\mathrm{kg}^{2}\\,\\mathrm{s}^{-6}\\,\\mathrm{A}^{-3}$)}\\\\\n",
       "\\frac{\\mathrm{d}S_{m gl}}{\\mathrm{d}t} &= S_{m gl} \\left(- \\frac{0.32 \\left(VT + 13.0 mV - v\\right)}{mV^{1.0} ms \\left(e^{\\frac{0.25 VT + 3.25 mV - 0.25 v}{mV}} - 1.0\\right)} - \\frac{0.28 \\left(- VT - 40.0 mV + v\\right)}{mV^{1.0} ms \\left(e^{\\frac{- 0.2 VT - 8.0 mV + 0.2 v}{mV}} - 1.0\\right)}\\right) + S_{v gl} \\left(\\frac{0.056 m \\left(- VT - 40.0 mV + v\\right) e^{\\frac{- 0.2 VT - 8.0 mV + 0.2 v}{mV}}}{mV^{2.0} ms \\left(e^{\\frac{- 0.2 VT - 8.0 mV + 0.2 v}{mV}} - 1.0\\right)^{2.0}} - \\frac{0.28 m}{mV^{1.0} ms \\left(e^{\\frac{- 0.2 VT - 8.0 mV + 0.2 v}{mV}} - 1.0\\right)} + \\frac{0.08 \\left(1.0 - m\\right) \\left(VT + 13.0 mV - v\\right) e^{\\frac{0.25 VT + 3.25 mV - 0.25 v}{mV}}}{mV^{2.0} ms \\left(e^{\\frac{0.25 VT + 3.25 mV - 0.25 v}{mV}} - 1.0\\right)^{2.0}} - \\frac{0.32 \\left(1.0 - m\\right)}{mV^{1.0} ms \\left(e^{\\frac{0.25 VT + 3.25 mV - 0.25 v}{mV}} - 1.0\\right)}\\right) && \\text{(unit of $S_{m gl}$: $\\mathrm{ohm}$)}\\\\\n",
       "\\frac{\\mathrm{d}S_{n gl}}{\\mathrm{d}t} &= S_{n gl} \\left(- \\frac{0.032 \\left(VT + 15.0 mV - v\\right)}{mV^{1.0} ms \\left(e^{\\frac{0.2 VT + 3.0 mV - 0.2 v}{mV}} - 1.0\\right)} - \\frac{0.5 e^{\\frac{0.025 VT + 0.25 mV - 0.025 v}{mV}}}{ms}\\right) + S_{v gl} \\left(\\frac{0.0064 \\left(1.0 - n\\right) \\left(VT + 15.0 mV - v\\right) e^{\\frac{0.2 VT + 3.0 mV - 0.2 v}{mV}}}{mV^{2.0} ms \\left(e^{\\frac{0.2 VT + 3.0 mV - 0.2 v}{mV}} - 1.0\\right)^{2.0}} - \\frac{0.032 \\left(1.0 - n\\right)}{mV^{1.0} ms \\left(e^{\\frac{0.2 VT + 3.0 mV - 0.2 v}{mV}} - 1.0\\right)} + \\frac{0.0125 n e^{\\frac{0.025 VT + 0.25 mV - 0.025 v}{mV}}}{mV ms}\\right) && \\text{(unit of $S_{n gl}$: $\\mathrm{ohm}$)}\\\\\n",
       "\\frac{\\mathrm{d}S_{h gl}}{\\mathrm{d}t} &= S_{h gl} \\left(- \\frac{0.128 e^{\\frac{0.0555555555555556 VT + 0.944444444444445 mV - 0.0555555555555556 v}{mV}}}{ms} - \\frac{4.0}{ms \\left(e^{\\frac{0.2 VT + 8.0 mV - 0.2 v}{mV}} + 1.0\\right)}\\right) + S_{v gl} \\left(- \\frac{0.8 h e^{\\frac{0.2 VT + 8.0 mV - 0.2 v}{mV}}}{mV ms \\left(e^{\\frac{0.2 VT + 8.0 mV - 0.2 v}{mV}} + 1.0\\right)^{2.0}} - \\frac{\\left(0.00711111111111112 - 0.00711111111111112 h\\right) e^{\\frac{0.0555555555555556 VT + 0.944444444444445 mV - 0.0555555555555556 v}{mV}}}{mV ms}\\right) && \\text{(unit of $S_{h gl}$: $\\mathrm{ohm}$)}\\end{align*}"
      ],
      "text/plain": [
       "dS_v_gl/dt = -S_h_gl*g_na*m**3.0*(-ENa + v)/Cm - 3.0*S_m_gl*g_na*h*m**2.0*(-ENa + v)/Cm - 4.0*S_n_gl*g_kd*n**3.0*(-EK + v)/Cm + S_v_gl*(-g_kd*n**4.0 - g_na*h*m**3.0 - gl)/Cm + (El - v)/Cm : metre ** 4 * kilogram ** 2 * second ** -6 * amp ** -3\n",
       "dS_m_gl/dt = S_m_gl*(-0.32*mV**(-1.0)*(VT + 13.0*mV - v)/(ms*(exp((0.25*VT + 3.25*mV - 0.25*v)/mV) - 1.0)) - 0.28*mV**(-1.0)*(-VT - 40.0*mV + v)/(ms*(exp((-0.2*VT - 8.0*mV + 0.2*v)/mV) - 1.0))) + S_v_gl*(0.056*m*mV**(-2.0)*(exp((-0.2*VT - 8.0*mV + 0.2*v)/mV) - 1.0)**(-2.0)*(-VT - 40.0*mV + v)*exp((-0.2*VT - 8.0*mV + 0.2*v)/mV)/ms - 0.28*m*mV**(-1.0)/(ms*(exp((-0.2*VT - 8.0*mV + 0.2*v)/mV) - 1.0)) + 0.08*mV**(-2.0)*(1.0 - m)*(exp((0.25*VT + 3.25*mV - 0.25*v)/mV) - 1.0)**(-2.0)*(VT + 13.0*mV - v)*exp((0.25*VT + 3.25*mV - 0.25*v)/mV)/ms - 0.32*mV**(-1.0)*(1.0 - m)/(ms*(exp((0.25*VT + 3.25*mV - 0.25*v)/mV) - 1.0))) : ohm\n",
       "dS_n_gl/dt = S_n_gl*(-0.032*mV**(-1.0)*(VT + 15.0*mV - v)/(ms*(exp((0.2*VT + 3.0*mV - 0.2*v)/mV) - 1.0)) - 0.5*exp((0.025*VT + 0.25*mV - 0.025*v)/mV)/ms) + S_v_gl*(0.0064*mV**(-2.0)*(1.0 - n)*(exp((0.2*VT + 3.0*mV - 0.2*v)/mV) - 1.0)**(-2.0)*(VT + 15.0*mV - v)*exp((0.2*VT + 3.0*mV - 0.2*v)/mV)/ms - 0.032*mV**(-1.0)*(1.0 - n)/(ms*(exp((0.2*VT + 3.0*mV - 0.2*v)/mV) - 1.0)) + 0.0125*n*exp((0.025*VT + 0.25*mV - 0.025*v)/mV)/(mV*ms)) : ohm\n",
       "dS_h_gl/dt = S_h_gl*(-0.128*exp((0.0555555555555556*VT + 0.944444444444445*mV - 0.0555555555555556*v)/mV)/ms - 4.0/(ms*(exp((0.2*VT + 8.0*mV - 0.2*v)/mV) + 1.0))) + S_v_gl*(-0.8*h*(exp((0.2*VT + 8.0*mV - 0.2*v)/mV) + 1.0)**(-2.0)*exp((0.2*VT + 8.0*mV - 0.2*v)/mV)/(mV*ms) - (0.00711111111111112 - 0.00711111111111112*h)*exp((0.0555555555555556*VT + 0.944444444444445*mV - 0.0555555555555556*v)/mV)/(mV*ms)) : ohm\n"
      ]
     },
     "execution_count": 11,
     "metadata": {},
     "output_type": "execute_result"
    }
   ],
   "source": [
    "new_eqs = get_sensitivity_equations(group, ['gl'])\n",
    "new_eqs"
   ]
  },
  {
   "cell_type": "code",
   "execution_count": 12,
   "metadata": {},
   "outputs": [
    {
     "data": {
      "text/plain": [
       "brian2.equations.equations.Equations"
      ]
     },
     "execution_count": 12,
     "metadata": {},
     "output_type": "execute_result"
    }
   ],
   "source": [
    "type(new_eqs)"
   ]
  },
  {
   "cell_type": "markdown",
   "metadata": {},
   "source": [
    "### Create working model to plug into the function"
   ]
  },
  {
   "cell_type": "code",
   "execution_count": 13,
   "metadata": {},
   "outputs": [],
   "source": [
    "# The model\n",
    "eqs_fit = Equations('''\n",
    "dv/dt = (gl*(El-v) - g_na*(m*m*m)*h*(v-ENa) - g_kd*(n*n*n*n)*(v-EK) + I) / Cm : volt\n",
    "dm/dt = 0.32*(mV**-1)*(13.*mV-v+VT)/\n",
    "    (exp((13.*mV-v+VT)/(4.*mV))-1.)/ms*(1-m)-0.28*(mV**-1)*(v-VT-40.*mV)/\n",
    "    (exp((v-VT-40.*mV)/(5.*mV))-1.)/ms*m : 1\n",
    "dn/dt = 0.032*(mV**-1)*(15.*mV-v+VT)/\n",
    "    (exp((15.*mV-v+VT)/(5.*mV))-1.)/ms*(1.-n)-.5*exp((10.*mV-v+VT)/(40.*mV))/ms*n : 1\n",
    "dh/dt = 0.128*exp((17.*mV-v+VT)/(18.*mV))/ms*(1.-h)-4./(1+exp((40.*mV-v+VT)/(5.*mV)))/ms*h : 1\n",
    "I: amp \n",
    "gl: siemens(constant)\n",
    "'''\n",
    ")"
   ]
  },
  {
   "cell_type": "code",
   "execution_count": 14,
   "metadata": {},
   "outputs": [],
   "source": [
    "t_start=0*second\n",
    "n_samples = 1"
   ]
  },
  {
   "cell_type": "code",
   "execution_count": 15,
   "metadata": {},
   "outputs": [],
   "source": [
    "model = eqs_fit + new_eqs"
   ]
  },
  {
   "cell_type": "code",
   "execution_count": 16,
   "metadata": {},
   "outputs": [],
   "source": [
    "Ntraces=1\n",
    "Nsteps = output.shape\n",
    "duration = Nsteps * dt\n",
    "output_traces = TimedArray(output.transpose(), dt=dt)\n",
    "output_var = 'v'"
   ]
  },
  {
   "cell_type": "code",
   "execution_count": 17,
   "metadata": {},
   "outputs": [],
   "source": [
    "start_scope()"
   ]
  },
  {
   "cell_type": "code",
   "execution_count": 18,
   "metadata": {},
   "outputs": [],
   "source": [
    "neurons = NeuronGroup(1, model,\n",
    "                    method='exponential_euler',)\n",
    "\n",
    "\n",
    "neurons.namespace['output_var'] = output_traces\n",
    "neurons.namespace['Nsteps'] = Nsteps\n",
    "neurons.namespace['Ntraces'] = Ntraces\n",
    "neurons.namespace['t_start'] = t_start"
   ]
  },
  {
   "cell_type": "code",
   "execution_count": 19,
   "metadata": {},
   "outputs": [
    {
     "data": {
      "text/latex": [
       "$10.0\\,\\mathrm{n}\\,\\mathrm{S}$"
      ],
      "text/plain": [
       "10. * nsiemens"
      ]
     },
     "execution_count": 19,
     "metadata": {},
     "output_type": "execute_result"
    }
   ],
   "source": [
    "d = 10 * nS\n",
    "d"
   ]
  },
  {
   "cell_type": "code",
   "execution_count": 20,
   "metadata": {},
   "outputs": [
    {
     "data": {
      "text/latex": [
       "$10.1\\,\\mathrm{n}\\,\\mathrm{S}$"
      ],
      "text/plain": [
       "10.1 * nsiemens"
      ]
     },
     "execution_count": 20,
     "metadata": {},
     "output_type": "execute_result"
    }
   ],
   "source": [
    "d =  1.01 * 10*nS\n",
    "d"
   ]
  },
  {
   "cell_type": "code",
   "execution_count": 21,
   "metadata": {},
   "outputs": [
    {
     "data": {
      "text/latex": [
       "$99.99999999999925\\,\\mathrm{p}\\,\\mathrm{S}$"
      ],
      "text/plain": [
       "100. * psiemens"
      ]
     },
     "execution_count": 21,
     "metadata": {},
     "output_type": "execute_result"
    }
   ],
   "source": [
    "dp = d - 5e-5*siemens*cm**-2 * area\n",
    "dp"
   ]
  },
  {
   "cell_type": "code",
   "execution_count": 22,
   "metadata": {},
   "outputs": [],
   "source": [
    "state = {'gl': d}\n",
    "neurons.set_states(state)"
   ]
  },
  {
   "cell_type": "code",
   "execution_count": 23,
   "metadata": {},
   "outputs": [],
   "source": [
    "neurons.I = '1*nA'\n",
    "neurons.v = El\n",
    "mon = StateMonitor(neurons, ['v', 'I','S_v_gl', 'S_m_gl', 'S_n_gl', 'S_h_gl'], record=True)"
   ]
  },
  {
   "cell_type": "code",
   "execution_count": 24,
   "metadata": {},
   "outputs": [],
   "source": [
    "run(20*ms)"
   ]
  },
  {
   "cell_type": "code",
   "execution_count": 25,
   "metadata": {},
   "outputs": [
    {
     "data": {
      "text/plain": [
       "1.6481778295806795e-06"
      ]
     },
     "execution_count": 25,
     "metadata": {},
     "output_type": "execute_result"
    }
   ],
   "source": [
    "trace = mon.v_[0]\n",
    "E = np.sum(np.square(output - trace))\n",
    "E"
   ]
  },
  {
   "cell_type": "code",
   "execution_count": 26,
   "metadata": {},
   "outputs": [
    {
     "data": {
      "text/plain": [
       "-34857.87041826462"
      ]
     },
     "execution_count": 26,
     "metadata": {},
     "output_type": "execute_result"
    }
   ],
   "source": [
    "svgl = mon.S_v_gl_[0]\n",
    "dEdp = np.sum(2 * svgl * output - 2 * svgl * trace)\n",
    "dEdp"
   ]
  },
  {
   "cell_type": "markdown",
   "metadata": {},
   "source": [
    "## Same Evaluation but In a Function"
   ]
  },
  {
   "cell_type": "code",
   "execution_count": 79,
   "metadata": {},
   "outputs": [],
   "source": [
    "def eval_neurons(d):\n",
    "    start_scope()\n",
    "    \n",
    "    neurons = NeuronGroup(1, model, method='exponential_euler',)\n",
    "    neurons.namespace['output_var'] = output_traces\n",
    "    neurons.namespace['Nsteps'] = Nsteps\n",
    "    neurons.namespace['Ntraces'] = Ntraces\n",
    "    neurons.namespace['t_start'] = t_start\n",
    "    neurons.I = '1*nA'\n",
    "    neurons.v = El\n",
    "    \n",
    "    state = {'gl': d * nS}\n",
    "    neurons.set_states(state)\n",
    "    \n",
    "    mon = StateMonitor(neurons, ['v', 'S_v_gl'], record=True)\n",
    "    \n",
    "    run(20*ms)\n",
    "\n",
    "    trace = mon.v_[0]\n",
    "    svgl = mon.S_v_gl_[0]\n",
    "    E = np.sum(np.square(output - trace))\n",
    "    dEdp = np.sum(2 * svgl * output - 2 * svgl * trace)\n",
    "    \n",
    "    return E, np.array([dEdp]), np.sum(svgl)/Nsteps"
   ]
  },
  {
   "cell_type": "code",
   "execution_count": 80,
   "metadata": {},
   "outputs": [
    {
     "data": {
      "text/plain": [
       "(3.240601321714113e-30, array([-1.18156009e-08]), array([87269.94511035]))"
      ]
     },
     "execution_count": 80,
     "metadata": {},
     "output_type": "execute_result"
    }
   ],
   "source": [
    "eval_neurons(10)"
   ]
  },
  {
   "cell_type": "code",
   "execution_count": 100,
   "metadata": {},
   "outputs": [
    {
     "name": "stderr",
     "output_type": "stream",
     "text": [
      "100%|██████████| 14/14 [00:37<00:00,  2.67s/it]\n"
     ]
    }
   ],
   "source": [
    "inp = np.arange(8,15,0.5)\n",
    "sv, out, grad = [], [], []\n",
    "\n",
    "for i in tqdm(inp):\n",
    "    a, b, c = eval_neurons(i)\n",
    "    out.append(a)\n",
    "    grad.append(b[0])\n",
    "    sv.append(c)"
   ]
  },
  {
   "cell_type": "code",
   "execution_count": 101,
   "metadata": {},
   "outputs": [
    {
     "data": {
      "text/plain": [
       "(14,)"
      ]
     },
     "execution_count": 101,
     "metadata": {},
     "output_type": "execute_result"
    }
   ],
   "source": [
    "np.shape(out)"
   ]
  },
  {
   "cell_type": "markdown",
   "metadata": {},
   "source": [
    "## Viz The Evaluation"
   ]
  },
  {
   "cell_type": "code",
   "execution_count": 102,
   "metadata": {},
   "outputs": [
    {
     "data": {
      "image/png": "[encoded data removed]",
      "text/plain": [
       "<Figure size 432x288 with 1 Axes>"
      ]
     },
     "metadata": {
      "needs_background": "light"
     },
     "output_type": "display_data"
    }
   ],
   "source": [
    "ylim(-0.0001, 0.001)\n",
    "plt.scatter(inp, out);"
   ]
  },
  {
   "cell_type": "code",
   "execution_count": 103,
   "metadata": {},
   "outputs": [
    {
     "data": {
      "image/png": "[encoded data removed]",
      "text/plain": [
       "<Figure size 432x288 with 1 Axes>"
      ]
     },
     "metadata": {
      "needs_background": "light"
     },
     "output_type": "display_data"
    }
   ],
   "source": [
    "plt.scatter(inp, grad);"
   ]
  },
  {
   "cell_type": "code",
   "execution_count": 104,
   "metadata": {},
   "outputs": [
    {
     "data": {
      "image/png": "[encoded data removed]",
      "text/plain": [
       "<Figure size 432x288 with 1 Axes>"
      ]
     },
     "metadata": {
      "needs_background": "light"
     },
     "output_type": "display_data"
    }
   ],
   "source": [
    "plt.scatter(inp, sv);"
   ]
  },
  {
   "cell_type": "markdown",
   "metadata": {},
   "source": [
    "## Basinhoppin"
   ]
  },
  {
   "cell_type": "code",
   "execution_count": 29,
   "metadata": {},
   "outputs": [],
   "source": [
    "x0 = [12]\n",
    "minimizer_kwargs = {\"method\":\"L-BFGS-B\", \"jac\":True}\n",
    "ret = basinhopping(eval_neurons, x0, minimizer_kwargs=minimizer_kwargs, niter=25)"
   ]
  },
  {
   "cell_type": "code",
   "execution_count": 30,
   "metadata": {},
   "outputs": [
    {
     "name": "stdout",
     "output_type": "stream",
     "text": [
      "10.93263400018564 0.0001338240107029903\n"
     ]
    }
   ],
   "source": [
    "print(ret.x[0], ret.fun)"
   ]
  },
  {
   "cell_type": "code",
   "execution_count": 31,
   "metadata": {},
   "outputs": [],
   "source": [
    "x0 = [12]\n",
    "minimizer_kwargs = {\"method\":\"L-BFGS-B\", \"jac\":True}\n",
    "ret = basinhopping(eval_neurons, x0, minimizer_kwargs=minimizer_kwargs, niter=50)"
   ]
  },
  {
   "cell_type": "code",
   "execution_count": 32,
   "metadata": {},
   "outputs": [
    {
     "name": "stdout",
     "output_type": "stream",
     "text": [
      "10.408498004295556 2.676102874184157e-05\n"
     ]
    }
   ],
   "source": [
    "print(ret.x[0], ret.fun)"
   ]
  },
  {
   "cell_type": "markdown",
   "metadata": {},
   "source": [
    "## Minimize"
   ]
  },
  {
   "cell_type": "code",
   "execution_count": 33,
   "metadata": {},
   "outputs": [],
   "source": [
    "def eval_neur(d):\n",
    "    start_scope()\n",
    "    \n",
    "    neurons = NeuronGroup(1, model, method='exponential_euler',)\n",
    "    neurons.namespace['output_var'] = output_traces\n",
    "    neurons.namespace['Nsteps'] = Nsteps\n",
    "    neurons.namespace['Ntraces'] = Ntraces\n",
    "    neurons.namespace['t_start'] = t_start\n",
    "    neurons.I = '1*nA'\n",
    "    neurons.v = El\n",
    "    \n",
    "    state = {'gl': d * nS}\n",
    "    neurons.set_states(state)\n",
    "    \n",
    "    mon = StateMonitor(neurons, ['v', 'S_v_gl'], record=True)\n",
    "    \n",
    "    run(20*ms)\n",
    "\n",
    "    trace = mon.v_[0]\n",
    "    E = np.sum(np.square(output - trace))\n",
    "    \n",
    "    return E"
   ]
  },
  {
   "cell_type": "code",
   "execution_count": 34,
   "metadata": {},
   "outputs": [],
   "source": [
    "def eval_neurons_grad(d):\n",
    "    start_scope()\n",
    "    \n",
    "    neurons = NeuronGroup(1, model, method='exponential_euler',)\n",
    "    neurons.namespace['output_var'] = output_traces\n",
    "    neurons.namespace['Nsteps'] = Nsteps\n",
    "    neurons.namespace['Ntraces'] = Ntraces\n",
    "    neurons.namespace['t_start'] = t_start\n",
    "    neurons.I = '1*nA'\n",
    "    neurons.v = El\n",
    "    \n",
    "    state = {'gl': d * nS}\n",
    "    neurons.set_states(state)\n",
    "    \n",
    "    mon = StateMonitor(neurons, ['v', 'S_v_gl'], record=True)\n",
    "    \n",
    "    run(20*ms)\n",
    "\n",
    "    trace = mon.v_[0]\n",
    "    svgl = mon.S_v_gl_[0]\n",
    "    E = np.sum(np.square(output - trace))\n",
    "    dEdp = np.sum(2 * svgl * output - 2 * svgl * trace)\n",
    "    \n",
    "    return dEdp"
   ]
  },
  {
   "cell_type": "code",
   "execution_count": 107,
   "metadata": {},
   "outputs": [],
   "source": [
    "ret = minimize(eval_neur, [9], method='CG')"
   ]
  },
  {
   "cell_type": "code",
   "execution_count": 108,
   "metadata": {},
   "outputs": [
    {
     "name": "stdout",
     "output_type": "stream",
     "text": [
      "10.0020829946667 7.216198095617362e-10\n"
     ]
    }
   ],
   "source": [
    "print(ret.x[0], ret.fun)"
   ]
  },
  {
   "cell_type": "code",
   "execution_count": null,
   "metadata": {},
   "outputs": [],
   "source": []
  }
 ],
 "metadata": {
  "kernelspec": {
   "display_name": "brian_opt",
   "language": "python",
   "name": "brian_opt"
  },
  "language_info": {
   "codemirror_mode": {
    "name": "ipython",
    "version": 3
   },
   "file_extension": ".py",
   "mimetype": "text/x-python",
   "name": "python",
   "nbconvert_exporter": "python",
   "pygments_lexer": "ipython3",
   "version": "3.7.3"
  }
 },
 "nbformat": 4,
 "nbformat_minor": 2
}
