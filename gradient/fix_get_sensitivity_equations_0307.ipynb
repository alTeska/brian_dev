{
 "cells": [
  {
   "cell_type": "code",
   "execution_count": 8,
   "metadata": {},
   "outputs": [],
   "source": [
    "from brian2 import * \n",
    "from brian2.parsing.sympytools import str_to_sympy \n",
    "from sympy import Matrix \n",
    "from brian2.units.fundamentalunits import DIMENSIONLESS"
   ]
  },
  {
   "cell_type": "code",
   "execution_count": 3,
   "metadata": {},
   "outputs": [],
   "source": [
    "def get_sensitivity_equations(group, parameters):\n",
    "    eqs = group.equations\n",
    "    diff_eqs = eqs.get_substituted_expressions(group.variables)\n",
    "    diff_eq_names = [name for name, _ in diff_eqs]\n",
    "\n",
    "    system = Matrix([diff_eq[1] for diff_eq in diff_eqs])\n",
    "    J = system.jacobian(diff_eq_names)\n",
    "\n",
    "    sensitivity = []\n",
    "    sensitivity_names = []\n",
    "    for parameter in parameters:\n",
    "        F = system.jacobian([parameter])\n",
    "        names = ['S_{}_{}'.format(diff_eq_name, parameter)\n",
    "                 for diff_eq_name in diff_eq_names]\n",
    "        sensitivity.append(J * Matrix(names) + F)\n",
    "        sensitivity_names.append(names)\n",
    "\n",
    "    new_eqs = []\n",
    "    for names, sensitivity_eqs, param in zip(sensitivity_names, sensitivity, parameters):\n",
    "        for name, eq, orig_var in zip(names, sensitivity_eqs, diff_eq_names):\n",
    "            unit = eqs[orig_var].dim / group.namespace[parameter].dim\n",
    "            new_eqs.append('d{lhs}/dt = {rhs} : {unit}'.format(lhs=name,\n",
    "                                                           rhs=eq,\n",
    "                                                           unit=repr(unit) if unit is not DIMENSIONLESS else '1'))\n",
    "    new_eqs = Equations('\\n'.join(new_eqs))\n",
    "    return new_eqs"
   ]
  },
  {
   "cell_type": "code",
   "execution_count": 5,
   "metadata": {},
   "outputs": [],
   "source": [
    "# Parameters\n",
    "area = 20000*umetre**2"
   ]
  },
  {
   "cell_type": "code",
   "execution_count": 4,
   "metadata": {},
   "outputs": [],
   "source": [
    "# The model\n",
    "eqs = Equations('''\n",
    "dv/dt = (gl*(El-v)-\n",
    "         g_na*(m*m*m)*h*(v-ENa)-\n",
    "         g_kd*(n*n*n*n)*(v-EK))/Cm : volt\n",
    "dm/dt = alpha_m*(1-m)-beta_m*m : 1\n",
    "dn/dt = alpha_n*(1-n)-beta_n*n : 1\n",
    "dh/dt = alpha_h*(1-h)-beta_h*h : 1\n",
    "alpha_m = 0.32*(mV**-1)*(13*mV-v+VT)/\n",
    "         (exp((13*mV-v+VT)/(4*mV))-1.)/ms : Hz\n",
    "beta_m = 0.28*(mV**-1)*(v-VT-40*mV)/\n",
    "        (exp((v-VT-40*mV)/(5*mV))-1)/ms : Hz\n",
    "alpha_h = 0.128*exp((17*mV-v+VT)/(18*mV))/ms : Hz\n",
    "beta_h = 4./(1+exp((40*mV-v+VT)/(5*mV)))/ms : Hz\n",
    "alpha_n = 0.032*(mV**-1)*(15*mV-v+VT)/\n",
    "         (exp((15*mV-v+VT)/(5*mV))-1.)/ms : Hz\n",
    "beta_n = .5*exp((10*mV-v+VT)/(40*mV))/ms : Hz\n",
    "''')"
   ]
  },
  {
   "cell_type": "code",
   "execution_count": 6,
   "metadata": {},
   "outputs": [],
   "source": [
    "P = NeuronGroup(4000, model=eqs, threshold='v>-20*mV', refractory=3*ms,\n",
    "                method='exponential_euler', namespace={'Cm': (1*ufarad*cm**-2) * area,\n",
    "                                                       'gl': (5e-5*siemens*cm**-2) * area,\n",
    "                                                       'El': -60*mV,\n",
    "                                                       'EK': -90*mV,\n",
    "                                                       'ENa': 50*mV,\n",
    "                                                       'g_na': (100*msiemens*cm**-2) * area,\n",
    "                                                       'g_kd': (30*msiemens*cm**-2) * area,\n",
    "                                                       'VT':-63*mV\n",
    "                                                       })\n"
   ]
  },
  {
   "cell_type": "code",
   "execution_count": 21,
   "metadata": {},
   "outputs": [],
   "source": [
    "xx = get_sensitivity_equations(P, ['g_na', 'gl', 'g_kd', 'El', 'EK', 'ENa'])\n",
    "# xx"
   ]
  },
  {
   "cell_type": "code",
   "execution_count": 15,
   "metadata": {},
   "outputs": [
    {
     "data": {
      "text/plain": [
       "brian2.equations.equations.Equations"
      ]
     },
     "execution_count": 15,
     "metadata": {},
     "output_type": "execute_result"
    }
   ],
   "source": [
    "new_eq = get_sensitivity_equations(P, ['g_na'])\n",
    "type(new_eq)"
   ]
  },
  {
   "cell_type": "code",
   "execution_count": 16,
   "metadata": {},
   "outputs": [
    {
     "data": {
      "text/latex": [
       "\\begin{align*}\\frac{\\mathrm{d}S_{v g na}}{\\mathrm{d}t} &= - \\frac{S_{h g na} g_{na} m^{3.0} \\left(- ENa + v\\right)}{Cm} - \\frac{3.0 S_{m g na} g_{na} h m^{2.0} \\left(- ENa + v\\right)}{Cm} - \\frac{4.0 S_{n g na} g_{kd} n^{3.0} \\left(- EK + v\\right)}{Cm} + \\frac{S_{v g na} \\left(- g_{kd} n^{4.0} - g_{na} h m^{3.0} - gl\\right)}{Cm} - \\frac{h m^{3.0} \\left(- ENa + v\\right)}{Cm} && \\text{(unit of $S_{v g na}$: $\\mathrm{m}^{4}\\,\\mathrm{kg}^{2}\\,\\mathrm{s}^{-6}\\,\\mathrm{A}^{-3}$)}\\\\\n",
       "\\frac{\\mathrm{d}S_{m g na}}{\\mathrm{d}t} &= S_{m g na} \\left(- \\frac{0.32 \\left(VT + 13.0 mV - v\\right)}{mV^{1.0} ms \\left(e^{\\frac{0.25 VT + 3.25 mV - 0.25 v}{mV}} - 1.0\\right)} - \\frac{0.28 \\left(- VT - 40.0 mV + v\\right)}{mV^{1.0} ms \\left(e^{\\frac{- 0.2 VT - 8.0 mV + 0.2 v}{mV}} - 1.0\\right)}\\right) + S_{v g na} \\left(\\frac{0.056 m \\left(- VT - 40.0 mV + v\\right) e^{\\frac{- 0.2 VT - 8.0 mV + 0.2 v}{mV}}}{mV^{2.0} ms \\left(e^{\\frac{- 0.2 VT - 8.0 mV + 0.2 v}{mV}} - 1.0\\right)^{2.0}} - \\frac{0.28 m}{mV^{1.0} ms \\left(e^{\\frac{- 0.2 VT - 8.0 mV + 0.2 v}{mV}} - 1.0\\right)} + \\frac{0.08 \\left(1.0 - m\\right) \\left(VT + 13.0 mV - v\\right) e^{\\frac{0.25 VT + 3.25 mV - 0.25 v}{mV}}}{mV^{2.0} ms \\left(e^{\\frac{0.25 VT + 3.25 mV - 0.25 v}{mV}} - 1.0\\right)^{2.0}} - \\frac{0.32 \\left(1.0 - m\\right)}{mV^{1.0} ms \\left(e^{\\frac{0.25 VT + 3.25 mV - 0.25 v}{mV}} - 1.0\\right)}\\right) && \\text{(unit of $S_{m g na}$: $\\mathrm{ohm}$)}\\\\\n",
       "\\frac{\\mathrm{d}S_{n g na}}{\\mathrm{d}t} &= S_{n g na} \\left(- \\frac{0.032 \\left(VT + 15.0 mV - v\\right)}{mV^{1.0} ms \\left(e^{\\frac{0.2 VT + 3.0 mV - 0.2 v}{mV}} - 1.0\\right)} - \\frac{0.5 e^{\\frac{0.025 VT + 0.25 mV - 0.025 v}{mV}}}{ms}\\right) + S_{v g na} \\left(\\frac{0.0064 \\left(1.0 - n\\right) \\left(VT + 15.0 mV - v\\right) e^{\\frac{0.2 VT + 3.0 mV - 0.2 v}{mV}}}{mV^{2.0} ms \\left(e^{\\frac{0.2 VT + 3.0 mV - 0.2 v}{mV}} - 1.0\\right)^{2.0}} - \\frac{0.032 \\left(1.0 - n\\right)}{mV^{1.0} ms \\left(e^{\\frac{0.2 VT + 3.0 mV - 0.2 v}{mV}} - 1.0\\right)} + \\frac{0.0125 n e^{\\frac{0.025 VT + 0.25 mV - 0.025 v}{mV}}}{mV ms}\\right) && \\text{(unit of $S_{n g na}$: $\\mathrm{ohm}$)}\\\\\n",
       "\\frac{\\mathrm{d}S_{h g na}}{\\mathrm{d}t} &= S_{h g na} \\left(- \\frac{0.128 e^{\\frac{0.0555555555555556 VT + 0.944444444444445 mV - 0.0555555555555556 v}{mV}}}{ms} - \\frac{4.0}{ms \\left(e^{\\frac{0.2 VT + 8.0 mV - 0.2 v}{mV}} + 1.0\\right)}\\right) + S_{v g na} \\left(- \\frac{0.8 h e^{\\frac{0.2 VT + 8.0 mV - 0.2 v}{mV}}}{mV ms \\left(e^{\\frac{0.2 VT + 8.0 mV - 0.2 v}{mV}} + 1.0\\right)^{2.0}} - \\frac{\\left(0.00711111111111112 - 0.00711111111111112 h\\right) e^{\\frac{0.0555555555555556 VT + 0.944444444444445 mV - 0.0555555555555556 v}{mV}}}{mV ms}\\right) && \\text{(unit of $S_{h g na}$: $\\mathrm{ohm}$)}\\end{align*}"
      ],
      "text/plain": [
       "dS_v_g_na/dt = -S_h_g_na*g_na*m**3.0*(-ENa + v)/Cm - 3.0*S_m_g_na*g_na*h*m**2.0*(-ENa + v)/Cm - 4.0*S_n_g_na*g_kd*n**3.0*(-EK + v)/Cm + S_v_g_na*(-g_kd*n**4.0 - g_na*h*m**3.0 - gl)/Cm - h*m**3.0*(-ENa + v)/Cm : metre ** 4 * kilogram ** 2 * second ** -6 * amp ** -3\n",
       "dS_m_g_na/dt = S_m_g_na*(-0.32*mV**(-1.0)*(VT + 13.0*mV - v)/(ms*(exp((0.25*VT + 3.25*mV - 0.25*v)/mV) - 1.0)) - 0.28*mV**(-1.0)*(-VT - 40.0*mV + v)/(ms*(exp((-0.2*VT - 8.0*mV + 0.2*v)/mV) - 1.0))) + S_v_g_na*(0.056*m*mV**(-2.0)*(exp((-0.2*VT - 8.0*mV + 0.2*v)/mV) - 1.0)**(-2.0)*(-VT - 40.0*mV + v)*exp((-0.2*VT - 8.0*mV + 0.2*v)/mV)/ms - 0.28*m*mV**(-1.0)/(ms*(exp((-0.2*VT - 8.0*mV + 0.2*v)/mV) - 1.0)) + 0.08*mV**(-2.0)*(1.0 - m)*(exp((0.25*VT + 3.25*mV - 0.25*v)/mV) - 1.0)**(-2.0)*(VT + 13.0*mV - v)*exp((0.25*VT + 3.25*mV - 0.25*v)/mV)/ms - 0.32*mV**(-1.0)*(1.0 - m)/(ms*(exp((0.25*VT + 3.25*mV - 0.25*v)/mV) - 1.0))) : ohm\n",
       "dS_n_g_na/dt = S_n_g_na*(-0.032*mV**(-1.0)*(VT + 15.0*mV - v)/(ms*(exp((0.2*VT + 3.0*mV - 0.2*v)/mV) - 1.0)) - 0.5*exp((0.025*VT + 0.25*mV - 0.025*v)/mV)/ms) + S_v_g_na*(0.0064*mV**(-2.0)*(1.0 - n)*(exp((0.2*VT + 3.0*mV - 0.2*v)/mV) - 1.0)**(-2.0)*(VT + 15.0*mV - v)*exp((0.2*VT + 3.0*mV - 0.2*v)/mV)/ms - 0.032*mV**(-1.0)*(1.0 - n)/(ms*(exp((0.2*VT + 3.0*mV - 0.2*v)/mV) - 1.0)) + 0.0125*n*exp((0.025*VT + 0.25*mV - 0.025*v)/mV)/(mV*ms)) : ohm\n",
       "dS_h_g_na/dt = S_h_g_na*(-0.128*exp((0.0555555555555556*VT + 0.944444444444445*mV - 0.0555555555555556*v)/mV)/ms - 4.0/(ms*(exp((0.2*VT + 8.0*mV - 0.2*v)/mV) + 1.0))) + S_v_g_na*(-0.8*h*(exp((0.2*VT + 8.0*mV - 0.2*v)/mV) + 1.0)**(-2.0)*exp((0.2*VT + 8.0*mV - 0.2*v)/mV)/(mV*ms) - (0.00711111111111112 - 0.00711111111111112*h)*exp((0.0555555555555556*VT + 0.944444444444445*mV - 0.0555555555555556*v)/mV)/(mV*ms)) : ohm\n"
      ]
     },
     "execution_count": 16,
     "metadata": {},
     "output_type": "execute_result"
    }
   ],
   "source": [
    "new_eq"
   ]
  },
  {
   "cell_type": "code",
   "execution_count": null,
   "metadata": {},
   "outputs": [],
   "source": []
  }
 ],
 "metadata": {
  "kernelspec": {
   "display_name": "brian_opt",
   "language": "python",
   "name": "brian_opt"
  },
  "language_info": {
   "codemirror_mode": {
    "name": "ipython",
    "version": 3
   },
   "file_extension": ".py",
   "mimetype": "text/x-python",
   "name": "python",
   "nbconvert_exporter": "python",
   "pygments_lexer": "ipython3",
   "version": "3.7.3"
  }
 },
 "nbformat": 4,
 "nbformat_minor": 2
}
