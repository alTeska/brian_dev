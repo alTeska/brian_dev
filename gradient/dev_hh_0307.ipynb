{
 "cells": [
  {
   "cell_type": "markdown",
   "metadata": {},
   "source": [
    "# Base Hopping using Brian Evaluation"
   ]
  },
  {
   "cell_type": "code",
   "execution_count": 1,
   "metadata": {},
   "outputs": [
    {
     "name": "stderr",
     "output_type": "stream",
     "text": [
      "WARNING    /home/alteska/anaconda3/envs/brian_opt/lib/python3.7/site-packages/sklearn/externals/joblib/__init__.py:15: DeprecationWarning: sklearn.externals.joblib is deprecated in 0.21 and will be removed in 0.23. Please import this functionality directly from joblib, which can be installed with: pip install joblib. If this warning is raised when loading pickled models, you may need to re-serialize those models with scikit-learn 0.21+.\n",
      "  warnings.warn(msg, category=DeprecationWarning)\n",
      " [py.warnings]\n"
     ]
    }
   ],
   "source": [
    "import numpy as np\n",
    "from brian2 import *\n",
    "from brian2tools import *\n",
    "from sympy import *\n",
    "from brian2.units.fundamentalunits import DIMENSIONLESS"
   ]
  },
  {
   "cell_type": "markdown",
   "metadata": {},
   "source": [
    "## Senstivity to Create The new system of Equations"
   ]
  },
  {
   "cell_type": "code",
   "execution_count": 2,
   "metadata": {},
   "outputs": [],
   "source": [
    "def get_sensitivity_equations(group, parameters):\n",
    "    eqs = group.equations\n",
    "    diff_eqs = eqs.get_substituted_expressions(group.variables)\n",
    "    diff_eq_names = [name for name, _ in diff_eqs]\n",
    "\n",
    "    system = Matrix([diff_eq[1] for diff_eq in diff_eqs])\n",
    "    J = system.jacobian(diff_eq_names)\n",
    "\n",
    "    sensitivity = []\n",
    "    sensitivity_names = []\n",
    "    for parameter in parameters:\n",
    "        F = system.jacobian([parameter])\n",
    "        names = ['S_{}_{}'.format(diff_eq_name, parameter)\n",
    "                 for diff_eq_name in diff_eq_names]\n",
    "        sensitivity.append(J * Matrix(names) + F)\n",
    "        sensitivity_names.append(names)\n",
    "\n",
    "    new_eqs = []\n",
    "    for names, sensitivity_eqs, param in zip(sensitivity_names, sensitivity, parameters):\n",
    "        for name, eq, orig_var in zip(names, sensitivity_eqs, diff_eq_names):\n",
    "            unit = eqs[orig_var].dim / group.namespace[parameter].dim\n",
    "            new_eqs.append('d{lhs}/dt = {rhs} : {unit}'.format(lhs=name,\n",
    "                                                           rhs=eq,\n",
    "                                                           unit=repr(unit) if unit is not DIMENSIONLESS else '1'))\n",
    "    new_eqs = Equations('\\n'.join(new_eqs))\n",
    "    return new_eqs"
   ]
  },
  {
   "cell_type": "markdown",
   "metadata": {},
   "source": [
    "## Neuron Example with HH"
   ]
  },
  {
   "cell_type": "code",
   "execution_count": 3,
   "metadata": {},
   "outputs": [],
   "source": [
    "dt = 0.1 * ms\n",
    "defaultclock.dt = dt\n",
    "input_current = np.hstack([np.zeros(int(5*ms/dt)), np.ones(int(5*ms/dt)), np.zeros(int(5*ms/dt))])*2*nA\n",
    "# I = TimedArray(input_current, dt=dt)\n"
   ]
  },
  {
   "cell_type": "code",
   "execution_count": 4,
   "metadata": {},
   "outputs": [],
   "source": [
    "duration = 2*second\n",
    "\n",
    "# Parameters\n",
    "area = 20000*umetre**2\n",
    "# gl = 5e-5*siemens*cm**-2 * area\n",
    "Cm = 1*ufarad*cm**-2 * area\n",
    "El = -65*mV\n",
    "EK = -90*mV\n",
    "ENa = 50*mV\n",
    "g_na = 100*msiemens*cm**-2 * area\n",
    "g_kd = 30*msiemens*cm**-2 * area\n",
    "VT = -63*mV"
   ]
  },
  {
   "cell_type": "code",
   "execution_count": 5,
   "metadata": {},
   "outputs": [],
   "source": [
    "# The model\n",
    "eqs = Equations('''\n",
    "dv/dt = (gl*(El-v) - g_na*(m*m*m)*h*(v-ENa) - g_kd*(n*n*n*n)*(v-EK) + I) / Cm : volt\n",
    "dm/dt = 0.32*(mV**-1)*(13.*mV-v+VT)/\n",
    "    (exp((13.*mV-v+VT)/(4.*mV))-1.)/ms*(1-m)-0.28*(mV**-1)*(v-VT-40.*mV)/\n",
    "    (exp((v-VT-40.*mV)/(5.*mV))-1.)/ms*m : 1\n",
    "dn/dt = 0.032*(mV**-1)*(15.*mV-v+VT)/\n",
    "    (exp((15.*mV-v+VT)/(5.*mV))-1.)/ms*(1.-n)-.5*exp((10.*mV-v+VT)/(40.*mV))/ms*n : 1\n",
    "dh/dt = 0.128*exp((17.*mV-v+VT)/(18.*mV))/ms*(1.-h)-4./(1+exp((40.*mV-v+VT)/(5.*mV)))/ms*h : 1\n",
    "I: amp \n",
    "'''\n",
    ")"
   ]
  },
  {
   "cell_type": "code",
   "execution_count": 6,
   "metadata": {},
   "outputs": [],
   "source": [
    "start_scope()"
   ]
  },
  {
   "cell_type": "code",
   "execution_count": 7,
   "metadata": {},
   "outputs": [],
   "source": [
    "group = NeuronGroup(1, eqs,\n",
    "                    method='exponential_euler',\n",
    "                    namespace={'gl': 5e-5*siemens*cm**-2 * area,})\n",
    "group.I = '1*nA'\n",
    "group.v = El\n",
    "mon = StateMonitor(group, ['v', 'I'], record=True)"
   ]
  },
  {
   "cell_type": "code",
   "execution_count": 8,
   "metadata": {},
   "outputs": [],
   "source": [
    "# namespace={'Cm': 1*ufarad*cm**-2 * area,\n",
    "#                                'gl': 5e-5*siemens*cm**-2 * area,\n",
    "#                                'El': -65*mV,\n",
    "#                                'EK': -90*mV,\n",
    "#                                'ENa': 50*mV,\n",
    "#                                'g_na': 100*msiemens*cm**-2 * area,\n",
    "#                                'g_kd': 30*msiemens*cm**-2 * area,\n",
    "#                                 'VT': -63*mV})\n",
    "# # group.v = El"
   ]
  },
  {
   "cell_type": "code",
   "execution_count": 9,
   "metadata": {},
   "outputs": [],
   "source": [
    "run(20*ms)"
   ]
  },
  {
   "cell_type": "code",
   "execution_count": 10,
   "metadata": {},
   "outputs": [
    {
     "data": {
      "image/png": "[encoded data removed]",
      "text/plain": [
       "<Figure size 432x288 with 1 Axes>"
      ]
     },
     "metadata": {
      "needs_background": "light"
     },
     "output_type": "display_data"
    }
   ],
   "source": [
    "plt.plot(mon.v[0]/mV);\n",
    "plt.plot(mon.I[0]/nA);"
   ]
  },
  {
   "cell_type": "code",
   "execution_count": 11,
   "metadata": {},
   "outputs": [],
   "source": [
    "# eqs"
   ]
  },
  {
   "cell_type": "code",
   "execution_count": 12,
   "metadata": {},
   "outputs": [
    {
     "data": {
      "text/latex": [
       "\\begin{align*}\\frac{\\mathrm{d}S_{v gl}}{\\mathrm{d}t} &= - \\frac{S_{h gl} g_{na} m^{3.0} \\left(- ENa + v\\right)}{Cm} - \\frac{3.0 S_{m gl} g_{na} h m^{2.0} \\left(- ENa + v\\right)}{Cm} - \\frac{4.0 S_{n gl} g_{kd} n^{3.0} \\left(- EK + v\\right)}{Cm} + \\frac{S_{v gl} \\left(- g_{kd} n^{4.0} - g_{na} h m^{3.0} - gl\\right)}{Cm} + \\frac{El - v}{Cm} && \\text{(unit of $S_{v gl}$: $\\mathrm{m}^{4}\\,\\mathrm{kg}^{2}\\,\\mathrm{s}^{-6}\\,\\mathrm{A}^{-3}$)}\\\\\n",
       "\\frac{\\mathrm{d}S_{m gl}}{\\mathrm{d}t} &= S_{m gl} \\left(- \\frac{0.32 \\left(VT + 13.0 mV - v\\right)}{mV^{1.0} ms \\left(e^{\\frac{0.25 VT + 3.25 mV - 0.25 v}{mV}} - 1.0\\right)} - \\frac{0.28 \\left(- VT - 40.0 mV + v\\right)}{mV^{1.0} ms \\left(e^{\\frac{- 0.2 VT - 8.0 mV + 0.2 v}{mV}} - 1.0\\right)}\\right) + S_{v gl} \\left(\\frac{0.056 m \\left(- VT - 40.0 mV + v\\right) e^{\\frac{- 0.2 VT - 8.0 mV + 0.2 v}{mV}}}{mV^{2.0} ms \\left(e^{\\frac{- 0.2 VT - 8.0 mV + 0.2 v}{mV}} - 1.0\\right)^{2.0}} - \\frac{0.28 m}{mV^{1.0} ms \\left(e^{\\frac{- 0.2 VT - 8.0 mV + 0.2 v}{mV}} - 1.0\\right)} + \\frac{0.08 \\left(1.0 - m\\right) \\left(VT + 13.0 mV - v\\right) e^{\\frac{0.25 VT + 3.25 mV - 0.25 v}{mV}}}{mV^{2.0} ms \\left(e^{\\frac{0.25 VT + 3.25 mV - 0.25 v}{mV}} - 1.0\\right)^{2.0}} - \\frac{0.32 \\left(1.0 - m\\right)}{mV^{1.0} ms \\left(e^{\\frac{0.25 VT + 3.25 mV - 0.25 v}{mV}} - 1.0\\right)}\\right) && \\text{(unit of $S_{m gl}$: $\\mathrm{ohm}$)}\\\\\n",
       "\\frac{\\mathrm{d}S_{n gl}}{\\mathrm{d}t} &= S_{n gl} \\left(- \\frac{0.032 \\left(VT + 15.0 mV - v\\right)}{mV^{1.0} ms \\left(e^{\\frac{0.2 VT + 3.0 mV - 0.2 v}{mV}} - 1.0\\right)} - \\frac{0.5 e^{\\frac{0.025 VT + 0.25 mV - 0.025 v}{mV}}}{ms}\\right) + S_{v gl} \\left(\\frac{0.0064 \\left(1.0 - n\\right) \\left(VT + 15.0 mV - v\\right) e^{\\frac{0.2 VT + 3.0 mV - 0.2 v}{mV}}}{mV^{2.0} ms \\left(e^{\\frac{0.2 VT + 3.0 mV - 0.2 v}{mV}} - 1.0\\right)^{2.0}} - \\frac{0.032 \\left(1.0 - n\\right)}{mV^{1.0} ms \\left(e^{\\frac{0.2 VT + 3.0 mV - 0.2 v}{mV}} - 1.0\\right)} + \\frac{0.0125 n e^{\\frac{0.025 VT + 0.25 mV - 0.025 v}{mV}}}{mV ms}\\right) && \\text{(unit of $S_{n gl}$: $\\mathrm{ohm}$)}\\\\\n",
       "\\frac{\\mathrm{d}S_{h gl}}{\\mathrm{d}t} &= S_{h gl} \\left(- \\frac{0.128 e^{\\frac{0.0555555555555556 VT + 0.944444444444445 mV - 0.0555555555555556 v}{mV}}}{ms} - \\frac{4.0}{ms \\left(e^{\\frac{0.2 VT + 8.0 mV - 0.2 v}{mV}} + 1.0\\right)}\\right) + S_{v gl} \\left(- \\frac{0.8 h e^{\\frac{0.2 VT + 8.0 mV - 0.2 v}{mV}}}{mV ms \\left(e^{\\frac{0.2 VT + 8.0 mV - 0.2 v}{mV}} + 1.0\\right)^{2.0}} - \\frac{\\left(0.00711111111111112 - 0.00711111111111112 h\\right) e^{\\frac{0.0555555555555556 VT + 0.944444444444445 mV - 0.0555555555555556 v}{mV}}}{mV ms}\\right) && \\text{(unit of $S_{h gl}$: $\\mathrm{ohm}$)}\\end{align*}"
      ],
      "text/plain": [
       "dS_v_gl/dt = -S_h_gl*g_na*m**3.0*(-ENa + v)/Cm - 3.0*S_m_gl*g_na*h*m**2.0*(-ENa + v)/Cm - 4.0*S_n_gl*g_kd*n**3.0*(-EK + v)/Cm + S_v_gl*(-g_kd*n**4.0 - g_na*h*m**3.0 - gl)/Cm + (El - v)/Cm : metre ** 4 * kilogram ** 2 * second ** -6 * amp ** -3\n",
       "dS_m_gl/dt = S_m_gl*(-0.32*mV**(-1.0)*(VT + 13.0*mV - v)/(ms*(exp((0.25*VT + 3.25*mV - 0.25*v)/mV) - 1.0)) - 0.28*mV**(-1.0)*(-VT - 40.0*mV + v)/(ms*(exp((-0.2*VT - 8.0*mV + 0.2*v)/mV) - 1.0))) + S_v_gl*(0.056*m*mV**(-2.0)*(exp((-0.2*VT - 8.0*mV + 0.2*v)/mV) - 1.0)**(-2.0)*(-VT - 40.0*mV + v)*exp((-0.2*VT - 8.0*mV + 0.2*v)/mV)/ms - 0.28*m*mV**(-1.0)/(ms*(exp((-0.2*VT - 8.0*mV + 0.2*v)/mV) - 1.0)) + 0.08*mV**(-2.0)*(1.0 - m)*(exp((0.25*VT + 3.25*mV - 0.25*v)/mV) - 1.0)**(-2.0)*(VT + 13.0*mV - v)*exp((0.25*VT + 3.25*mV - 0.25*v)/mV)/ms - 0.32*mV**(-1.0)*(1.0 - m)/(ms*(exp((0.25*VT + 3.25*mV - 0.25*v)/mV) - 1.0))) : ohm\n",
       "dS_n_gl/dt = S_n_gl*(-0.032*mV**(-1.0)*(VT + 15.0*mV - v)/(ms*(exp((0.2*VT + 3.0*mV - 0.2*v)/mV) - 1.0)) - 0.5*exp((0.025*VT + 0.25*mV - 0.025*v)/mV)/ms) + S_v_gl*(0.0064*mV**(-2.0)*(1.0 - n)*(exp((0.2*VT + 3.0*mV - 0.2*v)/mV) - 1.0)**(-2.0)*(VT + 15.0*mV - v)*exp((0.2*VT + 3.0*mV - 0.2*v)/mV)/ms - 0.032*mV**(-1.0)*(1.0 - n)/(ms*(exp((0.2*VT + 3.0*mV - 0.2*v)/mV) - 1.0)) + 0.0125*n*exp((0.025*VT + 0.25*mV - 0.025*v)/mV)/(mV*ms)) : ohm\n",
       "dS_h_gl/dt = S_h_gl*(-0.128*exp((0.0555555555555556*VT + 0.944444444444445*mV - 0.0555555555555556*v)/mV)/ms - 4.0/(ms*(exp((0.2*VT + 8.0*mV - 0.2*v)/mV) + 1.0))) + S_v_gl*(-0.8*h*(exp((0.2*VT + 8.0*mV - 0.2*v)/mV) + 1.0)**(-2.0)*exp((0.2*VT + 8.0*mV - 0.2*v)/mV)/(mV*ms) - (0.00711111111111112 - 0.00711111111111112*h)*exp((0.0555555555555556*VT + 0.944444444444445*mV - 0.0555555555555556*v)/mV)/(mV*ms)) : ohm\n"
      ]
     },
     "execution_count": 12,
     "metadata": {},
     "output_type": "execute_result"
    }
   ],
   "source": [
    "new_eqs = get_sensitivity_equations(group, ['gl'])\n",
    "new_eqs"
   ]
  },
  {
   "cell_type": "code",
   "execution_count": 13,
   "metadata": {},
   "outputs": [
    {
     "data": {
      "text/plain": [
       "brian2.equations.equations.Equations"
      ]
     },
     "execution_count": 13,
     "metadata": {},
     "output_type": "execute_result"
    }
   ],
   "source": [
    "type(new_eqs)"
   ]
  },
  {
   "cell_type": "markdown",
   "metadata": {},
   "source": [
    "#### Get Names of The New Variables"
   ]
  },
  {
   "cell_type": "code",
   "execution_count": 14,
   "metadata": {},
   "outputs": [
    {
     "data": {
      "text/plain": [
       "['S_v_gl', 'S_m_gl', 'S_n_gl', 'S_h_gl']"
      ]
     },
     "execution_count": 14,
     "metadata": {},
     "output_type": "execute_result"
    }
   ],
   "source": [
    "gg = NeuronGroup(1, new_eqs)\n",
    "diff_eqs = new_eqs.get_substituted_expressions(gg.variables)\n",
    "diff_eq_names = [name for name, _ in diff_eqs]\n",
    "diff_eq_names"
   ]
  },
  {
   "cell_type": "markdown",
   "metadata": {},
   "source": [
    "### Vizualize the Sensitivty Variables"
   ]
  },
  {
   "cell_type": "code",
   "execution_count": 15,
   "metadata": {},
   "outputs": [],
   "source": [
    "start_scope()"
   ]
  },
  {
   "cell_type": "code",
   "execution_count": 16,
   "metadata": {},
   "outputs": [],
   "source": [
    "model = eqs + new_eqs\n",
    "\n",
    "group = NeuronGroup(1, model,\n",
    "                    method='exponential_euler',\n",
    "                    namespace={'gl': 5e-5*siemens*cm**-2 * area,})\n",
    "group.I = '1*nA'\n",
    "group.v = El\n",
    "mon = StateMonitor(group, ['v', 'I','S_v_gl', 'S_m_gl', 'S_n_gl', 'S_h_gl'], record=True)"
   ]
  },
  {
   "cell_type": "code",
   "execution_count": 17,
   "metadata": {},
   "outputs": [],
   "source": [
    "run(20*ms)"
   ]
  },
  {
   "cell_type": "code",
   "execution_count": 18,
   "metadata": {},
   "outputs": [
    {
     "data": {
      "text/plain": [
       "metre ** 4 * kilogram ** 2 * second ** -6 * amp ** -3"
      ]
     },
     "execution_count": 18,
     "metadata": {},
     "output_type": "execute_result"
    }
   ],
   "source": [
    "output = mon.v\n",
    "der_out = mon.S_v_gl\n",
    "der_out.dim"
   ]
  },
  {
   "cell_type": "code",
   "execution_count": 19,
   "metadata": {},
   "outputs": [
    {
     "data": {
      "image/png": "[encoded data removed]",
      "text/plain": [
       "<Figure size 432x288 with 1 Axes>"
      ]
     },
     "metadata": {
      "needs_background": "light"
     },
     "output_type": "display_data"
    }
   ],
   "source": [
    "plt.plot(mon.v[0]/mV);\n",
    "plt.plot(mon.I[0]/nA);"
   ]
  },
  {
   "cell_type": "code",
   "execution_count": 20,
   "metadata": {},
   "outputs": [
    {
     "data": {
      "image/png": "[encoded data removed]",
      "text/plain": [
       "<Figure size 1440x360 with 4 Axes>"
      ]
     },
     "metadata": {
      "needs_background": "light"
     },
     "output_type": "display_data"
    }
   ],
   "source": [
    "fig, ax = plt.subplots(ncols=4, figsize=(20,5))\n",
    "\n",
    "ax[0].plot(mon.S_v_gl[0]);\n",
    "ax[1].plot(mon.S_m_gl[0]);\n",
    "ax[2].plot(mon.S_n_gl[0]);\n",
    "ax[3].plot(mon.S_h_gl[0]);"
   ]
  },
  {
   "cell_type": "markdown",
   "metadata": {},
   "source": [
    "### Create working model to plug into the function"
   ]
  },
  {
   "cell_type": "code",
   "execution_count": 21,
   "metadata": {},
   "outputs": [],
   "source": [
    "# The model\n",
    "eqs_fit = Equations('''\n",
    "dv/dt = (gl*(El-v) - g_na*(m*m*m)*h*(v-ENa) - g_kd*(n*n*n*n)*(v-EK) + I) / Cm : volt\n",
    "dm/dt = 0.32*(mV**-1)*(13.*mV-v+VT)/\n",
    "    (exp((13.*mV-v+VT)/(4.*mV))-1.)/ms*(1-m)-0.28*(mV**-1)*(v-VT-40.*mV)/\n",
    "    (exp((v-VT-40.*mV)/(5.*mV))-1.)/ms*m : 1\n",
    "dn/dt = 0.032*(mV**-1)*(15.*mV-v+VT)/\n",
    "    (exp((15.*mV-v+VT)/(5.*mV))-1.)/ms*(1.-n)-.5*exp((10.*mV-v+VT)/(40.*mV))/ms*n : 1\n",
    "dh/dt = 0.128*exp((17.*mV-v+VT)/(18.*mV))/ms*(1.-h)-4./(1+exp((40.*mV-v+VT)/(5.*mV)))/ms*h : 1\n",
    "I: amp \n",
    "gl: siemens(constant)\n",
    "'''\n",
    ")"
   ]
  },
  {
   "cell_type": "code",
   "execution_count": 22,
   "metadata": {},
   "outputs": [],
   "source": [
    "t_start=0*second\n",
    "n_samples = 1"
   ]
  },
  {
   "cell_type": "code",
   "execution_count": 23,
   "metadata": {},
   "outputs": [],
   "source": [
    "model = eqs_fit + new_eqs\n",
    "error_unit = output.dim**2\n",
    "dedp_unit = (der_out.dim * output.dim)**2"
   ]
  },
  {
   "cell_type": "code",
   "execution_count": 24,
   "metadata": {},
   "outputs": [],
   "source": [
    "Ntraces, Nsteps = output.shape\n",
    "duration = Nsteps * dt\n",
    "output_traces = TimedArray(output.transpose(), dt=dt)\n",
    "output_var = 'v'"
   ]
  },
  {
   "cell_type": "code",
   "execution_count": 25,
   "metadata": {},
   "outputs": [],
   "source": [
    "model = model + Equations('total_error : %s' % repr(error_unit))\n",
    "model = model + Equations('dE_dp : %s' % repr(dedp_unit))"
   ]
  },
  {
   "cell_type": "code",
   "execution_count": 26,
   "metadata": {},
   "outputs": [],
   "source": [
    "start_scope()"
   ]
  },
  {
   "cell_type": "code",
   "execution_count": 27,
   "metadata": {},
   "outputs": [
    {
     "data": {
      "text/plain": [
       "CodeRunner(clock=Clock(dt=100. * usecond, name='defaultclock'), when=end, order=0, name='neurongroup_run_regularly_1')"
      ]
     },
     "execution_count": 27,
     "metadata": {},
     "output_type": "execute_result"
    }
   ],
   "source": [
    "neurons = NeuronGroup(1, model,\n",
    "                    method='exponential_euler',)\n",
    "\n",
    "\n",
    "neurons.namespace['output_var'] = output_traces\n",
    "neurons.namespace['Nsteps'] = Nsteps\n",
    "neurons.namespace['Ntraces'] = Ntraces\n",
    "neurons.namespace['t_start'] = t_start\n",
    "\n",
    "\n",
    "neurons.run_regularly('total_error +=  (' + output_var + '-output_var\\\n",
    "                      (t,i % Ntraces))**2 * int(t>=t_start)', when='end')\n",
    "\n",
    "neurons.run_regularly('dE_dp += (2 * S_v_gl*' + output_var + '- 2 * S_v_gl * output_var\\\n",
    "                      (t,i % Ntraces))**2 * int(t>=t_start)', when='end')"
   ]
  },
  {
   "cell_type": "code",
   "execution_count": 28,
   "metadata": {},
   "outputs": [
    {
     "data": {
      "text/latex": [
       "$10.0\\,\\mathrm{n}\\,\\mathrm{S}$"
      ],
      "text/plain": [
       "10. * nsiemens"
      ]
     },
     "execution_count": 28,
     "metadata": {},
     "output_type": "execute_result"
    }
   ],
   "source": [
    "d = 10 * nS\n",
    "d"
   ]
  },
  {
   "cell_type": "code",
   "execution_count": 29,
   "metadata": {},
   "outputs": [
    {
     "data": {
      "text/latex": [
       "$10.1\\,\\mathrm{n}\\,\\mathrm{S}$"
      ],
      "text/plain": [
       "10.1 * nsiemens"
      ]
     },
     "execution_count": 29,
     "metadata": {},
     "output_type": "execute_result"
    }
   ],
   "source": [
    "d =  1.01 * 10*nS\n",
    "d"
   ]
  },
  {
   "cell_type": "code",
   "execution_count": 30,
   "metadata": {},
   "outputs": [
    {
     "data": {
      "text/latex": [
       "$99.99999999999925\\,\\mathrm{p}\\,\\mathrm{S}$"
      ],
      "text/plain": [
       "100. * psiemens"
      ]
     },
     "execution_count": 30,
     "metadata": {},
     "output_type": "execute_result"
    }
   ],
   "source": [
    "dp = d - 5e-5*siemens*cm**-2 * area\n",
    "dp"
   ]
  },
  {
   "cell_type": "code",
   "execution_count": 31,
   "metadata": {},
   "outputs": [],
   "source": [
    "state = {'gl': d}\n",
    "neurons.set_states(state)"
   ]
  },
  {
   "cell_type": "code",
   "execution_count": 32,
   "metadata": {},
   "outputs": [],
   "source": [
    "neurons.I = '1*nA'\n",
    "neurons.v = El\n",
    "mon = StateMonitor(neurons, ['v', 'I','S_v_gl', 'S_m_gl', 'S_n_gl', 'S_h_gl', 'dE_dp', 'total_error'], record=True)"
   ]
  },
  {
   "cell_type": "code",
   "execution_count": 33,
   "metadata": {},
   "outputs": [],
   "source": [
    "run(20*ms)"
   ]
  },
  {
   "cell_type": "markdown",
   "metadata": {},
   "source": [
    "### Calculate Errors Offline"
   ]
  },
  {
   "cell_type": "code",
   "execution_count": 34,
   "metadata": {},
   "outputs": [
    {
     "data": {
      "text/latex": [
       "$1.6481778295783496\\,\\mathrm{mV^2}$"
      ],
      "text/plain": [
       "1.64817783 * mvolt2"
      ]
     },
     "execution_count": 34,
     "metadata": {},
     "output_type": "execute_result"
    }
   ],
   "source": [
    "trace = mon.v[0]\n",
    "E = np.sum(np.square(output - trace))\n",
    "E"
   ]
  },
  {
   "cell_type": "code",
   "execution_count": 46,
   "metadata": {},
   "outputs": [
    {
     "data": {
      "text/latex": [
       "$-17428.93520912698\\,m^{6}\\,kg^{3}\\,s^{-9}\\,A^{-4}$"
      ],
      "text/plain": [
       "-17428.93520913 * metre ** 6 * kilogram ** 3 * second ** -9 * amp ** -4"
      ]
     },
     "execution_count": 46,
     "metadata": {},
     "output_type": "execute_result"
    }
   ],
   "source": [
    "svgl = mon.S_v_gl[0]\n",
    "dEdp = np.sum(2 * svgl * output - 2 * svgl * trace)\n",
    "dEdp"
   ]
  },
  {
   "cell_type": "code",
   "execution_count": 47,
   "metadata": {},
   "outputs": [
    {
     "data": {
      "text/latex": [
       "$1.6481778295783496\\,\\mathrm{mV^2}$"
      ],
      "text/plain": [
       "1.64817783 * mvolt2"
      ]
     },
     "execution_count": 47,
     "metadata": {},
     "output_type": "execute_result"
    }
   ],
   "source": [
    "E"
   ]
  },
  {
   "cell_type": "code",
   "execution_count": 51,
   "metadata": {},
   "outputs": [
    {
     "data": {
      "text/latex": [
       "$-1.7428935209126848\\,\\mathrm{mV^2}$"
      ],
      "text/plain": [
       "-1.74289352 * mvolt2"
      ]
     },
     "execution_count": 51,
     "metadata": {},
     "output_type": "execute_result"
    }
   ],
   "source": [
    "dEdp * dp"
   ]
  },
  {
   "cell_type": "code",
   "execution_count": 54,
   "metadata": {},
   "outputs": [
    {
     "data": {
      "text/latex": [
       "$-1.7428935209126848\\,\\mathrm{mV^2}$"
      ],
      "text/plain": [
       "-1.74289352 * mvolt2"
      ]
     },
     "execution_count": 54,
     "metadata": {},
     "output_type": "execute_result"
    }
   ],
   "source": [
    "dEdp * dp "
   ]
  },
  {
   "cell_type": "markdown",
   "metadata": {},
   "source": [
    "### Calculate Errors Online"
   ]
  },
  {
   "cell_type": "code",
   "execution_count": 39,
   "metadata": {},
   "outputs": [],
   "source": [
    "def calc_error():\n",
    "    \"\"\"calculate online error\"\"\"\n",
    "    err = neurons.total_error/int((duration-t_start)/defaultclock.dt)\n",
    "    err = mean(err.reshape((n_samples, Ntraces)), axis=1)\n",
    "\n",
    "    return np.array(err)"
   ]
  },
  {
   "cell_type": "code",
   "execution_count": 40,
   "metadata": {},
   "outputs": [],
   "source": [
    "def calc_dedp():\n",
    "    \"\"\"calculate online error\"\"\"\n",
    "    err = neurons.dE_dp/int((duration-t_start)/defaultclock.dt)\n",
    "    err = mean(err.reshape((n_samples, Ntraces)), axis=1)\n",
    "\n",
    "    return np.array(err)"
   ]
  },
  {
   "cell_type": "code",
   "execution_count": 41,
   "metadata": {},
   "outputs": [
    {
     "name": "stdout",
     "output_type": "stream",
     "text": [
      "[4.80210341e-05] [3.16242873e+09] [151863.09756487]\n"
     ]
    }
   ],
   "source": [
    "errors = calc_error()\n",
    "dedp = calc_dedp()\n",
    "print(errors, dedp, errors*dedp)"
   ]
  },
  {
   "cell_type": "code",
   "execution_count": 42,
   "metadata": {},
   "outputs": [
    {
     "data": {
      "image/png": "[encoded data removed]",
      "text/plain": [
       "<Figure size 1080x360 with 3 Axes>"
      ]
     },
     "metadata": {
      "needs_background": "light"
     },
     "output_type": "display_data"
    }
   ],
   "source": [
    "fig, ax = plt.subplots(ncols=3, figsize=(15,5))\n",
    "\n",
    "ax[0].plot(mon.total_error[0].transpose());\n",
    "ax[1].plot(mon.dE_dp[0].transpose());\n",
    "\n",
    "ax[2].plot(output.transpose()/mV)\n",
    "ax[2].plot(mon.v[0]/mV);"
   ]
  },
  {
   "cell_type": "code",
   "execution_count": null,
   "metadata": {},
   "outputs": [],
   "source": []
  }
 ],
 "metadata": {
  "kernelspec": {
   "display_name": "brian_opt",
   "language": "python",
   "name": "brian_opt"
  },
  "language_info": {
   "codemirror_mode": {
    "name": "ipython",
    "version": 3
   },
   "file_extension": ".py",
   "mimetype": "text/x-python",
   "name": "python",
   "nbconvert_exporter": "python",
   "pygments_lexer": "ipython3",
   "version": "3.7.3"
  }
 },
 "nbformat": 4,
 "nbformat_minor": 2
}
