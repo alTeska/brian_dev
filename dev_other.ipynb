{
 "cells": [
  {
   "cell_type": "markdown",
   "metadata": {},
   "source": [
    "# Random Dev For Optimizer and It's Tests"
   ]
  },
  {
   "cell_type": "code",
   "execution_count": 1,
   "metadata": {},
   "outputs": [
    {
     "name": "stderr",
     "output_type": "stream",
     "text": [
      "WARNING    /home/alteska/anaconda3/envs/brian_opt/lib/python3.7/site-packages/sklearn/externals/joblib/__init__.py:15: DeprecationWarning: sklearn.externals.joblib is deprecated in 0.21 and will be removed in 0.23. Please import this functionality directly from joblib, which can be installed with: pip install joblib. If this warning is raised when loading pickled models, you may need to re-serialize those models with scikit-learn 0.21+.\n",
      "  warnings.warn(msg, category=DeprecationWarning)\n",
      " [py.warnings]\n"
     ]
    }
   ],
   "source": [
    "from numpy.testing.utils import assert_equal\n",
    "\n",
    "from brian2 import *\n",
    "import numpy as np\n",
    "from brian2tools import NevergradOptimizer, SkoptOptimizer\n",
    "\n",
    "from nevergrad.optimization import optimizerlib\n",
    "from nevergrad import instrumentation as inst"
   ]
  },
  {
   "cell_type": "code",
   "execution_count": 2,
   "metadata": {},
   "outputs": [],
   "source": [
    "candidates, parameters = [], []\n",
    "\n",
    "# create input and output\n",
    "input_traces = np.zeros((10,5))*volt\n",
    "for i in range(5):\n",
    "    input_traces[5:,i]=i*10*mV\n",
    "\n",
    "output_traces = 10*nS*input_traces\n",
    "\n",
    "model = Equations('''\n",
    "    I = g*(v-E) : amp\n",
    "    g : siemens (constant)\n",
    "    E : volt (constant)\n",
    "    ''')\n",
    "\n",
    "# setup the nevergrad optimizer\n",
    "arg1 = inst.var.Array(1).bounded(-5, 5).asscalar()\n",
    "arg2 = inst.var.Array(1).bounded(0, 10).asscalar()\n",
    "instrum = inst.Instrumentation(arg1, arg2)\n",
    "optim = optimizerlib.registry['DE'](instrumentation=instrum, budget=10000)\n",
    "\n",
    "for _ in range(10):\n",
    "    cand = optim.ask()\n",
    "    candidates.append(cand)\n",
    "    parameters.append(list(cand.args))"
   ]
  },
  {
   "cell_type": "code",
   "execution_count": 3,
   "metadata": {},
   "outputs": [
    {
     "data": {
      "text/plain": [
       "(-1.972068745163504, 3.3248429941269806)"
      ]
     },
     "execution_count": 3,
     "metadata": {},
     "output_type": "execute_result"
    }
   ],
   "source": [
    "candidates[0].args"
   ]
  },
  {
   "cell_type": "code",
   "execution_count": 4,
   "metadata": {},
   "outputs": [
    {
     "data": {
      "text/plain": [
       "[5, 10, 15]"
      ]
     },
     "execution_count": 4,
     "metadata": {},
     "output_type": "execute_result"
    }
   ],
   "source": [
    "x = [1,2,3]\n",
    "y = [v * 5 for v in x ]\n",
    "y"
   ]
  },
  {
   "cell_type": "code",
   "execution_count": 5,
   "metadata": {},
   "outputs": [
    {
     "data": {
      "text/plain": [
       "True"
      ]
     },
     "execution_count": 5,
     "metadata": {},
     "output_type": "execute_result"
    }
   ],
   "source": [
    "y = [list(v.args) for v in candidates]\n",
    "y == parameters"
   ]
  },
  {
   "cell_type": "code",
   "execution_count": 6,
   "metadata": {},
   "outputs": [
    {
     "data": {
      "text/plain": [
       "array([[0.40895349, 0.84470984],\n",
       "       [0.0092116 , 0.44275525],\n",
       "       [0.30910025, 0.83511014],\n",
       "       [0.52191868, 0.97421928],\n",
       "       [0.04958574, 0.69463674],\n",
       "       [0.2863607 , 0.9504112 ],\n",
       "       [0.54663335, 0.92683637],\n",
       "       [0.91945383, 0.30926597],\n",
       "       [0.28373822, 0.07332926],\n",
       "       [0.29191423, 0.47343259]])"
      ]
     },
     "execution_count": 6,
     "metadata": {},
     "output_type": "execute_result"
    }
   ],
   "source": [
    "np.random.random((10,2))"
   ]
  },
  {
   "cell_type": "code",
   "execution_count": 7,
   "metadata": {},
   "outputs": [
    {
     "name": "stdout",
     "output_type": "stream",
     "text": [
      "(10, 1) (10, 1)\n"
     ]
    }
   ],
   "source": [
    "n_opt = NevergradOptimizer(bounds=[[0,1]], parameter_names=['a'])\n",
    "param = n_opt.ask(10)\n",
    "assert_equal(np.shape(param),(10,1))\n",
    "\n",
    "print(np.shape(param),(10,1))\n"
   ]
  },
  {
   "cell_type": "code",
   "execution_count": 8,
   "metadata": {},
   "outputs": [
    {
     "data": {
      "text/plain": [
       "[[0.6567286901890609],\n",
       " [0.6994087184642166],\n",
       " [0.48340500498070843],\n",
       " [0.40953110623008493],\n",
       " [0.28988346532774467],\n",
       " [0.6255126163920219],\n",
       " [0.3846017762106553],\n",
       " [0.6229364388756049],\n",
       " [0.7560043935316969],\n",
       " [0.5427824795819834]]"
      ]
     },
     "execution_count": 8,
     "metadata": {},
     "output_type": "execute_result"
    }
   ],
   "source": [
    "param2 = param\n",
    "param2"
   ]
  },
  {
   "cell_type": "code",
   "execution_count": 9,
   "metadata": {},
   "outputs": [],
   "source": [
    "np.testing.assert_array_less(param2, 1)"
   ]
  },
  {
   "cell_type": "code",
   "execution_count": 10,
   "metadata": {},
   "outputs": [
    {
     "data": {
      "text/plain": [
       "(array([0]),)"
      ]
     },
     "execution_count": 10,
     "metadata": {},
     "output_type": "execute_result"
    }
   ],
   "source": [
    "np.where(param == param2)"
   ]
  },
  {
   "cell_type": "code",
   "execution_count": 11,
   "metadata": {},
   "outputs": [
    {
     "data": {
      "text/plain": [
       "(1, 2)"
      ]
     },
     "execution_count": 11,
     "metadata": {},
     "output_type": "execute_result"
    }
   ],
   "source": [
    "np.shape([[1,2]])"
   ]
  },
  {
   "cell_type": "code",
   "execution_count": 12,
   "metadata": {},
   "outputs": [
    {
     "data": {
      "text/plain": [
       "(2, 2)"
      ]
     },
     "execution_count": 12,
     "metadata": {},
     "output_type": "execute_result"
    }
   ],
   "source": [
    "np.shape([[1,2], [1,2]])"
   ]
  },
  {
   "cell_type": "code",
   "execution_count": 13,
   "metadata": {},
   "outputs": [
    {
     "data": {
      "text/plain": [
       "array([0.5932874 , 0.41356548, 0.29458054, 0.40931997, 0.94365416,\n",
       "       0.19573792, 0.24010385, 0.35534675, 0.45390242, 0.30441813])"
      ]
     },
     "execution_count": 13,
     "metadata": {},
     "output_type": "execute_result"
    }
   ],
   "source": [
    "error = np.random.random((10))\n",
    "error"
   ]
  },
  {
   "cell_type": "code",
   "execution_count": 14,
   "metadata": {},
   "outputs": [],
   "source": [
    "n_opt = NevergradOptimizer(bounds=[[0, 1], [0, 1]], parameter_names=['a', 'b'])\n",
    "param = n_opt.ask(10)\n",
    "error = np.random.random((10))\n",
    "\n",
    "n_opt.tell(param, error)\n",
    "ans = n_opt.recommend()"
   ]
  },
  {
   "cell_type": "code",
   "execution_count": 15,
   "metadata": {},
   "outputs": [
    {
     "data": {
      "text/plain": [
       "(array([1, 1]), array([0, 1]))"
      ]
     },
     "execution_count": 15,
     "metadata": {},
     "output_type": "execute_result"
    }
   ],
   "source": [
    "x = np.array((ans.args))\n",
    "y = np.array(param)\n",
    "np.where(y == x)"
   ]
  },
  {
   "cell_type": "markdown",
   "metadata": {},
   "source": [
    "## Dev Optimizer Test"
   ]
  },
  {
   "cell_type": "code",
   "execution_count": 16,
   "metadata": {},
   "outputs": [],
   "source": [
    "import numpy as np\n",
    "\n",
    "from random import choice\n",
    "from string import digits, ascii_lowercase\n",
    "from numpy.testing.utils import assert_equal, assert_raises\n",
    "from brian2tools import Optimizer, NevergradOptimizer, SkoptOptimizer"
   ]
  },
  {
   "cell_type": "markdown",
   "metadata": {},
   "source": [
    "```\n",
    "@pytest.fixture\n",
    "def item():\n",
    "    return Item()\n",
    "\n",
    "def test_item_created(item):\n",
    "    # ensure item was created successfully\n",
    "    assert item.value == 'something expected'\n",
    "\n",
    "def test_edit_item(item):\n",
    "    # ensure item is edited successfully\n",
    "    item.edit()\n",
    "```"
   ]
  },
  {
   "cell_type": "code",
   "execution_count": 37,
   "metadata": {},
   "outputs": [],
   "source": [
    "labels = [\"\".join([choice(digits + ascii_lowercase) for i in range(2)]) for j in range(10)]\n",
    "\n",
    "bounds = np.zeros((10,2))\n",
    "bounds[:, 1] = np.arange(1,11,1.)"
   ]
  },
  {
   "cell_type": "code",
   "execution_count": 39,
   "metadata": {},
   "outputs": [
    {
     "name": "stdout",
     "output_type": "stream",
     "text": [
      "[0.57067149 0.81544244 0.95585754 0.40616846]\n",
      "[0.99678192 0.9948507  0.87531734 0.67799175 0.37098295 0.42773419\n",
      " 0.97438486]\n",
      "[0.47907073 0.40682906 0.40773303]\n",
      "[0.12479966 0.3200031  0.15516998 0.56018272 0.02548262 0.91578013\n",
      " 0.43695337 0.1284162  0.928594   0.66385855 0.21362237 0.9572587\n",
      " 0.35778894 0.45638287 0.81439497 0.54115209 0.0393012 ]\n",
      "[0.49833916 0.03033553 0.49065918 0.57914232 0.11068571 0.18414994\n",
      " 0.21717572]\n",
      "[0.72624199 0.85560891 0.23875312 0.529225   0.22335186]\n",
      "[0.90847985 0.10922613 0.2894116  0.51170337 0.82412314 0.47946261]\n",
      "[0.64929327 0.01810904 0.69565965 0.9919063  0.7715258  0.98825424]\n",
      "[0.11328874 0.64610249 0.12266171 0.91278934 0.72883252 0.99632948\n",
      " 0.24736336 0.77621149 0.31318939 0.08978285 0.81357236 0.20195351\n",
      " 0.9683028  0.12884023 0.80022573 0.82203339 0.46417266 0.46111704\n",
      " 0.05752192]\n",
      "[0.64796958 0.4446012  0.48168809 0.47601102 0.69439794 0.46932521\n",
      " 0.61406093 0.63151159 0.05660672 0.38741793 0.23128965 0.2770225\n",
      " 0.54562425 0.32925191 0.23701068 0.1943975  0.01808385 0.4093584\n",
      " 0.22873804 0.10041784 0.899713   0.39836023 0.61174556 0.41147111]\n"
     ]
    }
   ],
   "source": [
    "for n in np.arange(1,11):\n",
    "    par_names, bound = labels[:n], bounds[:n]\n",
    "    n_samples = np.random.randint(1, 30)\n",
    "    errors = np.random.rand(n_samples)\n",
    "    print(errors)\n",
    "    \n",
    "\n",
    "    n_opt = NevergradOptimizer(bounds=bound, parameter_names=par_names)\n",
    "    param = n_opt.ask(n_samples)\n",
    "\n",
    "    assert_equal(np.shape(param), (n_samples, n))\n",
    "\n",
    "    for i in np.arange(1, n):\n",
    "        assert all(np.array(param)[:,i-1] <= i), 'Values in params are bigger than required'\n",
    "        assert all(np.array(param)[:,i-1] >  0), 'Values in params are smaller than required'"
   ]
  },
  {
   "cell_type": "code",
   "execution_count": 34,
   "metadata": {},
   "outputs": [
    {
     "data": {
      "text/plain": [
       "array([[ 0.,  1.],\n",
       "       [ 0.,  2.],\n",
       "       [ 0.,  3.],\n",
       "       [ 0.,  4.],\n",
       "       [ 0.,  5.],\n",
       "       [ 0.,  6.],\n",
       "       [ 0.,  7.],\n",
       "       [ 0.,  8.],\n",
       "       [ 0.,  9.],\n",
       "       [ 0., 10.]])"
      ]
     },
     "execution_count": 34,
     "metadata": {},
     "output_type": "execute_result"
    }
   ],
   "source": [
    "xx = np.zeros((10,2))\n",
    "xx[:, 1] = np.arange(1,11,1.)\n",
    "xx"
   ]
  },
  {
   "cell_type": "code",
   "execution_count": 17,
   "metadata": {},
   "outputs": [],
   "source": [
    "# Prep data to validate init on\n",
    "chars = digits + ascii_lowercase\n",
    "L = [\"\".join([choice(chars) for i in range(2)]) for j in range(10)]\n",
    "L\n",
    "\n",
    "a = np.arange(1, 11, 1.).reshape(10, 1)\n",
    "b = np.zeros(10).reshape(10, 1)\n",
    "lx = np.hstack((b, a)).tolist()\n",
    "lx"
   ]
  },
  {
   "cell_type": "code",
   "execution_count": 29,
   "metadata": {},
   "outputs": [],
   "source": [
    "for n in np.arange(1,11):\n",
    "    par_names, bounds = L[:n], lx[:n]\n",
    "    n_samples = numpy.random.randint(1, 30)\n",
    "    \n",
    "    n_opt = NevergradOptimizer(bounds=bounds, parameter_names=par_names)\n",
    "    param = n_opt.ask(n_samples)\n",
    "    \n",
    "    assert_equal(np.shape(param), (n_samples,n))\n",
    "    \n",
    "    for i in np.arange(1, n):\n",
    "        assert all(np.array(param)[:,i-1] <= i), 'Values in params are bigger than required'\n",
    "        assert all(np.array(param)[:,i-1] >  0), 'Values in params are bigger than required'\n"
   ]
  },
  {
   "cell_type": "code",
   "execution_count": 41,
   "metadata": {},
   "outputs": [
    {
     "name": "stdout",
     "output_type": "stream",
     "text": [
      "Candidate(args=(0.7430915734326831,), kwargs={})\n",
      "Candidate(args=(0.4239745223379151, 1.0009796418128707), kwargs={})\n",
      "Candidate(args=(0.7450848772737452, 1.583312994238987, 2.4028425709906776), kwargs={})\n",
      "Candidate(args=(0.21156010969457922, 0.8523259604367865, 2.208289416660266, 1.206766518289587), kwargs={})\n",
      "Candidate(args=(0.5710920352418899, 0.6930313681332003, 0.5449833954230002, 2.0468247577044636, 3.323670100644775), kwargs={})\n",
      "Candidate(args=(0.46706757946476635, 0.5526302376521804, 2.0753613546908434, 1.2562886107770408, 3.773310180562463, 4.098863382276798), kwargs={})\n",
      "Candidate(args=(0.6176267122650366, 0.27026320481241106, 1.391639713128063, 0.940673730172108, 2.0976129626610467, 4.027804098620617, 5.656152162409917), kwargs={})\n",
      "Candidate(args=(0.8656557317608836, 1.1693523256670704, 0.6857716038662696, 1.662479572841356, 3.92481621218594, 2.6477099475203896, 2.736084472113196, 2.212953038699438), kwargs={})\n",
      "Candidate(args=(0.19435800570065614, 1.4603185677435973, 2.5968253660065717, 2.746907458705989, 3.7011802596086167, 1.557570926359754, 3.378892272558859, 4.378216802237998, 2.1287880740546994), kwargs={})\n",
      "Candidate(args=(0.2100019457295979, 0.4707009588974408, 1.7274493899015875, 3.058207201010225, 0.9805002281234547, 3.092572444432339, 5.299822794500975, 4.66082134560037, 5.448092184428683, 3.703736001614006), kwargs={})\n"
     ]
    }
   ],
   "source": [
    "labels = [\"\".join([choice(digits + ascii_lowercase) for i in range(2)]) for j in range(10)]\n",
    "\n",
    "bounds = np.zeros((10,2))\n",
    "bounds[:, 1] = np.arange(1,11,1.)\n",
    "\n",
    "for n in np.arange(1,11):\n",
    "    par_names, bound = labels[:n], bounds[:n]\n",
    "    n_samples = np.random.randint(1, 30)\n",
    "\n",
    "    n_opt = NevergradOptimizer(bounds=bound, parameter_names=par_names)\n",
    "    params = n_opt.ask(n_samples)\n",
    "\n",
    "    assert_equal(np.shape(params), (n_samples, n))\n",
    "\n",
    "    for i in np.arange(1, n):\n",
    "        assert all(np.array(params)[:,i-1] <= i), 'Values in params are bigger than required'\n",
    "        assert all(np.array(params)[:,i-1] >  0), 'Values in params are smaller than required'\n",
    "\n",
    "    errors = np.random.rand(n_samples)\n",
    "    n_opt.tell(params, errors)\n",
    "\n",
    "    print(n_opt.recommend())"
   ]
  },
  {
   "cell_type": "code",
   "execution_count": 64,
   "metadata": {},
   "outputs": [],
   "source": [
    "labels = [\"\".join([choice(digits + ascii_lowercase) for i in range(2)]) for j in range(10)]\n",
    "\n",
    "bounds = np.zeros((10,2))\n",
    "bounds[:, 1] = np.arange(1,11,1.)\n",
    "\n",
    "n=1\n",
    "par_names, bound = labels[:n], bounds[:n]\n",
    "n_samples = np.random.randint(1, 30)\n",
    "\n",
    "n_opt = NevergradOptimizer(bounds=bound, parameter_names=par_names)\n",
    "params = n_opt.ask(n_samples)\n",
    "\n",
    "assert_equal(np.shape(params), (n_samples, n))\n",
    "\n",
    "for i in np.arange(1, n):\n",
    "    assert all(np.array(params)[:,i-1] <= i), 'Values in params are bigger than required'\n",
    "    assert all(np.array(params)[:,i-1] >  0), 'Values in params are smaller than required'\n",
    "\n",
    "errors = np.random.rand(n_samples)\n",
    "n_opt.tell(params, errors)\n",
    "\n",
    "ans = n_opt.recommend()\n"
   ]
  },
  {
   "cell_type": "code",
   "execution_count": 63,
   "metadata": {},
   "outputs": [
    {
     "data": {
      "text/plain": [
       "[[0.1977610370905325],\n",
       " [0.2208301620340028],\n",
       " [0.5124483263022825],\n",
       " [0.39188464347413754],\n",
       " [0.6628189380258657],\n",
       " [0.6757021637383107],\n",
       " [0.5686446883939118],\n",
       " [0.207803570446564],\n",
       " [0.5698097207663052],\n",
       " [0.7408273112451442],\n",
       " [0.7607581480295477],\n",
       " [0.3058362740217061],\n",
       " [0.31457495227350163],\n",
       " [0.5736410722279344],\n",
       " [0.6428738563040859],\n",
       " [0.574936167164185],\n",
       " [0.5549457516218431],\n",
       " [0.2244571386423158],\n",
       " [0.6676922345763148],\n",
       " [0.7145285810256644],\n",
       " [0.4204387118518278],\n",
       " [0.6034307644063762],\n",
       " [0.815853978285624],\n",
       " [0.8958753591509503],\n",
       " [0.43178231578233706],\n",
       " [0.637592858484358]]"
      ]
     },
     "execution_count": 63,
     "metadata": {},
     "output_type": "execute_result"
    }
   ],
   "source": [
    "params"
   ]
  },
  {
   "cell_type": "code",
   "execution_count": 79,
   "metadata": {},
   "outputs": [
    {
     "data": {
      "text/plain": [
       "Candidate(args=(0.585667735259693,), kwargs={}, data=[0.27582509])"
      ]
     },
     "execution_count": 79,
     "metadata": {},
     "output_type": "execute_result"
    }
   ],
   "source": [
    "n_opt.optim.create_candidate.from_data(params[0])"
   ]
  },
  {
   "cell_type": "code",
   "execution_count": 80,
   "metadata": {},
   "outputs": [
    {
     "data": {
      "text/plain": [
       "[0.2758250890961232]"
      ]
     },
     "execution_count": 80,
     "metadata": {},
     "output_type": "execute_result"
    }
   ],
   "source": [
    "params[0]"
   ]
  },
  {
   "cell_type": "code",
   "execution_count": 72,
   "metadata": {},
   "outputs": [
    {
     "data": {
      "text/plain": [
       "array([-0.84960767])"
      ]
     },
     "execution_count": 72,
     "metadata": {},
     "output_type": "execute_result"
    }
   ],
   "source": [
    "n_opt.candidates[0].data"
   ]
  },
  {
   "cell_type": "code",
   "execution_count": 45,
   "metadata": {},
   "outputs": [
    {
     "data": {
      "text/plain": [
       "[[0.7075448258823988],\n",
       " [0.3385463980750758],\n",
       " [0.726343980561598],\n",
       " [0.1544080217906229],\n",
       " [0.8075598360262057],\n",
       " [0.28431613801074596],\n",
       " [0.19158976126979543],\n",
       " [0.8149153810656802],\n",
       " [0.4965109505926566],\n",
       " [0.3255620875083205],\n",
       " [0.19994066937395094],\n",
       " [0.33135382187130646],\n",
       " [0.2824447369712301],\n",
       " [0.6577895613786428],\n",
       " [0.6775996182319068],\n",
       " [0.17313441017870557],\n",
       " [0.6761165302093546],\n",
       " [0.6886980200060219],\n",
       " [0.5708827404944367],\n",
       " [0.6718468914838022],\n",
       " [0.7581727227319398],\n",
       " [0.7828959507359196],\n",
       " [0.2724542305593777],\n",
       " [0.34064116526670185]]"
      ]
     },
     "execution_count": 45,
     "metadata": {},
     "output_type": "execute_result"
    }
   ],
   "source": [
    "params"
   ]
  },
  {
   "cell_type": "code",
   "execution_count": 58,
   "metadata": {},
   "outputs": [],
   "source": [
    "er_min = (errors).argmin()\n",
    "assert params[er_min] == list(ans.args), \"Optimizer didn't return the minimal value\""
   ]
  },
  {
   "cell_type": "code",
   "execution_count": 61,
   "metadata": {},
   "outputs": [
    {
     "ename": "TypeError",
     "evalue": "__init__() missing 3 required positional arguments: 'args', 'kwargs', and 'data'",
     "output_type": "error",
     "traceback": [
      "\u001b[0;31m---------------------------------------------------------------------------\u001b[0m",
      "\u001b[0;31mTypeError\u001b[0m                                 Traceback (most recent call last)",
      "\u001b[0;32m<ipython-input-61-d05ea627915d>\u001b[0m in \u001b[0;36m<module>\u001b[0;34m\u001b[0m\n\u001b[1;32m      1\u001b[0m \u001b[0;32mfrom\u001b[0m \u001b[0mnevergrad\u001b[0m\u001b[0;34m.\u001b[0m\u001b[0moptimization\u001b[0m\u001b[0;34m.\u001b[0m\u001b[0mbase\u001b[0m \u001b[0;32mimport\u001b[0m \u001b[0mCandidate\u001b[0m\u001b[0;34m\u001b[0m\u001b[0;34m\u001b[0m\u001b[0m\n\u001b[0;32m----> 2\u001b[0;31m \u001b[0mCandidate\u001b[0m\u001b[0;34m(\u001b[0m\u001b[0;34m)\u001b[0m\u001b[0;34m\u001b[0m\u001b[0;34m\u001b[0m\u001b[0m\n\u001b[0m",
      "\u001b[0;31mTypeError\u001b[0m: __init__() missing 3 required positional arguments: 'args', 'kwargs', and 'data'"
     ]
    }
   ],
   "source": [
    "from nevergrad.optimization.base import Candidate\n",
    "Candidate()"
   ]
  }
 ],
 "metadata": {
  "kernelspec": {
   "display_name": "brian_opt",
   "language": "python",
   "name": "brian_opt"
  },
  "language_info": {
   "codemirror_mode": {
    "name": "ipython",
    "version": 3
   },
   "file_extension": ".py",
   "mimetype": "text/x-python",
   "name": "python",
   "nbconvert_exporter": "python",
   "pygments_lexer": "ipython3",
   "version": "3.7.3"
  }
 },
 "nbformat": 4,
 "nbformat_minor": 2
}
