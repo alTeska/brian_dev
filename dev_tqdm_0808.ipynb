{
 "cells": [
  {
   "cell_type": "markdown",
   "metadata": {},
   "source": [
    "# TQDM Progress Bar for Modelfitting Dev"
   ]
  },
  {
   "cell_type": "code",
   "execution_count": 1,
   "metadata": {},
   "outputs": [],
   "source": [
    "import numpy as np"
   ]
  },
  {
   "cell_type": "code",
   "execution_count": 2,
   "metadata": {},
   "outputs": [],
   "source": [
    "from tqdm import tqdm, tqdm_notebook\n",
    "from IPython import get_ipython\n",
    "from ipywidgets import FloatProgress"
   ]
  },
  {
   "cell_type": "markdown",
   "metadata": {},
   "source": [
    "### Example of Progress Bar in Brian"
   ]
  },
  {
   "cell_type": "code",
   "execution_count": 3,
   "metadata": {},
   "outputs": [],
   "source": [
    "# import sys\n",
    "\n",
    "# class ProgressBar(object):\n",
    "#     def __init__(self, toolbar_width=40):\n",
    "#         self.toolbar_width = toolbar_width\n",
    "#         self.ticks = 0\n",
    "\n",
    "#     def __call__(self, elapsed, complete, start, duration):\n",
    "#         if complete == 0.0:\n",
    "#             # setup toolbar\n",
    "#             sys.stdout.write(\"[%s]\" % (\" \" * self.toolbar_width))\n",
    "#             sys.stdout.flush()\n",
    "#             sys.stdout.write(\"\\b\" * (self.toolbar_width + 1)) # return to start of line, after '['\n",
    "#         else:\n",
    "#             ticks_needed = int(round(complete * self.toolbar_width))\n",
    "#             if self.ticks < ticks_needed:\n",
    "#                 sys.stdout.write(\"-\" * (ticks_needed-self.ticks))\n",
    "#                 sys.stdout.flush()\n",
    "#                 self.ticks = ticks_needed\n",
    "#         if complete == 1.0:\n",
    "#             sys.stdout.write(\"\\n\")\n",
    "\n",
    "# net.run(duration, report=ProgressBar(), report_period=1*second)"
   ]
  },
  {
   "cell_type": "code",
   "execution_count": 4,
   "metadata": {},
   "outputs": [
    {
     "name": "stderr",
     "output_type": "stream",
     "text": [
      "100%|██████████| 100/100 [00:00<00:00, 165325.34it/s]\n"
     ]
    }
   ],
   "source": [
    "for i in tqdm(range(100)):\n",
    "    a = 1\n",
    "    b=2+a"
   ]
  },
  {
   "cell_type": "code",
   "execution_count": 5,
   "metadata": {},
   "outputs": [
    {
     "name": "stderr",
     "output_type": "stream",
     "text": [
      "  0%|          | 0/500 [00:00<?, ?it/s]"
     ]
    }
   ],
   "source": [
    "n_rounds=500\n",
    "t = tqdm(total=n_rounds)"
   ]
  },
  {
   "cell_type": "code",
   "execution_count": 6,
   "metadata": {},
   "outputs": [],
   "source": [
    "for i in np.arange(n_rounds):\n",
    "    t.update(1)"
   ]
  },
  {
   "cell_type": "code",
   "execution_count": 25,
   "metadata": {},
   "outputs": [],
   "source": [
    "class ProgressBar(object):\n",
    "    def __init__(self, toolbar_width=10):\n",
    "        self.toolbar_width = toolbar_width\n",
    "        self.t = tqdm(total=toolbar_width)\n",
    "\n",
    "    def __call__(self, res, errors, parameters, k):\n",
    "        self.t.update(1)"
   ]
  },
  {
   "cell_type": "code",
   "execution_count": 26,
   "metadata": {},
   "outputs": [
    {
     "name": "stderr",
     "output_type": "stream",
     "text": [
      "\n",
      "\n",
      "\n",
      "\n",
      "\n",
      "  0%|          | 0/10 [00:00<?, ?it/s]\u001b[A\u001b[A\u001b[A\u001b[A\u001b[A"
     ]
    }
   ],
   "source": [
    "pb = ProgressBar()"
   ]
  },
  {
   "cell_type": "code",
   "execution_count": 29,
   "metadata": {},
   "outputs": [],
   "source": [
    "# pb()"
   ]
  },
  {
   "cell_type": "code",
   "execution_count": 30,
   "metadata": {},
   "outputs": [],
   "source": [
    "# callback(res, errors, parameters, k)"
   ]
  },
  {
   "cell_type": "code",
   "execution_count": 31,
   "metadata": {},
   "outputs": [],
   "source": [
    "def callback_text(res, errors, parameters, k):\n",
    "    print(\"Round {}: fit {} with error: {}\".format(k, res, min(errors)))"
   ]
  },
  {
   "cell_type": "code",
   "execution_count": 57,
   "metadata": {},
   "outputs": [],
   "source": [
    "def callback_setup(set_type, n_rounds):\n",
    "    if set_type == 'text':\n",
    "        callback = callback_text\n",
    "    elif set_type == 'progressbar':\n",
    "        callback = ProgressBar(n_rounds)\n",
    "    elif set_type is not None:\n",
    "        callback = set_type\n",
    "        \n",
    "    return callback"
   ]
  },
  {
   "cell_type": "code",
   "execution_count": 58,
   "metadata": {},
   "outputs": [
    {
     "data": {
      "text/plain": [
       "<function __main__.callback_text(res, errors, parameters, k)>"
      ]
     },
     "execution_count": 58,
     "metadata": {},
     "output_type": "execute_result"
    }
   ],
   "source": [
    "callback_setup('text', 10)"
   ]
  },
  {
   "cell_type": "code",
   "execution_count": 59,
   "metadata": {},
   "outputs": [
    {
     "name": "stdout",
     "output_type": "stream",
     "text": [
      "Round 2: fit {'a': 1} with error: 12\n"
     ]
    }
   ],
   "source": [
    "c0 = callback_setup('text', 10)\n",
    "c0({'a':1}, [123, 12], None, 2)"
   ]
  },
  {
   "cell_type": "code",
   "execution_count": 60,
   "metadata": {},
   "outputs": [
    {
     "name": "stderr",
     "output_type": "stream",
     "text": [
      "\n",
      "\n",
      "\n",
      "\n",
      "\n",
      "\n",
      "\n",
      "\n",
      "  0%|          | 0/10 [00:00<?, ?it/s]\u001b[A\u001b[A\u001b[A\u001b[A\u001b[A\u001b[A\u001b[A\u001b[A"
     ]
    }
   ],
   "source": [
    "c1 = callback_setup('progressbar', 10)"
   ]
  },
  {
   "cell_type": "code",
   "execution_count": 61,
   "metadata": {},
   "outputs": [
    {
     "name": "stderr",
     "output_type": "stream",
     "text": [
      "\n",
      "\n",
      "\n",
      "\n",
      "\n",
      "\n",
      "\n",
      "\n",
      " 10%|█         | 1/10 [00:00<00:06,  1.41it/s]\u001b[A\u001b[A\u001b[A\u001b[A\u001b[A\u001b[A\u001b[A\u001b[A"
     ]
    }
   ],
   "source": [
    "c1({'a':1}, [123, 12], 123, 2)"
   ]
  },
  {
   "cell_type": "code",
   "execution_count": 62,
   "metadata": {},
   "outputs": [],
   "source": [
    "def cb(res, errors, parameters, index):\n",
    "    print('index {} errors minimum: {}'.format(index, min(errors)) )"
   ]
  },
  {
   "cell_type": "code",
   "execution_count": 63,
   "metadata": {},
   "outputs": [],
   "source": [
    "c2  = callback_setup(cb, 10)"
   ]
  },
  {
   "cell_type": "code",
   "execution_count": 64,
   "metadata": {},
   "outputs": [
    {
     "name": "stdout",
     "output_type": "stream",
     "text": [
      "index 2 errors minimum: 12\n"
     ]
    }
   ],
   "source": [
    "c2({'a':1}, [123, 12], 123, 2)"
   ]
  }
 ],
 "metadata": {
  "kernelspec": {
   "display_name": "brian_opt",
   "language": "python",
   "name": "brian_opt"
  },
  "language_info": {
   "codemirror_mode": {
    "name": "ipython",
    "version": 3
   },
   "file_extension": ".py",
   "mimetype": "text/x-python",
   "name": "python",
   "nbconvert_exporter": "python",
   "pygments_lexer": "ipython3",
   "version": "3.7.3"
  }
 },
 "nbformat": 4,
 "nbformat_minor": 2
}
