{
 "cells": [
  {
   "cell_type": "code",
   "execution_count": 1,
   "metadata": {},
   "outputs": [],
   "source": [
    "from brian2 import *\n",
    "from brian2tools import *\n",
    "from nevergrad.optimization import optimizerlib\n",
    "from nevergrad import instrumentation as inst"
   ]
  },
  {
   "cell_type": "code",
   "execution_count": 5,
   "metadata": {},
   "outputs": [],
   "source": [
    "import numpy as np"
   ]
  },
  {
   "cell_type": "code",
   "execution_count": 1,
   "metadata": {},
   "outputs": [],
   "source": [
    "candidates, parameters = [], []"
   ]
  },
  {
   "cell_type": "code",
   "execution_count": 1,
   "metadata": {},
   "outputs": [],
   "source": [
    "# create input and output\n",
    "input_traces = zeros((10,5))*volt\n",
    "for i in range(5):\n",
    "    input_traces[5:,i]=i*10*mV"
   ]
  },
  {
   "cell_type": "code",
   "execution_count": 4,
   "metadata": {},
   "outputs": [
    {
     "data": {
      "text/latex": [
       "$\\left[\\begin{matrix}0.0 & 0.0 & 0.0 & 0.0 & 0.0\\\\0.0 & 0.0 & 0.0 & 0.0 & 0.0\\\\0.0 & 0.0 & 0.0 & 0.0 & 0.0\\\\0.0 & 0.0 & 0.0 & 0.0 & 0.0\\\\0.0 & 0.0 & 0.0 & 0.0 & 0.0\\\\0.0 & 10.0 & 20.0 & 30.0 & 40.0\\\\0.0 & 10.0 & 20.0 & 30.0 & 40.0\\\\0.0 & 10.0 & 20.0 & 30.0 & 40.0\\\\0.0 & 10.0 & 20.0 & 30.0 & 40.0\\\\0.0 & 10.0 & 20.0 & 30.0 & 40.0\\end{matrix}\\right]\\,\\mathrm{m}\\,\\mathrm{V}$"
      ],
      "text/plain": [
       "array([[ 0.,  0.,  0.,  0.,  0.],\n",
       "       [ 0.,  0.,  0.,  0.,  0.],\n",
       "       [ 0.,  0.,  0.,  0.,  0.],\n",
       "       [ 0.,  0.,  0.,  0.,  0.],\n",
       "       [ 0.,  0.,  0.,  0.,  0.],\n",
       "       [ 0., 10., 20., 30., 40.],\n",
       "       [ 0., 10., 20., 30., 40.],\n",
       "       [ 0., 10., 20., 30., 40.],\n",
       "       [ 0., 10., 20., 30., 40.],\n",
       "       [ 0., 10., 20., 30., 40.]]) * mvolt"
      ]
     },
     "execution_count": 4,
     "metadata": {},
     "output_type": "execute_result"
    }
   ],
   "source": [
    "input_traces"
   ]
  },
  {
   "cell_type": "code",
   "execution_count": 6,
   "metadata": {},
   "outputs": [
    {
     "data": {
      "text/plain": [
       "(10, 5)"
      ]
     },
     "execution_count": 6,
     "metadata": {},
     "output_type": "execute_result"
    }
   ],
   "source": [
    "np.shape(input_traces)"
   ]
  },
  {
   "cell_type": "code",
   "execution_count": 55,
   "metadata": {},
   "outputs": [
    {
     "name": "stdout",
     "output_type": "stream",
     "text": [
      "5\n",
      "10\n"
     ]
    }
   ],
   "source": [
    "Ntraces, Nsteps = input_traces.shape\n",
    "Nsteps, Ntraces = input_traces.shape\n",
    "\n",
    "print(Ntraces)\n",
    "print(Nsteps)"
   ]
  },
  {
   "cell_type": "code",
   "execution_count": 3,
   "metadata": {},
   "outputs": [
    {
     "data": {
      "text/plain": [
       "[[-2.987692940137817, 2.7665693309883475],\n",
       " [1.7656649670497688, 4.355164988553166],\n",
       " [-3.396113359969762, 5.8764146494521565],\n",
       " [3.476272213050588, 2.69614839679754],\n",
       " [-0.8150020137777353, 5.370702058933406],\n",
       " [-0.31505362817895305, 6.5020175096488675],\n",
       " [-0.7537218014781458, 1.2574828125672015],\n",
       " [-2.620295450337791, 8.10011637748659],\n",
       " [-1.3548138729548458, 6.305132249939209],\n",
       " [-2.285301665576897, 1.9248265371193507]]"
      ]
     },
     "execution_count": 3,
     "metadata": {},
     "output_type": "execute_result"
    }
   ],
   "source": [
    "parameters = [[-2.987692940137817, 2.7665693309883475], [1.7656649670497688, 4.355164988553166], [-3.396113359969762, 5.8764146494521565], [3.476272213050588, 2.69614839679754], [-0.8150020137777353, 5.370702058933406], [-0.31505362817895305, 6.5020175096488675], [-0.7537218014781458, 1.2574828125672015], [-2.620295450337791, 8.10011637748659], [-1.3548138729548458, 6.305132249939209], [-2.285301665576897, 1.9248265371193507]]\n",
    "parameters"
   ]
  },
  {
   "cell_type": "code",
   "execution_count": 11,
   "metadata": {},
   "outputs": [],
   "source": [
    "parameter_names = ['g', 'E']"
   ]
  },
  {
   "cell_type": "code",
   "execution_count": 13,
   "metadata": {},
   "outputs": [
    {
     "data": {
      "text/plain": [
       "20"
      ]
     },
     "execution_count": 13,
     "metadata": {},
     "output_type": "execute_result"
    }
   ],
   "source": [
    "popsize, _ = shape(parameters)\n",
    "N = popsize * len(parameter_names)\n",
    "N"
   ]
  },
  {
   "cell_type": "code",
   "execution_count": 14,
   "metadata": {},
   "outputs": [
    {
     "data": {
      "text/plain": [
       "10"
      ]
     },
     "execution_count": 14,
     "metadata": {},
     "output_type": "execute_result"
    }
   ],
   "source": [
    "Ntraces"
   ]
  },
  {
   "cell_type": "code",
   "execution_count": 18,
   "metadata": {},
   "outputs": [
    {
     "data": {
      "text/plain": [
       "array([[-2.98769294,  2.76656933],\n",
       "       [ 1.76566497,  4.35516499],\n",
       "       [-3.39611336,  5.87641465],\n",
       "       [ 3.47627221,  2.6961484 ],\n",
       "       [-0.81500201,  5.37070206],\n",
       "       [-0.31505363,  6.50201751],\n",
       "       [-0.7537218 ,  1.25748281],\n",
       "       [-2.62029545,  8.10011638],\n",
       "       [-1.35481387,  6.30513225],\n",
       "       [-2.28530167,  1.92482654]])"
      ]
     },
     "execution_count": 18,
     "metadata": {},
     "output_type": "execute_result"
    }
   ],
   "source": [
    "d = dict()\n",
    "parameters = array(parameters)\n",
    "parameters"
   ]
  },
  {
   "cell_type": "code",
   "execution_count": 42,
   "metadata": {},
   "outputs": [
    {
     "data": {
      "text/plain": [
       "array([-2.98769294,  1.76566497, -3.39611336,  3.47627221, -0.81500201,\n",
       "       -0.31505363, -0.7537218 , -2.62029545, -1.35481387, -2.28530167,\n",
       "       -2.98769294,  1.76566497, -3.39611336,  3.47627221, -0.81500201,\n",
       "       -0.31505363, -0.7537218 , -2.62029545, -1.35481387, -2.28530167,\n",
       "       -2.98769294,  1.76566497, -3.39611336,  3.47627221, -0.81500201,\n",
       "       -0.31505363, -0.7537218 , -2.62029545, -1.35481387, -2.28530167,\n",
       "       -2.98769294,  1.76566497, -3.39611336,  3.47627221, -0.81500201,\n",
       "       -0.31505363, -0.7537218 , -2.62029545, -1.35481387, -2.28530167,\n",
       "       -2.98769294,  1.76566497, -3.39611336,  3.47627221, -0.81500201,\n",
       "       -0.31505363, -0.7537218 , -2.62029545, -1.35481387, -2.28530167,\n",
       "       -2.98769294,  1.76566497, -3.39611336,  3.47627221, -0.81500201,\n",
       "       -0.31505363, -0.7537218 , -2.62029545, -1.35481387, -2.28530167,\n",
       "       -2.98769294,  1.76566497, -3.39611336,  3.47627221, -0.81500201,\n",
       "       -0.31505363, -0.7537218 , -2.62029545, -1.35481387, -2.28530167,\n",
       "       -2.98769294,  1.76566497, -3.39611336,  3.47627221, -0.81500201,\n",
       "       -0.31505363, -0.7537218 , -2.62029545, -1.35481387, -2.28530167,\n",
       "       -2.98769294,  1.76566497, -3.39611336,  3.47627221, -0.81500201,\n",
       "       -0.31505363, -0.7537218 , -2.62029545, -1.35481387, -2.28530167,\n",
       "       -2.98769294,  1.76566497, -3.39611336,  3.47627221, -0.81500201,\n",
       "       -0.31505363, -0.7537218 , -2.62029545, -1.35481387, -2.28530167,\n",
       "       -2.98769294,  1.76566497, -3.39611336,  3.47627221, -0.81500201,\n",
       "       -0.31505363, -0.7537218 , -2.62029545, -1.35481387, -2.28530167,\n",
       "       -2.98769294,  1.76566497, -3.39611336,  3.47627221, -0.81500201,\n",
       "       -0.31505363, -0.7537218 , -2.62029545, -1.35481387, -2.28530167,\n",
       "       -2.98769294,  1.76566497, -3.39611336,  3.47627221, -0.81500201,\n",
       "       -0.31505363, -0.7537218 , -2.62029545, -1.35481387, -2.28530167,\n",
       "       -2.98769294,  1.76566497, -3.39611336,  3.47627221, -0.81500201,\n",
       "       -0.31505363, -0.7537218 , -2.62029545, -1.35481387, -2.28530167,\n",
       "       -2.98769294,  1.76566497, -3.39611336,  3.47627221, -0.81500201,\n",
       "       -0.31505363, -0.7537218 , -2.62029545, -1.35481387, -2.28530167,\n",
       "       -2.98769294,  1.76566497, -3.39611336,  3.47627221, -0.81500201,\n",
       "       -0.31505363, -0.7537218 , -2.62029545, -1.35481387, -2.28530167,\n",
       "       -2.98769294,  1.76566497, -3.39611336,  3.47627221, -0.81500201,\n",
       "       -0.31505363, -0.7537218 , -2.62029545, -1.35481387, -2.28530167,\n",
       "       -2.98769294,  1.76566497, -3.39611336,  3.47627221, -0.81500201,\n",
       "       -0.31505363, -0.7537218 , -2.62029545, -1.35481387, -2.28530167,\n",
       "       -2.98769294,  1.76566497, -3.39611336,  3.47627221, -0.81500201,\n",
       "       -0.31505363, -0.7537218 , -2.62029545, -1.35481387, -2.28530167,\n",
       "       -2.98769294,  1.76566497, -3.39611336,  3.47627221, -0.81500201,\n",
       "       -0.31505363, -0.7537218 , -2.62029545, -1.35481387, -2.28530167])"
      ]
     },
     "execution_count": 42,
     "metadata": {},
     "output_type": "execute_result"
    }
   ],
   "source": [
    "(ones((N, Ntraces)) * parameters.T[0]).flatten()"
   ]
  },
  {
   "cell_type": "code",
   "execution_count": 28,
   "metadata": {},
   "outputs": [
    {
     "name": "stdout",
     "output_type": "stream",
     "text": [
      "g [-2.98769294  1.76566497 -3.39611336  3.47627221 -0.81500201 -0.31505363\n",
      " -0.7537218  -2.62029545 -1.35481387 -2.28530167]\n",
      "E [2.76656933 4.35516499 5.87641465 2.6961484  5.37070206 6.50201751\n",
      " 1.25748281 8.10011638 6.30513225 1.92482654]\n"
     ]
    }
   ],
   "source": [
    "for name, value in zip(parameter_names, parameters.T):\n",
    "    print(name, value)\n",
    "    d[name] = (value * ones((N,Ntraces))).flatten()"
   ]
  },
  {
   "cell_type": "code",
   "execution_count": 33,
   "metadata": {},
   "outputs": [
    {
     "data": {
      "text/plain": [
       "array([-2.98769294,  1.76566497, -3.39611336,  3.47627221, -0.81500201,\n",
       "       -0.31505363, -0.7537218 , -2.62029545, -1.35481387, -2.28530167])"
      ]
     },
     "execution_count": 33,
     "metadata": {},
     "output_type": "execute_result"
    }
   ],
   "source": [
    "ones((Ntraces)) * parameters.T[0].flatten()"
   ]
  },
  {
   "cell_type": "code",
   "execution_count": 40,
   "metadata": {},
   "outputs": [
    {
     "data": {
      "text/plain": [
       "array([[1., 1., 1., 1., 1., 1., 1., 1., 1., 1.],\n",
       "       [1., 1., 1., 1., 1., 1., 1., 1., 1., 1.],\n",
       "       [1., 1., 1., 1., 1., 1., 1., 1., 1., 1.],\n",
       "       [1., 1., 1., 1., 1., 1., 1., 1., 1., 1.],\n",
       "       [1., 1., 1., 1., 1., 1., 1., 1., 1., 1.],\n",
       "       [1., 1., 1., 1., 1., 1., 1., 1., 1., 1.],\n",
       "       [1., 1., 1., 1., 1., 1., 1., 1., 1., 1.],\n",
       "       [1., 1., 1., 1., 1., 1., 1., 1., 1., 1.],\n",
       "       [1., 1., 1., 1., 1., 1., 1., 1., 1., 1.],\n",
       "       [1., 1., 1., 1., 1., 1., 1., 1., 1., 1.]])"
      ]
     },
     "execution_count": 40,
     "metadata": {},
     "output_type": "execute_result"
    }
   ],
   "source": [
    "ones((Ntraces, len(parameters.T[0]))) "
   ]
  },
  {
   "cell_type": "code",
   "execution_count": 56,
   "metadata": {},
   "outputs": [
    {
     "data": {
      "text/plain": [
       "10"
      ]
     },
     "execution_count": 56,
     "metadata": {},
     "output_type": "execute_result"
    }
   ],
   "source": [
    "popsize = len(parameters.T[0])\n",
    "popsize"
   ]
  },
  {
   "cell_type": "code",
   "execution_count": 57,
   "metadata": {},
   "outputs": [
    {
     "data": {
      "text/plain": [
       "5"
      ]
     },
     "execution_count": 57,
     "metadata": {},
     "output_type": "execute_result"
    }
   ],
   "source": [
    "Ntraces"
   ]
  },
  {
   "cell_type": "code",
   "execution_count": 60,
   "metadata": {},
   "outputs": [
    {
     "data": {
      "text/plain": [
       "array([-2.98769294, -2.98769294, -2.98769294, -2.98769294, -2.98769294,\n",
       "        1.76566497,  1.76566497,  1.76566497,  1.76566497,  1.76566497,\n",
       "       -3.39611336, -3.39611336, -3.39611336, -3.39611336, -3.39611336,\n",
       "        3.47627221,  3.47627221,  3.47627221,  3.47627221,  3.47627221,\n",
       "       -0.81500201, -0.81500201, -0.81500201, -0.81500201, -0.81500201,\n",
       "       -0.31505363, -0.31505363, -0.31505363, -0.31505363, -0.31505363,\n",
       "       -0.7537218 , -0.7537218 , -0.7537218 , -0.7537218 , -0.7537218 ,\n",
       "       -2.62029545, -2.62029545, -2.62029545, -2.62029545, -2.62029545,\n",
       "       -1.35481387, -1.35481387, -1.35481387, -1.35481387, -1.35481387,\n",
       "       -2.28530167, -2.28530167, -2.28530167, -2.28530167, -2.28530167])"
      ]
     },
     "execution_count": 60,
     "metadata": {},
     "output_type": "execute_result"
    }
   ],
   "source": [
    "x = (ones((Ntraces, popsize)) * parameters.T[0]).T.flatten()\n",
    "x"
   ]
  },
  {
   "cell_type": "code",
   "execution_count": 64,
   "metadata": {},
   "outputs": [
    {
     "data": {
      "text/plain": [
       "array([[-2.98769294, -2.98769294, -2.98769294, -2.98769294, -2.98769294],\n",
       "       [ 1.76566497,  1.76566497,  1.76566497,  1.76566497,  1.76566497],\n",
       "       [-3.39611336, -3.39611336, -3.39611336, -3.39611336, -3.39611336],\n",
       "       [ 3.47627221,  3.47627221,  3.47627221,  3.47627221,  3.47627221],\n",
       "       [-0.81500201, -0.81500201, -0.81500201, -0.81500201, -0.81500201],\n",
       "       [-0.31505363, -0.31505363, -0.31505363, -0.31505363, -0.31505363],\n",
       "       [-0.7537218 , -0.7537218 , -0.7537218 , -0.7537218 , -0.7537218 ],\n",
       "       [-2.62029545, -2.62029545, -2.62029545, -2.62029545, -2.62029545],\n",
       "       [-1.35481387, -1.35481387, -1.35481387, -1.35481387, -1.35481387],\n",
       "       [-2.28530167, -2.28530167, -2.28530167, -2.28530167, -2.28530167]])"
      ]
     },
     "execution_count": 64,
     "metadata": {},
     "output_type": "execute_result"
    }
   ],
   "source": [
    "x.reshape((popsize,Ntraces))"
   ]
  },
  {
   "cell_type": "code",
   "execution_count": 65,
   "metadata": {},
   "outputs": [
    {
     "data": {
      "text/plain": [
       "array([-2.98769294,  1.76566497, -3.39611336,  3.47627221, -0.81500201,\n",
       "       -0.31505363, -0.7537218 , -2.62029545, -1.35481387, -2.28530167])"
      ]
     },
     "execution_count": 65,
     "metadata": {},
     "output_type": "execute_result"
    }
   ],
   "source": [
    "mean(x.reshape((popsize,Ntraces)), axis=1)"
   ]
  },
  {
   "cell_type": "code",
   "execution_count": 68,
   "metadata": {},
   "outputs": [
    {
     "data": {
      "text/plain": [
       "(1.7527717276992988e-08, 8.96082919250482e-05, 0.00013679409495386864)"
      ]
     },
     "execution_count": 68,
     "metadata": {},
     "output_type": "execute_result"
    }
   ],
   "source": [
    "t = (1.7527717276992988e-08, 8.96082919250482e-05, 0.00013679409495386864)\n",
    "t"
   ]
  },
  {
   "cell_type": "code",
   "execution_count": 71,
   "metadata": {},
   "outputs": [],
   "source": [
    "params_correct = {'gl': float(5e-5),\n",
    "          'g_na': float(100),\n",
    "          'g_kd': float(30)}"
   ]
  },
  {
   "cell_type": "code",
   "execution_count": 73,
   "metadata": {},
   "outputs": [
    {
     "data": {
      "text/plain": [
       "{'gl': 1.7527717276992988e-08,\n",
       " 'g_na': 8.96082919250482e-05,\n",
       " 'g_kd': 0.00013679409495386864}"
      ]
     },
     "execution_count": 73,
     "metadata": {},
     "output_type": "execute_result"
    }
   ],
   "source": [
    "params = {'gl': t[0],\n",
    "          'g_na': t[1],\n",
    "          'g_kd': t[2]}\n",
    "params"
   ]
  },
  {
   "cell_type": "code",
   "execution_count": 75,
   "metadata": {},
   "outputs": [],
   "source": [
    "from nevergrad.optimization import optimizerlib\n",
    "from nevergrad import instrumentation as inst"
   ]
  },
  {
   "cell_type": "code",
   "execution_count": 75,
   "metadata": {},
   "outputs": [],
   "source": [
    "arg1 = inst.var.Array(1).bounded(200*10e-12, 2*10e-9).asscalar()\n",
    "arg2 = inst.var.Array(1).bounded(200*10e-9, 40*10e-6).asscalar()\n",
    "arg3 = inst.var.Array(1).bounded(200*10e-9, 20*10e-6).asscalar()\n",
    "instrum = inst.Instrumentation(arg1, arg2, arg3)"
   ]
  },
  {
   "cell_type": "code",
   "execution_count": 85,
   "metadata": {},
   "outputs": [
    {
     "ename": "TypeError",
     "evalue": "__call__() got an unexpected keyword argument 'popsize'",
     "output_type": "error",
     "traceback": [
      "\u001b[0;31m---------------------------------------------------------------------------\u001b[0m",
      "\u001b[0;31mTypeError\u001b[0m                                 Traceback (most recent call last)",
      "\u001b[0;32m<ipython-input-85-970702f933ef>\u001b[0m in \u001b[0;36m<module>\u001b[0;34m\u001b[0m\n\u001b[0;32m----> 1\u001b[0;31m \u001b[0moptim\u001b[0m \u001b[0;34m=\u001b[0m \u001b[0moptimizerlib\u001b[0m\u001b[0;34m.\u001b[0m\u001b[0mregistry\u001b[0m\u001b[0;34m[\u001b[0m\u001b[0;34m'DE'\u001b[0m\u001b[0;34m]\u001b[0m\u001b[0;34m(\u001b[0m\u001b[0minstrumentation\u001b[0m\u001b[0;34m=\u001b[0m\u001b[0minstrum\u001b[0m\u001b[0;34m,\u001b[0m \u001b[0mbudget\u001b[0m\u001b[0;34m=\u001b[0m\u001b[0;36m100000\u001b[0m\u001b[0;34m,\u001b[0m \u001b[0mpopsize\u001b[0m\u001b[0;34m=\u001b[0m\u001b[0;34m'large'\u001b[0m\u001b[0;34m)\u001b[0m\u001b[0;34m\u001b[0m\u001b[0;34m\u001b[0m\u001b[0m\n\u001b[0m",
      "\u001b[0;31mTypeError\u001b[0m: __call__() got an unexpected keyword argument 'popsize'"
     ]
    }
   ],
   "source": [
    "optim = optimizerlib.registry['DE'](instrumentation=instrum, budget=100000, popsize='large')"
   ]
  },
  {
   "cell_type": "code",
   "execution_count": 88,
   "metadata": {},
   "outputs": [],
   "source": [
    "from nevergrad.optimization.differentialevolution import DE"
   ]
  },
  {
   "cell_type": "code",
   "execution_count": 91,
   "metadata": {},
   "outputs": [
    {
     "data": {
      "text/plain": [
       "Instance of DE(instrumentation=A(1,[At(1.9999999999999997e-09,2e-08)])f,A(1,[At(2e-06,0.0004)])f,A(1,[At(2e-06,0.0002)])f, budget=100000, num_workers=1)"
      ]
     },
     "execution_count": 91,
     "metadata": {},
     "output_type": "execute_result"
    }
   ],
   "source": [
    "DE(instrumentation=instrum, budget=100000, num_workers=2)"
   ]
  },
  {
   "cell_type": "code",
   "execution_count": 84,
   "metadata": {},
   "outputs": [
    {
     "data": {
      "text/plain": [
       "\u001b[0;31mSignature:\u001b[0m      \n",
       "\u001b[0maa\u001b[0m\u001b[0;34m(\u001b[0m\u001b[0;34m\u001b[0m\n",
       "\u001b[0;34m\u001b[0m    \u001b[0minstrumentation\u001b[0m\u001b[0;34m:\u001b[0m \u001b[0mUnion\u001b[0m\u001b[0;34m[\u001b[0m\u001b[0mint\u001b[0m\u001b[0;34m,\u001b[0m \u001b[0mnevergrad\u001b[0m\u001b[0;34m.\u001b[0m\u001b[0minstrumentation\u001b[0m\u001b[0;34m.\u001b[0m\u001b[0mcore\u001b[0m\u001b[0;34m.\u001b[0m\u001b[0mInstrumentation\u001b[0m\u001b[0;34m]\u001b[0m\u001b[0;34m,\u001b[0m\u001b[0;34m\u001b[0m\n",
       "\u001b[0;34m\u001b[0m    \u001b[0mbudget\u001b[0m\u001b[0;34m:\u001b[0m \u001b[0mUnion\u001b[0m\u001b[0;34m[\u001b[0m\u001b[0mint\u001b[0m\u001b[0;34m,\u001b[0m \u001b[0mNoneType\u001b[0m\u001b[0;34m]\u001b[0m \u001b[0;34m=\u001b[0m \u001b[0;32mNone\u001b[0m\u001b[0;34m,\u001b[0m\u001b[0;34m\u001b[0m\n",
       "\u001b[0;34m\u001b[0m    \u001b[0mnum_workers\u001b[0m\u001b[0;34m:\u001b[0m \u001b[0mint\u001b[0m \u001b[0;34m=\u001b[0m \u001b[0;36m1\u001b[0m\u001b[0;34m,\u001b[0m\u001b[0;34m\u001b[0m\n",
       "\u001b[0;34m\u001b[0m\u001b[0;34m)\u001b[0m \u001b[0;34m->\u001b[0m \u001b[0mnevergrad\u001b[0m\u001b[0;34m.\u001b[0m\u001b[0moptimization\u001b[0m\u001b[0;34m.\u001b[0m\u001b[0mbase\u001b[0m\u001b[0;34m.\u001b[0m\u001b[0mOptimizer\u001b[0m\u001b[0;34m\u001b[0m\u001b[0;34m\u001b[0m\u001b[0m\n",
       "\u001b[0;31mType:\u001b[0m            DifferentialEvolution\n",
       "\u001b[0;31mString form:\u001b[0m     DE\n",
       "\u001b[0;31mFile:\u001b[0m            ~/anaconda3/envs/brian_opt/lib/python3.7/site-packages/nevergrad/optimization/differentialevolution.py\n",
       "\u001b[0;31mDocstring:\u001b[0m       <no docstring>\n",
       "\u001b[0;31mClass docstring:\u001b[0m\n",
       "This is a special case of an optimizer family for which the family instance serves to*\n",
       "hold the parameters.\n",
       "This class assumes that the attributes are set to the init parameters.\n",
       "See oneshot.py for examples\n",
       "\u001b[0;31mInit docstring:\u001b[0m \n",
       "Differential evolution algorithms.\n",
       "\n",
       "Default pop size is 30\n",
       "We return the mean of the individuals with fitness better than median, which might be stupid sometimes.\n",
       "Default settings are CR =.5, F1=.8, F2=.8, curr-to-best.\n",
       "Initial population: pure random.\n",
       "\n",
       "Parameters\n",
       "----------\n",
       "initialization: \"LHS\", \"QR\" or None\n",
       "    algorithm for the initialization phase\n",
       "por_DE: bool\n",
       "    TODO\n",
       "scale: float\n",
       "    scale of random component of the updates\n",
       "inoculation: bool\n",
       "    TODO\n",
       "hyperinoc: bool\n",
       "    TODO\n",
       "recommendation: \"pessimistic\", \"optimistic\", \"mean\" or \"noisy\"\n",
       "    choice of the criterion for the best point to recommend\n",
       "CR: float\n",
       "    TODO\n",
       "F1: float\n",
       "    TODO\n",
       "F2: float\n",
       "    TODO\n",
       "crossover: int\n",
       "    TODO\n",
       "popsize: \"standard\", \"dimension\", \"large\"\n",
       "    size of the population to use. \"standard\" is max(num_workers, 30), \"dimension\" max(num_workers, 30, dimension +1)\n",
       "    and \"large\" max(num_workers, 30, 7 * dimension).\n",
       "NF: bool\n",
       "    TODO\n",
       "hashed: bool\n",
       "    TODO\n"
      ]
     },
     "metadata": {},
     "output_type": "display_data"
    }
   ],
   "source": [
    "aa = optimizerlib.registry['DE']\n",
    "aa?\n"
   ]
  }
 ],
 "metadata": {
  "kernelspec": {
   "display_name": "brian_opt",
   "language": "python",
   "name": "brian_opt"
  },
  "language_info": {
   "codemirror_mode": {
    "name": "ipython",
    "version": 3
   },
   "file_extension": ".py",
   "mimetype": "text/x-python",
   "name": "python",
   "nbconvert_exporter": "python",
   "pygments_lexer": "ipython3",
   "version": "3.7.3"
  }
 },
 "nbformat": 4,
 "nbformat_minor": 2
}
