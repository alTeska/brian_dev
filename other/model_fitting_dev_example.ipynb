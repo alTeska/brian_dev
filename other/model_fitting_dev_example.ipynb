{
 "cells": [
  {
   "cell_type": "code",
   "execution_count": 1,
   "metadata": {},
   "outputs": [],
   "source": [
    "from brian2 import *\n",
    "from brian2tools import *"
   ]
  },
  {
   "cell_type": "code",
   "execution_count": 2,
   "metadata": {},
   "outputs": [],
   "source": [
    "# Create voltage traces for an activation experiment\n",
    "input_traces = zeros((10,5))*volt\n",
    "for i in range(5):\n",
    "    input_traces[5:,i]=i*10*mV"
   ]
  },
  {
   "cell_type": "code",
   "execution_count": 5,
   "metadata": {},
   "outputs": [
    {
     "data": {
      "text/plain": [
       "(10, 5)"
      ]
     },
     "execution_count": 5,
     "metadata": {},
     "output_type": "execute_result"
    }
   ],
   "source": [
    "np.shape(input_traces)"
   ]
  },
  {
   "cell_type": "code",
   "execution_count": 6,
   "metadata": {},
   "outputs": [
    {
     "data": {
      "text/latex": [
       "$\\left[\\begin{matrix}0.0 & 0.0 & 0.0 & 0.0 & 0.0\\\\0.0 & 0.0 & 0.0 & 0.0 & 0.0\\\\0.0 & 0.0 & 0.0 & 0.0 & 0.0\\\\0.0 & 0.0 & 0.0 & 0.0 & 0.0\\\\0.0 & 0.0 & 0.0 & 0.0 & 0.0\\\\0.0 & 10.0 & 20.0 & 30.0 & 40.0\\\\0.0 & 10.0 & 20.0 & 30.0 & 40.0\\\\0.0 & 10.0 & 20.0 & 30.0 & 40.0\\\\0.0 & 10.0 & 20.0 & 30.0 & 40.0\\\\0.0 & 10.0 & 20.0 & 30.0 & 40.0\\end{matrix}\\right]\\,\\mathrm{m}\\,\\mathrm{V}$"
      ],
      "text/plain": [
       "array([[ 0.,  0.,  0.,  0.,  0.],\n",
       "       [ 0.,  0.,  0.,  0.,  0.],\n",
       "       [ 0.,  0.,  0.,  0.,  0.],\n",
       "       [ 0.,  0.,  0.,  0.,  0.],\n",
       "       [ 0.,  0.,  0.,  0.,  0.],\n",
       "       [ 0., 10., 20., 30., 40.],\n",
       "       [ 0., 10., 20., 30., 40.],\n",
       "       [ 0., 10., 20., 30., 40.],\n",
       "       [ 0., 10., 20., 30., 40.],\n",
       "       [ 0., 10., 20., 30., 40.]]) * mvolt"
      ]
     },
     "execution_count": 6,
     "metadata": {},
     "output_type": "execute_result"
    }
   ],
   "source": [
    "input_traces"
   ]
  },
  {
   "cell_type": "code",
   "execution_count": 7,
   "metadata": {},
   "outputs": [
    {
     "data": {
      "text/latex": [
       "$\\left[\\begin{matrix}0.0 & 0.0 & 0.0 & 0.0 & 0.0\\\\0.0 & 0.0 & 0.0 & 0.0 & 0.0\\\\0.0 & 0.0 & 0.0 & 0.0 & 0.0\\\\0.0 & 0.0 & 0.0 & 0.0 & 0.0\\\\0.0 & 0.0 & 0.0 & 0.0 & 0.0\\\\0.0 & 100.0 & 200.0 & 300.0 & 400.0\\\\0.0 & 100.0 & 200.0 & 300.0 & 400.0\\\\0.0 & 100.0 & 200.0 & 300.0 & 400.0\\\\0.0 & 100.0 & 200.0 & 300.0 & 400.0\\\\0.0 & 100.0 & 200.0 & 300.0 & 400.0\\end{matrix}\\right]\\,\\mathrm{p}\\,\\mathrm{A}$"
      ],
      "text/plain": [
       "array([[  0.,   0.,   0.,   0.,   0.],\n",
       "       [  0.,   0.,   0.,   0.,   0.],\n",
       "       [  0.,   0.,   0.,   0.,   0.],\n",
       "       [  0.,   0.,   0.,   0.,   0.],\n",
       "       [  0.,   0.,   0.,   0.,   0.],\n",
       "       [  0., 100., 200., 300., 400.],\n",
       "       [  0., 100., 200., 300., 400.],\n",
       "       [  0., 100., 200., 300., 400.],\n",
       "       [  0., 100., 200., 300., 400.],\n",
       "       [  0., 100., 200., 300., 400.]]) * pamp"
      ]
     },
     "execution_count": 7,
     "metadata": {},
     "output_type": "execute_result"
    }
   ],
   "source": [
    "output_traces"
   ]
  },
  {
   "cell_type": "code",
   "execution_count": 3,
   "metadata": {},
   "outputs": [],
   "source": [
    "# Create target current traces\n",
    "output_traces = 10*nS*input_traces"
   ]
  },
  {
   "cell_type": "code",
   "execution_count": 4,
   "metadata": {},
   "outputs": [
    {
     "name": "stderr",
     "output_type": "stream",
     "text": [
      "INFO       No numerical integration method specified, using method 'linear' (took 0.01s). [brian2.stateupdaters.base.method_choice]\n"
     ]
    },
    {
     "name": "stdout",
     "output_type": "stream",
     "text": [
      "NeuronGroup(clock=Clock(dt=100. * usecond, name='defaultclock'), when=start, order=0, name='neurongroup')\n"
     ]
    },
    {
     "name": "stderr",
     "output_type": "stream",
     "text": [
      "WARNING    /home/alteska/anaconda3/envs/brian_opt/lib/python3.6/site-packages/Cython-0.29.7-py3.6-linux-x86_64.egg/Cython/Compiler/Main.py:367: FutureWarning: Cython directive 'language_level' not set, using 2 for now (Py2). This will change in a later release! File: /home/alteska/.cython/brian_extensions/_cython_magic_44454a1cdf60ca24d0958b9b1eda61f5.pyx\n",
      "  tree = Parsing.p_module(s, pxd, full_module_name)\n",
      " [py.warnings]\n"
     ]
    },
    {
     "name": "stdout",
     "output_type": "stream",
     "text": [
      "[[ -2.84445005  -2.84445005  -2.84445005  -2.84445005  -2.84445005]\n",
      " [ -2.84445005  -2.84445005  -2.84445005  -2.84445005  -2.84445005]\n",
      " [ -2.84445005  -2.84445005  -2.84445005  -2.84445005  -2.84445005]\n",
      " [ -2.84445005  -2.84445005  -2.84445005  -2.84445005  -2.84445005]\n",
      " [ -2.84445005  -2.84445005  -2.84445005  -2.84445005  -2.84445005]\n",
      " [ -2.84445005  99.14947847 201.14340699 303.1373355  405.13126402]\n",
      " [ -2.84445005  99.14947847 201.14340699 303.1373355  405.13126402]\n",
      " [ -2.84445005  99.14947847 201.14340699 303.1373355  405.13126402]\n",
      " [ -2.84445005  99.14947847 201.14340699 303.1373355  405.13126402]\n",
      " [ -2.84445005  99.14947847 201.14340699 303.1373355  405.13126402]] pA\n"
     ]
    }
   ],
   "source": [
    "model = Equations('''\n",
    "I = g*(v-E) : amp \n",
    "g : siemens (constant)\n",
    "E : volt (constant)\n",
    "''')\n",
    "params, fits, error = fit_traces(model = model, input_var = 'v', output_var = 'I',\\\n",
    "    input = input_traces, output = output_traces,\n",
    "    dt = 0.1*ms, g = [1*nS, 30*nS], E = [-20*mV,100*mV],\n",
    "    tol = 1e-6)"
   ]
  },
  {
   "cell_type": "code",
   "execution_count": 8,
   "metadata": {},
   "outputs": [
    {
     "data": {
      "text/plain": [
       "{'g': 1.0199392851649418e-08, 'E': 0.00027888425199389805}"
      ]
     },
     "execution_count": 8,
     "metadata": {},
     "output_type": "execute_result"
    }
   ],
   "source": [
    "params"
   ]
  },
  {
   "cell_type": "code",
   "execution_count": 12,
   "metadata": {},
   "outputs": [
    {
     "data": {
      "text/latex": [
       "$\\left[\\begin{matrix}-2.84445004622416 & -2.84445004622416 & -2.84445004622416 & -2.84445004622416 & -2.84445004622416\\\\-2.84445004622416 & -2.84445004622416 & -2.84445004622416 & -2.84445004622416 & -2.84445004622416\\\\-2.84445004622416 & -2.84445004622416 & -2.84445004622416 & -2.84445004622416 & -2.84445004622416\\\\-2.84445004622416 & -2.84445004622416 & -2.84445004622416 & -2.84445004622416 & -2.84445004622416\\\\-2.84445004622416 & -2.84445004622416 & -2.84445004622416 & -2.84445004622416 & -2.84445004622416\\\\-2.84445004622416 & 99.14947847027 & 201.143406986764 & 303.137335503258 & 405.131264019753\\\\-2.84445004622416 & 99.14947847027 & 201.143406986764 & 303.137335503258 & 405.131264019753\\\\-2.84445004622416 & 99.14947847027 & 201.143406986764 & 303.137335503258 & 405.131264019753\\\\-2.84445004622416 & 99.14947847027 & 201.143406986764 & 303.137335503258 & 405.131264019753\\\\-2.84445004622416 & 99.14947847027 & 201.143406986764 & 303.137335503258 & 405.131264019753\\end{matrix}\\right]\\,\\mathrm{p}\\,\\mathrm{A}$"
      ],
      "text/plain": [
       "array([[ -2.84445005,  -2.84445005,  -2.84445005,  -2.84445005,\n",
       "         -2.84445005],\n",
       "       [ -2.84445005,  -2.84445005,  -2.84445005,  -2.84445005,\n",
       "         -2.84445005],\n",
       "       [ -2.84445005,  -2.84445005,  -2.84445005,  -2.84445005,\n",
       "         -2.84445005],\n",
       "       [ -2.84445005,  -2.84445005,  -2.84445005,  -2.84445005,\n",
       "         -2.84445005],\n",
       "       [ -2.84445005,  -2.84445005,  -2.84445005,  -2.84445005,\n",
       "         -2.84445005],\n",
       "       [ -2.84445005,  99.14947847, 201.14340699, 303.1373355 ,\n",
       "        405.13126402],\n",
       "       [ -2.84445005,  99.14947847, 201.14340699, 303.1373355 ,\n",
       "        405.13126402],\n",
       "       [ -2.84445005,  99.14947847, 201.14340699, 303.1373355 ,\n",
       "        405.13126402],\n",
       "       [ -2.84445005,  99.14947847, 201.14340699, 303.1373355 ,\n",
       "        405.13126402],\n",
       "       [ -2.84445005,  99.14947847, 201.14340699, 303.1373355 ,\n",
       "        405.13126402]]) * pamp"
      ]
     },
     "execution_count": 12,
     "metadata": {},
     "output_type": "execute_result"
    }
   ],
   "source": [
    "fits"
   ]
  },
  {
   "cell_type": "code",
   "execution_count": null,
   "metadata": {},
   "outputs": [],
   "source": []
  }
 ],
 "metadata": {
  "kernelspec": {
   "display_name": "brian_opt",
   "language": "python",
   "name": "brian_opt"
  },
  "language_info": {
   "codemirror_mode": {
    "name": "ipython",
    "version": 3
   },
   "file_extension": ".py",
   "mimetype": "text/x-python",
   "name": "python",
   "nbconvert_exporter": "python",
   "pygments_lexer": "ipython3",
   "version": "3.7.3"
  }
 },
 "nbformat": 4,
 "nbformat_minor": 2
}
