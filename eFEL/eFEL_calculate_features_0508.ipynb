{
 "cells": [
  {
   "cell_type": "markdown",
   "metadata": {},
   "source": [
    "# Dev eFEL metric"
   ]
  },
  {
   "cell_type": "code",
   "execution_count": 1,
   "metadata": {},
   "outputs": [],
   "source": [
    "import pandas as pd\n",
    "import numpy as np\n",
    "\n",
    "import matplotlib.pyplot as plt\n",
    "\n",
    "import efel"
   ]
  },
  {
   "cell_type": "markdown",
   "metadata": {},
   "source": [
    "### Load Input and Output"
   ]
  },
  {
   "cell_type": "code",
   "execution_count": 2,
   "metadata": {},
   "outputs": [],
   "source": [
    "df_inp_traces = pd.read_csv('input_traces_hh.csv')\n",
    "df_out_traces = pd.read_csv('output_traces_hh.csv')"
   ]
  },
  {
   "cell_type": "code",
   "execution_count": 3,
   "metadata": {},
   "outputs": [
    {
     "data": {
      "text/plain": [
       "array([[-63.54211145, -65.52491616, -62.90054542, ..., -81.5252667 ,\n",
       "        -82.30107475, -82.04870895],\n",
       "       [-63.78548155, -64.75587972, -64.60550311, ..., -64.42127691,\n",
       "        -65.13069593, -64.48718384]])"
      ]
     },
     "execution_count": 3,
     "metadata": {},
     "output_type": "execute_result"
    }
   ],
   "source": [
    "out_traces = df_out_traces.to_numpy()\n",
    "out_traces = out_traces[:2, 1:]\n",
    "out_traces"
   ]
  },
  {
   "cell_type": "code",
   "execution_count": 4,
   "metadata": {},
   "outputs": [
    {
     "data": {
      "text/plain": [
       "array([[0., 0., 0., ..., 0., 0., 0.],\n",
       "       [0., 0., 0., ..., 0., 0., 0.]])"
      ]
     },
     "execution_count": 4,
     "metadata": {},
     "output_type": "execute_result"
    }
   ],
   "source": [
    "inp_traces = df_inp_traces.to_numpy()\n",
    "inp_traces = inp_traces[:2, 1:]\n",
    "inp_traces"
   ]
  },
  {
   "cell_type": "code",
   "execution_count": 5,
   "metadata": {},
   "outputs": [
    {
     "data": {
      "image/png": "[encoded data removed]",
      "text/plain": [
       "<Figure size 720x360 with 2 Axes>"
      ]
     },
     "metadata": {
      "needs_background": "light"
     },
     "output_type": "display_data"
    }
   ],
   "source": [
    "fig, ax = plt.subplots(ncols=2, figsize=(10,5))\n",
    "ax[0].plot(inp_traces.transpose());\n",
    "ax[1].plot(out_traces.transpose());"
   ]
  },
  {
   "cell_type": "markdown",
   "metadata": {},
   "source": [
    "## eFEL features calc"
   ]
  },
  {
   "cell_type": "markdown",
   "metadata": {},
   "source": [
    "### Get Traces"
   ]
  },
  {
   "cell_type": "code",
   "execution_count": 6,
   "metadata": {},
   "outputs": [],
   "source": [
    "time = np.arange(0, len(out_traces[0])/10, 0.1)"
   ]
  },
  {
   "cell_type": "code",
   "execution_count": 7,
   "metadata": {},
   "outputs": [],
   "source": [
    "trace1 = {}\n",
    "trace1['T'] = time\n",
    "trace1['V'] = out_traces[0, :]"
   ]
  },
  {
   "cell_type": "code",
   "execution_count": 8,
   "metadata": {},
   "outputs": [],
   "source": [
    "trace1['stim_start'] = [50]\n",
    "trace1['stim_end'] = [100]"
   ]
  },
  {
   "cell_type": "code",
   "execution_count": 9,
   "metadata": {},
   "outputs": [],
   "source": [
    "traces_times = [[50, 100], [51, 100]]"
   ]
  },
  {
   "cell_type": "code",
   "execution_count": 10,
   "metadata": {},
   "outputs": [],
   "source": [
    "traces = []\n",
    "for i, trace in enumerate(out_traces):\n",
    "    temp_trace = {}\n",
    "    temp_trace['T'] = time\n",
    "    temp_trace['V'] = trace\n",
    "    temp_trace['stim_start'] = [traces_times[i][0]]\n",
    "    temp_trace['stim_end'] = [traces_times[i][1]]\n",
    "    traces.append(temp_trace)\n"
   ]
  },
  {
   "cell_type": "code",
   "execution_count": 11,
   "metadata": {},
   "outputs": [
    {
     "data": {
      "text/plain": [
       "[{'T': array([0.000e+00, 1.000e-01, 2.000e-01, ..., 1.494e+02, 1.495e+02,\n",
       "         1.496e+02]),\n",
       "  'V': array([-63.54211145, -65.52491616, -62.90054542, ..., -81.5252667 ,\n",
       "         -82.30107475, -82.04870895]),\n",
       "  'stim_start': [50],\n",
       "  'stim_end': [100]},\n",
       " {'T': array([0.000e+00, 1.000e-01, 2.000e-01, ..., 1.494e+02, 1.495e+02,\n",
       "         1.496e+02]),\n",
       "  'V': array([-63.78548155, -64.75587972, -64.60550311, ..., -64.42127691,\n",
       "         -65.13069593, -64.48718384]),\n",
       "  'stim_start': [51],\n",
       "  'stim_end': [100]}]"
      ]
     },
     "execution_count": 11,
     "metadata": {},
     "output_type": "execute_result"
    }
   ],
   "source": [
    "traces"
   ]
  },
  {
   "cell_type": "markdown",
   "metadata": {},
   "source": [
    "## Calculate Features"
   ]
  },
  {
   "cell_type": "code",
   "execution_count": 12,
   "metadata": {},
   "outputs": [],
   "source": [
    "feat_list = ['AP_amplitude', 'voltage_base']"
   ]
  },
  {
   "cell_type": "code",
   "execution_count": 13,
   "metadata": {},
   "outputs": [
    {
     "data": {
      "text/plain": [
       "[{'AP_amplitude': array([89.70820756, 78.49048023]),\n",
       "  'voltage_base': array([-65.02022173])},\n",
       " {'AP_amplitude': array([85.66269442]), 'voltage_base': array([-64.91993906])}]"
      ]
     },
     "execution_count": 13,
     "metadata": {},
     "output_type": "execute_result"
    }
   ],
   "source": [
    "traces_results = efel.getFeatureValues(traces, feat_list)\n",
    "traces_results"
   ]
  },
  {
   "cell_type": "code",
   "execution_count": 14,
   "metadata": {},
   "outputs": [],
   "source": [
    "fl = ['AP_amplitude', 'peak_time', 'peak_voltage', 'AP_begin_time', 'AP_begin_width', \n",
    "                                                 'AP_begin_voltage', 'mean_frequency']"
   ]
  },
  {
   "cell_type": "code",
   "execution_count": 15,
   "metadata": {},
   "outputs": [
    {
     "data": {
      "text/plain": [
       "[{'AP_amplitude': array([89.70820756, 78.49048023]),\n",
       "  'peak_time': array([ 56.4,  80.7, 103.9]),\n",
       "  'peak_voltage': array([50.21736542, 39.21906422, 36.45744931]),\n",
       "  'AP_begin_time': array([ 54.5,  78. , 101.3]),\n",
       "  'AP_begin_width': array([2.1, 7.5, 2.8]),\n",
       "  'AP_begin_voltage': array([-39.49084214, -39.271416  , -38.86994408]),\n",
       "  'mean_frequency': array([65.1465798])},\n",
       " {'AP_amplitude': array([85.66269442]),\n",
       "  'peak_time': array([68.2]),\n",
       "  'peak_voltage': array([48.24698601]),\n",
       "  'AP_begin_time': array([65.8]),\n",
       "  'AP_begin_width': array([2.6]),\n",
       "  'AP_begin_voltage': array([-37.41570842]),\n",
       "  'mean_frequency': array([58.13953488])}]"
      ]
     },
     "execution_count": 15,
     "metadata": {},
     "output_type": "execute_result"
    }
   ],
   "source": [
    "feature_values = efel.getFeatureValues(traces, fl)\n",
    "feature_values"
   ]
  },
  {
   "cell_type": "code",
   "execution_count": 16,
   "metadata": {},
   "outputs": [
    {
     "data": {
      "text/plain": [
       "dict_values([array([89.70820756, 78.49048023]), array([ 56.4,  80.7, 103.9]), array([50.21736542, 39.21906422, 36.45744931]), array([ 54.5,  78. , 101.3]), array([2.1, 7.5, 2.8]), array([-39.49084214, -39.271416  , -38.86994408]), array([65.1465798])])"
      ]
     },
     "execution_count": 16,
     "metadata": {},
     "output_type": "execute_result"
    }
   ],
   "source": [
    "feature_values[0].values()"
   ]
  },
  {
   "cell_type": "markdown",
   "metadata": {},
   "source": [
    "## Change this into a function"
   ]
  },
  {
   "cell_type": "code",
   "execution_count": 17,
   "metadata": {},
   "outputs": [
    {
     "data": {
      "text/plain": [
       "array([[-63.54211145, -65.52491616, -62.90054542, ..., -81.5252667 ,\n",
       "        -82.30107475, -82.04870895],\n",
       "       [-63.78548155, -64.75587972, -64.60550311, ..., -64.42127691,\n",
       "        -65.13069593, -64.48718384]])"
      ]
     },
     "execution_count": 17,
     "metadata": {},
     "output_type": "execute_result"
    }
   ],
   "source": [
    "traces_times = [[50, 100], [51, 100]]\n",
    "fl = ['AP_amplitude', 'peak_time', 'peak_voltage', 'AP_begin_time', 'AP_begin_width', \n",
    "                                                 'AP_begin_voltage', 'mean_frequency']\n",
    "out_traces"
   ]
  },
  {
   "cell_type": "code",
   "execution_count": 18,
   "metadata": {},
   "outputs": [],
   "source": [
    "def calculate_features(traces, inp_times, feat_list):\n",
    "    traces = []\n",
    "    for i, trace in enumerate(out_traces):\n",
    "        time = np.arange(0, len(trace)/10, 0.1)\n",
    "        temp_trace = {}\n",
    "        temp_trace['T'] = time\n",
    "        temp_trace['V'] = trace\n",
    "        temp_trace['stim_start'] = [inp_times[i][0]]\n",
    "        temp_trace['stim_end'] = [inp_times[i][1]]\n",
    "        traces.append(temp_trace)\n",
    "\n",
    "    results = efel.getFeatureValues(traces, feat_list)\n",
    "\n",
    "    return results"
   ]
  },
  {
   "cell_type": "code",
   "execution_count": 19,
   "metadata": {},
   "outputs": [
    {
     "data": {
      "text/plain": [
       "[{'AP_amplitude': array([89.70820756, 78.49048023]),\n",
       "  'peak_time': array([ 56.4,  80.7, 103.9]),\n",
       "  'peak_voltage': array([50.21736542, 39.21906422, 36.45744931]),\n",
       "  'AP_begin_time': array([ 54.5,  78. , 101.3]),\n",
       "  'AP_begin_width': array([2.1, 7.5, 2.8]),\n",
       "  'AP_begin_voltage': array([-39.49084214, -39.271416  , -38.86994408]),\n",
       "  'mean_frequency': array([65.1465798])},\n",
       " {'AP_amplitude': array([85.66269442]),\n",
       "  'peak_time': array([68.2]),\n",
       "  'peak_voltage': array([48.24698601]),\n",
       "  'AP_begin_time': array([65.8]),\n",
       "  'AP_begin_width': array([2.6]),\n",
       "  'AP_begin_voltage': array([-37.41570842]),\n",
       "  'mean_frequency': array([58.13953488])}]"
      ]
     },
     "execution_count": 19,
     "metadata": {},
     "output_type": "execute_result"
    }
   ],
   "source": [
    "res = calculate_features(out_traces, traces_times, fl)\n",
    "res"
   ]
  },
  {
   "cell_type": "markdown",
   "metadata": {},
   "source": [
    "## Calculate error"
   ]
  },
  {
   "cell_type": "code",
   "execution_count": 20,
   "metadata": {},
   "outputs": [],
   "source": [
    "ot_opt = out_traces + np.random.randn()"
   ]
  },
  {
   "cell_type": "code",
   "execution_count": 21,
   "metadata": {},
   "outputs": [
    {
     "data": {
      "image/png": "[encoded data removed]",
      "text/plain": [
       "<Figure size 432x288 with 1 Axes>"
      ]
     },
     "metadata": {
      "needs_background": "light"
     },
     "output_type": "display_data"
    }
   ],
   "source": [
    "plt.plot(out_traces[0])\n",
    "plt.plot(ot_opt[0]);"
   ]
  },
  {
   "cell_type": "code",
   "execution_count": 22,
   "metadata": {},
   "outputs": [
    {
     "data": {
      "text/plain": [
       "[{'AP_amplitude': array([89.70820756, 78.49048023]),\n",
       "  'peak_time': array([ 56.4,  80.7, 103.9]),\n",
       "  'peak_voltage': array([50.21736542, 39.21906422, 36.45744931]),\n",
       "  'AP_begin_time': array([ 54.5,  78. , 101.3]),\n",
       "  'AP_begin_width': array([2.1, 7.5, 2.8]),\n",
       "  'AP_begin_voltage': array([-39.49084214, -39.271416  , -38.86994408]),\n",
       "  'mean_frequency': array([65.1465798])},\n",
       " {'AP_amplitude': array([85.66269442]),\n",
       "  'peak_time': array([68.2]),\n",
       "  'peak_voltage': array([48.24698601]),\n",
       "  'AP_begin_time': array([65.8]),\n",
       "  'AP_begin_width': array([2.6]),\n",
       "  'AP_begin_voltage': array([-37.41570842]),\n",
       "  'mean_frequency': array([58.13953488])}]"
      ]
     },
     "execution_count": 22,
     "metadata": {},
     "output_type": "execute_result"
    }
   ],
   "source": [
    "res = calculate_features(out_traces, traces_times, fl)\n",
    "res"
   ]
  },
  {
   "cell_type": "code",
   "execution_count": 23,
   "metadata": {},
   "outputs": [
    {
     "data": {
      "text/plain": [
       "[{'AP_amplitude': array([89.70820756, 78.49048023]),\n",
       "  'peak_time': array([ 56.4,  80.7, 103.9]),\n",
       "  'peak_voltage': array([50.21736542, 39.21906422, 36.45744931]),\n",
       "  'AP_begin_time': array([ 54.5,  78. , 101.3]),\n",
       "  'AP_begin_width': array([2.1, 7.5, 2.8]),\n",
       "  'AP_begin_voltage': array([-39.49084214, -39.271416  , -38.86994408]),\n",
       "  'mean_frequency': array([65.1465798])},\n",
       " {'AP_amplitude': array([85.66269442]),\n",
       "  'peak_time': array([68.2]),\n",
       "  'peak_voltage': array([48.24698601]),\n",
       "  'AP_begin_time': array([65.8]),\n",
       "  'AP_begin_width': array([2.6]),\n",
       "  'AP_begin_voltage': array([-37.41570842]),\n",
       "  'mean_frequency': array([58.13953488])}]"
      ]
     },
     "execution_count": 23,
     "metadata": {},
     "output_type": "execute_result"
    }
   ],
   "source": [
    "res2 = calculate_features(ot_opt, traces_times, fl)\n",
    "res2"
   ]
  },
  {
   "cell_type": "code",
   "execution_count": 24,
   "metadata": {},
   "outputs": [],
   "source": [
    "d1 = res[0]\n",
    "d2 = res2[0]\n",
    "d3 = {key: d1[key] - d2.get(key, 0) for key in d1.keys()}"
   ]
  },
  {
   "cell_type": "code",
   "execution_count": 25,
   "metadata": {},
   "outputs": [
    {
     "data": {
      "text/plain": [
       "{'AP_amplitude': array([0., 0.]),\n",
       " 'peak_time': array([0., 0., 0.]),\n",
       " 'peak_voltage': array([0., 0., 0.]),\n",
       " 'AP_begin_time': array([0., 0., 0.]),\n",
       " 'AP_begin_width': array([0., 0., 0.]),\n",
       " 'AP_begin_voltage': array([0., 0., 0.]),\n",
       " 'mean_frequency': array([0.])}"
      ]
     },
     "execution_count": 25,
     "metadata": {},
     "output_type": "execute_result"
    }
   ],
   "source": [
    "d3"
   ]
  },
  {
   "cell_type": "code",
   "execution_count": 26,
   "metadata": {},
   "outputs": [],
   "source": [
    "for k, v in d3.items():\n",
    "    d3[k] = sum(v)\n",
    "    "
   ]
  },
  {
   "cell_type": "code",
   "execution_count": 27,
   "metadata": {},
   "outputs": [
    {
     "data": {
      "text/plain": [
       "{'AP_amplitude': 0.0,\n",
       " 'peak_time': 0.0,\n",
       " 'peak_voltage': 0.0,\n",
       " 'AP_begin_time': 0.0,\n",
       " 'AP_begin_width': 0.0,\n",
       " 'AP_begin_voltage': 0.0,\n",
       " 'mean_frequency': 0.0}"
      ]
     },
     "execution_count": 27,
     "metadata": {},
     "output_type": "execute_result"
    }
   ],
   "source": [
    "d3"
   ]
  },
  {
   "cell_type": "code",
   "execution_count": 28,
   "metadata": {},
   "outputs": [
    {
     "data": {
      "text/plain": [
       "0.0"
      ]
     },
     "execution_count": 28,
     "metadata": {},
     "output_type": "execute_result"
    }
   ],
   "source": [
    "sum(d3.values())"
   ]
  },
  {
   "cell_type": "code",
   "execution_count": 29,
   "metadata": {},
   "outputs": [
    {
     "data": {
      "text/plain": [
       "0.0"
      ]
     },
     "execution_count": 29,
     "metadata": {},
     "output_type": "execute_result"
    }
   ],
   "source": [
    "err = sum(d3.values())\n",
    "err"
   ]
  },
  {
   "cell_type": "markdown",
   "metadata": {},
   "source": [
    "### Change feat to err"
   ]
  },
  {
   "cell_type": "code",
   "execution_count": 30,
   "metadata": {},
   "outputs": [],
   "source": [
    "def feat_to_err(d1, d2):\n",
    "    d3 = {key: d1[key] - d2.get(key, 0) for key in d1.keys()}   \n",
    "    for k, v in d3.items():\n",
    "        d3[k] = sum(v)\n",
    "\n",
    "    err = sum(d3.values())\n",
    "    return err"
   ]
  },
  {
   "cell_type": "code",
   "execution_count": 31,
   "metadata": {},
   "outputs": [
    {
     "data": {
      "text/plain": [
       "0.0"
      ]
     },
     "execution_count": 31,
     "metadata": {},
     "output_type": "execute_result"
    }
   ],
   "source": [
    "feat_to_err(res[0], res2[0])"
   ]
  },
  {
   "cell_type": "code",
   "execution_count": 32,
   "metadata": {},
   "outputs": [
    {
     "data": {
      "text/plain": [
       "0.0"
      ]
     },
     "execution_count": 32,
     "metadata": {},
     "output_type": "execute_result"
    }
   ],
   "source": [
    "feat_to_err(res[1], res2[1])"
   ]
  },
  {
   "cell_type": "code",
   "execution_count": null,
   "metadata": {},
   "outputs": [],
   "source": []
  }
 ],
 "metadata": {
  "kernelspec": {
   "display_name": "brian_opt",
   "language": "python",
   "name": "brian_opt"
  },
  "language_info": {
   "codemirror_mode": {
    "name": "ipython",
    "version": 3
   },
   "file_extension": ".py",
   "mimetype": "text/x-python",
   "name": "python",
   "nbconvert_exporter": "python",
   "pygments_lexer": "ipython3",
   "version": "3.7.3"
  }
 },
 "nbformat": 4,
 "nbformat_minor": 2
}
