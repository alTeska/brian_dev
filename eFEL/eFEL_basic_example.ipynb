{
 "cells": [
  {
   "cell_type": "code",
   "execution_count": 1,
   "metadata": {},
   "outputs": [
    {
     "data": {
      "text/plain": [
       "'Basic example 1 for eFEL'"
      ]
     },
     "execution_count": 1,
     "metadata": {},
     "output_type": "execute_result"
    }
   ],
   "source": [
    "from __future__ import print_function\n",
    "\"\"\"Basic example 1 for eFEL\"\"\""
   ]
  },
  {
   "cell_type": "code",
   "execution_count": 2,
   "metadata": {},
   "outputs": [],
   "source": [
    "import os\n",
    "import efel\n",
    "\n",
    "import numpy"
   ]
  },
  {
   "cell_type": "code",
   "execution_count": 3,
   "metadata": {},
   "outputs": [
    {
     "data": {
      "text/plain": [
       "array([[ 0.00000000e+00, -7.56837997e+01],\n",
       "       [ 2.50000012e-01, -7.56213074e+01],\n",
       "       [ 5.00000024e-01, -7.56213074e+01],\n",
       "       ...,\n",
       "       [ 2.99925017e+03, -7.83711777e+01],\n",
       "       [ 2.99950004e+03, -7.84649200e+01],\n",
       "       [ 2.99975014e+03, -7.83086777e+01]])"
      ]
     },
     "execution_count": 3,
     "metadata": {},
     "output_type": "execute_result"
    }
   ],
   "source": [
    "data = numpy.loadtxt('example_trace1.txt')\n",
    "data"
   ]
  },
  {
   "cell_type": "code",
   "execution_count": 4,
   "metadata": {},
   "outputs": [],
   "source": [
    "# Time is the first column\n",
    "time = data[:, 0]\n",
    "# Voltage is the second column\n",
    "voltage = data[:, 1]\n",
    "\n",
    "# Now we will construct the datastructure that will be passed to eFEL\n",
    "\n",
    "# A 'trace' is a dictionary\n",
    "trace1 = {}\n",
    "\n",
    "# Set the 'T' (=time) key of the trace\n",
    "trace1['T'] = time\n",
    "\n",
    "# Set the 'V' (=voltage) key of the trace\n",
    "trace1['V'] = voltage\n",
    "\n",
    "# Set the 'stim_start' (time at which a stimulus starts, in ms)\n",
    "# key of the trace\n",
    "# Warning: this need to be a list (with one element)\n",
    "trace1['stim_start'] = [700]\n",
    "\n",
    "# Set the 'stim_end' (time at which a stimulus end) key of the trace\n",
    "# Warning: this need to be a list (with one element)\n",
    "trace1['stim_end'] = [2700]\n",
    "\n",
    "# Multiple traces can be passed to the eFEL at the same time, so the\n",
    "# argument should be a list\n",
    "traces = [trace1]"
   ]
  },
  {
   "cell_type": "code",
   "execution_count": 5,
   "metadata": {},
   "outputs": [],
   "source": [
    "import matplotlib.pyplot as plt"
   ]
  },
  {
   "cell_type": "code",
   "execution_count": 6,
   "metadata": {},
   "outputs": [
    {
     "data": {
      "text/plain": [
       "[<matplotlib.lines.Line2D at 0x7f08c7bc6860>]"
      ]
     },
     "execution_count": 6,
     "metadata": {},
     "output_type": "execute_result"
    },
    {
     "data": {
      "image/png": "[encoded data removed]",
      "text/plain": [
       "<Figure size 432x288 with 1 Axes>"
      ]
     },
     "metadata": {
      "needs_background": "light"
     },
     "output_type": "display_data"
    }
   ],
   "source": [
    "plt.plot(trace1['T'])"
   ]
  },
  {
   "cell_type": "code",
   "execution_count": 7,
   "metadata": {},
   "outputs": [
    {
     "data": {
      "text/plain": [
       "[<matplotlib.lines.Line2D at 0x7f08c7ae09e8>]"
      ]
     },
     "execution_count": 7,
     "metadata": {},
     "output_type": "execute_result"
    },
    {
     "data": {
      "image/png": "[encoded data removed]",
      "text/plain": [
       "<Figure size 432x288 with 1 Axes>"
      ]
     },
     "metadata": {
      "needs_background": "light"
     },
     "output_type": "display_data"
    }
   ],
   "source": [
    "plt.plot(trace1['V'])"
   ]
  },
  {
   "cell_type": "code",
   "execution_count": 8,
   "metadata": {},
   "outputs": [
    {
     "data": {
      "text/plain": [
       "[{'T': array([0.00000000e+00, 2.50000012e-01, 5.00000024e-01, ...,\n",
       "         2.99925017e+03, 2.99950004e+03, 2.99975014e+03]),\n",
       "  'V': array([-75.68379974, -75.62130737, -75.62130737, ..., -78.37117767,\n",
       "         -78.46492004, -78.30867767]),\n",
       "  'stim_start': [700],\n",
       "  'stim_end': [2700]}]"
      ]
     },
     "execution_count": 8,
     "metadata": {},
     "output_type": "execute_result"
    }
   ],
   "source": [
    "traces"
   ]
  },
  {
   "cell_type": "code",
   "execution_count": 9,
   "metadata": {},
   "outputs": [],
   "source": [
    "import numpy as np"
   ]
  },
  {
   "cell_type": "code",
   "execution_count": 10,
   "metadata": {},
   "outputs": [
    {
     "data": {
      "text/plain": [
       "(12000,)"
      ]
     },
     "execution_count": 10,
     "metadata": {},
     "output_type": "execute_result"
    }
   ],
   "source": [
    "np.shape(trace1['V'])"
   ]
  },
  {
   "cell_type": "code",
   "execution_count": 11,
   "metadata": {},
   "outputs": [
    {
     "data": {
      "text/plain": [
       "(12000,)"
      ]
     },
     "execution_count": 11,
     "metadata": {},
     "output_type": "execute_result"
    }
   ],
   "source": [
    "np.shape(trace1['T'])"
   ]
  },
  {
   "cell_type": "code",
   "execution_count": 12,
   "metadata": {},
   "outputs": [],
   "source": [
    "# Now we pass 'traces' to the efel and ask it to calculate the feature\n",
    "# values\n",
    "traces_results = efel.getFeatureValues(traces,\n",
    "                                       ['AP_amplitude', 'voltage_base'])"
   ]
  },
  {
   "cell_type": "code",
   "execution_count": 13,
   "metadata": {},
   "outputs": [
    {
     "name": "stdout",
     "output_type": "stream",
     "text": [
      "Feature AP_amplitude has the following values: 72.57824412616736, 46.36725526181844, 41.154667915823914, 39.76317509528857, 36.161465303116316, 37.848929573728334\n",
      "Feature voltage_base has the following values: -74.71283577400435\n"
     ]
    }
   ],
   "source": [
    "# The return value is a list of trace_results, every trace_results\n",
    "# corresponds to one trace in the 'traces' list above (in same order)\n",
    "for trace_results in traces_results:\n",
    "    # trace_result is a dictionary, with as keys the requested features\n",
    "    for feature_name, feature_values in trace_results.items():\n",
    "        print(\"Feature %s has the following values: %s\" % \\\n",
    "            (feature_name, ', '.join([str(x) for x in feature_values])))"
   ]
  },
  {
   "cell_type": "code",
   "execution_count": null,
   "metadata": {},
   "outputs": [],
   "source": []
  }
 ],
 "metadata": {
  "kernelspec": {
   "display_name": "brian_opt",
   "language": "python",
   "name": "brian_opt"
  },
  "language_info": {
   "codemirror_mode": {
    "name": "ipython",
    "version": 3
   },
   "file_extension": ".py",
   "mimetype": "text/x-python",
   "name": "python",
   "nbconvert_exporter": "python",
   "pygments_lexer": "ipython3",
   "version": "3.7.3"
  }
 },
 "nbformat": 4,
 "nbformat_minor": 2
}
