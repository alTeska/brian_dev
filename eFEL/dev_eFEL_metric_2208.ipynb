{
 "cells": [
  {
   "cell_type": "markdown",
   "metadata": {},
   "source": [
    "# eFEL Metric"
   ]
  },
  {
   "cell_type": "code",
   "execution_count": 1,
   "metadata": {},
   "outputs": [],
   "source": [
    "import pandas as pd\n",
    "import numpy as np"
   ]
  },
  {
   "cell_type": "code",
   "execution_count": 2,
   "metadata": {},
   "outputs": [],
   "source": [
    "from brian2 import *\n",
    "prefs.codegen.target = 'cython'  # weave is not multiprocess-safe!\n"
   ]
  },
  {
   "cell_type": "code",
   "execution_count": 3,
   "metadata": {},
   "outputs": [],
   "source": [
    "import matplotlib.pyplot as plt\n",
    "import efel"
   ]
  },
  {
   "cell_type": "markdown",
   "metadata": {},
   "source": [
    "### Load Input and Output"
   ]
  },
  {
   "cell_type": "code",
   "execution_count": 4,
   "metadata": {},
   "outputs": [],
   "source": [
    "df_inp_traces = pd.read_csv('input_traces_hh.csv')\n",
    "df_out_traces = pd.read_csv('output_traces_hh.csv')"
   ]
  },
  {
   "cell_type": "code",
   "execution_count": 5,
   "metadata": {},
   "outputs": [],
   "source": [
    "out_traces0 = df_out_traces.to_numpy()\n",
    "out_traces0 = out_traces0[:, 1:]\n",
    "# out_traces0"
   ]
  },
  {
   "cell_type": "code",
   "execution_count": 6,
   "metadata": {},
   "outputs": [],
   "source": [
    "inp_traces0 = df_inp_traces.to_numpy()\n",
    "inp_traces0 = inp_traces0[:4, 1:]\n",
    "# inp_traces0"
   ]
  },
  {
   "cell_type": "markdown",
   "metadata": {},
   "source": [
    "## Generate the Data"
   ]
  },
  {
   "cell_type": "code",
   "execution_count": 7,
   "metadata": {},
   "outputs": [],
   "source": [
    "# Parameters\n",
    "area = 20000*umetre**2\n",
    "Cm = 1*ufarad*cm**-2 * area\n",
    "El = -65*mV\n",
    "EK = -90*mV\n",
    "ENa = 50*mV\n",
    "VT = -63*mV\n",
    "params_correct = {'gl': float(10e-5*siemens*cm**-2 * area),\n",
    "                  'g_na': float(400*msiemens*cm**-2 * area),\n",
    "                  'g_kd': float(85*msiemens*cm**-2 * area)}\n",
    "\n",
    "dt = 0.01*ms"
   ]
  },
  {
   "cell_type": "code",
   "execution_count": 8,
   "metadata": {},
   "outputs": [],
   "source": [
    "# Generate a step-current input and an \"experimental\" voltage trace\n",
    "input_current0 = np.hstack([np.zeros(int(5*ms/dt)), np.ones(int(5*ms/dt)), np.zeros(int(5*ms/dt))])*nA*10\n",
    "input_current1 = np.hstack([np.zeros(int(5*ms/dt)), np.ones(int(5*ms/dt)), np.zeros(int(5*ms/dt))])*nA*2\n",
    "input_current2 = np.hstack([np.ones(int(5*ms/dt)), np.ones(int(5*ms/dt)), np.zeros(int(5*ms/dt))])*nA*2\n",
    "input_current3 = np.hstack([np.zeros(int(5*ms/dt)), np.ones(int(5*ms/dt)), np.zeros(int(5*ms/dt))])*nA*50\n",
    "input_current4 = np.hstack([np.zeros(int(5*ms/dt)), np.ones(int(5*ms/dt)), np.zeros(int(5*ms/dt))])*nA*0.2\n",
    "\n",
    "input_current = np.stack((input_current0, input_current1, input_current2, input_current3, input_current4))"
   ]
  },
  {
   "cell_type": "code",
   "execution_count": 9,
   "metadata": {},
   "outputs": [],
   "source": [
    "defaultclock.dt = dt"
   ]
  },
  {
   "cell_type": "code",
   "execution_count": 10,
   "metadata": {},
   "outputs": [],
   "source": [
    "# The model\n",
    "eqsHH = Equations('''\n",
    "dv/dt = (gl*(El-v) - g_na*(m*m*m)*h*(v-ENa) - g_kd*(n*n*n*n)*(v-EK) + I(t))/Cm : volt\n",
    "dm/dt = 0.32*(mV**-1)*(13.*mV-v+ VT)/\n",
    "    (exp((13.*mV-v+VT)/(4.*mV))-1.)/ms*(1-m)-0.28*(mV**-1)*(v-VT-40.*mV)/\n",
    "    (exp((v-VT-40.*mV)/(5.*mV))-1.)/ms*m : 1\n",
    "dn/dt = 0.032*(mV**-1)*(15.*mV-v+VT)/\n",
    "    (exp((15.*mV-v+VT)/(5.*mV))-1.)/ms*(1.-n)-.5*exp((10.*mV-v+VT)/(40.*mV))/ms*n : 1\n",
    "dh/dt = 0.128*exp((17.*mV-v+VT)/(18.*mV))/ms*(1.-h)-4./(1+exp((40.*mV-v+VT)/(5.*mV)))/ms*h : 1\n",
    "g_na : siemens (constant)\n",
    "g_kd : siemens (constant)\n",
    "gl   : siemens (constant)\n",
    "''')"
   ]
  },
  {
   "cell_type": "code",
   "execution_count": 11,
   "metadata": {},
   "outputs": [],
   "source": [
    "I = TimedArray(input_current0, dt=dt)\n",
    "\n",
    "G = NeuronGroup(1, eqsHH, method='exponential_euler')\n",
    "G.v = El\n",
    "G.set_states(params_correct, units=False)\n",
    "mon = StateMonitor(G, 'v', record=0)\n",
    "run(20*ms)\n",
    "\n",
    "voltage = mon.v[0]/mV\n",
    "voltage += np.random.randn(len(voltage))\n",
    "\n",
    "\n",
    "inp_trace0 = np.array([input_current0])\n",
    "n0, n1 = inp_trace0.shape\n",
    "\n",
    "out_trace0 = np.array(voltage[:n1])"
   ]
  },
  {
   "cell_type": "code",
   "execution_count": 12,
   "metadata": {},
   "outputs": [],
   "source": [
    "start_scope()\n",
    "I = TimedArray(input_current1, dt=dt)\n",
    "G = NeuronGroup(1, eqsHH, method='exponential_euler')\n",
    "G.v = El\n",
    "G.set_states(params_correct, units=False)\n",
    "mon = StateMonitor(G, 'v', record=0)\n",
    "\n",
    "run(20*ms)\n",
    "\n",
    "voltage = mon.v[0]/mV\n",
    "\n",
    "voltage += np.random.randn(len(voltage))\n",
    "inp_trace1 = np.array([input_current1])\n",
    "n0, n1 = inp_trace1.shape\n",
    "out_trace1 = np.array(voltage[:n1])"
   ]
  },
  {
   "cell_type": "code",
   "execution_count": 13,
   "metadata": {},
   "outputs": [],
   "source": [
    "start_scope()\n",
    "I = TimedArray(input_current2, dt=dt)\n",
    "G = NeuronGroup(1, eqsHH, method='exponential_euler')\n",
    "G.v = El\n",
    "G.set_states(params_correct, units=False)\n",
    "mon = StateMonitor(G, 'v', record=0)\n",
    "\n",
    "run(20*ms)\n",
    "\n",
    "voltage = mon.v[0]/mV\n",
    "\n",
    "voltage += np.random.randn(len(voltage))\n",
    "inp_trace2 = np.array([input_current2])\n",
    "n0, n1 = inp_trace2.shape\n",
    "out_trace2 = np.array(voltage[:n1])"
   ]
  },
  {
   "cell_type": "code",
   "execution_count": 14,
   "metadata": {},
   "outputs": [],
   "source": [
    "start_scope()\n",
    "I = TimedArray(input_current3, dt=dt)\n",
    "G = NeuronGroup(1, eqsHH, method='exponential_euler')\n",
    "G.v = El\n",
    "G.set_states(params_correct, units=False)\n",
    "mon = StateMonitor(G, 'v', record=0)\n",
    "\n",
    "run(30*ms)\n",
    "\n",
    "voltage = mon.v[0]/mV\n",
    "\n",
    "voltage += np.random.randn(len(voltage))\n",
    "inp_trace3 = np.array([input_current3])\n",
    "n0, n1 = inp_trace3.shape\n",
    "out_trace3 = np.array(voltage[:n1])"
   ]
  },
  {
   "cell_type": "code",
   "execution_count": 15,
   "metadata": {},
   "outputs": [],
   "source": [
    "start_scope()\n",
    "I = TimedArray(input_current4, dt=dt)\n",
    "G = NeuronGroup(1, eqsHH, method='exponential_euler')\n",
    "G.v = El\n",
    "G.set_states(params_correct, units=False)\n",
    "mon = StateMonitor(G, 'v', record=0)\n",
    "\n",
    "run(30*ms)\n",
    "\n",
    "voltage = mon.v[0]/mV\n",
    "\n",
    "voltage += np.random.randn(len(voltage))\n",
    "inp_trace4 = np.array([input_current4])\n",
    "n0, n1 = inp_trace4.shape\n",
    "out_trace4 = np.array(voltage[:n1])"
   ]
  },
  {
   "cell_type": "code",
   "execution_count": 16,
   "metadata": {},
   "outputs": [],
   "source": [
    "inp_traces = np.stack((inp_trace0[0], inp_trace1[0], inp_trace2[0], inp_trace3[0], inp_trace4[0]))\n",
    "# inp_traces = np.stack((inp_trace0[0], inp_trace1[0], inp_trace2[0], inp_trace3[0]))"
   ]
  },
  {
   "cell_type": "code",
   "execution_count": 17,
   "metadata": {},
   "outputs": [],
   "source": [
    "out_traces = np.stack((out_trace0, out_trace1, out_trace2, out_trace3,out_trace4))\n",
    "# out_traces = np.stack((out_trace0, out_trace1, out_trace2, out_trace3))"
   ]
  },
  {
   "cell_type": "markdown",
   "metadata": {},
   "source": [
    "## Visualize all the Traces"
   ]
  },
  {
   "cell_type": "code",
   "execution_count": 18,
   "metadata": {},
   "outputs": [
    {
     "data": {
      "image/png": "[encoded data removed]",
      "text/plain": [
       "<Figure size 1440x360 with 5 Axes>"
      ]
     },
     "metadata": {
      "needs_background": "light"
     },
     "output_type": "display_data"
    }
   ],
   "source": [
    "fig, ax = plt.subplots(nrows=1, ncols=5, figsize=(20,5))\n",
    "ax[0].plot(out_traces[0])\n",
    "ax[1].plot(out_traces[1])\n",
    "ax[2].plot(out_traces[2])\n",
    "ax[3].plot(out_traces[3])\n",
    "ax[4].plot(out_traces[4])\n",
    "\n",
    "ax[0].plot(out_traces0[0])\n",
    "ax[1].plot(out_traces0[1])\n",
    "ax[2].plot(out_traces0[2])\n",
    "ax[3].plot(out_traces0[3]);\n",
    "ax[4].plot(out_traces0[4]);\n"
   ]
  },
  {
   "cell_type": "markdown",
   "metadata": {},
   "source": [
    "## Setup Env for Metric"
   ]
  },
  {
   "cell_type": "code",
   "execution_count": 19,
   "metadata": {},
   "outputs": [
    {
     "data": {
      "text/plain": [
       "(4, 1497)"
      ]
     },
     "execution_count": 19,
     "metadata": {},
     "output_type": "execute_result"
    }
   ],
   "source": [
    "# inp_traces = np.stack((inp_trace0[0], inp_trace1[0], inp_trace2[0], inp_trace3[0], inp_trace4[0]))\n",
    "inp_traces = np.stack((inp_trace0[0], inp_trace1[0], inp_trace2[0], inp_trace3[0]))\n",
    "np.shape(inp_traces)"
   ]
  },
  {
   "cell_type": "code",
   "execution_count": 20,
   "metadata": {},
   "outputs": [
    {
     "data": {
      "text/plain": [
       "(4, 1497)"
      ]
     },
     "execution_count": 20,
     "metadata": {},
     "output_type": "execute_result"
    }
   ],
   "source": [
    "# out_traces = np.stack((out_trace0, out_trace1, out_trace2, out_trace3,out_trace4))\n",
    "out_traces = np.stack((out_trace0, out_trace1, out_trace2, out_trace3))\n",
    "np.shape(out_traces)"
   ]
  },
  {
   "cell_type": "code",
   "execution_count": 21,
   "metadata": {},
   "outputs": [
    {
     "data": {
      "text/plain": [
       "(4, 1497)"
      ]
     },
     "execution_count": 21,
     "metadata": {},
     "output_type": "execute_result"
    }
   ],
   "source": [
    "out_traces0 = df_out_traces.to_numpy()\n",
    "out_traces0 = out_traces0[:4, 1:]\n",
    "np.shape(out_traces0)"
   ]
  },
  {
   "cell_type": "markdown",
   "metadata": {},
   "source": [
    "## Setup For Metric Deev"
   ]
  },
  {
   "cell_type": "code",
   "execution_count": 22,
   "metadata": {},
   "outputs": [],
   "source": [
    "def calculate_features(traces, inp_times, feat_list):\n",
    "    out_traces = []\n",
    "    for i, trace in enumerate(traces):\n",
    "        time = np.arange(0, len(trace)/10, 0.1)\n",
    "        temp_trace = {}\n",
    "        temp_trace['T'] = time\n",
    "        temp_trace['V'] = trace\n",
    "        temp_trace['stim_start'] = [inp_times[i][0]]\n",
    "        temp_trace['stim_end'] = [inp_times[i][1]]\n",
    "        out_traces.append(temp_trace)\n",
    "\n",
    "    results = efel.getFeatureValues(out_traces, feat_list)\n",
    "\n",
    "    return results"
   ]
  },
  {
   "cell_type": "markdown",
   "metadata": {},
   "source": [
    "### __init__"
   ]
  },
  {
   "cell_type": "markdown",
   "metadata": {},
   "source": [
    "### COMMENTS\n",
    "- add check for traces_times lenght"
   ]
  },
  {
   "cell_type": "code",
   "execution_count": 23,
   "metadata": {},
   "outputs": [],
   "source": [
    "time = np.arange(0, len(out_traces[0])/10, 0.1)"
   ]
  },
  {
   "cell_type": "code",
   "execution_count": 24,
   "metadata": {},
   "outputs": [
    {
     "data": {
      "text/plain": [
       "(4, 2)"
      ]
     },
     "execution_count": 24,
     "metadata": {},
     "output_type": "execute_result"
    }
   ],
   "source": [
    "# traces_times = [[50, 100], [50, 100], [50, 100], [50, 100], [50, 100]]\n",
    "traces_times = [[50, 100], [50, 100], [50, 100], [50, 100]]\n",
    "np.shape(traces_times)"
   ]
  },
  {
   "cell_type": "code",
   "execution_count": 25,
   "metadata": {},
   "outputs": [],
   "source": [
    "# fl = ['AP_amplitude', 'peak_time', 'peak_voltage', 'AP_begin_time', 'AP_begin_width', \n",
    "#                                                  'AP_begin_voltage', 'mean_frequency']\n",
    "fl = ['mean_AP_amplitude', 'voltage_base', 'mean_frequency']\n"
   ]
  },
  {
   "cell_type": "markdown",
   "metadata": {},
   "source": [
    "#### Calculate features of output"
   ]
  },
  {
   "cell_type": "code",
   "execution_count": 26,
   "metadata": {},
   "outputs": [],
   "source": [
    "output = out_traces"
   ]
  },
  {
   "cell_type": "code",
   "execution_count": 27,
   "metadata": {},
   "outputs": [],
   "source": [
    "out_feat = calculate_features(output, traces_times, fl)"
   ]
  },
  {
   "cell_type": "code",
   "execution_count": 28,
   "metadata": {},
   "outputs": [
    {
     "data": {
      "text/plain": [
       "[{'mean_AP_amplitude': array([95.02459257]),\n",
       "  'voltage_base': array([-64.83203191]),\n",
       "  'mean_frequency': array([67.11409396])},\n",
       " {'mean_AP_amplitude': array([95.7619062]),\n",
       "  'voltage_base': array([-65.04182446]),\n",
       "  'mean_frequency': array([71.94244604])},\n",
       " {'mean_AP_amplitude': array([92.45869112]),\n",
       "  'voltage_base': array([-67.4245827]),\n",
       "  'mean_frequency': array([69.44444444])},\n",
       " {'mean_AP_amplitude': array([89.20098477]),\n",
       "  'voltage_base': array([-64.75585042]),\n",
       "  'mean_frequency': array([80.97165992])}]"
      ]
     },
     "execution_count": 28,
     "metadata": {},
     "output_type": "execute_result"
    }
   ],
   "source": [
    "out_feat"
   ]
  },
  {
   "cell_type": "code",
   "execution_count": 29,
   "metadata": {},
   "outputs": [
    {
     "data": {
      "text/plain": [
       "[{'mean_AP_amplitude': array([95.02459257]),\n",
       "  'voltage_base': array([-64.83203191]),\n",
       "  'mean_frequency': array([67.11409396])},\n",
       " {'mean_AP_amplitude': array([95.7619062]),\n",
       "  'voltage_base': array([-65.04182446]),\n",
       "  'mean_frequency': array([71.94244604])},\n",
       " {'mean_AP_amplitude': array([92.45869112]),\n",
       "  'voltage_base': array([-67.4245827]),\n",
       "  'mean_frequency': array([69.44444444])},\n",
       " {'mean_AP_amplitude': array([89.20098477]),\n",
       "  'voltage_base': array([-64.75585042]),\n",
       "  'mean_frequency': array([80.97165992])}]"
      ]
     },
     "execution_count": 29,
     "metadata": {},
     "output_type": "execute_result"
    }
   ],
   "source": [
    "for r in out_feat:\n",
    "    for k, v in r.items():\n",
    "        if v is None:\n",
    "            print('None for key:{}'.format(k))\n",
    "        \n",
    "            r[k] = np.array([9999]) # WARNING HERE\n",
    "        if (len(r[k])) > 1:\n",
    "            print('you can only use features that return one value') # ERROR HERE\n",
    "\n",
    "out_feat    "
   ]
  },
  {
   "cell_type": "markdown",
   "metadata": {},
   "source": [
    "### get_features"
   ]
  },
  {
   "cell_type": "code",
   "execution_count": 30,
   "metadata": {},
   "outputs": [],
   "source": [
    "n_traces = 4"
   ]
  },
  {
   "cell_type": "code",
   "execution_count": 31,
   "metadata": {},
   "outputs": [
    {
     "data": {
      "text/plain": [
       "array([[-63.54211145, -65.52491616, -62.90054542, ..., -81.5252667 ,\n",
       "        -82.30107475, -82.04870895],\n",
       "       [-63.78548155, -64.75587972, -64.60550311, ..., -64.42127691,\n",
       "        -65.13069593, -64.48718384],\n",
       "       [-62.92648395, -65.82540807, -64.76394825, ..., -64.9418292 ,\n",
       "        -63.8704734 , -63.17105741],\n",
       "       ...,\n",
       "       [-63.78548155, -64.75587972, -64.60550311, ..., -64.42127691,\n",
       "        -65.13069593, -64.48718384],\n",
       "       [-62.92648395, -65.82540807, -64.76394825, ..., -64.9418292 ,\n",
       "        -63.8704734 , -63.17105741],\n",
       "       [-64.51645049, -66.84945425, -64.64260378, ..., -80.91299455,\n",
       "        -79.08977935, -82.01562544]])"
      ]
     },
     "execution_count": 31,
     "metadata": {},
     "output_type": "execute_result"
    }
   ],
   "source": [
    "traces = np.vstack([out_traces0, out_traces0])\n",
    "traces"
   ]
  },
  {
   "cell_type": "code",
   "execution_count": 32,
   "metadata": {},
   "outputs": [
    {
     "data": {
      "text/plain": [
       "2"
      ]
     },
     "execution_count": 32,
     "metadata": {},
     "output_type": "execute_result"
    }
   ],
   "source": [
    "sl = int(np.shape(traces)[0]/n_traces)\n",
    "# sl"
   ]
  },
  {
   "cell_type": "code",
   "execution_count": 33,
   "metadata": {},
   "outputs": [
    {
     "name": "stderr",
     "output_type": "stream",
     "text": [
      "WARNING    /home/alteska/.local/lib/python3.7/site-packages/efel/api.py:480: RuntimeWarning: Error while calculating feature mean_AP_amplitude: AP_amplitude: More peak_voltage entries during the stimulus than AP_begin_indices entries\n",
      "Feature [AP_amplitude] is missing\n",
      "Error calculating AP_amplitude for mean_AP_amplitude\n",
      "  RuntimeWarning)\n",
      " [py.warnings]\n"
     ]
    },
    {
     "name": "stdout",
     "output_type": "stream",
     "text": [
      "None\n",
      "None\n"
     ]
    }
   ],
   "source": [
    "feat = []\n",
    "temp_traces = np.split(traces, sl)\n",
    "\n",
    "for ii in arange(sl):\n",
    "    temp_trace = temp_traces[ii]\n",
    "    temp_feat = calculate_features(temp_trace, traces_times, fl)\n",
    "    \n",
    "    for r in temp_feat:\n",
    "        for k, v in r.items():\n",
    "            if v is None:\n",
    "                print('None')\n",
    "                r[k] = np.array([9999]) # WARNING HERE\n",
    "            if (len(r[k])) > 1:\n",
    "                print('you can only use features that return one value') # ERROR HERE\n",
    "\n",
    "    feat.append(temp_feat)\n",
    "    "
   ]
  },
  {
   "cell_type": "code",
   "execution_count": 86,
   "metadata": {},
   "outputs": [
    {
     "data": {
      "text/plain": [
       "[[{'mean_AP_amplitude': array([84.09934389]),\n",
       "   'voltage_base': array([-65.02022173]),\n",
       "   'mean_frequency': array([65.1465798])},\n",
       "  {'mean_AP_amplitude': array([85.66269442]),\n",
       "   'voltage_base': array([-64.98160648]),\n",
       "   'mean_frequency': array([54.94505495])},\n",
       "  {'mean_AP_amplitude': array([85.78382778]),\n",
       "   'voltage_base': array([-66.86791073]),\n",
       "   'mean_frequency': array([57.47126437])},\n",
       "  {'mean_AP_amplitude': array([9999]),\n",
       "   'voltage_base': array([-64.8898122]),\n",
       "   'mean_frequency': array([104.38413361])}],\n",
       " [{'mean_AP_amplitude': array([84.09934389]),\n",
       "   'voltage_base': array([-65.02022173]),\n",
       "   'mean_frequency': array([65.1465798])},\n",
       "  {'mean_AP_amplitude': array([85.66269442]),\n",
       "   'voltage_base': array([-64.98160648]),\n",
       "   'mean_frequency': array([54.94505495])},\n",
       "  {'mean_AP_amplitude': array([85.78382778]),\n",
       "   'voltage_base': array([-66.86791073]),\n",
       "   'mean_frequency': array([57.47126437])},\n",
       "  {'mean_AP_amplitude': array([9999]),\n",
       "   'voltage_base': array([-64.8898122]),\n",
       "   'mean_frequency': array([104.38413361])}]]"
      ]
     },
     "execution_count": 86,
     "metadata": {},
     "output_type": "execute_result"
    }
   ],
   "source": [
    "features"
   ]
  },
  {
   "cell_type": "markdown",
   "metadata": {},
   "source": [
    "## get_errors!\n",
    "\n",
    "we start with out_feat and feat "
   ]
  },
  {
   "cell_type": "code",
   "execution_count": 35,
   "metadata": {},
   "outputs": [],
   "source": [
    "def combine(x, y):\n",
    "    return x - y   "
   ]
  },
  {
   "cell_type": "code",
   "execution_count": 36,
   "metadata": {},
   "outputs": [],
   "source": [
    "def feat_to_err(d1, d2):\n",
    "    d={}\n",
    "    err = 0\n",
    "    for key in d1.keys():\n",
    "        x = d1[key]\n",
    "        y = d2[key]\n",
    "        d[key] = combine(x, y)\n",
    "        \n",
    "    for k, v in d.items():\n",
    "        err += sum(v)\n",
    "\n",
    "    return err"
   ]
  },
  {
   "cell_type": "code",
   "execution_count": 60,
   "metadata": {},
   "outputs": [
    {
     "data": {
      "text/plain": [
       "[[{'mean_AP_amplitude': array([84.09934389]),\n",
       "   'voltage_base': array([-65.02022173]),\n",
       "   'mean_frequency': array([65.1465798])},\n",
       "  {'mean_AP_amplitude': array([85.66269442]),\n",
       "   'voltage_base': array([-64.98160648]),\n",
       "   'mean_frequency': array([54.94505495])},\n",
       "  {'mean_AP_amplitude': array([85.78382778]),\n",
       "   'voltage_base': array([-66.86791073]),\n",
       "   'mean_frequency': array([57.47126437])},\n",
       "  {'mean_AP_amplitude': array([9999]),\n",
       "   'voltage_base': array([-64.8898122]),\n",
       "   'mean_frequency': array([104.38413361])}],\n",
       " [{'mean_AP_amplitude': array([84.09934389]),\n",
       "   'voltage_base': array([-65.02022173]),\n",
       "   'mean_frequency': array([65.1465798])},\n",
       "  {'mean_AP_amplitude': array([85.66269442]),\n",
       "   'voltage_base': array([-64.98160648]),\n",
       "   'mean_frequency': array([54.94505495])},\n",
       "  {'mean_AP_amplitude': array([85.78382778]),\n",
       "   'voltage_base': array([-66.86791073]),\n",
       "   'mean_frequency': array([57.47126437])},\n",
       "  {'mean_AP_amplitude': array([9999]),\n",
       "   'voltage_base': array([-64.8898122]),\n",
       "   'mean_frequency': array([104.38413361])}]]"
      ]
     },
     "execution_count": 60,
     "metadata": {},
     "output_type": "execute_result"
    }
   ],
   "source": [
    "feat\n"
   ]
  },
  {
   "cell_type": "code",
   "execution_count": 65,
   "metadata": {},
   "outputs": [
    {
     "data": {
      "text/plain": [
       "[[{'mean_AP_amplitude': array([84.09934389]),\n",
       "   'voltage_base': array([-65.02022173]),\n",
       "   'mean_frequency': array([65.1465798])},\n",
       "  {'mean_AP_amplitude': array([85.66269442]),\n",
       "   'voltage_base': array([-64.98160648]),\n",
       "   'mean_frequency': array([54.94505495])},\n",
       "  {'mean_AP_amplitude': array([85.78382778]),\n",
       "   'voltage_base': array([-66.86791073]),\n",
       "   'mean_frequency': array([57.47126437])},\n",
       "  {'mean_AP_amplitude': array([9999]),\n",
       "   'voltage_base': array([-64.8898122]),\n",
       "   'mean_frequency': array([104.38413361])}],\n",
       " [{'mean_AP_amplitude': array([84.09934389]),\n",
       "   'voltage_base': array([-65.02022173]),\n",
       "   'mean_frequency': array([65.1465798])},\n",
       "  {'mean_AP_amplitude': array([85.66269442]),\n",
       "   'voltage_base': array([-64.98160648]),\n",
       "   'mean_frequency': array([54.94505495])},\n",
       "  {'mean_AP_amplitude': array([85.78382778]),\n",
       "   'voltage_base': array([-66.86791073]),\n",
       "   'mean_frequency': array([57.47126437])},\n",
       "  {'mean_AP_amplitude': array([9999]),\n",
       "   'voltage_base': array([-64.8898122]),\n",
       "   'mean_frequency': array([104.38413361])}]]"
      ]
     },
     "execution_count": 65,
     "metadata": {},
     "output_type": "execute_result"
    }
   ],
   "source": [
    "features = feat\n",
    "features\n"
   ]
  },
  {
   "cell_type": "code",
   "execution_count": 73,
   "metadata": {},
   "outputs": [
    {
     "name": "stdout",
     "output_type": "stream",
     "text": [
      "{'mean_AP_amplitude': array([95.02459257]), 'voltage_base': array([-64.83203191]), 'mean_frequency': array([67.11409396])}\n"
     ]
    }
   ],
   "source": [
    "print(out_feat)"
   ]
  },
  {
   "cell_type": "code",
   "execution_count": 88,
   "metadata": {},
   "outputs": [
    {
     "name": "stdout",
     "output_type": "stream",
     "text": [
      "[9991.286236101203, 9991.286236101203]\n"
     ]
    }
   ],
   "source": [
    "errors = []\n",
    "for feat in features:\n",
    "    temp_errors = []\n",
    "    for i, F in enumerate(feat):\n",
    "        temp_err = feat_to_err(F, out_feat[i])\n",
    "        temp_errors.append(temp_err)\n",
    "\n",
    "    error = sum(np.abs(temp_errors))\n",
    "    errors.append(error)\n",
    "\n",
    "print(errors)\n"
   ]
  },
  {
   "cell_type": "markdown",
   "metadata": {},
   "source": [
    "## Transform Into class!"
   ]
  },
  {
   "cell_type": "code",
   "execution_count": 91,
   "metadata": {},
   "outputs": [],
   "source": [
    "\n",
    "class FeatureMetric(object):\n",
    "    def __init__(self, traces_times, feat_list, combine=None):\n",
    "        self.traces_times = traces_times\n",
    "        self.feat_list = feat_list\n",
    "\n",
    "        if combine is None:\n",
    "            def combine(x, y):\n",
    "                return x - y\n",
    "        self.combine = combine\n",
    "\n",
    "    def get_features(self, traces, output, n_traces):\n",
    "        self.out_feat = calculate_features(output, self.traces_times, self.feat_list)\n",
    "        for r in self.out_feat:\n",
    "            for k, v in r.items():\n",
    "                if v is None:\n",
    "                    print('None for key:{}'.format(k))\n",
    "                    r[k] = np.array([9999]) # WARNING HERE\n",
    "                if (len(r[k])) > 1:\n",
    "                    print('you can only use features that return one value') # ERROR HERE\n",
    "\n",
    "\n",
    "        sl = int(np.shape(traces)[0]/n_traces)\n",
    "        feat = []\n",
    "        temp_traces = np.split(traces, sl)\n",
    "\n",
    "        for ii in arange(sl):\n",
    "            temp_trace = temp_traces[ii]\n",
    "            temp_feat = calculate_features(temp_trace, self.traces_times, self.feat_list)\n",
    "\n",
    "            for r in temp_feat:\n",
    "                for k, v in r.items():\n",
    "                    if v is None:\n",
    "                        print('None')\n",
    "                        r[k] = np.array([9999]) # WARNING HERE\n",
    "                    if (len(r[k])) > 1:\n",
    "                        print('you can only use features that return one value') # ERROR HERE\n",
    "\n",
    "            feat.append(temp_feat)\n",
    "\n",
    "        self.features = feat\n",
    "\n",
    "    def feat_to_err(self, d1, d2):\n",
    "        d={}\n",
    "        err = 0\n",
    "        for key in d1.keys():\n",
    "            x = d1[key]\n",
    "            y = d2[key]\n",
    "            d[key] = self.combine(x, y)\n",
    "\n",
    "        for k, v in d.items():\n",
    "            err += sum(v)\n",
    "\n",
    "        return err\n",
    "\n",
    "    def get_errors(self, features, n_traces):\n",
    "        errors = []\n",
    "        for feat in features:\n",
    "            temp_errors = []\n",
    "            for i, F in enumerate(feat):\n",
    "                temp_err = self.feat_to_err(F, out_feat[i])\n",
    "                temp_errors.append(temp_err)\n",
    "        \n",
    "            error = sum(np.abs(temp_errors))\n",
    "            errors.append(error)\n",
    "       \n",
    "            \n",
    "        self.errors = errors"
   ]
  },
  {
   "cell_type": "code",
   "execution_count": 92,
   "metadata": {},
   "outputs": [],
   "source": [
    "fmetric = FeatureMetric(traces_times, fl, combine=None)"
   ]
  },
  {
   "cell_type": "code",
   "execution_count": 95,
   "metadata": {},
   "outputs": [
    {
     "name": "stdout",
     "output_type": "stream",
     "text": [
      "None\n",
      "None\n",
      "[9991.286236101203, 9991.286236101203]\n"
     ]
    }
   ],
   "source": [
    "fmetric.get_features(traces, output, n_traces)\n",
    "fmetric.get_errors(fmetric.features, n_traces)\n",
    "\n",
    "print(fmetric.errors)"
   ]
  },
  {
   "cell_type": "code",
   "execution_count": 96,
   "metadata": {},
   "outputs": [],
   "source": [
    "# fmetric.calc(traces, output, n_traces)"
   ]
  },
  {
   "cell_type": "code",
   "execution_count": null,
   "metadata": {},
   "outputs": [],
   "source": []
  }
 ],
 "metadata": {
  "kernelspec": {
   "display_name": "brian_opt",
   "language": "python",
   "name": "brian_opt"
  },
  "language_info": {
   "codemirror_mode": {
    "name": "ipython",
    "version": 3
   },
   "file_extension": ".py",
   "mimetype": "text/x-python",
   "name": "python",
   "nbconvert_exporter": "python",
   "pygments_lexer": "ipython3",
   "version": "3.7.3"
  }
 },
 "nbformat": 4,
 "nbformat_minor": 2
}
