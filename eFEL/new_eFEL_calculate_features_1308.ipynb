{
 "cells": [
  {
   "cell_type": "markdown",
   "metadata": {},
   "source": [
    "# Dev eFEL metric"
   ]
  },
  {
   "cell_type": "code",
   "execution_count": 1,
   "metadata": {},
   "outputs": [],
   "source": [
    "import pandas as pd\n",
    "import numpy as np\n",
    "\n",
    "import matplotlib.pyplot as plt\n",
    "\n",
    "import efel"
   ]
  },
  {
   "cell_type": "markdown",
   "metadata": {},
   "source": [
    "### Load Input and Output"
   ]
  },
  {
   "cell_type": "code",
   "execution_count": 2,
   "metadata": {},
   "outputs": [],
   "source": [
    "df_inp_traces = pd.read_csv('input_traces_hh.csv')\n",
    "df_out_traces = pd.read_csv('output_traces_hh.csv')"
   ]
  },
  {
   "cell_type": "code",
   "execution_count": 3,
   "metadata": {},
   "outputs": [
    {
     "data": {
      "text/plain": [
       "array([[-63.54211145, -65.52491616, -62.90054542, ..., -81.5252667 ,\n",
       "        -82.30107475, -82.04870895],\n",
       "       [-63.78548155, -64.75587972, -64.60550311, ..., -64.42127691,\n",
       "        -65.13069593, -64.48718384]])"
      ]
     },
     "execution_count": 3,
     "metadata": {},
     "output_type": "execute_result"
    }
   ],
   "source": [
    "out_traces = df_out_traces.to_numpy()\n",
    "out_traces = out_traces[:2, 1:]\n",
    "out_traces"
   ]
  },
  {
   "cell_type": "code",
   "execution_count": 4,
   "metadata": {},
   "outputs": [
    {
     "data": {
      "text/plain": [
       "array([[0., 0., 0., ..., 0., 0., 0.],\n",
       "       [0., 0., 0., ..., 0., 0., 0.]])"
      ]
     },
     "execution_count": 4,
     "metadata": {},
     "output_type": "execute_result"
    }
   ],
   "source": [
    "inp_traces = df_inp_traces.to_numpy()\n",
    "inp_traces = inp_traces[:2, 1:]\n",
    "inp_traces"
   ]
  },
  {
   "cell_type": "code",
   "execution_count": 5,
   "metadata": {},
   "outputs": [
    {
     "data": {
      "image/png": "[encoded data removed]",
      "text/plain": [
       "<Figure size 720x360 with 2 Axes>"
      ]
     },
     "metadata": {
      "needs_background": "light"
     },
     "output_type": "display_data"
    }
   ],
   "source": [
    "fig, ax = plt.subplots(ncols=2, figsize=(10,5))\n",
    "ax[0].plot(inp_traces.transpose());\n",
    "ax[1].plot(out_traces.transpose());"
   ]
  },
  {
   "cell_type": "markdown",
   "metadata": {},
   "source": [
    "## eFEL features calc"
   ]
  },
  {
   "cell_type": "markdown",
   "metadata": {},
   "source": [
    "### Get Traces"
   ]
  },
  {
   "cell_type": "code",
   "execution_count": 6,
   "metadata": {},
   "outputs": [],
   "source": [
    "time = np.arange(0, len(out_traces[0])/10, 0.1)"
   ]
  },
  {
   "cell_type": "code",
   "execution_count": 7,
   "metadata": {},
   "outputs": [],
   "source": [
    "trace1 = {}\n",
    "trace1['T'] = time\n",
    "trace1['V'] = out_traces[0, :]"
   ]
  },
  {
   "cell_type": "code",
   "execution_count": 8,
   "metadata": {},
   "outputs": [],
   "source": [
    "trace1['stim_start'] = [50]\n",
    "trace1['stim_end'] = [100]"
   ]
  },
  {
   "cell_type": "code",
   "execution_count": 9,
   "metadata": {},
   "outputs": [],
   "source": [
    "traces_times = [[50, 100], [51, 100]]"
   ]
  },
  {
   "cell_type": "code",
   "execution_count": 10,
   "metadata": {},
   "outputs": [],
   "source": [
    "traces = []\n",
    "for i, trace in enumerate(out_traces):\n",
    "    temp_trace = {}\n",
    "    temp_trace['T'] = time\n",
    "    temp_trace['V'] = trace\n",
    "    temp_trace['stim_start'] = [traces_times[i][0]]\n",
    "    temp_trace['stim_end'] = [traces_times[i][1]]\n",
    "    traces.append(temp_trace)\n"
   ]
  },
  {
   "cell_type": "code",
   "execution_count": 11,
   "metadata": {},
   "outputs": [
    {
     "data": {
      "text/plain": [
       "[{'T': array([0.000e+00, 1.000e-01, 2.000e-01, ..., 1.494e+02, 1.495e+02,\n",
       "         1.496e+02]),\n",
       "  'V': array([-63.54211145, -65.52491616, -62.90054542, ..., -81.5252667 ,\n",
       "         -82.30107475, -82.04870895]),\n",
       "  'stim_start': [50],\n",
       "  'stim_end': [100]},\n",
       " {'T': array([0.000e+00, 1.000e-01, 2.000e-01, ..., 1.494e+02, 1.495e+02,\n",
       "         1.496e+02]),\n",
       "  'V': array([-63.78548155, -64.75587972, -64.60550311, ..., -64.42127691,\n",
       "         -65.13069593, -64.48718384]),\n",
       "  'stim_start': [51],\n",
       "  'stim_end': [100]}]"
      ]
     },
     "execution_count": 11,
     "metadata": {},
     "output_type": "execute_result"
    }
   ],
   "source": [
    "traces"
   ]
  },
  {
   "cell_type": "markdown",
   "metadata": {},
   "source": [
    "## Calculate Features"
   ]
  },
  {
   "cell_type": "code",
   "execution_count": 18,
   "metadata": {},
   "outputs": [],
   "source": [
    "feat_list = ['mean_AP_amplitude', 'voltage_base']"
   ]
  },
  {
   "cell_type": "code",
   "execution_count": 19,
   "metadata": {},
   "outputs": [
    {
     "data": {
      "text/plain": [
       "[{'mean_AP_amplitude': array([84.09934389]),\n",
       "  'voltage_base': array([-65.02022173])},\n",
       " {'mean_AP_amplitude': array([85.66269442]),\n",
       "  'voltage_base': array([-64.91993906])}]"
      ]
     },
     "execution_count": 19,
     "metadata": {},
     "output_type": "execute_result"
    }
   ],
   "source": [
    "feature_values = efel.getFeatureValues(traces, feat_list)\n",
    "feature_values"
   ]
  },
  {
   "cell_type": "code",
   "execution_count": 20,
   "metadata": {},
   "outputs": [
    {
     "data": {
      "text/plain": [
       "['AHP1_depth_from_peak',\n",
       " 'AHP2_depth_from_peak',\n",
       " 'AHP_depth',\n",
       " 'AHP_depth_abs',\n",
       " 'AHP_depth_abs_slow',\n",
       " 'AHP_depth_diff',\n",
       " 'AHP_depth_from_peak',\n",
       " 'AHP_slow_time',\n",
       " 'AHP_time_from_peak',\n",
       " 'AP1_amp',\n",
       " 'AP1_begin_voltage',\n",
       " 'AP1_begin_width',\n",
       " 'AP1_peak',\n",
       " 'AP1_width',\n",
       " 'AP2_AP1_begin_width_diff',\n",
       " 'AP2_AP1_diff',\n",
       " 'AP2_AP1_peak_diff',\n",
       " 'AP2_amp',\n",
       " 'AP2_begin_voltage',\n",
       " 'AP2_begin_width',\n",
       " 'AP2_peak',\n",
       " 'AP2_width',\n",
       " 'AP_amplitude',\n",
       " 'AP_amplitude_change',\n",
       " 'AP_amplitude_diff',\n",
       " 'AP_amplitude_from_voltagebase',\n",
       " 'AP_begin_indices',\n",
       " 'AP_begin_time',\n",
       " 'AP_begin_voltage',\n",
       " 'AP_begin_width',\n",
       " 'AP_duration',\n",
       " 'AP_duration_change',\n",
       " 'AP_duration_half_width',\n",
       " 'AP_duration_half_width_change',\n",
       " 'AP_end_indices',\n",
       " 'AP_fall_indices',\n",
       " 'AP_fall_rate',\n",
       " 'AP_fall_rate_change',\n",
       " 'AP_fall_time',\n",
       " 'AP_height',\n",
       " 'AP_phaseslope',\n",
       " 'AP_phaseslope_AIS',\n",
       " 'AP_rise_indices',\n",
       " 'AP_rise_rate',\n",
       " 'AP_rise_rate_change',\n",
       " 'AP_rise_time',\n",
       " 'AP_width',\n",
       " 'APlast_amp',\n",
       " 'APlast_width',\n",
       " 'BAC_maximum_voltage',\n",
       " 'BAC_width',\n",
       " 'BPAPAmplitudeLoc1',\n",
       " 'BPAPAmplitudeLoc2',\n",
       " 'BPAPHeightLoc1',\n",
       " 'BPAPHeightLoc2',\n",
       " 'BPAPatt2',\n",
       " 'BPAPatt3',\n",
       " 'E10',\n",
       " 'E11',\n",
       " 'E12',\n",
       " 'E13',\n",
       " 'E14',\n",
       " 'E15',\n",
       " 'E16',\n",
       " 'E17',\n",
       " 'E18',\n",
       " 'E19',\n",
       " 'E2',\n",
       " 'E20',\n",
       " 'E21',\n",
       " 'E22',\n",
       " 'E23',\n",
       " 'E24',\n",
       " 'E25',\n",
       " 'E26',\n",
       " 'E27',\n",
       " 'E3',\n",
       " 'E39',\n",
       " 'E39_cod',\n",
       " 'E4',\n",
       " 'E40',\n",
       " 'E5',\n",
       " 'E6',\n",
       " 'E7',\n",
       " 'E8',\n",
       " 'E9',\n",
       " 'ISI_CV',\n",
       " 'ISI_log_slope',\n",
       " 'ISI_log_slope_skip',\n",
       " 'ISI_semilog_slope',\n",
       " 'ISI_values',\n",
       " 'Spikecount',\n",
       " 'Spikecount_stimint',\n",
       " 'adaptation_index',\n",
       " 'adaptation_index2',\n",
       " 'all_ISI_values',\n",
       " 'amp_drop_first_last',\n",
       " 'amp_drop_first_second',\n",
       " 'amp_drop_second_last',\n",
       " 'burst_ISI_indices',\n",
       " 'burst_mean_freq',\n",
       " 'burst_number',\n",
       " 'check_AISInitiation',\n",
       " 'decay_time_constant_after_stim',\n",
       " 'depolarized_base',\n",
       " 'doublet_ISI',\n",
       " 'fast_AHP',\n",
       " 'fast_AHP_change',\n",
       " 'interburst_voltage',\n",
       " 'inv_fifth_ISI',\n",
       " 'inv_first_ISI',\n",
       " 'inv_fourth_ISI',\n",
       " 'inv_last_ISI',\n",
       " 'inv_second_ISI',\n",
       " 'inv_third_ISI',\n",
       " 'inv_time_to_first_spike',\n",
       " 'irregularity_index',\n",
       " 'is_not_stuck',\n",
       " 'max_amp_difference',\n",
       " 'maximum_voltage',\n",
       " 'maximum_voltage_from_voltagebase',\n",
       " 'mean_AP_amplitude',\n",
       " 'mean_frequency',\n",
       " 'min_AHP_indices',\n",
       " 'min_AHP_values',\n",
       " 'min_voltage_between_spikes',\n",
       " 'minimum_voltage',\n",
       " 'number_initial_spikes',\n",
       " 'ohmic_input_resistance',\n",
       " 'ohmic_input_resistance_vb_ssse',\n",
       " 'peak_indices',\n",
       " 'peak_time',\n",
       " 'peak_voltage',\n",
       " 'sag_amplitude',\n",
       " 'sag_ratio1',\n",
       " 'sag_ratio2',\n",
       " 'single_burst_ratio',\n",
       " 'spike_half_width',\n",
       " 'spike_width2',\n",
       " 'steady_state_hyper',\n",
       " 'steady_state_voltage',\n",
       " 'steady_state_voltage_stimend',\n",
       " 'time',\n",
       " 'time_constant',\n",
       " 'time_to_first_spike',\n",
       " 'time_to_last_spike',\n",
       " 'time_to_second_spike',\n",
       " 'trace_check',\n",
       " 'voltage',\n",
       " 'voltage_after_stim',\n",
       " 'voltage_base',\n",
       " 'voltage_deflection',\n",
       " 'voltage_deflection_begin',\n",
       " 'voltage_deflection_vb_ssse',\n",
       " 'voltage',\n",
       " 'time',\n",
       " 'ISIs',\n",
       " 'initburst_sahp',\n",
       " 'initburst_sahp_vb',\n",
       " 'initburst_sahp_ssse',\n",
       " 'depol_block']"
      ]
     },
     "execution_count": 20,
     "metadata": {},
     "output_type": "execute_result"
    }
   ],
   "source": [
    "efel.api.getFeatureNames()"
   ]
  },
  {
   "cell_type": "markdown",
   "metadata": {},
   "source": [
    "## Change this into a function"
   ]
  },
  {
   "cell_type": "code",
   "execution_count": 26,
   "metadata": {},
   "outputs": [
    {
     "data": {
      "text/plain": [
       "array([[-63.54211145, -65.52491616, -62.90054542, ..., -81.5252667 ,\n",
       "        -82.30107475, -82.04870895],\n",
       "       [-63.78548155, -64.75587972, -64.60550311, ..., -64.42127691,\n",
       "        -65.13069593, -64.48718384]])"
      ]
     },
     "execution_count": 26,
     "metadata": {},
     "output_type": "execute_result"
    }
   ],
   "source": [
    "traces_times = [[50, 100], [51, 100]]\n",
    "# fl = ['AP_amplitude', 'peak_time', 'peak_voltage', 'AP_begin_time', 'AP_begin_width', \n",
    "#                                                  'AP_begin_voltage', 'mean_frequency']\n",
    "fl = ['mean_AP_amplitude', 'voltage_base', 'mean_frequency']\n",
    "out_traces"
   ]
  },
  {
   "cell_type": "code",
   "execution_count": 27,
   "metadata": {},
   "outputs": [],
   "source": [
    "def calculate_features(traces, inp_times, feat_list):\n",
    "    traces = []\n",
    "    for i, trace in enumerate(out_traces):\n",
    "        time = np.arange(0, len(trace)/10, 0.1)\n",
    "        temp_trace = {}\n",
    "        temp_trace['T'] = time\n",
    "        temp_trace['V'] = trace\n",
    "        temp_trace['stim_start'] = [inp_times[i][0]]\n",
    "        temp_trace['stim_end'] = [inp_times[i][1]]\n",
    "        traces.append(temp_trace)\n",
    "\n",
    "    results = efel.getFeatureValues(traces, feat_list)\n",
    "\n",
    "    return results"
   ]
  },
  {
   "cell_type": "code",
   "execution_count": 28,
   "metadata": {},
   "outputs": [
    {
     "data": {
      "text/plain": [
       "[{'mean_AP_amplitude': array([84.09934389]),\n",
       "  'voltage_base': array([-65.02022173]),\n",
       "  'mean_frequency': array([65.1465798])},\n",
       " {'mean_AP_amplitude': array([85.66269442]),\n",
       "  'voltage_base': array([-64.91993906]),\n",
       "  'mean_frequency': array([58.13953488])}]"
      ]
     },
     "execution_count": 28,
     "metadata": {},
     "output_type": "execute_result"
    }
   ],
   "source": [
    "res = calculate_features(out_traces, traces_times, fl)\n",
    "res"
   ]
  },
  {
   "cell_type": "markdown",
   "metadata": {},
   "source": [
    "## Calculate error"
   ]
  },
  {
   "cell_type": "code",
   "execution_count": 29,
   "metadata": {},
   "outputs": [],
   "source": [
    "ot_opt = out_traces + np.random.randn()"
   ]
  },
  {
   "cell_type": "code",
   "execution_count": 30,
   "metadata": {},
   "outputs": [
    {
     "data": {
      "image/png": "[encoded data removed]",
      "text/plain": [
       "<Figure size 432x288 with 1 Axes>"
      ]
     },
     "metadata": {
      "needs_background": "light"
     },
     "output_type": "display_data"
    }
   ],
   "source": [
    "plt.plot(out_traces[0])\n",
    "plt.plot(ot_opt[0]);"
   ]
  },
  {
   "cell_type": "code",
   "execution_count": 31,
   "metadata": {},
   "outputs": [
    {
     "data": {
      "text/plain": [
       "[{'mean_AP_amplitude': array([84.09934389]),\n",
       "  'voltage_base': array([-65.02022173]),\n",
       "  'mean_frequency': array([65.1465798])},\n",
       " {'mean_AP_amplitude': array([85.66269442]),\n",
       "  'voltage_base': array([-64.91993906]),\n",
       "  'mean_frequency': array([58.13953488])}]"
      ]
     },
     "execution_count": 31,
     "metadata": {},
     "output_type": "execute_result"
    }
   ],
   "source": [
    "res = calculate_features(out_traces, traces_times, fl)\n",
    "res"
   ]
  },
  {
   "cell_type": "code",
   "execution_count": 32,
   "metadata": {},
   "outputs": [
    {
     "data": {
      "text/plain": [
       "[{'mean_AP_amplitude': array([84.09934389]),\n",
       "  'voltage_base': array([-65.02022173]),\n",
       "  'mean_frequency': array([65.1465798])},\n",
       " {'mean_AP_amplitude': array([85.66269442]),\n",
       "  'voltage_base': array([-64.91993906]),\n",
       "  'mean_frequency': array([58.13953488])}]"
      ]
     },
     "execution_count": 32,
     "metadata": {},
     "output_type": "execute_result"
    }
   ],
   "source": [
    "res2 = calculate_features(ot_opt, traces_times, fl)\n",
    "res2"
   ]
  },
  {
   "cell_type": "code",
   "execution_count": 33,
   "metadata": {},
   "outputs": [],
   "source": [
    "d1 = res[0]\n",
    "d2 = res2[0]\n",
    "d3 = {key: d1[key] - d2.get(key, 0) for key in d1.keys()}"
   ]
  },
  {
   "cell_type": "code",
   "execution_count": 34,
   "metadata": {},
   "outputs": [
    {
     "data": {
      "text/plain": [
       "{'mean_AP_amplitude': array([0.]),\n",
       " 'voltage_base': array([0.]),\n",
       " 'mean_frequency': array([0.])}"
      ]
     },
     "execution_count": 34,
     "metadata": {},
     "output_type": "execute_result"
    }
   ],
   "source": [
    "d3"
   ]
  },
  {
   "cell_type": "code",
   "execution_count": 35,
   "metadata": {},
   "outputs": [],
   "source": [
    "for k, v in d3.items():\n",
    "    d3[k] = sum(v)\n",
    "    "
   ]
  },
  {
   "cell_type": "code",
   "execution_count": 36,
   "metadata": {},
   "outputs": [
    {
     "data": {
      "text/plain": [
       "{'mean_AP_amplitude': 0.0, 'voltage_base': 0.0, 'mean_frequency': 0.0}"
      ]
     },
     "execution_count": 36,
     "metadata": {},
     "output_type": "execute_result"
    }
   ],
   "source": [
    "d3"
   ]
  },
  {
   "cell_type": "code",
   "execution_count": 37,
   "metadata": {},
   "outputs": [
    {
     "data": {
      "text/plain": [
       "0.0"
      ]
     },
     "execution_count": 37,
     "metadata": {},
     "output_type": "execute_result"
    }
   ],
   "source": [
    "sum(d3.values())"
   ]
  },
  {
   "cell_type": "code",
   "execution_count": 38,
   "metadata": {},
   "outputs": [
    {
     "data": {
      "text/plain": [
       "0.0"
      ]
     },
     "execution_count": 38,
     "metadata": {},
     "output_type": "execute_result"
    }
   ],
   "source": [
    "err = sum(d3.values())\n",
    "err"
   ]
  },
  {
   "cell_type": "markdown",
   "metadata": {},
   "source": [
    "### Change feat to err"
   ]
  },
  {
   "cell_type": "code",
   "execution_count": 39,
   "metadata": {},
   "outputs": [],
   "source": [
    "def feat_to_err(d1, d2):\n",
    "    d3 = {key: d1[key] - d2.get(key, 0) for key in d1.keys()}   \n",
    "    for k, v in d3.items():\n",
    "        d3[k] = sum(v)\n",
    "\n",
    "    err = sum(d3.values())\n",
    "    return err"
   ]
  },
  {
   "cell_type": "code",
   "execution_count": 40,
   "metadata": {},
   "outputs": [
    {
     "data": {
      "text/plain": [
       "0.0"
      ]
     },
     "execution_count": 40,
     "metadata": {},
     "output_type": "execute_result"
    }
   ],
   "source": [
    "feat_to_err(res[0], res2[0])"
   ]
  },
  {
   "cell_type": "code",
   "execution_count": 41,
   "metadata": {},
   "outputs": [
    {
     "data": {
      "text/plain": [
       "0.0"
      ]
     },
     "execution_count": 41,
     "metadata": {},
     "output_type": "execute_result"
    }
   ],
   "source": [
    "feat_to_err(res[1], res2[1])"
   ]
  },
  {
   "cell_type": "code",
   "execution_count": null,
   "metadata": {},
   "outputs": [],
   "source": []
  }
 ],
 "metadata": {
  "kernelspec": {
   "display_name": "brian_opt",
   "language": "python",
   "name": "brian_opt"
  },
  "language_info": {
   "codemirror_mode": {
    "name": "ipython",
    "version": 3
   },
   "file_extension": ".py",
   "mimetype": "text/x-python",
   "name": "python",
   "nbconvert_exporter": "python",
   "pygments_lexer": "ipython3",
   "version": "3.7.3"
  }
 },
 "nbformat": 4,
 "nbformat_minor": 2
}
