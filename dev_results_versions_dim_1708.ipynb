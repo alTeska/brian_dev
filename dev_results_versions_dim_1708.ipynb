{
 "cells": [
  {
   "cell_type": "markdown",
   "metadata": {},
   "source": [
    "# Dev Notebook for results versions"
   ]
  },
  {
   "cell_type": "code",
   "execution_count": 1,
   "metadata": {},
   "outputs": [],
   "source": [
    "from brian2 import *"
   ]
  },
  {
   "cell_type": "code",
   "execution_count": 2,
   "metadata": {},
   "outputs": [],
   "source": [
    "import numpy as np\n",
    "import pandas as pd"
   ]
  },
  {
   "cell_type": "markdown",
   "metadata": {},
   "source": [
    "## example data"
   ]
  },
  {
   "cell_type": "code",
   "execution_count": 3,
   "metadata": {},
   "outputs": [
    {
     "data": {
      "text/plain": [
       "['g_na', 'g_kd', 'gl']"
      ]
     },
     "execution_count": 3,
     "metadata": {},
     "output_type": "execute_result"
    }
   ],
   "source": [
    "names = list({'gl', 'g_na', 'g_kd'})\n",
    "names"
   ]
  },
  {
   "cell_type": "code",
   "execution_count": 4,
   "metadata": {},
   "outputs": [
    {
     "data": {
      "text/plain": [
       "list"
      ]
     },
     "execution_count": 4,
     "metadata": {},
     "output_type": "execute_result"
    }
   ],
   "source": [
    "type(names)"
   ]
  },
  {
   "cell_type": "code",
   "execution_count": 5,
   "metadata": {},
   "outputs": [
    {
     "data": {
      "text/plain": [
       "['g_na', 'g_kd', 'gl', 'errors']"
      ]
     },
     "execution_count": 5,
     "metadata": {},
     "output_type": "execute_result"
    }
   ],
   "source": [
    "names.append('errors')\n",
    "names"
   ]
  },
  {
   "cell_type": "code",
   "execution_count": 6,
   "metadata": {},
   "outputs": [],
   "source": [
    "params = [[[6.495285915534006e-05, 0.00030033486708542156, 4.967446676938807e-08], [0.0001331132400694808, 0.00018547890224340113, 1.4860562441875465e-07], [7.199182091336732e-05, 0.00021491256309465835, 1.1198642036996548e-07], [8.923883770663632e-05, 0.00022752133942582876, 7.664424677757521e-08], [0.000123213178985125, 0.0003056879448531054, 1.5616656874380151e-07]], [[0.00011893999263132052, 0.00016377579251686613, 7.62522242482823e-08], [0.00010048677683973367, 0.0003260040956373385, 1.4433294453012082e-07], [5.303782965547715e-05, 0.0001602806339592511, 6.648470240615252e-08], [0.0001269484657797785, 0.0001901034727514455, 1.639848387448191e-07], [0.0001561851135265635, 0.00010512042426624969, 1.593454062525051e-07]]]"
   ]
  },
  {
   "cell_type": "code",
   "execution_count": 7,
   "metadata": {},
   "outputs": [
    {
     "data": {
      "text/plain": [
       "[[[6.495285915534006e-05, 0.00030033486708542156, 4.967446676938807e-08],\n",
       "  [0.0001331132400694808, 0.00018547890224340113, 1.4860562441875465e-07],\n",
       "  [7.199182091336732e-05, 0.00021491256309465835, 1.1198642036996548e-07],\n",
       "  [8.923883770663632e-05, 0.00022752133942582876, 7.664424677757521e-08],\n",
       "  [0.000123213178985125, 0.0003056879448531054, 1.5616656874380151e-07]],\n",
       " [[0.00011893999263132052, 0.00016377579251686613, 7.62522242482823e-08],\n",
       "  [0.00010048677683973367, 0.0003260040956373385, 1.4433294453012082e-07],\n",
       "  [5.303782965547715e-05, 0.0001602806339592511, 6.648470240615252e-08],\n",
       "  [0.0001269484657797785, 0.0001901034727514455, 1.639848387448191e-07],\n",
       "  [0.0001561851135265635, 0.00010512042426624969, 1.593454062525051e-07]]]"
      ]
     },
     "execution_count": 7,
     "metadata": {},
     "output_type": "execute_result"
    }
   ],
   "source": [
    "params"
   ]
  },
  {
   "cell_type": "code",
   "execution_count": 8,
   "metadata": {},
   "outputs": [
    {
     "data": {
      "text/plain": [
       "array([[[6.49528592e-05, 3.00334867e-04, 4.96744668e-08],\n",
       "        [1.33113240e-04, 1.85478902e-04, 1.48605624e-07],\n",
       "        [7.19918209e-05, 2.14912563e-04, 1.11986420e-07],\n",
       "        [8.92388377e-05, 2.27521339e-04, 7.66442468e-08],\n",
       "        [1.23213179e-04, 3.05687945e-04, 1.56166569e-07]],\n",
       "\n",
       "       [[1.18939993e-04, 1.63775793e-04, 7.62522242e-08],\n",
       "        [1.00486777e-04, 3.26004096e-04, 1.44332945e-07],\n",
       "        [5.30378297e-05, 1.60280634e-04, 6.64847024e-08],\n",
       "        [1.26948466e-04, 1.90103473e-04, 1.63984839e-07],\n",
       "        [1.56185114e-04, 1.05120424e-04, 1.59345406e-07]]])"
      ]
     },
     "execution_count": 8,
     "metadata": {},
     "output_type": "execute_result"
    }
   ],
   "source": [
    "params = np.array(params)\n",
    "params"
   ]
  },
  {
   "cell_type": "code",
   "execution_count": 9,
   "metadata": {},
   "outputs": [
    {
     "data": {
      "text/plain": [
       "(2, 5, 3)"
      ]
     },
     "execution_count": 9,
     "metadata": {},
     "output_type": "execute_result"
    }
   ],
   "source": [
    "np.shape(params)"
   ]
  },
  {
   "cell_type": "code",
   "execution_count": 10,
   "metadata": {},
   "outputs": [
    {
     "data": {
      "text/plain": [
       "array([[6.49528592e-05, 3.00334867e-04, 4.96744668e-08],\n",
       "       [1.33113240e-04, 1.85478902e-04, 1.48605624e-07],\n",
       "       [7.19918209e-05, 2.14912563e-04, 1.11986420e-07],\n",
       "       [8.92388377e-05, 2.27521339e-04, 7.66442468e-08],\n",
       "       [1.23213179e-04, 3.05687945e-04, 1.56166569e-07],\n",
       "       [1.18939993e-04, 1.63775793e-04, 7.62522242e-08],\n",
       "       [1.00486777e-04, 3.26004096e-04, 1.44332945e-07],\n",
       "       [5.30378297e-05, 1.60280634e-04, 6.64847024e-08],\n",
       "       [1.26948466e-04, 1.90103473e-04, 1.63984839e-07],\n",
       "       [1.56185114e-04, 1.05120424e-04, 1.59345406e-07]])"
      ]
     },
     "execution_count": 10,
     "metadata": {},
     "output_type": "execute_result"
    }
   ],
   "source": [
    "params = params.reshape(-1, params.shape[-1])\n",
    "params"
   ]
  },
  {
   "cell_type": "code",
   "execution_count": 11,
   "metadata": {},
   "outputs": [
    {
     "name": "stdout",
     "output_type": "stream",
     "text": [
      "Object `np.flatten` not found.\n"
     ]
    }
   ],
   "source": [
    "np.flatten?"
   ]
  },
  {
   "cell_type": "code",
   "execution_count": 12,
   "metadata": {},
   "outputs": [],
   "source": [
    "errors =  [array([0.85911275, 0.39971795, 0.39727095, 0.26695162, 0.74139398]), array([0.27571116, 0.80124115, 0.38545814, 0.4795095 , 0.68183738])]"
   ]
  },
  {
   "cell_type": "code",
   "execution_count": 13,
   "metadata": {},
   "outputs": [],
   "source": [
    "errors = np.array(errors)"
   ]
  },
  {
   "cell_type": "code",
   "execution_count": 14,
   "metadata": {},
   "outputs": [
    {
     "data": {
      "text/plain": [
       "array([[0.85911275, 0.39971795, 0.39727095, 0.26695162, 0.74139398,\n",
       "        0.27571116, 0.80124115, 0.38545814, 0.4795095 , 0.68183738]])"
      ]
     },
     "execution_count": 14,
     "metadata": {},
     "output_type": "execute_result"
    }
   ],
   "source": [
    "errors = np.array([errors.flatten()])\n",
    "errors"
   ]
  },
  {
   "cell_type": "code",
   "execution_count": 15,
   "metadata": {},
   "outputs": [
    {
     "data": {
      "text/plain": [
       "(10, 3)"
      ]
     },
     "execution_count": 15,
     "metadata": {},
     "output_type": "execute_result"
    }
   ],
   "source": [
    "np.shape(params)"
   ]
  },
  {
   "cell_type": "code",
   "execution_count": 16,
   "metadata": {},
   "outputs": [
    {
     "data": {
      "text/plain": [
       "(1, 10)"
      ]
     },
     "execution_count": 16,
     "metadata": {},
     "output_type": "execute_result"
    }
   ],
   "source": [
    "np.shape(errors)"
   ]
  },
  {
   "cell_type": "markdown",
   "metadata": {},
   "source": [
    "## DataFrame option"
   ]
  },
  {
   "cell_type": "code",
   "execution_count": 17,
   "metadata": {},
   "outputs": [
    {
     "data": {
      "text/plain": [
       "array([[6.49528592e-05, 3.00334867e-04, 4.96744668e-08, 8.59112750e-01],\n",
       "       [1.33113240e-04, 1.85478902e-04, 1.48605624e-07, 3.99717950e-01],\n",
       "       [7.19918209e-05, 2.14912563e-04, 1.11986420e-07, 3.97270950e-01],\n",
       "       [8.92388377e-05, 2.27521339e-04, 7.66442468e-08, 2.66951620e-01],\n",
       "       [1.23213179e-04, 3.05687945e-04, 1.56166569e-07, 7.41393980e-01],\n",
       "       [1.18939993e-04, 1.63775793e-04, 7.62522242e-08, 2.75711160e-01],\n",
       "       [1.00486777e-04, 3.26004096e-04, 1.44332945e-07, 8.01241150e-01],\n",
       "       [5.30378297e-05, 1.60280634e-04, 6.64847024e-08, 3.85458140e-01],\n",
       "       [1.26948466e-04, 1.90103473e-04, 1.63984839e-07, 4.79509500e-01],\n",
       "       [1.56185114e-04, 1.05120424e-04, 1.59345406e-07, 6.81837380e-01]])"
      ]
     },
     "execution_count": 17,
     "metadata": {},
     "output_type": "execute_result"
    }
   ],
   "source": [
    "data = np.concatenate((params, errors.transpose()), axis=1)\n",
    "data"
   ]
  },
  {
   "cell_type": "code",
   "execution_count": 18,
   "metadata": {},
   "outputs": [
    {
     "data": {
      "text/html": [
       "<div>\n",
       "<style scoped>\n",
       "    .dataframe tbody tr th:only-of-type {\n",
       "        vertical-align: middle;\n",
       "    }\n",
       "\n",
       "    .dataframe tbody tr th {\n",
       "        vertical-align: top;\n",
       "    }\n",
       "\n",
       "    .dataframe thead th {\n",
       "        text-align: right;\n",
       "    }\n",
       "</style>\n",
       "<table border=\"1\" class=\"dataframe\">\n",
       "  <thead>\n",
       "    <tr style=\"text-align: right;\">\n",
       "      <th></th>\n",
       "      <th>g_na</th>\n",
       "      <th>g_kd</th>\n",
       "      <th>gl</th>\n",
       "      <th>errors</th>\n",
       "    </tr>\n",
       "  </thead>\n",
       "  <tbody>\n",
       "    <tr>\n",
       "      <th>0</th>\n",
       "      <td>0.000065</td>\n",
       "      <td>0.000300</td>\n",
       "      <td>4.967447e-08</td>\n",
       "      <td>0.859113</td>\n",
       "    </tr>\n",
       "    <tr>\n",
       "      <th>1</th>\n",
       "      <td>0.000133</td>\n",
       "      <td>0.000185</td>\n",
       "      <td>1.486056e-07</td>\n",
       "      <td>0.399718</td>\n",
       "    </tr>\n",
       "    <tr>\n",
       "      <th>2</th>\n",
       "      <td>0.000072</td>\n",
       "      <td>0.000215</td>\n",
       "      <td>1.119864e-07</td>\n",
       "      <td>0.397271</td>\n",
       "    </tr>\n",
       "    <tr>\n",
       "      <th>3</th>\n",
       "      <td>0.000089</td>\n",
       "      <td>0.000228</td>\n",
       "      <td>7.664425e-08</td>\n",
       "      <td>0.266952</td>\n",
       "    </tr>\n",
       "    <tr>\n",
       "      <th>4</th>\n",
       "      <td>0.000123</td>\n",
       "      <td>0.000306</td>\n",
       "      <td>1.561666e-07</td>\n",
       "      <td>0.741394</td>\n",
       "    </tr>\n",
       "    <tr>\n",
       "      <th>5</th>\n",
       "      <td>0.000119</td>\n",
       "      <td>0.000164</td>\n",
       "      <td>7.625222e-08</td>\n",
       "      <td>0.275711</td>\n",
       "    </tr>\n",
       "    <tr>\n",
       "      <th>6</th>\n",
       "      <td>0.000100</td>\n",
       "      <td>0.000326</td>\n",
       "      <td>1.443329e-07</td>\n",
       "      <td>0.801241</td>\n",
       "    </tr>\n",
       "    <tr>\n",
       "      <th>7</th>\n",
       "      <td>0.000053</td>\n",
       "      <td>0.000160</td>\n",
       "      <td>6.648470e-08</td>\n",
       "      <td>0.385458</td>\n",
       "    </tr>\n",
       "    <tr>\n",
       "      <th>8</th>\n",
       "      <td>0.000127</td>\n",
       "      <td>0.000190</td>\n",
       "      <td>1.639848e-07</td>\n",
       "      <td>0.479509</td>\n",
       "    </tr>\n",
       "    <tr>\n",
       "      <th>9</th>\n",
       "      <td>0.000156</td>\n",
       "      <td>0.000105</td>\n",
       "      <td>1.593454e-07</td>\n",
       "      <td>0.681837</td>\n",
       "    </tr>\n",
       "  </tbody>\n",
       "</table>\n",
       "</div>"
      ],
      "text/plain": [
       "       g_na      g_kd            gl    errors\n",
       "0  0.000065  0.000300  4.967447e-08  0.859113\n",
       "1  0.000133  0.000185  1.486056e-07  0.399718\n",
       "2  0.000072  0.000215  1.119864e-07  0.397271\n",
       "3  0.000089  0.000228  7.664425e-08  0.266952\n",
       "4  0.000123  0.000306  1.561666e-07  0.741394\n",
       "5  0.000119  0.000164  7.625222e-08  0.275711\n",
       "6  0.000100  0.000326  1.443329e-07  0.801241\n",
       "7  0.000053  0.000160  6.648470e-08  0.385458\n",
       "8  0.000127  0.000190  1.639848e-07  0.479509\n",
       "9  0.000156  0.000105  1.593454e-07  0.681837"
      ]
     },
     "execution_count": 18,
     "metadata": {},
     "output_type": "execute_result"
    }
   ],
   "source": [
    "pd.DataFrame(data=data, columns=names)"
   ]
  },
  {
   "cell_type": "markdown",
   "metadata": {},
   "source": [
    "## Dict of list"
   ]
  },
  {
   "cell_type": "code",
   "execution_count": 19,
   "metadata": {},
   "outputs": [
    {
     "data": {
      "text/plain": [
       "array([[0.85911275, 0.39971795, 0.39727095, 0.26695162, 0.74139398,\n",
       "        0.27571116, 0.80124115, 0.38545814, 0.4795095 , 0.68183738]])"
      ]
     },
     "execution_count": 19,
     "metadata": {},
     "output_type": "execute_result"
    }
   ],
   "source": [
    "errors"
   ]
  },
  {
   "cell_type": "code",
   "execution_count": 20,
   "metadata": {},
   "outputs": [
    {
     "data": {
      "text/plain": [
       "array([[6.49528592e-05, 3.00334867e-04, 4.96744668e-08],\n",
       "       [1.33113240e-04, 1.85478902e-04, 1.48605624e-07],\n",
       "       [7.19918209e-05, 2.14912563e-04, 1.11986420e-07],\n",
       "       [8.92388377e-05, 2.27521339e-04, 7.66442468e-08],\n",
       "       [1.23213179e-04, 3.05687945e-04, 1.56166569e-07],\n",
       "       [1.18939993e-04, 1.63775793e-04, 7.62522242e-08],\n",
       "       [1.00486777e-04, 3.26004096e-04, 1.44332945e-07],\n",
       "       [5.30378297e-05, 1.60280634e-04, 6.64847024e-08],\n",
       "       [1.26948466e-04, 1.90103473e-04, 1.63984839e-07],\n",
       "       [1.56185114e-04, 1.05120424e-04, 1.59345406e-07]])"
      ]
     },
     "execution_count": 20,
     "metadata": {},
     "output_type": "execute_result"
    }
   ],
   "source": [
    "params"
   ]
  },
  {
   "cell_type": "code",
   "execution_count": 21,
   "metadata": {},
   "outputs": [
    {
     "data": {
      "text/plain": [
       "array([6.49528592e-05, 1.33113240e-04, 7.19918209e-05, 8.92388377e-05,\n",
       "       1.23213179e-04, 1.18939993e-04, 1.00486777e-04, 5.30378297e-05,\n",
       "       1.26948466e-04, 1.56185114e-04])"
      ]
     },
     "execution_count": 21,
     "metadata": {},
     "output_type": "execute_result"
    }
   ],
   "source": [
    "params[:, 0]"
   ]
  },
  {
   "cell_type": "code",
   "execution_count": 22,
   "metadata": {},
   "outputs": [],
   "source": [
    "arr = params"
   ]
  },
  {
   "cell_type": "code",
   "execution_count": 23,
   "metadata": {},
   "outputs": [],
   "source": [
    "res_dict = dict()"
   ]
  },
  {
   "cell_type": "code",
   "execution_count": 24,
   "metadata": {},
   "outputs": [],
   "source": [
    "for i, n in enumerate(names):\n",
    "    res_dict[n] = data[:, i]"
   ]
  },
  {
   "cell_type": "code",
   "execution_count": 25,
   "metadata": {},
   "outputs": [
    {
     "data": {
      "text/plain": [
       "{'g_na': array([6.49528592e-05, 1.33113240e-04, 7.19918209e-05, 8.92388377e-05,\n",
       "        1.23213179e-04, 1.18939993e-04, 1.00486777e-04, 5.30378297e-05,\n",
       "        1.26948466e-04, 1.56185114e-04]),\n",
       " 'g_kd': array([0.00030033, 0.00018548, 0.00021491, 0.00022752, 0.00030569,\n",
       "        0.00016378, 0.000326  , 0.00016028, 0.0001901 , 0.00010512]),\n",
       " 'gl': array([4.96744668e-08, 1.48605624e-07, 1.11986420e-07, 7.66442468e-08,\n",
       "        1.56166569e-07, 7.62522242e-08, 1.44332945e-07, 6.64847024e-08,\n",
       "        1.63984839e-07, 1.59345406e-07]),\n",
       " 'errors': array([0.85911275, 0.39971795, 0.39727095, 0.26695162, 0.74139398,\n",
       "        0.27571116, 0.80124115, 0.38545814, 0.4795095 , 0.68183738])}"
      ]
     },
     "execution_count": 25,
     "metadata": {},
     "output_type": "execute_result"
    }
   ],
   "source": [
    "res_dict"
   ]
  },
  {
   "cell_type": "markdown",
   "metadata": {},
   "source": [
    "## List of Dict"
   ]
  },
  {
   "cell_type": "code",
   "execution_count": 26,
   "metadata": {},
   "outputs": [
    {
     "data": {
      "text/plain": [
       "10"
      ]
     },
     "execution_count": 26,
     "metadata": {},
     "output_type": "execute_result"
    }
   ],
   "source": [
    "len(params)"
   ]
  },
  {
   "cell_type": "code",
   "execution_count": 27,
   "metadata": {},
   "outputs": [],
   "source": [
    "res_list = []\n",
    "\n",
    "for j in np.arange(0,len(params)):\n",
    "    temp_data = data[j]\n",
    "    res_dict = dict()\n",
    "\n",
    "    for i, n in enumerate(names):\n",
    "        res_dict[n] = temp_data[i]\n",
    "    \n",
    "    res_list.append(res_dict)"
   ]
  },
  {
   "cell_type": "code",
   "execution_count": 28,
   "metadata": {},
   "outputs": [
    {
     "data": {
      "text/plain": [
       "[{'g_na': 6.495285915534006e-05,\n",
       "  'g_kd': 0.00030033486708542156,\n",
       "  'gl': 4.967446676938807e-08,\n",
       "  'errors': 0.85911275},\n",
       " {'g_na': 0.0001331132400694808,\n",
       "  'g_kd': 0.00018547890224340113,\n",
       "  'gl': 1.4860562441875465e-07,\n",
       "  'errors': 0.39971795},\n",
       " {'g_na': 7.199182091336732e-05,\n",
       "  'g_kd': 0.00021491256309465835,\n",
       "  'gl': 1.1198642036996548e-07,\n",
       "  'errors': 0.39727095},\n",
       " {'g_na': 8.923883770663632e-05,\n",
       "  'g_kd': 0.00022752133942582876,\n",
       "  'gl': 7.664424677757521e-08,\n",
       "  'errors': 0.26695162},\n",
       " {'g_na': 0.000123213178985125,\n",
       "  'g_kd': 0.0003056879448531054,\n",
       "  'gl': 1.5616656874380151e-07,\n",
       "  'errors': 0.74139398},\n",
       " {'g_na': 0.00011893999263132052,\n",
       "  'g_kd': 0.00016377579251686613,\n",
       "  'gl': 7.62522242482823e-08,\n",
       "  'errors': 0.27571116},\n",
       " {'g_na': 0.00010048677683973367,\n",
       "  'g_kd': 0.0003260040956373385,\n",
       "  'gl': 1.4433294453012082e-07,\n",
       "  'errors': 0.80124115},\n",
       " {'g_na': 5.303782965547715e-05,\n",
       "  'g_kd': 0.0001602806339592511,\n",
       "  'gl': 6.648470240615252e-08,\n",
       "  'errors': 0.38545814},\n",
       " {'g_na': 0.0001269484657797785,\n",
       "  'g_kd': 0.0001901034727514455,\n",
       "  'gl': 1.639848387448191e-07,\n",
       "  'errors': 0.4795095},\n",
       " {'g_na': 0.0001561851135265635,\n",
       "  'g_kd': 0.00010512042426624969,\n",
       "  'gl': 1.593454062525051e-07,\n",
       "  'errors': 0.68183738}]"
      ]
     },
     "execution_count": 28,
     "metadata": {},
     "output_type": "execute_result"
    }
   ],
   "source": [
    "res_list"
   ]
  },
  {
   "cell_type": "code",
   "execution_count": 29,
   "metadata": {},
   "outputs": [
    {
     "data": {
      "text/plain": [
       "(10,)"
      ]
     },
     "execution_count": 29,
     "metadata": {},
     "output_type": "execute_result"
    }
   ],
   "source": [
    "np.shape(res_list)"
   ]
  },
  {
   "cell_type": "markdown",
   "metadata": {},
   "source": [
    "### short things down"
   ]
  },
  {
   "cell_type": "code",
   "execution_count": 30,
   "metadata": {},
   "outputs": [],
   "source": [
    "params = [[[6.495285915534006e-05, 0.00030033486708542156, 4.967446676938807e-08], [0.0001331132400694808, 0.00018547890224340113, 1.4860562441875465e-07], [7.199182091336732e-05, 0.00021491256309465835, 1.1198642036996548e-07], [8.923883770663632e-05, 0.00022752133942582876, 7.664424677757521e-08], [0.000123213178985125, 0.0003056879448531054, 1.5616656874380151e-07]], [[0.00011893999263132052, 0.00016377579251686613, 7.62522242482823e-08], [0.00010048677683973367, 0.0003260040956373385, 1.4433294453012082e-07], [5.303782965547715e-05, 0.0001602806339592511, 6.648470240615252e-08], [0.0001269484657797785, 0.0001901034727514455, 1.639848387448191e-07], [0.0001561851135265635, 0.00010512042426624969, 1.593454062525051e-07]]]"
   ]
  },
  {
   "cell_type": "code",
   "execution_count": 31,
   "metadata": {},
   "outputs": [],
   "source": [
    "params = array(params)\n",
    "params = params.reshape(-1, params.shape[-1])\n"
   ]
  },
  {
   "cell_type": "code",
   "execution_count": 32,
   "metadata": {},
   "outputs": [],
   "source": [
    "names = list({'gl', 'g_na', 'g_kd'}).append('errors')\n",
    "names"
   ]
  },
  {
   "cell_type": "code",
   "execution_count": 33,
   "metadata": {},
   "outputs": [
    {
     "ename": "NameError",
     "evalue": "name 'self' is not defined",
     "output_type": "error",
     "traceback": [
      "\u001b[0;31m---------------------------------------------------------------------------\u001b[0m",
      "\u001b[0;31mNameError\u001b[0m                                 Traceback (most recent call last)",
      "\u001b[0;32m<ipython-input-33-4a45fcffad31>\u001b[0m in \u001b[0;36m<module>\u001b[0;34m\u001b[0m\n\u001b[0;32m----> 1\u001b[0;31m \u001b[0mnames\u001b[0m \u001b[0;34m=\u001b[0m \u001b[0mlist\u001b[0m\u001b[0;34m(\u001b[0m\u001b[0mself\u001b[0m\u001b[0;34m.\u001b[0m\u001b[0mparameter_names\u001b[0m\u001b[0;34m)\u001b[0m\u001b[0;34m\u001b[0m\u001b[0;34m\u001b[0m\u001b[0m\n\u001b[0m\u001b[1;32m      2\u001b[0m \u001b[0mnames\u001b[0m\u001b[0;34m.\u001b[0m\u001b[0mappend\u001b[0m\u001b[0;34m(\u001b[0m\u001b[0;34m'errors'\u001b[0m\u001b[0;34m)\u001b[0m\u001b[0;34m\u001b[0m\u001b[0;34m\u001b[0m\u001b[0m\n",
      "\u001b[0;31mNameError\u001b[0m: name 'self' is not defined"
     ]
    }
   ],
   "source": [
    "names = list(self.parameter_names)\n",
    "names.append('errors')"
   ]
  },
  {
   "cell_type": "code",
   "execution_count": 34,
   "metadata": {},
   "outputs": [
    {
     "data": {
      "text/plain": [
       "[array([0.85911275, 0.39971795, 0.39727095, 0.26695162, 0.74139398]),\n",
       " array([0.27571116, 0.80124115, 0.38545814, 0.4795095 , 0.68183738])]"
      ]
     },
     "execution_count": 34,
     "metadata": {},
     "output_type": "execute_result"
    }
   ],
   "source": [
    "errors =  [array([0.85911275, 0.39971795, 0.39727095, 0.26695162, 0.74139398]), array([0.27571116, 0.80124115, 0.38545814, 0.4795095 , 0.68183738])]\n",
    "errors"
   ]
  },
  {
   "cell_type": "code",
   "execution_count": 35,
   "metadata": {},
   "outputs": [
    {
     "data": {
      "text/plain": [
       "array([[0.85911275, 0.39971795, 0.39727095, 0.26695162, 0.74139398,\n",
       "        0.27571116, 0.80124115, 0.38545814, 0.4795095 , 0.68183738]])"
      ]
     },
     "execution_count": 35,
     "metadata": {},
     "output_type": "execute_result"
    }
   ],
   "source": [
    "errors = array([array(errors).flatten()])\n",
    "errors"
   ]
  },
  {
   "cell_type": "code",
   "execution_count": 40,
   "metadata": {},
   "outputs": [],
   "source": [
    "from brian2 import *"
   ]
  },
  {
   "cell_type": "code",
   "execution_count": 41,
   "metadata": {},
   "outputs": [],
   "source": [
    "area = 20000*umetre**2\n",
    "Cm = 1*ufarad*cm**-2 * area\n",
    "El = -65*mV\n",
    "EK = -90*mV\n",
    "ENa = 50*mV\n",
    "VT = -63*mV\n",
    "\n",
    "dt = 0.01*ms"
   ]
  },
  {
   "cell_type": "code",
   "execution_count": 42,
   "metadata": {},
   "outputs": [],
   "source": [
    "# Model for modelfitting\n",
    "eqs = Equations(\n",
    "'''\n",
    "dv/dt = (gl*(El-v) - g_na*(m*m*m)*h*(v-ENa) - g_kd*(n*n*n*n)*(v-EK) + I)/Cm : volt\n",
    "dm/dt = 0.32*(mV**-1)*(13.*mV-v+VT)/\n",
    "    (exp((13.*mV-v+VT)/(4.*mV))-1.)/ms*(1-m)-0.28*(mV**-1)*(v-VT-40.*mV)/\n",
    "    (exp((v-VT-40.*mV)/(5.*mV))-1.)/ms*m : 1\n",
    "dn/dt = 0.032*(mV**-1)*(15.*mV-v+VT)/\n",
    "    (exp((15.*mV-v+VT)/(5.*mV))-1.)/ms*(1.-n)-.5*exp((10.*mV-v+VT)/(40.*mV))/ms*n : 1\n",
    "dh/dt = 0.128*exp((17.*mV-v+VT)/(18.*mV))/ms*(1.-h)-4./(1+exp((40.*mV-v+VT)/(5.*mV)))/ms*h : 1\n",
    "g_na : siemens (constant)\n",
    "g_kd : siemens (constant)\n",
    "gl   : siemens (constant)\n",
    "''',\n",
    "Cm=1*ufarad*cm**-2 * area, El=-65*mV, EK=-90*mV, ENa=50*mV, VT=-63*mV)"
   ]
  },
  {
   "cell_type": "code",
   "execution_count": 47,
   "metadata": {},
   "outputs": [
    {
     "data": {
      "text/plain": [
       "<property at 0x7fda80b2ba98>"
      ]
     },
     "execution_count": 47,
     "metadata": {},
     "output_type": "execute_result"
    }
   ],
   "source": [
    "Equations.dimensions"
   ]
  },
  {
   "cell_type": "code",
   "execution_count": 50,
   "metadata": {},
   "outputs": [],
   "source": [
    "from brian2 import Quantity"
   ]
  },
  {
   "cell_type": "code",
   "execution_count": 51,
   "metadata": {},
   "outputs": [
    {
     "data": {
      "text/plain": [
       "\u001b[0;31mInit signature:\u001b[0m \u001b[0mQuantity\u001b[0m\u001b[0;34m(\u001b[0m\u001b[0marr\u001b[0m\u001b[0;34m,\u001b[0m \u001b[0mdim\u001b[0m\u001b[0;34m=\u001b[0m\u001b[0;32mNone\u001b[0m\u001b[0;34m,\u001b[0m \u001b[0mdtype\u001b[0m\u001b[0;34m=\u001b[0m\u001b[0;32mNone\u001b[0m\u001b[0;34m,\u001b[0m \u001b[0mcopy\u001b[0m\u001b[0;34m=\u001b[0m\u001b[0;32mFalse\u001b[0m\u001b[0;34m,\u001b[0m \u001b[0mforce_quantity\u001b[0m\u001b[0;34m=\u001b[0m\u001b[0;32mFalse\u001b[0m\u001b[0;34m)\u001b[0m\u001b[0;34m\u001b[0m\u001b[0;34m\u001b[0m\u001b[0m\n",
       "\u001b[0;31mDocstring:\u001b[0m     \n",
       "A number with an associated physical dimension. In most cases, it is not\n",
       "necessary to create a Quantity object by hand, instead use multiplication\n",
       "and division of numbers with the constant unit names ``second``,\n",
       "``kilogram``, etc.\n",
       "\n",
       "Notes\n",
       "-----\n",
       "The `Quantity` class defines arithmetic operations which check for\n",
       "consistency of dimensions and raise the DimensionMismatchError exception\n",
       "if they are inconsistent. It also defines default and other representations\n",
       "for a number for printing purposes.\n",
       "\n",
       "See the documentation on the Unit class for more details\n",
       "about the available unit names like mvolt, etc.\n",
       "\n",
       "*Casting rules*\n",
       "\n",
       "The rules that define the casting operations for\n",
       "Quantity object are:\n",
       "\n",
       "1. Quantity op Quantity = Quantity\n",
       "   Performs dimension checking if appropriate\n",
       "2. (Scalar or Array) op Quantity = Quantity\n",
       "   Assumes that the scalar or array is dimensionless\n",
       "\n",
       "There is one exception to the above rule, the number ``0`` is interpreted\n",
       "as having \"any dimension\".\n",
       "\n",
       "Examples\n",
       "--------\n",
       ">>> from brian2 import *\n",
       ">>> I = 3 * amp # I is a Quantity object\n",
       ">>> R = 2 * ohm # same for R\n",
       ">>> I * R\n",
       "6. * volt\n",
       ">>> (I * R).in_unit(mvolt)\n",
       "'6000. mV'\n",
       ">>> (I * R) / mvolt\n",
       "6000.0\n",
       ">>> X = I + R  # doctest: +IGNORE_EXCEPTION_DETAIL\n",
       "Traceback (most recent call last):\n",
       "    ...\n",
       "DimensionMismatchError: Addition, dimensions were (A) (m^2 kg s^-3 A^-2)\n",
       ">>> Is = np.array([1, 2, 3]) * amp\n",
       ">>> Is * R\n",
       "array([ 2.,  4.,  6.]) * volt\n",
       ">>> np.asarray(Is * R) # gets rid of units\n",
       "array([ 2.,  4.,  6.])\n",
       "\n",
       "See also\n",
       "--------\n",
       "Unit\n",
       "\n",
       "Attributes\n",
       "----------\n",
       "dimensions\n",
       "is_dimensionless\n",
       "dim : Dimensions\n",
       "    The physical dimensions of this quantity.\n",
       "\n",
       "Methods\n",
       "-------\n",
       "with_dimensions\n",
       "has_same_dimensions\n",
       "in_unit\n",
       "in_best_unit\n",
       "\u001b[0;31mFile:\u001b[0m           ~/Desktop/brian/brian2/build/lib.linux-x86_64-3.7/brian2/units/fundamentalunits.py\n",
       "\u001b[0;31mType:\u001b[0m           type\n",
       "\u001b[0;31mSubclasses:\u001b[0m     Unit\n"
      ]
     },
     "metadata": {},
     "output_type": "display_data"
    }
   ],
   "source": [
    "Quantity?"
   ]
  },
  {
   "cell_type": "code",
   "execution_count": null,
   "metadata": {},
   "outputs": [],
   "source": []
  }
 ],
 "metadata": {
  "kernelspec": {
   "display_name": "brian_opt",
   "language": "python",
   "name": "brian_opt"
  },
  "language_info": {
   "codemirror_mode": {
    "name": "ipython",
    "version": 3
   },
   "file_extension": ".py",
   "mimetype": "text/x-python",
   "name": "python",
   "nbconvert_exporter": "python",
   "pygments_lexer": "ipython3",
   "version": "3.7.3"
  }
 },
 "nbformat": 4,
 "nbformat_minor": 2
}
