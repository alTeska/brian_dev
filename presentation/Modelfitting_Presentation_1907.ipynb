{
 "cells": [
  {
   "cell_type": "code",
   "execution_count": 1,
   "metadata": {
    "slideshow": {
     "slide_type": "notes"
    }
   },
   "outputs": [
    {
     "name": "stderr",
     "output_type": "stream",
     "text": [
      "WARNING    /home/alteska/anaconda3/envs/brian_opt/lib/python3.7/site-packages/sklearn/externals/joblib/__init__.py:15: DeprecationWarning: sklearn.externals.joblib is deprecated in 0.21 and will be removed in 0.23. Please import this functionality directly from joblib, which can be installed with: pip install joblib. If this warning is raised when loading pickled models, you may need to re-serialize those models with scikit-learn 0.21+.\n",
      "  warnings.warn(msg, category=DeprecationWarning)\n",
      " [py.warnings]\n"
     ]
    }
   ],
   "source": [
    "from brian2 import *\n",
    "from brian2tools import *\n",
    "\n",
    "import numpy as np\n",
    "import pandas as pd\n",
    "%matplotlib inline"
   ]
  },
  {
   "cell_type": "code",
   "execution_count": 2,
   "metadata": {
    "slideshow": {
     "slide_type": "notes"
    }
   },
   "outputs": [],
   "source": [
    "dt = 0.01 * ms\n",
    "defaultclock.dt = dt\n",
    "\n",
    "# Generate a step-current input and an \"experimental\" voltage trace\n",
    "input_current1 = np.hstack([np.zeros(int(5*ms/dt)), np.ones(int(5*ms/dt))*5, np.zeros(int(5*ms/dt))])* 5 *nA\n",
    "input_current0 = np.hstack([np.zeros(int(5*ms/dt)), np.ones(int(5*ms/dt))*10, np.zeros(int(5*ms/dt))]) * 5 * nA\n",
    "\n",
    "input_current = np.stack((input_current0, input_current1))\n",
    "I = TimedArray(input_current0, dt=dt)\n",
    "\n",
    "EL = -70*mV\n",
    "VT = -50*mV\n",
    "DeltaT = 2*mV\n",
    "\n",
    "eqs = Equations('''\n",
    "    dv/dt = (gL*(EL-v)+gL*DeltaT*exp((v-VT)/DeltaT) + I(t))/C : volt\n",
    "    gL: siemens (constant)\n",
    "    C: farad (constant)\n",
    "    ''')\n",
    "\n",
    "group = NeuronGroup(1, eqs,\n",
    "                    threshold='v > -50*mV',\n",
    "                    reset='v = -70*mV',\n",
    "                    method='exponential_euler')\n",
    "group.v = -70 *mV\n",
    "group.set_states({'gL': [30*nS], 'C':[1*nF]})\n",
    "\n",
    "monitor0 = StateMonitor(group, 'v', record=True)\n",
    "smonitor0  = SpikeMonitor(group)"
   ]
  },
  {
   "cell_type": "code",
   "execution_count": 3,
   "metadata": {
    "slideshow": {
     "slide_type": "notes"
    }
   },
   "outputs": [],
   "source": [
    "run(60*ms)"
   ]
  },
  {
   "cell_type": "code",
   "execution_count": 4,
   "metadata": {
    "slideshow": {
     "slide_type": "notes"
    }
   },
   "outputs": [],
   "source": [
    "voltage0 = monitor0.v[0]/mV\n",
    "out_spikes0 = getattr(smonitor0, 't') / ms\n",
    "\n",
    "start_scope()\n",
    "I = TimedArray(input_current1, dt=dt)\n",
    "group1 = NeuronGroup(1, eqs,\n",
    "                    threshold='v > -50*mV',\n",
    "                    reset='v = -70*mV',\n",
    "                    method='exponential_euler')\n",
    "group1.v = -70 *mV\n",
    "group1.set_states({'gL': [30*nS], 'C':[1*nF]})\n",
    "\n",
    "monitor1 = StateMonitor(group1, 'v', record=True)\n",
    "smonitor1  = SpikeMonitor(group1)"
   ]
  },
  {
   "cell_type": "code",
   "execution_count": 5,
   "metadata": {
    "slideshow": {
     "slide_type": "notes"
    }
   },
   "outputs": [],
   "source": [
    "run(60*ms)"
   ]
  },
  {
   "cell_type": "code",
   "execution_count": 6,
   "metadata": {
    "slideshow": {
     "slide_type": "notes"
    }
   },
   "outputs": [
    {
     "name": "stdout",
     "output_type": "stream",
     "text": [
      "inp_traces [[0. 0. 0. ... 0. 0. 0.]\n",
      " [0. 0. 0. ... 0. 0. 0.]]\n",
      "out_spikes [array([5.39, 5.8 , 6.21, 6.62, 7.03, 7.44, 7.85, 8.26, 8.67, 9.08, 9.49,\n",
      "       9.9 ])\n",
      " array([5.79, 6.6 , 7.41, 8.22, 9.03, 9.84])]\n"
     ]
    }
   ],
   "source": [
    "out_spikes1 = getattr(smonitor1, 't') / ms\n",
    "voltage1 = monitor1.v[0]/mV\n",
    "\n",
    "inp_trace0 = np.array([input_current0])\n",
    "inp_trace1 = np.array([input_current1])\n",
    "\n",
    "inp_traces = np.concatenate((inp_trace0, inp_trace1))\n",
    "out_spikes = np.array([out_spikes0, out_spikes1])\n",
    "print('inp_traces', inp_traces)\n",
    "print('out_spikes', out_spikes)"
   ]
  },
  {
   "cell_type": "code",
   "execution_count": 7,
   "metadata": {
    "slideshow": {
     "slide_type": "notes"
    }
   },
   "outputs": [],
   "source": [
    "df_inp_traces = pd.read_csv('input_traces_hh.csv')\n",
    "df_out_traces = pd.read_csv('output_traces_hh.csv')"
   ]
  },
  {
   "cell_type": "code",
   "execution_count": 8,
   "metadata": {
    "slideshow": {
     "slide_type": "notes"
    }
   },
   "outputs": [
    {
     "data": {
      "text/plain": [
       "array([[-63.54211145, -65.52491616, -62.90054542, ..., -81.5252667 ,\n",
       "        -82.30107475, -82.04870895],\n",
       "       [-63.78548155, -64.75587972, -64.60550311, ..., -64.42127691,\n",
       "        -65.13069593, -64.48718384]])"
      ]
     },
     "execution_count": 8,
     "metadata": {},
     "output_type": "execute_result"
    }
   ],
   "source": [
    "inp_trace = df_inp_traces.to_numpy()\n",
    "inp_trace = inp_trace[:2, 1:]\n",
    "inp_trace\n",
    "\n",
    "out_trace = df_out_traces.to_numpy()\n",
    "out_trace = out_trace[:2, 1:]\n",
    "out_trace"
   ]
  },
  {
   "cell_type": "code",
   "execution_count": 9,
   "metadata": {
    "slideshow": {
     "slide_type": "notes"
    }
   },
   "outputs": [],
   "source": [
    "prefs.codegen.target = 'cython'  # weave is not multiprocess-safe!\n",
    "\n",
    "# Parameters\n",
    "area = 20000*umetre**2\n",
    "Cm = 1*ufarad*cm**-2 * area\n",
    "El = -65*mV\n",
    "EK = -90*mV\n",
    "ENa = 50*mV\n",
    "VT = -63*mV\n",
    "dt = 0.01*ms"
   ]
  },
  {
   "cell_type": "code",
   "execution_count": 10,
   "metadata": {
    "slideshow": {
     "slide_type": "notes"
    }
   },
   "outputs": [],
   "source": [
    "# Model for modelfitting\n",
    "model = Equations(\n",
    "'''\n",
    "dv/dt = (gl*(El-v) - g_na*(m*m*m)*h*(v-ENa) - g_kd*(n*n*n*n)*(v-EK) + I)/Cm : volt\n",
    "dm/dt = 0.32*(mV**-1)*(13.*mV-v+VT)/\n",
    "    (exp((13.*mV-v+VT)/(4.*mV))-1.)/ms*(1-m)-0.28*(mV**-1)*(v-VT-40.*mV)/\n",
    "    (exp((v-VT-40.*mV)/(5.*mV))-1.)/ms*m : 1\n",
    "dn/dt = 0.032*(mV**-1)*(15.*mV-v+VT)/\n",
    "    (exp((15.*mV-v+VT)/(5.*mV))-1.)/ms*(1.-n)-.5*exp((10.*mV-v+VT)/(40.*mV))/ms*n : 1\n",
    "dh/dt = 0.128*exp((17.*mV-v+VT)/(18.*mV))/ms*(1.-h)-4./(1+exp((40.*mV-v+VT)/(5.*mV)))/ms*h : 1\n",
    "g_na : siemens (constant)\n",
    "g_kd : siemens (constant)\n",
    "gl   : siemens (constant)\n",
    "''',\n",
    "Cm=1*ufarad*cm**-2 * area, El=-65*mV, EK=-90*mV, ENa=50*mV, VT=-63*mV)\n",
    "\n",
    "\n",
    "n_opt = NevergradOptimizer()\n",
    "metric = MSEMetric()"
   ]
  },
  {
   "cell_type": "markdown",
   "metadata": {
    "slideshow": {
     "slide_type": "slide"
    }
   },
   "source": [
    "# Model Fitting in Brian 2\n",
    "## Google Summer of Code Project with INCF"
   ]
  },
  {
   "cell_type": "markdown",
   "metadata": {
    "slideshow": {
     "slide_type": "-"
    }
   },
   "source": [
    "<table><tr>\n",
    "<td> <img src=\"./images/brian-logo.png\"  width=\"500\" height=\"500\"/>\n",
    "<td> <img src=\"./images/gsoc-logo.png\"  width=\"500\" height=\"500\"/>\n",
    "<td> <img src=\"./images/incf-logo.png\"  width=\"500\" height=\"500\"/>\n",
    "</tr></table>"
   ]
  },
  {
   "cell_type": "markdown",
   "metadata": {
    "slideshow": {
     "slide_type": "-"
    }
   },
   "source": [
    "### Aleksandra Teska"
   ]
  },
  {
   "cell_type": "markdown",
   "metadata": {
    "slideshow": {
     "slide_type": "slide"
    }
   },
   "source": [
    "# Goal: Create a Brian Model Fitting toolbox that works with traces and spike trains \n",
    "- vectorization and model flexibility from brian\n",
    "- modularity: \n",
    "    * multiple optimization methods (libraries)\n",
    "    * multiple metrics \n",
    "    * custom callback function available\n",
    "- find a good balance between flexible system (user can define whatever they want) and convenience (provide a few standard metrics)               "
   ]
  },
  {
   "cell_type": "markdown",
   "metadata": {
    "slideshow": {
     "slide_type": "-"
    }
   },
   "source": [
    "<img src='./images/fit_traces_example.png'  width=\"1500\" height=\"900\" align=\"center\"/>"
   ]
  },
  {
   "cell_type": "markdown",
   "metadata": {
    "slideshow": {
     "slide_type": "slide"
    }
   },
   "source": [
    "# Model Fitting: "
   ]
  },
  {
   "cell_type": "markdown",
   "metadata": {
    "slideshow": {
     "slide_type": "fragment"
    }
   },
   "source": [
    "## Requires:\n",
    "- an **optimization algorithm**\n",
    "\n",
    "- a **metric**\n",
    "    \n",
    "### makes use of Brian parallelisation and flexibility "
   ]
  },
  {
   "cell_type": "code",
   "execution_count": null,
   "metadata": {
    "slideshow": {
     "slide_type": "subslide"
    }
   },
   "outputs": [],
   "source": [
    "n_opt = NevergradOptimizer()\n",
    "metric = MSEMetric()\n",
    "\n",
    "res, error = fit_traces(model=model, \n",
    "                        input_var='I', \n",
    "                        output_var='v',\n",
    "                        input=inp_trace * amp,\n",
    "                        output=out_trace * mV,\n",
    "                        dt=dt,\n",
    "                        optimizer=n_opt,\n",
    "                        metric=metric,\n",
    "                        n_rounds=1, n_samples=5,\n",
    "                        gl=[1e-8*siemens*cm**-2 * area, 1e-3*siemens*cm**-2 * area],\n",
    "                        g_na=[1*msiemens*cm**-2 * area, 2000*msiemens*cm**-2 * area],\n",
    "                        g_kd=[1*msiemens*cm**-2 * area, 1000*msiemens*cm**-2 * area],\n",
    "                        )"
   ]
  },
  {
   "cell_type": "markdown",
   "metadata": {
    "slideshow": {
     "slide_type": "subslide"
    }
   },
   "source": [
    "```\n",
    "n_opt = SkoptOptimizer()\n",
    "metric = GammaFactor()\n",
    "\n",
    "res, error = fit_spikes(...)\n",
    "```"
   ]
  },
  {
   "cell_type": "markdown",
   "metadata": {
    "slideshow": {
     "slide_type": "fragment"
    }
   },
   "source": [
    "... we want a **modular** implementation that can be easily extended"
   ]
  },
  {
   "cell_type": "markdown",
   "metadata": {
    "slideshow": {
     "slide_type": "slide"
    }
   },
   "source": [
    "# Optimizer"
   ]
  },
  {
   "cell_type": "markdown",
   "metadata": {
    "slideshow": {
     "slide_type": "-"
    }
   },
   "source": [
    "\n",
    "**`n_opt = NevergradOptimizer()`**\n",
    "```\n",
    "metric = MSEMetric()\n",
    "\n",
    "res, error = fit_traces(...)\n",
    "```"
   ]
  },
  {
   "cell_type": "markdown",
   "metadata": {
    "slideshow": {
     "slide_type": "subslide"
    }
   },
   "source": [
    "# Optimizer"
   ]
  },
  {
   "cell_type": "markdown",
   "metadata": {
    "slideshow": {
     "slide_type": "-"
    }
   },
   "source": [
    "- gradient free methods - global methods\n",
    "    * evolutionary algorithms\n",
    "    * genetic algorithms \n",
    "    * bayesian optimization \n",
    "    * ...\n",
    "- gradient based methods - local application"
   ]
  },
  {
   "cell_type": "markdown",
   "metadata": {
    "slideshow": {
     "slide_type": "subslide"
    }
   },
   "source": [
    "## Follows `ask()/tell()` interface"
   ]
  },
  {
   "cell_type": "markdown",
   "metadata": {
    "slideshow": {
     "slide_type": "-"
    }
   },
   "source": [
    "```\n",
    "parameters = optimizer.ask()\n",
    "\n",
    "errors = simulator.run(parameters)\n",
    "\n",
    "optimizer.tell(parameters, errors)\n",
    "\n",
    "results = optimizer.recommend()\n",
    "\n",
    "```"
   ]
  },
  {
   "cell_type": "markdown",
   "metadata": {
    "slideshow": {
     "slide_type": "fragment"
    }
   },
   "source": [
    "### Libraries: Nevergrad, Scikit-Optimize, ..."
   ]
  },
  {
   "cell_type": "markdown",
   "metadata": {
    "slideshow": {
     "slide_type": "subslide"
    }
   },
   "source": [
    "## Nevergrad\n",
    "#### offers an extensive collection of algorithms that do not require gradient computation "
   ]
  },
  {
   "cell_type": "markdown",
   "metadata": {
    "slideshow": {
     "slide_type": "-"
    }
   },
   "source": [
    "\n",
    "<img src='./images/animation_gray_border.gif'  width=\"900\" height=\"900\" align=\"right\"/>\n",
    "\n",
    "#### Method examples:\n",
    "- Differential evolution.\n",
    "- Sequential quadratic programming.\n",
    "- FastGA.\n",
    "- Covariance matrix adaptation.\n",
    "- Particle swarm optimization.\n",
    "- ...\n",
    "\n",
    "#### https://github.com/facebookresearch/nevergrad"
   ]
  },
  {
   "cell_type": "code",
   "execution_count": 12,
   "metadata": {
    "slideshow": {
     "slide_type": "subslide"
    }
   },
   "outputs": [
    {
     "name": "stdout",
     "output_type": "stream",
     "text": [
      "100\n"
     ]
    }
   ],
   "source": [
    "from nevergrad.optimization import registry\n",
    "\n",
    "print(len(registry.keys()))"
   ]
  },
  {
   "cell_type": "code",
   "execution_count": 13,
   "metadata": {
    "slideshow": {
     "slide_type": "fragment"
    }
   },
   "outputs": [
    {
     "name": "stdout",
     "output_type": "stream",
     "text": [
      "['ASCMA2PDEthird', 'ASCMADEQRthird', 'ASCMADEthird', 'AlmostRotationInvariantDE', 'AlmostRotationInvariantDEAndBigPop', 'BO', 'BPRotationInvariantDE', 'CM', 'CMA', 'CMandAS', 'CMandAS2', 'CauchyLHSSearch', 'CauchyOnePlusOne', 'CauchyRandomSearch', 'CauchyScrHammersleySearch', 'Cobyla', 'DE', 'DiagonalCMA', 'DiscreteOnePlusOne', 'DoubleFastGADiscreteOnePlusOne', 'DoubleFastGAOptimisticNoisyDiscreteOnePlusOne', 'EDA', 'FastGADiscreteOnePlusOne', 'FastGANoisyDiscreteOnePlusOne', 'FastGAOptimisticNoisyDiscreteOnePlusOne', 'HaltonSearch', 'HaltonSearchPlusMiddlePoint', 'HammersleySearch', 'HammersleySearchPlusMiddlePoint', 'LBO', 'LHSSearch', 'LargeHaltonSearch', 'LargeHaltonSearchPlusMiddlePoint', 'LargeHammersleySearch', 'LargeHammersleySearchPlusMiddlePoint', 'LargeScrHaltonSearch', 'LargeScrHaltonSearchPlusMiddlePoint', 'LargeScrHammersleySearch', 'LargeScrHammersleySearchPlusMiddlePoint', 'LargerScaleRandomSearchPlusMiddlePoint', 'LhsDE', 'MEDA', 'MPCEDA', 'MicroCMA', 'MidQRBO', 'MilliCMA', 'MiniDE', 'MiniLhsDE', 'MiniQrDE', 'MultiCMA', 'MultiScaleCMA', 'NaiveTBPSA', 'NelderMead', 'NoisyBandit', 'NoisyDE', 'NoisyDiscreteOnePlusOne', 'NoisyOnePlusOne', 'OnePlusOne', 'OnePointDE', 'OptimisticDiscreteOnePlusOne', 'OptimisticNoisyOnePlusOne', 'PCEDA', 'PSO', 'ParaPortfolio', 'ParaSQPCMA', 'Portfolio', 'PortfolioDiscreteOnePlusOne', 'PortfolioNoisyDiscreteOnePlusOne', 'PortfolioOptimisticNoisyDiscreteOnePlusOne', 'Powell', 'QRBO', 'QrDE', 'RBO', 'RCobyla', 'RPowell', 'RSQP', 'RandomScaleRandomSearch', 'RandomScaleRandomSearchPlusMiddlePoint', 'RandomSearch', 'RandomSearchPlusMiddlePoint', 'RecombiningOptimisticNoisyDiscreteOnePlusOne', 'RecombiningPortfolioOptimisticNoisyDiscreteOnePlusOne', 'RescaleScrHammersleySearch', 'RotationInvariantDE', 'SPSA', 'SQP', 'ScrHaltonSearch', 'ScrHaltonSearchPlusMiddlePoint', 'ScrHammersleySearch', 'ScrHammersleySearchPlusMiddlePoint', 'SmallHaltonSearchPlusMiddlePoint', 'SmallHammersleySearchPlusMiddlePoint', 'SmallScaleRandomSearchPlusMiddlePoint', 'SmallScrHaltonSearchPlusMiddlePoint', 'SmallScrHammersleySearchPlusMiddlePoint', 'StupidRandom', 'TBPSA', 'TripleCMA', 'TwoPointsDE', 'Zero']\n"
     ]
    }
   ],
   "source": [
    "print(sorted(registry.keys()))"
   ]
  },
  {
   "cell_type": "markdown",
   "metadata": {
    "slideshow": {
     "slide_type": "subslide"
    }
   },
   "source": [
    "#### Example:\n",
    "- pick method, specify budget.."
   ]
  },
  {
   "cell_type": "code",
   "execution_count": 14,
   "metadata": {
    "slideshow": {
     "slide_type": "fragment"
    }
   },
   "outputs": [
    {
     "data": {
      "text/plain": [
       "<brian2tools.modelfitting.optimizer.NevergradOptimizer at 0x7f4fc54bf470>"
      ]
     },
     "execution_count": 14,
     "metadata": {},
     "output_type": "execute_result"
    }
   ],
   "source": [
    "NevergradOptimizer(method='PSO')"
   ]
  },
  {
   "cell_type": "markdown",
   "metadata": {
    "slideshow": {
     "slide_type": "subslide"
    }
   },
   "source": [
    "## Scikit-Optimize (skopt)"
   ]
  },
  {
   "cell_type": "markdown",
   "metadata": {
    "slideshow": {
     "slide_type": "-"
    }
   },
   "source": [
    "<img src='./images/skopt_example_1to3.png'  width=\"450\" height=\"450\" align=\"right\"/>\n",
    "\n",
    "- bayesian-optimization\n",
    "- library to minimize (very) expensive and noisy black-box functions\n",
    "- implements several methods for sequential model-based \n",
    "  optimization\n",
    "- based no scikit-learn minimize function\n",
    "\n",
    "https://github.com/scikit-optimize\n",
    "\n",
    "PyData talk: \n",
    "https://www.youtube.com/watch?v=DGJTEBt0d-s"
   ]
  },
  {
   "cell_type": "markdown",
   "metadata": {
    "slideshow": {
     "slide_type": "subslide"
    }
   },
   "source": [
    "### Methods:\n",
    "- Gaussian process-based minimization algorithms \"GP\"\n",
    "- Sequential optimization using gradient boosted trees \"GBRT\"\n",
    "- Sequential optimisation using decision trees \"ET\"\n",
    "- Random forest regressor \"RF\"\n",
    "\n",
    "or a custom made sklearn regressor!"
   ]
  },
  {
   "cell_type": "markdown",
   "metadata": {
    "slideshow": {
     "slide_type": "subslide"
    }
   },
   "source": [
    "#### Example:\n",
    "- pick method, number of initial points, aquisition function...\n",
    "- documentation: https://scikit-optimize.github.io/#skopt.Optimizer"
   ]
  },
  {
   "cell_type": "code",
   "execution_count": 15,
   "metadata": {
    "slideshow": {
     "slide_type": "fragment"
    }
   },
   "outputs": [
    {
     "data": {
      "text/plain": [
       "<brian2tools.modelfitting.optimizer.SkoptOptimizer at 0x7f4fc54bf240>"
      ]
     },
     "execution_count": 15,
     "metadata": {},
     "output_type": "execute_result"
    }
   ],
   "source": [
    "SkoptOptimizer(method='GP')"
   ]
  },
  {
   "cell_type": "markdown",
   "metadata": {
    "slideshow": {
     "slide_type": "subslide"
    }
   },
   "source": [
    "## And Other...\n",
    "abstract `class Optimizer` prepared for different back-end libraries!\n",
    "\n",
    "User can plug in different optimization tool, as long as it follows``` ask() / tell``` interface"
   ]
  },
  {
   "cell_type": "markdown",
   "metadata": {
    "slideshow": {
     "slide_type": "slide"
    }
   },
   "source": [
    "# Metric:"
   ]
  },
  {
   "cell_type": "markdown",
   "metadata": {
    "slideshow": {
     "slide_type": "-"
    }
   },
   "source": [
    "\n",
    "`n_opt = NevergradOptimizer()`\n",
    "\n",
    "**`metric = MSEMetric()`**\n",
    "\n",
    "`res, error = fit_traces(...)`"
   ]
  },
  {
   "cell_type": "markdown",
   "metadata": {
    "slideshow": {
     "slide_type": "subslide"
    }
   },
   "source": [
    "## Two implemeneted:"
   ]
  },
  {
   "cell_type": "markdown",
   "metadata": {
    "slideshow": {
     "slide_type": "-"
    }
   },
   "source": [
    "## Mean Square Error \n",
    "$$ MSE ={\\frac {1}{n}}\\sum _{i=1}^{n}(Y_{i}-{\\hat {Y_{i}}})^{2} $$\n"
   ]
  },
  {
   "cell_type": "code",
   "execution_count": 16,
   "metadata": {
    "slideshow": {
     "slide_type": "fragment"
    }
   },
   "outputs": [
    {
     "data": {
      "text/plain": [
       "<brian2tools.modelfitting.metric.MSEMetric at 0x7f4fc54bfc18>"
      ]
     },
     "execution_count": 16,
     "metadata": {},
     "output_type": "execute_result"
    }
   ],
   "source": [
    "MSEMetric()"
   ]
  },
  {
   "cell_type": "markdown",
   "metadata": {
    "slideshow": {
     "slide_type": "subslide"
    }
   },
   "source": [
    "## Two implemeneted:"
   ]
  },
  {
   "cell_type": "markdown",
   "metadata": {
    "slideshow": {
     "slide_type": "-"
    }
   },
   "source": [
    "## Gamma Factor"
   ]
  },
  {
   "cell_type": "markdown",
   "metadata": {
    "slideshow": {
     "slide_type": "-"
    }
   },
   "source": [
    "$$\\Gamma = \\left (\\frac{2}{1-2\\delta r_{exp}}\\right) \\left(\\frac{N_{coinc} - 2\\delta N_{exp}r_{exp}}{N_{exp} + N_{model}}\\right)$$\n",
    "\n",
    "- $ N_{coinc}$ - number of coincidences\n",
    "- $ N_{exp} $ and $ N_{model}$- number of spikes in experimental and model spike trains\n",
    "- $ r_{exp} $ - average firting rate in experimental train \n",
    "- $ 2 \\delta N_{exp}r_{exp}$ - expected number of coincidences with a poission process"
   ]
  },
  {
   "cell_type": "code",
   "execution_count": 17,
   "metadata": {
    "slideshow": {
     "slide_type": "fragment"
    }
   },
   "outputs": [
    {
     "data": {
      "text/plain": [
       "<brian2tools.modelfitting.metric.GammaFactor at 0x7f4fc549cb70>"
      ]
     },
     "execution_count": 17,
     "metadata": {},
     "output_type": "execute_result"
    }
   ],
   "source": [
    "GammaFactor(delta=10*ms, dt=0.1*ms)"
   ]
  },
  {
   "cell_type": "markdown",
   "metadata": {
    "slideshow": {
     "slide_type": "subslide"
    }
   },
   "source": [
    "### Ongoing work:\n",
    "- feature-based metrics (eFEL library)\n",
    "- phase plane histogram\n",
    "- adding weights to features\n",
    "\n",
    "#### abstract `class Metric` prepared for different methods implementations!"
   ]
  },
  {
   "cell_type": "markdown",
   "metadata": {
    "slideshow": {
     "slide_type": "slide"
    }
   },
   "source": [
    "# Brian usage\n",
    "- simulations run in parallel \n",
    "- both **runtime** and **standalone** modes avaliable, called in the same way as in regular brian script"
   ]
  },
  {
   "cell_type": "markdown",
   "metadata": {
    "slideshow": {
     "slide_type": "-"
    }
   },
   "source": [
    "`n_opt = NevergradOptimizer()`\n",
    "\n",
    "`metric = MSEMetric()`\n",
    "\n",
    "**`res, error = fit_traces(...)`**"
   ]
  },
  {
   "cell_type": "markdown",
   "metadata": {
    "slideshow": {
     "slide_type": "subslide"
    }
   },
   "source": [
    "## Additional Features"
   ]
  },
  {
   "cell_type": "markdown",
   "metadata": {
    "slideshow": {
     "slide_type": "-"
    }
   },
   "source": [
    "- callback \n",
    "- param_init\n",
    "- method specification \n",
    "- offline MSE metric"
   ]
  },
  {
   "cell_type": "markdown",
   "metadata": {
    "slideshow": {
     "slide_type": "subslide"
    }
   },
   "source": [
    "### Callback:\n",
    "boolean or function"
   ]
  },
  {
   "cell_type": "markdown",
   "metadata": {
    "slideshow": {
     "slide_type": "-"
    }
   },
   "source": [
    "```callback = True ``` - returns default print out"
   ]
  },
  {
   "cell_type": "code",
   "execution_count": 18,
   "metadata": {
    "slideshow": {
     "slide_type": "-"
    }
   },
   "outputs": [],
   "source": [
    "def callback(res, errors, parameters, index):\n",
    "    print('index {} errors minimum: {}'.format(index, min(errors)) )"
   ]
  },
  {
   "cell_type": "markdown",
   "metadata": {
    "slideshow": {
     "slide_type": "fragment"
    }
   },
   "source": [
    "#### Goal: add tolerance, break loop if necessary"
   ]
  },
  {
   "cell_type": "markdown",
   "metadata": {
    "slideshow": {
     "slide_type": "subslide"
    }
   },
   "source": [
    "### param_init:\n",
    "\n",
    "dictionary with initial values"
   ]
  },
  {
   "cell_type": "code",
   "execution_count": 19,
   "metadata": {
    "slideshow": {
     "slide_type": "-"
    }
   },
   "outputs": [],
   "source": [
    "param_init={'v': -65*mV}"
   ]
  },
  {
   "cell_type": "markdown",
   "metadata": {
    "slideshow": {
     "slide_type": "subslide"
    }
   },
   "source": [
    "### metric:\n",
    "\n",
    "offline MSE calculation"
   ]
  },
  {
   "cell_type": "code",
   "execution_count": 20,
   "metadata": {
    "slideshow": {
     "slide_type": "-"
    }
   },
   "outputs": [],
   "source": [
    "metric = None"
   ]
  },
  {
   "cell_type": "markdown",
   "metadata": {
    "slideshow": {
     "slide_type": "subslide"
    }
   },
   "source": [
    "## Final Version:"
   ]
  },
  {
   "cell_type": "code",
   "execution_count": 21,
   "metadata": {
    "slideshow": {
     "slide_type": "-"
    }
   },
   "outputs": [
    {
     "name": "stdout",
     "output_type": "stream",
     "text": [
      "round 0 with error 0.5177642645556118\n",
      "parameters: {'gl': 1.6184398837575137e-07, 'g_na': 0.00013777381026076581, 'g_kd': 0.0001473221633796907}\n"
     ]
    }
   ],
   "source": [
    "n_opt = NevergradOptimizer()\n",
    "metric = MSEMetric()\n",
    "\n",
    "res, error = fit_traces(model=model, \n",
    "                        input_var='I', \n",
    "                        output_var='v',\n",
    "                        input=inp_trace * amp,\n",
    "                        output=out_trace * mV,\n",
    "                        param_init={'v': -65*mV},\n",
    "                        method='exponential_euler',\n",
    "                        dt=dt,\n",
    "                        optimizer=n_opt,\n",
    "                        metric=metric,\n",
    "                        callback=True,\n",
    "                        n_rounds=1, n_samples=5,\n",
    "                        gl=[1e-8*siemens*cm**-2 * area, 1e-3*siemens*cm**-2 * area],\n",
    "                        g_na=[1*msiemens*cm**-2 * area, 2000*msiemens*cm**-2 * area],\n",
    "                        g_kd=[1*msiemens*cm**-2 * area, 1000*msiemens*cm**-2 * area],\n",
    "                        )"
   ]
  },
  {
   "cell_type": "markdown",
   "metadata": {
    "slideshow": {
     "slide_type": "slide"
    }
   },
   "source": [
    "# Model Fitting examples:"
   ]
  },
  {
   "cell_type": "markdown",
   "metadata": {
    "slideshow": {
     "slide_type": "-"
    }
   },
   "source": [
    "## `fit_spikes()`"
   ]
  },
  {
   "cell_type": "markdown",
   "metadata": {
    "slideshow": {
     "slide_type": "fragment"
    }
   },
   "source": [
    "#### Load the Data"
   ]
  },
  {
   "cell_type": "code",
   "execution_count": null,
   "metadata": {
    "slideshow": {
     "slide_type": "-"
    }
   },
   "outputs": [],
   "source": [
    "inp_traces"
   ]
  },
  {
   "cell_type": "code",
   "execution_count": null,
   "metadata": {
    "slideshow": {
     "slide_type": "-"
    }
   },
   "outputs": [],
   "source": [
    "out_spikes"
   ]
  },
  {
   "cell_type": "markdown",
   "metadata": {
    "slideshow": {
     "slide_type": "subslide"
    }
   },
   "source": [
    "#### Setup The Model"
   ]
  },
  {
   "cell_type": "code",
   "execution_count": 22,
   "metadata": {
    "slideshow": {
     "slide_type": "-"
    }
   },
   "outputs": [],
   "source": [
    "dt = 0.01 * ms\n",
    "defaultclock.dt = dt"
   ]
  },
  {
   "cell_type": "code",
   "execution_count": 23,
   "metadata": {
    "slideshow": {
     "slide_type": "-"
    }
   },
   "outputs": [],
   "source": [
    "start_scope()\n",
    "eqs = Equations('''\n",
    "    dv/dt = (gL*(EL-v)+gL*DeltaT*exp((v-VT)/DeltaT) + I)/C : volt\n",
    "    gL: siemens (constant)\n",
    "    C: farad (constant)\n",
    "    ''',\n",
    "    EL = -70*mV,\n",
    "    VT = -50*mV,\n",
    "    DeltaT = 2*mV,\n",
    "    )   "
   ]
  },
  {
   "cell_type": "markdown",
   "metadata": {
    "slideshow": {
     "slide_type": "subslide"
    }
   },
   "source": [
    "#### Fit traces"
   ]
  },
  {
   "cell_type": "code",
   "execution_count": 24,
   "metadata": {
    "slideshow": {
     "slide_type": "-"
    }
   },
   "outputs": [
    {
     "name": "stdout",
     "output_type": "stream",
     "text": [
      "round 0 with error 0.6405547226386806\n",
      "parameters: {'C': 1.0217051440037875e-09, 'gL': 3.495337650532226e-08}\n",
      "round 1 with error 0.6469265367316341\n",
      "parameters: {'C': 1.0217051440037875e-09, 'gL': 3.495337650532226e-08}\n"
     ]
    }
   ],
   "source": [
    "n_opt = NevergradOptimizer('DE')\n",
    "metric = GammaFactor(dt, 60*ms)\n",
    "\n",
    "\n",
    "res, error = fit_spikes(model=eqs, input_var='I', dt=dt,\n",
    "                        input=inp_traces * amp, output=out_spikes,\n",
    "                        n_rounds=2, n_samples=30, optimizer=n_opt,\n",
    "                        metric=metric,\n",
    "                        threshold='v > -50*mV',\n",
    "                        reset='v = -70*mV',\n",
    "                        method='exponential_euler',\n",
    "                        param_init={'v': -70*mV},\n",
    "                        gL=[20*nS, 40*nS],\n",
    "                        C = [0.5*nF, 1.5*nF])"
   ]
  },
  {
   "cell_type": "markdown",
   "metadata": {
    "slideshow": {
     "slide_type": "subslide"
    }
   },
   "source": [
    "#### Visualize the results"
   ]
  },
  {
   "cell_type": "code",
   "execution_count": 25,
   "metadata": {
    "slideshow": {
     "slide_type": "-"
    }
   },
   "outputs": [
    {
     "name": "stdout",
     "output_type": "stream",
     "text": [
      "fits [[-70.         -69.99999997 -69.99999994 ... -54.75428674 -54.75943804\n",
      "  -54.76458774]\n",
      " [-70.         -69.99999997 -69.99999994 ... -69.79351905 -69.79358964\n",
      "  -69.79366021]] mV\n"
     ]
    }
   ],
   "source": [
    "start_scope()\n",
    "fits = generate_fits(model=eqs,\n",
    "                     params=res,\n",
    "                     input=inp_traces * amp,\n",
    "                     input_var='I',\n",
    "                     output_var='v',\n",
    "                     dt=dt,\n",
    "                     threshold='v > -50*mV',\n",
    "                     reset='v = -70*mV',\n",
    "                     method='exponential_euler',\n",
    "                     param_init={'v': -70*mV})\n",
    "\n",
    "\n",
    "print('fits', fits)"
   ]
  },
  {
   "cell_type": "code",
   "execution_count": 26,
   "metadata": {
    "slideshow": {
     "slide_type": "subslide"
    }
   },
   "outputs": [
    {
     "name": "stdout",
     "output_type": "stream",
     "text": [
      "goal [[-70.         -69.99999997 -69.99999995 ... -66.98700554 -66.98790918\n",
      "  -66.98881255]\n",
      " [-70.         -69.99999997 -69.99999995 ... -67.20473715 -67.20557549\n",
      "  -67.20641358]] mV\n"
     ]
    }
   ],
   "source": [
    "start_scope()\n",
    "goal = generate_fits(model=eqs,\n",
    "                     params={'gL': [30*nS], 'C':[1*nF]},\n",
    "                     input=inp_traces * amp,\n",
    "                     input_var='I',\n",
    "                     output_var='v',\n",
    "                     dt=dt,\n",
    "                     threshold='v > -50*mV',\n",
    "                     reset='v = -70*mV',\n",
    "                     method='exponential_euler',\n",
    "                     param_init={'v': -70*mV})\n",
    "\n",
    "\n",
    "print('goal', goal)"
   ]
  },
  {
   "cell_type": "code",
   "execution_count": 27,
   "metadata": {
    "slideshow": {
     "slide_type": "subslide"
    }
   },
   "outputs": [
    {
     "data": {
      "image/png": "[encoded data removed]",
      "text/plain": [
       "<Figure size 1080x720 with 2 Axes>"
      ]
     },
     "metadata": {
      "needs_background": "light"
     },
     "output_type": "display_data"
    }
   ],
   "source": [
    "fig, ax = plt.subplots(nrows=2, figsize=(15,10))\n",
    "ax[0].plot(goal[0]/mV, label='goal');\n",
    "ax[0].plot(fits[0]/mV, label='fit');\n",
    "ax[1].plot(goal[1]/mV, label='goal');\n",
    "ax[1].plot(fits[1]/mV, label='fit');\n",
    "ax[0].legend()\n",
    "ax[1].legend()\n",
    "plt.show()"
   ]
  },
  {
   "cell_type": "markdown",
   "metadata": {
    "slideshow": {
     "slide_type": "subslide"
    }
   },
   "source": [
    "## `fit_traces()`"
   ]
  },
  {
   "cell_type": "markdown",
   "metadata": {
    "slideshow": {
     "slide_type": "fragment"
    }
   },
   "source": [
    "#### Load the Data"
   ]
  },
  {
   "cell_type": "code",
   "execution_count": 28,
   "metadata": {
    "slideshow": {
     "slide_type": "-"
    }
   },
   "outputs": [],
   "source": [
    "df_inp_traces = pd.read_csv('input_traces_hh.csv')\n",
    "df_out_traces = pd.read_csv('output_traces_hh.csv')"
   ]
  },
  {
   "cell_type": "code",
   "execution_count": 31,
   "metadata": {
    "slideshow": {
     "slide_type": "fragment"
    }
   },
   "outputs": [
    {
     "data": {
      "text/plain": [
       "array([[0.e+00, 0.e+00, 0.e+00, ..., 0.e+00, 0.e+00, 0.e+00],\n",
       "       [0.e+00, 0.e+00, 0.e+00, ..., 0.e+00, 0.e+00, 0.e+00],\n",
       "       [2.e-09, 2.e-09, 2.e-09, ..., 0.e+00, 0.e+00, 0.e+00],\n",
       "       [0.e+00, 0.e+00, 0.e+00, ..., 0.e+00, 0.e+00, 0.e+00]])"
      ]
     },
     "execution_count": 31,
     "metadata": {},
     "output_type": "execute_result"
    }
   ],
   "source": [
    "inp_traces = df_inp_traces.to_numpy()\n",
    "inp_traces = inp_traces[:4, 1:]\n",
    "inp_traces"
   ]
  },
  {
   "cell_type": "code",
   "execution_count": 32,
   "metadata": {
    "slideshow": {
     "slide_type": "fragment"
    }
   },
   "outputs": [
    {
     "data": {
      "text/plain": [
       "array([[-63.54211145, -65.52491616, -62.90054542, ..., -81.5252667 ,\n",
       "        -82.30107475, -82.04870895],\n",
       "       [-63.78548155, -64.75587972, -64.60550311, ..., -64.42127691,\n",
       "        -65.13069593, -64.48718384],\n",
       "       [-62.92648395, -65.82540807, -64.76394825, ..., -64.9418292 ,\n",
       "        -63.8704734 , -63.17105741],\n",
       "       [-64.51645049, -66.84945425, -64.64260378, ..., -80.91299455,\n",
       "        -79.08977935, -82.01562544]])"
      ]
     },
     "execution_count": 32,
     "metadata": {},
     "output_type": "execute_result"
    }
   ],
   "source": [
    "out_traces = df_out_traces.to_numpy()\n",
    "out_traces = out_traces[:4, 1:]\n",
    "out_traces"
   ]
  },
  {
   "cell_type": "markdown",
   "metadata": {
    "slideshow": {
     "slide_type": "subslide"
    }
   },
   "source": [
    "#### Setup Model"
   ]
  },
  {
   "cell_type": "code",
   "execution_count": 33,
   "metadata": {
    "slideshow": {
     "slide_type": "-"
    }
   },
   "outputs": [],
   "source": [
    "dt = 0.01 * ms\n",
    "defaultclock.dt = dt"
   ]
  },
  {
   "cell_type": "code",
   "execution_count": 34,
   "metadata": {
    "slideshow": {
     "slide_type": "fragment"
    }
   },
   "outputs": [],
   "source": [
    "# Model for modelfitting\n",
    "model = Equations(\n",
    "'''\n",
    "dv/dt = (gl*(El-v) - g_na*(m*m*m)*h*(v-ENa) - g_kd*(n*n*n*n)*(v-EK) + I)/Cm : volt\n",
    "dm/dt = 0.32*(mV**-1)*(13.*mV-v+VT)/\n",
    "    (exp((13.*mV-v+VT)/(4.*mV))-1.)/ms*(1-m)-0.28*(mV**-1)*(v-VT-40.*mV)/\n",
    "    (exp((v-VT-40.*mV)/(5.*mV))-1.)/ms*m : 1\n",
    "dn/dt = 0.032*(mV**-1)*(15.*mV-v+VT)/\n",
    "    (exp((15.*mV-v+VT)/(5.*mV))-1.)/ms*(1.-n)-.5*exp((10.*mV-v+VT)/(40.*mV))/ms*n : 1\n",
    "dh/dt = 0.128*exp((17.*mV-v+VT)/(18.*mV))/ms*(1.-h)-4./(1+exp((40.*mV-v+VT)/(5.*mV)))/ms*h : 1\n",
    "g_na : siemens (constant)\n",
    "g_kd : siemens (constant)\n",
    "gl   : siemens (constant)\n",
    "Cm   : farad (constant)\n",
    "''',\n",
    "El=-65*mV, EK=-90*mV, ENa=50*mV, VT=-63*mV)"
   ]
  },
  {
   "cell_type": "markdown",
   "metadata": {
    "slideshow": {
     "slide_type": "subslide"
    }
   },
   "source": [
    "#### Fit Traces"
   ]
  },
  {
   "cell_type": "code",
   "execution_count": 43,
   "metadata": {
    "slideshow": {
     "slide_type": "-"
    }
   },
   "outputs": [
    {
     "name": "stdout",
     "output_type": "stream",
     "text": [
      "round 0 with error 0.9694217553044234\n",
      "parameters: {'Cm': 1.6802975095465769e-10, 'gl': 7.733496028018276e-08, 'g_na': 4.81683304478279e-05, 'g_kd': 2.2484011408500206e-05}\n",
      "round 1 with error 1.0056425972732221\n",
      "parameters: {'Cm': 1.6802975095465769e-10, 'gl': 7.733496028018276e-08, 'g_na': 4.81683304478279e-05, 'g_kd': 2.2484011408500206e-05}\n",
      "round 2 with error 0.8807109966610456\n",
      "parameters: {'Cm': 1.859802555868057e-10, 'gl': 8.491945013161906e-08, 'g_na': 6.109434516774363e-05, 'g_kd': 1.8328052996450556e-05}\n",
      "round 3 with error 0.8991968604286982\n",
      "parameters: {'Cm': 1.859802555868057e-10, 'gl': 8.491945013161906e-08, 'g_na': 6.109434516774363e-05, 'g_kd': 1.8328052996450556e-05}\n",
      "round 4 with error 0.9406601552284516\n",
      "parameters: {'Cm': 1.859802555868057e-10, 'gl': 8.491945013161906e-08, 'g_na': 6.109434516774363e-05, 'g_kd': 1.8328052996450556e-05}\n",
      "round 5 with error 0.8697509905942264\n",
      "parameters: {'Cm': 1.859802555868057e-10, 'gl': 9.455893068545518e-08, 'g_na': 6.109434516774363e-05, 'g_kd': 2.0362876523850632e-05}\n",
      "round 6 with error 0.8738190005562398\n",
      "parameters: {'Cm': 1.859802555868057e-10, 'gl': 9.455893068545518e-08, 'g_na': 6.109434516774363e-05, 'g_kd': 2.0362876523850632e-05}\n",
      "round 7 with error 0.856943995116112\n",
      "parameters: {'Cm': 1.909474432588743e-10, 'gl': 9.262066863596905e-08, 'g_na': 4.397208440389429e-05, 'g_kd': 1.703674983965143e-05}\n",
      "round 8 with error 0.8580014284142762\n",
      "parameters: {'Cm': 1.909474432588743e-10, 'gl': 9.262066863596905e-08, 'g_na': 4.397208440389429e-05, 'g_kd': 1.703674983965143e-05}\n",
      "round 9 with error 0.8634783858696622\n",
      "parameters: {'Cm': 1.909474432588743e-10, 'gl': 9.262066863596905e-08, 'g_na': 4.397208440389429e-05, 'g_kd': 1.703674983965143e-05}\n",
      "round 10 with error 0.857823965147972\n",
      "parameters: {'Cm': 1.909474432588743e-10, 'gl': 9.262066863596905e-08, 'g_na': 4.397208440389429e-05, 'g_kd': 1.703674983965143e-05}\n",
      "round 11 with error 0.8580721615794067\n",
      "parameters: {'Cm': 1.909474432588743e-10, 'gl': 9.262066863596905e-08, 'g_na': 4.397208440389429e-05, 'g_kd': 1.703674983965143e-05}\n",
      "round 12 with error 0.8598389158477476\n",
      "parameters: {'Cm': 1.909474432588743e-10, 'gl': 9.262066863596905e-08, 'g_na': 4.397208440389429e-05, 'g_kd': 1.703674983965143e-05}\n",
      "round 13 with error 0.8634235127682075\n",
      "parameters: {'Cm': 1.909474432588743e-10, 'gl': 9.262066863596905e-08, 'g_na': 4.397208440389429e-05, 'g_kd': 1.703674983965143e-05}\n",
      "round 14 with error 0.8606252891402676\n",
      "parameters: {'Cm': 1.909474432588743e-10, 'gl': 9.262066863596905e-08, 'g_na': 4.397208440389429e-05, 'g_kd': 1.703674983965143e-05}\n",
      "round 15 with error 0.8576251624995678\n",
      "parameters: {'Cm': 1.909474432588743e-10, 'gl': 9.262066863596905e-08, 'g_na': 4.397208440389429e-05, 'g_kd': 1.703674983965143e-05}\n",
      "round 16 with error 0.8580832027762688\n",
      "parameters: {'Cm': 1.909474432588743e-10, 'gl': 9.262066863596905e-08, 'g_na': 4.397208440389429e-05, 'g_kd': 1.703674983965143e-05}\n",
      "round 17 with error 0.859284977114425\n",
      "parameters: {'Cm': 1.909474432588743e-10, 'gl': 9.262066863596905e-08, 'g_na': 4.397208440389429e-05, 'g_kd': 1.703674983965143e-05}\n",
      "round 18 with error 0.8604450068837971\n",
      "parameters: {'Cm': 1.909474432588743e-10, 'gl': 9.262066863596905e-08, 'g_na': 4.397208440389429e-05, 'g_kd': 1.703674983965143e-05}\n",
      "round 19 with error 0.8576728977375102\n",
      "parameters: {'Cm': 1.909474432588743e-10, 'gl': 9.262066863596905e-08, 'g_na': 4.397208440389429e-05, 'g_kd': 1.703674983965143e-05}\n"
     ]
    }
   ],
   "source": [
    "start_scope()\n",
    "n_opt = NevergradOptimizer(method='DE')\n",
    "metric = MSEMetric()\n",
    "\n",
    "res, error = fit_traces(model=model, input_var='I', output_var='v',\n",
    "                        input=inp_traces * amp, output=out_traces*mV, dt=dt,\n",
    "                        method='exponential_euler',\n",
    "                        n_rounds=10, n_samples=30,\n",
    "                        optimizer=n_opt, \n",
    "                        metric=metric,\n",
    "                        callback=True,\n",
    "                        Cm=[0.1*ufarad*cm**-2 * area, 2*ufarad*cm**-2 * area],\n",
    "                        gl = [1e-09 *siemens, 1e-07 *siemens],\n",
    "                        g_na = [2e-06*siemens, 2e-04*siemens],\n",
    "                        g_kd = [6e-07*siemens, 6e-05*siemens],\n",
    "                        )"
   ]
  },
  {
   "cell_type": "markdown",
   "metadata": {
    "slideshow": {
     "slide_type": "subslide"
    }
   },
   "source": [
    "#### Visualize the results"
   ]
  },
  {
   "cell_type": "code",
   "execution_count": 44,
   "metadata": {
    "slideshow": {
     "slide_type": "-"
    }
   },
   "outputs": [
    {
     "data": {
      "text/plain": [
       "array([[-65.        , -65.        , -65.        , ..., -69.25271133,\n",
       "        -69.23212387, -69.21163579],\n",
       "       [-65.        , -65.        , -65.        , ..., -64.58597865,\n",
       "        -64.58770115, -64.58941552],\n",
       "       [-65.        , -64.89551275, -64.7915311 , ..., -64.44633342,\n",
       "        -64.44870843, -64.45107228],\n",
       "       [-65.        , -65.        , -65.        , ..., -67.96599919,\n",
       "        -67.95161678, -67.93730363]])"
      ]
     },
     "execution_count": 44,
     "metadata": {},
     "output_type": "execute_result"
    }
   ],
   "source": [
    "start_scope()\n",
    "fits = generate_fits(model=model, method='exponential_euler', params=res,\n",
    "                     input=inp_traces * amp, input_var='I', output_var='v',\n",
    "                     dt=dt, param_init={'v': -65*mV})\n",
    "\n",
    "fits/mV"
   ]
  },
  {
   "cell_type": "code",
   "execution_count": 45,
   "metadata": {
    "slideshow": {
     "slide_type": "subslide"
    }
   },
   "outputs": [
    {
     "data": {
      "image/png": "[encoded data removed]",
      "text/plain": [
       "<Figure size 1440x1440 with 4 Axes>"
      ]
     },
     "metadata": {
      "needs_background": "light"
     },
     "output_type": "display_data"
    }
   ],
   "source": [
    "fig, ax = plt.subplots(nrows=2, ncols=2, figsize=(20, 20))\n",
    "ax[0][0].plot(np.arange(len(out_traces[0]))*dt/ms, out_traces[0], label='goal');\n",
    "ax[0][0].plot(np.arange(len(fits[0]))*dt/ms, fits[0]/mV, label='fit');\n",
    "ax[0][1].plot(np.arange(len(out_traces[1]))*dt/ms, out_traces[1], label='goal');\n",
    "ax[0][1].plot(np.arange(len(fits[1]))*dt/ms, fits[1]/mV, label='fit');\n",
    "ax[1][0].plot(np.arange(len(out_traces[2]))*dt/ms, out_traces[2], label='goal');\n",
    "ax[1][0].plot(np.arange(len(fits[2]))*dt/ms, fits[2]/mV, label='fit');\n",
    "ax[1][1].plot(np.arange(len(out_traces[3]))*dt/ms, out_traces[3], label='goal');\n",
    "ax[1][1].plot(np.arange(len(fits[3]))*dt/ms, fits[3]/mV, label='fit');\n",
    "ax[0][0].legend(); ax[0][1].legend(); ax[1][0].legend(); ax[1][1].legend();"
   ]
  },
  {
   "cell_type": "markdown",
   "metadata": {
    "slideshow": {
     "slide_type": "slide"
    }
   },
   "source": [
    "# Ongoing work:"
   ]
  },
  {
   "cell_type": "markdown",
   "metadata": {
    "slideshow": {
     "slide_type": "-"
    }
   },
   "source": [
    "### Real Data Examples:\n",
    "- 4 cells provided by Romain to be investigated\n"
   ]
  },
  {
   "cell_type": "markdown",
   "metadata": {
    "slideshow": {
     "slide_type": "subslide"
    }
   },
   "source": [
    "# Ongoing work:"
   ]
  },
  {
   "cell_type": "markdown",
   "metadata": {
    "slideshow": {
     "slide_type": "-"
    }
   },
   "source": [
    "### Local gradient calculation \n",
    "\n",
    "- method with use of local sensitivity\n",
    "\n",
    "- already tested on simple problems\n",
    "- can be used as a `polish = True` option: find exact minimum after global search - *hybird methods*"
   ]
  },
  {
   "cell_type": "markdown",
   "metadata": {
    "slideshow": {
     "slide_type": "subslide"
    }
   },
   "source": [
    "# Ongoing work:"
   ]
  },
  {
   "cell_type": "markdown",
   "metadata": {
    "slideshow": {
     "slide_type": "-"
    }
   },
   "source": [
    "## Other:\n",
    "- documentation and debugging\n",
    "- different callback functions\n",
    "- different metrics"
   ]
  },
  {
   "cell_type": "markdown",
   "metadata": {
    "slideshow": {
     "slide_type": "slide"
    }
   },
   "source": [
    "# Thank you for your attention!"
   ]
  }
 ],
 "metadata": {
  "celltoolbar": "Slideshow",
  "kernelspec": {
   "display_name": "brian_opt",
   "language": "python",
   "name": "brian_opt"
  },
  "language_info": {
   "codemirror_mode": {
    "name": "ipython",
    "version": 3
   },
   "file_extension": ".py",
   "mimetype": "text/x-python",
   "name": "python",
   "nbconvert_exporter": "python",
   "pygments_lexer": "ipython3",
   "version": "3.7.3"
  }
 },
 "nbformat": 4,
 "nbformat_minor": 2
}
