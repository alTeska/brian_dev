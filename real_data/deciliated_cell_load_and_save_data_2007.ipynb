{
 "cells": [
  {
   "cell_type": "code",
   "execution_count": 1,
   "metadata": {},
   "outputs": [
    {
     "name": "stderr",
     "output_type": "stream",
     "text": [
      "/home/alteska/anaconda3/envs/brian_opt/lib/python3.7/site-packages/clampy-0.1-py3.7.egg/clampy/devices/__init__.py:11: UserWarning: Failed to import the Axoclamp 900A module\n",
      "  warn('Failed to import the Axoclamp 900A module')\n"
     ]
    }
   ],
   "source": [
    "from __future__ import print_function\n",
    "from pylab import *\n",
    "from clampy.analysis.electrode_compensation import *\n",
    "from clampy import *\n",
    "from scipy import optimize\n",
    "from clampy.setup.units import *\n",
    "from clampy.analysis.cell_analysis import *\n",
    "import numpy as np\n",
    "from clampy.analysis.spike_analysis import lowpass"
   ]
  },
  {
   "cell_type": "code",
   "execution_count": 2,
   "metadata": {},
   "outputs": [],
   "source": [
    "import os"
   ]
  },
  {
   "cell_type": "code",
   "execution_count": 3,
   "metadata": {},
   "outputs": [
    {
     "data": {
      "text/plain": [
       "'/home/alteska/Desktop/brian/brian_dev/real_data'"
      ]
     },
     "execution_count": 3,
     "metadata": {},
     "output_type": "execute_result"
    }
   ],
   "source": [
    "cwd=os.getcwd()\n",
    "cwd"
   ]
  },
  {
   "cell_type": "code",
   "execution_count": 4,
   "metadata": {},
   "outputs": [],
   "source": [
    "path=cwd + '/'\n",
    "full=True\n",
    "filtering=1*ms"
   ]
  },
  {
   "cell_type": "code",
   "execution_count": 5,
   "metadata": {},
   "outputs": [
    {
     "name": "stdout",
     "output_type": "stream",
     "text": [
      "Analysis\n"
     ]
    }
   ],
   "source": [
    "print('Analysis')\n",
    "cmap = cm.bwr\n",
    "\n",
    "# *** Loading ***\n",
    "# Parameters\n",
    "info = load_info(path+'current_pulses.info')\n",
    "dt, ntrials, long_kernel_size = info['dt'], info['ntrials'], info['kernel_size']\n",
    "pulse_start, pulse_duration = info['pulse_start'], info['pulse_duration']"
   ]
  },
  {
   "cell_type": "code",
   "execution_count": 6,
   "metadata": {},
   "outputs": [],
   "source": [
    "# Load AEC calibration\n",
    "signals = np.load(path+'/AEC.npz')\n",
    "V1_noise, V2_noise = signals['V1'], signals['V2']\n",
    "try: # Test if it is a two_electrode experiment (inject through Ic2, read on V1) or not\n",
    "    I_noise = signals['Ic']\n",
    "except KeyError:\n",
    "    I_noise = signals['Ic2']"
   ]
  },
  {
   "cell_type": "code",
   "execution_count": 7,
   "metadata": {},
   "outputs": [],
   "source": [
    "# Kernel calculation\n",
    "kernel_size = int(5 * ms / dt)\n",
    "ekernel_size = int(.5 * ms / dt)\n",
    "# Determine injecting electrode\n",
    "K1 = full_kernel(V1_noise / volt, I_noise / amp, kernel_size)\n",
    "K2 = full_kernel(V2_noise / volt, I_noise / amp, kernel_size)\n",
    "R1, R2 = sum(K1), sum(K2)\n",
    "if R1>R2:\n",
    "    injecting_electrode = 'V1'\n",
    "    recording_electrode = 'V2'\n",
    "    K = K1\n",
    "else:\n",
    "    injecting_electrode = 'V2'\n",
    "    recording_electrode = 'V1'\n",
    "    K = K2\n",
    "    V1_noise, V2_noise = V2_noise, V1_noise\n",
    "    R1, R2 = R2, R1\n",
    "if R2>5e6: # if more than 5 MOhm, then we assume there actually is an electrode\n",
    "    two_electrodes = True\n",
    "else:\n",
    "    two_electrodes = False"
   ]
  },
  {
   "cell_type": "code",
   "execution_count": 8,
   "metadata": {},
   "outputs": [
    {
     "data": {
      "text/plain": [
       "False"
      ]
     },
     "execution_count": 8,
     "metadata": {},
     "output_type": "execute_result"
    }
   ],
   "source": [
    "two_electrodes"
   ]
  },
  {
   "cell_type": "code",
   "execution_count": 9,
   "metadata": {},
   "outputs": [
    {
     "name": "stdout",
     "output_type": "stream",
     "text": [
      "Electrode resistance =  13.907401133440162 Mohm\n"
     ]
    }
   ],
   "source": [
    "Ke = electrode_kernel_soma(K, ekernel_size) # 15 time steps\n",
    "print(\"Electrode resistance = \",float(sum(Ke)/Mohm),\"Mohm\")\n",
    "\n",
    "# Load pulse experiment\n",
    "amplitudes = loadtxt(path + '/Pulses/amplitudes.txt')\n",
    "V, V2, Ic, Vraw = [], [], [], []\n",
    "for i in range(ntrials):\n",
    "    signals = np.load(path+'/Pulses/pulses{}.npz'.format(i))\n",
    "    if i==0:\n",
    "        t = signals['t']\n",
    "    Vraw.append(signals[injecting_electrode])\n",
    "    V2.append(signals[recording_electrode])\n",
    "    try:\n",
    "        Ic.append(signals['Ic'])\n",
    "    except KeyError:\n",
    "        Ic.append(signals['Ic2'])\n",
    "    V.append(AEC_compensate(Vraw[i], Ic[i], Ke))\n",
    "\n",
    "V, V2, Ic, Vraw = array(V), array(V2), array(Ic), array(Vraw)\n",
    "Imin = min(mean(Ic, axis=1))\n",
    "Imax = max(mean(Ic, axis=1))"
   ]
  },
  {
   "cell_type": "code",
   "execution_count": 10,
   "metadata": {},
   "outputs": [
    {
     "data": {
      "text/plain": [
       "(40, 22400)"
      ]
     },
     "execution_count": 10,
     "metadata": {},
     "output_type": "execute_result"
    }
   ],
   "source": [
    "np.shape(Ic)"
   ]
  },
  {
   "cell_type": "code",
   "execution_count": 11,
   "metadata": {},
   "outputs": [],
   "source": [
    "def get_color(I): # assign a color to a current trace\n",
    "    Imean = mean(I)\n",
    "    if Imean > 0:\n",
    "        x = 0.5 + 0.5 * Imean / Imax\n",
    "    else:\n",
    "        x = 0.5 - 0.5 * Imean / Imin\n",
    "    return cmap(x)"
   ]
  },
  {
   "cell_type": "code",
   "execution_count": 12,
   "metadata": {},
   "outputs": [
    {
     "name": "stdout",
     "output_type": "stream",
     "text": [
      "Membrane time constant = 17.076740385792082 ms or 18.619596600344394 ms (exp. fit)\n",
      "Membrane resistance = 166.00424142806145 Mohm or 142.5594620441128 Mohm (exp. fit)\n",
      "Membrane capacitance = 102.86930164487603 pF or 130.6093354545828 pF (exp. fit)\n",
      "V0 = -18.65574375433671 or -18.65574375433671 (exp. fit)\n"
     ]
    }
   ],
   "source": [
    "# *** Analysis ***\n",
    "# Cell resistance and capacitance from noise analysis\n",
    "if two_electrodes:\n",
    "    Rm, Cm, V0 = passive_properties_from_noise(I_noise, V2_noise, long_kernel_size * dt, dt)\n",
    "    Rm2, Cm2, V02 = exponential_fit_to_noise(I_noise, V2_noise, kernel_duration=long_kernel_size * dt, dt=dt, R0=50e6, C0=300e-12)\n",
    "else:\n",
    "    V_AEC = AEC_compensate(V1_noise, I_noise, Ke)\n",
    "    Rm, Cm, V0 = passive_properties_from_noise(I_noise, V_AEC, long_kernel_size*dt, dt)\n",
    "    Rm2, Cm2, V02 = exponential_fit_to_noise(I_noise, V_AEC, kernel_duration=long_kernel_size * dt, dt=dt, R0=50e6, C0=300e-12)\n",
    "\n",
    "print(\"Membrane time constant = {} ms or {} ms (exp. fit)\".format(Rm*Cm/ ms,Rm2*Cm2/ms))\n",
    "print(\"Membrane resistance = {} Mohm or {} Mohm (exp. fit)\".format(Rm/Mohm, Rm2/Mohm))\n",
    "print(\"Membrane capacitance = {} pF or {} pF (exp. fit)\".format(Cm/pF,Cm2/pF))\n",
    "print(\"V0 = {} or {} (exp. fit)\".format(V0/mV,V02/mV))"
   ]
  },
  {
   "cell_type": "code",
   "execution_count": 13,
   "metadata": {},
   "outputs": [
    {
     "data": {
      "text/plain": [
       "Text(0.5, 1.0, 'Membrane kernel')"
      ]
     },
     "execution_count": 13,
     "metadata": {},
     "output_type": "execute_result"
    },
    {
     "data": {
      "image/png": "[encoded data removed]",
      "text/plain": [
       "<Figure size 432x288 with 1 Axes>"
      ]
     },
     "metadata": {
      "needs_background": "light"
     },
     "output_type": "display_data"
    }
   ],
   "source": [
    "if abs(log(Rm/Rm2))>0.2: # 20% difference in Rm estimated from integral and fit\n",
    "    print(\"The linear response of the cell might be oscillatory.\")\n",
    "\n",
    "figure()\n",
    "if two_electrodes:\n",
    "    Km, V0 = full_kernel(V2_noise, I_noise, long_kernel_size, full_output=True)\n",
    "else:\n",
    "    Km, V0 = full_kernel(V_AEC, I_noise, long_kernel_size, full_output=True)\n",
    "tk = arange(len(Km))*dt\n",
    "fit = exp(-tk/(Rm*Cm))*dt/Cm\n",
    "plot(tk/ms,Km,'k')\n",
    "plot(tk/ms,fit,'r')\n",
    "title(\"Membrane kernel\")"
   ]
  },
  {
   "cell_type": "code",
   "execution_count": null,
   "metadata": {},
   "outputs": [],
   "source": []
  },
  {
   "cell_type": "code",
   "execution_count": 14,
   "metadata": {},
   "outputs": [
    {
     "data": {
      "text/plain": [
       "-0.018655743754336714"
      ]
     },
     "execution_count": 14,
     "metadata": {},
     "output_type": "execute_result"
    }
   ],
   "source": [
    "V0"
   ]
  },
  {
   "cell_type": "code",
   "execution_count": 15,
   "metadata": {},
   "outputs": [],
   "source": [
    "# Subtract offset between the two headstages\n",
    "if two_electrodes:\n",
    "    delta_V = mean(V2[:,:int(pulse_start/dt)]) - mean(V[:,:int(pulse_start/dt)])\n",
    "    V2 = [v2-delta_V for v2 in V2]\n",
    "    print(\"Offset between the two traces = {} mV\".format(delta_V/mV))"
   ]
  },
  {
   "cell_type": "code",
   "execution_count": 16,
   "metadata": {},
   "outputs": [],
   "source": [
    "# Calculate initial potential before the pulse\n",
    "Vstart=mean(V[:,:int(pulse_start / dt)], axis=1)"
   ]
  },
  {
   "cell_type": "code",
   "execution_count": 17,
   "metadata": {},
   "outputs": [
    {
     "data": {
      "text/plain": [
       "Text(0.5, 1.0, 'Electrode kernel')"
      ]
     },
     "execution_count": 17,
     "metadata": {},
     "output_type": "execute_result"
    },
    {
     "data": {
      "image/png": "[encoded data removed]",
      "text/plain": [
       "<Figure size 432x288 with 1 Axes>"
      ]
     },
     "metadata": {
      "needs_background": "light"
     },
     "output_type": "display_data"
    }
   ],
   "source": [
    "# *** Plotting ***\n",
    "figure()\n",
    "plot(arange(len(Ke))*dt/ms,Ke/dt*1e-9)\n",
    "xlabel('Time (ms)')\n",
    "ylabel('Resistance (MOhm/ms)')\n",
    "title(\"Electrode kernel\")"
   ]
  },
  {
   "cell_type": "code",
   "execution_count": 18,
   "metadata": {},
   "outputs": [
    {
     "data": {
      "text/plain": [
       "Text(0.5, 1.0, 'Initial potential')"
      ]
     },
     "execution_count": 18,
     "metadata": {},
     "output_type": "execute_result"
    },
    {
     "data": {
      "image/png": "[encoded data removed]",
      "text/plain": [
       "<Figure size 432x288 with 1 Axes>"
      ]
     },
     "metadata": {
      "needs_background": "light"
     },
     "output_type": "display_data"
    }
   ],
   "source": [
    "figure()\n",
    "plot(Vstart/mV,'k')\n",
    "xlabel('Trial')\n",
    "ylabel('V0 (mV)')\n",
    "title(\"Initial potential\")"
   ]
  },
  {
   "cell_type": "code",
   "execution_count": 19,
   "metadata": {},
   "outputs": [
    {
     "data": {
      "text/plain": [
       "Text(0.5, 1.0, 'Responses to pulses')"
      ]
     },
     "execution_count": 19,
     "metadata": {},
     "output_type": "execute_result"
    },
    {
     "data": {
      "image/png": "[encoded data removed]",
      "text/plain": [
       "<Figure size 432x288 with 1 Axes>"
      ]
     },
     "metadata": {
      "needs_background": "light"
     },
     "output_type": "display_data"
    }
   ],
   "source": [
    "figure()\n",
    "for Vi,V2i in zip(V,V2):\n",
    "    plot(t/ms, lowpass(array(Vi) / mV, filtering, dt=dt), 'k')\n",
    "    if two_electrodes:\n",
    "        plot(t / ms, lowpass(array(V2i) / mV, filtering, dt=dt), 'r')\n",
    "xlabel('Time (ms)')\n",
    "ylabel('Vm (mV)')\n",
    "title('Responses to pulses')"
   ]
  },
  {
   "cell_type": "code",
   "execution_count": 20,
   "metadata": {},
   "outputs": [
    {
     "data": {
      "image/png": "[encoded data removed]",
      "text/plain": [
       "<Figure size 432x288 with 1 Axes>"
      ]
     },
     "metadata": {
      "needs_background": "light"
     },
     "output_type": "display_data"
    }
   ],
   "source": [
    "plot(V.transpose());"
   ]
  },
  {
   "cell_type": "code",
   "execution_count": 21,
   "metadata": {},
   "outputs": [
    {
     "data": {
      "text/plain": [
       "(22400,)"
      ]
     },
     "execution_count": 21,
     "metadata": {},
     "output_type": "execute_result"
    }
   ],
   "source": [
    "np.shape(V[0])"
   ]
  },
  {
   "cell_type": "code",
   "execution_count": 22,
   "metadata": {},
   "outputs": [
    {
     "data": {
      "text/plain": [
       "[<matplotlib.lines.Line2D at 0x7fd4ff6ad438>]"
      ]
     },
     "execution_count": 22,
     "metadata": {},
     "output_type": "execute_result"
    },
    {
     "data": {
      "image/png": "[encoded data removed]",
      "text/plain": [
       "<Figure size 432x288 with 1 Axes>"
      ]
     },
     "metadata": {
      "needs_background": "light"
     },
     "output_type": "display_data"
    }
   ],
   "source": [
    "plt.plot(V[29][0:5000])"
   ]
  },
  {
   "cell_type": "code",
   "execution_count": 23,
   "metadata": {},
   "outputs": [
    {
     "data": {
      "image/png": "[encoded data removed]",
      "text/plain": [
       "<Figure size 432x288 with 1 Axes>"
      ]
     },
     "metadata": {
      "needs_background": "light"
     },
     "output_type": "display_data"
    }
   ],
   "source": [
    "plot(V2.transpose());"
   ]
  },
  {
   "cell_type": "code",
   "execution_count": 24,
   "metadata": {},
   "outputs": [],
   "source": [
    "# if full:\n",
    "#     # Do the two electrodes match?\n",
    "#     if two_electrodes:\n",
    "#         figure()\n",
    "#         subplot(211)\n",
    "#         for Vi,V2i,Ici in zip(V,V2,Ic):\n",
    "#             plot(t/ms,lowpass((V2i-Vi) / mV, filtering, dt=dt), color=get_color(Ici))\n",
    "#         ylabel('V2-V1 (mV)')\n",
    "#         xlim(min(t / ms), max(t / ms))\n",
    "#         title('Difference between electrode responses')\n",
    "#         subplot(212)\n",
    "#         for Vi,V2i,Ici in zip(V,V2,Ic):\n",
    "#             ind = abs(Ici)>0.1*nA\n",
    "#             color = get_color(Ici)\n",
    "#             Vi, V2i, Ici = Vi[ind], V2i[ind], Ici[ind]\n",
    "#             plot(t[ind]/ms,lowpass((V2i-Vi) / Ici /Mohm, filtering, dt=dt), color=color)\n",
    "#         xlabel('Time (ms)')\n",
    "#         ylabel('Resistance error (MOhm)')\n",
    "#         xlim(min(t / ms), max(t / ms))\n",
    "\n",
    "#     # Late current (at the end of the pulse)\n",
    "#     if two_electrodes:\n",
    "#         V_late=array([Vi[int((pulse_start+pulse_duration-1*ms)/dt)] for Vi in V2])\n",
    "#     else:\n",
    "#         V_late=array([Vi[int((pulse_start+pulse_duration-1*ms)/dt)] for Vi in V])\n",
    "#     figure()\n",
    "#     plot(V_late/mV,amplitudes/nA,'k')\n",
    "#     ylabel('I (nA)')\n",
    "#     xlabel('V (mV)')\n",
    "#     title('Late current')\n",
    "\n",
    "#     figure()\n",
    "#     # Ionic current\n",
    "#     # Current-based AEC\n",
    "#     # We find the best linear predictor of dV_noise/dt from I_noise.\n",
    "#     # This decomposes into membrane current and electrode current.\n",
    "#     # We get the electrode contribution (roughly 1/C).\n",
    "#     # Then we subtract the electrode contribution from subsequent recordings.\n",
    "#     # (We accommodate for some delay)\n",
    "#     if two_electrodes:\n",
    "#         V_noise = V2_noise\n",
    "#         Vpulses = V2\n",
    "#         Vtrue = V2\n",
    "#     else:\n",
    "#         V_noise = V1_noise\n",
    "#         Vpulses = Vraw\n",
    "#         Vtrue = V # AEC compensated\n",
    "#     K = full_kernel(diff(V_noise), I_noise[1:], kernel_size)\n",
    "#     # Electrode kernel calculation\n",
    "#     Ke = electrode_kernel_soma(K, ekernel_size)\n",
    "\n",
    "#     for Vi,Ici in zip(Vpulses,Ic):\n",
    "#         dV = AEC_compensate(diff(Vi), Ici[1:], Ke)\n",
    "#         Iionic = Cm * dV*volt/dt\n",
    "#         plot(t[:-1]/ms, lowpass(-Iionic / nA, filtering, dt=dt),color=get_color(Ici)) # with the convention: inward <0\n",
    "#     xlabel('Time (ms)')\n",
    "#     ylabel('Current (nA)')\n",
    "#     title('Ionic current')\n",
    "\n",
    "#     # Ionic current with leak subtraction\n",
    "#     figure()\n",
    "#     n = len(Ic)*0\n",
    "#     for Vi,V_AEC,Ici in zip(Vpulses[int(n/2):],Vtrue[int(n/2):],Ic[int(n/2):]):\n",
    "#         dV = AEC_compensate(diff(Vi), Ici[1:], Ke)\n",
    "#         Iionic = - (V0-V_AEC[:-1])*volt/Rm + Cm * dV*volt/dt\n",
    "#         plot(t[:-1] / ms, lowpass(-Iionic / nA, filtering, dt=dt), color=get_color(Ici))  # with the convention: inward <0\n",
    "#     xlabel('Time (ms)')\n",
    "#     ylabel('Current (nA)')\n",
    "#     title('Ionic current minus leak, method 1')\n",
    "\n",
    "#     if two_electrodes:\n",
    "#         # Calculated by current-based AEC\n",
    "#         # (problem: the kernel is too noisy)\n",
    "#         figure()\n",
    "#         p = 10\n",
    "#         KI, I0 = full_kernel(I_noise[:-p] / amp, V_noise[p:], 30, full_output=True)\n",
    "#         # Fixing the resistance\n",
    "#         g = sum(KI)\n",
    "#         print(\"Resistance from current kernel = {} Mohm\".format(1 / g / Mohm))\n",
    "#         if False:\n",
    "#             KI+= (1/Rm2 - g)/len(KI) # Fixed from exponential fit\n",
    "#         xlabel('Time (ms)')\n",
    "#         plot(KI)\n",
    "#         title('Current kernel')\n",
    "\n",
    "#         figure()\n",
    "#         n = len(Ic)*0\n",
    "#         for Vi,V_AEC,Ici in zip(Vpulses[int(n/2):],Vtrue[int(n/2):],Ic[int(n/2):]):\n",
    "#             #dV = AEC_compensate(diff(Vi), Ici[1:], Ke)\n",
    "#             #Iionic = - (V0-V_AEC[:-1])*volt/Rm + Cm * dV*volt/dt\n",
    "#             Iionic = -AEC_compensate(Ici[:-p], V_AEC[p:]-V0, KI)\n",
    "#             #plot(t[:-1] / ms, lowpass(-Iionic / nA, filtering, dt=dt))  # with the convention: inward <0\n",
    "#             plot(t[:-p]/ms, lowpass(-Iionic / nA, filtering, dt=dt), color=get_color(Ici)) # with the convention: inward <0\n",
    "#         xlabel('Time (ms)')\n",
    "#         ylabel('Current (nA)')\n",
    "#         title('Ionic current minus leak, method 2')\n",
    "\n",
    "# show()"
   ]
  },
  {
   "cell_type": "code",
   "execution_count": 25,
   "metadata": {},
   "outputs": [
    {
     "data": {
      "text/plain": [
       "[<matplotlib.lines.Line2D at 0x7fd4ff5d05f8>]"
      ]
     },
     "execution_count": 25,
     "metadata": {},
     "output_type": "execute_result"
    },
    {
     "data": {
      "image/png": "[encoded data removed]",
      "text/plain": [
       "<Figure size 432x288 with 1 Axes>"
      ]
     },
     "metadata": {
      "needs_background": "light"
     },
     "output_type": "display_data"
    }
   ],
   "source": [
    "plot(V2_noise)"
   ]
  },
  {
   "cell_type": "code",
   "execution_count": 26,
   "metadata": {},
   "outputs": [
    {
     "name": "stdout",
     "output_type": "stream",
     "text": [
      "5.469613403202441\n",
      "5.469613403202441\n"
     ]
    }
   ],
   "source": [
    "print(V2_noise.max())\n",
    "print(V2_noise.min())"
   ]
  },
  {
   "cell_type": "code",
   "execution_count": 27,
   "metadata": {},
   "outputs": [
    {
     "name": "stdout",
     "output_type": "stream",
     "text": [
      "0.003482982931257135\n",
      "-0.03964498596366563\n"
     ]
    }
   ],
   "source": [
    "print(V1_noise.max())\n",
    "print(V1_noise.min())"
   ]
  },
  {
   "cell_type": "code",
   "execution_count": 30,
   "metadata": {},
   "outputs": [
    {
     "data": {
      "text/plain": [
       "[<matplotlib.lines.Line2D at 0x7fd4fcf5e6d8>]"
      ]
     },
     "execution_count": 30,
     "metadata": {},
     "output_type": "execute_result"
    },
    {
     "data": {
      "image/png": "[encoded data removed]",
      "text/plain": [
       "<Figure size 432x288 with 1 Axes>"
      ]
     },
     "metadata": {
      "needs_background": "light"
     },
     "output_type": "display_data"
    }
   ],
   "source": [
    "plot(V_AEC)"
   ]
  },
  {
   "cell_type": "code",
   "execution_count": null,
   "metadata": {},
   "outputs": [],
   "source": [
    "plot()"
   ]
  },
  {
   "cell_type": "code",
   "execution_count": 31,
   "metadata": {},
   "outputs": [
    {
     "data": {
      "text/plain": [
       "-0.018655743754336714"
      ]
     },
     "execution_count": 31,
     "metadata": {},
     "output_type": "execute_result"
    }
   ],
   "source": [
    "V0"
   ]
  },
  {
   "cell_type": "code",
   "execution_count": 32,
   "metadata": {},
   "outputs": [
    {
     "data": {
      "text/plain": [
       "[<matplotlib.lines.Line2D at 0x7fd4fcebccc0>]"
      ]
     },
     "execution_count": 32,
     "metadata": {},
     "output_type": "execute_result"
    },
    {
     "data": {
      "image/png": "[encoded data removed]",
      "text/plain": [
       "<Figure size 432x288 with 1 Axes>"
      ]
     },
     "metadata": {
      "needs_background": "light"
     },
     "output_type": "display_data"
    }
   ],
   "source": [
    "plot(I_noise)"
   ]
  },
  {
   "cell_type": "code",
   "execution_count": 33,
   "metadata": {},
   "outputs": [
    {
     "data": {
      "image/png": "[encoded data removed]",
      "text/plain": [
       "<Figure size 432x288 with 1 Axes>"
      ]
     },
     "metadata": {
      "needs_background": "light"
     },
     "output_type": "display_data"
    }
   ],
   "source": [
    "plot(Ic.transpose());"
   ]
  },
  {
   "cell_type": "code",
   "execution_count": 34,
   "metadata": {},
   "outputs": [
    {
     "data": {
      "text/plain": [
       "5e-05"
      ]
     },
     "execution_count": 34,
     "metadata": {},
     "output_type": "execute_result"
    }
   ],
   "source": [
    "dt"
   ]
  },
  {
   "cell_type": "markdown",
   "metadata": {},
   "source": [
    "## Look at just positive pulses"
   ]
  },
  {
   "cell_type": "code",
   "execution_count": 35,
   "metadata": {},
   "outputs": [],
   "source": [
    "Ic_positive = Ic[20:]\n",
    "V_positive = V[20:]"
   ]
  },
  {
   "cell_type": "code",
   "execution_count": 36,
   "metadata": {},
   "outputs": [
    {
     "data": {
      "image/png": "[encoded data removed]",
      "text/plain": [
       "<Figure size 432x288 with 1 Axes>"
      ]
     },
     "metadata": {
      "needs_background": "light"
     },
     "output_type": "display_data"
    }
   ],
   "source": [
    "plot(Ic_positive.transpose());"
   ]
  },
  {
   "cell_type": "code",
   "execution_count": 37,
   "metadata": {},
   "outputs": [
    {
     "data": {
      "image/png": "[encoded data removed]",
      "text/plain": [
       "<Figure size 432x288 with 1 Axes>"
      ]
     },
     "metadata": {
      "needs_background": "light"
     },
     "output_type": "display_data"
    }
   ],
   "source": [
    "plot(V_positive.transpose());"
   ]
  },
  {
   "cell_type": "code",
   "execution_count": 38,
   "metadata": {},
   "outputs": [
    {
     "data": {
      "text/plain": [
       "(22400,)"
      ]
     },
     "execution_count": 38,
     "metadata": {},
     "output_type": "execute_result"
    }
   ],
   "source": [
    "np.shape(V_positive[0])"
   ]
  },
  {
   "cell_type": "markdown",
   "metadata": {},
   "source": [
    "## White Noise response and normalization"
   ]
  },
  {
   "cell_type": "code",
   "execution_count": 39,
   "metadata": {},
   "outputs": [
    {
     "data": {
      "text/plain": [
       "(22400,)"
      ]
     },
     "execution_count": 39,
     "metadata": {},
     "output_type": "execute_result"
    }
   ],
   "source": [
    "np.shape(V1_noise[:22400])"
   ]
  },
  {
   "cell_type": "code",
   "execution_count": 40,
   "metadata": {},
   "outputs": [
    {
     "data": {
      "image/png": "[encoded data removed]",
      "text/plain": [
       "<Figure size 432x288 with 1 Axes>"
      ]
     },
     "metadata": {
      "needs_background": "light"
     },
     "output_type": "display_data"
    }
   ],
   "source": [
    "plot(V1_noise[:22400]);"
   ]
  },
  {
   "cell_type": "code",
   "execution_count": 41,
   "metadata": {},
   "outputs": [
    {
     "data": {
      "image/png": "[encoded data removed]",
      "text/plain": [
       "<Figure size 432x288 with 1 Axes>"
      ]
     },
     "metadata": {
      "needs_background": "light"
     },
     "output_type": "display_data"
    }
   ],
   "source": [
    "plot(I_noise[:22400]);"
   ]
  },
  {
   "cell_type": "code",
   "execution_count": 42,
   "metadata": {},
   "outputs": [
    {
     "data": {
      "text/plain": [
       "array([-0.02140817, -0.02106477, -0.02100692, ..., -0.01520251,\n",
       "       -0.01543279, -0.01544924])"
      ]
     },
     "execution_count": 42,
     "metadata": {},
     "output_type": "execute_result"
    }
   ],
   "source": [
    "V_white_noise_AEC = AEC_compensate(V1_noise, I_noise, Ke)\n",
    "V_white_noise_AEC"
   ]
  },
  {
   "cell_type": "code",
   "execution_count": 43,
   "metadata": {},
   "outputs": [
    {
     "data": {
      "image/png": "[encoded data removed]",
      "text/plain": [
       "<Figure size 432x288 with 1 Axes>"
      ]
     },
     "metadata": {
      "needs_background": "light"
     },
     "output_type": "display_data"
    }
   ],
   "source": [
    "plot(V_white_noise_AEC[:22400]);"
   ]
  },
  {
   "cell_type": "code",
   "execution_count": 65,
   "metadata": {},
   "outputs": [
    {
     "data": {
      "image/png": "[encoded data removed]",
      "text/plain": [
       "<Figure size 432x288 with 1 Axes>"
      ]
     },
     "metadata": {
      "needs_background": "light"
     },
     "output_type": "display_data"
    }
   ],
   "source": [
    "plot(V1_noise[:22400]);\n",
    "plot(V_white_noise_AEC[:22400]);"
   ]
  },
  {
   "cell_type": "code",
   "execution_count": 44,
   "metadata": {},
   "outputs": [],
   "source": [
    "V_wnAEC = V_white_noise_AEC[:22400]\n",
    "I_noise_cut= I_noise[:22400]"
   ]
  },
  {
   "cell_type": "markdown",
   "metadata": {},
   "source": [
    "## Collect the data to be saved"
   ]
  },
  {
   "cell_type": "code",
   "execution_count": 45,
   "metadata": {},
   "outputs": [
    {
     "data": {
      "text/plain": [
       "array([-0.02140817, -0.02106477, -0.02100692, ..., -0.02031193,\n",
       "       -0.02024605, -0.02023731])"
      ]
     },
     "execution_count": 45,
     "metadata": {},
     "output_type": "execute_result"
    }
   ],
   "source": [
    "V_wnAEC"
   ]
  },
  {
   "cell_type": "code",
   "execution_count": 46,
   "metadata": {},
   "outputs": [
    {
     "data": {
      "text/plain": [
       "array([ 8.38889762e-10,  5.23898424e-10, -4.74746939e-11, ...,\n",
       "       -7.04657100e-10, -2.59915410e-10, -9.53343744e-10])"
      ]
     },
     "execution_count": 46,
     "metadata": {},
     "output_type": "execute_result"
    }
   ],
   "source": [
    "I_noise_cut"
   ]
  },
  {
   "cell_type": "code",
   "execution_count": 47,
   "metadata": {},
   "outputs": [
    {
     "data": {
      "text/plain": [
       "array([[0., 0., 0., ..., 0., 0., 0.],\n",
       "       [0., 0., 0., ..., 0., 0., 0.],\n",
       "       [0., 0., 0., ..., 0., 0., 0.],\n",
       "       ...,\n",
       "       [0., 0., 0., ..., 0., 0., 0.],\n",
       "       [0., 0., 0., ..., 0., 0., 0.],\n",
       "       [0., 0., 0., ..., 0., 0., 0.]])"
      ]
     },
     "execution_count": 47,
     "metadata": {},
     "output_type": "execute_result"
    }
   ],
   "source": [
    "Ic_positive "
   ]
  },
  {
   "cell_type": "code",
   "execution_count": 48,
   "metadata": {},
   "outputs": [
    {
     "data": {
      "text/plain": [
       "array([[-0.02864093, -0.02855869, -0.02865738, ..., -0.02867383,\n",
       "        -0.02862449, -0.02865738],\n",
       "       [-0.02885476, -0.02873963, -0.02862449, ..., -0.02609142,\n",
       "        -0.0263217 , -0.02602562],\n",
       "       [-0.02819682, -0.02829552, -0.02832841, ..., -0.02829552,\n",
       "        -0.02827907, -0.02844355],\n",
       "       ...,\n",
       "       [-0.02579534, -0.02564731, -0.02572955, ..., -0.02423274,\n",
       "        -0.02424918, -0.02433143],\n",
       "       [-0.02441367, -0.02439722, -0.02418339, ..., -0.02276882,\n",
       "        -0.02257144, -0.02270302],\n",
       "       [-0.021272  , -0.02135425, -0.02138714, ..., -0.02329517,\n",
       "        -0.02314713, -0.02311424]])"
      ]
     },
     "execution_count": 48,
     "metadata": {},
     "output_type": "execute_result"
    }
   ],
   "source": [
    "V_positive "
   ]
  },
  {
   "cell_type": "markdown",
   "metadata": {},
   "source": [
    "## Save the data"
   ]
  },
  {
   "cell_type": "code",
   "execution_count": 49,
   "metadata": {},
   "outputs": [],
   "source": [
    "import pandas as pd"
   ]
  },
  {
   "cell_type": "code",
   "execution_count": 50,
   "metadata": {},
   "outputs": [
    {
     "data": {
      "text/html": [
       "<div>\n",
       "<style scoped>\n",
       "    .dataframe tbody tr th:only-of-type {\n",
       "        vertical-align: middle;\n",
       "    }\n",
       "\n",
       "    .dataframe tbody tr th {\n",
       "        vertical-align: top;\n",
       "    }\n",
       "\n",
       "    .dataframe thead th {\n",
       "        text-align: right;\n",
       "    }\n",
       "</style>\n",
       "<table border=\"1\" class=\"dataframe\">\n",
       "  <thead>\n",
       "    <tr style=\"text-align: right;\">\n",
       "      <th></th>\n",
       "      <th>0</th>\n",
       "      <th>1</th>\n",
       "      <th>2</th>\n",
       "      <th>3</th>\n",
       "      <th>4</th>\n",
       "      <th>5</th>\n",
       "      <th>6</th>\n",
       "      <th>7</th>\n",
       "      <th>8</th>\n",
       "      <th>9</th>\n",
       "      <th>...</th>\n",
       "      <th>22390</th>\n",
       "      <th>22391</th>\n",
       "      <th>22392</th>\n",
       "      <th>22393</th>\n",
       "      <th>22394</th>\n",
       "      <th>22395</th>\n",
       "      <th>22396</th>\n",
       "      <th>22397</th>\n",
       "      <th>22398</th>\n",
       "      <th>22399</th>\n",
       "    </tr>\n",
       "  </thead>\n",
       "  <tbody>\n",
       "    <tr>\n",
       "      <th>0</th>\n",
       "      <td>-0.028641</td>\n",
       "      <td>-0.028559</td>\n",
       "      <td>-0.028657</td>\n",
       "      <td>-0.028789</td>\n",
       "      <td>-0.028411</td>\n",
       "      <td>-0.028575</td>\n",
       "      <td>-0.028493</td>\n",
       "      <td>-0.028493</td>\n",
       "      <td>-0.028427</td>\n",
       "      <td>-0.028592</td>\n",
       "      <td>...</td>\n",
       "      <td>-0.028838</td>\n",
       "      <td>-0.028789</td>\n",
       "      <td>-0.028805</td>\n",
       "      <td>-0.028921</td>\n",
       "      <td>-0.028690</td>\n",
       "      <td>-0.028608</td>\n",
       "      <td>-0.028559</td>\n",
       "      <td>-0.028674</td>\n",
       "      <td>-0.028624</td>\n",
       "      <td>-0.028657</td>\n",
       "    </tr>\n",
       "    <tr>\n",
       "      <th>1</th>\n",
       "      <td>-0.028855</td>\n",
       "      <td>-0.028740</td>\n",
       "      <td>-0.028624</td>\n",
       "      <td>-0.028740</td>\n",
       "      <td>-0.028756</td>\n",
       "      <td>-0.028789</td>\n",
       "      <td>-0.028707</td>\n",
       "      <td>-0.028838</td>\n",
       "      <td>-0.028624</td>\n",
       "      <td>-0.028641</td>\n",
       "      <td>...</td>\n",
       "      <td>-0.025927</td>\n",
       "      <td>-0.026272</td>\n",
       "      <td>-0.026174</td>\n",
       "      <td>-0.026075</td>\n",
       "      <td>-0.026157</td>\n",
       "      <td>-0.026338</td>\n",
       "      <td>-0.026157</td>\n",
       "      <td>-0.026091</td>\n",
       "      <td>-0.026322</td>\n",
       "      <td>-0.026026</td>\n",
       "    </tr>\n",
       "    <tr>\n",
       "      <th>2</th>\n",
       "      <td>-0.028197</td>\n",
       "      <td>-0.028296</td>\n",
       "      <td>-0.028328</td>\n",
       "      <td>-0.028032</td>\n",
       "      <td>-0.028263</td>\n",
       "      <td>-0.028164</td>\n",
       "      <td>-0.028065</td>\n",
       "      <td>-0.028032</td>\n",
       "      <td>-0.028246</td>\n",
       "      <td>-0.028213</td>\n",
       "      <td>...</td>\n",
       "      <td>-0.028460</td>\n",
       "      <td>-0.028361</td>\n",
       "      <td>-0.028328</td>\n",
       "      <td>-0.028444</td>\n",
       "      <td>-0.028312</td>\n",
       "      <td>-0.028197</td>\n",
       "      <td>-0.028559</td>\n",
       "      <td>-0.028296</td>\n",
       "      <td>-0.028279</td>\n",
       "      <td>-0.028444</td>\n",
       "    </tr>\n",
       "    <tr>\n",
       "      <th>3</th>\n",
       "      <td>-0.028378</td>\n",
       "      <td>-0.028246</td>\n",
       "      <td>-0.028230</td>\n",
       "      <td>-0.028378</td>\n",
       "      <td>-0.028427</td>\n",
       "      <td>-0.028345</td>\n",
       "      <td>-0.028378</td>\n",
       "      <td>-0.028509</td>\n",
       "      <td>-0.028263</td>\n",
       "      <td>-0.028197</td>\n",
       "      <td>...</td>\n",
       "      <td>-0.027901</td>\n",
       "      <td>-0.027868</td>\n",
       "      <td>-0.027967</td>\n",
       "      <td>-0.027983</td>\n",
       "      <td>-0.027999</td>\n",
       "      <td>-0.027868</td>\n",
       "      <td>-0.028016</td>\n",
       "      <td>-0.027835</td>\n",
       "      <td>-0.027819</td>\n",
       "      <td>-0.027934</td>\n",
       "    </tr>\n",
       "    <tr>\n",
       "      <th>4</th>\n",
       "      <td>-0.028394</td>\n",
       "      <td>-0.028378</td>\n",
       "      <td>-0.028592</td>\n",
       "      <td>-0.028476</td>\n",
       "      <td>-0.028624</td>\n",
       "      <td>-0.028756</td>\n",
       "      <td>-0.028575</td>\n",
       "      <td>-0.028592</td>\n",
       "      <td>-0.028476</td>\n",
       "      <td>-0.028444</td>\n",
       "      <td>...</td>\n",
       "      <td>-0.026667</td>\n",
       "      <td>-0.026716</td>\n",
       "      <td>-0.026897</td>\n",
       "      <td>-0.026733</td>\n",
       "      <td>-0.026782</td>\n",
       "      <td>-0.026864</td>\n",
       "      <td>-0.026716</td>\n",
       "      <td>-0.026634</td>\n",
       "      <td>-0.026667</td>\n",
       "      <td>-0.026651</td>\n",
       "    </tr>\n",
       "  </tbody>\n",
       "</table>\n",
       "<p>5 rows × 22400 columns</p>\n",
       "</div>"
      ],
      "text/plain": [
       "      0         1         2         3         4         5         6      \\\n",
       "0 -0.028641 -0.028559 -0.028657 -0.028789 -0.028411 -0.028575 -0.028493   \n",
       "1 -0.028855 -0.028740 -0.028624 -0.028740 -0.028756 -0.028789 -0.028707   \n",
       "2 -0.028197 -0.028296 -0.028328 -0.028032 -0.028263 -0.028164 -0.028065   \n",
       "3 -0.028378 -0.028246 -0.028230 -0.028378 -0.028427 -0.028345 -0.028378   \n",
       "4 -0.028394 -0.028378 -0.028592 -0.028476 -0.028624 -0.028756 -0.028575   \n",
       "\n",
       "      7         8         9      ...     22390     22391     22392     22393  \\\n",
       "0 -0.028493 -0.028427 -0.028592  ... -0.028838 -0.028789 -0.028805 -0.028921   \n",
       "1 -0.028838 -0.028624 -0.028641  ... -0.025927 -0.026272 -0.026174 -0.026075   \n",
       "2 -0.028032 -0.028246 -0.028213  ... -0.028460 -0.028361 -0.028328 -0.028444   \n",
       "3 -0.028509 -0.028263 -0.028197  ... -0.027901 -0.027868 -0.027967 -0.027983   \n",
       "4 -0.028592 -0.028476 -0.028444  ... -0.026667 -0.026716 -0.026897 -0.026733   \n",
       "\n",
       "      22394     22395     22396     22397     22398     22399  \n",
       "0 -0.028690 -0.028608 -0.028559 -0.028674 -0.028624 -0.028657  \n",
       "1 -0.026157 -0.026338 -0.026157 -0.026091 -0.026322 -0.026026  \n",
       "2 -0.028312 -0.028197 -0.028559 -0.028296 -0.028279 -0.028444  \n",
       "3 -0.027999 -0.027868 -0.028016 -0.027835 -0.027819 -0.027934  \n",
       "4 -0.026782 -0.026864 -0.026716 -0.026634 -0.026667 -0.026651  \n",
       "\n",
       "[5 rows x 22400 columns]"
      ]
     },
     "execution_count": 50,
     "metadata": {},
     "output_type": "execute_result"
    }
   ],
   "source": [
    "df_v = pd.DataFrame(V_positive)\n",
    "df_v.head()"
   ]
  },
  {
   "cell_type": "code",
   "execution_count": 51,
   "metadata": {},
   "outputs": [
    {
     "data": {
      "text/html": [
       "<div>\n",
       "<style scoped>\n",
       "    .dataframe tbody tr th:only-of-type {\n",
       "        vertical-align: middle;\n",
       "    }\n",
       "\n",
       "    .dataframe tbody tr th {\n",
       "        vertical-align: top;\n",
       "    }\n",
       "\n",
       "    .dataframe thead th {\n",
       "        text-align: right;\n",
       "    }\n",
       "</style>\n",
       "<table border=\"1\" class=\"dataframe\">\n",
       "  <thead>\n",
       "    <tr style=\"text-align: right;\">\n",
       "      <th></th>\n",
       "      <th>0</th>\n",
       "      <th>1</th>\n",
       "      <th>2</th>\n",
       "      <th>3</th>\n",
       "      <th>4</th>\n",
       "      <th>5</th>\n",
       "      <th>6</th>\n",
       "      <th>7</th>\n",
       "      <th>8</th>\n",
       "      <th>9</th>\n",
       "      <th>...</th>\n",
       "      <th>22390</th>\n",
       "      <th>22391</th>\n",
       "      <th>22392</th>\n",
       "      <th>22393</th>\n",
       "      <th>22394</th>\n",
       "      <th>22395</th>\n",
       "      <th>22396</th>\n",
       "      <th>22397</th>\n",
       "      <th>22398</th>\n",
       "      <th>22399</th>\n",
       "    </tr>\n",
       "  </thead>\n",
       "  <tbody>\n",
       "    <tr>\n",
       "      <th>0</th>\n",
       "      <td>0.0</td>\n",
       "      <td>0.0</td>\n",
       "      <td>0.0</td>\n",
       "      <td>0.0</td>\n",
       "      <td>0.0</td>\n",
       "      <td>0.0</td>\n",
       "      <td>0.0</td>\n",
       "      <td>0.0</td>\n",
       "      <td>0.0</td>\n",
       "      <td>0.0</td>\n",
       "      <td>...</td>\n",
       "      <td>0.0</td>\n",
       "      <td>0.0</td>\n",
       "      <td>0.0</td>\n",
       "      <td>0.0</td>\n",
       "      <td>0.0</td>\n",
       "      <td>0.0</td>\n",
       "      <td>0.0</td>\n",
       "      <td>0.0</td>\n",
       "      <td>0.0</td>\n",
       "      <td>0.0</td>\n",
       "    </tr>\n",
       "    <tr>\n",
       "      <th>1</th>\n",
       "      <td>0.0</td>\n",
       "      <td>0.0</td>\n",
       "      <td>0.0</td>\n",
       "      <td>0.0</td>\n",
       "      <td>0.0</td>\n",
       "      <td>0.0</td>\n",
       "      <td>0.0</td>\n",
       "      <td>0.0</td>\n",
       "      <td>0.0</td>\n",
       "      <td>0.0</td>\n",
       "      <td>...</td>\n",
       "      <td>0.0</td>\n",
       "      <td>0.0</td>\n",
       "      <td>0.0</td>\n",
       "      <td>0.0</td>\n",
       "      <td>0.0</td>\n",
       "      <td>0.0</td>\n",
       "      <td>0.0</td>\n",
       "      <td>0.0</td>\n",
       "      <td>0.0</td>\n",
       "      <td>0.0</td>\n",
       "    </tr>\n",
       "    <tr>\n",
       "      <th>2</th>\n",
       "      <td>0.0</td>\n",
       "      <td>0.0</td>\n",
       "      <td>0.0</td>\n",
       "      <td>0.0</td>\n",
       "      <td>0.0</td>\n",
       "      <td>0.0</td>\n",
       "      <td>0.0</td>\n",
       "      <td>0.0</td>\n",
       "      <td>0.0</td>\n",
       "      <td>0.0</td>\n",
       "      <td>...</td>\n",
       "      <td>0.0</td>\n",
       "      <td>0.0</td>\n",
       "      <td>0.0</td>\n",
       "      <td>0.0</td>\n",
       "      <td>0.0</td>\n",
       "      <td>0.0</td>\n",
       "      <td>0.0</td>\n",
       "      <td>0.0</td>\n",
       "      <td>0.0</td>\n",
       "      <td>0.0</td>\n",
       "    </tr>\n",
       "    <tr>\n",
       "      <th>3</th>\n",
       "      <td>0.0</td>\n",
       "      <td>0.0</td>\n",
       "      <td>0.0</td>\n",
       "      <td>0.0</td>\n",
       "      <td>0.0</td>\n",
       "      <td>0.0</td>\n",
       "      <td>0.0</td>\n",
       "      <td>0.0</td>\n",
       "      <td>0.0</td>\n",
       "      <td>0.0</td>\n",
       "      <td>...</td>\n",
       "      <td>0.0</td>\n",
       "      <td>0.0</td>\n",
       "      <td>0.0</td>\n",
       "      <td>0.0</td>\n",
       "      <td>0.0</td>\n",
       "      <td>0.0</td>\n",
       "      <td>0.0</td>\n",
       "      <td>0.0</td>\n",
       "      <td>0.0</td>\n",
       "      <td>0.0</td>\n",
       "    </tr>\n",
       "    <tr>\n",
       "      <th>4</th>\n",
       "      <td>0.0</td>\n",
       "      <td>0.0</td>\n",
       "      <td>0.0</td>\n",
       "      <td>0.0</td>\n",
       "      <td>0.0</td>\n",
       "      <td>0.0</td>\n",
       "      <td>0.0</td>\n",
       "      <td>0.0</td>\n",
       "      <td>0.0</td>\n",
       "      <td>0.0</td>\n",
       "      <td>...</td>\n",
       "      <td>0.0</td>\n",
       "      <td>0.0</td>\n",
       "      <td>0.0</td>\n",
       "      <td>0.0</td>\n",
       "      <td>0.0</td>\n",
       "      <td>0.0</td>\n",
       "      <td>0.0</td>\n",
       "      <td>0.0</td>\n",
       "      <td>0.0</td>\n",
       "      <td>0.0</td>\n",
       "    </tr>\n",
       "  </tbody>\n",
       "</table>\n",
       "<p>5 rows × 22400 columns</p>\n",
       "</div>"
      ],
      "text/plain": [
       "   0      1      2      3      4      5      6      7      8      9      ...  \\\n",
       "0    0.0    0.0    0.0    0.0    0.0    0.0    0.0    0.0    0.0    0.0  ...   \n",
       "1    0.0    0.0    0.0    0.0    0.0    0.0    0.0    0.0    0.0    0.0  ...   \n",
       "2    0.0    0.0    0.0    0.0    0.0    0.0    0.0    0.0    0.0    0.0  ...   \n",
       "3    0.0    0.0    0.0    0.0    0.0    0.0    0.0    0.0    0.0    0.0  ...   \n",
       "4    0.0    0.0    0.0    0.0    0.0    0.0    0.0    0.0    0.0    0.0  ...   \n",
       "\n",
       "   22390  22391  22392  22393  22394  22395  22396  22397  22398  22399  \n",
       "0    0.0    0.0    0.0    0.0    0.0    0.0    0.0    0.0    0.0    0.0  \n",
       "1    0.0    0.0    0.0    0.0    0.0    0.0    0.0    0.0    0.0    0.0  \n",
       "2    0.0    0.0    0.0    0.0    0.0    0.0    0.0    0.0    0.0    0.0  \n",
       "3    0.0    0.0    0.0    0.0    0.0    0.0    0.0    0.0    0.0    0.0  \n",
       "4    0.0    0.0    0.0    0.0    0.0    0.0    0.0    0.0    0.0    0.0  \n",
       "\n",
       "[5 rows x 22400 columns]"
      ]
     },
     "execution_count": 51,
     "metadata": {},
     "output_type": "execute_result"
    }
   ],
   "source": [
    "df_ic = pd.DataFrame(Ic_positive)\n",
    "df_ic.head()"
   ]
  },
  {
   "cell_type": "code",
   "execution_count": 52,
   "metadata": {},
   "outputs": [
    {
     "data": {
      "text/html": [
       "<div>\n",
       "<style scoped>\n",
       "    .dataframe tbody tr th:only-of-type {\n",
       "        vertical-align: middle;\n",
       "    }\n",
       "\n",
       "    .dataframe tbody tr th {\n",
       "        vertical-align: top;\n",
       "    }\n",
       "\n",
       "    .dataframe thead th {\n",
       "        text-align: right;\n",
       "    }\n",
       "</style>\n",
       "<table border=\"1\" class=\"dataframe\">\n",
       "  <thead>\n",
       "    <tr style=\"text-align: right;\">\n",
       "      <th></th>\n",
       "      <th>0</th>\n",
       "    </tr>\n",
       "  </thead>\n",
       "  <tbody>\n",
       "    <tr>\n",
       "      <th>0</th>\n",
       "      <td>-0.021408</td>\n",
       "    </tr>\n",
       "    <tr>\n",
       "      <th>1</th>\n",
       "      <td>-0.021065</td>\n",
       "    </tr>\n",
       "    <tr>\n",
       "      <th>2</th>\n",
       "      <td>-0.021007</td>\n",
       "    </tr>\n",
       "    <tr>\n",
       "      <th>3</th>\n",
       "      <td>-0.021034</td>\n",
       "    </tr>\n",
       "    <tr>\n",
       "      <th>4</th>\n",
       "      <td>-0.020851</td>\n",
       "    </tr>\n",
       "  </tbody>\n",
       "</table>\n",
       "</div>"
      ],
      "text/plain": [
       "          0\n",
       "0 -0.021408\n",
       "1 -0.021065\n",
       "2 -0.021007\n",
       "3 -0.021034\n",
       "4 -0.020851"
      ]
     },
     "execution_count": 52,
     "metadata": {},
     "output_type": "execute_result"
    }
   ],
   "source": [
    "df_wn_v = pd.DataFrame(V_wnAEC)\n",
    "df_wn_v.head()"
   ]
  },
  {
   "cell_type": "code",
   "execution_count": 53,
   "metadata": {},
   "outputs": [
    {
     "data": {
      "text/html": [
       "<div>\n",
       "<style scoped>\n",
       "    .dataframe tbody tr th:only-of-type {\n",
       "        vertical-align: middle;\n",
       "    }\n",
       "\n",
       "    .dataframe tbody tr th {\n",
       "        vertical-align: top;\n",
       "    }\n",
       "\n",
       "    .dataframe thead th {\n",
       "        text-align: right;\n",
       "    }\n",
       "</style>\n",
       "<table border=\"1\" class=\"dataframe\">\n",
       "  <thead>\n",
       "    <tr style=\"text-align: right;\">\n",
       "      <th></th>\n",
       "      <th>0</th>\n",
       "    </tr>\n",
       "  </thead>\n",
       "  <tbody>\n",
       "    <tr>\n",
       "      <th>0</th>\n",
       "      <td>8.388898e-10</td>\n",
       "    </tr>\n",
       "    <tr>\n",
       "      <th>1</th>\n",
       "      <td>5.238984e-10</td>\n",
       "    </tr>\n",
       "    <tr>\n",
       "      <th>2</th>\n",
       "      <td>-4.747469e-11</td>\n",
       "    </tr>\n",
       "    <tr>\n",
       "      <th>3</th>\n",
       "      <td>-5.219016e-10</td>\n",
       "    </tr>\n",
       "    <tr>\n",
       "      <th>4</th>\n",
       "      <td>8.112779e-10</td>\n",
       "    </tr>\n",
       "  </tbody>\n",
       "</table>\n",
       "</div>"
      ],
      "text/plain": [
       "              0\n",
       "0  8.388898e-10\n",
       "1  5.238984e-10\n",
       "2 -4.747469e-11\n",
       "3 -5.219016e-10\n",
       "4  8.112779e-10"
      ]
     },
     "execution_count": 53,
     "metadata": {},
     "output_type": "execute_result"
    }
   ],
   "source": [
    "df_inoise = pd.DataFrame(I_noise_cut)\n",
    "df_inoise.head()"
   ]
  },
  {
   "cell_type": "code",
   "execution_count": 54,
   "metadata": {},
   "outputs": [],
   "source": [
    "df_v.to_csv('decilliated_v_pos.csv')\n",
    "df_ic.to_csv('decilliated_ic_pos.csv')\n",
    "df_inoise.to_csv('decilliated_i_noise.csv')\n",
    "df_wn_v.to_csv('decilliated_v_noise.csv')"
   ]
  },
  {
   "cell_type": "markdown",
   "metadata": {},
   "source": [
    "## Test data Loading"
   ]
  },
  {
   "cell_type": "code",
   "execution_count": 55,
   "metadata": {},
   "outputs": [
    {
     "data": {
      "text/html": [
       "<div>\n",
       "<style scoped>\n",
       "    .dataframe tbody tr th:only-of-type {\n",
       "        vertical-align: middle;\n",
       "    }\n",
       "\n",
       "    .dataframe tbody tr th {\n",
       "        vertical-align: top;\n",
       "    }\n",
       "\n",
       "    .dataframe thead th {\n",
       "        text-align: right;\n",
       "    }\n",
       "</style>\n",
       "<table border=\"1\" class=\"dataframe\">\n",
       "  <thead>\n",
       "    <tr style=\"text-align: right;\">\n",
       "      <th></th>\n",
       "      <th>Unnamed: 0</th>\n",
       "      <th>0</th>\n",
       "      <th>1</th>\n",
       "      <th>2</th>\n",
       "      <th>3</th>\n",
       "      <th>4</th>\n",
       "      <th>5</th>\n",
       "      <th>6</th>\n",
       "      <th>7</th>\n",
       "      <th>8</th>\n",
       "      <th>...</th>\n",
       "      <th>22390</th>\n",
       "      <th>22391</th>\n",
       "      <th>22392</th>\n",
       "      <th>22393</th>\n",
       "      <th>22394</th>\n",
       "      <th>22395</th>\n",
       "      <th>22396</th>\n",
       "      <th>22397</th>\n",
       "      <th>22398</th>\n",
       "      <th>22399</th>\n",
       "    </tr>\n",
       "  </thead>\n",
       "  <tbody>\n",
       "    <tr>\n",
       "      <th>0</th>\n",
       "      <td>0</td>\n",
       "      <td>-0.028641</td>\n",
       "      <td>-0.028559</td>\n",
       "      <td>-0.028657</td>\n",
       "      <td>-0.028789</td>\n",
       "      <td>-0.028411</td>\n",
       "      <td>-0.028575</td>\n",
       "      <td>-0.028493</td>\n",
       "      <td>-0.028493</td>\n",
       "      <td>-0.028427</td>\n",
       "      <td>...</td>\n",
       "      <td>-0.028838</td>\n",
       "      <td>-0.028789</td>\n",
       "      <td>-0.028805</td>\n",
       "      <td>-0.028921</td>\n",
       "      <td>-0.028690</td>\n",
       "      <td>-0.028608</td>\n",
       "      <td>-0.028559</td>\n",
       "      <td>-0.028674</td>\n",
       "      <td>-0.028624</td>\n",
       "      <td>-0.028657</td>\n",
       "    </tr>\n",
       "    <tr>\n",
       "      <th>1</th>\n",
       "      <td>1</td>\n",
       "      <td>-0.028855</td>\n",
       "      <td>-0.028740</td>\n",
       "      <td>-0.028624</td>\n",
       "      <td>-0.028740</td>\n",
       "      <td>-0.028756</td>\n",
       "      <td>-0.028789</td>\n",
       "      <td>-0.028707</td>\n",
       "      <td>-0.028838</td>\n",
       "      <td>-0.028624</td>\n",
       "      <td>...</td>\n",
       "      <td>-0.025927</td>\n",
       "      <td>-0.026272</td>\n",
       "      <td>-0.026174</td>\n",
       "      <td>-0.026075</td>\n",
       "      <td>-0.026157</td>\n",
       "      <td>-0.026338</td>\n",
       "      <td>-0.026157</td>\n",
       "      <td>-0.026091</td>\n",
       "      <td>-0.026322</td>\n",
       "      <td>-0.026026</td>\n",
       "    </tr>\n",
       "    <tr>\n",
       "      <th>2</th>\n",
       "      <td>2</td>\n",
       "      <td>-0.028197</td>\n",
       "      <td>-0.028296</td>\n",
       "      <td>-0.028328</td>\n",
       "      <td>-0.028032</td>\n",
       "      <td>-0.028263</td>\n",
       "      <td>-0.028164</td>\n",
       "      <td>-0.028065</td>\n",
       "      <td>-0.028032</td>\n",
       "      <td>-0.028246</td>\n",
       "      <td>...</td>\n",
       "      <td>-0.028460</td>\n",
       "      <td>-0.028361</td>\n",
       "      <td>-0.028328</td>\n",
       "      <td>-0.028444</td>\n",
       "      <td>-0.028312</td>\n",
       "      <td>-0.028197</td>\n",
       "      <td>-0.028559</td>\n",
       "      <td>-0.028296</td>\n",
       "      <td>-0.028279</td>\n",
       "      <td>-0.028444</td>\n",
       "    </tr>\n",
       "    <tr>\n",
       "      <th>3</th>\n",
       "      <td>3</td>\n",
       "      <td>-0.028378</td>\n",
       "      <td>-0.028246</td>\n",
       "      <td>-0.028230</td>\n",
       "      <td>-0.028378</td>\n",
       "      <td>-0.028427</td>\n",
       "      <td>-0.028345</td>\n",
       "      <td>-0.028378</td>\n",
       "      <td>-0.028509</td>\n",
       "      <td>-0.028263</td>\n",
       "      <td>...</td>\n",
       "      <td>-0.027901</td>\n",
       "      <td>-0.027868</td>\n",
       "      <td>-0.027967</td>\n",
       "      <td>-0.027983</td>\n",
       "      <td>-0.027999</td>\n",
       "      <td>-0.027868</td>\n",
       "      <td>-0.028016</td>\n",
       "      <td>-0.027835</td>\n",
       "      <td>-0.027819</td>\n",
       "      <td>-0.027934</td>\n",
       "    </tr>\n",
       "    <tr>\n",
       "      <th>4</th>\n",
       "      <td>4</td>\n",
       "      <td>-0.028394</td>\n",
       "      <td>-0.028378</td>\n",
       "      <td>-0.028592</td>\n",
       "      <td>-0.028476</td>\n",
       "      <td>-0.028624</td>\n",
       "      <td>-0.028756</td>\n",
       "      <td>-0.028575</td>\n",
       "      <td>-0.028592</td>\n",
       "      <td>-0.028476</td>\n",
       "      <td>...</td>\n",
       "      <td>-0.026667</td>\n",
       "      <td>-0.026716</td>\n",
       "      <td>-0.026897</td>\n",
       "      <td>-0.026733</td>\n",
       "      <td>-0.026782</td>\n",
       "      <td>-0.026864</td>\n",
       "      <td>-0.026716</td>\n",
       "      <td>-0.026634</td>\n",
       "      <td>-0.026667</td>\n",
       "      <td>-0.026651</td>\n",
       "    </tr>\n",
       "    <tr>\n",
       "      <th>5</th>\n",
       "      <td>5</td>\n",
       "      <td>-0.026141</td>\n",
       "      <td>-0.025993</td>\n",
       "      <td>-0.026009</td>\n",
       "      <td>-0.026124</td>\n",
       "      <td>-0.026009</td>\n",
       "      <td>-0.025976</td>\n",
       "      <td>-0.026108</td>\n",
       "      <td>-0.026042</td>\n",
       "      <td>-0.025943</td>\n",
       "      <td>...</td>\n",
       "      <td>-0.025055</td>\n",
       "      <td>-0.025022</td>\n",
       "      <td>-0.024759</td>\n",
       "      <td>-0.024891</td>\n",
       "      <td>-0.024858</td>\n",
       "      <td>-0.024858</td>\n",
       "      <td>-0.024891</td>\n",
       "      <td>-0.025072</td>\n",
       "      <td>-0.025039</td>\n",
       "      <td>-0.024858</td>\n",
       "    </tr>\n",
       "    <tr>\n",
       "      <th>6</th>\n",
       "      <td>6</td>\n",
       "      <td>-0.023673</td>\n",
       "      <td>-0.023542</td>\n",
       "      <td>-0.023673</td>\n",
       "      <td>-0.023706</td>\n",
       "      <td>-0.023443</td>\n",
       "      <td>-0.023624</td>\n",
       "      <td>-0.023641</td>\n",
       "      <td>-0.023542</td>\n",
       "      <td>-0.023608</td>\n",
       "      <td>...</td>\n",
       "      <td>-0.024726</td>\n",
       "      <td>-0.024512</td>\n",
       "      <td>-0.024595</td>\n",
       "      <td>-0.024743</td>\n",
       "      <td>-0.024644</td>\n",
       "      <td>-0.024627</td>\n",
       "      <td>-0.024726</td>\n",
       "      <td>-0.024776</td>\n",
       "      <td>-0.024562</td>\n",
       "      <td>-0.024595</td>\n",
       "    </tr>\n",
       "    <tr>\n",
       "      <th>7</th>\n",
       "      <td>7</td>\n",
       "      <td>-0.024891</td>\n",
       "      <td>-0.024841</td>\n",
       "      <td>-0.024940</td>\n",
       "      <td>-0.024858</td>\n",
       "      <td>-0.024858</td>\n",
       "      <td>-0.025022</td>\n",
       "      <td>-0.024956</td>\n",
       "      <td>-0.024989</td>\n",
       "      <td>-0.024924</td>\n",
       "      <td>...</td>\n",
       "      <td>-0.026782</td>\n",
       "      <td>-0.026733</td>\n",
       "      <td>-0.026947</td>\n",
       "      <td>-0.027013</td>\n",
       "      <td>-0.027062</td>\n",
       "      <td>-0.026914</td>\n",
       "      <td>-0.027045</td>\n",
       "      <td>-0.026832</td>\n",
       "      <td>-0.026766</td>\n",
       "      <td>-0.026815</td>\n",
       "    </tr>\n",
       "    <tr>\n",
       "      <th>8</th>\n",
       "      <td>8</td>\n",
       "      <td>-0.028444</td>\n",
       "      <td>-0.028098</td>\n",
       "      <td>-0.028147</td>\n",
       "      <td>-0.028131</td>\n",
       "      <td>-0.027967</td>\n",
       "      <td>-0.028082</td>\n",
       "      <td>-0.028378</td>\n",
       "      <td>-0.028378</td>\n",
       "      <td>-0.028230</td>\n",
       "      <td>...</td>\n",
       "      <td>-0.027999</td>\n",
       "      <td>-0.027999</td>\n",
       "      <td>-0.027917</td>\n",
       "      <td>-0.027983</td>\n",
       "      <td>-0.027786</td>\n",
       "      <td>-0.027999</td>\n",
       "      <td>-0.028180</td>\n",
       "      <td>-0.028016</td>\n",
       "      <td>-0.028164</td>\n",
       "      <td>-0.028131</td>\n",
       "    </tr>\n",
       "    <tr>\n",
       "      <th>9</th>\n",
       "      <td>9</td>\n",
       "      <td>-0.024479</td>\n",
       "      <td>-0.024496</td>\n",
       "      <td>-0.024315</td>\n",
       "      <td>-0.024282</td>\n",
       "      <td>-0.024266</td>\n",
       "      <td>-0.024282</td>\n",
       "      <td>-0.024101</td>\n",
       "      <td>-0.024381</td>\n",
       "      <td>-0.024397</td>\n",
       "      <td>...</td>\n",
       "      <td>-0.025368</td>\n",
       "      <td>-0.025253</td>\n",
       "      <td>-0.025236</td>\n",
       "      <td>-0.025088</td>\n",
       "      <td>-0.025302</td>\n",
       "      <td>-0.025137</td>\n",
       "      <td>-0.025137</td>\n",
       "      <td>-0.025318</td>\n",
       "      <td>-0.025285</td>\n",
       "      <td>-0.025351</td>\n",
       "    </tr>\n",
       "    <tr>\n",
       "      <th>10</th>\n",
       "      <td>10</td>\n",
       "      <td>-0.028197</td>\n",
       "      <td>-0.028180</td>\n",
       "      <td>-0.028378</td>\n",
       "      <td>-0.028328</td>\n",
       "      <td>-0.028345</td>\n",
       "      <td>-0.028444</td>\n",
       "      <td>-0.028279</td>\n",
       "      <td>-0.028131</td>\n",
       "      <td>-0.028246</td>\n",
       "      <td>...</td>\n",
       "      <td>-0.024430</td>\n",
       "      <td>-0.024348</td>\n",
       "      <td>-0.024512</td>\n",
       "      <td>-0.024299</td>\n",
       "      <td>-0.024315</td>\n",
       "      <td>-0.024397</td>\n",
       "      <td>-0.024282</td>\n",
       "      <td>-0.024266</td>\n",
       "      <td>-0.024282</td>\n",
       "      <td>-0.024397</td>\n",
       "    </tr>\n",
       "    <tr>\n",
       "      <th>11</th>\n",
       "      <td>11</td>\n",
       "      <td>-0.026420</td>\n",
       "      <td>-0.026601</td>\n",
       "      <td>-0.026618</td>\n",
       "      <td>-0.026519</td>\n",
       "      <td>-0.026618</td>\n",
       "      <td>-0.026684</td>\n",
       "      <td>-0.026782</td>\n",
       "      <td>-0.026585</td>\n",
       "      <td>-0.026766</td>\n",
       "      <td>...</td>\n",
       "      <td>-0.028986</td>\n",
       "      <td>-0.028921</td>\n",
       "      <td>-0.028986</td>\n",
       "      <td>-0.028805</td>\n",
       "      <td>-0.029019</td>\n",
       "      <td>-0.028953</td>\n",
       "      <td>-0.028953</td>\n",
       "      <td>-0.029069</td>\n",
       "      <td>-0.028937</td>\n",
       "      <td>-0.028921</td>\n",
       "    </tr>\n",
       "    <tr>\n",
       "      <th>12</th>\n",
       "      <td>12</td>\n",
       "      <td>-0.025187</td>\n",
       "      <td>-0.024973</td>\n",
       "      <td>-0.024841</td>\n",
       "      <td>-0.025055</td>\n",
       "      <td>-0.025006</td>\n",
       "      <td>-0.024989</td>\n",
       "      <td>-0.025022</td>\n",
       "      <td>-0.025170</td>\n",
       "      <td>-0.025055</td>\n",
       "      <td>...</td>\n",
       "      <td>-0.026059</td>\n",
       "      <td>-0.025976</td>\n",
       "      <td>-0.025993</td>\n",
       "      <td>-0.025878</td>\n",
       "      <td>-0.025894</td>\n",
       "      <td>-0.025861</td>\n",
       "      <td>-0.025976</td>\n",
       "      <td>-0.025910</td>\n",
       "      <td>-0.026042</td>\n",
       "      <td>-0.025894</td>\n",
       "    </tr>\n",
       "    <tr>\n",
       "      <th>13</th>\n",
       "      <td>13</td>\n",
       "      <td>-0.024216</td>\n",
       "      <td>-0.024299</td>\n",
       "      <td>-0.024216</td>\n",
       "      <td>-0.024150</td>\n",
       "      <td>-0.024348</td>\n",
       "      <td>-0.024266</td>\n",
       "      <td>-0.024052</td>\n",
       "      <td>-0.024233</td>\n",
       "      <td>-0.024216</td>\n",
       "      <td>...</td>\n",
       "      <td>-0.022555</td>\n",
       "      <td>-0.022604</td>\n",
       "      <td>-0.022736</td>\n",
       "      <td>-0.022588</td>\n",
       "      <td>-0.022637</td>\n",
       "      <td>-0.022637</td>\n",
       "      <td>-0.022670</td>\n",
       "      <td>-0.022423</td>\n",
       "      <td>-0.022539</td>\n",
       "      <td>-0.022621</td>\n",
       "    </tr>\n",
       "    <tr>\n",
       "      <th>14</th>\n",
       "      <td>14</td>\n",
       "      <td>-0.021321</td>\n",
       "      <td>-0.021272</td>\n",
       "      <td>-0.021108</td>\n",
       "      <td>-0.021025</td>\n",
       "      <td>-0.021140</td>\n",
       "      <td>-0.020894</td>\n",
       "      <td>-0.020976</td>\n",
       "      <td>-0.021124</td>\n",
       "      <td>-0.021140</td>\n",
       "      <td>...</td>\n",
       "      <td>-0.023164</td>\n",
       "      <td>-0.022966</td>\n",
       "      <td>-0.022966</td>\n",
       "      <td>-0.022851</td>\n",
       "      <td>-0.022933</td>\n",
       "      <td>-0.022736</td>\n",
       "      <td>-0.022752</td>\n",
       "      <td>-0.022966</td>\n",
       "      <td>-0.022868</td>\n",
       "      <td>-0.023048</td>\n",
       "    </tr>\n",
       "    <tr>\n",
       "      <th>15</th>\n",
       "      <td>15</td>\n",
       "      <td>-0.021469</td>\n",
       "      <td>-0.021321</td>\n",
       "      <td>-0.021469</td>\n",
       "      <td>-0.021667</td>\n",
       "      <td>-0.021716</td>\n",
       "      <td>-0.021469</td>\n",
       "      <td>-0.021617</td>\n",
       "      <td>-0.021634</td>\n",
       "      <td>-0.021420</td>\n",
       "      <td>...</td>\n",
       "      <td>-0.022308</td>\n",
       "      <td>-0.022539</td>\n",
       "      <td>-0.022489</td>\n",
       "      <td>-0.022506</td>\n",
       "      <td>-0.022654</td>\n",
       "      <td>-0.022604</td>\n",
       "      <td>-0.022391</td>\n",
       "      <td>-0.022456</td>\n",
       "      <td>-0.022440</td>\n",
       "      <td>-0.022242</td>\n",
       "    </tr>\n",
       "    <tr>\n",
       "      <th>16</th>\n",
       "      <td>16</td>\n",
       "      <td>-0.025466</td>\n",
       "      <td>-0.025417</td>\n",
       "      <td>-0.025154</td>\n",
       "      <td>-0.025170</td>\n",
       "      <td>-0.025318</td>\n",
       "      <td>-0.025039</td>\n",
       "      <td>-0.025055</td>\n",
       "      <td>-0.025302</td>\n",
       "      <td>-0.025351</td>\n",
       "      <td>...</td>\n",
       "      <td>-0.022900</td>\n",
       "      <td>-0.022884</td>\n",
       "      <td>-0.022999</td>\n",
       "      <td>-0.022818</td>\n",
       "      <td>-0.022769</td>\n",
       "      <td>-0.022802</td>\n",
       "      <td>-0.023016</td>\n",
       "      <td>-0.022769</td>\n",
       "      <td>-0.022999</td>\n",
       "      <td>-0.023065</td>\n",
       "    </tr>\n",
       "    <tr>\n",
       "      <th>17</th>\n",
       "      <td>17</td>\n",
       "      <td>-0.025795</td>\n",
       "      <td>-0.025647</td>\n",
       "      <td>-0.025730</td>\n",
       "      <td>-0.025713</td>\n",
       "      <td>-0.025647</td>\n",
       "      <td>-0.025565</td>\n",
       "      <td>-0.025532</td>\n",
       "      <td>-0.025598</td>\n",
       "      <td>-0.025499</td>\n",
       "      <td>...</td>\n",
       "      <td>-0.024183</td>\n",
       "      <td>-0.024282</td>\n",
       "      <td>-0.024315</td>\n",
       "      <td>-0.024266</td>\n",
       "      <td>-0.024249</td>\n",
       "      <td>-0.024282</td>\n",
       "      <td>-0.024282</td>\n",
       "      <td>-0.024233</td>\n",
       "      <td>-0.024249</td>\n",
       "      <td>-0.024331</td>\n",
       "    </tr>\n",
       "    <tr>\n",
       "      <th>18</th>\n",
       "      <td>18</td>\n",
       "      <td>-0.024414</td>\n",
       "      <td>-0.024397</td>\n",
       "      <td>-0.024183</td>\n",
       "      <td>-0.024282</td>\n",
       "      <td>-0.024381</td>\n",
       "      <td>-0.024348</td>\n",
       "      <td>-0.024364</td>\n",
       "      <td>-0.024479</td>\n",
       "      <td>-0.024381</td>\n",
       "      <td>...</td>\n",
       "      <td>-0.022752</td>\n",
       "      <td>-0.022522</td>\n",
       "      <td>-0.022637</td>\n",
       "      <td>-0.022752</td>\n",
       "      <td>-0.022604</td>\n",
       "      <td>-0.022588</td>\n",
       "      <td>-0.022884</td>\n",
       "      <td>-0.022769</td>\n",
       "      <td>-0.022571</td>\n",
       "      <td>-0.022703</td>\n",
       "    </tr>\n",
       "    <tr>\n",
       "      <th>19</th>\n",
       "      <td>19</td>\n",
       "      <td>-0.021272</td>\n",
       "      <td>-0.021354</td>\n",
       "      <td>-0.021387</td>\n",
       "      <td>-0.021223</td>\n",
       "      <td>-0.021469</td>\n",
       "      <td>-0.021568</td>\n",
       "      <td>-0.021288</td>\n",
       "      <td>-0.021305</td>\n",
       "      <td>-0.021354</td>\n",
       "      <td>...</td>\n",
       "      <td>-0.023328</td>\n",
       "      <td>-0.023196</td>\n",
       "      <td>-0.023147</td>\n",
       "      <td>-0.023328</td>\n",
       "      <td>-0.023377</td>\n",
       "      <td>-0.023213</td>\n",
       "      <td>-0.023131</td>\n",
       "      <td>-0.023295</td>\n",
       "      <td>-0.023147</td>\n",
       "      <td>-0.023114</td>\n",
       "    </tr>\n",
       "  </tbody>\n",
       "</table>\n",
       "<p>20 rows × 22401 columns</p>\n",
       "</div>"
      ],
      "text/plain": [
       "    Unnamed: 0         0         1         2         3         4         5  \\\n",
       "0            0 -0.028641 -0.028559 -0.028657 -0.028789 -0.028411 -0.028575   \n",
       "1            1 -0.028855 -0.028740 -0.028624 -0.028740 -0.028756 -0.028789   \n",
       "2            2 -0.028197 -0.028296 -0.028328 -0.028032 -0.028263 -0.028164   \n",
       "3            3 -0.028378 -0.028246 -0.028230 -0.028378 -0.028427 -0.028345   \n",
       "4            4 -0.028394 -0.028378 -0.028592 -0.028476 -0.028624 -0.028756   \n",
       "5            5 -0.026141 -0.025993 -0.026009 -0.026124 -0.026009 -0.025976   \n",
       "6            6 -0.023673 -0.023542 -0.023673 -0.023706 -0.023443 -0.023624   \n",
       "7            7 -0.024891 -0.024841 -0.024940 -0.024858 -0.024858 -0.025022   \n",
       "8            8 -0.028444 -0.028098 -0.028147 -0.028131 -0.027967 -0.028082   \n",
       "9            9 -0.024479 -0.024496 -0.024315 -0.024282 -0.024266 -0.024282   \n",
       "10          10 -0.028197 -0.028180 -0.028378 -0.028328 -0.028345 -0.028444   \n",
       "11          11 -0.026420 -0.026601 -0.026618 -0.026519 -0.026618 -0.026684   \n",
       "12          12 -0.025187 -0.024973 -0.024841 -0.025055 -0.025006 -0.024989   \n",
       "13          13 -0.024216 -0.024299 -0.024216 -0.024150 -0.024348 -0.024266   \n",
       "14          14 -0.021321 -0.021272 -0.021108 -0.021025 -0.021140 -0.020894   \n",
       "15          15 -0.021469 -0.021321 -0.021469 -0.021667 -0.021716 -0.021469   \n",
       "16          16 -0.025466 -0.025417 -0.025154 -0.025170 -0.025318 -0.025039   \n",
       "17          17 -0.025795 -0.025647 -0.025730 -0.025713 -0.025647 -0.025565   \n",
       "18          18 -0.024414 -0.024397 -0.024183 -0.024282 -0.024381 -0.024348   \n",
       "19          19 -0.021272 -0.021354 -0.021387 -0.021223 -0.021469 -0.021568   \n",
       "\n",
       "           6         7         8  ...     22390     22391     22392     22393  \\\n",
       "0  -0.028493 -0.028493 -0.028427  ... -0.028838 -0.028789 -0.028805 -0.028921   \n",
       "1  -0.028707 -0.028838 -0.028624  ... -0.025927 -0.026272 -0.026174 -0.026075   \n",
       "2  -0.028065 -0.028032 -0.028246  ... -0.028460 -0.028361 -0.028328 -0.028444   \n",
       "3  -0.028378 -0.028509 -0.028263  ... -0.027901 -0.027868 -0.027967 -0.027983   \n",
       "4  -0.028575 -0.028592 -0.028476  ... -0.026667 -0.026716 -0.026897 -0.026733   \n",
       "5  -0.026108 -0.026042 -0.025943  ... -0.025055 -0.025022 -0.024759 -0.024891   \n",
       "6  -0.023641 -0.023542 -0.023608  ... -0.024726 -0.024512 -0.024595 -0.024743   \n",
       "7  -0.024956 -0.024989 -0.024924  ... -0.026782 -0.026733 -0.026947 -0.027013   \n",
       "8  -0.028378 -0.028378 -0.028230  ... -0.027999 -0.027999 -0.027917 -0.027983   \n",
       "9  -0.024101 -0.024381 -0.024397  ... -0.025368 -0.025253 -0.025236 -0.025088   \n",
       "10 -0.028279 -0.028131 -0.028246  ... -0.024430 -0.024348 -0.024512 -0.024299   \n",
       "11 -0.026782 -0.026585 -0.026766  ... -0.028986 -0.028921 -0.028986 -0.028805   \n",
       "12 -0.025022 -0.025170 -0.025055  ... -0.026059 -0.025976 -0.025993 -0.025878   \n",
       "13 -0.024052 -0.024233 -0.024216  ... -0.022555 -0.022604 -0.022736 -0.022588   \n",
       "14 -0.020976 -0.021124 -0.021140  ... -0.023164 -0.022966 -0.022966 -0.022851   \n",
       "15 -0.021617 -0.021634 -0.021420  ... -0.022308 -0.022539 -0.022489 -0.022506   \n",
       "16 -0.025055 -0.025302 -0.025351  ... -0.022900 -0.022884 -0.022999 -0.022818   \n",
       "17 -0.025532 -0.025598 -0.025499  ... -0.024183 -0.024282 -0.024315 -0.024266   \n",
       "18 -0.024364 -0.024479 -0.024381  ... -0.022752 -0.022522 -0.022637 -0.022752   \n",
       "19 -0.021288 -0.021305 -0.021354  ... -0.023328 -0.023196 -0.023147 -0.023328   \n",
       "\n",
       "       22394     22395     22396     22397     22398     22399  \n",
       "0  -0.028690 -0.028608 -0.028559 -0.028674 -0.028624 -0.028657  \n",
       "1  -0.026157 -0.026338 -0.026157 -0.026091 -0.026322 -0.026026  \n",
       "2  -0.028312 -0.028197 -0.028559 -0.028296 -0.028279 -0.028444  \n",
       "3  -0.027999 -0.027868 -0.028016 -0.027835 -0.027819 -0.027934  \n",
       "4  -0.026782 -0.026864 -0.026716 -0.026634 -0.026667 -0.026651  \n",
       "5  -0.024858 -0.024858 -0.024891 -0.025072 -0.025039 -0.024858  \n",
       "6  -0.024644 -0.024627 -0.024726 -0.024776 -0.024562 -0.024595  \n",
       "7  -0.027062 -0.026914 -0.027045 -0.026832 -0.026766 -0.026815  \n",
       "8  -0.027786 -0.027999 -0.028180 -0.028016 -0.028164 -0.028131  \n",
       "9  -0.025302 -0.025137 -0.025137 -0.025318 -0.025285 -0.025351  \n",
       "10 -0.024315 -0.024397 -0.024282 -0.024266 -0.024282 -0.024397  \n",
       "11 -0.029019 -0.028953 -0.028953 -0.029069 -0.028937 -0.028921  \n",
       "12 -0.025894 -0.025861 -0.025976 -0.025910 -0.026042 -0.025894  \n",
       "13 -0.022637 -0.022637 -0.022670 -0.022423 -0.022539 -0.022621  \n",
       "14 -0.022933 -0.022736 -0.022752 -0.022966 -0.022868 -0.023048  \n",
       "15 -0.022654 -0.022604 -0.022391 -0.022456 -0.022440 -0.022242  \n",
       "16 -0.022769 -0.022802 -0.023016 -0.022769 -0.022999 -0.023065  \n",
       "17 -0.024249 -0.024282 -0.024282 -0.024233 -0.024249 -0.024331  \n",
       "18 -0.022604 -0.022588 -0.022884 -0.022769 -0.022571 -0.022703  \n",
       "19 -0.023377 -0.023213 -0.023131 -0.023295 -0.023147 -0.023114  \n",
       "\n",
       "[20 rows x 22401 columns]"
      ]
     },
     "execution_count": 55,
     "metadata": {},
     "output_type": "execute_result"
    }
   ],
   "source": [
    "pd.read_csv('decilliated_v_pos.csv')"
   ]
  },
  {
   "cell_type": "markdown",
   "metadata": {},
   "source": [
    "## Look at the negative pulses"
   ]
  },
  {
   "cell_type": "code",
   "execution_count": 56,
   "metadata": {},
   "outputs": [],
   "source": [
    "Ic_neg = Ic[:20]\n",
    "V_neg = V[:20]"
   ]
  },
  {
   "cell_type": "code",
   "execution_count": 57,
   "metadata": {},
   "outputs": [
    {
     "data": {
      "image/png": "[encoded data removed]",
      "text/plain": [
       "<Figure size 432x288 with 1 Axes>"
      ]
     },
     "metadata": {
      "needs_background": "light"
     },
     "output_type": "display_data"
    }
   ],
   "source": [
    "plot(Ic_neg.transpose());"
   ]
  },
  {
   "cell_type": "code",
   "execution_count": 58,
   "metadata": {},
   "outputs": [
    {
     "data": {
      "image/png": "[encoded data removed]",
      "text/plain": [
       "<Figure size 1080x576 with 1 Axes>"
      ]
     },
     "metadata": {
      "needs_background": "light"
     },
     "output_type": "display_data"
    }
   ],
   "source": [
    "plt.figure(figsize=(15,8))\n",
    "plot((V_neg/1e-3).transpose());"
   ]
  },
  {
   "cell_type": "code",
   "execution_count": 59,
   "metadata": {},
   "outputs": [
    {
     "data": {
      "text/plain": [
       "array([-19.38042722,  -7.30722931, -24.00245626, -22.34115751,\n",
       "       -23.14713412, -24.7097419 , -24.51235986, -28.11458222,\n",
       "       -27.20991447, -28.6902799 , -30.18709388, -30.41737297,\n",
       "       -30.516064  , -30.53251251, -33.24651608, -31.94708404,\n",
       "       -31.78259897, -31.02596769, -30.48316699, -30.56540952])"
      ]
     },
     "execution_count": 59,
     "metadata": {},
     "output_type": "execute_result"
    }
   ],
   "source": [
    "V_neg[:, 0]/1e-3"
   ]
  },
  {
   "cell_type": "code",
   "execution_count": 60,
   "metadata": {},
   "outputs": [
    {
     "data": {
      "text/plain": [
       "array([-28.64093438, -28.85476495, -28.19682475, -28.3777583 ,\n",
       "       -28.39420681, -26.14076171, -23.67348621, -24.89067543,\n",
       "       -28.44355232, -24.47946285, -28.19682475, -26.42038627,\n",
       "       -25.18674849, -24.2162868 , -21.32135038, -21.4693869 ,\n",
       "       -25.46637305, -25.79534313, -24.41366884, -21.27200488])"
      ]
     },
     "execution_count": 60,
     "metadata": {},
     "output_type": "execute_result"
    }
   ],
   "source": [
    "V_positive[:, 0]/1e-3"
   ]
  },
  {
   "cell_type": "code",
   "execution_count": 61,
   "metadata": {},
   "outputs": [
    {
     "data": {
      "image/png": "[encoded data removed]",
      "text/plain": [
       "<Figure size 1080x576 with 1 Axes>"
      ]
     },
     "metadata": {
      "needs_background": "light"
     },
     "output_type": "display_data"
    }
   ],
   "source": [
    "plt.figure(figsize=(15,8))\n",
    "plot(V_neg[1].transpose()/1e-3);\n",
    "plot(V_neg[2].transpose()/1e-3);\n",
    "plot(V_neg[3].transpose()/1e-3);\n",
    "plot(V_neg[5].transpose()/1e-3);"
   ]
  },
  {
   "cell_type": "code",
   "execution_count": 62,
   "metadata": {},
   "outputs": [
    {
     "data": {
      "text/html": [
       "<div>\n",
       "<style scoped>\n",
       "    .dataframe tbody tr th:only-of-type {\n",
       "        vertical-align: middle;\n",
       "    }\n",
       "\n",
       "    .dataframe tbody tr th {\n",
       "        vertical-align: top;\n",
       "    }\n",
       "\n",
       "    .dataframe thead th {\n",
       "        text-align: right;\n",
       "    }\n",
       "</style>\n",
       "<table border=\"1\" class=\"dataframe\">\n",
       "  <thead>\n",
       "    <tr style=\"text-align: right;\">\n",
       "      <th></th>\n",
       "      <th>0</th>\n",
       "      <th>1</th>\n",
       "      <th>2</th>\n",
       "      <th>3</th>\n",
       "      <th>4</th>\n",
       "      <th>5</th>\n",
       "      <th>6</th>\n",
       "      <th>7</th>\n",
       "      <th>8</th>\n",
       "      <th>9</th>\n",
       "      <th>...</th>\n",
       "      <th>22390</th>\n",
       "      <th>22391</th>\n",
       "      <th>22392</th>\n",
       "      <th>22393</th>\n",
       "      <th>22394</th>\n",
       "      <th>22395</th>\n",
       "      <th>22396</th>\n",
       "      <th>22397</th>\n",
       "      <th>22398</th>\n",
       "      <th>22399</th>\n",
       "    </tr>\n",
       "  </thead>\n",
       "  <tbody>\n",
       "    <tr>\n",
       "      <th>0</th>\n",
       "      <td>-0.024002</td>\n",
       "      <td>-0.024052</td>\n",
       "      <td>-0.023871</td>\n",
       "      <td>-0.023970</td>\n",
       "      <td>-0.024052</td>\n",
       "      <td>-0.024085</td>\n",
       "      <td>-0.024233</td>\n",
       "      <td>-0.024282</td>\n",
       "      <td>-0.024315</td>\n",
       "      <td>-0.024167</td>\n",
       "      <td>...</td>\n",
       "      <td>-0.021387</td>\n",
       "      <td>-0.021420</td>\n",
       "      <td>-0.021469</td>\n",
       "      <td>-0.021453</td>\n",
       "      <td>-0.021453</td>\n",
       "      <td>-0.021601</td>\n",
       "      <td>-0.021617</td>\n",
       "      <td>-0.021568</td>\n",
       "      <td>-0.021601</td>\n",
       "      <td>-0.021683</td>\n",
       "    </tr>\n",
       "    <tr>\n",
       "      <th>1</th>\n",
       "      <td>-0.022341</td>\n",
       "      <td>-0.022193</td>\n",
       "      <td>-0.022391</td>\n",
       "      <td>-0.022045</td>\n",
       "      <td>-0.022078</td>\n",
       "      <td>-0.022226</td>\n",
       "      <td>-0.022242</td>\n",
       "      <td>-0.022275</td>\n",
       "      <td>-0.022423</td>\n",
       "      <td>-0.022506</td>\n",
       "      <td>...</td>\n",
       "      <td>-0.021765</td>\n",
       "      <td>-0.021765</td>\n",
       "      <td>-0.021815</td>\n",
       "      <td>-0.021733</td>\n",
       "      <td>-0.021683</td>\n",
       "      <td>-0.021782</td>\n",
       "      <td>-0.021946</td>\n",
       "      <td>-0.021700</td>\n",
       "      <td>-0.021815</td>\n",
       "      <td>-0.021946</td>\n",
       "    </tr>\n",
       "    <tr>\n",
       "      <th>2</th>\n",
       "      <td>-0.023147</td>\n",
       "      <td>-0.023147</td>\n",
       "      <td>-0.023246</td>\n",
       "      <td>-0.023229</td>\n",
       "      <td>-0.023180</td>\n",
       "      <td>-0.023098</td>\n",
       "      <td>-0.023147</td>\n",
       "      <td>-0.022966</td>\n",
       "      <td>-0.023032</td>\n",
       "      <td>-0.023147</td>\n",
       "      <td>...</td>\n",
       "      <td>-0.025417</td>\n",
       "      <td>-0.025335</td>\n",
       "      <td>-0.025466</td>\n",
       "      <td>-0.025401</td>\n",
       "      <td>-0.025302</td>\n",
       "      <td>-0.025335</td>\n",
       "      <td>-0.025269</td>\n",
       "      <td>-0.025302</td>\n",
       "      <td>-0.025121</td>\n",
       "      <td>-0.025269</td>\n",
       "    </tr>\n",
       "    <tr>\n",
       "      <th>3</th>\n",
       "      <td>-0.024710</td>\n",
       "      <td>-0.024808</td>\n",
       "      <td>-0.024693</td>\n",
       "      <td>-0.024693</td>\n",
       "      <td>-0.024808</td>\n",
       "      <td>-0.024611</td>\n",
       "      <td>-0.024595</td>\n",
       "      <td>-0.024512</td>\n",
       "      <td>-0.024693</td>\n",
       "      <td>-0.024660</td>\n",
       "      <td>...</td>\n",
       "      <td>-0.025466</td>\n",
       "      <td>-0.025368</td>\n",
       "      <td>-0.025236</td>\n",
       "      <td>-0.025335</td>\n",
       "      <td>-0.025417</td>\n",
       "      <td>-0.025203</td>\n",
       "      <td>-0.025253</td>\n",
       "      <td>-0.025318</td>\n",
       "      <td>-0.025220</td>\n",
       "      <td>-0.025187</td>\n",
       "    </tr>\n",
       "    <tr>\n",
       "      <th>4</th>\n",
       "      <td>-0.024512</td>\n",
       "      <td>-0.024595</td>\n",
       "      <td>-0.024364</td>\n",
       "      <td>-0.024381</td>\n",
       "      <td>-0.024545</td>\n",
       "      <td>-0.024233</td>\n",
       "      <td>-0.024315</td>\n",
       "      <td>-0.024348</td>\n",
       "      <td>-0.024496</td>\n",
       "      <td>-0.024430</td>\n",
       "      <td>...</td>\n",
       "      <td>-0.026782</td>\n",
       "      <td>-0.026651</td>\n",
       "      <td>-0.026503</td>\n",
       "      <td>-0.026618</td>\n",
       "      <td>-0.026470</td>\n",
       "      <td>-0.026305</td>\n",
       "      <td>-0.026289</td>\n",
       "      <td>-0.026519</td>\n",
       "      <td>-0.026404</td>\n",
       "      <td>-0.026552</td>\n",
       "    </tr>\n",
       "  </tbody>\n",
       "</table>\n",
       "<p>5 rows × 22400 columns</p>\n",
       "</div>"
      ],
      "text/plain": [
       "      0         1         2         3         4         5         6      \\\n",
       "0 -0.024002 -0.024052 -0.023871 -0.023970 -0.024052 -0.024085 -0.024233   \n",
       "1 -0.022341 -0.022193 -0.022391 -0.022045 -0.022078 -0.022226 -0.022242   \n",
       "2 -0.023147 -0.023147 -0.023246 -0.023229 -0.023180 -0.023098 -0.023147   \n",
       "3 -0.024710 -0.024808 -0.024693 -0.024693 -0.024808 -0.024611 -0.024595   \n",
       "4 -0.024512 -0.024595 -0.024364 -0.024381 -0.024545 -0.024233 -0.024315   \n",
       "\n",
       "      7         8         9      ...     22390     22391     22392     22393  \\\n",
       "0 -0.024282 -0.024315 -0.024167  ... -0.021387 -0.021420 -0.021469 -0.021453   \n",
       "1 -0.022275 -0.022423 -0.022506  ... -0.021765 -0.021765 -0.021815 -0.021733   \n",
       "2 -0.022966 -0.023032 -0.023147  ... -0.025417 -0.025335 -0.025466 -0.025401   \n",
       "3 -0.024512 -0.024693 -0.024660  ... -0.025466 -0.025368 -0.025236 -0.025335   \n",
       "4 -0.024348 -0.024496 -0.024430  ... -0.026782 -0.026651 -0.026503 -0.026618   \n",
       "\n",
       "      22394     22395     22396     22397     22398     22399  \n",
       "0 -0.021453 -0.021601 -0.021617 -0.021568 -0.021601 -0.021683  \n",
       "1 -0.021683 -0.021782 -0.021946 -0.021700 -0.021815 -0.021946  \n",
       "2 -0.025302 -0.025335 -0.025269 -0.025302 -0.025121 -0.025269  \n",
       "3 -0.025417 -0.025203 -0.025253 -0.025318 -0.025220 -0.025187  \n",
       "4 -0.026470 -0.026305 -0.026289 -0.026519 -0.026404 -0.026552  \n",
       "\n",
       "[5 rows x 22400 columns]"
      ]
     },
     "execution_count": 62,
     "metadata": {},
     "output_type": "execute_result"
    }
   ],
   "source": [
    "df_v_neg = pd.DataFrame(V_neg[2:])\n",
    "df_v_neg.head()"
   ]
  },
  {
   "cell_type": "code",
   "execution_count": 63,
   "metadata": {},
   "outputs": [
    {
     "data": {
      "text/html": [
       "<div>\n",
       "<style scoped>\n",
       "    .dataframe tbody tr th:only-of-type {\n",
       "        vertical-align: middle;\n",
       "    }\n",
       "\n",
       "    .dataframe tbody tr th {\n",
       "        vertical-align: top;\n",
       "    }\n",
       "\n",
       "    .dataframe thead th {\n",
       "        text-align: right;\n",
       "    }\n",
       "</style>\n",
       "<table border=\"1\" class=\"dataframe\">\n",
       "  <thead>\n",
       "    <tr style=\"text-align: right;\">\n",
       "      <th></th>\n",
       "      <th>0</th>\n",
       "      <th>1</th>\n",
       "      <th>2</th>\n",
       "      <th>3</th>\n",
       "      <th>4</th>\n",
       "      <th>5</th>\n",
       "      <th>6</th>\n",
       "      <th>7</th>\n",
       "      <th>8</th>\n",
       "      <th>9</th>\n",
       "      <th>...</th>\n",
       "      <th>22390</th>\n",
       "      <th>22391</th>\n",
       "      <th>22392</th>\n",
       "      <th>22393</th>\n",
       "      <th>22394</th>\n",
       "      <th>22395</th>\n",
       "      <th>22396</th>\n",
       "      <th>22397</th>\n",
       "      <th>22398</th>\n",
       "      <th>22399</th>\n",
       "    </tr>\n",
       "  </thead>\n",
       "  <tbody>\n",
       "    <tr>\n",
       "      <th>0</th>\n",
       "      <td>0.0</td>\n",
       "      <td>0.0</td>\n",
       "      <td>0.0</td>\n",
       "      <td>0.0</td>\n",
       "      <td>0.0</td>\n",
       "      <td>0.0</td>\n",
       "      <td>0.0</td>\n",
       "      <td>0.0</td>\n",
       "      <td>0.0</td>\n",
       "      <td>0.0</td>\n",
       "      <td>...</td>\n",
       "      <td>0.0</td>\n",
       "      <td>0.0</td>\n",
       "      <td>0.0</td>\n",
       "      <td>0.0</td>\n",
       "      <td>0.0</td>\n",
       "      <td>0.0</td>\n",
       "      <td>0.0</td>\n",
       "      <td>0.0</td>\n",
       "      <td>0.0</td>\n",
       "      <td>0.0</td>\n",
       "    </tr>\n",
       "    <tr>\n",
       "      <th>1</th>\n",
       "      <td>0.0</td>\n",
       "      <td>0.0</td>\n",
       "      <td>0.0</td>\n",
       "      <td>0.0</td>\n",
       "      <td>0.0</td>\n",
       "      <td>0.0</td>\n",
       "      <td>0.0</td>\n",
       "      <td>0.0</td>\n",
       "      <td>0.0</td>\n",
       "      <td>0.0</td>\n",
       "      <td>...</td>\n",
       "      <td>0.0</td>\n",
       "      <td>0.0</td>\n",
       "      <td>0.0</td>\n",
       "      <td>0.0</td>\n",
       "      <td>0.0</td>\n",
       "      <td>0.0</td>\n",
       "      <td>0.0</td>\n",
       "      <td>0.0</td>\n",
       "      <td>0.0</td>\n",
       "      <td>0.0</td>\n",
       "    </tr>\n",
       "    <tr>\n",
       "      <th>2</th>\n",
       "      <td>0.0</td>\n",
       "      <td>0.0</td>\n",
       "      <td>0.0</td>\n",
       "      <td>0.0</td>\n",
       "      <td>0.0</td>\n",
       "      <td>0.0</td>\n",
       "      <td>0.0</td>\n",
       "      <td>0.0</td>\n",
       "      <td>0.0</td>\n",
       "      <td>0.0</td>\n",
       "      <td>...</td>\n",
       "      <td>0.0</td>\n",
       "      <td>0.0</td>\n",
       "      <td>0.0</td>\n",
       "      <td>0.0</td>\n",
       "      <td>0.0</td>\n",
       "      <td>0.0</td>\n",
       "      <td>0.0</td>\n",
       "      <td>0.0</td>\n",
       "      <td>0.0</td>\n",
       "      <td>0.0</td>\n",
       "    </tr>\n",
       "    <tr>\n",
       "      <th>3</th>\n",
       "      <td>0.0</td>\n",
       "      <td>0.0</td>\n",
       "      <td>0.0</td>\n",
       "      <td>0.0</td>\n",
       "      <td>0.0</td>\n",
       "      <td>0.0</td>\n",
       "      <td>0.0</td>\n",
       "      <td>0.0</td>\n",
       "      <td>0.0</td>\n",
       "      <td>0.0</td>\n",
       "      <td>...</td>\n",
       "      <td>0.0</td>\n",
       "      <td>0.0</td>\n",
       "      <td>0.0</td>\n",
       "      <td>0.0</td>\n",
       "      <td>0.0</td>\n",
       "      <td>0.0</td>\n",
       "      <td>0.0</td>\n",
       "      <td>0.0</td>\n",
       "      <td>0.0</td>\n",
       "      <td>0.0</td>\n",
       "    </tr>\n",
       "    <tr>\n",
       "      <th>4</th>\n",
       "      <td>0.0</td>\n",
       "      <td>0.0</td>\n",
       "      <td>0.0</td>\n",
       "      <td>0.0</td>\n",
       "      <td>0.0</td>\n",
       "      <td>0.0</td>\n",
       "      <td>0.0</td>\n",
       "      <td>0.0</td>\n",
       "      <td>0.0</td>\n",
       "      <td>0.0</td>\n",
       "      <td>...</td>\n",
       "      <td>0.0</td>\n",
       "      <td>0.0</td>\n",
       "      <td>0.0</td>\n",
       "      <td>0.0</td>\n",
       "      <td>0.0</td>\n",
       "      <td>0.0</td>\n",
       "      <td>0.0</td>\n",
       "      <td>0.0</td>\n",
       "      <td>0.0</td>\n",
       "      <td>0.0</td>\n",
       "    </tr>\n",
       "  </tbody>\n",
       "</table>\n",
       "<p>5 rows × 22400 columns</p>\n",
       "</div>"
      ],
      "text/plain": [
       "   0      1      2      3      4      5      6      7      8      9      ...  \\\n",
       "0    0.0    0.0    0.0    0.0    0.0    0.0    0.0    0.0    0.0    0.0  ...   \n",
       "1    0.0    0.0    0.0    0.0    0.0    0.0    0.0    0.0    0.0    0.0  ...   \n",
       "2    0.0    0.0    0.0    0.0    0.0    0.0    0.0    0.0    0.0    0.0  ...   \n",
       "3    0.0    0.0    0.0    0.0    0.0    0.0    0.0    0.0    0.0    0.0  ...   \n",
       "4    0.0    0.0    0.0    0.0    0.0    0.0    0.0    0.0    0.0    0.0  ...   \n",
       "\n",
       "   22390  22391  22392  22393  22394  22395  22396  22397  22398  22399  \n",
       "0    0.0    0.0    0.0    0.0    0.0    0.0    0.0    0.0    0.0    0.0  \n",
       "1    0.0    0.0    0.0    0.0    0.0    0.0    0.0    0.0    0.0    0.0  \n",
       "2    0.0    0.0    0.0    0.0    0.0    0.0    0.0    0.0    0.0    0.0  \n",
       "3    0.0    0.0    0.0    0.0    0.0    0.0    0.0    0.0    0.0    0.0  \n",
       "4    0.0    0.0    0.0    0.0    0.0    0.0    0.0    0.0    0.0    0.0  \n",
       "\n",
       "[5 rows x 22400 columns]"
      ]
     },
     "execution_count": 63,
     "metadata": {},
     "output_type": "execute_result"
    }
   ],
   "source": [
    "df_ic_neg = pd.DataFrame(Ic_neg[2:])\n",
    "df_ic_neg.head()"
   ]
  },
  {
   "cell_type": "code",
   "execution_count": 64,
   "metadata": {},
   "outputs": [],
   "source": [
    "df_v_neg.to_csv('decilliated_v_neg.csv')\n",
    "df_ic_neg.to_csv('decilliated_ic_neg.csv')\n"
   ]
  },
  {
   "cell_type": "code",
   "execution_count": null,
   "metadata": {},
   "outputs": [],
   "source": []
  }
 ],
 "metadata": {
  "kernelspec": {
   "display_name": "brian_opt",
   "language": "python",
   "name": "brian_opt"
  },
  "language_info": {
   "codemirror_mode": {
    "name": "ipython",
    "version": 3
   },
   "file_extension": ".py",
   "mimetype": "text/x-python",
   "name": "python",
   "nbconvert_exporter": "python",
   "pygments_lexer": "ipython3",
   "version": "3.7.3"
  }
 },
 "nbformat": 4,
 "nbformat_minor": 2
}
