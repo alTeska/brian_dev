{
 "cells": [
  {
   "cell_type": "markdown",
   "metadata": {},
   "source": [
    "# Map Wrapper Development for Scipy Differential Equation\n",
    "\n",
    "Proof of concept notebook for first Scipy, since it only requires map not the o\n",
    "\n",
    "Error_function is a pass function.\n",
    "Our \"map\" takes care of initiating the whole neuron group, calculating the errors and returing the value."
   ]
  },
  {
   "cell_type": "markdown",
   "metadata": {},
   "source": [
    "```\n",
    "params, fits, error = fit_traces(model = model, input_var = 'v', output_var = 'I',\\\n",
    "                                 input = input_traces, output = output_traces,\n",
    "                                 dt = 0.1*ms, g = [1*nS, 30*nS], E = [-20*mV,100*mV],\n",
    "                                 tol = 1e-6)\n",
    "```"
   ]
  },
  {
   "cell_type": "code",
   "execution_count": 1,
   "metadata": {},
   "outputs": [],
   "source": [
    "import numpy as np\n",
    "import multiprocessing as mp\n",
    "\n",
    "from scipy.optimize import differential_evolution, rosen\n",
    "from scipy.optimize._differentialevolution import DifferentialEvolutionSolver\n",
    "\n",
    "from nevergrad.optimization import optimizerlib\n",
    "from concurrent import futures\n",
    "from nevergrad import instrumentation as inst"
   ]
  },
  {
   "cell_type": "code",
   "execution_count": 2,
   "metadata": {},
   "outputs": [],
   "source": [
    "from brian2 import *\n",
    "from brian2.equations.equations import (DIFFERENTIAL_EQUATION, Equations,\n",
    "                                        SingleEquation, PARAMETER)\n",
    "from brian2.input import TimedArray\n",
    "from brian2 import NeuronGroup, StateMonitor, store, restore, run, defaultclock, second, Quantity\n",
    "from brian2.stateupdaters.base import StateUpdateMethod\n",
    "\n"
   ]
  },
  {
   "cell_type": "markdown",
   "metadata": {},
   "source": [
    "#### Artificial Data"
   ]
  },
  {
   "cell_type": "code",
   "execution_count": 3,
   "metadata": {},
   "outputs": [],
   "source": [
    "params = np.array([\n",
    " [ 1.80869973e-08,  2.50218013e-02],\n",
    " [ 1.88373085e-08,  9.89559934e-02], \n",
    " [ 1.88373085e-08,  9.89559934e-02], \n",
    "])\n"
   ]
  },
  {
   "cell_type": "code",
   "execution_count": 4,
   "metadata": {},
   "outputs": [],
   "source": [
    "params2 = np.array([[ 1.12735759e-08,  8.81556360e-02],\n",
    " [ 9.04858783e-09,  8.03343489e-02],\n",
    " [ 1.60635907e-08,  1.59710651e-03],\n",
    " [ 1.66254878e-09,  2.95479385e-02],\n",
    " [ 1.80869973e-08,  2.50218013e-02],])"
   ]
  },
  {
   "cell_type": "markdown",
   "metadata": {},
   "source": [
    "### Input / Output"
   ]
  },
  {
   "cell_type": "code",
   "execution_count": 5,
   "metadata": {},
   "outputs": [],
   "source": [
    "input_traces = zeros((10,1))*volt\n",
    "for i in range(1):\n",
    "    input_traces[1:,i]=i*10*mV"
   ]
  },
  {
   "cell_type": "code",
   "execution_count": 6,
   "metadata": {},
   "outputs": [],
   "source": [
    "# Create target current traces\n",
    "output_traces = 10*nS*input_traces"
   ]
  },
  {
   "cell_type": "code",
   "execution_count": 7,
   "metadata": {},
   "outputs": [],
   "source": [
    "input = input_traces\n",
    "output = output_traces"
   ]
  },
  {
   "cell_type": "markdown",
   "metadata": {},
   "source": [
    "### Parameters "
   ]
  },
  {
   "cell_type": "code",
   "execution_count": 8,
   "metadata": {},
   "outputs": [],
   "source": [
    "input_var = 'v'\n",
    "output_var = 'I'\n",
    "\n",
    "parameter_names = {'g', 'E'}\n",
    "method = ('linear', 'exponential_euler', 'euler')\n",
    "t_start = 0*second\n",
    "popsize, _ = np.shape(params)\n",
    "dt = 0.1 *ms\n",
    "defaultclock.dt = dt"
   ]
  },
  {
   "cell_type": "markdown",
   "metadata": {},
   "source": [
    "### Calculation for inner parameters"
   ]
  },
  {
   "cell_type": "code",
   "execution_count": 9,
   "metadata": {},
   "outputs": [],
   "source": [
    "Nsteps, Ntraces = input_traces.shape\n",
    "# N = popsize * len(parameter_names)\n",
    "N = popsize\n",
    "duration = Nsteps*dt"
   ]
  },
  {
   "cell_type": "code",
   "execution_count": 10,
   "metadata": {},
   "outputs": [
    {
     "data": {
      "text/plain": [
       "3"
      ]
     },
     "execution_count": 10,
     "metadata": {},
     "output_type": "execute_result"
    }
   ],
   "source": [
    "N"
   ]
  },
  {
   "cell_type": "code",
   "execution_count": 11,
   "metadata": {},
   "outputs": [
    {
     "data": {
      "text/plain": [
       "1"
      ]
     },
     "execution_count": 11,
     "metadata": {},
     "output_type": "execute_result"
    }
   ],
   "source": [
    "Ntraces"
   ]
  },
  {
   "cell_type": "markdown",
   "metadata": {},
   "source": [
    "### Setup The Model for Optimization"
   ]
  },
  {
   "cell_type": "code",
   "execution_count": 12,
   "metadata": {},
   "outputs": [],
   "source": [
    "model = Equations('''\n",
    "I = g*(v-E) : amp\n",
    "g : siemens (constant)\n",
    "E : volt (constant)\n",
    "''')"
   ]
  },
  {
   "cell_type": "code",
   "execution_count": 13,
   "metadata": {},
   "outputs": [
    {
     "name": "stderr",
     "output_type": "stream",
     "text": [
      "INFO       No numerical integration method specified, using method 'linear' (took 0.01s). [brian2.stateupdaters.base.method_choice]\n"
     ]
    }
   ],
   "source": [
    "state_update_code = StateUpdateMethod.apply_stateupdater(model, {}, method=method)"
   ]
  },
  {
   "cell_type": "markdown",
   "metadata": {},
   "source": [
    "### Required Model Operations"
   ]
  },
  {
   "cell_type": "code",
   "execution_count": 14,
   "metadata": {},
   "outputs": [],
   "source": [
    "model_without_diffeq = Equations([eq for eq in model.ordered\n",
    "                                      if eq.type != DIFFERENTIAL_EQUATION])\n",
    "    \n",
    "# Add a parameter for each differential equation\n",
    "diffeq_params = Equations([SingleEquation(PARAMETER, varname, model.dimensions[varname])\n",
    "                           for varname in model.diff_eq_names])\n",
    "\n",
    "# Our new model:\n",
    "model = model_without_diffeq + diffeq_params\n",
    "\n",
    "# Replace input variable by TimedArray\n",
    "input_traces = TimedArray(input, dt = dt)"
   ]
  },
  {
   "cell_type": "code",
   "execution_count": 15,
   "metadata": {},
   "outputs": [],
   "source": [
    "input_unit = input.dim\n",
    "model = model + Equations(input_var + '= input_var(t,i % Ntraces) : '+ \"% s\" % repr(input_unit))\n",
    "\n",
    "# Add criterion with TimedArray\n",
    "output_traces = TimedArray(output, dt = dt)\n",
    "error_unit = output.dim**2\n",
    "model = model + Equations('total_error : %s' % repr(error_unit))"
   ]
  },
  {
   "cell_type": "code",
   "execution_count": 16,
   "metadata": {},
   "outputs": [],
   "source": [
    "neurons = NeuronGroup(Ntraces*N, model, method = method)\n",
    "neurons.namespace['input_var'] = input_traces\n",
    "neurons.namespace['output_var'] = output_traces\n",
    "neurons.namespace['t_start'] = t_start\n",
    "neurons.namespace['Ntraces'] = Ntraces\n",
    "\n",
    "# Record error\n",
    "neurons.run_regularly('total_error +=  (' + output_var + '-output_var(t,i % Ntraces))**2 * int(t>=t_start)',\n",
    "                      when='end')\n",
    "\n",
    "# Add the code doing the numerical integration\n",
    "neurons.run_regularly(state_update_code, when='groups')\n",
    "\n",
    "store()\n"
   ]
  },
  {
   "cell_type": "code",
   "execution_count": 17,
   "metadata": {},
   "outputs": [
    {
     "data": {
      "text/html": [
       "NeuronGroup \"neurongroup\" with 3 neurons.<br>\n",
       "<b>Model:</b><nr>\n",
       "\\begin{align*}v &= \\operatorname{input_{var}}{\\left(t,i\\bmod{Ntraces} \\right)} && \\text{(unit of $v$: $\\mathrm{V}$)}\\\\\n",
       "I &= g \\left(- E + v\\right) && \\text{(unit of $I$: $\\mathrm{A}$)}\\\\\n",
       "g &&& \\text{(unit: $\\mathrm{S}$, flags: constant)}\\\\\n",
       "E &&& \\text{(unit: $\\mathrm{V}$, flags: constant)}\\\\\n",
       "total_{error} &&& \\text{(unit: $\\mathrm{A^2}$)}\\end{align*}"
      ],
      "text/plain": [
       "NeuronGroup(clock=Clock(dt=100. * usecond, name='defaultclock'), when=start, order=0, name='neurongroup')"
      ]
     },
     "execution_count": 17,
     "metadata": {},
     "output_type": "execute_result"
    }
   ],
   "source": [
    "neurons"
   ]
  },
  {
   "cell_type": "markdown",
   "metadata": {},
   "source": [
    "### Dev Map Optimization "
   ]
  },
  {
   "cell_type": "markdown",
   "metadata": {},
   "source": [
    "### Create the Dictonaries of Parameters"
   ]
  },
  {
   "cell_type": "code",
   "execution_count": 18,
   "metadata": {},
   "outputs": [],
   "source": [
    "def parameters_dict(params):\n",
    "    d = dict()\n",
    "    for name, value in zip(parameter_names, params.T):\n",
    "        d[name] = value\n",
    "            \n",
    "    return d"
   ]
  },
  {
   "cell_type": "code",
   "execution_count": 19,
   "metadata": {},
   "outputs": [
    {
     "data": {
      "text/plain": [
       "{'g': array([1.80869973e-08, 1.88373085e-08, 1.88373085e-08]),\n",
       " 'E': array([0.0250218 , 0.09895599, 0.09895599])}"
      ]
     },
     "execution_count": 19,
     "metadata": {},
     "output_type": "execute_result"
    }
   ],
   "source": [
    "d = parameters_dict(params)\n",
    "d"
   ]
  },
  {
   "cell_type": "code",
   "execution_count": 20,
   "metadata": {},
   "outputs": [
    {
     "data": {
      "text/plain": [
       "{'N': array(3),\n",
       " 'i': array([0, 1, 2], dtype=int32),\n",
       " 't': 0. * second,\n",
       " 'dt': 100. * usecond,\n",
       " 't_in_timesteps': array(0),\n",
       " 'g': array([0., 0., 0.]) * siemens,\n",
       " 'E': array([0., 0., 0.]) * volt,\n",
       " 'total_error': array([0., 0., 0.]) * amp2}"
      ]
     },
     "execution_count": 20,
     "metadata": {},
     "output_type": "execute_result"
    }
   ],
   "source": [
    "neurons.get_states()"
   ]
  },
  {
   "cell_type": "code",
   "execution_count": 21,
   "metadata": {},
   "outputs": [
    {
     "data": {
      "text/plain": [
       "{'N': array(3),\n",
       " 'i': array([0, 1, 2], dtype=int32),\n",
       " 't': 0. * second,\n",
       " 'dt': 100. * usecond,\n",
       " 't_in_timesteps': array(0),\n",
       " 'g': array([18.0869973, 18.8373085, 18.8373085]) * nsiemens,\n",
       " 'E': array([25.0218013, 98.9559934, 98.9559934]) * mvolt,\n",
       " 'total_error': array([0., 0., 0.]) * amp2}"
      ]
     },
     "execution_count": 21,
     "metadata": {},
     "output_type": "execute_result"
    }
   ],
   "source": [
    "restore()\n",
    "neurons.set_states(d, units=False)\n",
    "neurons.get_states()"
   ]
  },
  {
   "cell_type": "code",
   "execution_count": 22,
   "metadata": {},
   "outputs": [],
   "source": [
    "run(duration, namespace = {})"
   ]
  },
  {
   "cell_type": "code",
   "execution_count": 23,
   "metadata": {},
   "outputs": [
    {
     "data": {
      "text/plain": [
       "array([2.04818928e-19, 3.47473674e-18, 3.47473674e-18])"
      ]
     },
     "execution_count": 23,
     "metadata": {},
     "output_type": "execute_result"
    }
   ],
   "source": [
    "e = neurons.total_error/int((duration-t_start)/defaultclock.dt)\n",
    "e = mean(e.reshape((N,Ntraces)),axis=1)\n",
    "array(e)"
   ]
  },
  {
   "cell_type": "markdown",
   "metadata": {},
   "source": [
    "## All of the above into one hard-coded function"
   ]
  },
  {
   "cell_type": "code",
   "execution_count": 24,
   "metadata": {},
   "outputs": [],
   "source": [
    "start_scope()"
   ]
  },
  {
   "cell_type": "code",
   "execution_count": 25,
   "metadata": {},
   "outputs": [],
   "source": [
    "model = Equations('''\n",
    "I = g*(v-E) : amp\n",
    "g : siemens (constant)\n",
    "E : volt (constant)\n",
    "''')"
   ]
  },
  {
   "cell_type": "code",
   "execution_count": 26,
   "metadata": {},
   "outputs": [],
   "source": [
    "state_update_code = StateUpdateMethod.apply_stateupdater(model, {}, method=method)"
   ]
  },
  {
   "cell_type": "code",
   "execution_count": 27,
   "metadata": {},
   "outputs": [],
   "source": [
    "model_without_diffeq = Equations([eq for eq in model.ordered\n",
    "                                      if eq.type != DIFFERENTIAL_EQUATION])\n",
    "    \n",
    "# Add a parameter for each differential equation\n",
    "diffeq_params = Equations([SingleEquation(PARAMETER, varname, model.dimensions[varname])\n",
    "                           for varname in model.diff_eq_names])\n",
    "\n",
    "# Our new model:\n",
    "model = model_without_diffeq + diffeq_params\n",
    "\n",
    "# Replace input variable by TimedArray\n",
    "input_traces = TimedArray(input, dt = dt)"
   ]
  },
  {
   "cell_type": "code",
   "execution_count": 28,
   "metadata": {},
   "outputs": [],
   "source": [
    "input_unit = input.dim\n",
    "model = model + Equations(input_var + '= input_var(t,i % Ntraces) : '+ \"% s\" % repr(input_unit))\n",
    "\n",
    "# Add criterion with TimedArray\n",
    "output_traces = TimedArray(output, dt = dt)\n",
    "error_unit = output.dim**2\n",
    "model = model + Equations('total_error : %s' % repr(error_unit))"
   ]
  },
  {
   "cell_type": "code",
   "execution_count": 29,
   "metadata": {},
   "outputs": [],
   "source": [
    "def calc_error(params):\n",
    "    print(params)\n",
    "    popsize, _ = np.shape(params)\n",
    "    N = popsize\n",
    "\n",
    "#     neurons = NeuronGroup(Ntraces*N, model, method = method)\n",
    "    neurons = NeuronGroup(N, model, method = method)\n",
    "    neurons.namespace['input_var'] = input_traces\n",
    "    neurons.namespace['output_var'] = output_traces\n",
    "    neurons.namespace['t_start'] = t_start\n",
    "    neurons.namespace['Ntraces'] = Ntraces\n",
    "\n",
    "    # Record error\n",
    "    neurons.run_regularly('total_error +=  (' + output_var + '-output_var(t,i % Ntraces))**2 * int(t>=t_start)',\n",
    "                          when='end')\n",
    "\n",
    "    # Add the code doing the numerical integration\n",
    "    neurons.run_regularly(state_update_code, when='groups')\n",
    "\n",
    "    d = parameters_dict(params)\n",
    "    neurons.set_states(d, units=False)\n",
    "    run(duration, namespace = {})\n",
    "\n",
    "    e = neurons.total_error/int((duration-t_start)/defaultclock.dt)\n",
    "    e = mean(e.reshape((N,Ntraces)),axis=1)\n",
    "    return array(e).T"
   ]
  },
  {
   "cell_type": "code",
   "execution_count": 30,
   "metadata": {},
   "outputs": [
    {
     "name": "stdout",
     "output_type": "stream",
     "text": [
      "[[1.12735759e-08 8.81556360e-02]\n",
      " [9.04858783e-09 8.03343489e-02]\n",
      " [1.60635907e-08 1.59710651e-03]\n",
      " [1.66254878e-09 2.95479385e-02]\n",
      " [1.80869973e-08 2.50218013e-02]]\n"
     ]
    },
    {
     "data": {
      "text/plain": [
       "array([9.87696585e-19, 5.28401654e-19, 6.58192637e-22, 2.41325473e-21,\n",
       "       2.04818928e-19])"
      ]
     },
     "execution_count": 30,
     "metadata": {},
     "output_type": "execute_result"
    }
   ],
   "source": [
    "calc_error(params2)"
   ]
  },
  {
   "cell_type": "markdown",
   "metadata": {},
   "source": [
    "## Try The Same with Differential Evolution from Scipy"
   ]
  },
  {
   "cell_type": "code",
   "execution_count": 31,
   "metadata": {},
   "outputs": [],
   "source": [
    "start_scope()"
   ]
  },
  {
   "cell_type": "code",
   "execution_count": 32,
   "metadata": {},
   "outputs": [],
   "source": [
    "model = Equations('''\n",
    "I = g*(v-E) : amp\n",
    "g : siemens (constant)\n",
    "E : volt (constant)\n",
    "''')"
   ]
  },
  {
   "cell_type": "code",
   "execution_count": 33,
   "metadata": {},
   "outputs": [],
   "source": [
    "state_update_code = StateUpdateMethod.apply_stateupdater(model, {}, method=method)"
   ]
  },
  {
   "cell_type": "code",
   "execution_count": 34,
   "metadata": {},
   "outputs": [],
   "source": [
    "model_without_diffeq = Equations([eq for eq in model.ordered\n",
    "                                      if eq.type != DIFFERENTIAL_EQUATION])\n",
    "    \n",
    "# Add a parameter for each differential equation\n",
    "diffeq_params = Equations([SingleEquation(PARAMETER, varname, model.dimensions[varname])\n",
    "                           for varname in model.diff_eq_names])\n",
    "\n",
    "# Our new model:\n",
    "model = model_without_diffeq + diffeq_params\n",
    "\n",
    "# Replace input variable by TimedArray\n",
    "input_traces = TimedArray(input, dt = dt)"
   ]
  },
  {
   "cell_type": "code",
   "execution_count": 35,
   "metadata": {},
   "outputs": [],
   "source": [
    "input_unit = input.dim\n",
    "model = model + Equations(input_var + '= input_var(t,i % Ntraces) : '+ \"% s\" % repr(input_unit))\n",
    "\n",
    "# Add criterion with TimedArray\n",
    "output_traces = TimedArray(output, dt = dt)\n",
    "error_unit = output.dim**2\n",
    "model = model + Equations('total_error : %s' % repr(error_unit))"
   ]
  },
  {
   "cell_type": "markdown",
   "metadata": {},
   "source": [
    "### Ask and Tel with calc_error Function"
   ]
  },
  {
   "cell_type": "code",
   "execution_count": 37,
   "metadata": {},
   "outputs": [],
   "source": [
    "arg1 = inst.var.Array(1).bounded(-5, 5).asscalar()\n",
    "arg2 = inst.var.Array(1).bounded(0, 10).asscalar()\n",
    "instrum = inst.Instrumentation(arg1, arg2)"
   ]
  },
  {
   "cell_type": "code",
   "execution_count": 38,
   "metadata": {},
   "outputs": [],
   "source": [
    "# pick the optimization method; budget = number of allowed evaluations\n",
    "optim = optimizerlib.registry['DE'](instrumentation=instrum, budget=10000, num_workers=2)"
   ]
  },
  {
   "cell_type": "code",
   "execution_count": 78,
   "metadata": {},
   "outputs": [
    {
     "data": {
      "text/plain": [
       "[[-0.8977993930323029, 1.75035854412906],\n",
       " [1.5586276417088412, 1.9948889456620322],\n",
       " [-2.076484183775389, 6.54745031743287],\n",
       " [-1.3415947720034402, 2.0297533842720465],\n",
       " [2.777495918792162, 6.626468992797089],\n",
       " [-1.8431581146083993, 1.2534851794991684],\n",
       " [-1.4489875924285205, 4.596787602221065],\n",
       " [3.44086608463614, 6.3906924474229],\n",
       " [0.21281001269756605, 7.56818173844709],\n",
       " [-3.5748448199950933, 4.804784164678763]]"
      ]
     },
     "execution_count": 78,
     "metadata": {},
     "output_type": "execute_result"
    }
   ],
   "source": [
    "n_samples = 10\n",
    "params = []\n",
    "\n",
    "for _ in range(n_samples):\n",
    "    cand = optim.ask()\n",
    "    params.append(list(cand.args))\n",
    "    \n",
    "params"
   ]
  },
  {
   "cell_type": "code",
   "execution_count": 88,
   "metadata": {},
   "outputs": [
    {
     "name": "stdout",
     "output_type": "stream",
     "text": [
      "[[-0.89779939  1.75035854]\n",
      " [ 1.55862764  1.99488895]\n",
      " [-2.07648418  6.54745032]\n",
      " [-1.34159477  2.02975338]\n",
      " [ 2.77749592  6.62646899]\n",
      " [-1.84315811  1.25348518]\n",
      " [-1.44898759  4.5967876 ]\n",
      " [ 3.44086608  6.39069245]\n",
      " [ 0.21281001  7.56818174]\n",
      " [-3.57484482  4.80478416]]\n"
     ]
    }
   ],
   "source": [
    "errors = calc_error(np.array(params))\n",
    "errors"
   ]
  },
  {
   "cell_type": "code",
   "execution_count": 92,
   "metadata": {},
   "outputs": [
    {
     "name": "stdout",
     "output_type": "stream",
     "text": [
      "Candidate(args=(2.5492653744515947, 8.217405039191796), kwargs={}) 2.469520596280959\n",
      "Candidate(args=(-3.04019557703552, 2.575170654002903), kwargs={}) 9.667678414161967\n",
      "Candidate(args=(-0.4896946760281114, 7.663318262685749), kwargs={}) 184.84243385524766\n",
      "Candidate(args=(3.7184965650971242, 7.643142903038951), kwargs={}) 7.415309167169591\n",
      "Candidate(args=(2.752800009397278, 7.793754179187996), kwargs={}) 338.74367837860297\n",
      "Candidate(args=(-0.2912003154746927, 2.278110616922909), kwargs={}) 5.337815914148098\n",
      "Candidate(args=(2.5930302573689348, 6.551607796220621), kwargs={}) 44.36476730624581\n",
      "Candidate(args=(0.5190581628111219, 4.514738007345433), kwargs={}) 483.5388534812149\n",
      "Candidate(args=(-0.12594335770807727, 8.177455086246518), kwargs={}) 2.5939835650293435\n",
      "Candidate(args=(3.1093787997319207, 7.468545172010227), kwargs={}) 295.02726666545146\n"
     ]
    }
   ],
   "source": [
    "for i, candidate in enumerate(candidates):\n",
    "    value = errors[i]\n",
    "    optim.tell(candidate, value)\n",
    "    \n",
    "    print(candidate, value)\n"
   ]
  },
  {
   "cell_type": "code",
   "execution_count": 98,
   "metadata": {},
   "outputs": [
    {
     "data": {
      "text/plain": [
       "[2.5492653744515947, 8.217405039191796]"
      ]
     },
     "execution_count": 98,
     "metadata": {},
     "output_type": "execute_result"
    }
   ],
   "source": [
    "ans = optim.provide_recommendation()\n",
    "list(ans.args)"
   ]
  },
  {
   "cell_type": "markdown",
   "metadata": {},
   "source": [
    "# Translate To Big Ugly Function"
   ]
  },
  {
   "cell_type": "code",
   "execution_count": 99,
   "metadata": {},
   "outputs": [
    {
     "name": "stdout",
     "output_type": "stream",
     "text": [
      "[[ 3.15074886  8.21740504]\n",
      " [ 1.87744565  2.57517065]\n",
      " [-0.48969468  7.92771073]\n",
      " [ 3.64127577  9.27582324]\n",
      " [ 3.54288754  7.83832004]\n",
      " [ 4.02645529  2.27811062]\n",
      " [ 2.59303026  8.41961438]\n",
      " [-0.1489514   7.0455189 ]\n",
      " [ 2.79560434  8.41136261]\n",
      " [ 3.96604687  3.4605173 ]]\n"
     ]
    },
    {
     "data": {
      "text/plain": [
       "[-3.04019557703552, 2.575170654002903]"
      ]
     },
     "execution_count": 99,
     "metadata": {},
     "output_type": "execute_result"
    }
   ],
   "source": [
    "n_samples = 10\n",
    "params = []\n",
    "\n",
    "\n",
    "\n",
    "for _ in range(n_samples):\n",
    "    cand = optim.ask()\n",
    "    params.append(list(cand.args))\n",
    "\n",
    "errors = calc_error(np.array(params))\n",
    "\n",
    "for i, candidate in enumerate(candidates):\n",
    "    value = errors[i]\n",
    "    optim.tell(candidate, value)\n",
    "    \n",
    "ans = optim.provide_recommendation()"
   ]
  }
 ],
 "metadata": {
  "kernelspec": {
   "display_name": "brian_opt",
   "language": "python",
   "name": "brian_opt"
  },
  "language_info": {
   "codemirror_mode": {
    "name": "ipython",
    "version": 3
   },
   "file_extension": ".py",
   "mimetype": "text/x-python",
   "name": "python",
   "nbconvert_exporter": "python",
   "pygments_lexer": "ipython3",
   "version": "3.7.3"
  }
 },
 "nbformat": 4,
 "nbformat_minor": 2
}
