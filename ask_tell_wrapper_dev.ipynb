{
 "cells": [
  {
   "cell_type": "markdown",
   "metadata": {},
   "source": [
    "# Map Wrapper Development for Scipy Differential Equation\n",
    "\n",
    "Proof of concept notebook for first Scipy, since it only requires map not the o\n",
    "\n",
    "Error_function is a pass function.\n",
    "Our \"map\" takes care of initiating the whole neuron group, calculating the errors and returing the value."
   ]
  },
  {
   "cell_type": "markdown",
   "metadata": {},
   "source": [
    "```\n",
    "params, fits, error = fit_traces(model = model, input_var = 'v', output_var = 'I',\\\n",
    "                                 input = input_traces, output = output_traces,\n",
    "                                 dt = 0.1*ms, g = [1*nS, 30*nS], E = [-20*mV,100*mV],\n",
    "                                 tol = 1e-6)\n",
    "```"
   ]
  },
  {
   "cell_type": "code",
   "execution_count": 1,
   "metadata": {},
   "outputs": [],
   "source": [
    "import numpy as np\n",
    "import multiprocessing as mp"
   ]
  },
  {
   "cell_type": "code",
   "execution_count": 2,
   "metadata": {},
   "outputs": [],
   "source": [
    "# from scipy.optimize import differential_evolution, rosen\n",
    "# from scipy.optimize._differentialevolution import DifferentialEvolutionSolver"
   ]
  },
  {
   "cell_type": "code",
   "execution_count": 3,
   "metadata": {},
   "outputs": [],
   "source": [
    "from nevergrad.optimization import optimizerlib\n",
    "from concurrent import futures\n",
    "from nevergrad import instrumentation as inst"
   ]
  },
  {
   "cell_type": "code",
   "execution_count": 4,
   "metadata": {},
   "outputs": [],
   "source": [
    "from brian2 import *\n",
    "from brian2.equations.equations import (DIFFERENTIAL_EQUATION, Equations,\n",
    "                                        SingleEquation, PARAMETER)\n",
    "from brian2.input import TimedArray\n",
    "from brian2 import NeuronGroup, StateMonitor, store, restore, run, defaultclock, second, Quantity\n",
    "from brian2.stateupdaters.base import StateUpdateMethod\n",
    "\n"
   ]
  },
  {
   "cell_type": "markdown",
   "metadata": {},
   "source": [
    "#### Define Artificial Data for Func Dev"
   ]
  },
  {
   "cell_type": "code",
   "execution_count": 5,
   "metadata": {},
   "outputs": [],
   "source": [
    "params = np.array([\n",
    " [ 1.80869973e-08,  2.50218013e-02],\n",
    " [ 1.88373085e-08,  9.89559934e-02], \n",
    " [ 1.88373085e-08,  9.89559934e-02], \n",
    "])\n"
   ]
  },
  {
   "cell_type": "code",
   "execution_count": 6,
   "metadata": {},
   "outputs": [],
   "source": [
    "params2 = np.array([[ 1.12735759e-08,  8.81556360e-02],\n",
    " [ 9.04858783e-09,  8.03343489e-02],\n",
    " [ 1.60635907e-08,  1.59710651e-03],\n",
    " [ 1.66254878e-09,  2.95479385e-02],\n",
    " [ 1.80869973e-08,  2.50218013e-02],])"
   ]
  },
  {
   "cell_type": "markdown",
   "metadata": {},
   "source": [
    "### Input / Output"
   ]
  },
  {
   "cell_type": "code",
   "execution_count": 7,
   "metadata": {},
   "outputs": [],
   "source": [
    "input_traces = zeros((10,1))*volt\n",
    "for i in range(1):\n",
    "    input_traces[1:,i]=i*10*mV"
   ]
  },
  {
   "cell_type": "code",
   "execution_count": 8,
   "metadata": {},
   "outputs": [],
   "source": [
    "# Create target current traces\n",
    "output_traces = 10*nS*input_traces"
   ]
  },
  {
   "cell_type": "code",
   "execution_count": 9,
   "metadata": {},
   "outputs": [],
   "source": [
    "input = input_traces\n",
    "output = output_traces"
   ]
  },
  {
   "cell_type": "markdown",
   "metadata": {},
   "source": [
    "### Parameters "
   ]
  },
  {
   "cell_type": "code",
   "execution_count": 10,
   "metadata": {},
   "outputs": [],
   "source": [
    "input_var = 'v'\n",
    "output_var = 'I'\n",
    "\n",
    "parameter_names = {'g', 'E'}\n",
    "method = ('linear', 'exponential_euler', 'euler')\n",
    "t_start = 0*second\n",
    "popsize, _ = np.shape(params)\n",
    "dt = 0.1 *ms\n",
    "defaultclock.dt = dt"
   ]
  },
  {
   "cell_type": "markdown",
   "metadata": {},
   "source": [
    "### Calculation for inner parameters"
   ]
  },
  {
   "cell_type": "code",
   "execution_count": 11,
   "metadata": {},
   "outputs": [],
   "source": [
    "Nsteps, Ntraces = input_traces.shape\n",
    "# N = popsize * len(parameter_names)\n",
    "N = popsize\n",
    "duration = Nsteps*dt"
   ]
  },
  {
   "cell_type": "code",
   "execution_count": 12,
   "metadata": {},
   "outputs": [
    {
     "data": {
      "text/plain": [
       "3"
      ]
     },
     "execution_count": 12,
     "metadata": {},
     "output_type": "execute_result"
    }
   ],
   "source": [
    "N"
   ]
  },
  {
   "cell_type": "code",
   "execution_count": 13,
   "metadata": {},
   "outputs": [
    {
     "data": {
      "text/plain": [
       "1"
      ]
     },
     "execution_count": 13,
     "metadata": {},
     "output_type": "execute_result"
    }
   ],
   "source": [
    "Ntraces"
   ]
  },
  {
   "cell_type": "markdown",
   "metadata": {},
   "source": [
    "### Setup The Model for Optimization"
   ]
  },
  {
   "cell_type": "code",
   "execution_count": 14,
   "metadata": {},
   "outputs": [],
   "source": [
    "model = Equations('''\n",
    "I = g*(v-E) : amp\n",
    "g : siemens (constant)\n",
    "E : volt (constant)\n",
    "''')"
   ]
  },
  {
   "cell_type": "code",
   "execution_count": 15,
   "metadata": {},
   "outputs": [
    {
     "name": "stderr",
     "output_type": "stream",
     "text": [
      "INFO       No numerical integration method specified, using method 'linear' (took 0.02s). [brian2.stateupdaters.base.method_choice]\n"
     ]
    }
   ],
   "source": [
    "state_update_code = StateUpdateMethod.apply_stateupdater(model, {}, method=method)"
   ]
  },
  {
   "cell_type": "markdown",
   "metadata": {},
   "source": [
    "### Required Model Operations"
   ]
  },
  {
   "cell_type": "code",
   "execution_count": 16,
   "metadata": {},
   "outputs": [],
   "source": [
    "model_without_diffeq = Equations([eq for eq in model.ordered\n",
    "                                      if eq.type != DIFFERENTIAL_EQUATION])\n",
    "    \n",
    "# Add a parameter for each differential equation\n",
    "diffeq_params = Equations([SingleEquation(PARAMETER, varname, model.dimensions[varname])\n",
    "                           for varname in model.diff_eq_names])\n",
    "\n",
    "# Our new model:\n",
    "model = model_without_diffeq + diffeq_params\n",
    "\n",
    "# Replace input variable by TimedArray\n",
    "input_traces = TimedArray(input, dt = dt)"
   ]
  },
  {
   "cell_type": "code",
   "execution_count": 17,
   "metadata": {},
   "outputs": [],
   "source": [
    "input_unit = input.dim\n",
    "model = model + Equations(input_var + '= input_var(t,i % Ntraces) : '+ \"% s\" % repr(input_unit))\n",
    "\n",
    "# Add criterion with TimedArray\n",
    "output_traces = TimedArray(output, dt = dt)\n",
    "error_unit = output.dim**2\n",
    "model = model + Equations('total_error : %s' % repr(error_unit))"
   ]
  },
  {
   "cell_type": "code",
   "execution_count": 18,
   "metadata": {},
   "outputs": [],
   "source": [
    "neurons = NeuronGroup(Ntraces*N, model, method = method)\n",
    "neurons.namespace['input_var'] = input_traces\n",
    "neurons.namespace['output_var'] = output_traces\n",
    "neurons.namespace['t_start'] = t_start\n",
    "neurons.namespace['Ntraces'] = Ntraces"
   ]
  },
  {
   "cell_type": "markdown",
   "metadata": {},
   "source": [
    "#### Record error  \n",
    "additional differential equation calculating the error"
   ]
  },
  {
   "cell_type": "code",
   "execution_count": 19,
   "metadata": {},
   "outputs": [],
   "source": [
    "neurons.run_regularly('total_error +=  (' + output_var + '-output_var(t,i % Ntraces))**2 * int(t>=t_start)',\n",
    "                      when='end')\n",
    "\n",
    "# Add the code doing the numerical integration\n",
    "neurons.run_regularly(state_update_code, when='groups')\n",
    "\n",
    "# store the state of the network\n",
    "store()"
   ]
  },
  {
   "cell_type": "code",
   "execution_count": 20,
   "metadata": {},
   "outputs": [
    {
     "data": {
      "text/html": [
       "NeuronGroup \"neurongroup\" with 3 neurons.<br>\n",
       "<b>Model:</b><nr>\n",
       "\\begin{align*}v &= \\operatorname{input_{var}}{\\left(t,i\\bmod{Ntraces} \\right)} && \\text{(unit of $v$: $\\mathrm{V}$)}\\\\\n",
       "I &= g \\left(- E + v\\right) && \\text{(unit of $I$: $\\mathrm{A}$)}\\\\\n",
       "g &&& \\text{(unit: $\\mathrm{S}$, flags: constant)}\\\\\n",
       "E &&& \\text{(unit: $\\mathrm{V}$, flags: constant)}\\\\\n",
       "total_{error} &&& \\text{(unit: $\\mathrm{A^2}$)}\\end{align*}"
      ],
      "text/plain": [
       "NeuronGroup(clock=Clock(dt=100. * usecond, name='defaultclock'), when=start, order=0, name='neurongroup')"
      ]
     },
     "execution_count": 20,
     "metadata": {},
     "output_type": "execute_result"
    }
   ],
   "source": [
    "neurons"
   ]
  },
  {
   "cell_type": "markdown",
   "metadata": {},
   "source": [
    "### Dev Map Optimization "
   ]
  },
  {
   "cell_type": "markdown",
   "metadata": {},
   "source": [
    "### Create the Dictonaries of Parameters"
   ]
  },
  {
   "cell_type": "code",
   "execution_count": 21,
   "metadata": {},
   "outputs": [],
   "source": [
    "def parameters_dict(params):\n",
    "    d = dict()\n",
    "    for name, value in zip(parameter_names, params.T):\n",
    "        d[name] = value\n",
    "             \n",
    "    return d"
   ]
  },
  {
   "cell_type": "code",
   "execution_count": 22,
   "metadata": {},
   "outputs": [
    {
     "data": {
      "text/plain": [
       "array([[1.80869973e-08, 2.50218013e-02],\n",
       "       [1.88373085e-08, 9.89559934e-02],\n",
       "       [1.88373085e-08, 9.89559934e-02]])"
      ]
     },
     "execution_count": 22,
     "metadata": {},
     "output_type": "execute_result"
    }
   ],
   "source": [
    "params"
   ]
  },
  {
   "cell_type": "code",
   "execution_count": 23,
   "metadata": {},
   "outputs": [
    {
     "data": {
      "text/plain": [
       "{'E': array([1.80869973e-08, 1.88373085e-08, 1.88373085e-08]),\n",
       " 'g': array([0.0250218 , 0.09895599, 0.09895599])}"
      ]
     },
     "execution_count": 23,
     "metadata": {},
     "output_type": "execute_result"
    }
   ],
   "source": [
    "d = parameters_dict(params)\n",
    "d"
   ]
  },
  {
   "cell_type": "code",
   "execution_count": 24,
   "metadata": {},
   "outputs": [
    {
     "data": {
      "text/plain": [
       "{'N': array(3),\n",
       " 'i': array([0, 1, 2], dtype=int32),\n",
       " 't': 0. * second,\n",
       " 'dt': 100. * usecond,\n",
       " 't_in_timesteps': array(0),\n",
       " 'g': array([0., 0., 0.]) * siemens,\n",
       " 'E': array([0., 0., 0.]) * volt,\n",
       " 'total_error': array([0., 0., 0.]) * amp2}"
      ]
     },
     "execution_count": 24,
     "metadata": {},
     "output_type": "execute_result"
    }
   ],
   "source": [
    "neurons.get_states()"
   ]
  },
  {
   "cell_type": "markdown",
   "metadata": {},
   "source": [
    "#### Set Neurons state to restored NeuronGroup"
   ]
  },
  {
   "cell_type": "code",
   "execution_count": 25,
   "metadata": {},
   "outputs": [
    {
     "data": {
      "text/plain": [
       "{'N': array(3),\n",
       " 'i': array([0, 1, 2], dtype=int32),\n",
       " 't': 0. * second,\n",
       " 'dt': 100. * usecond,\n",
       " 't_in_timesteps': array(0),\n",
       " 'g': array([25.0218013, 98.9559934, 98.9559934]) * msiemens,\n",
       " 'E': array([18.0869973, 18.8373085, 18.8373085]) * nvolt,\n",
       " 'total_error': array([0., 0., 0.]) * amp2}"
      ]
     },
     "execution_count": 25,
     "metadata": {},
     "output_type": "execute_result"
    }
   ],
   "source": [
    "restore()\n",
    "neurons.set_states(d, units=False)\n",
    "neurons.get_states()"
   ]
  },
  {
   "cell_type": "markdown",
   "metadata": {},
   "source": [
    "### Run the Simulation with calculated error"
   ]
  },
  {
   "cell_type": "code",
   "execution_count": 26,
   "metadata": {},
   "outputs": [],
   "source": [
    "run(duration, namespace = {})"
   ]
  },
  {
   "cell_type": "markdown",
   "metadata": {},
   "source": [
    "#### Return the error"
   ]
  },
  {
   "cell_type": "code",
   "execution_count": 27,
   "metadata": {},
   "outputs": [
    {
     "data": {
      "text/plain": [
       "array([2.04818928e-19, 3.47473674e-18, 3.47473674e-18])"
      ]
     },
     "execution_count": 27,
     "metadata": {},
     "output_type": "execute_result"
    }
   ],
   "source": [
    "e = neurons.total_error/int((duration-t_start)/defaultclock.dt)\n",
    "e = mean(e.reshape((N,Ntraces)),axis=1)\n",
    "array(e)"
   ]
  },
  {
   "cell_type": "markdown",
   "metadata": {},
   "source": [
    "## All of the above into one hard-coded function"
   ]
  },
  {
   "cell_type": "code",
   "execution_count": null,
   "metadata": {},
   "outputs": [],
   "source": [
    "start_scope()"
   ]
  },
  {
   "cell_type": "markdown",
   "metadata": {},
   "source": [
    "#### model setup"
   ]
  },
  {
   "cell_type": "code",
   "execution_count": null,
   "metadata": {},
   "outputs": [],
   "source": [
    "model = Equations('''\n",
    "I = g*(v-E) : amp\n",
    "g : siemens (constant)\n",
    "E : volt (constant)\n",
    "''')"
   ]
  },
  {
   "cell_type": "code",
   "execution_count": null,
   "metadata": {},
   "outputs": [],
   "source": [
    "state_update_code = StateUpdateMethod.apply_stateupdater(model, {}, method=method)"
   ]
  },
  {
   "cell_type": "code",
   "execution_count": null,
   "metadata": {},
   "outputs": [],
   "source": [
    "model_without_diffeq = Equations([eq for eq in model.ordered\n",
    "                                      if eq.type != DIFFERENTIAL_EQUATION])\n",
    "    \n",
    "# Add a parameter for each differential equation\n",
    "diffeq_params = Equations([SingleEquation(PARAMETER, varname, model.dimensions[varname])\n",
    "                           for varname in model.diff_eq_names])\n",
    "\n",
    "# Our new model:\n",
    "model = model_without_diffeq + diffeq_params\n",
    "\n",
    "# Replace input variable by TimedArray\n",
    "input_traces = TimedArray(input, dt = dt)"
   ]
  },
  {
   "cell_type": "code",
   "execution_count": null,
   "metadata": {},
   "outputs": [],
   "source": [
    "input_unit = input.dim\n",
    "model = model + Equations(input_var + '= input_var(t,i % Ntraces) : '+ \"% s\" % repr(input_unit))\n",
    "\n",
    "# Add criterion with TimedArray\n",
    "output_traces = TimedArray(output, dt = dt)\n",
    "error_unit = output.dim**2\n",
    "model = model + Equations('total_error : %s' % repr(error_unit))"
   ]
  },
  {
   "cell_type": "markdown",
   "metadata": {},
   "source": [
    "### Model Fitting"
   ]
  },
  {
   "cell_type": "code",
   "execution_count": 47,
   "metadata": {},
   "outputs": [],
   "source": [
    "def calc_error(params):\n",
    "    print(params)\n",
    "    popsize, _ = np.shape(params)\n",
    "    N = popsize\n",
    "\n",
    "#     neurons = NeuronGroup(Ntraces*N, model, method = method)\n",
    "    neurons = NeuronGroup(N, model, method = method)\n",
    "    neurons.namespace['input_var'] = input_traces\n",
    "    neurons.namespace['output_var'] = output_traces\n",
    "    neurons.namespace['t_start'] = t_start\n",
    "    neurons.namespace['Ntraces'] = Ntraces\n",
    "\n",
    "    # Record error\n",
    "    neurons.run_regularly('total_error +=  (' + output_var + '-output_var(t,i % Ntraces))**2 * int(t>=t_start)',\n",
    "                          when='end')\n",
    "\n",
    "    # Add the code doing the numerical integration\n",
    "    neurons.run_regularly(state_update_code, when='groups')\n",
    "\n",
    "    d = parameters_dict(params)\n",
    "    neurons.set_states(d, units=False)\n",
    "    run(duration, namespace = {})\n",
    "\n",
    "    e = neurons.total_error/int((duration-t_start)/defaultclock.dt)\n",
    "    e = mean(e.reshape((N,Ntraces)),axis=1)\n",
    "    \n",
    "    return array(e)"
   ]
  },
  {
   "cell_type": "code",
   "execution_count": 48,
   "metadata": {},
   "outputs": [
    {
     "name": "stdout",
     "output_type": "stream",
     "text": [
      "[[1.12735759e-08 8.81556360e-02]\n",
      " [9.04858783e-09 8.03343489e-02]\n",
      " [1.60635907e-08 1.59710651e-03]\n",
      " [1.66254878e-09 2.95479385e-02]\n",
      " [1.80869973e-08 2.50218013e-02]]\n"
     ]
    },
    {
     "data": {
      "text/plain": [
       "array([9.87696585e-19, 5.28401654e-19, 6.58192637e-22, 2.41325473e-21,\n",
       "       2.04818928e-19])"
      ]
     },
     "execution_count": 48,
     "metadata": {},
     "output_type": "execute_result"
    }
   ],
   "source": [
    "calc_error(params2)"
   ]
  },
  {
   "cell_type": "markdown",
   "metadata": {},
   "source": [
    "## Try The Same with Differential Evolution from Nevergrad"
   ]
  },
  {
   "cell_type": "code",
   "execution_count": 49,
   "metadata": {},
   "outputs": [],
   "source": [
    "start_scope()"
   ]
  },
  {
   "cell_type": "code",
   "execution_count": 50,
   "metadata": {},
   "outputs": [],
   "source": [
    "model = Equations('''\n",
    "I = g*(v-E) : amp\n",
    "g : siemens (constant)\n",
    "E : volt (constant)\n",
    "''')"
   ]
  },
  {
   "cell_type": "code",
   "execution_count": 51,
   "metadata": {},
   "outputs": [],
   "source": [
    "state_update_code = StateUpdateMethod.apply_stateupdater(model, {}, method=method)"
   ]
  },
  {
   "cell_type": "code",
   "execution_count": 52,
   "metadata": {},
   "outputs": [],
   "source": [
    "model_without_diffeq = Equations([eq for eq in model.ordered\n",
    "                                      if eq.type != DIFFERENTIAL_EQUATION])\n",
    "    \n",
    "# Add a parameter for each differential equation\n",
    "diffeq_params = Equations([SingleEquation(PARAMETER, varname, model.dimensions[varname])\n",
    "                           for varname in model.diff_eq_names])\n",
    "\n",
    "# Our new model:\n",
    "model = model_without_diffeq + diffeq_params\n",
    "\n",
    "# Replace input variable by TimedArray\n",
    "input_traces = TimedArray(input, dt = dt)"
   ]
  },
  {
   "cell_type": "code",
   "execution_count": 53,
   "metadata": {},
   "outputs": [],
   "source": [
    "input_unit = input.dim\n",
    "model = model + Equations(input_var + '= input_var(t,i % Ntraces) : '+ \"% s\" % repr(input_unit))\n",
    "\n",
    "# Add criterion with TimedArray\n",
    "output_traces = TimedArray(output, dt = dt)\n",
    "error_unit = output.dim**2\n",
    "model = model + Equations('total_error : %s' % repr(error_unit))"
   ]
  },
  {
   "cell_type": "markdown",
   "metadata": {},
   "source": [
    "### Ask and Tel with calc_error Function"
   ]
  },
  {
   "cell_type": "markdown",
   "metadata": {},
   "source": [
    "#### Setup instrumentation"
   ]
  },
  {
   "cell_type": "code",
   "execution_count": 54,
   "metadata": {},
   "outputs": [],
   "source": [
    "arg1 = inst.var.Array(1).bounded(-5, 5).asscalar()\n",
    "arg2 = inst.var.Array(1).bounded(0, 10).asscalar()\n",
    "instrum = inst.Instrumentation(arg1, arg2)"
   ]
  },
  {
   "cell_type": "code",
   "execution_count": 60,
   "metadata": {},
   "outputs": [],
   "source": [
    "# pick the optimization method; budget = number of allowed evaluations\n",
    "optim = optimizerlib.registry['DE'](instrumentation=instrum, budget=10000, num_workers=10)"
   ]
  },
  {
   "cell_type": "markdown",
   "metadata": {},
   "source": [
    "#### Use ask to get the parameters"
   ]
  },
  {
   "cell_type": "code",
   "execution_count": 61,
   "metadata": {},
   "outputs": [
    {
     "data": {
      "text/plain": [
       "[[0.3967107218048024, 3.486083629274972],\n",
       " [-1.624432470278361, 6.909907522043067],\n",
       " [3.376760914565943, 4.840959277299572],\n",
       " [1.5655850913673504, 4.320353545659024],\n",
       " [-3.439642941016359, 6.2016523184372225],\n",
       " [-2.0283701127369786, 2.083547145622724],\n",
       " [0.631566072262328, 7.622725257999506],\n",
       " [-1.0376633893741252, 5.9177952556301445],\n",
       " [0.28279202859788516, 3.926122775289299],\n",
       " [2.5833895037449928, 3.2007007652956103]]"
      ]
     },
     "execution_count": 61,
     "metadata": {},
     "output_type": "execute_result"
    }
   ],
   "source": [
    "n_samples = 10\n",
    "params = []\n",
    "candidates = []\n",
    "\n",
    "for _ in range(n_samples):\n",
    "    \n",
    "    cand = optim.ask()\n",
    "    candidates.append(cand)\n",
    "    params.append(list(cand.args))\n",
    "    \n",
    "params"
   ]
  },
  {
   "cell_type": "markdown",
   "metadata": {},
   "source": [
    "### Calculate error with NetworkGroup"
   ]
  },
  {
   "cell_type": "code",
   "execution_count": 62,
   "metadata": {},
   "outputs": [
    {
     "name": "stdout",
     "output_type": "stream",
     "text": [
      "[[ 0.39671072  3.48608363]\n",
      " [-1.62443247  6.90990752]\n",
      " [ 3.37676091  4.84095928]\n",
      " [ 1.56558509  4.32035355]\n",
      " [-3.43964294  6.20165232]\n",
      " [-2.02837011  2.08354715]\n",
      " [ 0.63156607  7.62272526]\n",
      " [-1.03766339  5.91779526]\n",
      " [ 0.28279203  3.92612278]\n",
      " [ 2.5833895   3.20070077]]\n"
     ]
    },
    {
     "data": {
      "text/plain": [
       "array([  1.91259704, 125.99339947, 267.21663039,  45.75008754,\n",
       "       455.03159614,  17.86080666,  23.17704785,  37.70794451,\n",
       "         1.23271329,  68.37068464])"
      ]
     },
     "execution_count": 62,
     "metadata": {},
     "output_type": "execute_result"
    }
   ],
   "source": [
    "errors = calc_error(np.array(params))\n",
    "errors"
   ]
  },
  {
   "cell_type": "markdown",
   "metadata": {},
   "source": [
    "### Use tell to give the errors to Nevergrad"
   ]
  },
  {
   "cell_type": "code",
   "execution_count": 63,
   "metadata": {},
   "outputs": [
    {
     "name": "stdout",
     "output_type": "stream",
     "text": [
      "Candidate(args=(0.3967107218048024, 3.486083629274972), kwargs={}) 1.9125970394651817\n",
      "Candidate(args=(-1.624432470278361, 6.909907522043067), kwargs={}) 125.99339946843654\n",
      "Candidate(args=(3.376760914565943, 4.840959277299572), kwargs={}) 267.21663038866023\n",
      "Candidate(args=(1.5655850913673504, 4.320353545659024), kwargs={}) 45.75008754196945\n",
      "Candidate(args=(-3.439642941016359, 6.2016523184372225), kwargs={}) 455.03159613833134\n",
      "Candidate(args=(-2.0283701127369786, 2.083547145622724), kwargs={}) 17.860806662116833\n",
      "Candidate(args=(0.631566072262328, 7.622725257999506), kwargs={}) 23.17704784592288\n",
      "Candidate(args=(-1.0376633893741252, 5.9177952556301445), kwargs={}) 37.70794450777031\n",
      "Candidate(args=(0.28279202859788516, 3.926122775289299), kwargs={}) 1.232713293909272\n",
      "Candidate(args=(2.5833895037449928, 3.2007007652956103), kwargs={}) 68.37068464269542\n"
     ]
    }
   ],
   "source": [
    "for i, candidate in enumerate(candidates):\n",
    "    value = errors[i]\n",
    "    optim.tell(candidate, value)\n",
    "    \n",
    "    print(candidate, value)"
   ]
  },
  {
   "cell_type": "code",
   "execution_count": 64,
   "metadata": {},
   "outputs": [
    {
     "data": {
      "text/plain": [
       "[0.28279202859788516, 3.926122775289299]"
      ]
     },
     "execution_count": 64,
     "metadata": {},
     "output_type": "execute_result"
    }
   ],
   "source": [
    "ans = optim.provide_recommendation()\n",
    "list(ans.args)"
   ]
  },
  {
   "cell_type": "code",
   "execution_count": null,
   "metadata": {},
   "outputs": [],
   "source": [
    "    "
   ]
  }
 ],
 "metadata": {
  "kernelspec": {
   "display_name": "brian_opt",
   "language": "python",
   "name": "brian_opt"
  },
  "language_info": {
   "codemirror_mode": {
    "name": "ipython",
    "version": 3
   },
   "file_extension": ".py",
   "mimetype": "text/x-python",
   "name": "python",
   "nbconvert_exporter": "python",
   "pygments_lexer": "ipython3",
   "version": "3.7.3"
  }
 },
 "nbformat": 4,
 "nbformat_minor": 2
}
