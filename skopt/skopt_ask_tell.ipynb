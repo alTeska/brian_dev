{
 "cells": [
  {
   "cell_type": "markdown",
   "metadata": {},
   "source": [
    "# Test SkOpt with ask () tell() and Neuron Group"
   ]
  },
  {
   "cell_type": "markdown",
   "metadata": {},
   "source": [
    "### Example from their git"
   ]
  },
  {
   "cell_type": "code",
   "execution_count": 1,
   "metadata": {},
   "outputs": [],
   "source": [
    "import numpy as np\n",
    "\n",
    "from brian2 import *\n",
    "from brian2.equations.equations import (DIFFERENTIAL_EQUATION, Equations,\n",
    "                                        SingleEquation, PARAMETER)\n",
    "from brian2.input import TimedArray\n",
    "from brian2 import NeuronGroup, StateMonitor, store, restore, run, defaultclock, second, Quantity\n",
    "from brian2.stateupdaters.base import StateUpdateMethod\n",
    "\n"
   ]
  },
  {
   "cell_type": "code",
   "execution_count": 2,
   "metadata": {},
   "outputs": [
    {
     "name": "stderr",
     "output_type": "stream",
     "text": [
      "WARNING    /home/alteska/anaconda3/envs/brian_opt/lib/python3.7/site-packages/sklearn/externals/joblib/__init__.py:15: DeprecationWarning: sklearn.externals.joblib is deprecated in 0.21 and will be removed in 0.23. Please import this functionality directly from joblib, which can be installed with: pip install joblib. If this warning is raised when loading pickled models, you may need to re-serialize those models with scikit-learn 0.21+.\n",
      "  warnings.warn(msg, category=DeprecationWarning)\n",
      " [py.warnings]\n"
     ]
    }
   ],
   "source": [
    "from skopt import Optimizer\n",
    "from skopt.space import Real\n",
    "from sklearn.externals.joblib import Parallel, delayed\n",
    "# example objective taken from skopt\n",
    "from skopt.benchmarks import branin"
   ]
  },
  {
   "cell_type": "code",
   "execution_count": 3,
   "metadata": {},
   "outputs": [],
   "source": [
    "optimizer = Optimizer(\n",
    "    dimensions=[Real(-5.0, 10.0), Real(0.0, 15.0)],\n",
    "    random_state=1,\n",
    "    base_estimator='gp'\n",
    ")"
   ]
  },
  {
   "cell_type": "code",
   "execution_count": 4,
   "metadata": {},
   "outputs": [
    {
     "name": "stdout",
     "output_type": "stream",
     "text": [
      "x [[5.539674886665384, 0.9247759772133487], [0.6533781426078518, 2.1846509309627606], [2.3976321059971877, 13.33388107457551], [-4.122692211373234, 3.835422267410678]]\n",
      "x shape (4, 2)\n",
      "y [17.117802423039286, 25.636791759237006, 111.24456644018927, 123.94463659127379]\n",
      "y shape (4,)\n",
      "x [[5.253361598114372, 5.019098178016241], [-4.558830399495135, 6.521625092942932], [1.0517974825501595, 11.196568270857433], [-4.341063750925826, 5.52471184343409]]\n",
      "x shape (4, 2)\n",
      "y [29.49805986824328, 97.24532144298679, 60.023920779206286, 102.92404054178502]\n",
      "y shape (4,)\n",
      "x [[7.455985183109318, 0.20173575763695223], [6.5480183384544315, 4.201808432696337], [6.411163292726274, 1.3168776477532418], [6.035820747326337, 0.0]]\n",
      "x shape (4, 2)\n",
      "y [14.96091221397041, 28.78036409352106, 19.567975952807018, 20.519902503043827]\n",
      "y shape (4,)\n",
      "x [[7.543548690076646, 0.0], [7.500941007924283, 0.11291580948130737], [3.1589029519796927, 1.551323999490736], [4.536178973049552, 1.4339139689522926]]\n",
      "x shape (4, 2)\n",
      "y [14.743079624946528, 14.802061044945445, 0.9037314498695181, 8.316776691202147]\n",
      "y shape (4,)\n",
      "x [[10.0, 1.0053861835019247], [10.0, 0.0], [2.6863412210726247, 0.0], [3.009675196970779, 0.7170628109939686]]\n",
      "x shape (4, 2)\n",
      "y [5.933428252563069, 10.960889035651505, 8.434475894506829, 3.2470915981148742]\n",
      "y shape (4,)\n",
      "x [[10.0, 5.7311080400062675], [10.0, 3.9198805712355393], [10.0, 10.015452815779334], [10.0, 15.0]]\n",
      "x shape (4, 2)\n",
      "y [9.385950914074904, 2.7838902223606556, 51.11824376615582, 145.87219087939556]\n",
      "y shape (4,)\n",
      "x [[2.0968078847939546, 4.739849260945448], [3.1587045767738076, 1.6196848953519987], [2.121705627187307, 4.648512670037106], [2.073546675261438, 4.6890391269274705]]\n",
      "x shape (4, 2)\n",
      "y [7.456124508341235, 0.8114674835646163, 7.0581303359829475, 7.4289822148227165]\n",
      "y shape (4,)\n",
      "x [[3.1571156170011836, 1.7117864984025024], [3.1410613753144467, 1.76408941216731], [3.1711324097135645, 1.7524816427609895], [3.1240270466771456, 1.7515860638921317]]\n",
      "x shape (4, 2)\n",
      "y [0.7027983000775286, 0.6593419138320051, 0.6516708380878491, 0.6879014927777707]\n",
      "y shape (4,)\n",
      "x [[3.13746274268526, 2.380988241401429], [3.160175618856224, 1.9320615292577683], [3.0985731639332066, 2.5115005872880363], [3.166173804514731, 1.869042664254646]]\n",
      "x shape (4, 2)\n",
      "y [0.4085299498220234, 0.5074515695413773, 0.4478634916283202, 0.550453126707616]\n",
      "y shape (4,)\n",
      "x [[3.1489671367847514, 2.2794556236361982], [3.1832907164153763, 2.3210659792996715], [9.550158812332912, 2.581562789835461], [9.500079928554877, 2.5622148199932684]]\n",
      "x shape (4, 2)\n",
      "y [0.3982524854050702, 0.4123741681191575, 0.4732643712934266, 0.4256256620307166]\n",
      "y shape (4,)\n"
     ]
    }
   ],
   "source": [
    "for i in range(10): \n",
    "    x = optimizer.ask(n_points=4)  # x is a list of n_points points    \n",
    "    y = Parallel(n_jobs=4)(delayed(branin)(v) for v in x)  # evaluate points in parallel\n",
    "    print('x', x)\n",
    "    print('x shape', np.shape(x))\n",
    "    print('y', y)\n",
    "    print('y shape', np.shape(y))\n",
    "    optimizer.tell(x, y)"
   ]
  },
  {
   "cell_type": "code",
   "execution_count": 5,
   "metadata": {},
   "outputs": [
    {
     "name": "stdout",
     "output_type": "stream",
     "text": [
      "0.3982524854050702\n"
     ]
    }
   ],
   "source": [
    "# takes ~ 20 sec to get here\n",
    "print(min(optimizer.yi))  # print the best objective found"
   ]
  },
  {
   "cell_type": "markdown",
   "metadata": {},
   "source": [
    "### Same with Separate loops"
   ]
  },
  {
   "cell_type": "code",
   "execution_count": 6,
   "metadata": {},
   "outputs": [],
   "source": [
    "optimizer = Optimizer(\n",
    "    dimensions=[Real(-5.0, 10.0), Real(0.0, 15.0)],\n",
    "    random_state=1,\n",
    "    base_estimator='gp'\n",
    ")"
   ]
  },
  {
   "cell_type": "code",
   "execution_count": 7,
   "metadata": {},
   "outputs": [],
   "source": [
    "n_samples = 1\n",
    "params = []\n",
    "candidates = []\n",
    "\n",
    "for _ in range(n_samples):\n",
    "    x = optimizer.ask(n_points=10)  # x is a list of n_points points    \n",
    "    candidates.append(x)\n"
   ]
  },
  {
   "cell_type": "code",
   "execution_count": 8,
   "metadata": {},
   "outputs": [
    {
     "data": {
      "text/plain": [
       "[[[5.539674886665384, 0.9247759772133487],\n",
       "  [0.6533781426078518, 2.1846509309627606],\n",
       "  [2.3976321059971877, 13.33388107457551],\n",
       "  [-4.122692211373234, 3.835422267410678],\n",
       "  [2.18434866398996, 10.14131246631503],\n",
       "  [-0.26536359546881716, 14.474360413114516],\n",
       "  [-4.635512700781785, 14.054611867944384],\n",
       "  [7.44081018418634, 2.016921234869212],\n",
       "  [4.852135388499796, 9.287165289493949],\n",
       "  [8.747572428177428, 7.5085739238532625]],\n",
       " [[5.539674886665384, 0.9247759772133487],\n",
       "  [0.6533781426078518, 2.1846509309627606],\n",
       "  [2.3976321059971877, 13.33388107457551],\n",
       "  [-4.122692211373234, 3.835422267410678],\n",
       "  [2.18434866398996, 10.14131246631503],\n",
       "  [-0.26536359546881716, 14.474360413114516],\n",
       "  [-4.635512700781785, 14.054611867944384],\n",
       "  [7.44081018418634, 2.016921234869212],\n",
       "  [4.852135388499796, 9.287165289493949],\n",
       "  [8.747572428177428, 7.5085739238532625]],\n",
       " [[5.539674886665384, 0.9247759772133487],\n",
       "  [0.6533781426078518, 2.1846509309627606],\n",
       "  [2.3976321059971877, 13.33388107457551],\n",
       "  [-4.122692211373234, 3.835422267410678],\n",
       "  [2.18434866398996, 10.14131246631503],\n",
       "  [-0.26536359546881716, 14.474360413114516],\n",
       "  [-4.635512700781785, 14.054611867944384],\n",
       "  [7.44081018418634, 2.016921234869212],\n",
       "  [4.852135388499796, 9.287165289493949],\n",
       "  [8.747572428177428, 7.5085739238532625]],\n",
       " [[5.539674886665384, 0.9247759772133487],\n",
       "  [0.6533781426078518, 2.1846509309627606],\n",
       "  [2.3976321059971877, 13.33388107457551],\n",
       "  [-4.122692211373234, 3.835422267410678],\n",
       "  [2.18434866398996, 10.14131246631503],\n",
       "  [-0.26536359546881716, 14.474360413114516],\n",
       "  [-4.635512700781785, 14.054611867944384],\n",
       "  [7.44081018418634, 2.016921234869212],\n",
       "  [4.852135388499796, 9.287165289493949],\n",
       "  [8.747572428177428, 7.5085739238532625]],\n",
       " [[5.539674886665384, 0.9247759772133487],\n",
       "  [0.6533781426078518, 2.1846509309627606],\n",
       "  [2.3976321059971877, 13.33388107457551],\n",
       "  [-4.122692211373234, 3.835422267410678],\n",
       "  [2.18434866398996, 10.14131246631503],\n",
       "  [-0.26536359546881716, 14.474360413114516],\n",
       "  [-4.635512700781785, 14.054611867944384],\n",
       "  [7.44081018418634, 2.016921234869212],\n",
       "  [4.852135388499796, 9.287165289493949],\n",
       "  [8.747572428177428, 7.5085739238532625]],\n",
       " [[5.539674886665384, 0.9247759772133487],\n",
       "  [0.6533781426078518, 2.1846509309627606],\n",
       "  [2.3976321059971877, 13.33388107457551],\n",
       "  [-4.122692211373234, 3.835422267410678],\n",
       "  [2.18434866398996, 10.14131246631503],\n",
       "  [-0.26536359546881716, 14.474360413114516],\n",
       "  [-4.635512700781785, 14.054611867944384],\n",
       "  [7.44081018418634, 2.016921234869212],\n",
       "  [4.852135388499796, 9.287165289493949],\n",
       "  [8.747572428177428, 7.5085739238532625]],\n",
       " [[5.539674886665384, 0.9247759772133487],\n",
       "  [0.6533781426078518, 2.1846509309627606],\n",
       "  [2.3976321059971877, 13.33388107457551],\n",
       "  [-4.122692211373234, 3.835422267410678],\n",
       "  [2.18434866398996, 10.14131246631503],\n",
       "  [-0.26536359546881716, 14.474360413114516],\n",
       "  [-4.635512700781785, 14.054611867944384],\n",
       "  [7.44081018418634, 2.016921234869212],\n",
       "  [4.852135388499796, 9.287165289493949],\n",
       "  [8.747572428177428, 7.5085739238532625]],\n",
       " [[5.539674886665384, 0.9247759772133487],\n",
       "  [0.6533781426078518, 2.1846509309627606],\n",
       "  [2.3976321059971877, 13.33388107457551],\n",
       "  [-4.122692211373234, 3.835422267410678],\n",
       "  [2.18434866398996, 10.14131246631503],\n",
       "  [-0.26536359546881716, 14.474360413114516],\n",
       "  [-4.635512700781785, 14.054611867944384],\n",
       "  [7.44081018418634, 2.016921234869212],\n",
       "  [4.852135388499796, 9.287165289493949],\n",
       "  [8.747572428177428, 7.5085739238532625]],\n",
       " [[5.539674886665384, 0.9247759772133487],\n",
       "  [0.6533781426078518, 2.1846509309627606],\n",
       "  [2.3976321059971877, 13.33388107457551],\n",
       "  [-4.122692211373234, 3.835422267410678],\n",
       "  [2.18434866398996, 10.14131246631503],\n",
       "  [-0.26536359546881716, 14.474360413114516],\n",
       "  [-4.635512700781785, 14.054611867944384],\n",
       "  [7.44081018418634, 2.016921234869212],\n",
       "  [4.852135388499796, 9.287165289493949],\n",
       "  [8.747572428177428, 7.5085739238532625]],\n",
       " [[5.539674886665384, 0.9247759772133487],\n",
       "  [0.6533781426078518, 2.1846509309627606],\n",
       "  [2.3976321059971877, 13.33388107457551],\n",
       "  [-4.122692211373234, 3.835422267410678],\n",
       "  [2.18434866398996, 10.14131246631503],\n",
       "  [-0.26536359546881716, 14.474360413114516],\n",
       "  [-4.635512700781785, 14.054611867944384],\n",
       "  [7.44081018418634, 2.016921234869212],\n",
       "  [4.852135388499796, 9.287165289493949],\n",
       "  [8.747572428177428, 7.5085739238532625]]]"
      ]
     },
     "execution_count": 8,
     "metadata": {},
     "output_type": "execute_result"
    }
   ],
   "source": [
    "candidates"
   ]
  },
  {
   "cell_type": "code",
   "execution_count": 9,
   "metadata": {},
   "outputs": [
    {
     "name": "stdout",
     "output_type": "stream",
     "text": [
      "[17.117802423039286, 25.636791759237006, 111.24456644018927, 123.94463659127379, 53.491263803604525, 83.95464222088268, 13.66814170756434, 14.355184112861938, 74.82906435343783, 33.27012035987897]\n",
      "[17.117802423039286, 25.636791759237006, 111.24456644018927, 123.94463659127379, 53.491263803604525, 83.95464222088268, 13.66814170756434, 14.355184112861938, 74.82906435343783, 33.27012035987897]\n",
      "[17.117802423039286, 25.636791759237006, 111.24456644018927, 123.94463659127379, 53.491263803604525, 83.95464222088268, 13.66814170756434, 14.355184112861938, 74.82906435343783, 33.27012035987897]\n",
      "[17.117802423039286, 25.636791759237006, 111.24456644018927, 123.94463659127379, 53.491263803604525, 83.95464222088268, 13.66814170756434, 14.355184112861938, 74.82906435343783, 33.27012035987897]\n",
      "[17.117802423039286, 25.636791759237006, 111.24456644018927, 123.94463659127379, 53.491263803604525, 83.95464222088268, 13.66814170756434, 14.355184112861938, 74.82906435343783, 33.27012035987897]\n",
      "[17.117802423039286, 25.636791759237006, 111.24456644018927, 123.94463659127379, 53.491263803604525, 83.95464222088268, 13.66814170756434, 14.355184112861938, 74.82906435343783, 33.27012035987897]\n",
      "[17.117802423039286, 25.636791759237006, 111.24456644018927, 123.94463659127379, 53.491263803604525, 83.95464222088268, 13.66814170756434, 14.355184112861938, 74.82906435343783, 33.27012035987897]\n",
      "[17.117802423039286, 25.636791759237006, 111.24456644018927, 123.94463659127379, 53.491263803604525, 83.95464222088268, 13.66814170756434, 14.355184112861938, 74.82906435343783, 33.27012035987897]\n",
      "[17.117802423039286, 25.636791759237006, 111.24456644018927, 123.94463659127379, 53.491263803604525, 83.95464222088268, 13.66814170756434, 14.355184112861938, 74.82906435343783, 33.27012035987897]\n",
      "[17.117802423039286, 25.636791759237006, 111.24456644018927, 123.94463659127379, 53.491263803604525, 83.95464222088268, 13.66814170756434, 14.355184112861938, 74.82906435343783, 33.27012035987897]\n"
     ]
    }
   ],
   "source": [
    "for cand in candidates:\n",
    "    y = Parallel(n_jobs=1)(delayed(branin)(v) for v in x)  # evaluate points in parallel\n",
    "    optimizer.tell(cand, y)        \n",
    "    print(y)"
   ]
  },
  {
   "cell_type": "code",
   "execution_count": 10,
   "metadata": {},
   "outputs": [
    {
     "name": "stdout",
     "output_type": "stream",
     "text": [
      "13.66814170756434\n"
     ]
    }
   ],
   "source": [
    "print(min(optimizer.yi))"
   ]
  },
  {
   "cell_type": "markdown",
   "metadata": {},
   "source": [
    "## Load the Model"
   ]
  },
  {
   "cell_type": "markdown",
   "metadata": {},
   "source": [
    "### Input"
   ]
  },
  {
   "cell_type": "code",
   "execution_count": 11,
   "metadata": {},
   "outputs": [],
   "source": [
    "input_traces = zeros((10,1))*volt\n",
    "for i in range(1):\n",
    "    input_traces[1:,i]=i*10*mV"
   ]
  },
  {
   "cell_type": "code",
   "execution_count": 12,
   "metadata": {},
   "outputs": [],
   "source": [
    "# Create target current traces\n",
    "output_traces = 10*nS*input_traces"
   ]
  },
  {
   "cell_type": "code",
   "execution_count": 13,
   "metadata": {},
   "outputs": [],
   "source": [
    "input = input_traces\n",
    "output = output_traces"
   ]
  },
  {
   "cell_type": "markdown",
   "metadata": {},
   "source": [
    "### Parameters "
   ]
  },
  {
   "cell_type": "code",
   "execution_count": 14,
   "metadata": {},
   "outputs": [],
   "source": [
    "params = np.array([\n",
    " [ 1.80869973e-08,  2.50218013e-02],\n",
    " [ 1.88373085e-08,  9.89559934e-02], \n",
    " [ 1.88373085e-08,  9.89559934e-02], \n",
    "])"
   ]
  },
  {
   "cell_type": "code",
   "execution_count": 15,
   "metadata": {},
   "outputs": [],
   "source": [
    "input_var = 'v'\n",
    "output_var = 'I'\n",
    "\n",
    "parameter_names = {'g', 'E'}\n",
    "method = ('linear', 'exponential_euler', 'euler')\n",
    "t_start = 0*second\n",
    "popsize, _ = np.shape(params)\n",
    "dt = 0.1 *ms\n",
    "defaultclock.dt = dt"
   ]
  },
  {
   "cell_type": "code",
   "execution_count": 16,
   "metadata": {},
   "outputs": [],
   "source": [
    "def parameters_dict(params):\n",
    "    d = dict()\n",
    "    for name, value in zip(parameter_names, params.T):\n",
    "        d[name] = value\n",
    "            \n",
    "    return d"
   ]
  },
  {
   "cell_type": "code",
   "execution_count": 17,
   "metadata": {},
   "outputs": [
    {
     "data": {
      "text/plain": [
       "{'E': array([1.80869973e-08, 1.88373085e-08, 1.88373085e-08]),\n",
       " 'g': array([0.0250218 , 0.09895599, 0.09895599])}"
      ]
     },
     "execution_count": 17,
     "metadata": {},
     "output_type": "execute_result"
    }
   ],
   "source": [
    "parameters_dict(params)"
   ]
  },
  {
   "cell_type": "markdown",
   "metadata": {},
   "source": [
    "### Setup The Model for Optimization"
   ]
  },
  {
   "cell_type": "code",
   "execution_count": 18,
   "metadata": {},
   "outputs": [],
   "source": [
    "model = Equations('''\n",
    "I = g*(v-E) : amp\n",
    "g : siemens (constant)\n",
    "E : volt (constant)\n",
    "''')"
   ]
  },
  {
   "cell_type": "code",
   "execution_count": 19,
   "metadata": {},
   "outputs": [
    {
     "name": "stderr",
     "output_type": "stream",
     "text": [
      "INFO       No numerical integration method specified, using method 'linear' (took 0.01s). [brian2.stateupdaters.base.method_choice]\n"
     ]
    }
   ],
   "source": [
    "state_update_code = StateUpdateMethod.apply_stateupdater(model, {}, method=method)"
   ]
  },
  {
   "cell_type": "markdown",
   "metadata": {},
   "source": [
    "### Required Model Operations"
   ]
  },
  {
   "cell_type": "code",
   "execution_count": 20,
   "metadata": {},
   "outputs": [],
   "source": [
    "Nsteps, Ntraces = input_traces.shape\n",
    "# N = popsize * len(parameter_names)\n",
    "N = popsize\n",
    "duration = Nsteps*dt"
   ]
  },
  {
   "cell_type": "code",
   "execution_count": 21,
   "metadata": {},
   "outputs": [],
   "source": [
    "model_without_diffeq = Equations([eq for eq in model.ordered\n",
    "                                      if eq.type != DIFFERENTIAL_EQUATION])\n",
    "    \n",
    "# Add a parameter for each differential equation\n",
    "diffeq_params = Equations([SingleEquation(PARAMETER, varname, model.dimensions[varname])\n",
    "                           for varname in model.diff_eq_names])\n",
    "\n",
    "# Our new model:\n",
    "model = model_without_diffeq + diffeq_params\n",
    "\n",
    "# Replace input variable by TimedArray\n",
    "input_traces = TimedArray(input, dt = dt)"
   ]
  },
  {
   "cell_type": "code",
   "execution_count": 22,
   "metadata": {},
   "outputs": [],
   "source": [
    "input_unit = input.dim\n",
    "model = model + Equations(input_var + '= input_var(t,i % Ntraces) : '+ \"% s\" % repr(input_unit))\n",
    "\n",
    "# Add criterion with TimedArray\n",
    "output_traces = TimedArray(output, dt = dt)\n",
    "error_unit = output.dim**2\n",
    "model = model + Equations('total_error : %s' % repr(error_unit))"
   ]
  },
  {
   "cell_type": "code",
   "execution_count": 23,
   "metadata": {},
   "outputs": [],
   "source": [
    "neurons = NeuronGroup(Ntraces*N, model, method = method)\n",
    "neurons.namespace['input_var'] = input_traces\n",
    "neurons.namespace['output_var'] = output_traces\n",
    "neurons.namespace['t_start'] = t_start\n",
    "neurons.namespace['Ntraces'] = Ntraces"
   ]
  },
  {
   "cell_type": "markdown",
   "metadata": {},
   "source": [
    "#### Record error  \n",
    "additional differential equation calculating the error"
   ]
  },
  {
   "cell_type": "code",
   "execution_count": 24,
   "metadata": {},
   "outputs": [],
   "source": [
    "neurons.run_regularly('total_error +=  (' + output_var + '-output_var(t,i % Ntraces))**2 * int(t>=t_start)',\n",
    "                      when='end')\n",
    "\n",
    "# Add the code doing the numerical integration\n",
    "neurons.run_regularly(state_update_code, when='groups')\n",
    "\n",
    "# store the state of the network\n",
    "store()"
   ]
  },
  {
   "cell_type": "code",
   "execution_count": 32,
   "metadata": {},
   "outputs": [],
   "source": [
    "def calc_error(params):\n",
    "    print(params)\n",
    "    popsize, _ = np.shape(params)\n",
    "    N = popsize\n",
    "\n",
    "#     neurons = NeuronGroup(Ntraces*N, model, method = method)\n",
    "    neurons = NeuronGroup(N, model, method = method)\n",
    "    neurons.namespace['input_var'] = input_traces\n",
    "    neurons.namespace['output_var'] = output_traces\n",
    "    neurons.namespace['t_start'] = t_start\n",
    "    neurons.namespace['Ntraces'] = Ntraces\n",
    "\n",
    "    # Record error\n",
    "    neurons.run_regularly('total_error +=  (' + output_var + '-output_var(t,i % Ntraces))**2 * int(t>=t_start)',\n",
    "                          when='end')\n",
    "\n",
    "    # Add the code doing the numerical integration\n",
    "    neurons.run_regularly(state_update_code, when='groups')\n",
    "\n",
    "    d = parameters_dict(params)\n",
    "    neurons.set_states(d, units=False)\n",
    "    run(duration, namespace = {})\n",
    "\n",
    "    e = neurons.total_error/int((duration-t_start)/defaultclock.dt)\n",
    "    e = mean(e.reshape((N,Ntraces)),axis=1)\n",
    "    \n",
    "    return array(e)"
   ]
  },
  {
   "cell_type": "code",
   "execution_count": 25,
   "metadata": {},
   "outputs": [
    {
     "data": {
      "text/html": [
       "NeuronGroup \"neurongroup\" with 3 neurons.<br>\n",
       "<b>Model:</b><nr>\n",
       "\\begin{align*}v &= \\operatorname{input_{var}}{\\left(t,i\\bmod{Ntraces} \\right)} && \\text{(unit of $v$: $\\mathrm{V}$)}\\\\\n",
       "I &= g \\left(- E + v\\right) && \\text{(unit of $I$: $\\mathrm{A}$)}\\\\\n",
       "g &&& \\text{(unit: $\\mathrm{S}$, flags: constant)}\\\\\n",
       "E &&& \\text{(unit: $\\mathrm{V}$, flags: constant)}\\\\\n",
       "total_{error} &&& \\text{(unit: $\\mathrm{A^2}$)}\\end{align*}"
      ],
      "text/plain": [
       "NeuronGroup(clock=Clock(dt=100. * usecond, name='defaultclock'), when=start, order=0, name='neurongroup')"
      ]
     },
     "execution_count": 25,
     "metadata": {},
     "output_type": "execute_result"
    }
   ],
   "source": [
    "neurons"
   ]
  },
  {
   "cell_type": "markdown",
   "metadata": {},
   "source": [
    "### Ask and Tel with calc_error Function"
   ]
  },
  {
   "cell_type": "code",
   "execution_count": 33,
   "metadata": {},
   "outputs": [],
   "source": [
    "start_scope()"
   ]
  },
  {
   "cell_type": "code",
   "execution_count": 34,
   "metadata": {},
   "outputs": [],
   "source": [
    "model = Equations('''\n",
    "I = g*(v-E) : amp\n",
    "g : siemens (constant)\n",
    "E : volt (constant)\n",
    "''')"
   ]
  },
  {
   "cell_type": "code",
   "execution_count": 35,
   "metadata": {},
   "outputs": [],
   "source": [
    "state_update_code = StateUpdateMethod.apply_stateupdater(model, {}, method=method)"
   ]
  },
  {
   "cell_type": "code",
   "execution_count": 36,
   "metadata": {},
   "outputs": [],
   "source": [
    "model_without_diffeq = Equations([eq for eq in model.ordered\n",
    "                                      if eq.type != DIFFERENTIAL_EQUATION])\n",
    "    \n",
    "# Add a parameter for each differential equation\n",
    "diffeq_params = Equations([SingleEquation(PARAMETER, varname, model.dimensions[varname])\n",
    "                           for varname in model.diff_eq_names])\n",
    "\n",
    "# Our new model:\n",
    "model = model_without_diffeq + diffeq_params\n",
    "\n",
    "# Replace input variable by TimedArray\n",
    "input_traces = TimedArray(input, dt = dt)"
   ]
  },
  {
   "cell_type": "code",
   "execution_count": 37,
   "metadata": {},
   "outputs": [],
   "source": [
    "input_unit = input.dim\n",
    "model = model + Equations(input_var + '= input_var(t,i % Ntraces) : '+ \"% s\" % repr(input_unit))\n",
    "\n",
    "# Add criterion with TimedArray\n",
    "output_traces = TimedArray(output, dt = dt)\n",
    "error_unit = output.dim**2\n",
    "model = model + Equations('total_error : %s' % repr(error_unit))"
   ]
  },
  {
   "cell_type": "markdown",
   "metadata": {},
   "source": [
    "### Ask and Tel with calc_error Function"
   ]
  },
  {
   "cell_type": "code",
   "execution_count": null,
   "metadata": {},
   "outputs": [],
   "source": [
    "optimizer = Optimizer(\n",
    "    dimensions=[Real(-5.0, 5.0), Real(0.0, 10.0)],\n",
    "    random_state=1,\n",
    "    base_estimator='gp'\n",
    ")"
   ]
  },
  {
   "cell_type": "markdown",
   "metadata": {},
   "source": [
    "n_samples = 10\n",
    "params = []\n",
    "candidates = []\n",
    "\n",
    "for _ in range(n_samples):\n",
    "    \n",
    "    cand = optim.ask()\n",
    "    candidates.append(cand)\n",
    "    params.append(list(cand.args))\n",
    "    \n",
    "params"
   ]
  },
  {
   "cell_type": "code",
   "execution_count": 38,
   "metadata": {},
   "outputs": [],
   "source": [
    "n_samples = 1\n",
    "params = []\n",
    "candidates = []\n",
    "\n",
    "for _ in range(n_samples):\n",
    "    x = optimizer.ask(n_points=10)  # x is a list of n_points points    \n",
    "    candidates.append(x)\n"
   ]
  },
  {
   "cell_type": "code",
   "execution_count": 44,
   "metadata": {},
   "outputs": [
    {
     "name": "stdout",
     "output_type": "stream",
     "text": [
      "[[ 7.43734672  1.98511748]\n",
      " [ 7.42213702  1.8748154 ]\n",
      " [ 7.43501736  1.9694812 ]\n",
      " [ 7.43653724  1.97636747]\n",
      " [ 7.4200428   1.9786723 ]\n",
      " [-3.12254008 14.05063133]\n",
      " [ 9.43016512  1.90221492]\n",
      " [ 9.66636043  1.9428565 ]\n",
      " [-3.5199993   1.88697875]\n",
      " [-3.62196103  1.98127745]]\n"
     ]
    },
    {
     "data": {
      "text/plain": [
       "array([ 217.97590277,  193.63103157,  214.42116556,  216.01151828,\n",
       "        215.55622398, 1924.89800027,  321.77904644,  352.70159156,\n",
       "         44.11834102,   51.49655045])"
      ]
     },
     "execution_count": 44,
     "metadata": {},
     "output_type": "execute_result"
    }
   ],
   "source": [
    "y = calc_error(np.array(candidates[0]))\n",
    "y"
   ]
  },
  {
   "cell_type": "code",
   "execution_count": 48,
   "metadata": {},
   "outputs": [
    {
     "data": {
      "text/plain": [
       "[217.97590276890963,\n",
       " 193.6310315735391,\n",
       " 214.42116555860918,\n",
       " 216.01151828323094,\n",
       " 215.5562239813491,\n",
       " 1924.8980002687736,\n",
       " 321.77904643524784,\n",
       " 352.7015915564016,\n",
       " 44.11834102412319,\n",
       " 51.496550454445796]"
      ]
     },
     "execution_count": 48,
     "metadata": {},
     "output_type": "execute_result"
    }
   ],
   "source": [
    "y.tolist()"
   ]
  },
  {
   "cell_type": "code",
   "execution_count": 67,
   "metadata": {},
   "outputs": [
    {
     "data": {
      "text/plain": [
       "13.66814170756434"
      ]
     },
     "execution_count": 67,
     "metadata": {},
     "output_type": "execute_result"
    }
   ],
   "source": [
    "optimizer.tell(cand, y.tolist());\n",
    "min(optimizer.yi)  # print the best objective found    "
   ]
  },
  {
   "cell_type": "code",
   "execution_count": 65,
   "metadata": {},
   "outputs": [],
   "source": [
    "xi = optimizer.Xi"
   ]
  },
  {
   "cell_type": "code",
   "execution_count": 61,
   "metadata": {},
   "outputs": [],
   "source": [
    "yii = np.array(optimizer.yi)\n",
    "yii.argmin()"
   ]
  },
  {
   "cell_type": "code",
   "execution_count": 66,
   "metadata": {},
   "outputs": [
    {
     "data": {
      "text/plain": [
       "[-4.635512700781785, 14.054611867944384]"
      ]
     },
     "execution_count": 66,
     "metadata": {},
     "output_type": "execute_result"
    }
   ],
   "source": [
    "xi[yii.argmin()]"
   ]
  }
 ],
 "metadata": {
  "kernelspec": {
   "display_name": "brian_opt",
   "language": "python",
   "name": "brian_opt"
  },
  "language_info": {
   "codemirror_mode": {
    "name": "ipython",
    "version": 3
   },
   "file_extension": ".py",
   "mimetype": "text/x-python",
   "name": "python",
   "nbconvert_exporter": "python",
   "pygments_lexer": "ipython3",
   "version": "3.7.3"
  }
 },
 "nbformat": 4,
 "nbformat_minor": 2
}
