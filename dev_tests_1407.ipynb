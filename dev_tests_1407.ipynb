{
 "cells": [
  {
   "cell_type": "markdown",
   "metadata": {},
   "source": [
    "# Dev Metric Tests"
   ]
  },
  {
   "cell_type": "code",
   "execution_count": 1,
   "metadata": {},
   "outputs": [
    {
     "name": "stderr",
     "output_type": "stream",
     "text": [
      "WARNING    /home/alteska/anaconda3/envs/brian_opt/lib/python3.7/site-packages/sklearn/externals/joblib/__init__.py:15: DeprecationWarning: sklearn.externals.joblib is deprecated in 0.21 and will be removed in 0.23. Please import this functionality directly from joblib, which can be installed with: pip install joblib. If this warning is raised when loading pickled models, you may need to re-serialize those models with scikit-learn 0.21+.\n",
      "  warnings.warn(msg, category=DeprecationWarning)\n",
      " [py.warnings]\n"
     ]
    }
   ],
   "source": [
    "import numpy as np\n",
    "from brian2tools import *\n",
    "\n",
    "from brian2 import *"
   ]
  },
  {
   "cell_type": "code",
   "execution_count": 2,
   "metadata": {},
   "outputs": [],
   "source": [
    "from numpy.testing import assert_array_less"
   ]
  },
  {
   "cell_type": "markdown",
   "metadata": {},
   "source": [
    "## MSE"
   ]
  },
  {
   "cell_type": "code",
   "execution_count": 3,
   "metadata": {},
   "outputs": [],
   "source": [
    "metric = MSEMetric()"
   ]
  },
  {
   "cell_type": "code",
   "execution_count": 4,
   "metadata": {},
   "outputs": [
    {
     "data": {
      "text/plain": [
       "(2, 20)"
      ]
     },
     "execution_count": 4,
     "metadata": {},
     "output_type": "execute_result"
    }
   ],
   "source": [
    "out_mse = np.random.rand(2,20)\n",
    "np.shape(out_mse)"
   ]
  },
  {
   "cell_type": "code",
   "execution_count": 5,
   "metadata": {},
   "outputs": [
    {
     "data": {
      "text/plain": [
       "(10, 20)"
      ]
     },
     "execution_count": 5,
     "metadata": {},
     "output_type": "execute_result"
    }
   ],
   "source": [
    "inp_mse = np.random.rand(10,20)\n",
    "np.shape(inp_mse)"
   ]
  },
  {
   "cell_type": "code",
   "execution_count": 6,
   "metadata": {},
   "outputs": [
    {
     "data": {
      "text/plain": [
       "\u001b[0;31mSignature:\u001b[0m \u001b[0mmetric\u001b[0m\u001b[0;34m.\u001b[0m\u001b[0mcalc\u001b[0m\u001b[0;34m(\u001b[0m\u001b[0mtraces\u001b[0m\u001b[0;34m,\u001b[0m \u001b[0moutput\u001b[0m\u001b[0;34m,\u001b[0m \u001b[0mn_traces\u001b[0m\u001b[0;34m)\u001b[0m\u001b[0;34m\u001b[0m\u001b[0;34m\u001b[0m\u001b[0m\n",
       "\u001b[0;31mDocstring:\u001b[0m\n",
       "Perform the error calculation across all parameters,\n",
       "calculate error between each output trace and corresponding\n",
       "simulation. You can also access metric.features, metric.errors.\n",
       "\n",
       "Parameters\n",
       "----------\n",
       "traces: 2D array\n",
       "    traces to be evaluated\n",
       "output: array\n",
       "    goal traces\n",
       "n_traces:\n",
       "    number of input traces\n",
       "\n",
       "Returns\n",
       "-------\n",
       "errors: array\n",
       "    weigheted/mean error for each set of parameters\n",
       "\u001b[0;31mFile:\u001b[0m      ~/Desktop/brian/brian2tools/brian2tools/modelfitting/metric.py\n",
       "\u001b[0;31mType:\u001b[0m      method\n"
      ]
     },
     "metadata": {},
     "output_type": "display_data"
    }
   ],
   "source": [
    "metric.calc?"
   ]
  },
  {
   "cell_type": "code",
   "execution_count": 7,
   "metadata": {},
   "outputs": [
    {
     "data": {
      "text/plain": [
       "(10,)"
      ]
     },
     "execution_count": 7,
     "metadata": {},
     "output_type": "execute_result"
    }
   ],
   "source": [
    "metric.get_features(inp_mse, out_mse, 2)\n",
    "np.shape(metric.features)"
   ]
  },
  {
   "cell_type": "code",
   "execution_count": 8,
   "metadata": {},
   "outputs": [
    {
     "data": {
      "text/plain": [
       "(5,)"
      ]
     },
     "execution_count": 8,
     "metadata": {},
     "output_type": "execute_result"
    }
   ],
   "source": [
    "metric.get_errors(metric.features, 2)\n",
    "np.shape(metric.errors)"
   ]
  },
  {
   "cell_type": "code",
   "execution_count": 9,
   "metadata": {},
   "outputs": [
    {
     "data": {
      "text/plain": [
       "(5,)"
      ]
     },
     "execution_count": 9,
     "metadata": {},
     "output_type": "execute_result"
    }
   ],
   "source": [
    "np.shape(metric.calc(inp_mse, out_mse, 2))"
   ]
  },
  {
   "cell_type": "code",
   "execution_count": 10,
   "metadata": {},
   "outputs": [
    {
     "data": {
      "text/plain": [
       "(20, 20)"
      ]
     },
     "execution_count": 10,
     "metadata": {},
     "output_type": "execute_result"
    }
   ],
   "source": [
    "out_from_inp = np.concatenate([inp_mse, inp_mse])\n",
    "np.shape(out_from_inp)"
   ]
  },
  {
   "cell_type": "code",
   "execution_count": 132,
   "metadata": {},
   "outputs": [
    {
     "data": {
      "text/plain": [
       "(5,)"
      ]
     },
     "execution_count": 132,
     "metadata": {},
     "output_type": "execute_result"
    }
   ],
   "source": [
    "feat = np.random.rand(10,1)\n",
    "metric.get_errors(feat, 2)\n",
    "np.shape(metric.errors)"
   ]
  },
  {
   "cell_type": "code",
   "execution_count": 11,
   "metadata": {},
   "outputs": [
    {
     "data": {
      "text/plain": [
       "array([0.])"
      ]
     },
     "execution_count": 11,
     "metadata": {},
     "output_type": "execute_result"
    }
   ],
   "source": [
    "metric.calc(out_mse, out_mse, 2)"
   ]
  },
  {
   "cell_type": "code",
   "execution_count": null,
   "metadata": {},
   "outputs": [],
   "source": []
  },
  {
   "cell_type": "code",
   "execution_count": 12,
   "metadata": {},
   "outputs": [
    {
     "data": {
      "text/plain": [
       "array([4.49571203, 3.41778225, 3.61762912, 3.30116205, 3.78749377])"
      ]
     },
     "execution_count": 12,
     "metadata": {},
     "output_type": "execute_result"
    }
   ],
   "source": [
    "metric.calc(inp_mse, out_mse, 2)"
   ]
  },
  {
   "cell_type": "code",
   "execution_count": 13,
   "metadata": {},
   "outputs": [
    {
     "data": {
      "text/plain": [
       "True"
      ]
     },
     "execution_count": 13,
     "metadata": {},
     "output_type": "execute_result"
    }
   ],
   "source": [
    "np.all((np.greater(metric.calc(inp_mse, out_mse, 2), 0)))"
   ]
  },
  {
   "cell_type": "code",
   "execution_count": 126,
   "metadata": {},
   "outputs": [
    {
     "data": {
      "text/plain": [
       "array([False, False])"
      ]
     },
     "execution_count": 126,
     "metadata": {},
     "output_type": "execute_result"
    }
   ],
   "source": [
    "metric.get_features(out_mse, out_mse, 2)\n",
    "np.array(metric.features) > 0"
   ]
  },
  {
   "cell_type": "markdown",
   "metadata": {},
   "source": [
    "## Gamma Factor"
   ]
  },
  {
   "cell_type": "code",
   "execution_count": 14,
   "metadata": {},
   "outputs": [
    {
     "data": {
      "text/plain": [
       "\u001b[0;31mSignature:\u001b[0m \u001b[0mget_gamma_factor\u001b[0m\u001b[0;34m(\u001b[0m\u001b[0msource\u001b[0m\u001b[0;34m,\u001b[0m \u001b[0mtarget\u001b[0m\u001b[0;34m,\u001b[0m \u001b[0mdelta\u001b[0m\u001b[0;34m,\u001b[0m \u001b[0mdt\u001b[0m\u001b[0;34m)\u001b[0m\u001b[0;34m\u001b[0m\u001b[0;34m\u001b[0m\u001b[0m\n",
       "\u001b[0;31mDocstring:\u001b[0m\n",
       "Calculate gamma factor between source and tagret spike trains,\n",
       "with precision delta.\n",
       "\n",
       "Parameters\n",
       "----------\n",
       "source: list/array\n",
       "    source trace, goal performance\n",
       "target: list/array\n",
       "    target trace\n",
       "delta: float * ms\n",
       "    time window\n",
       "dt: float * ms\n",
       "    time step\n",
       "\n",
       "Returns\n",
       "-------\n",
       "    gamma factor: float\n",
       "\u001b[0;31mFile:\u001b[0m      ~/Desktop/brian/brian2tools/brian2tools/modelfitting/metric.py\n",
       "\u001b[0;31mType:\u001b[0m      function\n"
      ]
     },
     "metadata": {},
     "output_type": "display_data"
    }
   ],
   "source": [
    "get_gamma_factor?"
   ]
  },
  {
   "cell_type": "code",
   "execution_count": 15,
   "metadata": {},
   "outputs": [
    {
     "data": {
      "text/latex": [
       "$\\left[\\begin{matrix}1.0\\\\3.0\\\\5.0\\\\7.0\\\\9.0\\\\11.0\\end{matrix}\\right]\\,\\mathrm{m}\\,\\mathrm{s}$"
      ],
      "text/plain": [
       "array([ 1.,  3.,  5.,  7.,  9., 11.]) * msecond"
      ]
     },
     "execution_count": 15,
     "metadata": {},
     "output_type": "execute_result"
    }
   ],
   "source": [
    "src = [1, 3, 5, 7, 9, 11] * ms\n",
    "src"
   ]
  },
  {
   "cell_type": "code",
   "execution_count": 16,
   "metadata": {},
   "outputs": [
    {
     "data": {
      "text/latex": [
       "$\\left[\\begin{matrix}0.0\\\\2.0\\\\4.0\\\\6.0\\\\8.0\\end{matrix}\\right]\\,\\mathrm{m}\\,\\mathrm{s}$"
      ],
      "text/plain": [
       "array([0., 2., 4., 6., 8.]) * msecond"
      ]
     },
     "execution_count": 16,
     "metadata": {},
     "output_type": "execute_result"
    }
   ],
   "source": [
    "src2 = [0, 2, 4, 6, 8] * ms\n",
    "src2"
   ]
  },
  {
   "cell_type": "code",
   "execution_count": 17,
   "metadata": {},
   "outputs": [
    {
     "data": {
      "text/latex": [
       "$\\left[\\begin{matrix}0.0\\\\2.0\\\\4.0\\\\6.0\\\\8.0\\end{matrix}\\right]\\,\\mathrm{m}\\,\\mathrm{s}$"
      ],
      "text/plain": [
       "array([0., 2., 4., 6., 8.]) * msecond"
      ]
     },
     "execution_count": 17,
     "metadata": {},
     "output_type": "execute_result"
    }
   ],
   "source": [
    "trg = [0, 2, 4, 6, 8] * ms\n",
    "trg"
   ]
  },
  {
   "cell_type": "code",
   "execution_count": 18,
   "metadata": {},
   "outputs": [
    {
     "data": {
      "text/plain": [
       "0.9090909090909091"
      ]
     },
     "execution_count": 18,
     "metadata": {},
     "output_type": "execute_result"
    }
   ],
   "source": [
    "get_gamma_factor(src, trg, 8*ms, 0.1*ms)"
   ]
  },
  {
   "cell_type": "code",
   "execution_count": 19,
   "metadata": {},
   "outputs": [
    {
     "data": {
      "text/plain": [
       "1.0"
      ]
     },
     "execution_count": 19,
     "metadata": {},
     "output_type": "execute_result"
    }
   ],
   "source": [
    "get_gamma_factor(src2, trg, 10*ms, 0.1*ms)"
   ]
  },
  {
   "cell_type": "code",
   "execution_count": 20,
   "metadata": {},
   "outputs": [
    {
     "data": {
      "text/plain": [
       "1.0"
      ]
     },
     "execution_count": 20,
     "metadata": {},
     "output_type": "execute_result"
    }
   ],
   "source": [
    "get_gamma_factor([1,2]*ms, [0, 1]*ms, 10*ms, 0.1*ms)\n"
   ]
  },
  {
   "cell_type": "code",
   "execution_count": 21,
   "metadata": {},
   "outputs": [
    {
     "data": {
      "text/plain": [
       "0.8"
      ]
     },
     "execution_count": 21,
     "metadata": {},
     "output_type": "execute_result"
    }
   ],
   "source": [
    "get_gamma_factor([2, 3, 4]*ms, [1, 2]*ms, 10*ms, 0.1*ms)"
   ]
  },
  {
   "cell_type": "code",
   "execution_count": 22,
   "metadata": {},
   "outputs": [
    {
     "data": {
      "text/plain": [
       "1.0"
      ]
     },
     "execution_count": 22,
     "metadata": {},
     "output_type": "execute_result"
    }
   ],
   "source": [
    "get_gamma_factor([2, 3, 4]*ms, [2,3,4]*ms, 10*ms, 0.1*ms)"
   ]
  },
  {
   "cell_type": "code",
   "execution_count": 23,
   "metadata": {},
   "outputs": [
    {
     "data": {
      "text/plain": [
       "0.8"
      ]
     },
     "execution_count": 23,
     "metadata": {},
     "output_type": "execute_result"
    }
   ],
   "source": [
    "get_gamma_factor([2, 3, 4]*ms, [2,3]*ms, 1*ms, 0.1*ms)"
   ]
  },
  {
   "cell_type": "code",
   "execution_count": 82,
   "metadata": {},
   "outputs": [],
   "source": [
    "metric2 = GammaFactor(delta=20*ms, dt=0.01*ms)"
   ]
  },
  {
   "cell_type": "code",
   "execution_count": 86,
   "metadata": {},
   "outputs": [],
   "source": [
    "# np.random.rand(10, 2) * 10"
   ]
  },
  {
   "cell_type": "code",
   "execution_count": 87,
   "metadata": {},
   "outputs": [],
   "source": [
    "inp_gf = np.random.normal(loc=10, scale=4, size=(10, 5))\n",
    "out_gf = np.random.normal(loc=10, scale=4, size=(1, 5))\n",
    "inp_gf = np.round(np.sort(np.abs(inp_gf)), 2)\n",
    "out_gf = np.round(np.sort(np.abs(out_gf)), 2)"
   ]
  },
  {
   "cell_type": "code",
   "execution_count": 88,
   "metadata": {},
   "outputs": [
    {
     "name": "stdout",
     "output_type": "stream",
     "text": [
      "[[10.56 10.69 13.46 13.92 20.72]\n",
      " [ 4.29  4.5  10.3  11.62 14.73]\n",
      " [ 8.72 10.69 12.25 12.99 14.68]\n",
      " [ 3.36  4.92  7.54  9.23 11.81]\n",
      " [ 5.45  5.52  9.34 14.43 15.55]\n",
      " [ 5.59  8.08  8.41 10.15 13.26]\n",
      " [ 2.77  8.78  8.88 11.64 13.7 ]\n",
      " [ 4.51 10.48 10.5  14.14 16.16]\n",
      " [ 7.13  7.88 10.05 12.28 21.97]\n",
      " [ 3.01  5.01 10.96 11.54 13.26]]\n"
     ]
    }
   ],
   "source": [
    "print(np.round(inp_gf, 2))"
   ]
  },
  {
   "cell_type": "code",
   "execution_count": 89,
   "metadata": {},
   "outputs": [
    {
     "name": "stdout",
     "output_type": "stream",
     "text": [
      "[[ 4.99  9.15 13.59 14.68 16.41]]\n"
     ]
    }
   ],
   "source": [
    "print(np.round(out_gf, 2))"
   ]
  },
  {
   "cell_type": "code",
   "execution_count": 90,
   "metadata": {},
   "outputs": [
    {
     "name": "stdout",
     "output_type": "stream",
     "text": [
      "[2.220446049250313e-16, 2.220446049250313e-16, 2.220446049250313e-16, 2.220446049250313e-16, 2.220446049250313e-16, 2.220446049250313e-16, 2.220446049250313e-16, 2.220446049250313e-16, 2.220446049250313e-16, 2.220446049250313e-16]\n",
      "[2.22044605e-16 2.22044605e-16 2.22044605e-16 2.22044605e-16\n",
      " 2.22044605e-16 2.22044605e-16 2.22044605e-16 2.22044605e-16\n",
      " 2.22044605e-16 2.22044605e-16]\n"
     ]
    },
    {
     "data": {
      "text/plain": [
       "2.220446049250313e-16"
      ]
     },
     "execution_count": 90,
     "metadata": {},
     "output_type": "execute_result"
    }
   ],
   "source": [
    "errors = metric2.calc(inp_gf*ms, out_gf*ms, 1)\n",
    "errors[0]"
   ]
  },
  {
   "cell_type": "code",
   "execution_count": 91,
   "metadata": {},
   "outputs": [
    {
     "name": "stdout",
     "output_type": "stream",
     "text": [
      "[2.220446049250313e-16]\n",
      "[2.22044605e-16]\n"
     ]
    },
    {
     "data": {
      "text/plain": [
       "2.220446049250313e-16"
      ]
     },
     "execution_count": 91,
     "metadata": {},
     "output_type": "execute_result"
    }
   ],
   "source": [
    "errors = metric2.calc(out_gf*ms, out_gf*ms, 1)\n",
    "errors[0]"
   ]
  },
  {
   "cell_type": "code",
   "execution_count": 92,
   "metadata": {},
   "outputs": [],
   "source": [
    "inp_gf = np.random.rand(10, 5) * 10\n",
    "out_gf = np.random.rand(1, 5) * 10\n",
    "inp_gf = np.round(np.sort(inp_gf), 2)\n",
    "out_gf = np.round(np.sort(out_gf), 2)"
   ]
  },
  {
   "cell_type": "code",
   "execution_count": 93,
   "metadata": {},
   "outputs": [
    {
     "name": "stdout",
     "output_type": "stream",
     "text": [
      "[[2.18 5.1  5.48 9.23 9.28]\n",
      " [0.46 4.63 5.22 8.66 9.84]\n",
      " [0.73 0.91 3.63 8.53 8.82]\n",
      " [3.47 4.39 8.16 8.64 9.12]\n",
      " [3.54 4.09 7.14 9.15 9.99]\n",
      " [2.3  3.21 4.64 7.09 9.88]\n",
      " [0.62 1.99 3.07 4.45 4.98]\n",
      " [1.63 1.87 3.69 8.14 9.84]\n",
      " [1.53 2.2  6.11 6.73 7.16]\n",
      " [0.02 1.14 1.53 2.84 8.27]]\n",
      "[[0.57 4.73 8.24 8.9  9.42]]\n"
     ]
    }
   ],
   "source": [
    "print(inp_gf)\n",
    "print(out_gf)"
   ]
  },
  {
   "cell_type": "code",
   "execution_count": 94,
   "metadata": {},
   "outputs": [
    {
     "name": "stdout",
     "output_type": "stream",
     "text": [
      "[[2.18 5.1  5.48 9.23 9.28]\n",
      " [0.46 4.63 5.22 8.66 9.84]\n",
      " [0.73 0.91 3.63 8.53 8.82]\n",
      " [3.47 4.39 8.16 8.64 9.12]\n",
      " [3.54 4.09 7.14 9.15 9.99]\n",
      " [2.3  3.21 4.64 7.09 9.88]\n",
      " [0.62 1.99 3.07 4.45 4.98]\n",
      " [1.63 1.87 3.69 8.14 9.84]\n",
      " [1.53 2.2  6.11 6.73 7.16]\n",
      " [0.02 1.14 1.53 2.84 8.27]]\n",
      "[0.57 4.73 8.24 8.9  9.42]\n"
     ]
    }
   ],
   "source": [
    "print(inp_gf)\n",
    "print(out_gf[0])"
   ]
  },
  {
   "cell_type": "code",
   "execution_count": 95,
   "metadata": {},
   "outputs": [
    {
     "data": {
      "text/latex": [
       "$\\left[\\begin{matrix}2.18 & 5.1 & 5.48 & 9.23 & 9.28\\\\0.46 & 4.63 & 5.22 & 8.66 & 9.84\\\\0.73 & 0.91 & 3.63 & 8.53 & 8.82\\\\3.47 & 4.39 & 8.16 & 8.64 & 9.12\\\\3.54 & 4.09 & 7.14 & 9.15 & 9.99\\\\2.3 & 3.21 & 4.64 & 7.09 & 9.88\\\\0.62 & 1.99 & 3.07 & 4.45 & 4.98\\\\1.63 & 1.87 & 3.69 & 8.14 & 9.84\\\\1.53 & 2.2 & 6.11 & 6.73 & 7.16\\\\0.02 & 1.14 & 1.53 & 2.84 & 8.27\\end{matrix}\\right]\\,\\mathrm{m}\\,\\mathrm{s}$"
      ],
      "text/plain": [
       "array([[2.18, 5.1 , 5.48, 9.23, 9.28],\n",
       "       [0.46, 4.63, 5.22, 8.66, 9.84],\n",
       "       [0.73, 0.91, 3.63, 8.53, 8.82],\n",
       "       [3.47, 4.39, 8.16, 8.64, 9.12],\n",
       "       [3.54, 4.09, 7.14, 9.15, 9.99],\n",
       "       [2.3 , 3.21, 4.64, 7.09, 9.88],\n",
       "       [0.62, 1.99, 3.07, 4.45, 4.98],\n",
       "       [1.63, 1.87, 3.69, 8.14, 9.84],\n",
       "       [1.53, 2.2 , 6.11, 6.73, 7.16],\n",
       "       [0.02, 1.14, 1.53, 2.84, 8.27]]) * msecond"
      ]
     },
     "execution_count": 95,
     "metadata": {},
     "output_type": "execute_result"
    }
   ],
   "source": [
    "inp_gf*ms"
   ]
  },
  {
   "cell_type": "code",
   "execution_count": 96,
   "metadata": {},
   "outputs": [
    {
     "name": "stdout",
     "output_type": "stream",
     "text": [
      "[0.0, 0.0, 0.0, 0.0, 0.0, 0.0, 0.0, 0.0, 0.0, 0.0]\n",
      "[0. 0. 0. 0. 0. 0. 0. 0. 0. 0.]\n"
     ]
    },
    {
     "data": {
      "text/plain": [
       "0.0"
      ]
     },
     "execution_count": 96,
     "metadata": {},
     "output_type": "execute_result"
    }
   ],
   "source": [
    "errors = metric2.calc(inp_gf*ms, out_gf*ms, 1)\n",
    "errors[0]"
   ]
  },
  {
   "cell_type": "code",
   "execution_count": 97,
   "metadata": {},
   "outputs": [
    {
     "name": "stdout",
     "output_type": "stream",
     "text": [
      "[0.0]\n",
      "[0.]\n"
     ]
    },
    {
     "data": {
      "text/plain": [
       "array([0.])"
      ]
     },
     "execution_count": 97,
     "metadata": {},
     "output_type": "execute_result"
    }
   ],
   "source": [
    "metric2.calc(out_gf*ms, out_gf*ms, 1)"
   ]
  },
  {
   "cell_type": "code",
   "execution_count": 103,
   "metadata": {},
   "outputs": [],
   "source": [
    "(inp_gf[0])\n",
    "\n",
    "out_gf[0]"
   ]
  },
  {
   "cell_type": "code",
   "execution_count": 119,
   "metadata": {},
   "outputs": [
    {
     "data": {
      "text/plain": [
       "1.0"
      ]
     },
     "execution_count": 119,
     "metadata": {},
     "output_type": "execute_result"
    }
   ],
   "source": [
    "get_gamma_factor(out_gf[0]*ms, out_gf[0]*ms, delta=20*ms, dt=0.01*ms)"
   ]
  },
  {
   "cell_type": "code",
   "execution_count": 120,
   "metadata": {},
   "outputs": [
    {
     "data": {
      "text/plain": [
       "1.0"
      ]
     },
     "execution_count": 120,
     "metadata": {},
     "output_type": "execute_result"
    }
   ],
   "source": [
    "get_gamma_factor(inp_gf[0]*ms, out_gf[0]*ms, delta=30*ms, dt=0.01*ms)"
   ]
  },
  {
   "cell_type": "code",
   "execution_count": null,
   "metadata": {},
   "outputs": [],
   "source": []
  }
 ],
 "metadata": {
  "kernelspec": {
   "display_name": "brian_opt",
   "language": "python",
   "name": "brian_opt"
  },
  "language_info": {
   "codemirror_mode": {
    "name": "ipython",
    "version": 3
   },
   "file_extension": ".py",
   "mimetype": "text/x-python",
   "name": "python",
   "nbconvert_exporter": "python",
   "pygments_lexer": "ipython3",
   "version": "3.7.3"
  }
 },
 "nbformat": 4,
 "nbformat_minor": 2
}
