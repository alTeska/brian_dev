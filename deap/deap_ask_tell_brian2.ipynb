{
 "cells": [
  {
   "cell_type": "markdown",
   "metadata": {},
   "source": [
    "# Example of Ask/Tell interface with DEAP "
   ]
  },
  {
   "cell_type": "code",
   "execution_count": 1,
   "metadata": {},
   "outputs": [],
   "source": [
    "import random\n",
    "import array\n",
    "import numpy\n",
    "\n",
    "from deap import base, benchmarks, creator, tools, algorithms\n",
    "from deap import cma"
   ]
  },
  {
   "cell_type": "code",
   "execution_count": 2,
   "metadata": {},
   "outputs": [],
   "source": [
    "import numpy as np\n",
    "from brian2 import *\n",
    "from brian2.equations.equations import (DIFFERENTIAL_EQUATION, Equations,\n",
    "                                        SingleEquation, PARAMETER)\n",
    "from brian2.input import TimedArray\n",
    "from brian2 import NeuronGroup, StateMonitor, store, restore, run, defaultclock, second, Quantity\n",
    "from brian2.stateupdaters.base import StateUpdateMethod"
   ]
  },
  {
   "cell_type": "markdown",
   "metadata": {},
   "source": [
    "### Input"
   ]
  },
  {
   "cell_type": "code",
   "execution_count": 3,
   "metadata": {},
   "outputs": [],
   "source": [
    "input_traces = zeros((10,1))*volt\n",
    "for i in range(1):\n",
    "    input_traces[1:,i]=i*10*mV"
   ]
  },
  {
   "cell_type": "code",
   "execution_count": 4,
   "metadata": {},
   "outputs": [],
   "source": [
    "# Create target current traces\n",
    "output_traces = 10*nS*input_traces"
   ]
  },
  {
   "cell_type": "code",
   "execution_count": 5,
   "metadata": {},
   "outputs": [],
   "source": [
    "input = input_traces\n",
    "output = output_traces"
   ]
  },
  {
   "cell_type": "code",
   "execution_count": 6,
   "metadata": {},
   "outputs": [],
   "source": [
    "params = np.array([\n",
    " [ 1.80869973e-08,  2.50218013e-02],\n",
    " [ 1.88373085e-08,  9.89559934e-02], \n",
    " [ 1.88373085e-08,  9.89559934e-02], \n",
    "])"
   ]
  },
  {
   "cell_type": "markdown",
   "metadata": {},
   "source": [
    "### Setup The Model for Optimization"
   ]
  },
  {
   "cell_type": "code",
   "execution_count": 7,
   "metadata": {},
   "outputs": [],
   "source": [
    "input_var = 'v'\n",
    "output_var = 'I'\n",
    "\n",
    "parameter_names = {'g', 'E'}\n",
    "method = ('linear', 'exponential_euler', 'euler')\n",
    "t_start = 0*second\n",
    "popsize, _ = np.shape(params)\n",
    "dt = 0.1 *ms\n",
    "defaultclock.dt = dt"
   ]
  },
  {
   "cell_type": "code",
   "execution_count": 8,
   "metadata": {},
   "outputs": [],
   "source": [
    "model = Equations('''\n",
    "I = g*(v-E) : amp\n",
    "g : siemens (constant)\n",
    "E : volt (constant)\n",
    "''')"
   ]
  },
  {
   "cell_type": "code",
   "execution_count": 9,
   "metadata": {},
   "outputs": [
    {
     "name": "stderr",
     "output_type": "stream",
     "text": [
      "INFO       No numerical integration method specified, using method 'linear' (took 0.00s). [brian2.stateupdaters.base.method_choice]\n"
     ]
    }
   ],
   "source": [
    "state_update_code = StateUpdateMethod.apply_stateupdater(model, {}, method=method)"
   ]
  },
  {
   "cell_type": "markdown",
   "metadata": {},
   "source": [
    "### Required Model Operations"
   ]
  },
  {
   "cell_type": "code",
   "execution_count": 10,
   "metadata": {},
   "outputs": [],
   "source": [
    "Nsteps, Ntraces = input_traces.shape\n",
    "# N = popsize * len(parameter_names)\n",
    "N = popsize\n",
    "duration = Nsteps*dt"
   ]
  },
  {
   "cell_type": "code",
   "execution_count": 11,
   "metadata": {},
   "outputs": [],
   "source": [
    "model_without_diffeq = Equations([eq for eq in model.ordered\n",
    "                                      if eq.type != DIFFERENTIAL_EQUATION])\n",
    "    \n",
    "# Add a parameter for each differential equation\n",
    "diffeq_params = Equations([SingleEquation(PARAMETER, varname, model.dimensions[varname])\n",
    "                           for varname in model.diff_eq_names])\n",
    "\n",
    "# Our new model:\n",
    "model = model_without_diffeq + diffeq_params\n",
    "\n",
    "# Replace input variable by TimedArray\n",
    "input_traces = TimedArray(input, dt = dt)"
   ]
  },
  {
   "cell_type": "code",
   "execution_count": 12,
   "metadata": {},
   "outputs": [],
   "source": [
    "input_unit = input.dim\n",
    "model = model + Equations(input_var + '= input_var(t,i % Ntraces) : '+ \"% s\" % repr(input_unit))\n",
    "\n",
    "# Add criterion with TimedArray\n",
    "output_traces = TimedArray(output, dt = dt)\n",
    "error_unit = output.dim**2\n",
    "model = model + Equations('total_error : %s' % repr(error_unit))"
   ]
  },
  {
   "cell_type": "code",
   "execution_count": 13,
   "metadata": {},
   "outputs": [],
   "source": [
    "neurons = NeuronGroup(Ntraces*N, model, method = method)\n",
    "neurons.namespace['input_var'] = input_traces\n",
    "neurons.namespace['output_var'] = output_traces\n",
    "neurons.namespace['t_start'] = t_start\n",
    "neurons.namespace['Ntraces'] = Ntraces"
   ]
  },
  {
   "cell_type": "markdown",
   "metadata": {},
   "source": [
    "#### Record error  \n",
    "additional differential equation calculating the error"
   ]
  },
  {
   "cell_type": "code",
   "execution_count": 14,
   "metadata": {},
   "outputs": [],
   "source": [
    "neurons.run_regularly('total_error +=  (' + output_var + '-output_var(t,i % Ntraces))**2 * int(t>=t_start)',\n",
    "                      when='end')\n",
    "\n",
    "# Add the code doing the numerical integration\n",
    "neurons.run_regularly(state_update_code, when='groups')\n",
    "\n",
    "# store the state of the network\n",
    "store()"
   ]
  },
  {
   "cell_type": "code",
   "execution_count": 15,
   "metadata": {},
   "outputs": [],
   "source": [
    "def parameters_dict(params):\n",
    "    d = dict()\n",
    "    for name, value in zip(parameter_names, params.T):\n",
    "        d[name] = value\n",
    "            \n",
    "    return d"
   ]
  },
  {
   "cell_type": "code",
   "execution_count": 16,
   "metadata": {},
   "outputs": [],
   "source": [
    "def calc_error(params):\n",
    "    print(params)\n",
    "    popsize, _ = np.shape(params)\n",
    "    N = popsize\n",
    "\n",
    "#     neurons = NeuronGroup(Ntraces*N, model, method = method)\n",
    "    neurons = NeuronGroup(N, model, method = method)\n",
    "    neurons.namespace['input_var'] = input_traces\n",
    "    neurons.namespace['output_var'] = output_traces\n",
    "    neurons.namespace['t_start'] = t_start\n",
    "    neurons.namespace['Ntraces'] = Ntraces\n",
    "\n",
    "    # Record error\n",
    "    neurons.run_regularly('total_error +=  (' + output_var + '-output_var(t,i % Ntraces))**2 * int(t>=t_start)',\n",
    "                          when='end')\n",
    "\n",
    "    # Add the code doing the numerical integration\n",
    "    neurons.run_regularly(state_update_code, when='groups')\n",
    "\n",
    "    d = parameters_dict(params)\n",
    "    neurons.set_states(d, units=False)\n",
    "    run(duration, namespace = {})\n",
    "\n",
    "    e = neurons.total_error/int((duration-t_start)/defaultclock.dt)\n",
    "    e = mean(e.reshape((N,Ntraces)),axis=1)\n",
    "    \n",
    "    return array(e)"
   ]
  },
  {
   "cell_type": "code",
   "execution_count": 17,
   "metadata": {},
   "outputs": [
    {
     "data": {
      "text/html": [
       "NeuronGroup \"neurongroup\" with 3 neurons.<br>\n",
       "<b>Model:</b><nr>\n",
       "\\begin{align*}v &= \\operatorname{input_{var}}{\\left(t,i\\bmod{Ntraces} \\right)} && \\text{(unit of $v$: $\\mathrm{V}$)}\\\\\n",
       "I &= g \\left(- E + v\\right) && \\text{(unit of $I$: $\\mathrm{A}$)}\\\\\n",
       "g &&& \\text{(unit: $\\mathrm{S}$, flags: constant)}\\\\\n",
       "E &&& \\text{(unit: $\\mathrm{V}$, flags: constant)}\\\\\n",
       "total_{error} &&& \\text{(unit: $\\mathrm{A^2}$)}\\end{align*}"
      ],
      "text/plain": [
       "NeuronGroup(clock=Clock(dt=100. * usecond, name='defaultclock'), when=start, order=0, name='neurongroup')"
      ]
     },
     "execution_count": 17,
     "metadata": {},
     "output_type": "execute_result"
    }
   ],
   "source": [
    "neurons"
   ]
  },
  {
   "cell_type": "markdown",
   "metadata": {},
   "source": [
    "### Ask and Tel with calc_error Function"
   ]
  },
  {
   "cell_type": "code",
   "execution_count": 18,
   "metadata": {},
   "outputs": [],
   "source": [
    "start_scope()"
   ]
  },
  {
   "cell_type": "code",
   "execution_count": 19,
   "metadata": {},
   "outputs": [],
   "source": [
    "model = Equations('''\n",
    "I = g*(v-E) : amp\n",
    "g : siemens (constant)\n",
    "E : volt (constant)\n",
    "''')"
   ]
  },
  {
   "cell_type": "code",
   "execution_count": 20,
   "metadata": {},
   "outputs": [],
   "source": [
    "state_update_code = StateUpdateMethod.apply_stateupdater(model, {}, method=method)"
   ]
  },
  {
   "cell_type": "code",
   "execution_count": 21,
   "metadata": {},
   "outputs": [],
   "source": [
    "model_without_diffeq = Equations([eq for eq in model.ordered\n",
    "                                      if eq.type != DIFFERENTIAL_EQUATION])\n",
    "    \n",
    "# Add a parameter for each differential equation\n",
    "diffeq_params = Equations([SingleEquation(PARAMETER, varname, model.dimensions[varname])\n",
    "                           for varname in model.diff_eq_names])\n",
    "\n",
    "# Our new model:\n",
    "model = model_without_diffeq + diffeq_params\n",
    "\n",
    "# Replace input variable by TimedArray\n",
    "input_traces = TimedArray(input, dt = dt)"
   ]
  },
  {
   "cell_type": "code",
   "execution_count": 22,
   "metadata": {},
   "outputs": [],
   "source": [
    "input_unit = input.dim\n",
    "model = model + Equations(input_var + '= input_var(t,i % Ntraces) : '+ \"% s\" % repr(input_unit))\n",
    "\n",
    "# Add criterion with TimedArray\n",
    "output_traces = TimedArray(output, dt = dt)\n",
    "error_unit = output.dim**2\n",
    "model = model + Equations('total_error : %s' % repr(error_unit))"
   ]
  },
  {
   "cell_type": "markdown",
   "metadata": {},
   "source": [
    "### set up DEAP"
   ]
  },
  {
   "cell_type": "code",
   "execution_count": 23,
   "metadata": {},
   "outputs": [],
   "source": [
    "NDIM = 2\n",
    "IND_SIZE = 5\n",
    "\n",
    "creator.create(\"FitnessMin\", base.Fitness, weights=(-1.0, -1.0))\n",
    "creator.create(\"Individual\", list, fitness=creator.FitnessMin)\n",
    "\n",
    "strategy = cma.Strategy(centroid=[2.0]*NDIM, sigma=1.0)\n",
    "\n",
    "toolbox = base.Toolbox()\n",
    "toolbox.register(\"attr_float\", np.random.uniform, -2, 2)\n",
    "toolbox.register(\"individual\", tools.initRepeat, creator.Individual,\n",
    "                 toolbox.attr_float, n=IND_SIZE)\n",
    "\n",
    "toolbox.register(\"generate\", strategy.generate, creator.__dict__[\"Individual\"])\n",
    "toolbox.register(\"update\", strategy.update)"
   ]
  },
  {
   "cell_type": "code",
   "execution_count": 24,
   "metadata": {},
   "outputs": [],
   "source": [
    "hof = tools.HallOfFame(1)\n",
    "stats = tools.Statistics(lambda ind: ind.fitness.values)"
   ]
  },
  {
   "cell_type": "code",
   "execution_count": 25,
   "metadata": {},
   "outputs": [
    {
     "name": "stdout",
     "output_type": "stream",
     "text": [
      "[[1.6380106144194795, 0.34135222519397956], [1.5030782070779367, 1.5316639874589073], [2.0222407693309328, 2.5588964459828945], [1.421425696679829, 2.7914288187794525], [0.9282562628011248, 3.212375997997304], [2.0654229637090347, 1.6245011223160644]] \n",
      "\n"
     ]
    }
   ],
   "source": [
    "stats = None\n",
    "ngen = 1\n",
    "\n",
    "logbook = tools.Logbook()\n",
    "logbook.header = ['gen', 'nevals'] + (stats.fields if stats else [])\n",
    "\n",
    "for gen in range(ngen):\n",
    "    # Generate a new population\n",
    "    population = toolbox.generate()\n",
    "    print(population, '\\n')"
   ]
  },
  {
   "cell_type": "code",
   "execution_count": 26,
   "metadata": {},
   "outputs": [
    {
     "data": {
      "text/plain": [
       "[[1.6380106144194795, 0.34135222519397956],\n",
       " [1.5030782070779367, 1.5316639874589073],\n",
       " [2.0222407693309328, 2.5588964459828945],\n",
       " [1.421425696679829, 2.7914288187794525],\n",
       " [0.9282562628011248, 3.212375997997304],\n",
       " [2.0654229637090347, 1.6245011223160644]]"
      ]
     },
     "execution_count": 26,
     "metadata": {},
     "output_type": "execute_result"
    }
   ],
   "source": [
    "population"
   ]
  },
  {
   "cell_type": "code",
   "execution_count": 27,
   "metadata": {},
   "outputs": [
    {
     "name": "stdout",
     "output_type": "stream",
     "text": [
      "[[1.63801061 0.34135223]\n",
      " [1.50307821 1.53166399]\n",
      " [2.02224077 2.55889645]\n",
      " [1.4214257  2.79142882]\n",
      " [0.92825626 3.212376  ]\n",
      " [2.06542296 1.62450112]]\n",
      "[1.6380106144194795, 0.34135222519397956] 0.3126359383631386\n",
      "[1.5030782070779367, 1.5316639874589073] 5.300174383991945\n",
      "[2.0222407693309328, 2.5588964459828945] 26.77756891396502\n",
      "[1.421425696679829, 2.7914288187794525] 15.743505510517574\n",
      "[0.9282562628011248, 3.212375997997304] 8.89177614712651\n",
      "[2.0654229637090347, 1.6245011223160644] 11.25791678014446\n"
     ]
    }
   ],
   "source": [
    "fitnesses = calc_error(np.array(population))\n",
    "\n",
    "for ind, fit in zip(population, fitnesses):\n",
    "    print(ind, fit)\n",
    "    ind.fitness.values = (fit,)"
   ]
  },
  {
   "cell_type": "code",
   "execution_count": 28,
   "metadata": {},
   "outputs": [],
   "source": [
    "hof.update(population)"
   ]
  },
  {
   "cell_type": "code",
   "execution_count": 29,
   "metadata": {},
   "outputs": [],
   "source": [
    "toolbox.update(population)"
   ]
  },
  {
   "cell_type": "code",
   "execution_count": 30,
   "metadata": {},
   "outputs": [
    {
     "name": "stdout",
     "output_type": "stream",
     "text": [
      "gen\tnevals\n",
      "0  \t6     \n"
     ]
    }
   ],
   "source": [
    "record = stats.compile(population) if stats is not None else {}\n",
    "logbook.record(gen=gen, nevals=len(population), **record)\n",
    "\n",
    "print(logbook.stream)"
   ]
  },
  {
   "cell_type": "code",
   "execution_count": 31,
   "metadata": {},
   "outputs": [
    {
     "data": {
      "text/plain": [
       "[1.6380106144194795, 0.34135222519397956]"
      ]
     },
     "execution_count": 31,
     "metadata": {},
     "output_type": "execute_result"
    }
   ],
   "source": [
    "hof[0]"
   ]
  },
  {
   "cell_type": "code",
   "execution_count": 32,
   "metadata": {},
   "outputs": [
    {
     "data": {
      "text/plain": [
       "0.3126359383631386"
      ]
     },
     "execution_count": 32,
     "metadata": {},
     "output_type": "execute_result"
    }
   ],
   "source": [
    "hof[0].fitness.values[0]"
   ]
  },
  {
   "cell_type": "code",
   "execution_count": 33,
   "metadata": {},
   "outputs": [
    {
     "name": "stdout",
     "output_type": "stream",
     "text": [
      "Best individual is  [1.6380106144194795, 0.34135222519397956] 0.3126359383631386\n"
     ]
    }
   ],
   "source": [
    "print(\"Best individual is \", hof[0], hof[0].fitness.values[0])"
   ]
  },
  {
   "cell_type": "markdown",
   "metadata": {},
   "source": [
    "### Working Bounds?"
   ]
  },
  {
   "cell_type": "code",
   "execution_count": null,
   "metadata": {},
   "outputs": [],
   "source": [
    "NDIM = 2\n",
    "IND_SIZE = 5\n",
    "\n",
    "creator.create(\"FitnessMin\", base.Fitness, weights=(-1.0, -1.0))\n",
    "creator.create(\"Individual\", list, fitness=creator.FitnessMin)"
   ]
  },
  {
   "cell_type": "code",
   "execution_count": null,
   "metadata": {},
   "outputs": [],
   "source": [
    "strategy = cma.Strategy(centroid=[2.0]*NDIM, sigma=1.0)"
   ]
  },
  {
   "cell_type": "code",
   "execution_count": 43,
   "metadata": {},
   "outputs": [
    {
     "data": {
      "text/plain": [
       "\u001b[0;31mInit signature:\u001b[0m \u001b[0mcma\u001b[0m\u001b[0;34m.\u001b[0m\u001b[0mStrategyMultiObjective\u001b[0m\u001b[0;34m(\u001b[0m\u001b[0mpopulation\u001b[0m\u001b[0;34m,\u001b[0m \u001b[0msigma\u001b[0m\u001b[0;34m,\u001b[0m \u001b[0;34m**\u001b[0m\u001b[0mparams\u001b[0m\u001b[0;34m)\u001b[0m\u001b[0;34m\u001b[0m\u001b[0;34m\u001b[0m\u001b[0m\n",
       "\u001b[0;31mDocstring:\u001b[0m     \n",
       "Multiobjective CMA-ES strategy based on the paper [Voss2010]_. It\n",
       "is used similarly as the standard CMA-ES strategy with a generate-update\n",
       "scheme.\n",
       "\n",
       ":param population: An initial population of individual.\n",
       ":param sigma: The initial step size of the complete system.\n",
       ":param mu: The number of parents to use in the evolution. When not\n",
       "           provided it defaults to the length of *population*. (optional)\n",
       ":param lambda_: The number of offspring to produce at each generation.\n",
       "                (optional, defaults to 1)\n",
       ":param indicator: The indicator function to use. (optional, default to\n",
       "                  :func:`~deap.tools.hypervolume`)\n",
       "\n",
       "Other parameters can be provided as described in the next table\n",
       "\n",
       "+----------------+---------------------------+----------------------------+\n",
       "| Parameter      | Default                   | Details                    |\n",
       "+================+===========================+============================+\n",
       "| ``d``          | ``1.0 + N / 2.0``         | Damping for step-size.     |\n",
       "+----------------+---------------------------+----------------------------+\n",
       "| ``ptarg``      | ``1.0 / (5 + 1.0 / 2.0)`` | Taget success rate.        |\n",
       "+----------------+---------------------------+----------------------------+\n",
       "| ``cp``         | ``ptarg / (2.0 + ptarg)`` | Step size learning rate.   |\n",
       "+----------------+---------------------------+----------------------------+\n",
       "| ``cc``         | ``2.0 / (N + 2.0)``       | Cumulation time horizon.   |\n",
       "+----------------+---------------------------+----------------------------+\n",
       "| ``ccov``       | ``2.0 / (N**2 + 6.0)``    | Covariance matrix learning |\n",
       "|                |                           | rate.                      |\n",
       "+----------------+---------------------------+----------------------------+\n",
       "| ``pthresh``    | ``0.44``                  | Threshold success rate.    |\n",
       "+----------------+---------------------------+----------------------------+\n",
       "\n",
       ".. [Voss2010] Voss, Hansen, Igel, \"Improved Step Size Adaptation\n",
       "   for the MO-CMA-ES\", 2010.\n",
       "\u001b[0;31mFile:\u001b[0m           ~/anaconda3/envs/brian_opt/lib/python3.7/site-packages/deap/cma.py\n",
       "\u001b[0;31mType:\u001b[0m           type\n",
       "\u001b[0;31mSubclasses:\u001b[0m     \n"
      ]
     },
     "metadata": {},
     "output_type": "display_data"
    }
   ],
   "source": [
    "cma.StrategyMultiObjective?"
   ]
  },
  {
   "cell_type": "code",
   "execution_count": null,
   "metadata": {},
   "outputs": [],
   "source": [
    "toolbox = base.Toolbox()\n",
    "toolbox.register(\"attr_float\", np.random.uniform, -2, 2)\n",
    "toolbox.register(\"individual\", tools.initRepeat, creator.Individual,\n",
    "                 toolbox.attr_float, n=IND_SIZE)\n",
    "\n",
    "toolbox.register(\"generate\", strategy.generate, creator.__dict__[\"Individual\"])\n",
    "toolbox.register(\"update\", strategy.update)"
   ]
  }
 ],
 "metadata": {
  "kernelspec": {
   "display_name": "brian_opt",
   "language": "python",
   "name": "brian_opt"
  },
  "language_info": {
   "codemirror_mode": {
    "name": "ipython",
    "version": 3
   },
   "file_extension": ".py",
   "mimetype": "text/x-python",
   "name": "python",
   "nbconvert_exporter": "python",
   "pygments_lexer": "ipython3",
   "version": "3.7.3"
  }
 },
 "nbformat": 4,
 "nbformat_minor": 2
}
