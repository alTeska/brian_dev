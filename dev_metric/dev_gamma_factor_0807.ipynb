{
 "cells": [
  {
   "cell_type": "markdown",
   "metadata": {},
   "source": [
    "# Notebook for Dev of GammaFactor Metric "
   ]
  },
  {
   "cell_type": "code",
   "execution_count": 1,
   "metadata": {},
   "outputs": [
    {
     "name": "stderr",
     "output_type": "stream",
     "text": [
      "INFO       Cache size for target \"cython\": 1005 MB.\n",
      "You can call \"clear_cache('cython')\" to delete all files from the cache or manually delete files in the \"/home/alteska/.cython/brian_extensions\" directory. [brian2]\n",
      "WARNING    /home/alteska/anaconda3/envs/brian_opt/lib/python3.7/site-packages/sklearn/externals/joblib/__init__.py:15: DeprecationWarning: sklearn.externals.joblib is deprecated in 0.21 and will be removed in 0.23. Please import this functionality directly from joblib, which can be installed with: pip install joblib. If this warning is raised when loading pickled models, you may need to re-serialize those models with scikit-learn 0.21+.\n",
      "  warnings.warn(msg, category=DeprecationWarning)\n",
      " [py.warnings]\n"
     ]
    }
   ],
   "source": [
    "import numpy as np\n",
    "\n",
    "from brian2 import *\n",
    "from brian2tools import *"
   ]
  },
  {
   "cell_type": "markdown",
   "metadata": {},
   "source": [
    "## Re-use code from old ModelFitting version"
   ]
  },
  {
   "cell_type": "code",
   "execution_count": 2,
   "metadata": {},
   "outputs": [],
   "source": [
    "def firing_rate(spikes):\n",
    "    '''\n",
    "    Rate of the spike train.\n",
    "    '''\n",
    "    if len(spikes)<2:\n",
    "        return NaN\n",
    "    return (len(spikes) - 1) / (spikes[-1] - spikes[0])"
   ]
  },
  {
   "cell_type": "markdown",
   "metadata": {},
   "source": [
    "## Generate Two Spike Trains with IF"
   ]
  },
  {
   "cell_type": "code",
   "execution_count": 3,
   "metadata": {},
   "outputs": [],
   "source": [
    "dt = 0.01 * ms\n",
    "defaultclock.dt = dt\n",
    "input_current = np.hstack([np.zeros(int(5*ms/dt)), np.ones(int(5*ms/dt)*5), np.zeros(5*int(5*ms/dt))])* 5 * nA"
   ]
  },
  {
   "cell_type": "code",
   "execution_count": 4,
   "metadata": {},
   "outputs": [],
   "source": [
    "# C = 1*nF\n",
    "# gL = 30*nS\n",
    "EL = -70*mV\n",
    "VT = -50*mV\n",
    "DeltaT = 2*mV\n",
    "eqs = Equations('''\n",
    "    dv/dt = (gL*(EL-v)+gL*DeltaT*exp((v-VT)/DeltaT) + I(t))/C : volt\n",
    "    gL: siemens (constant)\n",
    "    C: farad (constant)\n",
    "    ''')"
   ]
  },
  {
   "cell_type": "code",
   "execution_count": 5,
   "metadata": {},
   "outputs": [],
   "source": [
    "start_scope()"
   ]
  },
  {
   "cell_type": "code",
   "execution_count": 6,
   "metadata": {},
   "outputs": [],
   "source": [
    "I = TimedArray(input_current, dt=dt)"
   ]
  },
  {
   "cell_type": "code",
   "execution_count": 7,
   "metadata": {},
   "outputs": [],
   "source": [
    "group = NeuronGroup(2, eqs,\n",
    "                    threshold='v > -50*mV',\n",
    "                    reset='v = -70*mV',\n",
    "                    method='exponential_euler')"
   ]
  },
  {
   "cell_type": "code",
   "execution_count": 8,
   "metadata": {},
   "outputs": [],
   "source": [
    "group.v = -70 *mV"
   ]
  },
  {
   "cell_type": "code",
   "execution_count": 9,
   "metadata": {},
   "outputs": [
    {
     "data": {
      "text/plain": [
       "{'N': array(2),\n",
       " 'i': array([0, 1], dtype=int32),\n",
       " 't': 0. * second,\n",
       " 'dt': 10. * usecond,\n",
       " 't_in_timesteps': array(0),\n",
       " 'v': array([-70., -70.]) * mvolt,\n",
       " 'gL': array([30., 30.]) * nsiemens,\n",
       " 'C': array([1., 2.]) * nfarad}"
      ]
     },
     "execution_count": 9,
     "metadata": {},
     "output_type": "execute_result"
    }
   ],
   "source": [
    "group.set_states({'gL': [30*nS, 30*nS], 'C':[1*nF, 2*nF]})\n",
    "group.get_states()"
   ]
  },
  {
   "cell_type": "code",
   "execution_count": 10,
   "metadata": {},
   "outputs": [],
   "source": [
    "monitor = StateMonitor(group, 'v', record=True)\n",
    "smonitor  = SpikeMonitor(group)"
   ]
  },
  {
   "cell_type": "code",
   "execution_count": 11,
   "metadata": {},
   "outputs": [],
   "source": [
    "run(60*ms)"
   ]
  },
  {
   "cell_type": "code",
   "execution_count": 12,
   "metadata": {},
   "outputs": [],
   "source": [
    "voltage = monitor.v[0]/mV\n",
    "voltage1 = monitor.v[1]/mV"
   ]
  },
  {
   "cell_type": "code",
   "execution_count": 13,
   "metadata": {},
   "outputs": [],
   "source": [
    "spike_times = smonitor.t_[:]"
   ]
  },
  {
   "cell_type": "code",
   "execution_count": 14,
   "metadata": {},
   "outputs": [
    {
     "data": {
      "image/png": "[encoded data removed]",
      "text/plain": [
       "<Figure size 432x288 with 1 Axes>"
      ]
     },
     "metadata": {
      "needs_background": "light"
     },
     "output_type": "display_data"
    }
   ],
   "source": [
    "plot(voltage);\n",
    "plot(voltage1);"
   ]
  },
  {
   "cell_type": "markdown",
   "metadata": {},
   "source": [
    "### Get Spike Information"
   ]
  },
  {
   "cell_type": "code",
   "execution_count": 15,
   "metadata": {},
   "outputs": [
    {
     "data": {
      "text/plain": [
       "array([0, 0, 1, 0, 0, 1, 0], dtype=int32)"
      ]
     },
     "execution_count": 15,
     "metadata": {},
     "output_type": "execute_result"
    }
   ],
   "source": [
    "smonitor.i[:]"
   ]
  },
  {
   "cell_type": "code",
   "execution_count": 16,
   "metadata": {},
   "outputs": [
    {
     "data": {
      "text/plain": [
       "7"
      ]
     },
     "execution_count": 16,
     "metadata": {},
     "output_type": "execute_result"
    }
   ],
   "source": [
    "smonitor.num_spikes"
   ]
  },
  {
   "cell_type": "code",
   "execution_count": 17,
   "metadata": {},
   "outputs": [
    {
     "data": {
      "text/plain": [
       "{'t': {0: array([ 9.24, 13.5 , 17.76, 22.02, 26.28]) * msecond,\n",
       "  1: array([13.5 , 22.02]) * msecond}}"
      ]
     },
     "execution_count": 17,
     "metadata": {},
     "output_type": "execute_result"
    }
   ],
   "source": [
    " smonitor.all_values()"
   ]
  },
  {
   "cell_type": "code",
   "execution_count": 36,
   "metadata": {},
   "outputs": [
    {
     "data": {
      "text/plain": [
       "{0: array([ 9.24, 13.5 , 17.76, 22.02, 26.28]) * msecond,\n",
       " 1: array([13.5 , 22.02]) * msecond}"
      ]
     },
     "execution_count": 36,
     "metadata": {},
     "output_type": "execute_result"
    }
   ],
   "source": [
    "smonitor.values('t')"
   ]
  },
  {
   "cell_type": "code",
   "execution_count": 40,
   "metadata": {},
   "outputs": [
    {
     "data": {
      "text/plain": [
       "array([ 9.24, 13.5 , 17.76, 22.02, 26.28])"
      ]
     },
     "execution_count": 40,
     "metadata": {},
     "output_type": "execute_result"
    }
   ],
   "source": [
    "smonitor.values('t')[0]/ms"
   ]
  },
  {
   "cell_type": "code",
   "execution_count": 41,
   "metadata": {},
   "outputs": [
    {
     "data": {
      "text/plain": [
       "array([13.5 , 22.02])"
      ]
     },
     "execution_count": 41,
     "metadata": {},
     "output_type": "execute_result"
    }
   ],
   "source": [
    "smonitor.values('t')[1]/ms"
   ]
  },
  {
   "cell_type": "code",
   "execution_count": 19,
   "metadata": {},
   "outputs": [
    {
     "data": {
      "text/plain": [
       "{0: array([ 9.24, 13.5 , 17.76, 22.02, 26.28]) * msecond,\n",
       " 1: array([13.5 , 22.02]) * msecond}"
      ]
     },
     "execution_count": 19,
     "metadata": {},
     "output_type": "execute_result"
    }
   ],
   "source": [
    "smonitor.spike_trains()"
   ]
  },
  {
   "cell_type": "code",
   "execution_count": 37,
   "metadata": {},
   "outputs": [],
   "source": [
    "getattr(smonitor, 't')"
   ]
  },
  {
   "cell_type": "code",
   "execution_count": 38,
   "metadata": {},
   "outputs": [
    {
     "data": {
      "text/plain": [
       "array([0, 0, 1, 0, 0, 1, 0], dtype=int32)"
      ]
     },
     "execution_count": 38,
     "metadata": {},
     "output_type": "execute_result"
    }
   ],
   "source": [
    "smonitor.i[:]"
   ]
  },
  {
   "cell_type": "markdown",
   "metadata": {},
   "source": [
    "### Separate the Traces"
   ]
  },
  {
   "cell_type": "code",
   "execution_count": 21,
   "metadata": {},
   "outputs": [
    {
     "data": {
      "text/plain": [
       "{0: array([ 9.24, 13.5 , 17.76, 22.02, 26.28]) * msecond,\n",
       " 1: array([13.5 , 22.02]) * msecond}"
      ]
     },
     "execution_count": 21,
     "metadata": {},
     "output_type": "execute_result"
    }
   ],
   "source": [
    "spike_trains = smonitor.spike_trains()\n",
    "spike_trains"
   ]
  },
  {
   "cell_type": "code",
   "execution_count": 22,
   "metadata": {},
   "outputs": [
    {
     "data": {
      "text/plain": [
       "array([ 9.24, 13.5 , 17.76, 22.02, 26.28])"
      ]
     },
     "execution_count": 22,
     "metadata": {},
     "output_type": "execute_result"
    }
   ],
   "source": [
    "st0 = spike_trains[0] / ms\n",
    "st0"
   ]
  },
  {
   "cell_type": "code",
   "execution_count": 23,
   "metadata": {},
   "outputs": [
    {
     "data": {
      "text/plain": [
       "array([13.5 , 22.02])"
      ]
     },
     "execution_count": 23,
     "metadata": {},
     "output_type": "execute_result"
    }
   ],
   "source": [
    "st1 = spike_trains[1] / ms\n",
    "st1"
   ]
  },
  {
   "cell_type": "code",
   "execution_count": 24,
   "metadata": {},
   "outputs": [
    {
     "name": "stdout",
     "output_type": "stream",
     "text": [
      "2\n",
      "5\n"
     ]
    }
   ],
   "source": [
    "print(len(st1))\n",
    "print(len(st0))"
   ]
  },
  {
   "cell_type": "code",
   "execution_count": 25,
   "metadata": {},
   "outputs": [
    {
     "data": {
      "text/plain": [
       "0.2347417840375587"
      ]
     },
     "execution_count": 25,
     "metadata": {},
     "output_type": "execute_result"
    }
   ],
   "source": [
    "fr0 = firing_rate(st0)\n",
    "fr0"
   ]
  },
  {
   "cell_type": "code",
   "execution_count": 26,
   "metadata": {},
   "outputs": [
    {
     "data": {
      "text/plain": [
       "0.11737089201877937"
      ]
     },
     "execution_count": 26,
     "metadata": {},
     "output_type": "execute_result"
    }
   ],
   "source": [
    "fr1 = firing_rate(st1)\n",
    "fr1"
   ]
  },
  {
   "cell_type": "markdown",
   "metadata": {},
   "source": [
    "## Gamma Factor with Big window"
   ]
  },
  {
   "cell_type": "code",
   "execution_count": 27,
   "metadata": {},
   "outputs": [],
   "source": [
    "delta = 60 * ms"
   ]
  },
  {
   "cell_type": "code",
   "execution_count": 28,
   "metadata": {},
   "outputs": [],
   "source": [
    "source = array(st1)\n",
    "target = array(st0)\n",
    "target_rate = firing_rate(target) * Hz\n",
    "\n",
    "source = np.array(np.rint(source / dt), dtype=int)\n",
    "target = np.array(np.rint(target / dt), dtype=int)\n",
    "delta_diff = int(np.rint(delta / dt))\n",
    "\n",
    "source_length = len(source)\n",
    "target_length = len(target)\n",
    "\n",
    "if (source_length > 1):\n",
    "    bins = .5 * (source[1:] + source[:-1])\n",
    "    indices = np.digitize(target, bins)\n",
    "    diff = np.abs(target - source[indices])\n",
    "    matched_spikes = (diff <= delta_diff)\n",
    "    coincidences = np.sum(matched_spikes)\n",
    "else:\n",
    "    indices = [np.amin(np.abs(source - target[i])) <= delta_diff for i in xrange(target_length)]\n",
    "    coincidences = np.sum(indices)\n",
    "\n",
    "# Normalization of the coincidences count\n",
    "NCoincAvg = 2 * delta * target_length * target_rate\n",
    "norm = .5*(1 - 2 * target_rate * delta)\n",
    "gamma = (coincidences - NCoincAvg)/(norm*(source_length + target_length))"
   ]
  },
  {
   "cell_type": "code",
   "execution_count": 29,
   "metadata": {},
   "outputs": [
    {
     "data": {
      "text/plain": [
       "0.5465838509316769"
      ]
     },
     "execution_count": 29,
     "metadata": {},
     "output_type": "execute_result"
    }
   ],
   "source": [
    "gamma"
   ]
  },
  {
   "cell_type": "code",
   "execution_count": 30,
   "metadata": {},
   "outputs": [],
   "source": [
    "def get_gamma_factor(source, target, delta, dt):\n",
    "    source = array(source)\n",
    "    target = array(target)\n",
    "    target_rate = firing_rate(target) * Hz\n",
    "\n",
    "    source = np.array(np.rint(source / dt), dtype=int)\n",
    "    target = np.array(np.rint(target / dt), dtype=int)\n",
    "    delta_diff = int(np.rint(delta / dt))\n",
    "\n",
    "    source_length = len(source)\n",
    "    target_length = len(target)\n",
    "\n",
    "    if (source_length > 1):\n",
    "        bins = .5 * (source[1:] + source[:-1])\n",
    "        indices = np.digitize(target, bins)\n",
    "        diff = np.abs(target - source[indices])\n",
    "        matched_spikes = (diff <= delta_diff)\n",
    "        coincidences = np.sum(matched_spikes)\n",
    "    else:\n",
    "        indices = [np.amin(np.abs(source - target[i])) <= delta_diff for i in xrange(target_length)]\n",
    "        coincidences = np.sum(indices)\n",
    "\n",
    "    # Normalization of the coincidences count\n",
    "    NCoincAvg = 2 * delta * target_length * target_rate\n",
    "    norm = .5*(1 - 2 * target_rate * delta)\n",
    "    gamma = (coincidences - NCoincAvg)/(norm*(source_length + target_length))\n",
    "    \n",
    "    return gamma"
   ]
  },
  {
   "cell_type": "code",
   "execution_count": 31,
   "metadata": {},
   "outputs": [
    {
     "data": {
      "text/plain": [
       "0.5292047853624208"
      ]
     },
     "execution_count": 31,
     "metadata": {},
     "output_type": "execute_result"
    }
   ],
   "source": [
    "get_gamma_factor(st1, st0, 100*ms, 0.01*ms)"
   ]
  },
  {
   "cell_type": "code",
   "execution_count": null,
   "metadata": {},
   "outputs": [],
   "source": []
  }
 ],
 "metadata": {
  "kernelspec": {
   "display_name": "brian_opt",
   "language": "python",
   "name": "brian_opt"
  },
  "language_info": {
   "codemirror_mode": {
    "name": "ipython",
    "version": 3
   },
   "file_extension": ".py",
   "mimetype": "text/x-python",
   "name": "python",
   "nbconvert_exporter": "python",
   "pygments_lexer": "ipython3",
   "version": "3.7.3"
  }
 },
 "nbformat": 4,
 "nbformat_minor": 2
}
