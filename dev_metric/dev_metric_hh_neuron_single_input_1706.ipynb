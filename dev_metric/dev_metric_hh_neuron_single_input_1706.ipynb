{
 "cells": [
  {
   "cell_type": "markdown",
   "metadata": {},
   "source": [
    "# Notebook Generating Two Input/Output for HH "
   ]
  },
  {
   "cell_type": "code",
   "execution_count": 1,
   "metadata": {},
   "outputs": [
    {
     "name": "stderr",
     "output_type": "stream",
     "text": [
      "WARNING    /home/alteska/anaconda3/envs/brian_opt/lib/python3.7/site-packages/sklearn/externals/joblib/__init__.py:15: DeprecationWarning: sklearn.externals.joblib is deprecated in 0.21 and will be removed in 0.23. Please import this functionality directly from joblib, which can be installed with: pip install joblib. If this warning is raised when loading pickled models, you may need to re-serialize those models with scikit-learn 0.21+.\n",
      "  warnings.warn(msg, category=DeprecationWarning)\n",
      " [py.warnings]\n"
     ]
    }
   ],
   "source": [
    "from brian2 import *\n",
    "from brian2tools import *\n",
    "\n",
    "\n",
    "prefs.codegen.target = 'cython'  # weave is not multiprocess-safe!"
   ]
  },
  {
   "cell_type": "code",
   "execution_count": 2,
   "metadata": {},
   "outputs": [],
   "source": [
    "# Parameters\n",
    "area = 20000*umetre**2\n",
    "Cm = 1*ufarad*cm**-2 * area\n",
    "El = -65*mV\n",
    "EK = -90*mV\n",
    "ENa = 50*mV\n",
    "VT = -63*mV\n",
    "\n",
    "dt = 0.01*ms"
   ]
  },
  {
   "cell_type": "code",
   "execution_count": 3,
   "metadata": {},
   "outputs": [],
   "source": [
    "# Generate a step-current input and an \"experimental\" voltage trace\n",
    "input_current = np.hstack([np.zeros(int(5*ms/dt)), np.ones(int(5*ms/dt)), np.zeros(int(5*ms/dt))])*nA"
   ]
  },
  {
   "cell_type": "code",
   "execution_count": 22,
   "metadata": {},
   "outputs": [
    {
     "data": {
      "text/plain": [
       "(1497,)"
      ]
     },
     "execution_count": 22,
     "metadata": {},
     "output_type": "execute_result"
    }
   ],
   "source": [
    "np.shape(input_current)"
   ]
  },
  {
   "cell_type": "code",
   "execution_count": 4,
   "metadata": {},
   "outputs": [],
   "source": [
    "params_correct = {'gl': float(5e-5*siemens*cm**-2 * area),\n",
    "                  'g_na': float(100*msiemens*cm**-2 * area),\n",
    "                  'g_kd': float(30*msiemens*cm**-2 * area)}\n",
    "\n",
    "defaultclock.dt = dt"
   ]
  },
  {
   "cell_type": "code",
   "execution_count": 5,
   "metadata": {},
   "outputs": [],
   "source": [
    "# The model\n",
    "eqsHH = Equations('''\n",
    "dv/dt = (gl*(El-v) - g_na*(m*m*m)*h*(v-ENa) - g_kd*(n*n*n*n)*(v-EK) + I(t))/Cm : volt\n",
    "dm/dt = 0.32*(mV**-1)*(13.*mV-v+VT)/\n",
    "    (exp((13.*mV-v+VT)/(4.*mV))-1.)/ms*(1-m)-0.28*(mV**-1)*(v-VT-40.*mV)/\n",
    "    (exp((v-VT-40.*mV)/(5.*mV))-1.)/ms*m : 1\n",
    "dn/dt = 0.032*(mV**-1)*(15.*mV-v+VT)/\n",
    "    (exp((15.*mV-v+VT)/(5.*mV))-1.)/ms*(1.-n)-.5*exp((10.*mV-v+VT)/(40.*mV))/ms*n : 1\n",
    "dh/dt = 0.128*exp((17.*mV-v+VT)/(18.*mV))/ms*(1.-h)-4./(1+exp((40.*mV-v+VT)/(5.*mV)))/ms*h : 1\n",
    "g_na : siemens (constant)\n",
    "g_kd : siemens (constant)\n",
    "gl   : siemens (constant)\n",
    "''')"
   ]
  },
  {
   "cell_type": "code",
   "execution_count": 31,
   "metadata": {},
   "outputs": [
    {
     "name": "stderr",
     "output_type": "stream",
     "text": [
      "WARNING    \"n\" is an internal variable of group \"neurongroup\", but also exists in the run namespace with the value 4. The internal variable will be used. [brian2.groups.group.Group.resolve.resolution_conflict]\n"
     ]
    }
   ],
   "source": [
    "I = TimedArray(input_current, dt=dt)\n",
    "\n",
    "G = NeuronGroup(1, eqsHH, method='exponential_euler')\n",
    "G.v = El\n",
    "G.set_states(params_correct, units=False)\n",
    "mon = StateMonitor(G, 'v', record=0)\n",
    "run(20*ms)\n",
    "\n",
    "voltage = mon.v[0]/mV\n",
    "voltage += np.random.randn(len(voltage))\n",
    "\n",
    "\n",
    "inp_trace = np.array([input_current])\n",
    "n0, n1 = inp_trace.shape\n",
    "\n",
    "out_trace = np.array([voltage[:n1]])"
   ]
  },
  {
   "cell_type": "code",
   "execution_count": 35,
   "metadata": {},
   "outputs": [
    {
     "data": {
      "text/plain": [
       "array([[-65.        , -65.        , -65.        , ..., -74.45678717,\n",
       "        -74.45205975, -74.44733469]])"
      ]
     },
     "execution_count": 35,
     "metadata": {},
     "output_type": "execute_result"
    }
   ],
   "source": [
    "mon.v/mV"
   ]
  },
  {
   "cell_type": "code",
   "execution_count": 24,
   "metadata": {},
   "outputs": [
    {
     "data": {
      "text/plain": [
       "(1497,)"
      ]
     },
     "execution_count": 24,
     "metadata": {},
     "output_type": "execute_result"
    }
   ],
   "source": [
    "np.shape(out_trace[0])"
   ]
  },
  {
   "cell_type": "code",
   "execution_count": 7,
   "metadata": {},
   "outputs": [
    {
     "data": {
      "image/png": "[encoded data removed]",
      "text/plain": [
       "<Figure size 432x288 with 1 Axes>"
      ]
     },
     "metadata": {
      "needs_background": "light"
     },
     "output_type": "display_data"
    }
   ],
   "source": [
    "plot(out_trace[0]);\n",
    "plot(inp_trace[0]);"
   ]
  },
  {
   "cell_type": "code",
   "execution_count": 8,
   "metadata": {},
   "outputs": [
    {
     "data": {
      "text/plain": [
       "array([[-64.79072805, -63.86959387, -67.04494851, ..., -78.15798366,\n",
       "        -76.94720516, -78.28342677]])"
      ]
     },
     "execution_count": 8,
     "metadata": {},
     "output_type": "execute_result"
    }
   ],
   "source": [
    "out_trace"
   ]
  },
  {
   "cell_type": "code",
   "execution_count": 9,
   "metadata": {},
   "outputs": [
    {
     "data": {
      "text/plain": [
       "array([[0., 0., 0., ..., 0., 0., 0.]])"
      ]
     },
     "execution_count": 9,
     "metadata": {},
     "output_type": "execute_result"
    }
   ],
   "source": [
    "inp_trace"
   ]
  },
  {
   "cell_type": "code",
   "execution_count": 10,
   "metadata": {},
   "outputs": [],
   "source": [
    "# Model for modelfitting\n",
    "eqs = Equations(\n",
    "'''\n",
    "dv/dt = (gl*(El-v) - g_na*(m*m*m)*h*(v-ENa) - g_kd*(n*n*n*n)*(v-EK) + I)/Cm : volt\n",
    "dm/dt = 0.32*(mV**-1)*(13.*mV-v+VT)/\n",
    "    (exp((13.*mV-v+VT)/(4.*mV))-1.)/ms*(1-m)-0.28*(mV**-1)*(v-VT-40.*mV)/\n",
    "    (exp((v-VT-40.*mV)/(5.*mV))-1.)/ms*m : 1\n",
    "dn/dt = 0.032*(mV**-1)*(15.*mV-v+VT)/\n",
    "    (exp((15.*mV-v+VT)/(5.*mV))-1.)/ms*(1.-n)-.5*exp((10.*mV-v+VT)/(40.*mV))/ms*n : 1\n",
    "dh/dt = 0.128*exp((17.*mV-v+VT)/(18.*mV))/ms*(1.-h)-4./(1+exp((40.*mV-v+VT)/(5.*mV)))/ms*h : 1\n",
    "g_na : siemens (constant)\n",
    "g_kd : siemens (constant)\n",
    "gl   : siemens (constant)\n",
    "''',\n",
    "Cm=1*ufarad*cm**-2 * area, El=-65*mV, EK=-90*mV, ENa=50*mV, VT=-63*mV)"
   ]
  },
  {
   "cell_type": "code",
   "execution_count": 11,
   "metadata": {},
   "outputs": [],
   "source": [
    "n_opt = NevergradOptimizer()"
   ]
  },
  {
   "cell_type": "code",
   "execution_count": 27,
   "metadata": {},
   "outputs": [
    {
     "name": "stderr",
     "output_type": "stream",
     "text": [
      "INFO       No numerical integration method specified for group 'neurongroup', using method 'exponential_euler' (took 0.01s, trying other methods took 0.02s). [brian2.stateupdaters.base.method_choice]\n"
     ]
    },
    {
     "name": "stdout",
     "output_type": "stream",
     "text": [
      "Runtime\n",
      "parameters [[8.72865401e-09 3.27048787e-05 6.03124224e-06]\n",
      " [6.41266057e-09 3.09149209e-05 1.00335947e-05]\n",
      " [3.34879141e-09 2.92919225e-05 2.87390748e-06]\n",
      " [1.11630123e-08 3.09474815e-05 9.11879806e-06]\n",
      " [1.10514825e-08 2.00276623e-05 4.86700913e-06]\n",
      " [1.61504845e-08 1.94866422e-05 1.21733572e-05]\n",
      " [7.06539480e-09 1.10767913e-05 1.20596429e-05]\n",
      " [1.45214002e-08 2.77143753e-05 1.18862309e-05]\n",
      " [1.36593270e-08 2.87977390e-05 7.63907613e-06]\n",
      " [1.61653200e-08 2.99366386e-05 1.51056743e-05]\n",
      " [5.66517901e-09 3.16105072e-05 1.21482421e-05]\n",
      " [1.63970139e-08 2.18214996e-05 1.32689888e-05]\n",
      " [1.38058458e-08 1.16763738e-05 1.78017818e-05]\n",
      " [1.36344420e-08 8.83670982e-06 1.55482496e-05]\n",
      " [1.51147904e-08 3.23480578e-05 1.15423738e-05]\n",
      " [8.77564271e-09 9.33536440e-06 7.14100869e-06]\n",
      " [1.40095418e-08 2.33188021e-05 1.46967718e-05]\n",
      " [5.15692813e-09 2.67367004e-05 9.65056748e-06]\n",
      " [6.54863380e-09 1.48505535e-05 3.79300712e-06]\n",
      " [8.05814909e-09 1.17672829e-05 9.36474818e-06]\n",
      " [9.26702652e-09 1.23137748e-05 6.42711510e-06]\n",
      " [6.00444085e-09 7.50925012e-06 1.44961030e-05]\n",
      " [1.22405901e-08 2.90676749e-05 7.25553563e-06]\n",
      " [1.63828543e-08 4.00885343e-06 1.61365801e-05]\n",
      " [1.26787028e-08 9.37989557e-06 8.09776972e-06]\n",
      " [1.15886316e-08 2.24741270e-05 9.44308386e-06]\n",
      " [9.11983406e-09 1.64410369e-05 1.09392644e-05]\n",
      " [7.15837154e-09 1.03093580e-05 5.80275742e-06]\n",
      " [1.29300080e-08 2.84117114e-05 1.37085566e-05]\n",
      " [4.50759600e-09 1.29304673e-05 1.48633906e-05]]\n",
      "output_traces [[ 0.00000000e+00  0.00000000e+00  0.00000000e+00 ...  0.00000000e+00\n",
      "   0.00000000e+00  0.00000000e+00]\n",
      " [-2.83619361e-02 -2.08378060e-02 -1.08826610e-02 ... -2.32605446e-02\n",
      "  -4.20089451e-02 -1.46480363e-02]\n",
      " [-5.66872125e-02 -4.16470304e-02 -2.17411470e-02 ... -4.65060562e-02\n",
      "  -8.39716869e-02 -2.92861966e-02]\n",
      " ...\n",
      " [-6.96629762e+01 -7.19765088e+01 -6.80122096e+01 ... -6.95201963e+01\n",
      "  -6.99022192e+01 -7.37658959e+01]\n",
      " [-6.96609331e+01 -7.19742705e+01 -6.80116828e+01 ... -6.95185758e+01\n",
      "  -6.98990448e+01 -7.37639202e+01]\n",
      " [-6.96588908e+01 -7.19720329e+01 -6.80111561e+01 ... -6.95169560e+01\n",
      "  -6.98958724e+01 -7.37619450e+01]] mV\n",
      "shape (1497, 30)\n",
      "err [194.01485927 216.61816567 222.81638826 173.01587961 178.38077277\n",
      " 171.75126309 190.71528314 171.75788923 173.53446738 175.96969935\n",
      " 195.37638985 162.73870375 174.25721955 153.83431493 172.886557\n",
      " 168.76683884 156.07672965 196.33532003 188.09517111 178.54754358\n",
      " 176.42173411 198.41566069 173.18495245 144.61202149 158.52391079\n",
      " 172.8821931  171.46424045 194.00587791 185.52673685 214.13367653] mV^2\n",
      "parameters [[8.72865401e-09 3.23552520e-06 1.40827728e-05]\n",
      " [1.55699730e-08 3.09149209e-05 1.69828442e-05]\n",
      " [1.50805350e-08 3.30020913e-06 2.87390748e-06]\n",
      " [1.77461350e-08 1.05021980e-05 1.70953672e-05]\n",
      " [1.27604024e-08 2.00276623e-05 1.64170945e-05]\n",
      " [1.81196878e-08 1.94866422e-05 1.59806078e-05]\n",
      " [1.71094076e-08 1.10767913e-05 1.20596429e-05]\n",
      " [1.45214002e-08 2.77143753e-05 1.55069439e-05]\n",
      " [1.67246117e-08 2.87977390e-05 1.56073715e-05]\n",
      " [1.75990036e-08 7.70697342e-06 1.51056743e-05]\n",
      " [1.42978690e-08 3.16105072e-05 1.21482421e-05]\n",
      " [1.78466827e-08 2.18214996e-05 1.70193562e-05]\n",
      " [1.76757140e-08 1.09082900e-05 1.65085839e-05]\n",
      " [1.58058737e-08 3.86507036e-06 1.66092145e-05]\n",
      " [1.79787678e-08 4.47755845e-06 1.15423738e-05]\n",
      " [1.38787544e-08 9.33536440e-06 1.57763070e-05]\n",
      " [1.40095418e-08 2.33188021e-05 1.81606874e-05]\n",
      " [1.55878885e-08 2.67367004e-05 9.65056748e-06]\n",
      " [1.23758621e-08 1.48505535e-05 3.79300712e-06]\n",
      " [8.05814909e-09 4.36910838e-06 9.36474818e-06]\n",
      " [9.26702652e-09 3.93113375e-06 1.68527239e-05]\n",
      " [7.40095533e-09 7.50925012e-06 1.24025785e-05]\n",
      " [1.11823106e-08 2.90676749e-05 7.25553563e-06]\n",
      " [1.63828543e-08 4.72164351e-06 1.53280814e-05]\n",
      " [1.26787028e-08 7.40740781e-06 8.09776972e-06]\n",
      " [1.76913373e-08 7.98031089e-06 9.44308386e-06]\n",
      " [9.11983406e-09 5.92431285e-06 1.09392644e-05]\n",
      " [7.15837154e-09 8.04499044e-06 5.80275742e-06]\n",
      " [1.18731702e-08 2.38581766e-05 1.03848605e-05]\n",
      " [4.50759600e-09 1.29304673e-05 1.77510140e-05]]\n",
      "output_traces [[ 0.00000000e+00  0.00000000e+00  0.00000000e+00 ...  0.00000000e+00\n",
      "   0.00000000e+00  0.00000000e+00]\n",
      " [-2.83619361e-02 -5.05827204e-02 -4.89932653e-02 ... -2.32605446e-02\n",
      "  -3.85763514e-02 -1.46480363e-02]\n",
      " [-5.67123602e-02 -1.01105840e-01 -9.79476988e-02 ... -4.65078385e-02\n",
      "  -7.71135376e-02 -2.92868961e-02]\n",
      " ...\n",
      " [-7.12018939e+01 -6.93801388e+01 -6.60539617e+01 ... -6.94635846e+01\n",
      "  -6.96953709e+01 -7.43038733e+01]\n",
      " [-7.11991876e+01 -6.93767208e+01 -6.60531592e+01 ... -6.94619850e+01\n",
      "  -6.96925784e+01 -7.43017765e+01]\n",
      " [-7.11964824e+01 -6.93733054e+01 -6.60523573e+01 ... -6.94603859e+01\n",
      "  -6.96897874e+01 -7.42996802e+01]] mV\n",
      "shape (1497, 30)\n",
      "err [183.11407148 187.25731502 186.40585146 144.08718519 163.47138179\n",
      " 168.88390949 158.26798881 172.98573239 162.89729876 159.70624184\n",
      " 166.40509072 159.88832313 160.71128747 146.65276998 150.10573962\n",
      " 159.69628366 155.35539389 165.76380738 184.44945301 173.24112812\n",
      " 189.5795119  186.34749439 174.73226583 144.95274007 157.23708205\n",
      " 151.50616236 164.6964909  191.908535   182.68493783 222.11532274] mV^2\n",
      "parameters [[1.37588078e-08 3.23552520e-06 1.40827728e-05]\n",
      " [1.55699730e-08 2.46806377e-05 1.73530417e-05]\n",
      " [1.50805350e-08 3.09581247e-06 1.61160447e-05]\n",
      " [1.81634050e-08 1.05021980e-05 1.84346679e-05]\n",
      " [1.37037400e-08 2.00276623e-05 1.64170945e-05]\n",
      " [1.35776470e-08 1.94866422e-05 1.66981976e-05]\n",
      " [1.71094076e-08 1.09878142e-05 1.42651810e-05]\n",
      " [1.45214002e-08 1.98063661e-05 1.79424238e-05]\n",
      " [1.82531205e-08 3.11197962e-05 1.67696112e-05]\n",
      " [1.75990036e-08 7.70697342e-06 1.68579047e-05]\n",
      " [1.42978690e-08 4.02569289e-06 1.78320257e-05]\n",
      " [1.78466827e-08 7.48343541e-06 1.43959581e-05]\n",
      " [1.76757140e-08 3.58649519e-05 1.65085839e-05]\n",
      " [1.77515175e-08 3.86507036e-06 1.80573231e-05]\n",
      " [1.59901247e-08 4.47755845e-06 1.78466633e-05]\n",
      " [1.74498498e-08 9.33536440e-06 7.02891738e-06]\n",
      " [1.40095418e-08 5.89722874e-06 1.81606874e-05]\n",
      " [1.86549299e-08 1.12991738e-05 9.65056748e-06]\n",
      " [1.68709850e-08 6.79234014e-06 3.79300712e-06]\n",
      " [9.00605564e-09 8.46854972e-06 1.67442188e-05]\n",
      " [1.20099153e-08 2.95319383e-05 1.55567997e-05]\n",
      " [1.68568179e-08 7.50925012e-06 1.69342031e-05]\n",
      " [1.82815103e-08 3.40125102e-05 7.25553563e-06]\n",
      " [1.72787905e-08 3.56233568e-06 1.61365801e-05]\n",
      " [1.79870056e-08 7.40740781e-06 1.56959984e-05]\n",
      " [1.76913373e-08 9.67967925e-06 9.44308386e-06]\n",
      " [9.11983406e-09 7.61939635e-06 1.80585244e-05]\n",
      " [7.15837154e-09 1.62467113e-05 9.98363090e-06]\n",
      " [1.80350700e-08 2.38581766e-05 1.03848605e-05]\n",
      " [1.56700912e-08 4.63354130e-06 6.01959153e-06]]\n",
      "output_traces [[ 0.00000000e+00  0.00000000e+00  0.00000000e+00 ...  0.00000000e+00\n",
      "   0.00000000e+00  0.00000000e+00]\n",
      " [-4.47007479e-02 -5.05827204e-02 -4.89932653e-02 ... -2.32605446e-02\n",
      "  -5.85875576e-02 -5.09078504e-02]\n",
      " [-8.93716160e-02 -1.01110840e-01 -9.79510650e-02 ... -4.65023955e-02\n",
      "  -1.17106027e-01 -1.01773638e-01]\n",
      " ...\n",
      " [-6.93275095e+01 -6.93350746e+01 -6.91390024e+01 ... -7.12702339e+01\n",
      "  -6.80375529e+01 -6.74291154e+01]\n",
      " [-6.93245327e+01 -6.93316934e+01 -6.91358819e+01 ... -7.12679886e+01\n",
      "  -6.80347976e+01 -6.74272083e+01]\n",
      " [-6.93215579e+01 -6.93283149e+01 -6.91327638e+01 ... -7.12657442e+01\n",
      "  -6.80320447e+01 -6.74253027e+01]] mV\n",
      "shape (1497, 30)\n",
      "err [164.58510723 183.98407301 145.31465442 143.13909946 160.73606876\n",
      " 184.61683878 159.18642061 170.0143451  160.39531273 160.94026226\n",
      " 152.1010893  152.00085227 173.99427197 142.80153976 157.47589662\n",
      " 155.24921879 147.38235285 151.13944082 175.18570271 184.9589279\n",
      " 190.64550106 158.76036644 170.16618604 142.7213748  145.02462265\n",
      " 152.52100805 173.09265702 217.48488029 166.76607828 158.11426654] mV^2\n",
      "parameters [[1.83874805e-08 1.70843695e-05 1.40918519e-05]\n",
      " [1.55699730e-08 2.46806377e-05 1.31009571e-05]\n",
      " [1.37869848e-08 3.03906415e-06 1.61160447e-05]\n",
      " [1.82590027e-08 6.69964931e-06 1.84346679e-05]\n",
      " [1.73929432e-08 2.00276623e-05 1.13035985e-05]\n",
      " [1.81196878e-08 2.39917005e-05 1.71682729e-05]\n",
      " [1.30630533e-08 1.10767913e-05 9.72999842e-06]\n",
      " [1.45214002e-08 1.98063661e-05 1.78021571e-05]\n",
      " [1.18972046e-08 2.59606594e-06 4.91903013e-06]\n",
      " [1.75990036e-08 3.49319760e-06 1.64080970e-05]\n",
      " [1.42978690e-08 4.02569289e-06 1.76175201e-05]\n",
      " [1.78466827e-08 3.34428041e-06 1.53462085e-05]\n",
      " [1.76757140e-08 2.16644615e-06 1.43296843e-05]\n",
      " [1.77515175e-08 3.86507036e-06 1.71326314e-05]\n",
      " [1.85952253e-08 1.66774841e-05 1.66125447e-05]\n",
      " [6.98725155e-09 2.81253333e-06 1.04712811e-05]\n",
      " [1.19884371e-08 4.70452150e-06 8.63340679e-06]\n",
      " [1.86547289e-08 2.50225931e-05 1.33822008e-05]\n",
      " [1.80304107e-08 6.79234014e-06 4.70895478e-06]\n",
      " [1.20737784e-08 2.39793511e-06 1.56343692e-05]\n",
      " [9.26702652e-09 6.01098760e-06 6.42711510e-06]\n",
      " [1.85877338e-08 2.98710530e-05 1.74658716e-05]\n",
      " [1.76875024e-08 3.40125102e-05 1.78505184e-05]\n",
      " [1.21083274e-08 3.56233568e-06 1.84173986e-05]\n",
      " [1.47068252e-08 7.40740781e-06 1.71866817e-05]\n",
      " [1.77404426e-08 3.08363374e-06 1.29640278e-05]\n",
      " [9.11983406e-09 3.14325677e-06 8.03818577e-06]\n",
      " [7.15837154e-09 3.79232706e-06 4.88710901e-06]\n",
      " [1.80350700e-08 2.36057245e-06 9.60295364e-06]\n",
      " [1.68923267e-08 4.02835683e-06 9.73954941e-06]]\n",
      "output_traces [[ 0.00000000e+00  0.00000000e+00  0.00000000e+00 ...  0.00000000e+00\n",
      "   0.00000000e+00  0.00000000e+00]\n",
      " [-5.97318496e-02 -5.05827204e-02 -4.47922599e-02 ... -2.32605446e-02\n",
      "  -5.85875576e-02 -5.48768837e-02]\n",
      " [-1.19398761e-01 -1.01109811e-01 -8.95551610e-02 ... -4.65109639e-02\n",
      "  -1.17122772e-01 -1.09706621e-01]\n",
      " ...\n",
      " [-6.82456608e+01 -6.89590238e+01 -6.95393563e+01 ... -6.88016255e+01\n",
      "  -6.76810298e+01 -6.79513057e+01]\n",
      " [-6.82426676e+01 -6.89559330e+01 -6.95362276e+01 ... -6.88002635e+01\n",
      "  -6.76786117e+01 -6.79488114e+01]\n",
      " [-6.82396772e+01 -6.89528446e+01 -6.95331011e+01 ... -6.87989019e+01\n",
      "  -6.76761958e+01 -6.79463192e+01]] mV\n",
      "shape (1497, 30)\n",
      "err [159.88790573 180.06585413 148.10010189 141.3834582  154.10989897\n",
      " 172.02444344 166.55947637 169.92379703 162.5543986  158.56917301\n",
      " 152.00925887 150.31361404 154.93837163 142.76058138 156.05918094\n",
      " 172.52888869 153.844459   156.66416004 165.48194473 167.53853336\n",
      " 171.32289912 165.60917502 153.24272419 155.66788395 152.34144857\n",
      " 148.07227368 161.53106214 184.02362958 153.27879473 154.06780074] mV^2\n",
      "parameters [[1.83874805e-08 3.50259387e-05 1.85196779e-05]\n",
      " [1.55699730e-08 2.46806377e-05 1.57490393e-05]\n",
      " [1.79022801e-08 3.08649306e-06 1.61160447e-05]\n",
      " [1.72038171e-08 1.50142719e-05 1.84346679e-05]\n",
      " [1.80766344e-08 1.04612007e-05 1.13035985e-05]\n",
      " [1.83505448e-08 7.67079586e-06 1.82627063e-05]\n",
      " [1.87015415e-08 3.58822355e-05 1.20596429e-05]\n",
      " [1.45214002e-08 3.18016126e-05 1.78608053e-05]\n",
      " [1.82531205e-08 5.71040875e-06 1.79972186e-05]\n",
      " [1.75990036e-08 3.49319760e-06 1.81005824e-05]\n",
      " [1.42978690e-08 1.04678000e-05 1.76175201e-05]\n",
      " [1.78466827e-08 3.24505260e-05 1.84773511e-05]\n",
      " [1.83880877e-08 2.16644615e-06 1.70801076e-05]\n",
      " [1.82276776e-08 4.91596260e-06 1.78430457e-05]\n",
      " [1.87541815e-08 4.47755845e-06 1.15423738e-05]\n",
      " [1.74498498e-08 1.92614230e-05 1.86664630e-05]\n",
      " [1.84359101e-08 5.89722874e-06 1.81606874e-05]\n",
      " [1.86549299e-08 4.29119965e-06 1.84902853e-05]\n",
      " [1.89899386e-08 6.79234014e-06 1.75618202e-05]\n",
      " [1.00654606e-08 2.39793511e-06 1.86458008e-05]\n",
      " [1.83535732e-08 6.01098760e-06 6.42711510e-06]\n",
      " [1.74784273e-08 3.91142768e-06 1.65258502e-05]\n",
      " [1.76875024e-08 3.40125102e-05 1.89990563e-05]\n",
      " [1.73558064e-08 3.56233568e-06 1.32918479e-05]\n",
      " [1.81429566e-08 3.48821775e-06 1.87465517e-05]\n",
      " [1.66475345e-08 6.22385573e-06 1.76738582e-05]\n",
      " [1.85590070e-08 4.09324713e-06 1.62210816e-05]\n",
      " [1.75660501e-08 2.53223607e-05 1.72248999e-05]\n",
      " [1.84895389e-08 1.42579538e-05 1.82647566e-05]\n",
      " [1.68923267e-08 6.37630572e-06 1.86938493e-05]]\n",
      "output_traces [[ 0.00000000e+00  0.00000000e+00  0.00000000e+00 ...  0.00000000e+00\n",
      "   0.00000000e+00  0.00000000e+00]\n",
      " [-5.97318496e-02 -5.05827204e-02 -5.81563782e-02 ... -5.70645992e-02\n",
      "  -6.00632337e-02 -5.48768837e-02]\n",
      " [-1.19385699e-01 -1.01110452e-01 -1.16262192e-01 ... -1.14063323e-01\n",
      "  -1.20064154e-01 -1.09706939e-01]\n",
      " ...\n",
      " [-6.87184673e+01 -6.92081808e+01 -6.83828347e+01 ... -6.87620572e+01\n",
      "  -6.84836389e+01 -6.88568809e+01]\n",
      " [-6.87150338e+01 -6.92048977e+01 -6.83798068e+01 ... -6.87587431e+01\n",
      "  -6.84804125e+01 -6.88536224e+01]\n",
      " [-6.87116035e+01 -6.92016171e+01 -6.83767817e+01 ... -6.87554318e+01\n",
      "  -6.84771891e+01 -6.88503666e+01]] mV\n",
      "shape (1497, 30)\n",
      "err [170.68265867 182.48630766 140.14548184 146.94971197 147.80705337\n",
      " 163.89798419 169.67846636 176.43764087 148.40988006 159.88087352\n",
      " 154.9903833  165.56190695 155.06063821 142.31511637 148.7351295\n",
      " 156.08816458 138.73406356 146.67031315 139.34368952 179.61246422\n",
      " 155.93900492 155.16532801 152.75499933 143.15393181 143.16713497\n",
      " 153.56021652 143.31277193 193.63640063 163.27284114 160.4347144 ] mV^2\n"
     ]
    }
   ],
   "source": [
    "# pass parameters to the NeuronGroup\n",
    "res, error, output_traces = fit_traces_standalone(model=eqs, input_var='I', output_var='v',\n",
    "                                   input=inp_trace * nA, output=out_trace*mV, dt=dt,\n",
    "                                   gl=[1e-8*siemens*cm**-2 * area, 1e-4*siemens*cm**-2 * area],\n",
    "                                   g_na=[1*msiemens*cm**-2 * area, 200*msiemens*cm**-2 * area],\n",
    "                                   g_kd=[1*msiemens*cm**-2 * area, 100*msiemens*cm**-2 * area],\n",
    "                                   n_rounds=5, n_samples=30, optimizer=n_opt,)"
   ]
  },
  {
   "cell_type": "code",
   "execution_count": 13,
   "metadata": {},
   "outputs": [],
   "source": [
    "output_traces.transpose()[1]"
   ]
  },
  {
   "cell_type": "markdown",
   "metadata": {},
   "source": [
    "### Vizualize Output Traces"
   ]
  },
  {
   "cell_type": "code",
   "execution_count": 14,
   "metadata": {},
   "outputs": [
    {
     "data": {
      "text/plain": [
       "(1497, 30)"
      ]
     },
     "execution_count": 14,
     "metadata": {},
     "output_type": "execute_result"
    }
   ],
   "source": [
    "np.shape(output_traces[0])"
   ]
  },
  {
   "cell_type": "code",
   "execution_count": 15,
   "metadata": {},
   "outputs": [
    {
     "data": {
      "text/plain": [
       "array([ 0.00000000e+00, -2.19711831e-05, -4.39285428e-05, ...,\n",
       "       -7.11713717e-02, -7.11692846e-02, -7.11671983e-02])"
      ]
     },
     "execution_count": 15,
     "metadata": {},
     "output_type": "execute_result"
    }
   ],
   "source": [
    "np.array(output_traces[0]).transpose()[0]"
   ]
  },
  {
   "cell_type": "code",
   "execution_count": 16,
   "metadata": {},
   "outputs": [
    {
     "data": {
      "text/plain": [
       "array([ 0.00000000e+00, -2.17334694e-05, -4.34462916e-05, ...,\n",
       "       -7.28306141e-02, -7.28279952e-02, -7.28253771e-02])"
      ]
     },
     "execution_count": 16,
     "metadata": {},
     "output_type": "execute_result"
    }
   ],
   "source": [
    "np.array(output_traces[0]).transpose()[1]"
   ]
  },
  {
   "cell_type": "code",
   "execution_count": 37,
   "metadata": {},
   "outputs": [
    {
     "ename": "ValueError",
     "evalue": "Format 'jpg' is not supported (supported formats: eps, pdf, pgf, png, ps, raw, rgba, svg, svgz)",
     "output_type": "error",
     "traceback": [
      "\u001b[0;31m---------------------------------------------------------------------------\u001b[0m",
      "\u001b[0;31mValueError\u001b[0m                                Traceback (most recent call last)",
      "\u001b[0;32m<ipython-input-37-b4a8d969a28e>\u001b[0m in \u001b[0;36m<module>\u001b[0;34m\u001b[0m\n\u001b[1;32m      3\u001b[0m     \u001b[0;32mfor\u001b[0m \u001b[0mii\u001b[0m \u001b[0;32min\u001b[0m \u001b[0mrange\u001b[0m\u001b[0;34m(\u001b[0m\u001b[0;36m30\u001b[0m\u001b[0;34m)\u001b[0m\u001b[0;34m:\u001b[0m\u001b[0;34m\u001b[0m\u001b[0;34m\u001b[0m\u001b[0m\n\u001b[1;32m      4\u001b[0m         \u001b[0mplot\u001b[0m\u001b[0;34m(\u001b[0m\u001b[0mnp\u001b[0m\u001b[0;34m.\u001b[0m\u001b[0marray\u001b[0m\u001b[0;34m(\u001b[0m\u001b[0moutput_traces\u001b[0m\u001b[0;34m[\u001b[0m\u001b[0mn\u001b[0m\u001b[0;34m]\u001b[0m\u001b[0;34m)\u001b[0m\u001b[0;34m.\u001b[0m\u001b[0mtranspose\u001b[0m\u001b[0;34m(\u001b[0m\u001b[0;34m)\u001b[0m\u001b[0;34m[\u001b[0m\u001b[0mii\u001b[0m\u001b[0;34m]\u001b[0m\u001b[0;34m)\u001b[0m\u001b[0;34m\u001b[0m\u001b[0;34m\u001b[0m\u001b[0m\n\u001b[0;32m----> 5\u001b[0;31m         \u001b[0msavefig\u001b[0m\u001b[0;34m(\u001b[0m\u001b[0;34m'a.jpg'\u001b[0m\u001b[0;34m)\u001b[0m\u001b[0;34m\u001b[0m\u001b[0;34m\u001b[0m\u001b[0m\n\u001b[0m",
      "\u001b[0;32m~/anaconda3/envs/brian_opt/lib/python3.7/site-packages/matplotlib/pyplot.py\u001b[0m in \u001b[0;36msavefig\u001b[0;34m(*args, **kwargs)\u001b[0m\n\u001b[1;32m    687\u001b[0m \u001b[0;32mdef\u001b[0m \u001b[0msavefig\u001b[0m\u001b[0;34m(\u001b[0m\u001b[0;34m*\u001b[0m\u001b[0margs\u001b[0m\u001b[0;34m,\u001b[0m \u001b[0;34m**\u001b[0m\u001b[0mkwargs\u001b[0m\u001b[0;34m)\u001b[0m\u001b[0;34m:\u001b[0m\u001b[0;34m\u001b[0m\u001b[0;34m\u001b[0m\u001b[0m\n\u001b[1;32m    688\u001b[0m     \u001b[0mfig\u001b[0m \u001b[0;34m=\u001b[0m \u001b[0mgcf\u001b[0m\u001b[0;34m(\u001b[0m\u001b[0;34m)\u001b[0m\u001b[0;34m\u001b[0m\u001b[0;34m\u001b[0m\u001b[0m\n\u001b[0;32m--> 689\u001b[0;31m     \u001b[0mres\u001b[0m \u001b[0;34m=\u001b[0m \u001b[0mfig\u001b[0m\u001b[0;34m.\u001b[0m\u001b[0msavefig\u001b[0m\u001b[0;34m(\u001b[0m\u001b[0;34m*\u001b[0m\u001b[0margs\u001b[0m\u001b[0;34m,\u001b[0m \u001b[0;34m**\u001b[0m\u001b[0mkwargs\u001b[0m\u001b[0;34m)\u001b[0m\u001b[0;34m\u001b[0m\u001b[0;34m\u001b[0m\u001b[0m\n\u001b[0m\u001b[1;32m    690\u001b[0m     \u001b[0mfig\u001b[0m\u001b[0;34m.\u001b[0m\u001b[0mcanvas\u001b[0m\u001b[0;34m.\u001b[0m\u001b[0mdraw_idle\u001b[0m\u001b[0;34m(\u001b[0m\u001b[0;34m)\u001b[0m   \u001b[0;31m# need this if 'transparent=True' to reset colors\u001b[0m\u001b[0;34m\u001b[0m\u001b[0;34m\u001b[0m\u001b[0m\n\u001b[1;32m    691\u001b[0m     \u001b[0;32mreturn\u001b[0m \u001b[0mres\u001b[0m\u001b[0;34m\u001b[0m\u001b[0;34m\u001b[0m\u001b[0m\n",
      "\u001b[0;32m~/anaconda3/envs/brian_opt/lib/python3.7/site-packages/matplotlib/figure.py\u001b[0m in \u001b[0;36msavefig\u001b[0;34m(self, fname, frameon, transparent, **kwargs)\u001b[0m\n\u001b[1;32m   2092\u001b[0m             \u001b[0mself\u001b[0m\u001b[0;34m.\u001b[0m\u001b[0mset_frameon\u001b[0m\u001b[0;34m(\u001b[0m\u001b[0mframeon\u001b[0m\u001b[0;34m)\u001b[0m\u001b[0;34m\u001b[0m\u001b[0;34m\u001b[0m\u001b[0m\n\u001b[1;32m   2093\u001b[0m \u001b[0;34m\u001b[0m\u001b[0m\n\u001b[0;32m-> 2094\u001b[0;31m         \u001b[0mself\u001b[0m\u001b[0;34m.\u001b[0m\u001b[0mcanvas\u001b[0m\u001b[0;34m.\u001b[0m\u001b[0mprint_figure\u001b[0m\u001b[0;34m(\u001b[0m\u001b[0mfname\u001b[0m\u001b[0;34m,\u001b[0m \u001b[0;34m**\u001b[0m\u001b[0mkwargs\u001b[0m\u001b[0;34m)\u001b[0m\u001b[0;34m\u001b[0m\u001b[0;34m\u001b[0m\u001b[0m\n\u001b[0m\u001b[1;32m   2095\u001b[0m \u001b[0;34m\u001b[0m\u001b[0m\n\u001b[1;32m   2096\u001b[0m         \u001b[0;32mif\u001b[0m \u001b[0mframeon\u001b[0m\u001b[0;34m:\u001b[0m\u001b[0;34m\u001b[0m\u001b[0;34m\u001b[0m\u001b[0m\n",
      "\u001b[0;32m~/anaconda3/envs/brian_opt/lib/python3.7/site-packages/matplotlib/backend_bases.py\u001b[0m in \u001b[0;36mprint_figure\u001b[0;34m(self, filename, dpi, facecolor, edgecolor, orientation, format, bbox_inches, **kwargs)\u001b[0m\n\u001b[1;32m   2004\u001b[0m \u001b[0;34m\u001b[0m\u001b[0m\n\u001b[1;32m   2005\u001b[0m         \u001b[0;31m# get canvas object and print method for format\u001b[0m\u001b[0;34m\u001b[0m\u001b[0;34m\u001b[0m\u001b[0;34m\u001b[0m\u001b[0m\n\u001b[0;32m-> 2006\u001b[0;31m         \u001b[0mcanvas\u001b[0m \u001b[0;34m=\u001b[0m \u001b[0mself\u001b[0m\u001b[0;34m.\u001b[0m\u001b[0m_get_output_canvas\u001b[0m\u001b[0;34m(\u001b[0m\u001b[0mformat\u001b[0m\u001b[0;34m)\u001b[0m\u001b[0;34m\u001b[0m\u001b[0;34m\u001b[0m\u001b[0m\n\u001b[0m\u001b[1;32m   2007\u001b[0m         \u001b[0mprint_method\u001b[0m \u001b[0;34m=\u001b[0m \u001b[0mgetattr\u001b[0m\u001b[0;34m(\u001b[0m\u001b[0mcanvas\u001b[0m\u001b[0;34m,\u001b[0m \u001b[0;34m'print_%s'\u001b[0m \u001b[0;34m%\u001b[0m \u001b[0mformat\u001b[0m\u001b[0;34m)\u001b[0m\u001b[0;34m\u001b[0m\u001b[0;34m\u001b[0m\u001b[0m\n\u001b[1;32m   2008\u001b[0m \u001b[0;34m\u001b[0m\u001b[0m\n",
      "\u001b[0;32m~/anaconda3/envs/brian_opt/lib/python3.7/site-packages/matplotlib/backend_bases.py\u001b[0m in \u001b[0;36m_get_output_canvas\u001b[0;34m(self, fmt)\u001b[0m\n\u001b[1;32m   1946\u001b[0m         raise ValueError(\n\u001b[1;32m   1947\u001b[0m             \u001b[0;34m\"Format {!r} is not supported (supported formats: {})\"\u001b[0m\u001b[0;34m\u001b[0m\u001b[0;34m\u001b[0m\u001b[0m\n\u001b[0;32m-> 1948\u001b[0;31m             .format(fmt, \", \".join(sorted(self.get_supported_filetypes()))))\n\u001b[0m\u001b[1;32m   1949\u001b[0m \u001b[0;34m\u001b[0m\u001b[0m\n\u001b[1;32m   1950\u001b[0m     def print_figure(self, filename, dpi=None, facecolor=None, edgecolor=None,\n",
      "\u001b[0;31mValueError\u001b[0m: Format 'jpg' is not supported (supported formats: eps, pdf, pgf, png, ps, raw, rgba, svg, svgz)"
     ]
    },
    {
     "data": {
      "image/png": "[encoded data removed]",
      "text/plain": [
       "<Figure size 432x288 with 1 Axes>"
      ]
     },
     "metadata": {
      "needs_background": "light"
     },
     "output_type": "display_data"
    }
   ],
   "source": [
    "for n in range(5):\n",
    "    plt.figure()\n",
    "    for ii in range(30):\n",
    "        plot(np.array(output_traces[n]).transpose()[ii])\n",
    "        savefig('a.jpg')"
   ]
  },
  {
   "cell_type": "markdown",
   "metadata": {},
   "source": [
    "## Calculate RMS"
   ]
  },
  {
   "cell_type": "code",
   "execution_count": 28,
   "metadata": {},
   "outputs": [
    {
     "name": "stdout",
     "output_type": "stream",
     "text": [
      "[ 0.00000000e+00 -2.83619361e-05 -5.66872125e-05 ... -6.96629762e-02\n",
      " -6.96609331e-02 -6.96588908e-02]\n",
      "68.85069799245115\n",
      "[ 0.00000000e+00 -2.08378060e-05 -4.16470304e-05 ... -7.19765088e-02\n",
      " -7.19742705e-02 -7.19720329e-02]\n",
      "68.8480102607155\n",
      "[ 0.00000000e+00 -1.08826610e-05 -2.17411470e-05 ... -6.80122096e-02\n",
      " -6.80116828e-02 -6.80111561e-02]\n",
      "68.85430980776788\n",
      "[ 0.00000000e+00 -3.62696671e-05 -7.24969382e-05 ... -6.98057404e-02\n",
      " -6.98030515e-02 -6.98003642e-02]\n",
      "68.8494971131566\n",
      "[ 0.00000000e+00 -3.59073963e-05 -7.17803669e-05 ... -6.81824706e-02\n",
      " -6.81806990e-02 -6.81789284e-02]\n",
      "68.85217825191076\n",
      "[ 0.00000000e+00 -5.24678872e-05 -1.04881021e-04 ... -6.86347906e-02\n",
      " -6.86318470e-02 -6.86289058e-02]\n",
      "68.84964392199502\n",
      "[ 0.00000000e+00 -2.29584776e-05 -4.59030485e-05 ... -7.17186611e-02\n",
      " -7.17162873e-02 -7.17139144e-02]\n",
      "68.8477898701977\n",
      "[ 0.00000000e+00 -4.71774215e-05 -9.43016530e-05 ... -6.91604835e-02\n",
      " -6.91574540e-02 -6.91544267e-02]\n",
      "68.84930550522103\n",
      "[ 0.00000000e+00 -4.43776567e-05 -8.87041872e-05 ... -6.86843134e-02\n",
      " -6.86817839e-02 -6.86792562e-02]\n",
      "68.85064697963588\n",
      "[ 0.00000000e+00 -5.25160637e-05 -1.04969775e-04 ... -6.90441038e-02\n",
      " -6.90408250e-02 -6.90375489e-02]\n",
      "68.84887510628283\n",
      "[ 0.00000000e+00 -1.84092244e-05 -3.67912997e-05 ... -7.29201508e-02\n",
      " -7.29179067e-02 -7.29156632e-02]\n",
      "68.84701701916426\n",
      "[ 0.00000000e+00 -5.32684562e-05 -1.06479282e-04 ... -6.87157097e-02\n",
      " -6.87126545e-02 -6.87096017e-02]\n",
      "68.84939945661183\n",
      "[ 0.00000000e+00 -4.48535160e-05 -8.96711951e-05 ... -6.97912414e-02\n",
      " -6.97879326e-02 -6.97846261e-02]\n",
      "68.84811291721287\n",
      "[ 0.00000000e+00 -4.42968359e-05 -8.85602892e-05 ... -6.96003027e-02\n",
      " -6.95971655e-02 -6.95940304e-02]\n",
      "68.84852201765678\n",
      "[ 0.00000000e+00 -4.91045114e-05 -9.81492447e-05 ... -6.90133737e-02\n",
      " -6.90103292e-02 -6.90072869e-02]\n",
      "68.84945012469652\n",
      "[ 0.00000000e+00 -2.85145825e-05 -5.70110367e-05 ... -6.95764208e-02\n",
      " -6.95744107e-02 -6.95724015e-02]\n",
      "68.85031701291858\n",
      "[ 0.00000000e+00 -4.55150679e-05 -9.09834590e-05 ... -6.95776603e-02\n",
      " -6.95744487e-02 -6.95712393e-02]\n",
      "68.8485971259963\n",
      "[ 0.00000000e+00 -1.67578559e-05 -3.34926878e-05 ... -7.23897662e-02\n",
      " -7.23878599e-02 -7.23859541e-02]\n",
      "68.84790672579102\n",
      "[ 0.00000000e+00 -2.12795758e-05 -4.25414156e-05 ... -6.83570287e-02\n",
      " -6.83559207e-02 -6.83548130e-02]\n",
      "68.85280952116486\n",
      "[ 0.00000000e+00 -2.61837094e-05 -5.23498766e-05 ... -7.06180270e-02\n",
      " -7.06157624e-02 -7.06134986e-02]\n",
      "68.84902250484974\n",
      "[ 0.00000000e+00 -3.01108597e-05 -6.01996335e-05 ... -6.92054611e-02\n",
      " -6.92035088e-02 -6.92015573e-02]\n",
      "68.85080201623586\n",
      "[ 0.00000000e+00 -1.95115037e-05 -3.90147518e-05 ... -7.27026724e-02\n",
      " -7.27003600e-02 -7.26980482e-02]\n",
      "68.84682812745905\n",
      "[ 0.00000000e+00 -3.97697466e-05 -7.94940295e-05 ... -6.89710427e-02\n",
      " -6.89686013e-02 -6.89661613e-02]\n",
      "68.85059634603779\n",
      "[ 0.00000000e+00 -5.32224750e-05 -1.06402119e-04 ... -6.87818952e-02\n",
      " -6.87787972e-02 -6.87757017e-02]\n",
      "68.84902305236763\n",
      "[ 0.00000000e+00 -4.11927261e-05 -8.23539216e-05 ... -6.87159017e-02\n",
      " -6.87135425e-02 -6.87111848e-02]\n",
      "68.85053453039394\n",
      "[ 0.00000000e+00 -3.76521432e-05 -7.52670672e-05 ... -6.95772376e-02\n",
      " -6.95745801e-02 -6.95719241e-02]\n",
      "68.84958199531941\n",
      "[ 0.00000000e+00 -2.96327041e-05 -5.92416055e-05 ... -7.06764112e-02\n",
      " -7.06738213e-02 -7.06712325e-02]\n",
      "68.84859516868634\n",
      "[ 0.00000000e+00 -2.32605446e-05 -4.65060562e-05 ... -6.95201963e-02\n",
      " -6.95185758e-02 -6.95169560e-02]\n",
      "68.85089914848452\n",
      "[ 0.00000000e+00 -4.20089451e-05 -8.39716869e-05 ... -6.99022192e-02\n",
      " -6.98990448e-02 -6.98958724e-02]\n",
      "68.84851136023084\n",
      "[ 0.00000000e+00 -1.46480363e-05 -2.92861966e-05 ... -7.37658959e-02\n",
      " -7.37639202e-02 -7.37619450e-02]\n",
      "68.84617378739148\n"
     ]
    }
   ],
   "source": [
    "from sklearn.metrics import mean_squared_error\n",
    "\n",
    "y = out_trace[0]\n",
    "\n",
    "rms_list = []\n",
    "for row in output_traces[0].transpose():\n",
    "    print(np.array(row))\n",
    "    rms = np.sqrt(mean_squared_error(y, row))\n",
    "    rms_list.append(rms)\n",
    "    print(rms)"
   ]
  },
  {
   "cell_type": "code",
   "execution_count": null,
   "metadata": {},
   "outputs": [],
   "source": []
  },
  {
   "cell_type": "code",
   "execution_count": 19,
   "metadata": {},
   "outputs": [
    {
     "name": "stdout",
     "output_type": "stream",
     "text": [
      "correct: {'gl': 1e-08, 'g_na': 2e-05, 'g_kd': 6e-06} \n",
      " output: {'gl': 1.7177908517725702e-08, 'g_na': 4.686271108243526e-06, 'g_kd': 1.6111300235897804e-05}\n",
      "error [0.00014079 0.00014079 0.00014079]\n"
     ]
    }
   ],
   "source": [
    "# give information to the optimizer\n",
    "print('correct:', params_correct, '\\n output:', res)\n",
    "print('error', error)"
   ]
  },
  {
   "cell_type": "code",
   "execution_count": 20,
   "metadata": {},
   "outputs": [
    {
     "name": "stderr",
     "output_type": "stream",
     "text": [
      "WARNING    \"n\" is an internal variable of group \"neurongroup_1\", but also exists in the run namespace with the value 4. The internal variable will be used. [brian2.groups.group.Group.resolve.resolution_conflict]\n"
     ]
    }
   ],
   "source": [
    "# visualization of the results\n",
    "start_scope()\n",
    "G = NeuronGroup(1, eqsHH, method='exponential_euler')\n",
    "G.v = El\n",
    "G.set_states(res, units=False)\n",
    "mon = StateMonitor(G, 'v', record=0)\n",
    "run(20*ms)\n",
    "\n",
    "voltage1 = mon.v[0]/mV"
   ]
  },
  {
   "cell_type": "code",
   "execution_count": 21,
   "metadata": {},
   "outputs": [
    {
     "data": {
      "image/png": "[encoded data removed]",
      "text/plain": [
       "<Figure size 432x288 with 1 Axes>"
      ]
     },
     "metadata": {
      "needs_background": "light"
     },
     "output_type": "display_data"
    }
   ],
   "source": [
    "plt.figure()\n",
    "plot(np.arange(len(voltage))*dt/ms, voltage);\n",
    "plot(np.arange(len(voltage1))*dt/ms, voltage1);\n",
    "plt.title('nevergrad optimization')\n",
    "plt.show()"
   ]
  },
  {
   "cell_type": "code",
   "execution_count": null,
   "metadata": {},
   "outputs": [],
   "source": []
  }
 ],
 "metadata": {
  "kernelspec": {
   "display_name": "brian_opt",
   "language": "python",
   "name": "brian_opt"
  },
  "language_info": {
   "codemirror_mode": {
    "name": "ipython",
    "version": 3
   },
   "file_extension": ".py",
   "mimetype": "text/x-python",
   "name": "python",
   "nbconvert_exporter": "python",
   "pygments_lexer": "ipython3",
   "version": "3.7.3"
  }
 },
 "nbformat": 4,
 "nbformat_minor": 2
}
