{
 "cells": [
  {
   "cell_type": "code",
   "execution_count": 1,
   "metadata": {},
   "outputs": [
    {
     "name": "stderr",
     "output_type": "stream",
     "text": [
      "WARNING    /home/alteska/anaconda3/envs/brian_opt/lib/python3.7/site-packages/sklearn/externals/joblib/__init__.py:15: DeprecationWarning: sklearn.externals.joblib is deprecated in 0.21 and will be removed in 0.23. Please import this functionality directly from joblib, which can be installed with: pip install joblib. If this warning is raised when loading pickled models, you may need to re-serialize those models with scikit-learn 0.21+.\n",
      "  warnings.warn(msg, category=DeprecationWarning)\n",
      " [py.warnings]\n"
     ]
    }
   ],
   "source": [
    "import numpy as np\n",
    "from brian2 import *\n",
    "from brian2tools import *"
   ]
  },
  {
   "cell_type": "code",
   "execution_count": 2,
   "metadata": {},
   "outputs": [],
   "source": [
    "dt = 0.01 * ms\n",
    "defaultclock.dt = dt\n",
    "# Generate a step-current input and an \"experimental\" voltage trace\n",
    "input_current1 = np.hstack([ np.ones(int(5*ms/dt))*5, np.zeros(2*int(5*ms/dt))])* 5 *nA\n",
    "input_current0 = np.hstack([np.zeros(int(5*ms/dt)), np.ones(int(5*ms/dt))*10, np.zeros(int(5*ms/dt))]) * 5 * nA\n",
    "\n",
    "input_current2 = np.stack((input_current0, input_current1))\n",
    "I = TimedArray(input_current0, dt=dt)"
   ]
  },
  {
   "cell_type": "code",
   "execution_count": 3,
   "metadata": {},
   "outputs": [
    {
     "data": {
      "text/plain": [
       "[<matplotlib.lines.Line2D at 0x7f201105cda0>]"
      ]
     },
     "execution_count": 3,
     "metadata": {},
     "output_type": "execute_result"
    },
    {
     "data": {
      "image/png": "[encoded data removed]",
      "text/plain": [
       "<Figure size 432x288 with 1 Axes>"
      ]
     },
     "metadata": {
      "needs_background": "light"
     },
     "output_type": "display_data"
    }
   ],
   "source": [
    "plot(input_current0)\n",
    "plot(input_current1)"
   ]
  },
  {
   "cell_type": "code",
   "execution_count": 4,
   "metadata": {},
   "outputs": [],
   "source": [
    "# C = 1*nF\n",
    "# gL = 30*nS\n",
    "EL = -70*mV\n",
    "VT = -50*mV\n",
    "DeltaT = 2*mV\n",
    "eqs = Equations('''\n",
    "    dv/dt = (gL*(EL-v)+gL*DeltaT*exp((v-VT)/DeltaT) + I(t))/C : volt\n",
    "    gL: siemens (constant)\n",
    "    C: farad (constant)\n",
    "    ''')"
   ]
  },
  {
   "cell_type": "code",
   "execution_count": 5,
   "metadata": {},
   "outputs": [],
   "source": [
    "group = NeuronGroup(1, eqs,\n",
    "                    threshold='v > -50*mV',\n",
    "                    reset='v = -70*mV',\n",
    "                    method='exponential_euler')\n",
    "group.v = -70 *mV\n",
    "group.set_states({'gL': [30*nS], 'C':[1*nF]})"
   ]
  },
  {
   "cell_type": "code",
   "execution_count": 6,
   "metadata": {},
   "outputs": [],
   "source": [
    "monitor0 = StateMonitor(group, 'v', record=True)\n",
    "smonitor0  = SpikeMonitor(group)"
   ]
  },
  {
   "cell_type": "code",
   "execution_count": 7,
   "metadata": {},
   "outputs": [],
   "source": [
    "run(60*ms)"
   ]
  },
  {
   "cell_type": "code",
   "execution_count": 8,
   "metadata": {},
   "outputs": [
    {
     "name": "stdout",
     "output_type": "stream",
     "text": [
      "[5.39 5.8  6.21 6.62 7.03 7.44 7.85 8.26 8.67 9.08 9.49 9.9 ]\n"
     ]
    }
   ],
   "source": [
    "voltage = monitor0.v[0]/mV\n",
    "out_spikes0 = getattr(smonitor0, 't') / ms\n",
    "print(out_spikes0)"
   ]
  },
  {
   "cell_type": "code",
   "execution_count": 9,
   "metadata": {},
   "outputs": [],
   "source": [
    "start_scope()\n",
    "I = TimedArray(input_current1, dt=dt)\n",
    "group = NeuronGroup(1, eqs,\n",
    "                    threshold='v > -50*mV',\n",
    "                    reset='v = -70*mV',\n",
    "                    method='exponential_euler')\n",
    "group.v = -70 *mV\n",
    "group.set_states({'gL': [30*nS], 'C':[1*nF]})"
   ]
  },
  {
   "cell_type": "code",
   "execution_count": 10,
   "metadata": {},
   "outputs": [],
   "source": [
    "monitor1 = StateMonitor(group, 'v', record=True)\n",
    "smonitor1  = SpikeMonitor(group)"
   ]
  },
  {
   "cell_type": "code",
   "execution_count": 11,
   "metadata": {},
   "outputs": [
    {
     "name": "stdout",
     "output_type": "stream",
     "text": [
      "[0.8  1.61 2.42 3.23 4.04 4.85]\n"
     ]
    }
   ],
   "source": [
    "run(60*ms)\n",
    "out_spikes1 = getattr(smonitor1, 't') / ms\n",
    "print(out_spikes1)"
   ]
  },
  {
   "cell_type": "code",
   "execution_count": 12,
   "metadata": {},
   "outputs": [],
   "source": [
    "inp_trace0 = np.array([input_current0])\n",
    "inp_trace1 = np.array([input_current1])"
   ]
  },
  {
   "cell_type": "code",
   "execution_count": 13,
   "metadata": {},
   "outputs": [
    {
     "data": {
      "text/plain": [
       "array([[0.0e+00, 0.0e+00, 0.0e+00, ..., 0.0e+00, 0.0e+00, 0.0e+00],\n",
       "       [2.5e-08, 2.5e-08, 2.5e-08, ..., 0.0e+00, 0.0e+00, 0.0e+00]])"
      ]
     },
     "execution_count": 13,
     "metadata": {},
     "output_type": "execute_result"
    }
   ],
   "source": [
    "inp_trace = np.concatenate((inp_trace0, inp_trace1))\n",
    "inp_trace"
   ]
  },
  {
   "cell_type": "code",
   "execution_count": 14,
   "metadata": {},
   "outputs": [
    {
     "data": {
      "text/plain": [
       "array([array([5.39, 5.8 , 6.21, 6.62, 7.03, 7.44, 7.85, 8.26, 8.67, 9.08, 9.49,\n",
       "       9.9 ]),\n",
       "       array([0.8 , 1.61, 2.42, 3.23, 4.04, 4.85])], dtype=object)"
      ]
     },
     "execution_count": 14,
     "metadata": {},
     "output_type": "execute_result"
    }
   ],
   "source": [
    "out_spikes = np.array(([out_spikes0,out_spikes1]))\n",
    "out_spikes"
   ]
  },
  {
   "cell_type": "markdown",
   "metadata": {},
   "source": [
    "### Generate Spikes"
   ]
  },
  {
   "cell_type": "code",
   "execution_count": 15,
   "metadata": {},
   "outputs": [],
   "source": [
    "start_scope()\n",
    "eqs_fit = Equations('''\n",
    "    dv/dt = (gL*(EL-v)+gL*DeltaT*exp((v-VT)/DeltaT) + I)/C : volt\n",
    "    gL: siemens (constant)\n",
    "    C: farad (constant)\n",
    "    ''',\n",
    "    EL = -70*mV,\n",
    "    VT = -50*mV,\n",
    "    DeltaT = 2*mV,\n",
    "#     C=1*nF\n",
    "   )\n",
    "\n",
    "n_opt = NevergradOptimizer()\n",
    "metric = GammaFactor(100*ms, dt)"
   ]
  },
  {
   "cell_type": "code",
   "execution_count": 16,
   "metadata": {},
   "outputs": [
    {
     "name": "stdout",
     "output_type": "stream",
     "text": [
      "d_param {'C': array([9.64148034e-10, 9.64148034e-10, 7.46224417e-10, 7.46224417e-10,\n",
      "       7.79827424e-10, 7.79827424e-10, 1.01675980e-09, 1.01675980e-09]), 'gL': array([2.98221450e-08, 2.98221450e-08, 3.62295441e-08, 3.62295441e-08,\n",
      "       4.01828281e-08, 4.01828281e-08, 4.61787066e-08, 4.61787066e-08])}\n"
     ]
    }
   ],
   "source": [
    "TR = fit_spikes(model=eqs_fit, input_var='I',\n",
    "                input=inp_trace * amp, output=out_spikes, dt=dt,\n",
    "                n_rounds=1, n_samples=4, optimizer=n_opt, metric=metric,\n",
    "                threshold='v > -50*mV',\n",
    "                reset='v = -70*mV',\n",
    "                method='exponential_euler',\n",
    "                param_init={'v': -70*mV},\n",
    "                gL=[20*nS, 50*nS],\n",
    "                C = [0.5*nS, 1.5*nS]\n",
    "                )"
   ]
  },
  {
   "cell_type": "code",
   "execution_count": 17,
   "metadata": {},
   "outputs": [
    {
     "data": {
      "text/plain": [
       "{0: array([5.37, 5.76, 6.15, 6.54, 6.93, 7.32, 7.71, 8.1 , 8.49, 8.88, 9.27,\n",
       "        9.66]) * msecond,\n",
       " 1: array([0.78, 1.57, 2.36, 3.15, 3.94, 4.73]) * msecond,\n",
       " 2: array([5.29, 5.6 , 5.91, 6.22, 6.53, 6.84, 7.15, 7.46, 7.77, 8.08, 8.39,\n",
       "        8.7 , 9.01, 9.32, 9.63, 9.94]) * msecond,\n",
       " 3: array([0.6 , 1.21, 1.82, 2.43, 3.04, 3.65, 4.26, 4.87]) * msecond,\n",
       " 4: array([5.3 , 5.62, 5.94, 6.26, 6.58, 6.9 , 7.22, 7.54, 7.86, 8.18, 8.5 ,\n",
       "        8.82, 9.14, 9.46, 9.78]) * msecond,\n",
       " 5: array([0.63, 1.27, 1.91, 2.55, 3.19, 3.83, 4.47]) * msecond,\n",
       " 6: array([5.4 , 5.82, 6.24, 6.66, 7.08, 7.5 , 7.92, 8.34, 8.76, 9.18, 9.6 ]) * msecond,\n",
       " 7: array([0.82, 1.65, 2.48, 3.31, 4.14, 4.97]) * msecond}"
      ]
     },
     "execution_count": 17,
     "metadata": {},
     "output_type": "execute_result"
    }
   ],
   "source": [
    "TR"
   ]
  },
  {
   "cell_type": "code",
   "execution_count": 18,
   "metadata": {},
   "outputs": [],
   "source": [
    "traces = []\n",
    "for i in np.arange(len(TR)):\n",
    "    trace = TR[i] / ms\n",
    "    traces.append(trace)"
   ]
  },
  {
   "cell_type": "code",
   "execution_count": 19,
   "metadata": {},
   "outputs": [
    {
     "data": {
      "text/plain": [
       "[array([5.37, 5.76, 6.15, 6.54, 6.93, 7.32, 7.71, 8.1 , 8.49, 8.88, 9.27,\n",
       "        9.66]),\n",
       " array([0.78, 1.57, 2.36, 3.15, 3.94, 4.73]),\n",
       " array([5.29, 5.6 , 5.91, 6.22, 6.53, 6.84, 7.15, 7.46, 7.77, 8.08, 8.39,\n",
       "        8.7 , 9.01, 9.32, 9.63, 9.94]),\n",
       " array([0.6 , 1.21, 1.82, 2.43, 3.04, 3.65, 4.26, 4.87]),\n",
       " array([5.3 , 5.62, 5.94, 6.26, 6.58, 6.9 , 7.22, 7.54, 7.86, 8.18, 8.5 ,\n",
       "        8.82, 9.14, 9.46, 9.78]),\n",
       " array([0.63, 1.27, 1.91, 2.55, 3.19, 3.83, 4.47]),\n",
       " array([5.4 , 5.82, 6.24, 6.66, 7.08, 7.5 , 7.92, 8.34, 8.76, 9.18, 9.6 ]),\n",
       " array([0.82, 1.65, 2.48, 3.31, 4.14, 4.97])]"
      ]
     },
     "execution_count": 19,
     "metadata": {},
     "output_type": "execute_result"
    }
   ],
   "source": [
    "traces"
   ]
  },
  {
   "cell_type": "code",
   "execution_count": 20,
   "metadata": {},
   "outputs": [
    {
     "data": {
      "text/plain": [
       "array([array([5.39, 5.8 , 6.21, 6.62, 7.03, 7.44, 7.85, 8.26, 8.67, 9.08, 9.49,\n",
       "       9.9 ]),\n",
       "       array([0.8 , 1.61, 2.42, 3.23, 4.04, 4.85])], dtype=object)"
      ]
     },
     "execution_count": 20,
     "metadata": {},
     "output_type": "execute_result"
    }
   ],
   "source": [
    "out_spikes"
   ]
  },
  {
   "cell_type": "code",
   "execution_count": 21,
   "metadata": {},
   "outputs": [
    {
     "name": "stdout",
     "output_type": "stream",
     "text": [
      "[5.39 5.8  6.21 6.62 7.03 7.44 7.85 8.26 8.67 9.08 9.49 9.9 ]\n",
      "[0.8  1.61 2.42 3.23 4.04 4.85]\n"
     ]
    }
   ],
   "source": [
    "for os in out_spikes:\n",
    "    print(os)"
   ]
  },
  {
   "cell_type": "markdown",
   "metadata": {},
   "source": [
    "## Calculate the Gamma Factor"
   ]
  },
  {
   "cell_type": "code",
   "execution_count": 22,
   "metadata": {},
   "outputs": [],
   "source": [
    "def firing_rate(spikes):\n",
    "    '''\n",
    "    Rate of the spike train.\n",
    "    '''\n",
    "    if len(spikes)<2:\n",
    "        return NaN\n",
    "    return (len(spikes) - 1) / (spikes[-1] - spikes[0])"
   ]
  },
  {
   "cell_type": "code",
   "execution_count": 23,
   "metadata": {},
   "outputs": [],
   "source": [
    "def get_gamma_factor(source, target, delta, dt):\n",
    "    \"\"\"Calculate gamma factor between source and tagret spike trains\"\"\"\n",
    "    source = array(source)\n",
    "    target = array(target)\n",
    "    target_rate = firing_rate(target) * Hz\n",
    "\n",
    "    source = array(rint(source / dt), dtype=int)\n",
    "    target = array(rint(target / dt), dtype=int)\n",
    "    delta_diff = int(rint(delta / dt))\n",
    "\n",
    "    source_length = len(source)\n",
    "    target_length = len(target)\n",
    "\n",
    "    if (source_length > 1):\n",
    "        bins = .5 * (source[1:] + source[:-1])\n",
    "        indices = digitize(target, bins)\n",
    "        diff = abs(target - source[indices])\n",
    "        matched_spikes = (diff <= delta_diff)\n",
    "        coincidences = sum(matched_spikes)\n",
    "    else:\n",
    "        indices = [amin(abs(source - target[i])) <= delta_diff for i in xrange(target_length)]\n",
    "        coincidences = sum(indices)\n",
    "\n",
    "    # Normalization of the coincidences count\n",
    "    NCoincAvg = 2 * delta * target_length * target_rate\n",
    "    norm = .5*(1 - 2 * target_rate * delta)\n",
    "    gamma = (coincidences - NCoincAvg)/(norm*(source_length + target_length))\n",
    "    return gamma"
   ]
  },
  {
   "cell_type": "code",
   "execution_count": 24,
   "metadata": {},
   "outputs": [
    {
     "data": {
      "text/plain": [
       "(1497, 2)"
      ]
     },
     "execution_count": 24,
     "metadata": {},
     "output_type": "execute_result"
    }
   ],
   "source": [
    "Ntraces, Nsteps = np.shape(inp_trace)\n",
    "Nsteps, Ntraces"
   ]
  },
  {
   "cell_type": "code",
   "execution_count": 60,
   "metadata": {},
   "outputs": [
    {
     "data": {
      "text/plain": [
       "(2,)"
      ]
     },
     "execution_count": 60,
     "metadata": {},
     "output_type": "execute_result"
    }
   ],
   "source": [
    "    Ntraces = np.shape(out_spikes)\n",
    "Ntraces"
   ]
  },
  {
   "cell_type": "code",
   "execution_count": 39,
   "metadata": {},
   "outputs": [],
   "source": [
    "n_samples = 5"
   ]
  },
  {
   "cell_type": "code",
   "execution_count": 61,
   "metadata": {},
   "outputs": [
    {
     "data": {
      "text/plain": [
       "[array([5.37, 5.76, 6.15, 6.54, 6.93, 7.32, 7.71, 8.1 , 8.49, 8.88, 9.27,\n",
       "        9.66]),\n",
       " array([0.78, 1.57, 2.36, 3.15, 3.94, 4.73]),\n",
       " array([5.29, 5.6 , 5.91, 6.22, 6.53, 6.84, 7.15, 7.46, 7.77, 8.08, 8.39,\n",
       "        8.7 , 9.01, 9.32, 9.63, 9.94]),\n",
       " array([0.6 , 1.21, 1.82, 2.43, 3.04, 3.65, 4.26, 4.87]),\n",
       " array([5.3 , 5.62, 5.94, 6.26, 6.58, 6.9 , 7.22, 7.54, 7.86, 8.18, 8.5 ,\n",
       "        8.82, 9.14, 9.46, 9.78]),\n",
       " array([0.63, 1.27, 1.91, 2.55, 3.19, 3.83, 4.47]),\n",
       " array([5.4 , 5.82, 6.24, 6.66, 7.08, 7.5 , 7.92, 8.34, 8.76, 9.18, 9.6 ]),\n",
       " array([0.82, 1.65, 2.48, 3.31, 4.14, 4.97])]"
      ]
     },
     "execution_count": 61,
     "metadata": {},
     "output_type": "execute_result"
    }
   ],
   "source": [
    "traces"
   ]
  },
  {
   "cell_type": "code",
   "execution_count": 44,
   "metadata": {},
   "outputs": [
    {
     "name": "stdout",
     "output_type": "stream",
     "text": [
      "[5.37 5.76 6.15 6.54 6.93 7.32 7.71 8.1  8.49 8.88 9.27 9.66] -0.06034482758620689\n",
      "[5.29 5.6  5.91 6.22 6.53 6.84 7.15 7.46 7.77 8.08 8.39 8.7  9.01 9.32\n",
      " 9.63 9.94] 0.04926108374384237\n",
      "[5.3  5.62 5.94 6.26 6.58 6.9  7.22 7.54 7.86 8.18 8.5  8.82 9.14 9.46\n",
      " 9.78] 0.1558109833971903\n",
      "[5.4  5.82 6.24 6.66 7.08 7.5  7.92 8.34 8.76 9.18 9.6 ] 0.3058470764617692\n",
      "[0.78 1.57 2.36 3.15 3.94 4.73] 0.4130434782608696\n",
      "[0.6  1.21 1.82 2.43 3.04 3.65 4.26 4.87] 0.1863354037267081\n",
      "[0.63 1.27 1.91 2.55 3.19 3.83 4.47] 0.02006688963210701\n",
      "[0.82 1.65 2.48 3.31 4.14 4.97] 0.4130434782608696\n"
     ]
    }
   ],
   "source": [
    "gamma_factors = []\n",
    "\n",
    "for i in np.arange(Ntraces):\n",
    "    temp_out = out_spikes[i]\n",
    "    temp_traces = traces[i::Ntraces]\n",
    "    \n",
    "    for trace in temp_traces:\n",
    "        gf = get_gamma_factor(trace, temp_out, 60*ms, dt)\n",
    "        gamma_factors.append(gf)\n",
    "        print(trace, gf)"
   ]
  },
  {
   "cell_type": "code",
   "execution_count": 45,
   "metadata": {},
   "outputs": [
    {
     "data": {
      "text/plain": [
       "[-0.06034482758620689,\n",
       " 0.04926108374384237,\n",
       " 0.1558109833971903,\n",
       " 0.3058470764617692,\n",
       " 0.4130434782608696,\n",
       " 0.1863354037267081,\n",
       " 0.02006688963210701,\n",
       " 0.4130434782608696]"
      ]
     },
     "execution_count": 45,
     "metadata": {},
     "output_type": "execute_result"
    }
   ],
   "source": [
    "gamma_factors"
   ]
  },
  {
   "cell_type": "code",
   "execution_count": 49,
   "metadata": {},
   "outputs": [
    {
     "data": {
      "text/plain": [
       "(4, 2)"
      ]
     },
     "execution_count": 49,
     "metadata": {},
     "output_type": "execute_result"
    }
   ],
   "source": [
    "int(len(features)/Ntraces), Ntraces"
   ]
  },
  {
   "cell_type": "code",
   "execution_count": 55,
   "metadata": {},
   "outputs": [
    {
     "data": {
      "text/plain": [
       "array([[-0.06034483,  0.04926108,  0.15581098,  0.30584708],\n",
       "       [ 0.41304348,  0.1863354 ,  0.02006689,  0.41304348]])"
      ]
     },
     "execution_count": 55,
     "metadata": {},
     "output_type": "execute_result"
    }
   ],
   "source": [
    "features = gamma_factors\n",
    "feat_arr = reshape(array(features), (Ntraces, int(len(features)/Ntraces)))\n",
    "\n",
    "feat_arr        "
   ]
  },
  {
   "cell_type": "code",
   "execution_count": 56,
   "metadata": {},
   "outputs": [
    {
     "data": {
      "text/plain": [
       "array([0.17634933, 0.11779824, 0.08793894, 0.35944528])"
      ]
     },
     "execution_count": 56,
     "metadata": {},
     "output_type": "execute_result"
    }
   ],
   "source": [
    "mean(feat_arr, axis=0)"
   ]
  },
  {
   "cell_type": "code",
   "execution_count": null,
   "metadata": {},
   "outputs": [],
   "source": []
  },
  {
   "cell_type": "code",
   "execution_count": null,
   "metadata": {},
   "outputs": [],
   "source": []
  }
 ],
 "metadata": {
  "kernelspec": {
   "display_name": "brian_opt",
   "language": "python",
   "name": "brian_opt"
  },
  "language_info": {
   "codemirror_mode": {
    "name": "ipython",
    "version": 3
   },
   "file_extension": ".py",
   "mimetype": "text/x-python",
   "name": "python",
   "nbconvert_exporter": "python",
   "pygments_lexer": "ipython3",
   "version": "3.7.3"
  }
 },
 "nbformat": 4,
 "nbformat_minor": 2
}
