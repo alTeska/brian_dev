{
 "cells": [
  {
   "cell_type": "markdown",
   "metadata": {},
   "source": [
    "# Fit Spikes Dev, Get Uniform Input Working"
   ]
  },
  {
   "cell_type": "code",
   "execution_count": 1,
   "metadata": {},
   "outputs": [
    {
     "name": "stderr",
     "output_type": "stream",
     "text": [
      "WARNING    /home/alteska/anaconda3/envs/brian_opt/lib/python3.7/site-packages/sklearn/externals/joblib/__init__.py:15: DeprecationWarning: sklearn.externals.joblib is deprecated in 0.21 and will be removed in 0.23. Please import this functionality directly from joblib, which can be installed with: pip install joblib. If this warning is raised when loading pickled models, you may need to re-serialize those models with scikit-learn 0.21+.\n",
      "  warnings.warn(msg, category=DeprecationWarning)\n",
      " [py.warnings]\n"
     ]
    }
   ],
   "source": [
    "import numpy as np\n",
    "from brian2 import *\n",
    "from brian2tools import *"
   ]
  },
  {
   "cell_type": "markdown",
   "metadata": {},
   "source": [
    "## Get Neuron Spikes to Model"
   ]
  },
  {
   "cell_type": "code",
   "execution_count": 2,
   "metadata": {},
   "outputs": [],
   "source": [
    "dt = 0.01 * ms\n",
    "defaultclock.dt = dt\n",
    "input_current = np.hstack([np.zeros(int(5*ms/dt)), np.ones(int(5*ms/dt)*5), np.zeros(5*int(5*ms/dt))])* 5 * nA\n",
    "I = TimedArray(input_current, dt=dt)"
   ]
  },
  {
   "cell_type": "code",
   "execution_count": 3,
   "metadata": {},
   "outputs": [],
   "source": [
    "# C = 1*nF\n",
    "# gL = 30*nS\n",
    "EL = -70*mV\n",
    "VT = -50*mV\n",
    "DeltaT = 2*mV\n",
    "eqs = Equations('''\n",
    "    dv/dt = (gL*(EL-v)+gL*DeltaT*exp((v-VT)/DeltaT) + I(t))/C : volt\n",
    "    gL: siemens (constant)\n",
    "    C: farad (constant)\n",
    "    ''')"
   ]
  },
  {
   "cell_type": "code",
   "execution_count": 4,
   "metadata": {},
   "outputs": [],
   "source": [
    "group = NeuronGroup(1, eqs,\n",
    "                    threshold='v > -50*mV',\n",
    "                    reset='v = -70*mV',\n",
    "                    method='exponential_euler')\n",
    "group.v = -70 *mV\n",
    "group.set_states({'gL': [30*nS], 'C':[1*nF]})"
   ]
  },
  {
   "cell_type": "code",
   "execution_count": 5,
   "metadata": {},
   "outputs": [],
   "source": [
    "monitor = StateMonitor(group, 'v', record=True)\n",
    "smonitor  = SpikeMonitor(group)"
   ]
  },
  {
   "cell_type": "code",
   "execution_count": 6,
   "metadata": {},
   "outputs": [],
   "source": [
    "run(60*ms)"
   ]
  },
  {
   "cell_type": "markdown",
   "metadata": {},
   "source": [
    "#### Get Output"
   ]
  },
  {
   "cell_type": "code",
   "execution_count": 7,
   "metadata": {},
   "outputs": [
    {
     "name": "stdout",
     "output_type": "stream",
     "text": [
      "[ 9.24 13.5  17.76 22.02 26.28]\n"
     ]
    }
   ],
   "source": [
    "voltage = monitor.v[0]/mV\n",
    "out_spikes = getattr(smonitor, 't') / ms\n",
    "print(out_spikes)"
   ]
  },
  {
   "cell_type": "code",
   "execution_count": 8,
   "metadata": {},
   "outputs": [
    {
     "data": {
      "image/png": "[encoded data removed]",
      "text/plain": [
       "<Figure size 432x288 with 1 Axes>"
      ]
     },
     "metadata": {
      "needs_background": "light"
     },
     "output_type": "display_data"
    }
   ],
   "source": [
    "plot(voltage);"
   ]
  },
  {
   "cell_type": "markdown",
   "metadata": {},
   "source": [
    "## Fitting"
   ]
  },
  {
   "cell_type": "code",
   "execution_count": 9,
   "metadata": {},
   "outputs": [],
   "source": [
    "start_scope()\n",
    "eqs_fit = Equations('''\n",
    "    dv/dt = (gL*(EL-v)+gL*DeltaT*exp((v-VT)/DeltaT) + I)/C : volt\n",
    "    gL: siemens (constant)\n",
    "    ''',\n",
    "    EL = -70*mV,\n",
    "    VT = -50*mV,\n",
    "    DeltaT = 2*mV,\n",
    "    C=1*nF)\n",
    "\n",
    "n_opt = NevergradOptimizer()\n",
    "metric = GammaFactor(100*ms, dt)\n",
    "inp_trace = np.array([input_current])"
   ]
  },
  {
   "cell_type": "code",
   "execution_count": 10,
   "metadata": {},
   "outputs": [],
   "source": [
    "TR = fit_spikes(model=eqs_fit, input_var='I',\n",
    "                    input=inp_trace * amp, output=out_spikes, dt=dt,\n",
    "                    n_rounds=1, n_samples=5, optimizer=n_opt, metric=metric,\n",
    "                    threshold='v > -50*mV',\n",
    "                    reset='v = -70*mV',\n",
    "                    method='exponential_euler',\n",
    "                    param_init={'v': -70*mV},\n",
    "                    gL=[20*nS, 40*nS],\n",
    "                    # C = [0.5*nS, 1.5*nS]\n",
    "                    )"
   ]
  },
  {
   "cell_type": "code",
   "execution_count": 11,
   "metadata": {},
   "outputs": [
    {
     "data": {
      "text/plain": [
       "{0: array([ 9.17, 13.36, 17.55, 21.74, 25.93]) * msecond,\n",
       " 1: array([ 9.26, 13.54, 17.82, 22.1 , 26.38]) * msecond,\n",
       " 2: array([ 9.26, 13.54, 17.82, 22.1 , 26.38]) * msecond,\n",
       " 3: array([ 9.21, 13.44, 17.67, 21.9 , 26.13]) * msecond,\n",
       " 4: array([ 9.28, 13.58, 17.88, 22.18, 26.48]) * msecond}"
      ]
     },
     "execution_count": 11,
     "metadata": {},
     "output_type": "execute_result"
    }
   ],
   "source": [
    "TR"
   ]
  },
  {
   "cell_type": "markdown",
   "metadata": {},
   "source": [
    "#### Switch to 2D array of results"
   ]
  },
  {
   "cell_type": "code",
   "execution_count": 12,
   "metadata": {},
   "outputs": [],
   "source": [
    "traces = []\n",
    "for i in np.arange(len(TR)):\n",
    "    trace = TR[i] / ms\n",
    "    traces.append(trace)"
   ]
  },
  {
   "cell_type": "code",
   "execution_count": 13,
   "metadata": {},
   "outputs": [
    {
     "data": {
      "text/plain": [
       "array([[ 9.17, 13.36, 17.55, 21.74, 25.93],\n",
       "       [ 9.26, 13.54, 17.82, 22.1 , 26.38],\n",
       "       [ 9.26, 13.54, 17.82, 22.1 , 26.38],\n",
       "       [ 9.21, 13.44, 17.67, 21.9 , 26.13],\n",
       "       [ 9.28, 13.58, 17.88, 22.18, 26.48]])"
      ]
     },
     "execution_count": 13,
     "metadata": {},
     "output_type": "execute_result"
    }
   ],
   "source": [
    "traces = np.array(traces)    \n",
    "traces"
   ]
  },
  {
   "cell_type": "markdown",
   "metadata": {},
   "source": [
    "## Calculate the Gamma Factor"
   ]
  },
  {
   "cell_type": "code",
   "execution_count": 14,
   "metadata": {},
   "outputs": [],
   "source": [
    "def firing_rate(spikes):\n",
    "    '''\n",
    "    Rate of the spike train.\n",
    "    '''\n",
    "    if len(spikes)<2:\n",
    "        return NaN\n",
    "    return (len(spikes) - 1) / (spikes[-1] - spikes[0])"
   ]
  },
  {
   "cell_type": "code",
   "execution_count": 15,
   "metadata": {},
   "outputs": [],
   "source": [
    "def get_gamma_factor(source, target, delta, dt):\n",
    "    \"\"\"Calculate gamma factor between source and tagret spike trains\"\"\"\n",
    "    source = array(source)\n",
    "    target = array(target)\n",
    "    target_rate = firing_rate(target) * Hz\n",
    "\n",
    "    source = array(rint(source / dt), dtype=int)\n",
    "    target = array(rint(target / dt), dtype=int)\n",
    "    delta_diff = int(rint(delta / dt))\n",
    "\n",
    "    source_length = len(source)\n",
    "    target_length = len(target)\n",
    "\n",
    "    if (source_length > 1):\n",
    "        bins = .5 * (source[1:] + source[:-1])\n",
    "        indices = digitize(target, bins)\n",
    "        diff = abs(target - source[indices])\n",
    "        matched_spikes = (diff <= delta_diff)\n",
    "        coincidences = sum(matched_spikes)\n",
    "    else:\n",
    "        indices = [amin(abs(source - target[i])) <= delta_diff for i in xrange(target_length)]\n",
    "        coincidences = sum(indices)\n",
    "\n",
    "    # Normalization of the coincidences count\n",
    "    NCoincAvg = 2 * delta * target_length * target_rate\n",
    "    norm = .5*(1 - 2 * target_rate * delta)\n",
    "    gamma = (coincidences - NCoincAvg)/(norm*(source_length + target_length))\n",
    "    return gamma"
   ]
  },
  {
   "cell_type": "code",
   "execution_count": 22,
   "metadata": {},
   "outputs": [],
   "source": [
    "gamma_facts = []\n",
    "for trace in traces:\n",
    "    gf = get_gamma_factor(trace, out_spikes, 60*ms, dt)\n",
    "    gamma_facts.append(gf)"
   ]
  },
  {
   "cell_type": "code",
   "execution_count": 23,
   "metadata": {},
   "outputs": [
    {
     "data": {
      "text/plain": [
       "[-0.028985507246376812,\n",
       " 0.5884057971014492,\n",
       " 0.5884057971014492,\n",
       " 0.38260869565217387,\n",
       " 0.17681159420289855]"
      ]
     },
     "execution_count": 23,
     "metadata": {},
     "output_type": "execute_result"
    }
   ],
   "source": [
    "gamma_facts"
   ]
  },
  {
   "cell_type": "code",
   "execution_count": 24,
   "metadata": {},
   "outputs": [
    {
     "name": "stdout",
     "output_type": "stream",
     "text": [
      "[ 9.24 13.5  17.76 22.02 26.28]\n",
      "[[ 9.17 13.36 17.55 21.74 25.93]\n",
      " [ 9.26 13.54 17.82 22.1  26.38]\n",
      " [ 9.26 13.54 17.82 22.1  26.38]\n",
      " [ 9.21 13.44 17.67 21.9  26.13]\n",
      " [ 9.28 13.58 17.88 22.18 26.48]]\n"
     ]
    }
   ],
   "source": [
    "print(out_spikes)\n",
    "print(traces)"
   ]
  },
  {
   "cell_type": "code",
   "execution_count": null,
   "metadata": {},
   "outputs": [],
   "source": []
  }
 ],
 "metadata": {
  "kernelspec": {
   "display_name": "brian_opt",
   "language": "python",
   "name": "brian_opt"
  },
  "language_info": {
   "codemirror_mode": {
    "name": "ipython",
    "version": 3
   },
   "file_extension": ".py",
   "mimetype": "text/x-python",
   "name": "python",
   "nbconvert_exporter": "python",
   "pygments_lexer": "ipython3",
   "version": "3.7.3"
  }
 },
 "nbformat": 4,
 "nbformat_minor": 2
}
