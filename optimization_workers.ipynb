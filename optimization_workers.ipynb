{
 "cells": [
  {
   "cell_type": "markdown",
   "metadata": {},
   "source": [
    "# Notebook for Work with Optimization and Pool and Executor instances\n",
    "For possible application in ModelFitting in brian2tools\n",
    "\n",
    "Notebook goals: \n",
    "    - create instances with Scipy and Nevergrad that take two params and return optimal error\n",
    "    - modify them to use the workers with Executor and Pool \n",
    "    - try using NeuronGrouop to adapt them"
   ]
  },
  {
   "cell_type": "code",
   "execution_count": 1,
   "metadata": {},
   "outputs": [],
   "source": [
    "import numpy as np\n",
    "import multiprocessing as mp\n",
    "\n",
    "from scipy.optimize import differential_evolution, rosen\n",
    "from scipy.optimize._differentialevolution import DifferentialEvolutionSolver\n",
    "\n",
    "from nevergrad.optimization import optimizerlib\n",
    "from concurrent import futures\n",
    "from nevergrad import instrumentation as inst"
   ]
  },
  {
   "cell_type": "markdown",
   "metadata": {},
   "source": [
    "## Scipy"
   ]
  },
  {
   "cell_type": "code",
   "execution_count": 44,
   "metadata": {},
   "outputs": [],
   "source": [
    "def test(x):\n",
    "    arg2 = x[0] - x[1]\n",
    "    return arg2"
   ]
  },
  {
   "cell_type": "code",
   "execution_count": 45,
   "metadata": {},
   "outputs": [
    {
     "data": {
      "text/plain": [
       "(array([-5.,  0.]), -5.0)"
      ]
     },
     "execution_count": 45,
     "metadata": {},
     "output_type": "execute_result"
    }
   ],
   "source": [
    "bounds = [(-5, 5), (-10, 0)]\n",
    "result = differential_evolution(test, bounds)\n",
    "result.x, result.fun"
   ]
  },
  {
   "cell_type": "markdown",
   "metadata": {},
   "source": [
    "### use workers to map"
   ]
  },
  {
   "cell_type": "code",
   "execution_count": 4,
   "metadata": {},
   "outputs": [],
   "source": [
    "with mp.Pool(2) as p, DifferentialEvolutionSolver(\n",
    "    test, bounds, updating='deferred', workers=p.map) as solver:\n",
    "    solver.solve()"
   ]
  },
  {
   "cell_type": "code",
   "execution_count": 5,
   "metadata": {},
   "outputs": [
    {
     "name": "stdout",
     "output_type": "stream",
     "text": [
      "[-5.  5.]\n",
      "-10.0\n"
     ]
    }
   ],
   "source": [
    "print(solver.x)\n",
    "print(test(solver.x))"
   ]
  },
  {
   "cell_type": "code",
   "execution_count": 6,
   "metadata": {},
   "outputs": [],
   "source": [
    "with DifferentialEvolutionSolver(\n",
    "    test, bounds, updating='deferred', workers=mp.Pool(2).map) as solver:\n",
    "    solver.solve()"
   ]
  },
  {
   "cell_type": "code",
   "execution_count": 7,
   "metadata": {},
   "outputs": [
    {
     "data": {
      "text/plain": [
       "     fun: -10.0\n",
       "     jac: array([ 1.00000008, -1.00000008])\n",
       " message: 'Optimization terminated successfully.'\n",
       "    nfev: 576\n",
       "     nit: 18\n",
       " success: True\n",
       "       x: array([-5.,  5.])"
      ]
     },
     "execution_count": 7,
     "metadata": {},
     "output_type": "execute_result"
    }
   ],
   "source": [
    "differential_evolution(test, bounds, updating='deferred', workers=mp.Pool(2).map)"
   ]
  },
  {
   "cell_type": "code",
   "execution_count": 8,
   "metadata": {},
   "outputs": [
    {
     "name": "stdout",
     "output_type": "stream",
     "text": [
      "[-5.  5.]\n",
      "-10.0\n"
     ]
    }
   ],
   "source": [
    "print(solver.x)\n",
    "print(test(solver.x))"
   ]
  },
  {
   "cell_type": "markdown",
   "metadata": {},
   "source": [
    "### Using Like for The Nevergrad PoolExecutor with Scipy optimize"
   ]
  },
  {
   "cell_type": "code",
   "execution_count": 9,
   "metadata": {},
   "outputs": [],
   "source": [
    "with futures.ProcessPoolExecutor(max_workers=2) as p, DifferentialEvolutionSolver(\n",
    "    test, bounds, updating='deferred', workers=p.map) as solver:\n",
    "    solver.solve()"
   ]
  },
  {
   "cell_type": "code",
   "execution_count": 10,
   "metadata": {},
   "outputs": [
    {
     "name": "stdout",
     "output_type": "stream",
     "text": [
      "[-5.  5.]\n",
      "-10.0\n"
     ]
    }
   ],
   "source": [
    "print(solver.x)\n",
    "print(test(solver.x))"
   ]
  },
  {
   "cell_type": "markdown",
   "metadata": {},
   "source": [
    "### Nevergrad"
   ]
  },
  {
   "cell_type": "code",
   "execution_count": 72,
   "metadata": {},
   "outputs": [
    {
     "data": {
      "text/plain": [
       "Instrumentation(Array(shape=(2,), transforms=[ArctanBound(a_max=5, a_min=-5)]))"
      ]
     },
     "execution_count": 72,
     "metadata": {},
     "output_type": "execute_result"
    }
   ],
   "source": [
    "# define the variables to be a bounded array\n",
    "arg1 = inst.var.Array(2).bounded(a_min=-5, a_max=5)\n",
    "\n",
    "instrum = inst.Instrumentation(arg1)\n",
    "instrum"
   ]
  },
  {
   "cell_type": "code",
   "execution_count": 12,
   "metadata": {},
   "outputs": [],
   "source": [
    "# pick the optimization method; budget = number of allowed evaluations\n",
    "optim = optimizerlib.registry['DE'](instrumentation=instrum, budget=5000)"
   ]
  },
  {
   "cell_type": "code",
   "execution_count": 13,
   "metadata": {},
   "outputs": [
    {
     "data": {
      "text/plain": [
       "Candidate(args=(array([-5.,  5.]),), kwargs={}, data=[-3.97165157e+11  4.50108411e+10])"
      ]
     },
     "execution_count": 13,
     "metadata": {},
     "output_type": "execute_result"
    }
   ],
   "source": [
    "optim.optimize(test)"
   ]
  },
  {
   "cell_type": "markdown",
   "metadata": {},
   "source": [
    "#### Verbosity\n",
    "you can set up verbosity parameter to report on fitness of the function"
   ]
  },
  {
   "cell_type": "code",
   "execution_count": 27,
   "metadata": {},
   "outputs": [
    {
     "name": "stderr",
     "output_type": "stream",
     "text": [
      "/home/alteska/anaconda3/envs/brian_opt/lib/python3.6/site-packages/nevergrad/common/tools.py:168: UserWarning: Ignoring since timer was stopped before starting.\n",
      "  warnings.warn(\"Ignoring since timer was stopped before starting.\")\n"
     ]
    }
   ],
   "source": [
    "optim = optimizerlib.registry['DE'](instrumentation=instrum, budget=10000, num_workers=2)\n",
    "\n",
    "with futures.ProcessPoolExecutor(max_workers=optim.num_workers) as executor:\n",
    "    recommendation = optim.optimize(test, executor=executor, batch_mode=True, verbosity=0)"
   ]
  },
  {
   "cell_type": "code",
   "execution_count": 15,
   "metadata": {},
   "outputs": [
    {
     "data": {
      "text/plain": [
       "Candidate(args=(array([-4.99619639,  4.99608577]),), kwargs={}, data=[-836.86246351  813.21160721])"
      ]
     },
     "execution_count": 15,
     "metadata": {},
     "output_type": "execute_result"
    }
   ],
   "source": [
    "recommendation"
   ]
  },
  {
   "cell_type": "markdown",
   "metadata": {},
   "source": [
    "### Nevergrad with Executor"
   ]
  },
  {
   "cell_type": "code",
   "execution_count": 16,
   "metadata": {},
   "outputs": [],
   "source": [
    "# can not be used the other way around, needs \"submit\" method\n",
    "\n",
    "# optim = optimizerlib.registry['DE'](instrumentation=instrum, budget=10000, num_workers=2)\n",
    "# with mp.Pool(processes=optim.num_workers) as executor:\n",
    "#     recommendation = optim.optimize(test, executor=executor, batch_mode=True)"
   ]
  },
  {
   "cell_type": "markdown",
   "metadata": {},
   "source": [
    "### Two Separate Bounds Problem\n",
    "Multiple bounds can not be passed for an array, but array can be cast as scalar and then used. "
   ]
  },
  {
   "cell_type": "code",
   "execution_count": 75,
   "metadata": {},
   "outputs": [],
   "source": [
    "# This kind of approaches won't work:\n",
    "# a_max = {5, 5}\n",
    "# a_min = {-5, -5}\n",
    "# arg1 = inst.var.Array(2).bounded(a_min=a_min, a_max=a_max)\n",
    "\n",
    "# a_max = [5, 5]\n",
    "# a_min = [-5, -5]\n",
    "# arg1 = inst.var.Array(2).bounded(a_min=a_min, a_max=a_max)"
   ]
  },
  {
   "cell_type": "markdown",
   "metadata": {},
   "source": [
    "#### Two Variables Approach"
   ]
  },
  {
   "cell_type": "code",
   "execution_count": 85,
   "metadata": {},
   "outputs": [],
   "source": [
    "def test2(x, y):\n",
    "    arg2 = x - y\n",
    "    return arg2"
   ]
  },
  {
   "cell_type": "code",
   "execution_count": 89,
   "metadata": {},
   "outputs": [],
   "source": [
    "arg1 = inst.var.Array(1).bounded(-5, 5).asscalar()\n",
    "arg2 = inst.var.Array(1).bounded(0, 10).asscalar()\n",
    "instrum = inst.Instrumentation(arg1, arg2)"
   ]
  },
  {
   "cell_type": "code",
   "execution_count": 90,
   "metadata": {},
   "outputs": [
    {
     "data": {
      "text/plain": [
       "Candidate(args=(-4.999980489920258, 9.999905211467883), kwargs={}, data=[-163151.50443934   33581.05447804])"
      ]
     },
     "execution_count": 90,
     "metadata": {},
     "output_type": "execute_result"
    }
   ],
   "source": [
    "# pick the optimization method; budget = number of allowed evaluations\n",
    "optim = optimizerlib.registry['DE'](instrumentation=instrum, budget=5000)\n",
    "optim.optimize(test2)"
   ]
  },
  {
   "cell_type": "markdown",
   "metadata": {},
   "source": [
    "#### Args Approach"
   ]
  },
  {
   "cell_type": "code",
   "execution_count": 124,
   "metadata": {},
   "outputs": [],
   "source": [
    "def test_args(*args):\n",
    "    return args[0] - args[1]"
   ]
  },
  {
   "cell_type": "code",
   "execution_count": 125,
   "metadata": {},
   "outputs": [],
   "source": [
    "arg1 = inst.var.Array(1).bounded(-5, 5).asscalar()\n",
    "arg2 = inst.var.Array(1).bounded(0, 10).asscalar()\n",
    "instrum = inst.Instrumentation(arg1, arg2)"
   ]
  },
  {
   "cell_type": "code",
   "execution_count": 126,
   "metadata": {},
   "outputs": [
    {
     "data": {
      "text/plain": [
       "Candidate(args=(-4.999999994745679, 9.999999976692884), kwargs={}, data=[-6.05805871e+08  1.36571971e+08])"
      ]
     },
     "execution_count": 126,
     "metadata": {},
     "output_type": "execute_result"
    }
   ],
   "source": [
    "# pick the optimization method; budget = number of allowed evaluations\n",
    "optim = optimizerlib.registry['DE'](instrumentation=instrum, budget=10000)\n",
    "optim.optimize(test_args)"
   ]
  },
  {
   "cell_type": "markdown",
   "metadata": {},
   "source": [
    "### Test with More complicated function"
   ]
  },
  {
   "cell_type": "code",
   "execution_count": 103,
   "metadata": {},
   "outputs": [],
   "source": [
    "def ackley(x):\n",
    "    arg1 = -0.2 * np.sqrt(0.5 * (x[0] ** 2 + x[1] ** 2))\n",
    "    arg2 = 0.5 * (np.cos(2. * np.pi * x[0]) + np.cos(2. * np.pi * x[1]))\n",
    "    return -20. * np.exp(arg1) - np.exp(arg2) + 20. + np.e"
   ]
  },
  {
   "cell_type": "code",
   "execution_count": 111,
   "metadata": {},
   "outputs": [],
   "source": [
    "def ackley_args(*args):\n",
    "    arg1 = -0.2 * np.sqrt(0.5 * (args[0] ** 2 + args[1] ** 2))\n",
    "    arg2 = 0.5 * (np.cos(2. * np.pi * args[0]) + np.cos(2. * np.pi * args[1]))\n",
    "    return -20. * np.exp(arg1) - np.exp(arg2) + 20. + np.e"
   ]
  },
  {
   "cell_type": "markdown",
   "metadata": {},
   "source": [
    "#### Scipy Verison of this optimization"
   ]
  },
  {
   "cell_type": "code",
   "execution_count": 112,
   "metadata": {},
   "outputs": [],
   "source": [
    "bounds = [(-5, 5), (-10, 0)]"
   ]
  },
  {
   "cell_type": "code",
   "execution_count": 113,
   "metadata": {},
   "outputs": [
    {
     "data": {
      "text/plain": [
       "     fun: 4.440892098500626e-16\n",
       " message: 'Optimization terminated successfully.'\n",
       "    nfev: 4170\n",
       "     nit: 138\n",
       " success: True\n",
       "       x: array([0., 0.])"
      ]
     },
     "execution_count": 113,
     "metadata": {},
     "output_type": "execute_result"
    }
   ],
   "source": [
    "res = differential_evolution(ackley, bounds, updating='deferred', workers=mp.Pool(2).map, polish=False)\n",
    "res"
   ]
  },
  {
   "cell_type": "markdown",
   "metadata": {},
   "source": [
    "#### Nevergrad"
   ]
  },
  {
   "cell_type": "code",
   "execution_count": 119,
   "metadata": {},
   "outputs": [],
   "source": [
    "arg1 = inst.var.Array(1).bounded(-5, 5).asscalar()\n",
    "arg2 = inst.var.Array(1).bounded(0, 10).asscalar()\n",
    "instrum = inst.Instrumentation(arg1, arg2)\n",
    "\n",
    "optim = optimizerlib.registry['DE'](instrumentation=instrum, budget=15000, num_workers=2)"
   ]
  },
  {
   "cell_type": "code",
   "execution_count": 120,
   "metadata": {},
   "outputs": [],
   "source": [
    "with futures.ProcessPoolExecutor(max_workers=optim.num_workers) as executor:\n",
    "    recommendation = optim.optimize(ackley_args, executor=executor, batch_mode=True, verbosity=0)"
   ]
  },
  {
   "cell_type": "code",
   "execution_count": 121,
   "metadata": {},
   "outputs": [
    {
     "data": {
      "text/plain": [
       "Candidate(args=(-8.520153765040456e-09, 0.9521665367008145), kwargs={}, data=[-2.67668525e-09 -3.24269587e+00])"
      ]
     },
     "execution_count": 121,
     "metadata": {},
     "output_type": "execute_result"
    }
   ],
   "source": [
    "recommendation"
   ]
  },
  {
   "cell_type": "markdown",
   "metadata": {},
   "source": [
    "## Using Instrumentation SoftmaxCategorical ( utils.Variable[X] ):\n",
    "There are other ways to create variables, however they are not boundable\n",
    "\n",
    "Discrete set of n values transformed to a n-dim continuous variable. Each of the dimension encodes a weight for a value, and the softmax of weights provide probabilities for each possible value. A random value is sampled from this distribution. Since the chosen value is drawn randomly, the use of this variable makes deterministic functions become stochastic, hence \"adding noise\"\n",
    "\n",
    "\n",
    "Input: list\n",
    "    a list of possible values for the variable"
   ]
  },
  {
   "cell_type": "code",
   "execution_count": 80,
   "metadata": {},
   "outputs": [
    {
     "data": {
      "text/plain": [
       "array([[3.06345103, 4.93654897],\n",
       "       [4.        , 4.        ]])"
      ]
     },
     "execution_count": 80,
     "metadata": {},
     "output_type": "execute_result"
    }
   ],
   "source": [
    "# in case of Array we can bound it's general output in following way\n",
    "var = inst.var.Array(2, 2).bounded(3, 5, transform=\"arctan\")\n",
    "data = np.array([-10, 10, 0, 0])\n",
    "output = var.data_to_argument(data)\n",
    "output"
   ]
  },
  {
   "cell_type": "code",
   "execution_count": 81,
   "metadata": {},
   "outputs": [
    {
     "data": {
      "text/plain": [
       "'blublublu'"
      ]
     },
     "execution_count": 81,
     "metadata": {},
     "output_type": "execute_result"
    }
   ],
   "source": [
    "token = inst.var.SoftmaxCategorical([\"blu\", \"blublu\", \"blublublu\"], deterministic=True)\n",
    "token.data_to_argument([1, 1, 1.01], deterministic=False)"
   ]
  },
  {
   "cell_type": "code",
   "execution_count": 83,
   "metadata": {},
   "outputs": [
    {
     "data": {
      "text/plain": [
       "'blu'"
      ]
     },
     "execution_count": 83,
     "metadata": {},
     "output_type": "execute_result"
    }
   ],
   "source": [
    "token = inst.var.SoftmaxCategorical([\"blu\", \"blublu\", \"blublublu\"])\n",
    "token.data_to_argument([.5, 1, 2.])\n",
    "token.data_to_argument(token.argument_to_data(\"blu\"), deterministic=True)"
   ]
  },
  {
   "cell_type": "markdown",
   "metadata": {},
   "source": [
    "### Test Ask and Tell "
   ]
  },
  {
   "cell_type": "code",
   "execution_count": 152,
   "metadata": {},
   "outputs": [],
   "source": [
    "arg1 = inst.var.Array(1).bounded(-5, 5).asscalar()\n",
    "arg2 = inst.var.Array(1).bounded(0, 10).asscalar()\n",
    "instrum = inst.Instrumentation(arg1, arg2)"
   ]
  },
  {
   "cell_type": "code",
   "execution_count": 153,
   "metadata": {},
   "outputs": [],
   "source": [
    "# pick the optimization method; budget = number of allowed evaluations\n",
    "optim = optimizerlib.registry['DE'](instrumentation=instrum, budget=10000)"
   ]
  },
  {
   "cell_type": "code",
   "execution_count": 156,
   "metadata": {},
   "outputs": [],
   "source": [
    "for _ in range(10):\n",
    "    x = optim.ask()\n",
    "    value = test_args(*x.args, **x.kwargs)\n",
    "    optim.tell(x, value)"
   ]
  },
  {
   "cell_type": "code",
   "execution_count": 157,
   "metadata": {},
   "outputs": [
    {
     "data": {
      "text/plain": [
       "Candidate(args=(-4.911383245891773, 9.932189466048584), kwargs={}, data=[-35.91055094  46.93396634])"
      ]
     },
     "execution_count": 157,
     "metadata": {},
     "output_type": "execute_result"
    }
   ],
   "source": [
    "recommendation = optim.provide_recommendation()\n",
    "recommendation"
   ]
  },
  {
   "cell_type": "code",
   "execution_count": 158,
   "metadata": {},
   "outputs": [
    {
     "data": {
      "text/plain": [
       "Candidate(args=(-4.926469413852488, 9.961740251062164), kwargs={}, data=[-43.28175274  83.19305952])"
      ]
     },
     "execution_count": 158,
     "metadata": {},
     "output_type": "execute_result"
    }
   ],
   "source": [
    "optim.optimize(test_args)"
   ]
  },
  {
   "cell_type": "code",
   "execution_count": 150,
   "metadata": {},
   "outputs": [
    {
     "data": {
      "text/plain": [
       "(-4.986960917484704, 9.993636140880133)"
      ]
     },
     "execution_count": 150,
     "metadata": {},
     "output_type": "execute_result"
    }
   ],
   "source": [
    "recommendation.args"
   ]
  },
  {
   "cell_type": "code",
   "execution_count": 151,
   "metadata": {},
   "outputs": [
    {
     "data": {
      "text/plain": [
       "'2c9f1bb072f34feb9c8835d49b55dd00'"
      ]
     },
     "execution_count": 151,
     "metadata": {},
     "output_type": "execute_result"
    }
   ],
   "source": [
    "recommendation.uuid"
   ]
  },
  {
   "cell_type": "code",
   "execution_count": null,
   "metadata": {},
   "outputs": [],
   "source": []
  }
 ],
 "metadata": {
  "kernelspec": {
   "display_name": "brian_opt",
   "language": "python",
   "name": "brian_opt"
  },
  "language_info": {
   "codemirror_mode": {
    "name": "ipython",
    "version": 3
   },
   "file_extension": ".py",
   "mimetype": "text/x-python",
   "name": "python",
   "nbconvert_exporter": "python",
   "pygments_lexer": "ipython3",
   "version": "3.6.8"
  }
 },
 "nbformat": 4,
 "nbformat_minor": 2
}
