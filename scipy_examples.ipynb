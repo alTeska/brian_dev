{
 "cells": [
  {
   "cell_type": "code",
   "execution_count": 1,
   "metadata": {},
   "outputs": [],
   "source": [
    "from scipy.optimize import differential_evolution\n",
    "import numpy as np"
   ]
  },
  {
   "cell_type": "code",
   "execution_count": 9,
   "metadata": {},
   "outputs": [],
   "source": [
    "def ackley(x):\n",
    "    arg1 = -0.2 * np.sqrt(0.5 * (x[0] ** 2 + x[1] ** 2))\n",
    "    arg2 = 0.5 * (np.cos(2. * np.pi * x[0]) + np.cos(2. * np.pi * x[1]))\n",
    "    return -20. * np.exp(arg1) - np.exp(arg2) + 20. + np.e"
   ]
  },
  {
   "cell_type": "code",
   "execution_count": 10,
   "metadata": {},
   "outputs": [
    {
     "data": {
      "text/plain": [
       "(array([0., 0.]), 4.440892098500626e-16)"
      ]
     },
     "execution_count": 10,
     "metadata": {},
     "output_type": "execute_result"
    }
   ],
   "source": [
    "bounds = [(-5, 5), (-5, 5)]\n",
    "result = differential_evolution(ackley, bounds)\n",
    "result.x, result.fun"
   ]
  },
  {
   "cell_type": "code",
   "execution_count": 11,
   "metadata": {},
   "outputs": [
    {
     "data": {
      "text/plain": [
       "(array([0., 0.]), 4.440892098500626e-16)"
      ]
     },
     "execution_count": 11,
     "metadata": {},
     "output_type": "execute_result"
    }
   ],
   "source": [
    "result = differential_evolution(ackley, bounds, workers=2)\n",
    "result.x, result.fun"
   ]
  },
  {
   "cell_type": "code",
   "execution_count": 14,
   "metadata": {},
   "outputs": [],
   "source": [
    "from multiprocessing import Pool"
   ]
  },
  {
   "cell_type": "code",
   "execution_count": 23,
   "metadata": {},
   "outputs": [],
   "source": [
    "mm = Pool(processes=2)"
   ]
  },
  {
   "cell_type": "code",
   "execution_count": 25,
   "metadata": {},
   "outputs": [],
   "source": [
    "def multi_run_wrapper(args):\n",
    "    return add(*args)\n",
    "def add(x,y):\n",
    "    return x+y"
   ]
  },
  {
   "cell_type": "code",
   "execution_count": 26,
   "metadata": {},
   "outputs": [
    {
     "data": {
      "text/plain": [
       "[3, 5, 7]"
      ]
     },
     "execution_count": 26,
     "metadata": {},
     "output_type": "execute_result"
    }
   ],
   "source": [
    "pool = Pool(4)\n",
    "results = pool.map(multi_run_wrapper,[(1,2),(2,3),(3,4)])\n",
    "results"
   ]
  },
  {
   "cell_type": "code",
   "execution_count": 29,
   "metadata": {},
   "outputs": [],
   "source": [
    "# result = differential_evolution(ackley, bounds, workers=pool)\n",
    "# result.x, result.fun"
   ]
  },
  {
   "cell_type": "code",
   "execution_count": 30,
   "metadata": {},
   "outputs": [],
   "source": [
    "test_vec = np.array([1,2,3])\n",
    "\n",
    "def test_f (x):\n",
    "    return x+2"
   ]
  },
  {
   "cell_type": "code",
   "execution_count": 48,
   "metadata": {},
   "outputs": [
    {
     "data": {
      "text/plain": [
       "array(0)"
      ]
     },
     "execution_count": 48,
     "metadata": {},
     "output_type": "execute_result"
    }
   ],
   "source": [
    "x0 = np.array(0)\n",
    "x0.\n"
   ]
  },
  {
   "cell_type": "code",
   "execution_count": 56,
   "metadata": {},
   "outputs": [],
   "source": [
    "def square(x):\n",
    "    x0 = []\n",
    "    for d in x:\n",
    "        print(d)\n",
    "        x0.append(np.sum((d - .5)**2))\n",
    "    return np.array(x0)"
   ]
  },
  {
   "cell_type": "code",
   "execution_count": 57,
   "metadata": {},
   "outputs": [
    {
     "name": "stdout",
     "output_type": "stream",
     "text": [
      "1\n",
      "2\n",
      "3\n"
     ]
    },
    {
     "data": {
      "text/plain": [
       "array([0.25, 2.25, 6.25])"
      ]
     },
     "execution_count": 57,
     "metadata": {},
     "output_type": "execute_result"
    }
   ],
   "source": [
    "square(test_vec)"
   ]
  },
  {
   "cell_type": "code",
   "execution_count": 63,
   "metadata": {},
   "outputs": [],
   "source": [
    "# result = differential_evolution(square, bounds, workers=pool.map(test_f,test_vec))\n",
    "# result = differential_evolution(square, bounds, workers=pool.map(square,test_vec))"
   ]
  },
  {
   "cell_type": "code",
   "execution_count": null,
   "metadata": {},
   "outputs": [],
   "source": [
    "pool = Pool(6)\n",
    "results = pool.map(square, test_vec)"
   ]
  },
  {
   "cell_type": "code",
   "execution_count": null,
   "metadata": {},
   "outputs": [],
   "source": [
    "# result = differential_evolution(ackley, bounds, workers=1)\n",
    "result = differential_evolution(ackley, bounds, workers=pool.map(test_f,test_vec))\n"
   ]
  },
  {
   "cell_type": "code",
   "execution_count": 64,
   "metadata": {},
   "outputs": [],
   "source": [
    "import multiprocessing as mp"
   ]
  },
  {
   "cell_type": "code",
   "execution_count": 65,
   "metadata": {},
   "outputs": [],
   "source": [
    "def cube(x):\n",
    "    return x**3"
   ]
  },
  {
   "cell_type": "code",
   "execution_count": 74,
   "metadata": {},
   "outputs": [
    {
     "name": "stdout",
     "output_type": "stream",
     "text": [
      "[1]\n"
     ]
    }
   ],
   "source": [
    "pool = mp.Pool(processes=2)\n",
    "results = pool.map(cube, range(1,2))\n",
    "print(results)"
   ]
  },
  {
   "cell_type": "code",
   "execution_count": 80,
   "metadata": {},
   "outputs": [
    {
     "data": {
      "text/plain": [
       "     fun: array([-125.])\n",
       "     jac: array([74.99999981])\n",
       " message: 'Optimization terminated successfully.'\n",
       "    nfev: 214\n",
       "     nit: 13\n",
       " success: True\n",
       "       x: array([-5.])"
      ]
     },
     "execution_count": 80,
     "metadata": {},
     "output_type": "execute_result"
    }
   ],
   "source": [
    "differential_evolution(cube, [(-5, 5)], workers=2)"
   ]
  },
  {
   "cell_type": "code",
   "execution_count": 89,
   "metadata": {},
   "outputs": [
    {
     "data": {
      "text/plain": [
       "<map at 0x7f91d27bdcc0>"
      ]
     },
     "execution_count": 89,
     "metadata": {},
     "output_type": "execute_result"
    }
   ],
   "source": [
    "map(lambda x: cube(x), range(1,3))"
   ]
  },
  {
   "cell_type": "code",
   "execution_count": 102,
   "metadata": {},
   "outputs": [
    {
     "data": {
      "text/plain": [
       "[1, 8]"
      ]
     },
     "execution_count": 102,
     "metadata": {},
     "output_type": "execute_result"
    }
   ],
   "source": [
    "pool = Pool(4)\n",
    "worker = pool.map(cube, range(1,3))\n",
    "pool.map(cube, range(1,3))"
   ]
  },
  {
   "cell_type": "code",
   "execution_count": 116,
   "metadata": {},
   "outputs": [],
   "source": [
    "class MapTest():\n",
    "        \n",
    "    def map(self, func, iterable):\n",
    "        return map(func, iterable)"
   ]
  },
  {
   "cell_type": "code",
   "execution_count": 126,
   "metadata": {},
   "outputs": [
    {
     "data": {
      "text/plain": [
       "True"
      ]
     },
     "execution_count": 126,
     "metadata": {},
     "output_type": "execute_result"
    }
   ],
   "source": [
    "callable(MapTest.map)"
   ]
  },
  {
   "cell_type": "code",
   "execution_count": 112,
   "metadata": {},
   "outputs": [],
   "source": [
    "class MapWrapper(object):\n",
    "    \"\"\"\n",
    "    Parallelisation wrapper for working with map-like callables, such as\n",
    "    `multiprocessing.Pool.map`.\n",
    "\n",
    "    Parameters\n",
    "    ----------\n",
    "    pool : int or map-like callable\n",
    "        If `pool` is an integer, then it specifies the number of threads to\n",
    "        use for parallelization. If ``int(pool) == 1``, then no parallel\n",
    "        processing is used and the map builtin is used.\n",
    "        If ``pool == -1``, then the pool will utilise all available CPUs.\n",
    "        If `pool` is a map-like callable that follows the same\n",
    "        calling sequence as the built-in map function, then this callable is\n",
    "        used for parallelisation.\n",
    "    \"\"\"\n",
    "    def __init__(self, pool=1):\n",
    "        self.pool = None\n",
    "        self._mapfunc = map\n",
    "        self._own_pool = False\n",
    "        print(callable(pool))\n",
    "        if callable(pool):\n",
    "            self.pool = pool\n",
    "            self._mapfunc = self.pool\n",
    "        else:\n",
    "            # user supplies a number\n",
    "            if int(pool) == -1:\n",
    "                # use as many processors as possible\n",
    "                self.pool = Pool()\n",
    "                self._mapfunc = self.pool.map\n",
    "                self._own_pool = True\n",
    "            elif int(pool) == 1:\n",
    "                pass\n",
    "            elif int(pool) > 1:\n",
    "                # use the number of processors requested\n",
    "                self.pool = Pool(processes=int(pool))\n",
    "                self._mapfunc = self.pool.map\n",
    "                self._own_pool = True\n",
    "            else:\n",
    "                raise RuntimeError(\"Number of workers specified must be -1,\"\n",
    "                                   \" an int >= 1, or an object with a 'map' method\")\n"
   ]
  },
  {
   "cell_type": "code",
   "execution_count": 121,
   "metadata": {},
   "outputs": [
    {
     "name": "stdout",
     "output_type": "stream",
     "text": [
      "True\n"
     ]
    },
    {
     "data": {
      "text/plain": [
       "<__main__.MapWrapper at 0x7f91d2738d30>"
      ]
     },
     "execution_count": 121,
     "metadata": {},
     "output_type": "execute_result"
    }
   ],
   "source": [
    "MapWrapper(pool=MapTest)"
   ]
  },
  {
   "cell_type": "code",
   "execution_count": 131,
   "metadata": {},
   "outputs": [
    {
     "data": {
      "text/plain": [
       "     fun: -124.99953845622126\n",
       " message: 'Optimization terminated successfully.'\n",
       "    nfev: 167\n",
       "     nit: 10\n",
       " success: True\n",
       "       x: array([-4.99999385])"
      ]
     },
     "execution_count": 131,
     "metadata": {},
     "output_type": "execute_result"
    }
   ],
   "source": [
    "# differential_evolution(cube, [(-5, 5), (-2,10) ], workers=MapTest.map)\n",
    "differential_evolution(cube, [(-5, 5) ], workers=map)\n"
   ]
  },
  {
   "cell_type": "code",
   "execution_count": null,
   "metadata": {},
   "outputs": [],
   "source": [
    "# result = differential_evolution(ackley, bounds, workers=pool)\n",
    "# result.x, result.fun"
   ]
  }
 ],
 "metadata": {
  "kernelspec": {
   "display_name": "brian_opt",
   "language": "python",
   "name": "brian_opt"
  },
  "language_info": {
   "codemirror_mode": {
    "name": "ipython",
    "version": 3
   },
   "file_extension": ".py",
   "mimetype": "text/x-python",
   "name": "python",
   "nbconvert_exporter": "python",
   "pygments_lexer": "ipython3",
   "version": "3.6.8"
  }
 },
 "nbformat": 4,
 "nbformat_minor": 2
}
