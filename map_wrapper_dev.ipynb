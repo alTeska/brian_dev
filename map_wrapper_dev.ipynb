{
 "cells": [
  {
   "cell_type": "markdown",
   "metadata": {},
   "source": [
    "# Map Wrapper Development for Scipy Differential Equation\n",
    "\n",
    "Proof of concept notebook for first Scipy, since it only requires map not the o\n",
    "\n",
    "Error_function is a pass function.\n",
    "Our \"map\" takes care of initiating the whole neuron group, calculating the errors and returing the value."
   ]
  },
  {
   "cell_type": "code",
   "execution_count": 1,
   "metadata": {},
   "outputs": [],
   "source": [
    "import numpy as np\n",
    "import multiprocessing as mp\n",
    "\n",
    "from scipy.optimize import differential_evolution, rosen\n",
    "from scipy.optimize._differentialevolution import DifferentialEvolutionSolver\n"
   ]
  },
  {
   "cell_type": "code",
   "execution_count": 2,
   "metadata": {},
   "outputs": [],
   "source": [
    "from brian2 import *\n",
    "from brian2.equations.equations import (DIFFERENTIAL_EQUATION, Equations,\n",
    "                                        SingleEquation, PARAMETER)\n",
    "from brian2.input import TimedArray\n",
    "from brian2 import NeuronGroup, StateMonitor, store, restore, run, defaultclock, second, Quantity\n",
    "from brian2.stateupdaters.base import StateUpdateMethod\n",
    "\n"
   ]
  },
  {
   "cell_type": "markdown",
   "metadata": {},
   "source": [
    "### Input / Output"
   ]
  },
  {
   "cell_type": "code",
   "execution_count": 3,
   "metadata": {},
   "outputs": [],
   "source": [
    "input_traces = zeros((10,1))*volt\n",
    "for i in range(1):\n",
    "    input_traces[1:,i]=i*10*mV"
   ]
  },
  {
   "cell_type": "code",
   "execution_count": 4,
   "metadata": {},
   "outputs": [],
   "source": [
    "# Create target current traces\n",
    "output_traces = 10*nS*input_traces"
   ]
  },
  {
   "cell_type": "code",
   "execution_count": 5,
   "metadata": {},
   "outputs": [],
   "source": [
    "input = input_traces\n",
    "output = output_traces"
   ]
  },
  {
   "cell_type": "markdown",
   "metadata": {},
   "source": [
    "### Parameters "
   ]
  },
  {
   "cell_type": "code",
   "execution_count": 6,
   "metadata": {},
   "outputs": [],
   "source": [
    "input_var = 'v'\n",
    "output_var = 'I'\n",
    "\n",
    "parameter_names = {'g', 'E'}\n",
    "method = ('linear', 'exponential_euler', 'euler')\n",
    "t_start = 0*second\n",
    "popsize = 2\n",
    "dt = 0.1 *ms\n",
    "defaultclock.dt = dt"
   ]
  },
  {
   "cell_type": "markdown",
   "metadata": {},
   "source": [
    "### Calculation for inner parameters"
   ]
  },
  {
   "cell_type": "code",
   "execution_count": 7,
   "metadata": {},
   "outputs": [],
   "source": [
    "Nsteps, Ntraces = input_traces.shape\n",
    "N = popsize * len(parameter_names)\n",
    "duration = Nsteps*dt"
   ]
  },
  {
   "cell_type": "code",
   "execution_count": 8,
   "metadata": {},
   "outputs": [
    {
     "data": {
      "text/plain": [
       "2"
      ]
     },
     "execution_count": 8,
     "metadata": {},
     "output_type": "execute_result"
    }
   ],
   "source": [
    "N"
   ]
  },
  {
   "cell_type": "code",
   "execution_count": null,
   "metadata": {},
   "outputs": [],
   "source": []
  },
  {
   "cell_type": "markdown",
   "metadata": {},
   "source": [
    "### Setup The Model for Optimization\n",
    "```\n",
    "params, fits, error = fit_traces(model = model, input_var = 'v', output_var = 'I',\\\n",
    "                                 input = input_traces, output = output_traces,\n",
    "                                 dt = 0.1*ms, g = [1*nS, 30*nS], E = [-20*mV,100*mV],\n",
    "                                 tol = 1e-6)\n",
    "```"
   ]
  },
  {
   "cell_type": "code",
   "execution_count": 9,
   "metadata": {},
   "outputs": [],
   "source": [
    "model = Equations('''\n",
    "I = g*(v-E) : amp\n",
    "g : siemens (constant)\n",
    "E : volt (constant)\n",
    "''')"
   ]
  },
  {
   "cell_type": "code",
   "execution_count": 10,
   "metadata": {},
   "outputs": [
    {
     "name": "stderr",
     "output_type": "stream",
     "text": [
      "INFO       No numerical integration method specified, using method 'linear' (took 0.00s). [brian2.stateupdaters.base.method_choice]\n"
     ]
    }
   ],
   "source": [
    "state_update_code = StateUpdateMethod.apply_stateupdater(model, {}, method=method)"
   ]
  },
  {
   "cell_type": "markdown",
   "metadata": {},
   "source": [
    "### Required Model Operations"
   ]
  },
  {
   "cell_type": "code",
   "execution_count": 11,
   "metadata": {},
   "outputs": [],
   "source": [
    "model_without_diffeq = Equations([eq for eq in model.ordered\n",
    "                                      if eq.type != DIFFERENTIAL_EQUATION])\n",
    "    \n",
    "# Add a parameter for each differential equation\n",
    "diffeq_params = Equations([SingleEquation(PARAMETER, varname, model.dimensions[varname])\n",
    "                           for varname in model.diff_eq_names])\n",
    "\n",
    "# Our new model:\n",
    "model = model_without_diffeq + diffeq_params\n",
    "\n",
    "# Replace input variable by TimedArray\n",
    "input_traces = TimedArray(input, dt = dt)"
   ]
  },
  {
   "cell_type": "code",
   "execution_count": 12,
   "metadata": {},
   "outputs": [],
   "source": [
    "input_unit = input.dim\n",
    "model = model + Equations(input_var + '= input_var(t,i % Ntraces) : '+ \"% s\" % repr(input_unit))\n",
    "\n",
    "# Add criterion with TimedArray\n",
    "output_traces = TimedArray(output, dt = dt)\n",
    "error_unit = output.dim**2\n",
    "model = model + Equations('total_error : %s' % repr(error_unit))"
   ]
  },
  {
   "cell_type": "code",
   "execution_count": 13,
   "metadata": {},
   "outputs": [],
   "source": [
    "neurons = NeuronGroup(Ntraces*N, model, method = method)\n",
    "neurons.namespace['input_var'] = input_traces\n",
    "neurons.namespace['output_var'] = output_traces\n",
    "neurons.namespace['t_start'] = t_start\n",
    "neurons.namespace['Ntraces'] = Ntraces\n",
    "\n",
    "# Record error\n",
    "neurons.run_regularly('total_error +=  (' + output_var + '-output_var(t,i % Ntraces))**2 * int(t>=t_start)',\n",
    "                      when='end')\n",
    "\n",
    "# Add the code doing the numerical integration\n",
    "neurons.run_regularly(state_update_code, when='groups')\n",
    "\n",
    "store()\n"
   ]
  },
  {
   "cell_type": "code",
   "execution_count": 14,
   "metadata": {},
   "outputs": [
    {
     "data": {
      "text/html": [
       "NeuronGroup \"neurongroup\" with 2 neurons.<br>\n",
       "<b>Model:</b><nr>\n",
       "\\begin{align*}v &= \\operatorname{input_{var}}{\\left (t,i\\bmod{Ntraces} \\right )} && \\text{(unit of $v$: $\\mathrm{V}$)}\\\\\n",
       "I &= g \\left(- E + v\\right) && \\text{(unit of $I$: $\\mathrm{A}$)}\\\\\n",
       "g &&& \\text{(unit: $\\mathrm{S}$, flags: constant)}\\\\\n",
       "E &&& \\text{(unit: $\\mathrm{V}$, flags: constant)}\\\\\n",
       "total_{error} &&& \\text{(unit: $\\mathrm{A^2}$)}\\end{align*}"
      ],
      "text/plain": [
       "NeuronGroup(clock=Clock(dt=100. * usecond, name='defaultclock'), when=start, order=0, name='neurongroup')"
      ]
     },
     "execution_count": 14,
     "metadata": {},
     "output_type": "execute_result"
    }
   ],
   "source": [
    "neurons"
   ]
  },
  {
   "cell_type": "code",
   "execution_count": 15,
   "metadata": {},
   "outputs": [],
   "source": [
    "def error_function(params):\n",
    "        # Set parameter values, duplicated over traces\n",
    "        # params is a list of vectors (vector = value for population)\n",
    "        d = dict()\n",
    "        for name, value in zip(parameter_names, params.T):\n",
    "            d[name] = (value * ones((Ntraces,N))).T.flatten()\n",
    "\n",
    "        # Run the model\n",
    "        restore()\n",
    "        neurons.set_states(d, units = False)\n",
    "        run(duration, namespace = {})\n",
    "\n",
    "        e = neurons.total_error/int((duration-t_start)/defaultclock.dt)\n",
    "        e = mean(e.reshape((N,Ntraces)),axis=1)\n",
    "        return array(e)"
   ]
  },
  {
   "cell_type": "markdown",
   "metadata": {},
   "source": [
    "### Dev Map Optimization "
   ]
  },
  {
   "cell_type": "markdown",
   "metadata": {},
   "source": [
    "#### Artificial Data"
   ]
  },
  {
   "cell_type": "code",
   "execution_count": 83,
   "metadata": {},
   "outputs": [
    {
     "data": {
      "text/plain": [
       "array([[1.80869973e-08, 1.88373085e-08],\n",
       "       [2.50218013e-02, 9.89559934e-02]])"
      ]
     },
     "execution_count": 83,
     "metadata": {},
     "output_type": "execute_result"
    }
   ],
   "source": [
    "params = np.array([\n",
    " [ 1.80869973e-08,  2.50218013e-02],\n",
    " [ 1.88373085e-08,  9.89559934e-02]])\n",
    "\n",
    "params.T"
   ]
  },
  {
   "cell_type": "code",
   "execution_count": 84,
   "metadata": {},
   "outputs": [],
   "source": [
    "params2 = np.array([[ 1.12735759e-08,  8.81556360e-02],\n",
    " [ 9.04858783e-09,  8.03343489e-02],\n",
    " [ 1.60635907e-08,  1.59710651e-03],\n",
    " [ 1.66254878e-09,  2.95479385e-02],\n",
    " [ 1.80869973e-08,  2.50218013e-02],])"
   ]
  },
  {
   "cell_type": "code",
   "execution_count": 85,
   "metadata": {},
   "outputs": [
    {
     "data": {
      "text/plain": [
       "{'E', 'g'}"
      ]
     },
     "execution_count": 85,
     "metadata": {},
     "output_type": "execute_result"
    }
   ],
   "source": [
    "parameter_names"
   ]
  },
  {
   "cell_type": "code",
   "execution_count": 86,
   "metadata": {},
   "outputs": [],
   "source": [
    "def error_pass(params):\n",
    "    return params"
   ]
  },
  {
   "cell_type": "code",
   "execution_count": 87,
   "metadata": {},
   "outputs": [],
   "source": [
    "def error_map_function(params):\n",
    "    d = dict()\n",
    "    for name, value in zip(parameter_names, params):\n",
    "        d[name] = (value * ones((Ntraces,N))).T.flatten()\n",
    "            \n",
    "    return d\n"
   ]
  },
  {
   "cell_type": "code",
   "execution_count": 88,
   "metadata": {},
   "outputs": [],
   "source": [
    "p = error_map_function(params)"
   ]
  },
  {
   "cell_type": "code",
   "execution_count": 89,
   "metadata": {},
   "outputs": [
    {
     "data": {
      "text/plain": [
       "{'g': array([1.12735759e-08, 8.81556360e-02]),\n",
       " 'E': array([9.04858783e-09, 8.03343489e-02])}"
      ]
     },
     "execution_count": 89,
     "metadata": {},
     "output_type": "execute_result"
    }
   ],
   "source": [
    "p = error_map_function(params2)\n",
    "p"
   ]
  },
  {
   "cell_type": "code",
   "execution_count": 78,
   "metadata": {},
   "outputs": [
    {
     "data": {
      "text/plain": [
       "{'N': array(2),\n",
       " 'i': array([0, 1], dtype=int32),\n",
       " 't': 0. * second,\n",
       " 'dt': 100. * usecond,\n",
       " 't_in_timesteps': array(0),\n",
       " 'g': array([0., 0.]) * siemens,\n",
       " 'E': array([0., 0.]) * volt,\n",
       " 'total_error': array([0., 0.]) * amp2}"
      ]
     },
     "execution_count": 78,
     "metadata": {},
     "output_type": "execute_result"
    }
   ],
   "source": [
    "neurons.get_states()"
   ]
  },
  {
   "cell_type": "code",
   "execution_count": 73,
   "metadata": {},
   "outputs": [],
   "source": [
    "def error_map_function2(func, params):\n",
    "#     print('params len', len(params))\n",
    "#     print('params', params)\n",
    "    d = dict()\n",
    "    for name, value in zip(parameter_names, params.T):\n",
    "        d[name] = value\n",
    "#         (value * ones((Ntraces,N))).flatten()\n",
    "            \n",
    "#     print('d len', len(d))\n",
    "#     print('d', d)\n",
    "    #### NEURONS SET_STATES HAS TO BE FIXED TO SET IT FOR ALL \n",
    "    restore()\n",
    "    \n",
    "    neurons.set_states(d, units = False)\n",
    "    run(duration, namespace = {})\n",
    "\n",
    "    e = neurons.total_error/int((duration-t_start)/defaultclock.dt)\n",
    "    err = neurons.total_error\n",
    "#     print('total err', err)\n",
    "    e = mean(e.reshape((N,Ntraces)),axis=1)\n",
    "    \n",
    "\n",
    "#     print('e len', len(e))\n",
    "    \n",
    "    return np.array(e).T"
   ]
  },
  {
   "cell_type": "code",
   "execution_count": 74,
   "metadata": {},
   "outputs": [
    {
     "data": {
      "text/plain": [
       "array([2.04818928e-19, 3.47473674e-18])"
      ]
     },
     "execution_count": 74,
     "metadata": {},
     "output_type": "execute_result"
    }
   ],
   "source": [
    "\n",
    "res = error_map_function2(error_pass, params)\n",
    "res"
   ]
  },
  {
   "cell_type": "code",
   "execution_count": 75,
   "metadata": {},
   "outputs": [],
   "source": [
    "# res = error_map_function2(error_pass, params2)\n",
    "# res"
   ]
  },
  {
   "cell_type": "markdown",
   "metadata": {},
   "source": [
    "### Optimization Init"
   ]
  },
  {
   "cell_type": "code",
   "execution_count": 76,
   "metadata": {},
   "outputs": [],
   "source": [
    "bounds = [(1, 30), (-20, 100)]"
   ]
  },
  {
   "cell_type": "code",
   "execution_count": 79,
   "metadata": {},
   "outputs": [
    {
     "ename": "RuntimeError",
     "evalue": "The map-like callable must be of the form f(func, iterable), returning a sequence of numbers the same length as 'iterable'",
     "output_type": "error",
     "traceback": [
      "\u001b[0;31m---------------------------------------------------------------------------\u001b[0m",
      "\u001b[0;31mValueError\u001b[0m                                Traceback (most recent call last)",
      "\u001b[0;32m~/anaconda3/envs/brian_opt/lib/python3.6/site-packages/scipy/optimize/_differentialevolution.py\u001b[0m in \u001b[0;36m_calculate_population_energies\u001b[0;34m(self, population)\u001b[0m\n\u001b[1;32m    774\u001b[0m             calc_energies = list(self._mapwrapper(self.func,\n\u001b[0;32m--> 775\u001b[0;31m                                                   parameters_pop[0:nfevs]))\n\u001b[0m\u001b[1;32m    776\u001b[0m             \u001b[0menergies\u001b[0m\u001b[0;34m[\u001b[0m\u001b[0;36m0\u001b[0m\u001b[0;34m:\u001b[0m\u001b[0mnfevs\u001b[0m\u001b[0;34m]\u001b[0m \u001b[0;34m=\u001b[0m \u001b[0mcalc_energies\u001b[0m\u001b[0;34m\u001b[0m\u001b[0;34m\u001b[0m\u001b[0m\n",
      "\u001b[0;32m~/anaconda3/envs/brian_opt/lib/python3.6/site-packages/scipy/_lib/_util.py\u001b[0m in \u001b[0;36m__call__\u001b[0;34m(self, func, iterable)\u001b[0m\n\u001b[1;32m    413\u001b[0m         \u001b[0;32mtry\u001b[0m\u001b[0;34m:\u001b[0m\u001b[0;34m\u001b[0m\u001b[0;34m\u001b[0m\u001b[0m\n\u001b[0;32m--> 414\u001b[0;31m             \u001b[0;32mreturn\u001b[0m \u001b[0mself\u001b[0m\u001b[0;34m.\u001b[0m\u001b[0m_mapfunc\u001b[0m\u001b[0;34m(\u001b[0m\u001b[0mfunc\u001b[0m\u001b[0;34m,\u001b[0m \u001b[0miterable\u001b[0m\u001b[0;34m)\u001b[0m\u001b[0;34m\u001b[0m\u001b[0;34m\u001b[0m\u001b[0m\n\u001b[0m\u001b[1;32m    415\u001b[0m         \u001b[0;32mexcept\u001b[0m \u001b[0mTypeError\u001b[0m\u001b[0;34m:\u001b[0m\u001b[0;34m\u001b[0m\u001b[0;34m\u001b[0m\u001b[0m\n",
      "\u001b[0;32m<ipython-input-73-c2c1c46c877a>\u001b[0m in \u001b[0;36merror_map_function2\u001b[0;34m(func, params)\u001b[0m\n\u001b[1;32m     13\u001b[0m \u001b[0;34m\u001b[0m\u001b[0m\n\u001b[0;32m---> 14\u001b[0;31m     \u001b[0mneurons\u001b[0m\u001b[0;34m.\u001b[0m\u001b[0mset_states\u001b[0m\u001b[0;34m(\u001b[0m\u001b[0md\u001b[0m\u001b[0;34m,\u001b[0m \u001b[0munits\u001b[0m \u001b[0;34m=\u001b[0m \u001b[0;32mFalse\u001b[0m\u001b[0;34m)\u001b[0m\u001b[0;34m\u001b[0m\u001b[0;34m\u001b[0m\u001b[0m\n\u001b[0m\u001b[1;32m     15\u001b[0m     \u001b[0mrun\u001b[0m\u001b[0;34m(\u001b[0m\u001b[0mduration\u001b[0m\u001b[0;34m,\u001b[0m \u001b[0mnamespace\u001b[0m \u001b[0;34m=\u001b[0m \u001b[0;34m{\u001b[0m\u001b[0;34m}\u001b[0m\u001b[0;34m)\u001b[0m\u001b[0;34m\u001b[0m\u001b[0;34m\u001b[0m\u001b[0m\n",
      "\u001b[0;32m~/Desktop/brian/brian2/build/lib.linux-x86_64-3.6/brian2/groups/group.py\u001b[0m in \u001b[0;36mset_states\u001b[0;34m(self, values, units, format, level)\u001b[0m\n\u001b[1;32m    558\u001b[0m             \u001b[0;32mraise\u001b[0m \u001b[0mNotImplementedError\u001b[0m\u001b[0;34m(\u001b[0m\u001b[0;34m\"Format '%s' is not supported\"\u001b[0m \u001b[0;34m%\u001b[0m \u001b[0mformat\u001b[0m\u001b[0;34m)\u001b[0m\u001b[0;34m\u001b[0m\u001b[0;34m\u001b[0m\u001b[0m\n\u001b[0;32m--> 559\u001b[0;31m         \u001b[0mImportExport\u001b[0m\u001b[0;34m.\u001b[0m\u001b[0mmethods\u001b[0m\u001b[0;34m[\u001b[0m\u001b[0mformat\u001b[0m\u001b[0;34m]\u001b[0m\u001b[0;34m.\u001b[0m\u001b[0mimport_data\u001b[0m\u001b[0;34m(\u001b[0m\u001b[0mself\u001b[0m\u001b[0;34m,\u001b[0m \u001b[0mvalues\u001b[0m\u001b[0;34m,\u001b[0m \u001b[0munits\u001b[0m\u001b[0;34m=\u001b[0m\u001b[0munits\u001b[0m\u001b[0;34m,\u001b[0m \u001b[0mlevel\u001b[0m\u001b[0;34m=\u001b[0m\u001b[0mlevel\u001b[0m\u001b[0;34m)\u001b[0m\u001b[0;34m\u001b[0m\u001b[0;34m\u001b[0m\u001b[0m\n\u001b[0m\u001b[1;32m    560\u001b[0m \u001b[0;34m\u001b[0m\u001b[0m\n",
      "\u001b[0;32m~/Desktop/brian/brian2/build/lib.linux-x86_64-3.6/brian2/importexport/dictlike.py\u001b[0m in \u001b[0;36mimport_data\u001b[0;34m(group, data, units, level)\u001b[0m\n\u001b[1;32m     30\u001b[0m                 \u001b[0;32mraise\u001b[0m \u001b[0mTypeError\u001b[0m\u001b[0;34m(\u001b[0m\u001b[0;34m'Variable {} is read-only.'\u001b[0m\u001b[0;34m.\u001b[0m\u001b[0mformat\u001b[0m\u001b[0;34m(\u001b[0m\u001b[0mkey\u001b[0m\u001b[0;34m)\u001b[0m\u001b[0;34m)\u001b[0m\u001b[0;34m\u001b[0m\u001b[0;34m\u001b[0m\u001b[0m\n\u001b[0;32m---> 31\u001b[0;31m             \u001b[0mgroup\u001b[0m\u001b[0;34m.\u001b[0m\u001b[0mstate\u001b[0m\u001b[0;34m(\u001b[0m\u001b[0mkey\u001b[0m\u001b[0;34m,\u001b[0m \u001b[0muse_units\u001b[0m\u001b[0;34m=\u001b[0m\u001b[0munits\u001b[0m\u001b[0;34m,\u001b[0m \u001b[0mlevel\u001b[0m\u001b[0;34m=\u001b[0m\u001b[0mlevel\u001b[0m\u001b[0;34m+\u001b[0m\u001b[0;36m1\u001b[0m\u001b[0;34m)\u001b[0m\u001b[0;34m[\u001b[0m\u001b[0;34m:\u001b[0m\u001b[0;34m]\u001b[0m \u001b[0;34m=\u001b[0m \u001b[0mvalue\u001b[0m\u001b[0;34m\u001b[0m\u001b[0;34m\u001b[0m\u001b[0m\n\u001b[0m\u001b[1;32m     32\u001b[0m \u001b[0;34m\u001b[0m\u001b[0m\n",
      "\u001b[0;32m~/Desktop/brian/brian2/build/lib.linux-x86_64-3.6/brian2/core/variables.py\u001b[0m in \u001b[0;36m__setitem__\u001b[0;34m(self, item, value)\u001b[0m\n\u001b[1;32m    927\u001b[0m     \u001b[0;32mdef\u001b[0m \u001b[0m__setitem__\u001b[0m\u001b[0;34m(\u001b[0m\u001b[0mself\u001b[0m\u001b[0;34m,\u001b[0m \u001b[0mitem\u001b[0m\u001b[0;34m,\u001b[0m \u001b[0mvalue\u001b[0m\u001b[0;34m)\u001b[0m\u001b[0;34m:\u001b[0m\u001b[0;34m\u001b[0m\u001b[0;34m\u001b[0m\u001b[0m\n\u001b[0;32m--> 928\u001b[0;31m         \u001b[0mself\u001b[0m\u001b[0;34m.\u001b[0m\u001b[0mset_item\u001b[0m\u001b[0;34m(\u001b[0m\u001b[0mitem\u001b[0m\u001b[0;34m,\u001b[0m \u001b[0mvalue\u001b[0m\u001b[0;34m,\u001b[0m \u001b[0mlevel\u001b[0m\u001b[0;34m=\u001b[0m\u001b[0;36m1\u001b[0m\u001b[0;34m)\u001b[0m\u001b[0;34m\u001b[0m\u001b[0;34m\u001b[0m\u001b[0m\n\u001b[0m\u001b[1;32m    929\u001b[0m \u001b[0;34m\u001b[0m\u001b[0m\n",
      "\u001b[0;32m~/Desktop/brian/brian2/build/lib.linux-x86_64-3.6/brian2/core/variables.py\u001b[0m in \u001b[0;36mset_item\u001b[0;34m(self, item, value, level, namespace)\u001b[0m\n\u001b[1;32m    912\u001b[0m                     self.set_with_index_array(slice(None), value,\n\u001b[0;32m--> 913\u001b[0;31m                                               check_units=check_units)\n\u001b[0m\u001b[1;32m    914\u001b[0m             \u001b[0;32melse\u001b[0m\u001b[0;34m:\u001b[0m\u001b[0;34m\u001b[0m\u001b[0;34m\u001b[0m\u001b[0m\n",
      "\u001b[0;32m~/Desktop/brian/brian2/build/lib.linux-x86_64-3.6/brian2/core/base.py\u001b[0m in \u001b[0;36mdevice_override_decorated_function\u001b[0;34m(*args, **kwds)\u001b[0m\n\u001b[1;32m    275\u001b[0m             \u001b[0;32melse\u001b[0m\u001b[0;34m:\u001b[0m\u001b[0;34m\u001b[0m\u001b[0;34m\u001b[0m\u001b[0m\n\u001b[0;32m--> 276\u001b[0;31m                 \u001b[0;32mreturn\u001b[0m \u001b[0mfunc\u001b[0m\u001b[0;34m(\u001b[0m\u001b[0;34m*\u001b[0m\u001b[0margs\u001b[0m\u001b[0;34m,\u001b[0m \u001b[0;34m**\u001b[0m\u001b[0mkwds\u001b[0m\u001b[0;34m)\u001b[0m\u001b[0;34m\u001b[0m\u001b[0;34m\u001b[0m\u001b[0m\n\u001b[0m\u001b[1;32m    277\u001b[0m \u001b[0;34m\u001b[0m\u001b[0m\n",
      "\u001b[0;32m~/Desktop/brian/brian2/build/lib.linux-x86_64-3.6/brian2/core/variables.py\u001b[0m in \u001b[0;36mset_with_index_array\u001b[0;34m(self, item, value, check_units)\u001b[0m\n\u001b[1;32m   1199\u001b[0m                                                       len(indices)))\n\u001b[0;32m-> 1200\u001b[0;31m         \u001b[0mvariable\u001b[0m\u001b[0;34m.\u001b[0m\u001b[0mget_value\u001b[0m\u001b[0;34m(\u001b[0m\u001b[0;34m)\u001b[0m\u001b[0;34m[\u001b[0m\u001b[0mindices\u001b[0m\u001b[0;34m]\u001b[0m \u001b[0;34m=\u001b[0m \u001b[0mvalue\u001b[0m\u001b[0;34m\u001b[0m\u001b[0;34m\u001b[0m\u001b[0m\n\u001b[0m\u001b[1;32m   1201\u001b[0m \u001b[0;34m\u001b[0m\u001b[0m\n",
      "\u001b[0;31mValueError\u001b[0m: could not broadcast input array from shape (5) into shape (2)",
      "\nDuring handling of the above exception, another exception occurred:\n",
      "\u001b[0;31mRuntimeError\u001b[0m                              Traceback (most recent call last)",
      "\u001b[0;32m<ipython-input-79-678a30e67d2f>\u001b[0m in \u001b[0;36m<module>\u001b[0;34m\u001b[0m\n\u001b[0;32m----> 1\u001b[0;31m \u001b[0mdifferential_evolution\u001b[0m\u001b[0;34m(\u001b[0m\u001b[0merror_pass\u001b[0m\u001b[0;34m,\u001b[0m \u001b[0mbounds\u001b[0m\u001b[0;34m,\u001b[0m \u001b[0mupdating\u001b[0m\u001b[0;34m=\u001b[0m\u001b[0;34m'deferred'\u001b[0m\u001b[0;34m,\u001b[0m \u001b[0mworkers\u001b[0m\u001b[0;34m=\u001b[0m\u001b[0merror_map_function2\u001b[0m\u001b[0;34m,\u001b[0m \u001b[0mpopsize\u001b[0m\u001b[0;34m=\u001b[0m\u001b[0;36m2\u001b[0m\u001b[0;34m,\u001b[0m \u001b[0mdisp\u001b[0m\u001b[0;34m=\u001b[0m\u001b[0;32mTrue\u001b[0m\u001b[0;34m)\u001b[0m\u001b[0;34m\u001b[0m\u001b[0;34m\u001b[0m\u001b[0m\n\u001b[0m",
      "\u001b[0;32m~/anaconda3/envs/brian_opt/lib/python3.6/site-packages/scipy/optimize/_differentialevolution.py\u001b[0m in \u001b[0;36mdifferential_evolution\u001b[0;34m(func, bounds, args, strategy, maxiter, popsize, tol, mutation, recombination, seed, callback, disp, polish, init, atol, updating, workers)\u001b[0m\n\u001b[1;32m    270\u001b[0m                                      \u001b[0mupdating\u001b[0m\u001b[0;34m=\u001b[0m\u001b[0mupdating\u001b[0m\u001b[0;34m,\u001b[0m\u001b[0;34m\u001b[0m\u001b[0;34m\u001b[0m\u001b[0m\n\u001b[1;32m    271\u001b[0m                                      workers=workers) as solver:\n\u001b[0;32m--> 272\u001b[0;31m         \u001b[0mret\u001b[0m \u001b[0;34m=\u001b[0m \u001b[0msolver\u001b[0m\u001b[0;34m.\u001b[0m\u001b[0msolve\u001b[0m\u001b[0;34m(\u001b[0m\u001b[0;34m)\u001b[0m\u001b[0;34m\u001b[0m\u001b[0;34m\u001b[0m\u001b[0m\n\u001b[0m\u001b[1;32m    273\u001b[0m \u001b[0;34m\u001b[0m\u001b[0m\n\u001b[1;32m    274\u001b[0m     \u001b[0;32mreturn\u001b[0m \u001b[0mret\u001b[0m\u001b[0;34m\u001b[0m\u001b[0;34m\u001b[0m\u001b[0m\n",
      "\u001b[0;32m~/anaconda3/envs/brian_opt/lib/python3.6/site-packages/scipy/optimize/_differentialevolution.py\u001b[0m in \u001b[0;36msolve\u001b[0;34m(self)\u001b[0m\n\u001b[1;32m    672\u001b[0m         \u001b[0;32mif\u001b[0m \u001b[0mnp\u001b[0m\u001b[0;34m.\u001b[0m\u001b[0mall\u001b[0m\u001b[0;34m(\u001b[0m\u001b[0mnp\u001b[0m\u001b[0;34m.\u001b[0m\u001b[0misinf\u001b[0m\u001b[0;34m(\u001b[0m\u001b[0mself\u001b[0m\u001b[0;34m.\u001b[0m\u001b[0mpopulation_energies\u001b[0m\u001b[0;34m)\u001b[0m\u001b[0;34m)\u001b[0m\u001b[0;34m:\u001b[0m\u001b[0;34m\u001b[0m\u001b[0;34m\u001b[0m\u001b[0m\n\u001b[1;32m    673\u001b[0m             self.population_energies[:] = self._calculate_population_energies(\n\u001b[0;32m--> 674\u001b[0;31m                 self.population)\n\u001b[0m\u001b[1;32m    675\u001b[0m             \u001b[0mself\u001b[0m\u001b[0;34m.\u001b[0m\u001b[0m_promote_lowest_energy\u001b[0m\u001b[0;34m(\u001b[0m\u001b[0;34m)\u001b[0m\u001b[0;34m\u001b[0m\u001b[0;34m\u001b[0m\u001b[0m\n\u001b[1;32m    676\u001b[0m \u001b[0;34m\u001b[0m\u001b[0m\n",
      "\u001b[0;32m~/anaconda3/envs/brian_opt/lib/python3.6/site-packages/scipy/optimize/_differentialevolution.py\u001b[0m in \u001b[0;36m_calculate_population_energies\u001b[0;34m(self, population)\u001b[0m\n\u001b[1;32m    778\u001b[0m             \u001b[0;31m# wrong number of arguments for _mapwrapper\u001b[0m\u001b[0;34m\u001b[0m\u001b[0;34m\u001b[0m\u001b[0;34m\u001b[0m\u001b[0m\n\u001b[1;32m    779\u001b[0m             \u001b[0;31m# or wrong length returned from the mapper\u001b[0m\u001b[0;34m\u001b[0m\u001b[0;34m\u001b[0m\u001b[0;34m\u001b[0m\u001b[0m\n\u001b[0;32m--> 780\u001b[0;31m             raise RuntimeError(\"The map-like callable must be of the\"\n\u001b[0m\u001b[1;32m    781\u001b[0m                                \u001b[0;34m\" form f(func, iterable), returning a sequence\"\u001b[0m\u001b[0;34m\u001b[0m\u001b[0;34m\u001b[0m\u001b[0m\n\u001b[1;32m    782\u001b[0m                                \" of numbers the same length as 'iterable'\")\n",
      "\u001b[0;31mRuntimeError\u001b[0m: The map-like callable must be of the form f(func, iterable), returning a sequence of numbers the same length as 'iterable'"
     ]
    }
   ],
   "source": [
    "differential_evolution(error_pass, bounds, updating='deferred', workers=error_map_function2, popsize=2, disp=True)"
   ]
  },
  {
   "cell_type": "markdown",
   "metadata": {},
   "source": [
    "### Map Approach Test"
   ]
  },
  {
   "cell_type": "code",
   "execution_count": 81,
   "metadata": {},
   "outputs": [],
   "source": [
    "def error(params):\n",
    "    # Set parameter values, duplicated over traces\n",
    "    # params is a list of vectors (vector = value for population)\n",
    "    d = dict()\n",
    "    \n",
    "    print('params:', params)\n",
    "    \n",
    "    for name, value in zip(parameter_names, params):\n",
    "        d[name] = (value * ones((Ntraces,N))).T.flatten()\n",
    "            \n",
    "    print('d:', d)\n",
    "    \n",
    "    #### NEURONS SET_STATES HAS TO BE FIXED TO SET IT FOR ALL \n",
    "    restore()\n",
    "    \n",
    "    neurons.set_states(d, units = False)\n",
    "    run(duration, namespace = {})\n",
    "\n",
    "    e = neurons.total_error/int((duration-t_start)/defaultclock.dt)\n",
    "    e = mean(e.reshape((N,Ntraces)),axis=1)\n",
    "    print(e)\n",
    "    return array(e)"
   ]
  },
  {
   "cell_type": "code",
   "execution_count": 82,
   "metadata": {},
   "outputs": [
    {
     "name": "stdout",
     "output_type": "stream",
     "text": [
      "params: [ 8.56030601 90.04418762]\n",
      "d: {'g': array([8.56030601, 8.56030601]), 'E': array([90.04418762, 90.04418762])}\n",
      "[0.59414158 0.59414158] kA^2\n",
      "params: [16.65219159 52.53559023]\n",
      "d: {'g': array([16.65219159, 16.65219159]), 'E': array([52.53559023, 52.53559023])}\n",
      "[0.76533228 0.76533228] kA^2\n",
      "params: [19.77020617 62.38352577]\n",
      "d: {'g': array([19.77020617, 19.77020617]), 'E': array([62.38352577, 62.38352577])}\n",
      "[1.52111563 1.52111563] kA^2\n",
      "params: [23.53212368 44.34257077]\n",
      "d: {'g': array([23.53212368, 23.53212368]), 'E': array([44.34257077, 44.34257077])}\n",
      "[1.08883978 1.08883978] kA^2\n",
      "params: [ 1.3357291  77.67845158]\n",
      "d: {'g': array([1.3357291, 1.3357291]), 'E': array([77.67845158, 77.67845158])}\n",
      "[0.01076559 0.01076559] kA^2\n",
      "params: [15.6890163  -2.62869963]\n",
      "d: {'g': array([15.6890163, 15.6890163]), 'E': array([-2.62869963, -2.62869963])}\n",
      "[1700.87875372 1700.87875372] A^2\n",
      "params: [ 6.28713079 87.30177996]\n",
      "d: {'g': array([6.28713079, 6.28713079]), 'E': array([87.30177996, 87.30177996])}\n",
      "[0.30126674 0.30126674] kA^2\n",
      "params: [25.84330814  6.06180835]\n",
      "d: {'g': array([25.84330814, 25.84330814]), 'E': array([6.06180835, 6.06180835])}\n",
      "[0.02454147 0.02454147] kA^2\n",
      "params: [12.30290333 96.90523682]\n",
      "d: {'g': array([12.30290333, 12.30290333]), 'E': array([96.90523682, 96.90523682])}\n",
      "[1.42137842 1.42137842] kA^2\n",
      "params: [ 9.60035819 93.0197165 ]\n",
      "d: {'g': array([9.60035819, 9.60035819]), 'E': array([93.0197165, 93.0197165])}\n",
      "[0.79748936 0.79748936] kA^2\n",
      "params: [  3.24266382 -13.35594496]\n",
      "d: {'g': array([3.24266382, 3.24266382]), 'E': array([-13.35594496, -13.35594496])}\n",
      "[1875.65558178 1875.65558178] A^2\n",
      "params: [  6.93161489 -18.19124996]\n",
      "d: {'g': array([6.93161489, 6.93161489]), 'E': array([-18.19124996, -18.19124996])}\n",
      "[0.01589988 0.01589988] kA^2\n",
      "params: [12.71806622 48.29647143]\n",
      "d: {'g': array([12.71806622, 12.71806622]), 'E': array([48.29647143, 48.29647143])}\n",
      "[0.37728798 0.37728798] kA^2\n",
      "params: [28.58396692 40.44050659]\n",
      "d: {'g': array([28.58396692, 28.58396692]), 'E': array([40.44050659, 40.44050659])}\n",
      "[1.33622064 1.33622064] kA^2\n",
      "params: [20.70388381 19.21431007]\n",
      "d: {'g': array([20.70388381, 20.70388381]), 'E': array([19.21431007, 19.21431007])}\n",
      "[0.15825347 0.15825347] kA^2\n",
      "params: [29.38576517 12.24881442]\n",
      "d: {'g': array([29.38576517, 29.38576517]), 'E': array([12.24881442, 12.24881442])}\n",
      "[0.12955737 0.12955737] kA^2\n",
      "params: [17.94337552  9.89304333]\n",
      "d: {'g': array([17.94337552, 17.94337552]), 'E': array([9.89304333, 9.89304333])}\n",
      "[0.03151143 0.03151143] kA^2\n",
      "params: [10.75291156 27.96369052]\n",
      "d: {'g': array([10.75291156, 10.75291156]), 'E': array([27.96369052, 27.96369052])}\n",
      "[0.09041513 0.09041513] kA^2\n",
      "params: [21.80081552 58.79038692]\n",
      "d: {'g': array([21.80081552, 21.80081552]), 'E': array([58.79038692, 58.79038692])}\n",
      "[1.64269947 1.64269947] kA^2\n",
      "params: [10.033433   -4.28163226]\n",
      "d: {'g': array([10.033433, 10.033433]), 'E': array([-4.28163226, -4.28163226])}\n",
      "[1845.51609826 1845.51609826] A^2\n",
      "params: [26.51678669 28.37064864]\n",
      "d: {'g': array([26.51678669, 26.51678669]), 'E': array([28.37064864, 28.37064864])}\n",
      "[0.56595294 0.56595294] kA^2\n",
      "params: [14.7205872  22.34918012]\n",
      "d: {'g': array([14.7205872, 14.7205872]), 'E': array([22.34918012, 22.34918012])}\n",
      "[0.10823643 0.10823643] kA^2\n",
      "params: [22.92382828 72.13239286]\n",
      "d: {'g': array([22.92382828, 22.92382828]), 'E': array([72.13239286, 72.13239286])}\n",
      "[2.73422954 2.73422954] kA^2\n",
      "params: [ 27.9640461  -11.13929278]\n",
      "d: {'g': array([27.9640461, 27.9640461]), 'E': array([-11.13929278, -11.13929278])}\n",
      "[0.09703206 0.09703206] kA^2\n",
      "params: [ 2.0133118 37.0083034]\n",
      "d: {'g': array([2.0133118, 2.0133118]), 'E': array([37.0083034, 37.0083034])}\n",
      "[5551.62891195 5551.62891195] A^2\n",
      "params: [18.85919478 67.79715073]\n",
      "d: {'g': array([18.85919478, 18.85919478]), 'E': array([67.79715073, 67.79715073])}\n",
      "[1.63481712 1.63481712] kA^2\n",
      "params: [ 4.77316105 71.65702763]\n",
      "d: {'g': array([4.77316105, 4.77316105]), 'E': array([71.65702763, 71.65702763])}\n",
      "[0.11698489 0.11698489] kA^2\n",
      "params: [14.40767265 35.06557891]\n",
      "d: {'g': array([14.40767265, 14.40767265]), 'E': array([35.06557891, 35.06557891])}\n",
      "[0.25524056 0.25524056] kA^2\n",
      "params: [ 5.75852021 81.54713596]\n",
      "d: {'g': array([5.75852021, 5.75852021]), 'E': array([81.54713596, 81.54713596])}\n",
      "[0.22051555 0.22051555] kA^2\n",
      "params: [25.0308388   1.88875314]\n",
      "d: {'g': array([25.0308388, 25.0308388]), 'E': array([1.88875314, 1.88875314])}\n",
      "[2235.1218468 2235.1218468] A^2\n"
     ]
    },
    {
     "ename": "RuntimeError",
     "evalue": "The map-like callable must be of the form f(func, iterable), returning a sequence of numbers the same length as 'iterable'",
     "output_type": "error",
     "traceback": [
      "\u001b[0;31m---------------------------------------------------------------------------\u001b[0m",
      "\u001b[0;31mValueError\u001b[0m                                Traceback (most recent call last)",
      "\u001b[0;32m~/anaconda3/envs/brian_opt/lib/python3.6/site-packages/scipy/optimize/_differentialevolution.py\u001b[0m in \u001b[0;36m_calculate_population_energies\u001b[0;34m(self, population)\u001b[0m\n\u001b[1;32m    775\u001b[0m                                                   parameters_pop[0:nfevs]))\n\u001b[0;32m--> 776\u001b[0;31m             \u001b[0menergies\u001b[0m\u001b[0;34m[\u001b[0m\u001b[0;36m0\u001b[0m\u001b[0;34m:\u001b[0m\u001b[0mnfevs\u001b[0m\u001b[0;34m]\u001b[0m \u001b[0;34m=\u001b[0m \u001b[0mcalc_energies\u001b[0m\u001b[0;34m\u001b[0m\u001b[0;34m\u001b[0m\u001b[0m\n\u001b[0m\u001b[1;32m    777\u001b[0m         \u001b[0;32mexcept\u001b[0m \u001b[0;34m(\u001b[0m\u001b[0mTypeError\u001b[0m\u001b[0;34m,\u001b[0m \u001b[0mValueError\u001b[0m\u001b[0;34m)\u001b[0m\u001b[0;34m:\u001b[0m\u001b[0;34m\u001b[0m\u001b[0;34m\u001b[0m\u001b[0m\n",
      "\u001b[0;31mValueError\u001b[0m: setting an array element with a sequence.",
      "\nDuring handling of the above exception, another exception occurred:\n",
      "\u001b[0;31mRuntimeError\u001b[0m                              Traceback (most recent call last)",
      "\u001b[0;32m<ipython-input-82-3e9e15097a78>\u001b[0m in \u001b[0;36m<module>\u001b[0;34m\u001b[0m\n\u001b[0;32m----> 1\u001b[0;31m \u001b[0mdifferential_evolution\u001b[0m\u001b[0;34m(\u001b[0m\u001b[0merror\u001b[0m\u001b[0;34m,\u001b[0m \u001b[0mbounds\u001b[0m\u001b[0;34m,\u001b[0m \u001b[0mupdating\u001b[0m\u001b[0;34m=\u001b[0m\u001b[0;34m'deferred'\u001b[0m\u001b[0;34m,\u001b[0m \u001b[0mworkers\u001b[0m\u001b[0;34m=\u001b[0m\u001b[0mmap\u001b[0m\u001b[0;34m,\u001b[0m \u001b[0mmaxiter\u001b[0m\u001b[0;34m=\u001b[0m\u001b[0;36m3\u001b[0m\u001b[0;34m)\u001b[0m\u001b[0;34m\u001b[0m\u001b[0;34m\u001b[0m\u001b[0m\n\u001b[0m",
      "\u001b[0;32m~/anaconda3/envs/brian_opt/lib/python3.6/site-packages/scipy/optimize/_differentialevolution.py\u001b[0m in \u001b[0;36mdifferential_evolution\u001b[0;34m(func, bounds, args, strategy, maxiter, popsize, tol, mutation, recombination, seed, callback, disp, polish, init, atol, updating, workers)\u001b[0m\n\u001b[1;32m    270\u001b[0m                                      \u001b[0mupdating\u001b[0m\u001b[0;34m=\u001b[0m\u001b[0mupdating\u001b[0m\u001b[0;34m,\u001b[0m\u001b[0;34m\u001b[0m\u001b[0;34m\u001b[0m\u001b[0m\n\u001b[1;32m    271\u001b[0m                                      workers=workers) as solver:\n\u001b[0;32m--> 272\u001b[0;31m         \u001b[0mret\u001b[0m \u001b[0;34m=\u001b[0m \u001b[0msolver\u001b[0m\u001b[0;34m.\u001b[0m\u001b[0msolve\u001b[0m\u001b[0;34m(\u001b[0m\u001b[0;34m)\u001b[0m\u001b[0;34m\u001b[0m\u001b[0;34m\u001b[0m\u001b[0m\n\u001b[0m\u001b[1;32m    273\u001b[0m \u001b[0;34m\u001b[0m\u001b[0m\n\u001b[1;32m    274\u001b[0m     \u001b[0;32mreturn\u001b[0m \u001b[0mret\u001b[0m\u001b[0;34m\u001b[0m\u001b[0;34m\u001b[0m\u001b[0m\n",
      "\u001b[0;32m~/anaconda3/envs/brian_opt/lib/python3.6/site-packages/scipy/optimize/_differentialevolution.py\u001b[0m in \u001b[0;36msolve\u001b[0;34m(self)\u001b[0m\n\u001b[1;32m    672\u001b[0m         \u001b[0;32mif\u001b[0m \u001b[0mnp\u001b[0m\u001b[0;34m.\u001b[0m\u001b[0mall\u001b[0m\u001b[0;34m(\u001b[0m\u001b[0mnp\u001b[0m\u001b[0;34m.\u001b[0m\u001b[0misinf\u001b[0m\u001b[0;34m(\u001b[0m\u001b[0mself\u001b[0m\u001b[0;34m.\u001b[0m\u001b[0mpopulation_energies\u001b[0m\u001b[0;34m)\u001b[0m\u001b[0;34m)\u001b[0m\u001b[0;34m:\u001b[0m\u001b[0;34m\u001b[0m\u001b[0;34m\u001b[0m\u001b[0m\n\u001b[1;32m    673\u001b[0m             self.population_energies[:] = self._calculate_population_energies(\n\u001b[0;32m--> 674\u001b[0;31m                 self.population)\n\u001b[0m\u001b[1;32m    675\u001b[0m             \u001b[0mself\u001b[0m\u001b[0;34m.\u001b[0m\u001b[0m_promote_lowest_energy\u001b[0m\u001b[0;34m(\u001b[0m\u001b[0;34m)\u001b[0m\u001b[0;34m\u001b[0m\u001b[0;34m\u001b[0m\u001b[0m\n\u001b[1;32m    676\u001b[0m \u001b[0;34m\u001b[0m\u001b[0m\n",
      "\u001b[0;32m~/anaconda3/envs/brian_opt/lib/python3.6/site-packages/scipy/optimize/_differentialevolution.py\u001b[0m in \u001b[0;36m_calculate_population_energies\u001b[0;34m(self, population)\u001b[0m\n\u001b[1;32m    778\u001b[0m             \u001b[0;31m# wrong number of arguments for _mapwrapper\u001b[0m\u001b[0;34m\u001b[0m\u001b[0;34m\u001b[0m\u001b[0;34m\u001b[0m\u001b[0m\n\u001b[1;32m    779\u001b[0m             \u001b[0;31m# or wrong length returned from the mapper\u001b[0m\u001b[0;34m\u001b[0m\u001b[0;34m\u001b[0m\u001b[0;34m\u001b[0m\u001b[0m\n\u001b[0;32m--> 780\u001b[0;31m             raise RuntimeError(\"The map-like callable must be of the\"\n\u001b[0m\u001b[1;32m    781\u001b[0m                                \u001b[0;34m\" form f(func, iterable), returning a sequence\"\u001b[0m\u001b[0;34m\u001b[0m\u001b[0;34m\u001b[0m\u001b[0m\n\u001b[1;32m    782\u001b[0m                                \" of numbers the same length as 'iterable'\")\n",
      "\u001b[0;31mRuntimeError\u001b[0m: The map-like callable must be of the form f(func, iterable), returning a sequence of numbers the same length as 'iterable'"
     ]
    }
   ],
   "source": [
    "differential_evolution(error, bounds, updating='deferred', workers=map, maxiter=3)"
   ]
  },
  {
   "cell_type": "markdown",
   "metadata": {},
   "source": [
    "# "
   ]
  },
  {
   "cell_type": "code",
   "execution_count": null,
   "metadata": {},
   "outputs": [],
   "source": [
    "# restore()\n",
    "# neurons.set_states(p, units=False)\n",
    "# e = neurons.total_error/int((duration-t_start)/defaultclock.dt)\n",
    "# print(e)\n",
    "# e = mean(e.reshape((N,Ntraces)),axis=1)\n",
    "# e"
   ]
  },
  {
   "cell_type": "code",
   "execution_count": null,
   "metadata": {},
   "outputs": [],
   "source": [
    "# M_out = StateMonitor(neurons, output_var, record = range(Ntraces))\n",
    "# neurons.set_states(p, units = False)\n",
    "\n",
    "# run(duration, namespace = {})\n",
    "# fits = M_out.get_states()[output_var]\n",
    "# fits\n",
    "\n",
    "# error = Quantity(res.fun ** .5, dim=model.dimensions[output_var])\n"
   ]
  }
 ],
 "metadata": {
  "kernelspec": {
   "display_name": "brian_opt",
   "language": "python",
   "name": "brian_opt"
  },
  "language_info": {
   "codemirror_mode": {
    "name": "ipython",
    "version": 3
   },
   "file_extension": ".py",
   "mimetype": "text/x-python",
   "name": "python",
   "nbconvert_exporter": "python",
   "pygments_lexer": "ipython3",
   "version": "3.7.3"
  }
 },
 "nbformat": 4,
 "nbformat_minor": 2
}
