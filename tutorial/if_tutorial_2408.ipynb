{
 "cells": [
  {
   "cell_type": "code",
   "execution_count": 1,
   "metadata": {},
   "outputs": [
    {
     "name": "stderr",
     "output_type": "stream",
     "text": [
      "WARNING    /home/alteska/anaconda3/envs/brian_opt/lib/python3.7/site-packages/sklearn/externals/joblib/__init__.py:15: DeprecationWarning: sklearn.externals.joblib is deprecated in 0.21 and will be removed in 0.23. Please import this functionality directly from joblib, which can be installed with: pip install joblib. If this warning is raised when loading pickled models, you may need to re-serialize those models with scikit-learn 0.21+.\n",
      "  warnings.warn(msg, category=DeprecationWarning)\n",
      " [py.warnings]\n",
      "WARNING    /home/alteska/anaconda3/envs/brian_opt/lib/python3.7/site-packages/tqdm/autonotebook/__init__.py:14: TqdmExperimentalWarning: Using `tqdm.autonotebook.tqdm` in notebook mode. Use `tqdm.tqdm` instead to force console mode (e.g. in jupyter console)\n",
      "  \" (e.g. in jupyter console)\", TqdmExperimentalWarning)\n",
      " [py.warnings]\n"
     ]
    }
   ],
   "source": [
    "import numpy as np\n",
    "from brian2 import *\n",
    "from brian2modelfitting import *\n",
    "\n",
    "dt = 0.01 * ms\n",
    "defaultclock.dt = dt\n",
    "\n",
    "# Generate a step-current input and an \"experimental\" voltage trace\n",
    "input_current1 = np.hstack([np.zeros(int(5*ms/dt)), np.ones(int(5*ms/dt))*5, np.zeros(int(5*ms/dt))])* 5 *nA\n",
    "input_current0 = np.hstack([np.zeros(int(5*ms/dt)), np.ones(int(5*ms/dt))*10, np.zeros(int(5*ms/dt))]) * 5 * nA\n",
    "\n",
    "input_current2 = np.stack((input_current0, input_current1))\n",
    "I = TimedArray(input_current0, dt=dt)"
   ]
  },
  {
   "cell_type": "code",
   "execution_count": 12,
   "metadata": {},
   "outputs": [
    {
     "data": {
      "image/png": "[encoded data removed]",
      "text/plain": [
       "<Figure size 432x288 with 1 Axes>"
      ]
     },
     "metadata": {
      "needs_background": "light"
     },
     "output_type": "display_data"
    }
   ],
   "source": [
    "plt.plot(input_current2.transpose());"
   ]
  },
  {
   "cell_type": "code",
   "execution_count": 2,
   "metadata": {},
   "outputs": [],
   "source": [
    "# C = 1*nF\n",
    "# gL = 30*nS\n",
    "EL = -70*mV\n",
    "VT = -50*mV\n",
    "DeltaT = 2*mV\n",
    "eqs = Equations('''\n",
    "    dv/dt = (gL*(EL-v)+gL*DeltaT*exp((v-VT)/DeltaT) + I(t))/C : volt\n",
    "    gL: siemens (constant)\n",
    "    C: farad (constant)\n",
    "    ''')\n",
    "\n",
    "group = NeuronGroup(1, eqs,\n",
    "                    threshold='v > -50*mV',\n",
    "                    reset='v = -70*mV',\n",
    "                    method='exponential_euler')\n",
    "group.v = -70 *mV\n",
    "group.set_states({'gL': [30*nS], 'C':[1*nF]})\n",
    "\n",
    "monitor0 = StateMonitor(group, 'v', record=True)\n",
    "smonitor0  = SpikeMonitor(group)\n",
    "\n",
    "run(60*ms)"
   ]
  },
  {
   "cell_type": "code",
   "execution_count": 3,
   "metadata": {},
   "outputs": [
    {
     "name": "stdout",
     "output_type": "stream",
     "text": [
      "out_spikes [array([5.39, 5.8 , 6.21, 6.62, 7.03, 7.44, 7.85, 8.26, 8.67, 9.08, 9.49,\n",
      "       9.9 ])\n",
      " array([5.79, 6.6 , 7.41, 8.22, 9.03, 9.84])]\n"
     ]
    }
   ],
   "source": [
    "voltage0 = monitor0.v[0]/mV\n",
    "out_spikes0 = getattr(smonitor0, 't') / ms\n",
    "\n",
    "start_scope()\n",
    "I = TimedArray(input_current1, dt=dt)\n",
    "group1 = NeuronGroup(1, eqs,\n",
    "                    threshold='v > -50*mV',\n",
    "                    reset='v = -70*mV',\n",
    "                    method='exponential_euler')\n",
    "group1.v = -70 *mV\n",
    "group1.set_states({'gL': [30*nS], 'C':[1*nF]})\n",
    "\n",
    "monitor1 = StateMonitor(group1, 'v', record=True)\n",
    "smonitor1  = SpikeMonitor(group1)\n",
    "run(60*ms)\n",
    "\n",
    "out_spikes1 = getattr(smonitor1, 't') / ms\n",
    "voltage1 = monitor1.v[0]/mV\n",
    "\n",
    "\n",
    "inp_trace0 = np.array([input_current0])\n",
    "inp_trace1 = np.array([input_current1])\n",
    "\n",
    "inp_trace = np.concatenate((inp_trace0, inp_trace1))\n",
    "out_spikes = np.array([out_spikes0, out_spikes1])\n",
    "print('out_spikes', out_spikes)"
   ]
  },
  {
   "cell_type": "code",
   "execution_count": 13,
   "metadata": {},
   "outputs": [
    {
     "data": {
      "text/plain": [
       "[<matplotlib.lines.Line2D at 0x7f76df19f7b8>]"
      ]
     },
     "execution_count": 13,
     "metadata": {},
     "output_type": "execute_result"
    },
    {
     "data": {
      "image/png": "[encoded data removed]",
      "text/plain": [
       "<Figure size 432x288 with 1 Axes>"
      ]
     },
     "metadata": {
      "needs_background": "light"
     },
     "output_type": "display_data"
    }
   ],
   "source": [
    "plt.plot(voltage0)\n",
    "plt.plot(voltage1)"
   ]
  },
  {
   "cell_type": "code",
   "execution_count": 4,
   "metadata": {},
   "outputs": [],
   "source": [
    "# FIT SPIKES\n",
    "start_scope()\n",
    "EL = -70*mV\n",
    "VT = -50*mV\n",
    "DeltaT = 2*mV\n",
    "\n",
    "eqs_fit = Equations('''\n",
    "    dv/dt = (gL*(EL-v)+gL*DeltaT*exp((v-VT)/DeltaT) + I)/C : volt\n",
    "    gL: siemens (constant)\n",
    "    C: farad (constant)\n",
    "    ''',\n",
    "    # EL = -70*mV,\n",
    "    # VT = -50*mV,\n",
    "    # DeltaT = 2*mV,\n",
    "    # C=1*nF\n",
    "    )\n",
    "\n",
    "n_opt = NevergradOptimizer('DE')\n",
    "metric = GammaFactor(dt, 60*ms)"
   ]
  },
  {
   "cell_type": "code",
   "execution_count": 5,
   "metadata": {},
   "outputs": [
    {
     "data": {
      "application/vnd.jupyter.widget-view+json": {
       "model_id": "e46777df5cf84d0a8f635a886cd2cea9",
       "version_major": 2,
       "version_minor": 0
      },
      "text/plain": [
       "HBox(children=(IntProgress(value=0, max=2), HTML(value='')))"
      ]
     },
     "metadata": {},
     "output_type": "display_data"
    },
    {
     "name": "stdout",
     "output_type": "stream",
     "text": [
      "\n",
      "goal: {'gL': [30. * nsiemens], 'C': [1. * nfarad]}\n",
      "results: 1.00231007 nF 23.93692514 nS\n"
     ]
    }
   ],
   "source": [
    "# pass parameters to the NeuronGroup\n",
    "fitter = SpikeFitter(model=eqs_fit, input_var='I', dt=dt,\n",
    "                     input=inp_trace * amp, output=out_spikes,\n",
    "                     n_samples=30,\n",
    "                     threshold='v > -50*mV',\n",
    "                     reset='v = -70*mV',\n",
    "                     param_init={'v': -70*mV},\n",
    "                     method='exponential_euler',)\n",
    "result_dict, error = fitter.fit(n_rounds=2,\n",
    "                                optimizer=n_opt,\n",
    "                                metric=metric,\n",
    "                                callback='progressbar',\n",
    "                                gL=[20*nS, 40*nS],\n",
    "                                C = [0.5*nF, 1.5*nF])\n",
    "\n",
    "\n",
    "\n",
    "# print(result_dict, error)\n",
    "print('goal:', {'gL': [30*nS], 'C':[1*nF]})\n",
    "print('results:', result_dict['C']*farad, result_dict['gL']*siemens)\n",
    "\n",
    "res = {'gL': [result_dict['gL']*siemens], 'C': [result_dict['C']*farad]}"
   ]
  },
  {
   "cell_type": "code",
   "execution_count": 6,
   "metadata": {},
   "outputs": [
    {
     "name": "stdout",
     "output_type": "stream",
     "text": [
      "spike times: [array([5.39, 5.8 , 6.21, 6.62, 7.03, 7.44, 7.85, 8.26, 8.67, 9.08, 9.49,\n",
      "       9.9 ]), array([5.79, 6.6 , 7.41, 8.22, 9.03, 9.84])]\n"
     ]
    }
   ],
   "source": [
    "# visualization of the results\n",
    "start_scope()\n",
    "\n",
    "EL = -70*mV\n",
    "VT = -50*mV\n",
    "DeltaT = 2*mV\n",
    "spikes = fitter.generate_spikes(params=None, param_init={'v': -70*mV})\n",
    "print('spike times:', spikes)"
   ]
  },
  {
   "cell_type": "code",
   "execution_count": 7,
   "metadata": {},
   "outputs": [
    {
     "name": "stdout",
     "output_type": "stream",
     "text": [
      "fits [[-70.         -69.99999998 -69.99999996 ... -66.90067805 -66.90141803\n",
      "  -66.90215784]\n",
      " [-70.         -69.99999998 -69.99999996 ... -67.12412034 -67.12480698\n",
      "  -67.12549345]] mV\n"
     ]
    }
   ],
   "source": [
    "start_scope()\n",
    "EL = -70*mV\n",
    "VT = -50*mV\n",
    "DeltaT = 2*mV\n",
    "fits = fitter.generate(params=None,\n",
    "                       output_var='v',\n",
    "                       param_init={'v': -70*mV})\n",
    "\n",
    "\n",
    "print('fits', fits)"
   ]
  },
  {
   "cell_type": "code",
   "execution_count": 8,
   "metadata": {},
   "outputs": [
    {
     "data": {
      "image/png": "[encoded data removed]",
      "text/plain": [
       "<Figure size 432x288 with 2 Axes>"
      ]
     },
     "metadata": {
      "needs_background": "light"
     },
     "output_type": "display_data"
    }
   ],
   "source": [
    "fig, ax = plt.subplots(nrows=2)\n",
    "ax[0].plot(voltage0);\n",
    "ax[0].plot(fits[0]/mV);\n",
    "ax[1].plot(voltage1);\n",
    "ax[1].plot(fits[1]/mV);\n",
    "plt.show()"
   ]
  }
 ],
 "metadata": {
  "kernelspec": {
   "display_name": "brian_opt",
   "language": "python",
   "name": "brian_opt"
  },
  "language_info": {
   "codemirror_mode": {
    "name": "ipython",
    "version": 3
   },
   "file_extension": ".py",
   "mimetype": "text/x-python",
   "name": "python",
   "nbconvert_exporter": "python",
   "pygments_lexer": "ipython3",
   "version": "3.7.3"
  }
 },
 "nbformat": 4,
 "nbformat_minor": 2
}
