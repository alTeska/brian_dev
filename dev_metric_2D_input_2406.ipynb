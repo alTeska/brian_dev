{
 "cells": [
  {
   "cell_type": "code",
   "execution_count": 1,
   "metadata": {},
   "outputs": [
    {
     "name": "stderr",
     "output_type": "stream",
     "text": [
      "WARNING    /home/alteska/anaconda3/envs/brian_opt/lib/python3.7/site-packages/sklearn/externals/joblib/__init__.py:15: DeprecationWarning: sklearn.externals.joblib is deprecated in 0.21 and will be removed in 0.23. Please import this functionality directly from joblib, which can be installed with: pip install joblib. If this warning is raised when loading pickled models, you may need to re-serialize those models with scikit-learn 0.21+.\n",
      "  warnings.warn(msg, category=DeprecationWarning)\n",
      " [py.warnings]\n"
     ]
    }
   ],
   "source": [
    "from brian2 import *\n",
    "from brian2tools import *\n",
    "\n",
    "prefs.codegen.target = 'cython'  # weave is not multiprocess-safe!"
   ]
  },
  {
   "cell_type": "code",
   "execution_count": 2,
   "metadata": {},
   "outputs": [],
   "source": [
    "# Parameters\n",
    "area = 20000*umetre**2\n",
    "Cm = 1*ufarad*cm**-2 * area\n",
    "El = -65*mV\n",
    "EK = -90*mV\n",
    "ENa = 50*mV\n",
    "VT = -63*mV\n",
    "\n",
    "dt = 0.01*ms"
   ]
  },
  {
   "cell_type": "code",
   "execution_count": 3,
   "metadata": {},
   "outputs": [],
   "source": [
    "# Generate a step-current input and an \"experimental\" voltage trace\n",
    "input_current0 = np.hstack([np.zeros(int(5*ms/dt)), np.ones(int(5*ms/dt)), np.zeros(int(5*ms/dt))])*nA\n",
    "input_current1 = np.hstack([np.zeros(int(5*ms/dt)), np.ones(int(5*ms/dt))*2, np.zeros(int(5*ms/dt))])*nA\n",
    "input_current2 = np.stack((input_current0, input_current1))"
   ]
  },
  {
   "cell_type": "code",
   "execution_count": 4,
   "metadata": {},
   "outputs": [],
   "source": [
    "Ntraces, Nsteps = np.shape(input_current2)"
   ]
  },
  {
   "cell_type": "code",
   "execution_count": 5,
   "metadata": {},
   "outputs": [],
   "source": [
    "params_correct = {'gl': float(5e-5*siemens*cm**-2 * area),\n",
    "                  'g_na': float(100*msiemens*cm**-2 * area),\n",
    "                  'g_kd': float(30*msiemens*cm**-2 * area)}\n",
    "\n",
    "defaultclock.dt = dt"
   ]
  },
  {
   "cell_type": "code",
   "execution_count": 6,
   "metadata": {},
   "outputs": [],
   "source": [
    "# The model\n",
    "eqsHH = Equations('''\n",
    "dv/dt = (gl*(El-v) - g_na*(m*m*m)*h*(v-ENa) - g_kd*(n*n*n*n)*(v-EK) + I(t))/Cm : volt\n",
    "dm/dt = 0.32*(mV**-1)*(13.*mV-v+VT)/\n",
    "    (exp((13.*mV-v+VT)/(4.*mV))-1.)/ms*(1-m)-0.28*(mV**-1)*(v-VT-40.*mV)/\n",
    "    (exp((v-VT-40.*mV)/(5.*mV))-1.)/ms*m : 1\n",
    "dn/dt = 0.032*(mV**-1)*(15.*mV-v+VT)/\n",
    "    (exp((15.*mV-v+VT)/(5.*mV))-1.)/ms*(1.-n)-.5*exp((10.*mV-v+VT)/(40.*mV))/ms*n : 1\n",
    "dh/dt = 0.128*exp((17.*mV-v+VT)/(18.*mV))/ms*(1.-h)-4./(1+exp((40.*mV-v+VT)/(5.*mV)))/ms*h : 1\n",
    "g_na : siemens (constant)\n",
    "g_kd : siemens (constant)\n",
    "gl   : siemens (constant)\n",
    "''')"
   ]
  },
  {
   "cell_type": "code",
   "execution_count": 7,
   "metadata": {},
   "outputs": [],
   "source": [
    "I = TimedArray(input_current0, dt=dt)\n",
    "\n",
    "G = NeuronGroup(1, eqsHH, method='exponential_euler')\n",
    "G.v = El\n",
    "G.set_states(params_correct, units=False)\n",
    "mon = StateMonitor(G, 'v', record=0)\n",
    "run(20*ms)\n",
    "\n",
    "voltage = mon.v[0]/mV\n",
    "voltage += np.random.randn(len(voltage))\n",
    "\n",
    "\n",
    "inp_trace0 = np.array([input_current0])\n",
    "n0, n1 = inp_trace0.shape\n",
    "\n",
    "out_trace0 = np.array(voltage[:n1])"
   ]
  },
  {
   "cell_type": "code",
   "execution_count": 8,
   "metadata": {},
   "outputs": [],
   "source": [
    "start_scope()\n",
    "I = TimedArray(input_current1, dt=dt)\n",
    "G = NeuronGroup(1, eqsHH, method='exponential_euler')\n",
    "G.v = El\n",
    "G.set_states(params_correct, units=False)\n",
    "mon = StateMonitor(G, 'v', record=0)\n",
    "\n",
    "run(20*ms)\n",
    "\n",
    "voltage = mon.v[0]/mV\n",
    "\n",
    "voltage += np.random.randn(len(voltage))\n",
    "inp_trace1 = np.array([input_current1])\n",
    "n0, n1 = inp_trace1.shape\n",
    "out_trace1 = np.array(voltage[:n1])"
   ]
  },
  {
   "cell_type": "code",
   "execution_count": 9,
   "metadata": {},
   "outputs": [
    {
     "data": {
      "image/png": "[encoded data removed]",
      "text/plain": [
       "<Figure size 432x288 with 1 Axes>"
      ]
     },
     "metadata": {
      "needs_background": "light"
     },
     "output_type": "display_data"
    }
   ],
   "source": [
    "plot(out_trace0)\n",
    "plot(out_trace1);"
   ]
  },
  {
   "cell_type": "markdown",
   "metadata": {},
   "source": [
    "### Generate Proper Input Format for the Problem"
   ]
  },
  {
   "cell_type": "code",
   "execution_count": 10,
   "metadata": {},
   "outputs": [],
   "source": [
    "inp_trace = np.concatenate((inp_trace0, inp_trace1))\n",
    "out_trace = np.concatenate(([out_trace0], [out_trace1]))"
   ]
  },
  {
   "cell_type": "code",
   "execution_count": 11,
   "metadata": {},
   "outputs": [
    {
     "data": {
      "text/plain": [
       "array([[0., 0., 0., ..., 0., 0., 0.],\n",
       "       [0., 0., 0., ..., 0., 0., 0.]])"
      ]
     },
     "execution_count": 11,
     "metadata": {},
     "output_type": "execute_result"
    }
   ],
   "source": [
    "inp_trace"
   ]
  },
  {
   "cell_type": "code",
   "execution_count": 12,
   "metadata": {},
   "outputs": [
    {
     "data": {
      "text/plain": [
       "array([[-65.00039448, -65.56138935, -66.44217023, ..., -78.62693681,\n",
       "        -78.38759052, -78.46515865],\n",
       "       [-65.10295229, -65.1618136 , -65.23360621, ..., -64.03149146,\n",
       "        -65.13461238, -65.17557454]])"
      ]
     },
     "execution_count": 12,
     "metadata": {},
     "output_type": "execute_result"
    }
   ],
   "source": [
    "out_trace"
   ]
  },
  {
   "cell_type": "code",
   "execution_count": 13,
   "metadata": {},
   "outputs": [],
   "source": [
    "# Model for modelfitting\n",
    "eqs = Equations(\n",
    "'''\n",
    "dv/dt = (gl*(El-v) - g_na*(m*m*m)*h*(v-ENa) - g_kd*(n*n*n*n)*(v-EK) + I)/Cm : volt\n",
    "dm/dt = 0.32*(mV**-1)*(13.*mV-v+VT)/\n",
    "    (exp((13.*mV-v+VT)/(4.*mV))-1.)/ms*(1-m)-0.28*(mV**-1)*(v-VT-40.*mV)/\n",
    "    (exp((v-VT-40.*mV)/(5.*mV))-1.)/ms*m : 1\n",
    "dn/dt = 0.032*(mV**-1)*(15.*mV-v+VT)/\n",
    "    (exp((15.*mV-v+VT)/(5.*mV))-1.)/ms*(1.-n)-.5*exp((10.*mV-v+VT)/(40.*mV))/ms*n : 1\n",
    "dh/dt = 0.128*exp((17.*mV-v+VT)/(18.*mV))/ms*(1.-h)-4./(1+exp((40.*mV-v+VT)/(5.*mV)))/ms*h : 1\n",
    "g_na : siemens (constant)\n",
    "g_kd : siemens (constant)\n",
    "gl   : siemens (constant)\n",
    "''',\n",
    "Cm=1*ufarad*cm**-2 * area, El=-65*mV, EK=-90*mV, ENa=50*mV, VT=-63*mV)"
   ]
  },
  {
   "cell_type": "code",
   "execution_count": 14,
   "metadata": {},
   "outputs": [],
   "source": [
    "n_opt = NevergradOptimizer()"
   ]
  },
  {
   "cell_type": "code",
   "execution_count": 15,
   "metadata": {},
   "outputs": [
    {
     "name": "stderr",
     "output_type": "stream",
     "text": [
      "INFO       No numerical integration method specified for group 'neurongroup', using method 'exponential_euler' (took 0.18s, trying other methods took 0.11s). [brian2.stateupdaters.base.method_choice]\n"
     ]
    }
   ],
   "source": [
    "res, error, ot, te = fit_traces_standalone(model=eqs, input_var='I', output_var='v',\n",
    "                                   input=inp_trace * amp, output=out_trace*mV, dt=dt,\n",
    "                                   gl=[1e-8*siemens*cm**-2 * area, 1e-3*siemens*cm**-2 * area],\n",
    "                                   g_na=[1*msiemens*cm**-2 * area, 2000*msiemens*cm**-2 * area],\n",
    "                                   g_kd=[1*msiemens*cm**-2 * area, 1000*msiemens*cm**-2 * area],\n",
    "                                   n_rounds=2, n_samples=6, optimizer=n_opt,)\n"
   ]
  },
  {
   "cell_type": "code",
   "execution_count": 16,
   "metadata": {},
   "outputs": [
    {
     "data": {
      "text/plain": [
       "[array([[0.        , 0.00419124, 0.00842162, ..., 0.31207492, 0.31220789,\n",
       "         0.3123356 ],\n",
       "        [0.        , 0.00420453, 0.00838309, ..., 0.35100613, 0.35100641,\n",
       "         0.35100674],\n",
       "        [0.        , 0.0042144 , 0.00849126, ..., 1.93269317, 1.93269564,\n",
       "         1.93269885],\n",
       "        ...,\n",
       "        [0.        , 0.00417553, 0.0082967 , ..., 0.78356356, 0.78356382,\n",
       "         0.78356417],\n",
       "        [0.        , 0.00417923, 0.00838562, ..., 0.33100017, 0.33115901,\n",
       "         0.33131201],\n",
       "        [0.        , 0.00419251, 0.00834722, ..., 0.27042945, 0.27042982,\n",
       "         0.27043006]]),\n",
       " array([[0.        , 0.00417132, 0.00836191, ..., 0.60672907, 0.60689654,\n",
       "         0.607058  ],\n",
       "        [0.        , 0.00418457, 0.0083236 , ..., 0.25259751, 0.25259799,\n",
       "         0.25259816],\n",
       "        [0.        , 0.00417843, 0.00838321, ..., 0.77567518, 0.77584334,\n",
       "         0.77600546],\n",
       "        ...,\n",
       "        [0.        , 0.00418988, 0.00833943, ..., 0.45073294, 0.45073316,\n",
       "         0.45073356],\n",
       "        [0.        , 0.00417277, 0.00836627, ..., 0.86148221, 0.86164429,\n",
       "         0.86180047],\n",
       "        [0.        , 0.00418603, 0.00832794, ..., 0.20266545, 0.20266599,\n",
       "         0.20266613]])]"
      ]
     },
     "execution_count": 16,
     "metadata": {},
     "output_type": "execute_result"
    }
   ],
   "source": [
    "te"
   ]
  },
  {
   "cell_type": "code",
   "execution_count": 18,
   "metadata": {},
   "outputs": [
    {
     "data": {
      "text/plain": [
       "array([[ 0.00000000e+00, -2.60592758e-04, -5.20011099e-04, ...,\n",
       "        -6.71041771e-02, -6.70954751e-02, -6.70868064e-02],\n",
       "       [ 0.00000000e+00, -2.60592758e-04, -5.20011099e-04, ...,\n",
       "        -6.45577538e-02, -6.45582442e-02, -6.45587328e-02],\n",
       "       [ 0.00000000e+00, -8.19904882e-05, -1.63663527e-04, ...,\n",
       "        -8.02179029e-02, -8.01987071e-02, -8.01795355e-02],\n",
       "       ...,\n",
       "       [ 0.00000000e+00, -4.84623139e-04, -9.65436924e-04, ...,\n",
       "        -6.45443957e-02, -6.45459859e-02, -6.45475654e-02],\n",
       "       [ 0.00000000e+00, -3.53394678e-04, -7.04750126e-04, ...,\n",
       "        -6.60300296e-02, -6.60240184e-02, -6.60180381e-02],\n",
       "       [ 0.00000000e+00, -3.53394678e-04, -7.04750126e-04, ...,\n",
       "        -6.46364469e-02, -6.46374286e-02, -6.46384053e-02]])"
      ]
     },
     "execution_count": 18,
     "metadata": {},
     "output_type": "execute_result"
    }
   ],
   "source": [
    "xx = ot[0]\n",
    "xx"
   ]
  },
  {
   "cell_type": "code",
   "execution_count": 95,
   "metadata": {},
   "outputs": [
    {
     "data": {
      "image/png": "[encoded data removed]",
      "text/plain": [
       "<Figure size 432x288 with 1 Axes>"
      ]
     },
     "metadata": {
      "needs_background": "light"
     },
     "output_type": "display_data"
    }
   ],
   "source": [
    "y = out_trace[0] * 10e-4\n",
    "\n",
    "plt.plot(xx[0]);\n",
    "plt.plot(y);"
   ]
  },
  {
   "cell_type": "code",
   "execution_count": 111,
   "metadata": {},
   "outputs": [
    {
     "name": "stdout",
     "output_type": "stream",
     "text": [
      "[-0.06500039 -0.06556139 -0.06644217 ... -0.07862694 -0.07838759\n",
      " -0.07846516]\n",
      "[ 0.         -0.00026059 -0.00052001 ... -0.06710418 -0.06709548\n",
      " -0.06708681]\n",
      "[-0.06500039 -0.0653008  -0.06592216 ... -0.01152276 -0.01129212\n",
      " -0.01137835]\n",
      "[-0.06500039 -0.06556139 -0.06644217 ... -0.07862694 -0.07838759\n",
      " -0.07846516]\n",
      "[ 0.         -0.00026059 -0.00052001 ... -0.06455775 -0.06455824\n",
      " -0.06455873]\n",
      "[-0.06500039 -0.0653008  -0.06592216 ... -0.01406918 -0.01382935\n",
      " -0.01390643]\n",
      "[-0.06500039 -0.06556139 -0.06644217 ... -0.07862694 -0.07838759\n",
      " -0.07846516]\n",
      "[ 0.00000000e+00 -8.19904882e-05 -1.63663527e-04 ... -8.02179029e-02\n",
      " -8.01987071e-02 -8.01795355e-02]\n",
      "[-0.06500039 -0.0654794  -0.06627851 ...  0.00159097  0.00181112\n",
      "  0.00171438]\n",
      "[-0.06500039 -0.06556139 -0.06644217 ... -0.07862694 -0.07838759\n",
      " -0.07846516]\n",
      "[ 0.00000000e+00 -8.19904882e-05 -1.63663527e-04 ... -7.29957518e-02\n",
      " -7.29856582e-02 -7.29755773e-02]\n",
      "[-0.06500039 -0.0654794  -0.06627851 ... -0.00563119 -0.00540193\n",
      " -0.00548958]\n",
      "[-0.06500039 -0.06556139 -0.06644217 ... -0.07862694 -0.07838759\n",
      " -0.07846516]\n",
      "[ 0.         -0.00041627 -0.00082968 ... -0.0653308  -0.06532757\n",
      " -0.06532435]\n",
      "[-0.06500039 -0.06514512 -0.06561249 ... -0.01329613 -0.01306002\n",
      " -0.01314081]\n",
      "[-0.06500039 -0.06556139 -0.06644217 ... -0.07862694 -0.07838759\n",
      " -0.07846516]\n",
      "[ 0.         -0.00041627 -0.00082968 ... -0.06441917 -0.06442099\n",
      " -0.0644228 ]\n",
      "[-0.06500039 -0.06514512 -0.06561249 ... -0.01420776 -0.0139666\n",
      " -0.01404236]\n",
      "[-0.06500039 -0.06556139 -0.06644217 ... -0.07862694 -0.07838759\n",
      " -0.07846516]\n",
      "[ 0.         -0.00013064 -0.00026085 ... -0.0738631  -0.07384528\n",
      " -0.0738275 ]\n",
      "[-0.06500039 -0.06543075 -0.06618132 ... -0.00476384 -0.00454231\n",
      " -0.00463766]\n",
      "[-0.06500039 -0.06556139 -0.06644217 ... -0.07862694 -0.07838759\n",
      " -0.07846516]\n",
      "[ 0.         -0.00013064 -0.00026085 ... -0.06722685 -0.06722211\n",
      " -0.06721738]\n",
      "[-0.06500039 -0.06543075 -0.06618132 ... -0.01140009 -0.01116548\n",
      " -0.01124778]\n",
      "[-0.06500039 -0.06556139 -0.06644217 ... -0.07862694 -0.07838759\n",
      " -0.07846516]\n",
      "[ 0.         -0.00048462 -0.00096544 ... -0.06511466 -0.06511247\n",
      " -0.0651103 ]\n",
      "[-0.06500039 -0.06507677 -0.06547673 ... -0.01351228 -0.01327512\n",
      " -0.01335486]\n",
      "[-0.06500039 -0.06556139 -0.06644217 ... -0.07862694 -0.07838759\n",
      " -0.07846516]\n",
      "[ 0.         -0.00048462 -0.00096544 ... -0.0645444  -0.06454599\n",
      " -0.06454757]\n",
      "[-0.06500039 -0.06507677 -0.06547673 ... -0.01408254 -0.0138416\n",
      " -0.01391759]\n",
      "[-0.06500039 -0.06556139 -0.06644217 ... -0.07862694 -0.07838759\n",
      " -0.07846516]\n",
      "[ 0.         -0.00035339 -0.00070475 ... -0.06603003 -0.06602402\n",
      " -0.06601804]\n",
      "[-0.06500039 -0.06520799 -0.06573742 ... -0.01259691 -0.01236357\n",
      " -0.01244712]\n",
      "[-0.06500039 -0.06556139 -0.06644217 ... -0.07862694 -0.07838759\n",
      " -0.07846516]\n",
      "[ 0.         -0.00035339 -0.00070475 ... -0.06463645 -0.06463743\n",
      " -0.06463841]\n",
      "[-0.06500039 -0.06520799 -0.06573742 ... -0.01399049 -0.01375016\n",
      " -0.01382675]\n"
     ]
    }
   ],
   "source": [
    "from sklearn.metrics import mean_squared_error\n",
    "\n",
    "rms_list, mse_list = [], []\n",
    "for row in xx:\n",
    "    mse = mean_squared_error(y.transpose(), row.transpose())\n",
    "#     print(mse/len(row))\n",
    "    print(y)\n",
    "    print(row)\n",
    "    print(y-row)\n",
    "    mse2 = np.sum(np.square(y - row))\n",
    "    rms = np.sqrt(mse)\n",
    "    rms_list.append(rms)\n",
    "    mse_list.append(mse2)\n",
    "        \n",
    "#     print(mse, rms)\n",
    "    "
   ]
  },
  {
   "cell_type": "code",
   "execution_count": 112,
   "metadata": {},
   "outputs": [
    {
     "data": {
      "text/plain": [
       "1.6407861575425036"
      ]
     },
     "execution_count": 112,
     "metadata": {},
     "output_type": "execute_result"
    }
   ],
   "source": [
    "mse2"
   ]
  },
  {
   "cell_type": "code",
   "execution_count": 113,
   "metadata": {},
   "outputs": [
    {
     "data": {
      "text/plain": [
       "0.03310663887253646"
      ]
     },
     "execution_count": 113,
     "metadata": {},
     "output_type": "execute_result"
    }
   ],
   "source": [
    "rms"
   ]
  },
  {
   "cell_type": "code",
   "execution_count": 114,
   "metadata": {},
   "outputs": [
    {
     "data": {
      "text/plain": [
       "array([0.21413682, 0.25564226, 0.98361898, 1.08327673, 0.45403361,\n",
       "       0.4475246 , 0.62756149, 0.45409026, 0.45234952, 0.4885086 ,\n",
       "       0.23898562, 0.22965468])"
      ]
     },
     "execution_count": 114,
     "metadata": {},
     "output_type": "execute_result"
    }
   ],
   "source": [
    "err = (te[0])\n",
    "err.mean(axis=1)"
   ]
  },
  {
   "cell_type": "code",
   "execution_count": 115,
   "metadata": {},
   "outputs": [
    {
     "data": {
      "text/plain": [
       "(12, 1497)"
      ]
     },
     "execution_count": 115,
     "metadata": {},
     "output_type": "execute_result"
    }
   ],
   "source": [
    "np.shape(err)"
   ]
  },
  {
   "cell_type": "code",
   "execution_count": 116,
   "metadata": {},
   "outputs": [
    {
     "data": {
      "image/png": "[encoded data removed]",
      "text/plain": [
       "<Figure size 432x288 with 1 Axes>"
      ]
     },
     "metadata": {
      "needs_background": "light"
     },
     "output_type": "display_data"
    }
   ],
   "source": [
    "plt.plot(xx[7]);"
   ]
  },
  {
   "cell_type": "code",
   "execution_count": 117,
   "metadata": {},
   "outputs": [
    {
     "data": {
      "text/plain": [
       "2"
      ]
     },
     "execution_count": 117,
     "metadata": {},
     "output_type": "execute_result"
    }
   ],
   "source": [
    "Ntraces"
   ]
  },
  {
   "cell_type": "markdown",
   "metadata": {},
   "source": [
    "## Calculate errors"
   ]
  },
  {
   "cell_type": "markdown",
   "metadata": {},
   "source": [
    "#### RMS"
   ]
  },
  {
   "cell_type": "code",
   "execution_count": 118,
   "metadata": {},
   "outputs": [
    {
     "data": {
      "text/plain": [
       "[0.01426619370927011,\n",
       " 0.03197335190338737,\n",
       " 0.03597595240112218,\n",
       " 0.021402832375794663,\n",
       " 0.023411445784563185,\n",
       " 0.03257124949873216,\n",
       " 0.028159824187310712,\n",
       " 0.03189120221034984,\n",
       " 0.02358793977459132,\n",
       " 0.03227092482382402,\n",
       " 0.015277418511517912,\n",
       " 0.03310663887253646]"
      ]
     },
     "execution_count": 118,
     "metadata": {},
     "output_type": "execute_result"
    }
   ],
   "source": [
    "rms_list"
   ]
  },
  {
   "cell_type": "code",
   "execution_count": 119,
   "metadata": {},
   "outputs": [],
   "source": [
    "rms_len = len(rms_list)"
   ]
  },
  {
   "cell_type": "code",
   "execution_count": 120,
   "metadata": {},
   "outputs": [
    {
     "data": {
      "text/plain": [
       "array([[0.01426619, 0.03197335],\n",
       "       [0.03597595, 0.02140283],\n",
       "       [0.02341145, 0.03257125],\n",
       "       [0.02815982, 0.0318912 ],\n",
       "       [0.02358794, 0.03227092],\n",
       "       [0.01527742, 0.03310664]])"
      ]
     },
     "execution_count": 120,
     "metadata": {},
     "output_type": "execute_result"
    }
   ],
   "source": [
    "rms_arr = np.reshape(np.array(rms_list), (int(rms_len/Ntraces), Ntraces))\n",
    "rms_arr"
   ]
  },
  {
   "cell_type": "code",
   "execution_count": 121,
   "metadata": {},
   "outputs": [
    {
     "data": {
      "text/plain": [
       "array([0.02311977, 0.02868939, 0.02799135, 0.03002551, 0.02792943,\n",
       "       0.02419203])"
      ]
     },
     "execution_count": 121,
     "metadata": {},
     "output_type": "execute_result"
    }
   ],
   "source": [
    "err_out = rms_arr.mean(axis=1)\n",
    "err_out"
   ]
  },
  {
   "cell_type": "markdown",
   "metadata": {},
   "source": [
    "#### MSE"
   ]
  },
  {
   "cell_type": "code",
   "execution_count": 122,
   "metadata": {},
   "outputs": [
    {
     "data": {
      "text/plain": [
       "12"
      ]
     },
     "execution_count": 122,
     "metadata": {},
     "output_type": "execute_result"
    }
   ],
   "source": [
    "mse_len = len(mse_list)\n",
    "mse_len"
   ]
  },
  {
   "cell_type": "code",
   "execution_count": 123,
   "metadata": {},
   "outputs": [
    {
     "data": {
      "text/plain": [
       "[0.30467585157677585,\n",
       " 1.5303759622109534,\n",
       " 1.9375209192982101,\n",
       " 0.6857476068584273,\n",
       " 0.8204994032041413,\n",
       " 1.5881467819812645,\n",
       " 1.1870846202955934,\n",
       " 1.52252202129687,\n",
       " 0.8329171815061915,\n",
       " 1.5589946457103974,\n",
       " 0.3493990760149771,\n",
       " 1.6407861575425036]"
      ]
     },
     "execution_count": 123,
     "metadata": {},
     "output_type": "execute_result"
    }
   ],
   "source": [
    "mse_list"
   ]
  },
  {
   "cell_type": "code",
   "execution_count": 124,
   "metadata": {},
   "outputs": [
    {
     "data": {
      "text/plain": [
       "array([[0.30467585, 1.53037596],\n",
       "       [1.93752092, 0.68574761],\n",
       "       [0.8204994 , 1.58814678],\n",
       "       [1.18708462, 1.52252202],\n",
       "       [0.83291718, 1.55899465],\n",
       "       [0.34939908, 1.64078616]])"
      ]
     },
     "execution_count": 124,
     "metadata": {},
     "output_type": "execute_result"
    }
   ],
   "source": [
    "mse_arr = np.reshape(np.array(mse_list), (int(mse_len/Ntraces), Ntraces))\n",
    "mse_arr"
   ]
  },
  {
   "cell_type": "code",
   "execution_count": 110,
   "metadata": {},
   "outputs": [
    {
     "data": {
      "text/plain": [
       "array([0.00061291, 0.00087618, 0.00080449, 0.00090501, 0.0007989 ,\n",
       "       0.00066472])"
      ]
     },
     "execution_count": 110,
     "metadata": {},
     "output_type": "execute_result"
    }
   ],
   "source": [
    "err_out_mse = mse_arr.mean(axis=1)\n",
    "err_out_mse"
   ]
  },
  {
   "cell_type": "markdown",
   "metadata": {},
   "source": [
    "## Put it into function "
   ]
  },
  {
   "cell_type": "code",
   "execution_count": 126,
   "metadata": {},
   "outputs": [],
   "source": [
    "# ot"
   ]
  },
  {
   "cell_type": "code",
   "execution_count": 135,
   "metadata": {},
   "outputs": [
    {
     "data": {
      "text/plain": [
       "[array([0.91752591, 1.31163426, 1.20432309, 1.35480332, 1.19595591,\n",
       "        0.99509262]),\n",
       " array([1.13685345, 1.17426565, 0.90231299, 1.28277012, 1.18186926,\n",
       "        1.18382946])]"
      ]
     },
     "execution_count": 135,
     "metadata": {},
     "output_type": "execute_result"
    }
   ],
   "source": [
    "errors = []\n",
    "\n",
    "for xx in ot:\n",
    "    mse_list = []\n",
    "    for row in xx:\n",
    "        mse = np.sum(np.square(y - row))\n",
    "        mse_list.append(mse)\n",
    "\n",
    "    mse_len = len(mse_list)    \n",
    "    mse_arr = np.reshape(np.array(mse_list), (int(mse_len/Ntraces), Ntraces))\n",
    "    err_out_mse = mse_arr.mean(axis=1)\n",
    "    errors.append(err_out_mse)\n",
    "        \n",
    "errors"
   ]
  }
 ],
 "metadata": {
  "kernelspec": {
   "display_name": "brian_opt",
   "language": "python",
   "name": "brian_opt"
  },
  "language_info": {
   "codemirror_mode": {
    "name": "ipython",
    "version": 3
   },
   "file_extension": ".py",
   "mimetype": "text/x-python",
   "name": "python",
   "nbconvert_exporter": "python",
   "pygments_lexer": "ipython3",
   "version": "3.7.3"
  }
 },
 "nbformat": 4,
 "nbformat_minor": 2
}
