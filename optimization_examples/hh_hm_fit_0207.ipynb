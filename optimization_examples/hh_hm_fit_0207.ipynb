{
 "cells": [
  {
   "cell_type": "markdown",
   "metadata": {},
   "source": [
    "# Hindmarsh-Rose fit into Hodgkin-Huxley"
   ]
  },
  {
   "cell_type": "code",
   "execution_count": 1,
   "metadata": {},
   "outputs": [
    {
     "name": "stderr",
     "output_type": "stream",
     "text": [
      "WARNING    /home/alteska/anaconda3/envs/brian_opt/lib/python3.7/site-packages/sklearn/externals/joblib/__init__.py:15: DeprecationWarning: sklearn.externals.joblib is deprecated in 0.21 and will be removed in 0.23. Please import this functionality directly from joblib, which can be installed with: pip install joblib. If this warning is raised when loading pickled models, you may need to re-serialize those models with scikit-learn 0.21+.\n",
      "  warnings.warn(msg, category=DeprecationWarning)\n",
      " [py.warnings]\n"
     ]
    }
   ],
   "source": [
    "from brian2 import *\n",
    "from brian2tools import *\n",
    "\n",
    "prefs.codegen.target = 'cython' "
   ]
  },
  {
   "cell_type": "markdown",
   "metadata": {},
   "source": [
    "## Input Data Preparation"
   ]
  },
  {
   "cell_type": "code",
   "execution_count": 2,
   "metadata": {},
   "outputs": [],
   "source": [
    "# Parameters\n",
    "area = 20000*umetre**2\n",
    "Cm = 1*ufarad*cm**-2 * area\n",
    "El = -65*mV\n",
    "EK = -90*mV\n",
    "ENa = 50*mV\n",
    "VT = -63*mV\n",
    "\n",
    "time_unit = 1*ms\n",
    "dt = 0.01*ms"
   ]
  },
  {
   "cell_type": "code",
   "execution_count": 3,
   "metadata": {},
   "outputs": [],
   "source": [
    "# Generate a step-current input and an \"experimental\" voltage trace\n",
    "input_current0 = np.hstack([np.zeros(int(5*ms/dt)), np.ones(int(5*ms/dt)), np.zeros(int(5*ms/dt))])*nA"
   ]
  },
  {
   "cell_type": "code",
   "execution_count": 4,
   "metadata": {},
   "outputs": [],
   "source": [
    "params_correct = {'gl': float(5e-5*siemens*cm**-2 * area),\n",
    "                  'g_na': float(100*msiemens*cm**-2 * area),\n",
    "                  'g_kd': float(30*msiemens*cm**-2 * area)}\n",
    "\n",
    "defaultclock.dt = dt"
   ]
  },
  {
   "cell_type": "code",
   "execution_count": 5,
   "metadata": {},
   "outputs": [],
   "source": [
    "# The model\n",
    "eqsHH = Equations('''\n",
    "dv/dt = (gl*(El-v) - g_na*(m*m*m)*h*(v-ENa) - g_kd*(n*n*n*n)*(v-EK) + I(t))/Cm : volt\n",
    "dm/dt = 0.32*(mV**-1)*(13.*mV-v+VT)/\n",
    "    (exp((13.*mV-v+VT)/(4.*mV))-1.)/ms*(1-m)-0.28*(mV**-1)*(v-VT-40.*mV)/\n",
    "    (exp((v-VT-40.*mV)/(5.*mV))-1.)/ms*m : 1\n",
    "dn/dt = 0.032*(mV**-1)*(15.*mV-v+VT)/\n",
    "    (exp((15.*mV-v+VT)/(5.*mV))-1.)/ms*(1.-n)-.5*exp((10.*mV-v+VT)/(40.*mV))/ms*n : 1\n",
    "dh/dt = 0.128*exp((17.*mV-v+VT)/(18.*mV))/ms*(1.-h)-4./(1+exp((40.*mV-v+VT)/(5.*mV)))/ms*h : 1\n",
    "g_na : siemens (constant)\n",
    "g_kd : siemens (constant)\n",
    "gl   : siemens (constant)\n",
    "''')"
   ]
  },
  {
   "cell_type": "code",
   "execution_count": 6,
   "metadata": {},
   "outputs": [],
   "source": [
    "I = TimedArray(input_current0, dt=dt)\n",
    "\n",
    "G = NeuronGroup(1, eqsHH, method='exponential_euler')\n",
    "G.v = El\n",
    "G.set_states(params_correct, units=False)\n",
    "mon = StateMonitor(G, 'v', record=0)\n",
    "run(30*ms)"
   ]
  },
  {
   "cell_type": "code",
   "execution_count": 7,
   "metadata": {},
   "outputs": [],
   "source": [
    "voltage = mon.v[0]/mV\n",
    "voltage += np.random.randn(len(voltage))*2\n",
    "\n",
    "\n",
    "inp_trace = np.array([input_current0])\n",
    "n0, n1 = inp_trace.shape\n",
    "\n",
    "out_trace = np.array([voltage[:n1]])"
   ]
  },
  {
   "cell_type": "code",
   "execution_count": 8,
   "metadata": {},
   "outputs": [
    {
     "data": {
      "text/plain": [
       "array([[0., 0., 0., ..., 0., 0., 0.]])"
      ]
     },
     "execution_count": 8,
     "metadata": {},
     "output_type": "execute_result"
    }
   ],
   "source": [
    "inp_trace"
   ]
  },
  {
   "cell_type": "code",
   "execution_count": 9,
   "metadata": {},
   "outputs": [
    {
     "data": {
      "text/plain": [
       "array([[-66.88397825, -64.8049861 , -67.07335741, ..., -80.3154029 ,\n",
       "        -79.10281672, -78.38141145]])"
      ]
     },
     "execution_count": 9,
     "metadata": {},
     "output_type": "execute_result"
    }
   ],
   "source": [
    "out_trace"
   ]
  },
  {
   "cell_type": "markdown",
   "metadata": {},
   "source": [
    "# Model Fitting "
   ]
  },
  {
   "cell_type": "code",
   "execution_count": 10,
   "metadata": {},
   "outputs": [],
   "source": [
    "eqs = Equations('''\n",
    "dx/dt = (y - a*x**3 + b*x**2 + 3 * I/nA - z)/time_unit : 1\n",
    "dy/dt = (c - d*x**2 - y)/time_unit : 1\n",
    "dz/dt = r*(s*(x - x_1) - z)/time_unit : 1\n",
    "v = (base + x * scale)*mV :volt\n",
    "base: 1 (constant)\n",
    "scale: 1 (constant)\n",
    "''',\n",
    "x_1 = -1.6,\n",
    "a = 1, b = 3, c = 1, d = 5,\n",
    "r = 0.001, s = 4, \n",
    "time_unit=1*ms)"
   ]
  },
  {
   "cell_type": "markdown",
   "metadata": {},
   "source": [
    "# Basic Prove of Concept"
   ]
  },
  {
   "cell_type": "code",
   "execution_count": 11,
   "metadata": {},
   "outputs": [
    {
     "name": "stdout",
     "output_type": "stream",
     "text": [
      "round 0 with error [2.07409956 2.07409956]\n",
      "round 1 with error [1.99491824 1.99491824]\n",
      "round 2 with error []\n"
     ]
    },
    {
     "data": {
      "text/plain": [
       "{'base': -18.41737249776702, 'scale': 24.97602133629043}"
      ]
     },
     "execution_count": 11,
     "metadata": {},
     "output_type": "execute_result"
    }
   ],
   "source": [
    "start_scope()\n",
    "n_opt = NevergradOptimizer(method='PSO')\n",
    "metric = MSEMetric()\n",
    "\n",
    "res, error = fit_traces_standalone(model=eqs, input_var='I', output_var='v',\n",
    "                                   input=inp_trace * amp, output=out_trace*mV, dt=dt,\n",
    "                                   method='rk4',\n",
    "                                   scale = [20, 40], \n",
    "                                   base = [-20, -10],\n",
    "                                   param_init={'x': -1.6, 'y':1 - 5*(-1.6)**2, 'z':0.001*(4*(-1.6 - -1.6))}, \n",
    "                                   n_rounds=3, n_samples=10, optimizer=n_opt, metric=metric\n",
    "                                   )\n",
    "\n",
    "res"
   ]
  },
  {
   "cell_type": "code",
   "execution_count": 12,
   "metadata": {},
   "outputs": [],
   "source": [
    "# visualization of the results\n",
    "start_scope()\n",
    "fits = generate_fits(model=eqs, method='rk4', params=res,\n",
    "                     input=inp_trace * amp, input_var='I', output_var='v',\n",
    "                     dt=dt, param_init={'x': -1.6, 'y':1 - 5*(-1.6)**2, 'z':0.001*(4*(-1.6 - -1.6))}, \n",
    "                    )\n",
    "\n",
    "x = fits/mV"
   ]
  },
  {
   "cell_type": "code",
   "execution_count": 13,
   "metadata": {},
   "outputs": [
    {
     "data": {
      "image/png": "[encoded data removed]",
      "text/plain": [
       "<Figure size 432x288 with 1 Axes>"
      ]
     },
     "metadata": {
      "needs_background": "light"
     },
     "output_type": "display_data"
    }
   ],
   "source": [
    "plot(x.transpose())\n",
    "plot(out_trace.transpose());"
   ]
  },
  {
   "cell_type": "markdown",
   "metadata": {},
   "source": [
    "## Bigger Range"
   ]
  },
  {
   "cell_type": "code",
   "execution_count": 14,
   "metadata": {},
   "outputs": [
    {
     "name": "stdout",
     "output_type": "stream",
     "text": [
      "round 0 with error [1.48376141 1.48376141]\n",
      "round 1 with error []\n",
      "round 2 with error []\n"
     ]
    },
    {
     "data": {
      "text/plain": [
       "{'base': -29.58289773717302, 'scale': 23.453871837543545}"
      ]
     },
     "execution_count": 14,
     "metadata": {},
     "output_type": "execute_result"
    }
   ],
   "source": [
    "start_scope()\n",
    "n_opt = NevergradOptimizer(method='PSO')\n",
    "metric = MSEMetric()\n",
    "\n",
    "res, error = fit_traces_standalone(model=eqs, input_var='I', output_var='v',\n",
    "                                   input=inp_trace * amp, output=out_trace*mV, dt=dt,\n",
    "                                   method='rk4',\n",
    "                                   scale = [0, 60], \n",
    "                                   base = [-30, 10],\n",
    "                                   param_init={'x': -1.6, 'y':1 - 5*(-1.6)**2, 'z':0.001*(4*(-1.6 - -1.6))}, \n",
    "                                   n_rounds=3, n_samples=20, optimizer=n_opt, metric=metric\n",
    "                                   )\n",
    "\n",
    "res"
   ]
  },
  {
   "cell_type": "code",
   "execution_count": 15,
   "metadata": {},
   "outputs": [],
   "source": [
    "# visualization of the results\n",
    "start_scope()\n",
    "fits = generate_fits(model=eqs, method='rk4', params=res,\n",
    "                     input=inp_trace * amp, input_var='I', output_var='v',\n",
    "                     dt=dt, param_init={'x': -1.6, 'y':1 - 5*(-1.6)**2, 'z':0.001*(4*(-1.6 - -1.6))}, \n",
    "                    )\n",
    "\n",
    "x = fits/mV"
   ]
  },
  {
   "cell_type": "code",
   "execution_count": 16,
   "metadata": {},
   "outputs": [
    {
     "data": {
      "image/png": "[encoded data removed]",
      "text/plain": [
       "<Figure size 432x288 with 1 Axes>"
      ]
     },
     "metadata": {
      "needs_background": "light"
     },
     "output_type": "display_data"
    }
   ],
   "source": [
    "plot(x.transpose())\n",
    "plot(out_trace.transpose());"
   ]
  },
  {
   "cell_type": "markdown",
   "metadata": {},
   "source": [
    "### More Parameters"
   ]
  },
  {
   "cell_type": "code",
   "execution_count": 17,
   "metadata": {},
   "outputs": [],
   "source": [
    "eqs = Equations('''\n",
    "dx/dt = (y - a*x**3 + b*x**2 + rescale * I/nA - z)/time_unit : 1\n",
    "dy/dt = (c - d*x**2 - y)/time_unit : 1\n",
    "dz/dt = r*(s*(x - x_1) - z)/time_unit : 1\n",
    "v = (base + x * scale)*mV :volt\n",
    "base: 1 (constant)\n",
    "scale: 1 (constant)\n",
    "rescale: 1 (constant)\n",
    "''',\n",
    "x_1 = -1.6,\n",
    "a = 1,\n",
    "b = 3, \n",
    "c = 1, \n",
    "d = 5,\n",
    "r = 0.001, \n",
    "s = 4, \n",
    "time_unit=1*ms)"
   ]
  },
  {
   "cell_type": "code",
   "execution_count": 18,
   "metadata": {},
   "outputs": [
    {
     "name": "stdout",
     "output_type": "stream",
     "text": [
      "round 0 with error [1.84029559 1.84029559 1.84029559]\n",
      "round 1 with error [1.40380905 1.40380905 1.40380905]\n",
      "round 2 with error [1.33780422 1.33780422 1.33780422]\n"
     ]
    },
    {
     "data": {
      "text/plain": [
       "{'rescale': 3.731958533172064,\n",
       " 'base': -27.03266917527017,\n",
       " 'scale': 19.267757216885506}"
      ]
     },
     "execution_count": 18,
     "metadata": {},
     "output_type": "execute_result"
    }
   ],
   "source": [
    "start_scope()\n",
    "n_opt = NevergradOptimizer(method='DE')\n",
    "metric = MSEMetric()\n",
    "\n",
    "res, error = fit_traces_standalone(model=eqs, input_var='I', output_var='v',\n",
    "                                   input=inp_trace * amp, output=out_trace*mV, dt=dt,\n",
    "                                   method='rk4',\n",
    "                                   scale = [0, 60], \n",
    "                                   base = [-30, 10],\n",
    "                                   rescale = [2, 4],\n",
    "                                   param_init={'x': -1.6, 'y':1 - 5*(-1.6)**2, 'z':0.001*(4*(-1.6 - -1.6))}, \n",
    "                                   n_rounds=3, n_samples=30, optimizer=n_opt, metric=metric\n",
    "                                   )\n",
    "\n",
    "res"
   ]
  },
  {
   "cell_type": "code",
   "execution_count": 19,
   "metadata": {},
   "outputs": [],
   "source": [
    "# visualization of the results\n",
    "start_scope()\n",
    "fits = generate_fits(model=eqs, method='rk4', params=res,\n",
    "                     input=inp_trace * amp, input_var='I', output_var='v',\n",
    "                     dt=dt, param_init={'x': -1.6, 'y':1 - 5*(-1.6)**2, 'z':0.001*(4*(-1.6 - -1.6))}, \n",
    "                    )\n",
    "\n",
    "x = fits/mV"
   ]
  },
  {
   "cell_type": "code",
   "execution_count": 20,
   "metadata": {},
   "outputs": [
    {
     "data": {
      "image/png": "[encoded data removed]",
      "text/plain": [
       "<Figure size 432x288 with 1 Axes>"
      ]
     },
     "metadata": {
      "needs_background": "light"
     },
     "output_type": "display_data"
    }
   ],
   "source": [
    "plot(x.transpose())\n",
    "plot(out_trace.transpose());"
   ]
  },
  {
   "cell_type": "markdown",
   "metadata": {},
   "source": [
    "## Add a Canonical Parameter "
   ]
  },
  {
   "cell_type": "code",
   "execution_count": 21,
   "metadata": {},
   "outputs": [],
   "source": [
    "eqs = Equations('''\n",
    "dx/dt = (y - a*x**3 + b*x**2 + 3*I/nA - z)/time_unit : 1\n",
    "dy/dt = (c - d*x**2 - y)/time_unit : 1\n",
    "dz/dt = r*(s*(x - x_1) - z)/time_unit : 1\n",
    "v = (base + x * scale)*mV :volt\n",
    "base: 1 (constant)\n",
    "scale: 1 (constant)\n",
    "b: 1 (constant)\n",
    "''',\n",
    "x_1 = -1.6,\n",
    "a = 1,\n",
    "# b = 3, \n",
    "c = 1, \n",
    "d = 5,\n",
    "r = 0.001, \n",
    "s = 4, \n",
    "time_unit=1*ms)"
   ]
  },
  {
   "cell_type": "code",
   "execution_count": 22,
   "metadata": {},
   "outputs": [
    {
     "name": "stdout",
     "output_type": "stream",
     "text": [
      "round 0 with error [0.67053282 0.67053282 0.67053282]\n",
      "round 1 with error [2.29374185]\n",
      "round 2 with error [0.63422294 0.63422294 0.63422294]\n"
     ]
    },
    {
     "data": {
      "text/plain": [
       "{'base': -12.614060289589073,\n",
       " 'scale': 23.876157587530585,\n",
       " 'b': 2.1382716086817997}"
      ]
     },
     "execution_count": 22,
     "metadata": {},
     "output_type": "execute_result"
    }
   ],
   "source": [
    "start_scope()\n",
    "n_opt = NevergradOptimizer(method='DE')\n",
    "metric = MSEMetric()\n",
    "\n",
    "res, error = fit_traces_standalone(model=eqs, input_var='I', output_var='v',\n",
    "                                   input=inp_trace * amp, output=out_trace*mV, dt=dt,\n",
    "                                   method='rk4',\n",
    "                                   scale = [20, 40], \n",
    "                                   base = [-20, -10],\n",
    "                                   b=[2,4],\n",
    "                                   param_init={'x': -1.6, 'y':1 - 5*(-1.6)**2, 'z':0.001*(4*(-1.6 - -1.6))}, \n",
    "                                   n_rounds=3, n_samples=20, optimizer=n_opt, metric=metric\n",
    "                                   )\n",
    "\n",
    "res"
   ]
  },
  {
   "cell_type": "code",
   "execution_count": 23,
   "metadata": {},
   "outputs": [],
   "source": [
    "# visualization of the results\n",
    "start_scope()\n",
    "fits = generate_fits(model=eqs, method='rk4', params=res,\n",
    "                     input=inp_trace * amp, input_var='I', output_var='v',\n",
    "                     dt=dt, param_init={'x': -1.6, 'y':1 - 5*(-1.6)**2, 'z':0.001*(4*(-1.6 - -1.6))}, \n",
    "                    )\n",
    "\n",
    "x = fits/mV"
   ]
  },
  {
   "cell_type": "code",
   "execution_count": 24,
   "metadata": {},
   "outputs": [
    {
     "data": {
      "image/png": "[encoded data removed]",
      "text/plain": [
       "<Figure size 432x288 with 1 Axes>"
      ]
     },
     "metadata": {
      "needs_background": "light"
     },
     "output_type": "display_data"
    }
   ],
   "source": [
    "plot(x.transpose())\n",
    "plot(out_trace.transpose());"
   ]
  },
  {
   "cell_type": "code",
   "execution_count": null,
   "metadata": {},
   "outputs": [],
   "source": []
  },
  {
   "cell_type": "code",
   "execution_count": null,
   "metadata": {},
   "outputs": [],
   "source": []
  }
 ],
 "metadata": {
  "kernelspec": {
   "display_name": "brian_opt",
   "language": "python",
   "name": "brian_opt"
  },
  "language_info": {
   "codemirror_mode": {
    "name": "ipython",
    "version": 3
   },
   "file_extension": ".py",
   "mimetype": "text/x-python",
   "name": "python",
   "nbconvert_exporter": "python",
   "pygments_lexer": "ipython3",
   "version": "3.7.3"
  }
 },
 "nbformat": 4,
 "nbformat_minor": 2
}
