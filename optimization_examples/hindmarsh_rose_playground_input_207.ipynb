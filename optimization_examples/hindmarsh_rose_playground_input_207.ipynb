{
 "cells": [
  {
   "cell_type": "markdown",
   "metadata": {},
   "source": [
    "# Hindmarsh_Rose"
   ]
  },
  {
   "cell_type": "code",
   "execution_count": 5,
   "metadata": {},
   "outputs": [],
   "source": [
    "import numpy as np\n",
    "from brian2 import *"
   ]
  },
  {
   "cell_type": "code",
   "execution_count": 6,
   "metadata": {},
   "outputs": [],
   "source": [
    "# In the original model, time is measured in arbitrary time units\n",
    "time_unit = 1*ms\n",
    "dt = time_unit/10\n",
    "defaultclock.dt = dt"
   ]
  },
  {
   "cell_type": "code",
   "execution_count": 212,
   "metadata": {},
   "outputs": [],
   "source": [
    "input_current0 = np.hstack([np.zeros(int(5*ms/dt)), np.ones(int(5*ms/dt)), np.zeros(int(5*ms/dt))]) * nA\n",
    "I = TimedArray(input_current0, dt=dt)"
   ]
  },
  {
   "cell_type": "code",
   "execution_count": 293,
   "metadata": {},
   "outputs": [],
   "source": [
    "x_1 = -1.6  # leftmost equilibrium point of the model without adaptation\n",
    "a = 1; b = 3; c = 1; d = 5\n",
    "r = 0.001; s = 4\n",
    "eqs = Equations('''\n",
    "dx/dt = (y - a*x**3 + b*x**2 + 4* I(t)/nA - z)/time_unit : 1\n",
    "dy/dt = (c - d*x**2 - y)/time_unit : 1\n",
    "dz/dt = r*(s*(x - x_1) - z)/time_unit : 1\n",
    "v = base + x * scale :1\n",
    "base: 1 (constant)\n",
    "scale: 1 (constant)\n",
    "'''\n",
    ")"
   ]
  },
  {
   "cell_type": "code",
   "execution_count": 294,
   "metadata": {},
   "outputs": [],
   "source": [
    "start_scope()"
   ]
  },
  {
   "cell_type": "code",
   "execution_count": 295,
   "metadata": {},
   "outputs": [],
   "source": [
    "# We run the model with three different currents\n",
    "neuron = NeuronGroup(1, eqs, method='rk4')"
   ]
  },
  {
   "cell_type": "code",
   "execution_count": 296,
   "metadata": {},
   "outputs": [],
   "source": [
    "# Set all variables to their equilibrium point\n",
    "neuron.x = x_1\n",
    "neuron.y = 'c - d*x**2'\n",
    "neuron.z = 'r*(s*(x - x_1))'\n",
    "neuron.scale = 24\n",
    "neuron.base = -12"
   ]
  },
  {
   "cell_type": "code",
   "execution_count": 297,
   "metadata": {},
   "outputs": [],
   "source": [
    "# Record the \"membrane potential\"\n",
    "mon = StateMonitor(neuron, ['x', 'v', 'scale'], record=True)"
   ]
  },
  {
   "cell_type": "code",
   "execution_count": 298,
   "metadata": {},
   "outputs": [],
   "source": [
    "run(30*ms)"
   ]
  },
  {
   "cell_type": "code",
   "execution_count": 299,
   "metadata": {},
   "outputs": [],
   "source": [
    "vvv = mon.v"
   ]
  },
  {
   "cell_type": "code",
   "execution_count": 300,
   "metadata": {},
   "outputs": [
    {
     "data": {
      "text/plain": [
       "[<matplotlib.lines.Line2D at 0x7f0fc0c3ceb8>]"
      ]
     },
     "execution_count": 300,
     "metadata": {},
     "output_type": "execute_result"
    },
    {
     "data": {
      "image/png": "[encoded data removed]",
      "text/plain": [
       "<Figure size 432x288 with 1 Axes>"
      ]
     },
     "metadata": {
      "needs_background": "light"
     },
     "output_type": "display_data"
    }
   ],
   "source": [
    "plot(vvv[0]);\n",
    "plot(input_current0/nA)\n",
    "# plot(mon.x[0]);\n",
    "# plot(mon.scale[0])"
   ]
  },
  {
   "cell_type": "code",
   "execution_count": null,
   "metadata": {},
   "outputs": [],
   "source": []
  },
  {
   "cell_type": "code",
   "execution_count": null,
   "metadata": {},
   "outputs": [],
   "source": []
  },
  {
   "cell_type": "code",
   "execution_count": null,
   "metadata": {},
   "outputs": [],
   "source": []
  }
 ],
 "metadata": {
  "kernelspec": {
   "display_name": "brian_opt",
   "language": "python",
   "name": "brian_opt"
  },
  "language_info": {
   "codemirror_mode": {
    "name": "ipython",
    "version": 3
   },
   "file_extension": ".py",
   "mimetype": "text/x-python",
   "name": "python",
   "nbconvert_exporter": "python",
   "pygments_lexer": "ipython3",
   "version": "3.7.3"
  }
 },
 "nbformat": 4,
 "nbformat_minor": 2
}
