{
 "cells": [
  {
   "cell_type": "markdown",
   "metadata": {},
   "source": [
    "# Hindmarsh_Rose"
   ]
  },
  {
   "cell_type": "code",
   "execution_count": 12,
   "metadata": {},
   "outputs": [],
   "source": [
    "import numpy as np\n",
    "from brian2 import *"
   ]
  },
  {
   "cell_type": "code",
   "execution_count": null,
   "metadata": {},
   "outputs": [],
   "source": [
    "start_scope()"
   ]
  },
  {
   "cell_type": "code",
   "execution_count": 13,
   "metadata": {},
   "outputs": [],
   "source": [
    "# In the original model, time is measured in arbitrary time units\n",
    "time_unit = 1*ms\n",
    "defaultclock.dt = time_unit/10"
   ]
  },
  {
   "cell_type": "code",
   "execution_count": 14,
   "metadata": {},
   "outputs": [],
   "source": [
    "x_1 = -1.6  # leftmost equilibrium point of the model without adaptation\n",
    "a = 1; b = 3; c = 1; d = 5\n",
    "r = 0.001; s = 4\n",
    "eqs = Equations('''\n",
    "dx/dt = (y - a*x**3 + b*x**2 + I - z)/time_unit : 1\n",
    "dy/dt = (c - d*x**2 - y)/time_unit : 1\n",
    "dz/dt = r*(s*(x - x_1) - z)/time_unit : 1\n",
    "v = base + x * scale :1\n",
    "I : 1 (constant)\n",
    "base: 1 (constant)\n",
    "scale: 1 (constant)\n",
    "'''\n",
    ")"
   ]
  },
  {
   "cell_type": "code",
   "execution_count": 15,
   "metadata": {},
   "outputs": [],
   "source": [
    "# We run the model with three different currents\n",
    "neuron = NeuronGroup(3, eqs, method='rk4')"
   ]
  },
  {
   "cell_type": "code",
   "execution_count": 20,
   "metadata": {},
   "outputs": [],
   "source": [
    "# Set all variables to their equilibrium point\n",
    "neuron.x = x_1\n",
    "neuron.y = 'c - d*x**2'\n",
    "neuron.z = 'r*(s*(x - x_1))'\n",
    "neuron.scale = 1"
   ]
  },
  {
   "cell_type": "code",
   "execution_count": 21,
   "metadata": {},
   "outputs": [],
   "source": [
    "# Set the constant current input\n",
    "neuron.I = [0.4, 2, 4]"
   ]
  },
  {
   "cell_type": "code",
   "execution_count": 22,
   "metadata": {},
   "outputs": [],
   "source": [
    "# Record the \"membrane potential\"\n",
    "mon = StateMonitor(neuron, ['x', 'v', 'scale'], record=True)"
   ]
  },
  {
   "cell_type": "code",
   "execution_count": 23,
   "metadata": {},
   "outputs": [],
   "source": [
    "run(2100*time_unit)"
   ]
  },
  {
   "cell_type": "code",
   "execution_count": 24,
   "metadata": {},
   "outputs": [],
   "source": [
    "vvv = mon.v"
   ]
  },
  {
   "cell_type": "code",
   "execution_count": 28,
   "metadata": {},
   "outputs": [
    {
     "data": {
      "image/png": "[encoded data removed]",
      "text/plain": [
       "<Figure size 432x288 with 1 Axes>"
      ]
     },
     "metadata": {
      "needs_background": "light"
     },
     "output_type": "display_data"
    }
   ],
   "source": [
    "plot(vvv[0]);\n",
    "# plot(mon.x[0]);\n",
    "# plot(mon.scale[0])"
   ]
  },
  {
   "cell_type": "code",
   "execution_count": null,
   "metadata": {},
   "outputs": [],
   "source": [
    "ax_top = plt.subplot2grid((2, 3), (0, 0), colspan=3)\n",
    "ax_bottom_l = plt.subplot2grid((2, 3), (1, 0), colspan=2)\n",
    "ax_bottom_r = plt.subplot2grid((2, 3), (1, 2))\n",
    "for ax in [ax_top, ax_bottom_l, ax_bottom_r]:\n",
    "    ax.spines['top'].set_visible(False)\n",
    "    ax.spines['right'].set_visible(False)\n",
    "    ax.set(ylim=(-2, 2), yticks=[-2, 0, 2])\n",
    "\n",
    "ax_top.plot(mon.t/time_unit, mon.x[0])\n",
    "\n",
    "ax_bottom_l.plot(mon.t/time_unit, mon.x[1])\n",
    "ax_bottom_l.set_xlim(700, 2100)\n",
    "\n",
    "ax_bottom_r.plot(mon.t/time_unit, mon.x[2])\n",
    "ax_bottom_r.set_xlim(1400, 2100)\n",
    "ax_bottom_r.set_yticks([])\n",
    "\n",
    "plt.show()"
   ]
  },
  {
   "cell_type": "code",
   "execution_count": null,
   "metadata": {},
   "outputs": [],
   "source": []
  }
 ],
 "metadata": {
  "kernelspec": {
   "display_name": "brian_opt",
   "language": "python",
   "name": "brian_opt"
  },
  "language_info": {
   "codemirror_mode": {
    "name": "ipython",
    "version": 3
   },
   "file_extension": ".py",
   "mimetype": "text/x-python",
   "name": "python",
   "nbconvert_exporter": "python",
   "pygments_lexer": "ipython3",
   "version": "3.7.3"
  }
 },
 "nbformat": 4,
 "nbformat_minor": 2
}
