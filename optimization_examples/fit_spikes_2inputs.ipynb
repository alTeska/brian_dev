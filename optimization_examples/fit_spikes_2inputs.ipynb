{
 "cells": [
  {
   "cell_type": "markdown",
   "metadata": {},
   "source": [
    "# Fit Spikes with 2 inputs"
   ]
  },
  {
   "cell_type": "code",
   "execution_count": 1,
   "metadata": {},
   "outputs": [
    {
     "name": "stderr",
     "output_type": "stream",
     "text": [
      "WARNING    /home/alteska/anaconda3/envs/brian_opt/lib/python3.7/site-packages/sklearn/externals/joblib/__init__.py:15: DeprecationWarning: sklearn.externals.joblib is deprecated in 0.21 and will be removed in 0.23. Please import this functionality directly from joblib, which can be installed with: pip install joblib. If this warning is raised when loading pickled models, you may need to re-serialize those models with scikit-learn 0.21+.\n",
      "  warnings.warn(msg, category=DeprecationWarning)\n",
      " [py.warnings]\n"
     ]
    }
   ],
   "source": [
    "import numpy as np\n",
    "from brian2 import *\n",
    "from brian2tools import *"
   ]
  },
  {
   "cell_type": "code",
   "execution_count": 2,
   "metadata": {},
   "outputs": [],
   "source": [
    "dt = 0.01 * ms\n",
    "defaultclock.dt = dt"
   ]
  },
  {
   "cell_type": "markdown",
   "metadata": {},
   "source": [
    "## Generate a step-current input and an \"experimental\" voltage trace"
   ]
  },
  {
   "cell_type": "code",
   "execution_count": 3,
   "metadata": {},
   "outputs": [],
   "source": [
    "input_current1 = np.hstack([np.zeros(int(5*ms/dt)), np.ones(int(5*ms/dt))*5, np.zeros(int(5*ms/dt))])* 5 *nA\n",
    "input_current0 = np.hstack([np.zeros(int(5*ms/dt)), np.ones(int(5*ms/dt))*10, np.zeros(int(5*ms/dt))]) * 5 * nA\n",
    "\n",
    "input_current2 = np.stack((input_current0, input_current1))\n",
    "I = TimedArray(input_current0, dt=dt)"
   ]
  },
  {
   "cell_type": "code",
   "execution_count": 4,
   "metadata": {},
   "outputs": [],
   "source": [
    "EL = -70*mV\n",
    "VT = -50*mV\n",
    "DeltaT = 2*mV\n",
    "eqs = Equations('''\n",
    "    dv/dt = (gL*(EL-v)+gL*DeltaT*exp((v-VT)/DeltaT) + I(t))/C : volt\n",
    "    gL: siemens (constant)\n",
    "    C: farad (constant)\n",
    "    ''')"
   ]
  },
  {
   "cell_type": "markdown",
   "metadata": {},
   "source": [
    "### Generate First Trace"
   ]
  },
  {
   "cell_type": "code",
   "execution_count": 5,
   "metadata": {},
   "outputs": [],
   "source": [
    "group = NeuronGroup(1, eqs,\n",
    "                    threshold='v > -50*mV',\n",
    "                    reset='v = -70*mV',\n",
    "                    method='exponential_euler')\n",
    "group.v = -70 *mV\n",
    "group.set_states({'gL': [30*nS], 'C':[1*nF]})"
   ]
  },
  {
   "cell_type": "code",
   "execution_count": 6,
   "metadata": {},
   "outputs": [],
   "source": [
    "monitor0 = StateMonitor(group, 'v', record=True)\n",
    "smonitor0  = SpikeMonitor(group)"
   ]
  },
  {
   "cell_type": "code",
   "execution_count": 7,
   "metadata": {},
   "outputs": [],
   "source": [
    "run(60*ms)"
   ]
  },
  {
   "cell_type": "code",
   "execution_count": 8,
   "metadata": {},
   "outputs": [],
   "source": [
    "voltage0 = monitor0.v[0]/mV\n",
    "out_spikes0 = getattr(smonitor0, 't') / ms"
   ]
  },
  {
   "cell_type": "markdown",
   "metadata": {},
   "source": [
    "### Generate Second Trace"
   ]
  },
  {
   "cell_type": "code",
   "execution_count": 9,
   "metadata": {},
   "outputs": [],
   "source": [
    "start_scope()\n",
    "I = TimedArray(input_current1, dt=dt)\n",
    "group1 = NeuronGroup(1, eqs,\n",
    "                    threshold='v > -50*mV',\n",
    "                    reset='v = -70*mV',\n",
    "                    method='exponential_euler')\n",
    "group1.v = -70 *mV\n",
    "group1.set_states({'gL': [30*nS], 'C':[1*nF]})"
   ]
  },
  {
   "cell_type": "code",
   "execution_count": 10,
   "metadata": {},
   "outputs": [],
   "source": [
    "monitor1 = StateMonitor(group1, 'v', record=True)\n",
    "smonitor1  = SpikeMonitor(group1)"
   ]
  },
  {
   "cell_type": "code",
   "execution_count": 11,
   "metadata": {},
   "outputs": [],
   "source": [
    "run(60*ms)"
   ]
  },
  {
   "cell_type": "code",
   "execution_count": 12,
   "metadata": {},
   "outputs": [],
   "source": [
    "out_spikes1 = getattr(smonitor1, 't') / ms\n",
    "voltage1 = monitor1.v[0]/mV"
   ]
  },
  {
   "cell_type": "markdown",
   "metadata": {},
   "source": [
    "### Merge the traces"
   ]
  },
  {
   "cell_type": "code",
   "execution_count": 13,
   "metadata": {},
   "outputs": [
    {
     "name": "stdout",
     "output_type": "stream",
     "text": [
      "out_spikes [array([5.39, 5.8 , 6.21, 6.62, 7.03, 7.44, 7.85, 8.26, 8.67, 9.08, 9.49,\n",
      "       9.9 ])\n",
      " array([5.79, 6.6 , 7.41, 8.22, 9.03, 9.84])]\n"
     ]
    }
   ],
   "source": [
    "inp_trace0 = np.array([input_current0])\n",
    "inp_trace1 = np.array([input_current1])\n",
    "\n",
    "inp_trace = np.concatenate((inp_trace0, inp_trace1))\n",
    "out_spikes = np.array([out_spikes0, out_spikes1])\n",
    "print('out_spikes', out_spikes)"
   ]
  },
  {
   "cell_type": "markdown",
   "metadata": {},
   "source": [
    "## Fit Spikes"
   ]
  },
  {
   "cell_type": "code",
   "execution_count": 14,
   "metadata": {},
   "outputs": [],
   "source": [
    "start_scope()\n",
    "eqs_fit = Equations('''\n",
    "    dv/dt = (gL*(EL-v)+gL*DeltaT*exp((v-VT)/DeltaT) + I)/C : volt\n",
    "    gL: siemens (constant)\n",
    "    C: farad (constant)\n",
    "    ''',\n",
    "    EL = -70*mV,\n",
    "    VT = -50*mV,\n",
    "    DeltaT = 2*mV,\n",
    "    # C=1*nF\n",
    "    )"
   ]
  },
  {
   "cell_type": "code",
   "execution_count": 15,
   "metadata": {},
   "outputs": [],
   "source": [
    "n_opt = NevergradOptimizer('DE')\n",
    "metric = GammaFactor(dt, 60*ms)"
   ]
  },
  {
   "cell_type": "code",
   "execution_count": 16,
   "metadata": {},
   "outputs": [
    {
     "name": "stdout",
     "output_type": "stream",
     "text": [
      "round 0 with error 1.1102230246251565e-16\n",
      "parameters: {'C': 1.0046693399768929e-09, 'gL': 3.348372093930598e-08}\n",
      "round 1 with error 1.1102230246251565e-16\n",
      "parameters: {'C': 1.0003029491533474e-09, 'gL': 3.0016524123504885e-08}\n"
     ]
    }
   ],
   "source": [
    "result_dict, error = fit_spikes(model=eqs_fit, input_var='I', dt=dt,\n",
    "                                input=inp_trace * amp, output=out_spikes,\n",
    "                                n_rounds=2, n_samples=30, optimizer=n_opt,\n",
    "                                metric=metric,\n",
    "                                threshold='v > -50*mV',\n",
    "                                reset='v = -70*mV',\n",
    "                                method='exponential_euler',\n",
    "                                param_init={'v': -70*mV},\n",
    "                                gL=[20*nS, 40*nS],\n",
    "                                C = [0.5*nF, 1.5*nF]\n",
    "                                )"
   ]
  },
  {
   "cell_type": "code",
   "execution_count": 17,
   "metadata": {},
   "outputs": [
    {
     "name": "stdout",
     "output_type": "stream",
     "text": [
      "goal: {'gL': [30. * nsiemens], 'C': [1. * nfarad]}\n",
      "results: 1.00030295 nF 30.01652412 nS\n"
     ]
    }
   ],
   "source": [
    "# print(result_dict, error)\n",
    "print('goal:', {'gL': [30*nS], 'C':[1*nF]})\n",
    "print('results:', result_dict['C']*farad, result_dict['gL']*siemens)\n",
    "\n",
    "res = {'gL': [result_dict['gL']*siemens], 'C': [result_dict['C']*farad]}"
   ]
  },
  {
   "cell_type": "markdown",
   "metadata": {},
   "source": [
    "## visualization of the results"
   ]
  },
  {
   "cell_type": "markdown",
   "metadata": {},
   "source": [
    "#### Generate fitted spikes trace"
   ]
  },
  {
   "cell_type": "code",
   "execution_count": 18,
   "metadata": {},
   "outputs": [
    {
     "name": "stdout",
     "output_type": "stream",
     "text": [
      "spike times: [array([5.39, 5.8 , 6.21, 6.62, 7.03, 7.44, 7.85, 8.26, 8.67, 9.08, 9.49,\n",
      "       9.9 ]), array([5.79, 6.6 , 7.41, 8.22, 9.03, 9.84])]\n"
     ]
    }
   ],
   "source": [
    "start_scope()\n",
    "spikes = generate_fits(model=eqs_fit,\n",
    "                       params=result_dict,\n",
    "                       input=inp_trace * amp,\n",
    "                       input_var='I',\n",
    "                       output_var='spikes',\n",
    "                       dt=dt,\n",
    "                       threshold='v > -50*mV',\n",
    "                       reset='v = -70*mV',\n",
    "                       method='exponential_euler',\n",
    "                       param_init={'v': -70*mV})\n",
    "\n",
    "print('spike times:', spikes)"
   ]
  },
  {
   "cell_type": "markdown",
   "metadata": {},
   "source": [
    "#### Plot "
   ]
  },
  {
   "cell_type": "code",
   "execution_count": 24,
   "metadata": {},
   "outputs": [
    {
     "data": {
      "image/png": "[encoded data removed]",
      "text/plain": [
       "<Figure size 432x288 with 2 Axes>"
      ]
     },
     "metadata": {
      "needs_background": "light"
     },
     "output_type": "display_data"
    }
   ],
   "source": [
    "fig, ax = plt.subplots(nrows=2)\n",
    "ax[0].plot(voltage0[:1000]);\n",
    "ax[0].plot(fits[0]/mV);\n",
    "ax[1].plot(voltage1[:1000]);\n",
    "ax[1].plot(fits[1]/mV);\n",
    "plt.show()"
   ]
  },
  {
   "cell_type": "code",
   "execution_count": null,
   "metadata": {},
   "outputs": [],
   "source": []
  }
 ],
 "metadata": {
  "kernelspec": {
   "display_name": "brian_opt",
   "language": "python",
   "name": "brian_opt"
  },
  "language_info": {
   "codemirror_mode": {
    "name": "ipython",
    "version": 3
   },
   "file_extension": ".py",
   "mimetype": "text/x-python",
   "name": "python",
   "nbconvert_exporter": "python",
   "pygments_lexer": "ipython3",
   "version": "3.7.3"
  }
 },
 "nbformat": 4,
 "nbformat_minor": 2
}
