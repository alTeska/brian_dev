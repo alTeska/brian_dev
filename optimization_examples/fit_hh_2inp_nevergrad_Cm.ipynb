{
 "cells": [
  {
   "cell_type": "markdown",
   "metadata": {},
   "source": [
    "# HH fitting to HH with wider ranges"
   ]
  },
  {
   "cell_type": "code",
   "execution_count": 1,
   "metadata": {},
   "outputs": [
    {
     "name": "stderr",
     "output_type": "stream",
     "text": [
      "WARNING    /home/alteska/anaconda3/envs/brian_opt/lib/python3.7/site-packages/sklearn/externals/joblib/__init__.py:15: DeprecationWarning: sklearn.externals.joblib is deprecated in 0.21 and will be removed in 0.23. Please import this functionality directly from joblib, which can be installed with: pip install joblib. If this warning is raised when loading pickled models, you may need to re-serialize those models with scikit-learn 0.21+.\n",
      "  warnings.warn(msg, category=DeprecationWarning)\n",
      " [py.warnings]\n"
     ]
    }
   ],
   "source": [
    "from brian2 import *\n",
    "from brian2tools import *\n",
    "\n",
    "\n",
    "prefs.codegen.target = 'cython'  # weave is not multiprocess-safe!"
   ]
  },
  {
   "cell_type": "markdown",
   "metadata": {},
   "source": [
    "## Input Data Preparation"
   ]
  },
  {
   "cell_type": "code",
   "execution_count": 2,
   "metadata": {},
   "outputs": [],
   "source": [
    "# Parameters\n",
    "area = 20000*umetre**2\n",
    "Cm = 1*ufarad*cm**-2 * area\n",
    "El = -65*mV\n",
    "EK = -90*mV\n",
    "ENa = 50*mV\n",
    "VT = -63*mV\n",
    "\n",
    "dt = 0.01*ms"
   ]
  },
  {
   "cell_type": "code",
   "execution_count": 3,
   "metadata": {},
   "outputs": [],
   "source": [
    "# Generate a step-current input and an \"experimental\" voltage trace\n",
    "input_current0 = np.hstack([np.zeros(int(5*ms/dt)), np.ones(int(5*ms/dt)), np.zeros(int(5*ms/dt))])*nA\n",
    "input_current1 = np.hstack([np.zeros(int(5*ms/dt)), np.ones(int(5*ms/dt))*2, np.zeros(int(5*ms/dt))])*nA\n",
    "\n",
    "input_current2 = np.stack((input_current0, input_current1))"
   ]
  },
  {
   "cell_type": "code",
   "execution_count": 4,
   "metadata": {},
   "outputs": [],
   "source": [
    "params_correct = {'gl': float(5e-5*siemens*cm**-2 * area),\n",
    "                  'g_na': float(100*msiemens*cm**-2 * area),\n",
    "                  'g_kd': float(30*msiemens*cm**-2 * area)}\n",
    "\n",
    "defaultclock.dt = dt"
   ]
  },
  {
   "cell_type": "code",
   "execution_count": 5,
   "metadata": {},
   "outputs": [],
   "source": [
    "# The model\n",
    "eqsHH = Equations('''\n",
    "dv/dt = (gl*(El-v) - g_na*(m*m*m)*h*(v-ENa) - g_kd*(n*n*n*n)*(v-EK) + I(t))/Cm : volt\n",
    "dm/dt = 0.32*(mV**-1)*(13.*mV-v+VT)/\n",
    "    (exp((13.*mV-v+VT)/(4.*mV))-1.)/ms*(1-m)-0.28*(mV**-1)*(v-VT-40.*mV)/\n",
    "    (exp((v-VT-40.*mV)/(5.*mV))-1.)/ms*m : 1\n",
    "dn/dt = 0.032*(mV**-1)*(15.*mV-v+VT)/\n",
    "    (exp((15.*mV-v+VT)/(5.*mV))-1.)/ms*(1.-n)-.5*exp((10.*mV-v+VT)/(40.*mV))/ms*n : 1\n",
    "dh/dt = 0.128*exp((17.*mV-v+VT)/(18.*mV))/ms*(1.-h)-4./(1+exp((40.*mV-v+VT)/(5.*mV)))/ms*h : 1\n",
    "g_na : siemens (constant)\n",
    "g_kd : siemens (constant)\n",
    "gl   : siemens (constant)\n",
    "''')"
   ]
  },
  {
   "cell_type": "code",
   "execution_count": 6,
   "metadata": {},
   "outputs": [],
   "source": [
    "I = TimedArray(input_current0, dt=dt)\n",
    "\n",
    "G = NeuronGroup(1, eqsHH, method='exponential_euler')\n",
    "G.v = El\n",
    "G.set_states(params_correct, units=False)\n",
    "mon = StateMonitor(G, 'v', record=0)\n",
    "run(20*ms)\n",
    "\n",
    "voltage = mon.v[0]/mV\n",
    "voltage += np.random.randn(len(voltage))\n",
    "\n",
    "\n",
    "inp_trace0 = np.array([input_current0])\n",
    "n0, n1 = inp_trace0.shape\n",
    "\n",
    "out_trace0 = np.array(voltage[:n1])"
   ]
  },
  {
   "cell_type": "code",
   "execution_count": 7,
   "metadata": {},
   "outputs": [],
   "source": [
    "start_scope()\n",
    "I = TimedArray(input_current1, dt=dt)\n",
    "G = NeuronGroup(1, eqsHH, method='exponential_euler')\n",
    "G.v = El\n",
    "G.set_states(params_correct, units=False)\n",
    "mon = StateMonitor(G, 'v', record=0)\n",
    "\n",
    "run(20*ms)\n",
    "\n",
    "voltage = mon.v[0]/mV\n",
    "\n",
    "voltage += np.random.randn(len(voltage))\n",
    "inp_trace1 = np.array([input_current1])\n",
    "n0, n1 = inp_trace1.shape\n",
    "out_trace1 = np.array(voltage[:n1])"
   ]
  },
  {
   "cell_type": "code",
   "execution_count": 8,
   "metadata": {},
   "outputs": [],
   "source": [
    "# Generate Proper Input Format for the Problem\n",
    "inp_trace = np.concatenate((inp_trace0, inp_trace1))\n",
    "out_trace = np.concatenate(([out_trace0], [out_trace1]))"
   ]
  },
  {
   "cell_type": "markdown",
   "metadata": {},
   "source": [
    "## Model Fitting "
   ]
  },
  {
   "cell_type": "code",
   "execution_count": 9,
   "metadata": {},
   "outputs": [],
   "source": [
    "# Model for modelfitting\n",
    "eqs = Equations(\n",
    "'''\n",
    "dv/dt = (gl*(El-v) - g_na*(m*m*m)*h*(v-ENa) - g_kd*(n*n*n*n)*(v-EK) + I)/Cm : volt\n",
    "dm/dt = 0.32*(mV**-1)*(13.*mV-v+VT)/\n",
    "    (exp((13.*mV-v+VT)/(4.*mV))-1.)/ms*(1-m)-0.28*(mV**-1)*(v-VT-40.*mV)/\n",
    "    (exp((v-VT-40.*mV)/(5.*mV))-1.)/ms*m : 1\n",
    "dn/dt = 0.032*(mV**-1)*(15.*mV-v+VT)/\n",
    "    (exp((15.*mV-v+VT)/(5.*mV))-1.)/ms*(1.-n)-.5*exp((10.*mV-v+VT)/(40.*mV))/ms*n : 1\n",
    "dh/dt = 0.128*exp((17.*mV-v+VT)/(18.*mV))/ms*(1.-h)-4./(1+exp((40.*mV-v+VT)/(5.*mV)))/ms*h : 1\n",
    "g_na : siemens (constant)\n",
    "g_kd : siemens (constant)\n",
    "gl   : siemens (constant)\n",
    "Cm   : farad (constant)\n",
    "''',\n",
    "# Cm=1*ufarad*cm**-2 * area,\n",
    "El=-65*mV, EK=-90*mV, ENa=50*mV, VT=-63*mV)"
   ]
  },
  {
   "cell_type": "code",
   "execution_count": 13,
   "metadata": {},
   "outputs": [
    {
     "name": "stderr",
     "output_type": "stream",
     "text": [
      "INFO       No numerical integration method specified for group 'neurongroup', using method 'exponential_euler' (took 0.01s, trying other methods took 0.02s). [brian2.stateupdaters.base.method_choice]\n"
     ]
    },
    {
     "name": "stdout",
     "output_type": "stream",
     "text": [
      "round 0 with error 1.6901540455577666\n",
      "round 1 with error 1.706614965356128\n",
      "round 2 with error 1.6195639377785644\n",
      "round 3 with error 1.6586556144334792\n",
      "round 4 with error 1.6153294229452118\n"
     ]
    }
   ],
   "source": [
    "start_scope()\n",
    "n_opt = NevergradOptimizer(method='DE')\n",
    "metric = MSEMetric()\n",
    "\n",
    "res, error = fit_traces_standalone(model=eqs, input_var='I', output_var='v',\n",
    "                                   input=inp_trace * amp, output=out_trace*mV, dt=dt,\n",
    "                                   gl=[1e-8*siemens*cm**-2 * area, 1e-3*siemens*cm**-2 * area],\n",
    "                                   g_na=[1*msiemens*cm**-2 * area, 20000*msiemens*cm**-2 * area],\n",
    "                                   g_kd=[1*msiemens*cm**-2 * area, 10000*msiemens*cm**-2 * area],\n",
    "                                   Cm=[0.1*ufarad*cm**-2 * area, 2*ufarad*cm**-2 * area],\n",
    "                                   n_rounds=5, n_samples=30, optimizer=n_opt, metric=metric)"
   ]
  },
  {
   "cell_type": "markdown",
   "metadata": {},
   "source": [
    "## Results Visualization"
   ]
  },
  {
   "cell_type": "code",
   "execution_count": 14,
   "metadata": {},
   "outputs": [
    {
     "name": "stdout",
     "output_type": "stream",
     "text": [
      "correct: {'gl': 1e-08, 'g_na': 2e-05, 'g_kd': 6e-06} \n",
      " output: {'gl': 1.3255633336982703e-07, 'g_kd': 0.0006914183581202603, 'g_na': 0.00036534509342531847, 'Cm': 2.5217304370094354e-10}\n",
      "error 1.6153294229452118\n"
     ]
    }
   ],
   "source": [
    "# get information to the optimizer\n",
    "print('correct:', params_correct, '\\n output:', res)\n",
    "print('error', error)"
   ]
  },
  {
   "cell_type": "code",
   "execution_count": 15,
   "metadata": {},
   "outputs": [
    {
     "data": {
      "text/plain": [
       "array([[  0.        ,  -0.3407801 ,  -0.67967569, ..., -66.27881183,\n",
       "        -66.2715323 , -66.26428818],\n",
       "       [  0.        ,  -0.3407801 ,  -0.67967569, ..., -64.91432881,\n",
       "        -64.91356025, -64.912795  ]])"
      ]
     },
     "execution_count": 15,
     "metadata": {},
     "output_type": "execute_result"
    }
   ],
   "source": [
    "# visualization of the results\n",
    "start_scope()\n",
    "fits = generate_fits(model=eqs, method='exponential_euler', params=res,\n",
    "                     input=inp_trace * amp, input_var='I', output_var='v',\n",
    "                     dt=dt)\n",
    "\n",
    "fits/mV"
   ]
  },
  {
   "cell_type": "code",
   "execution_count": 16,
   "metadata": {},
   "outputs": [
    {
     "data": {
      "image/png": "[encoded data removed]",
      "text/plain": [
       "<Figure size 432x288 with 2 Axes>"
      ]
     },
     "metadata": {
      "needs_background": "light"
     },
     "output_type": "display_data"
    }
   ],
   "source": [
    "fig, ax = plt.subplots(nrows=2)\n",
    "ax[0].plot(np.arange(len(out_trace[0]))*dt/ms, out_trace[0]);\n",
    "ax[0].plot(np.arange(len(fits[0]))*dt/ms, fits[0]/mV);\n",
    "ax[1].plot(np.arange(len(out_trace[1]))*dt/ms, out_trace[1]);\n",
    "ax[1].plot(np.arange(len(fits[1]))*dt/ms, fits[1]/mV);\n",
    "plt.title('nevergrad optimization')\n",
    "# plt.savefig('plots/hh_nevergrad.png')\n",
    "plt.show()"
   ]
  },
  {
   "cell_type": "code",
   "execution_count": null,
   "metadata": {},
   "outputs": [],
   "source": []
  },
  {
   "cell_type": "code",
   "execution_count": null,
   "metadata": {},
   "outputs": [],
   "source": []
  }
 ],
 "metadata": {
  "kernelspec": {
   "display_name": "brian_opt",
   "language": "python",
   "name": "brian_opt"
  },
  "language_info": {
   "codemirror_mode": {
    "name": "ipython",
    "version": 3
   },
   "file_extension": ".py",
   "mimetype": "text/x-python",
   "name": "python",
   "nbconvert_exporter": "python",
   "pygments_lexer": "ipython3",
   "version": "3.7.3"
  }
 },
 "nbformat": 4,
 "nbformat_minor": 2
}
