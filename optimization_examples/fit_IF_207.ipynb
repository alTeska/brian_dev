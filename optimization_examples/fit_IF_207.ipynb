{
 "cells": [
  {
   "cell_type": "markdown",
   "metadata": {},
   "source": [
    "# Model Fitting with Threshold Artificial Neurons: Integrated Fire"
   ]
  },
  {
   "cell_type": "code",
   "execution_count": 1,
   "metadata": {},
   "outputs": [
    {
     "name": "stderr",
     "output_type": "stream",
     "text": [
      "WARNING    /home/alteska/anaconda3/envs/brian_opt/lib/python3.7/site-packages/sklearn/externals/joblib/__init__.py:15: DeprecationWarning: sklearn.externals.joblib is deprecated in 0.21 and will be removed in 0.23. Please import this functionality directly from joblib, which can be installed with: pip install joblib. If this warning is raised when loading pickled models, you may need to re-serialize those models with scikit-learn 0.21+.\n",
      "  warnings.warn(msg, category=DeprecationWarning)\n",
      " [py.warnings]\n"
     ]
    }
   ],
   "source": [
    "import numpy as np\n",
    "from brian2 import *\n",
    "from brian2tools import *"
   ]
  },
  {
   "cell_type": "markdown",
   "metadata": {},
   "source": [
    "## Generate Data"
   ]
  },
  {
   "cell_type": "code",
   "execution_count": 2,
   "metadata": {},
   "outputs": [],
   "source": [
    "duration = 100*ms\n",
    "dt = 0.01 * ms\n",
    "defaultclock.dt = dt\n",
    "input_current = np.hstack([np.zeros(int(5*ms/dt)), np.ones(int(5*ms/dt)), np.zeros(5*int(5*ms/dt))])* 5 * nA"
   ]
  },
  {
   "cell_type": "code",
   "execution_count": 3,
   "metadata": {},
   "outputs": [],
   "source": [
    "C = 1*nF; gL = 30*nS; EL = -70*mV; VT = -50*mV; DeltaT = 2*mV\n",
    "eqs = '''\n",
    "    dv/dt = (gL*(EL-v)+gL*DeltaT*exp((v-VT)/DeltaT) + I(t))/C : volt\n",
    "    '''"
   ]
  },
  {
   "cell_type": "code",
   "execution_count": 4,
   "metadata": {},
   "outputs": [],
   "source": [
    "start_scope()"
   ]
  },
  {
   "cell_type": "code",
   "execution_count": 5,
   "metadata": {},
   "outputs": [],
   "source": [
    "I = TimedArray(input_current, dt=dt)"
   ]
  },
  {
   "cell_type": "code",
   "execution_count": 6,
   "metadata": {},
   "outputs": [],
   "source": [
    "group = NeuronGroup(1, eqs,\n",
    "                    threshold='v > -50*mV',\n",
    "                    reset='v = -70*mV',\n",
    "                    method='exponential_euler')"
   ]
  },
  {
   "cell_type": "code",
   "execution_count": 7,
   "metadata": {},
   "outputs": [],
   "source": [
    "group.v = -70 *mV"
   ]
  },
  {
   "cell_type": "code",
   "execution_count": 8,
   "metadata": {},
   "outputs": [],
   "source": [
    "monitor = StateMonitor(group, 'v', record=True)"
   ]
  },
  {
   "cell_type": "code",
   "execution_count": 9,
   "metadata": {},
   "outputs": [],
   "source": [
    "run(duration)"
   ]
  },
  {
   "cell_type": "code",
   "execution_count": 10,
   "metadata": {},
   "outputs": [],
   "source": [
    "voltage = monitor.v[0]/mV"
   ]
  },
  {
   "cell_type": "code",
   "execution_count": 11,
   "metadata": {},
   "outputs": [],
   "source": [
    "voltage += np.random.randn(len(voltage))*1/2"
   ]
  },
  {
   "cell_type": "code",
   "execution_count": 12,
   "metadata": {},
   "outputs": [
    {
     "data": {
      "image/png": "[encoded data removed]",
      "text/plain": [
       "<Figure size 432x288 with 1 Axes>"
      ]
     },
     "metadata": {
      "needs_background": "light"
     },
     "output_type": "display_data"
    }
   ],
   "source": [
    "plot(voltage.transpose());"
   ]
  },
  {
   "cell_type": "code",
   "execution_count": 13,
   "metadata": {},
   "outputs": [
    {
     "data": {
      "image/png": "[encoded data removed]",
      "text/plain": [
       "<Figure size 432x288 with 1 Axes>"
      ]
     },
     "metadata": {
      "needs_background": "light"
     },
     "output_type": "display_data"
    }
   ],
   "source": [
    "plot(input_current);"
   ]
  },
  {
   "cell_type": "code",
   "execution_count": 14,
   "metadata": {},
   "outputs": [],
   "source": [
    "inp_trace = np.array([input_current])\n",
    "n0, n1 = inp_trace.shape\n",
    "\n",
    "out_trace = np.array(voltage[:n1])\n"
   ]
  },
  {
   "cell_type": "markdown",
   "metadata": {},
   "source": [
    "## Model Fitting"
   ]
  },
  {
   "cell_type": "code",
   "execution_count": 15,
   "metadata": {},
   "outputs": [],
   "source": [
    "eqs_fit = Equations('''\n",
    "    dv/dt = (gL*(EL-v)+gL*DeltaT*exp((v-VT)/DeltaT) + I)/C : volt\n",
    "    gL: siemens (constant)\n",
    "    ''', \n",
    "    C = 1*nF, \n",
    "#     gL = 30*nS,\n",
    "    EL = -70*mV, \n",
    "    VT = -50*mV, \n",
    "    DeltaT = 2*mV,  \n",
    "    )"
   ]
  },
  {
   "cell_type": "code",
   "execution_count": 16,
   "metadata": {},
   "outputs": [],
   "source": [
    "n_opt = NevergradOptimizer('DE')\n",
    "metric = MSEMetric()"
   ]
  },
  {
   "cell_type": "code",
   "execution_count": 31,
   "metadata": {},
   "outputs": [
    {
     "name": "stdout",
     "output_type": "stream",
     "text": [
      "round 0 with error [0.00085526]\n",
      "round 1 with error []\n",
      "round 2 with error [0.00085522]\n"
     ]
    }
   ],
   "source": [
    "res, error = fit_traces_standalone(model=eqs_fit, input_var='I', output_var='v',\n",
    "                                   input=inp_trace * amp, output=[out_trace]*mV, dt=dt,\n",
    "                                   param_init={'v': -70*mV},\n",
    "                                   method='exponential_euler',\n",
    "                                   gL=[1*nS, 100*nS],\n",
    "                                   n_rounds=3, n_samples=30, optimizer=n_opt, \n",
    "                                   metric=metric,\n",
    "                                   threshold='v > -50*mV', reset='v = -70*mV')\n"
   ]
  },
  {
   "cell_type": "code",
   "execution_count": 32,
   "metadata": {},
   "outputs": [
    {
     "data": {
      "text/plain": [
       "{'gL': 2.9984010015469994e-08}"
      ]
     },
     "execution_count": 32,
     "metadata": {},
     "output_type": "execute_result"
    }
   ],
   "source": [
    "res"
   ]
  },
  {
   "cell_type": "code",
   "execution_count": 33,
   "metadata": {},
   "outputs": [],
   "source": [
    "fits = generate_fits(model=eqs_fit, method='exponential_euler', params=res,\n",
    "                     input=inp_trace * amp, input_var='I', output_var='v',\n",
    "                     dt=dt, param_init={'v':-70*mV},threshold='v > -50*mV', reset='v = -70*mV')"
   ]
  },
  {
   "cell_type": "code",
   "execution_count": 34,
   "metadata": {},
   "outputs": [
    {
     "data": {
      "text/plain": [
       "array([[-70.        , -69.99999997, -69.99999995, ..., -68.2896457 ,\n",
       "        -68.29015839, -68.29067093]])"
      ]
     },
     "execution_count": 34,
     "metadata": {},
     "output_type": "execute_result"
    }
   ],
   "source": [
    "fits/mV"
   ]
  },
  {
   "cell_type": "code",
   "execution_count": 35,
   "metadata": {},
   "outputs": [
    {
     "data": {
      "text/plain": [
       "[<matplotlib.lines.Line2D at 0x7f0e20096c50>]"
      ]
     },
     "execution_count": 35,
     "metadata": {},
     "output_type": "execute_result"
    },
    {
     "data": {
      "image/png": "[encoded data removed]",
      "text/plain": [
       "<Figure size 432x288 with 1 Axes>"
      ]
     },
     "metadata": {
      "needs_background": "light"
     },
     "output_type": "display_data"
    }
   ],
   "source": [
    "plot(np.arange(len(out_trace))*dt/ms, out_trace)\n",
    "plot(np.arange(len(fits[0]))*dt/ms, fits[0]/mV)"
   ]
  },
  {
   "cell_type": "markdown",
   "metadata": {},
   "source": [
    "### Two Parameters"
   ]
  },
  {
   "cell_type": "code",
   "execution_count": 38,
   "metadata": {},
   "outputs": [],
   "source": [
    "eqs_fit = Equations('''\n",
    "    dv/dt = (gL*(EL-v)+gL*DeltaT*exp((v-VT)/DeltaT) + I)/C : volt\n",
    "    gL: siemens (constant)\n",
    "    C: farad (constant)\n",
    "    ''', \n",
    "#     C = 1*nF, \n",
    "#     gL = 30*nS,\n",
    "    EL = -70*mV, \n",
    "    VT = -50*mV, \n",
    "    DeltaT = 2*mV,  \n",
    "    )"
   ]
  },
  {
   "cell_type": "code",
   "execution_count": 39,
   "metadata": {},
   "outputs": [],
   "source": [
    "n_opt = NevergradOptimizer('DE')\n",
    "metric = MSEMetric()"
   ]
  },
  {
   "cell_type": "code",
   "execution_count": 55,
   "metadata": {},
   "outputs": [
    {
     "name": "stdout",
     "output_type": "stream",
     "text": [
      "round 0 with error [0.04344894 0.04344894]\n",
      "round 1 with error [0.04279191 0.04279191]\n",
      "round 2 with error [0.04268732 0.04268732]\n"
     ]
    }
   ],
   "source": [
    "res, error = fit_traces_standalone(model=eqs_fit, input_var='I', output_var='v',\n",
    "                                   input=inp_trace * amp, output=[out_trace]*mV, dt=dt,\n",
    "                                   param_init={'v': -70*mV},\n",
    "                                   method='exponential_euler',\n",
    "                                   gL=[1*nS, 100*nS],\n",
    "                                   C=[0.1*nF, 10*nF],\n",
    "                                   n_rounds=3, n_samples=30, optimizer=n_opt, \n",
    "                                   metric=metric,\n",
    "                                   threshold='v > -50*mV', reset='v = -70*mV')\n"
   ]
  },
  {
   "cell_type": "code",
   "execution_count": 56,
   "metadata": {},
   "outputs": [
    {
     "data": {
      "text/plain": [
       "{'gL': 9.255872581429116e-08, 'C': 5.592759798734818e-09}"
      ]
     },
     "execution_count": 56,
     "metadata": {},
     "output_type": "execute_result"
    }
   ],
   "source": [
    "res"
   ]
  },
  {
   "cell_type": "code",
   "execution_count": 57,
   "metadata": {},
   "outputs": [],
   "source": [
    "fits = generate_fits(model=eqs_fit, method='exponential_euler', params=res,\n",
    "                     input=inp_trace * amp, input_var='I', output_var='v',\n",
    "                     dt=dt, param_init={'v':-70*mV},threshold='v > -50*mV', reset='v = -70*mV')"
   ]
  },
  {
   "cell_type": "code",
   "execution_count": 58,
   "metadata": {},
   "outputs": [
    {
     "data": {
      "text/plain": [
       "array([[-70.        , -69.99999998, -69.99999997, ..., -67.16499433,\n",
       "        -67.16546342, -67.16593242]])"
      ]
     },
     "execution_count": 58,
     "metadata": {},
     "output_type": "execute_result"
    }
   ],
   "source": [
    "fits/mV"
   ]
  },
  {
   "cell_type": "code",
   "execution_count": 59,
   "metadata": {},
   "outputs": [
    {
     "data": {
      "text/plain": [
       "[<matplotlib.lines.Line2D at 0x7f0e2008ef98>]"
      ]
     },
     "execution_count": 59,
     "metadata": {},
     "output_type": "execute_result"
    },
    {
     "data": {
      "image/png": "[encoded data removed]",
      "text/plain": [
       "<Figure size 432x288 with 1 Axes>"
      ]
     },
     "metadata": {
      "needs_background": "light"
     },
     "output_type": "display_data"
    }
   ],
   "source": [
    "plot(np.arange(len(out_trace))*dt/ms, out_trace)\n",
    "plot(np.arange(len(fits[0]))*dt/ms, fits[0]/mV)"
   ]
  },
  {
   "cell_type": "markdown",
   "metadata": {},
   "source": [
    "## Not C!"
   ]
  },
  {
   "cell_type": "code",
   "execution_count": 67,
   "metadata": {},
   "outputs": [],
   "source": [
    "eqs_fit = Equations('''\n",
    "    dv/dt = (gL*(EL-v)+gL*DeltaT*exp((v-VT)/DeltaT) + I)/C : volt\n",
    "    gL: siemens (constant)\n",
    "    EL:  volt (constant)\n",
    "    VT: volt (constant)\n",
    "    ''', \n",
    "    C = 1*nF, \n",
    "#     gL = 30*nS,\n",
    "#     EL = -70*mV, \n",
    "#     VT = -50*mV, \n",
    "    DeltaT = 2*mV,  \n",
    "    )"
   ]
  },
  {
   "cell_type": "code",
   "execution_count": 68,
   "metadata": {},
   "outputs": [],
   "source": [
    "n_opt = NevergradOptimizer('DE')\n",
    "metric = MSEMetric()"
   ]
  },
  {
   "cell_type": "code",
   "execution_count": 69,
   "metadata": {},
   "outputs": [
    {
     "name": "stdout",
     "output_type": "stream",
     "text": [
      "round 0 with error [0.00495569 0.00495569 0.00495569]\n",
      "round 1 with error [0.00495434 0.00495434 0.00495434]\n",
      "round 2 with error [0.00333336 0.00333336 0.00333336]\n"
     ]
    }
   ],
   "source": [
    "res, error = fit_traces_standalone(model=eqs_fit, input_var='I', output_var='v',\n",
    "                                   input=inp_trace * amp, output=[out_trace]*mV, dt=dt,\n",
    "                                   param_init={'v': -70*mV},\n",
    "                                   method='exponential_euler',\n",
    "                                   gL=[1*nS, 100*nS],\n",
    "                                   EL=[-100*mV, 0*mV],\n",
    "                                   VT=[-100*mV, 0*mV],\n",
    "                                   n_rounds=3, n_samples=30, optimizer=n_opt, \n",
    "                                   metric=metric,\n",
    "                                   threshold='v > -50*mV', reset='v = -70*mV')\n"
   ]
  },
  {
   "cell_type": "code",
   "execution_count": 70,
   "metadata": {},
   "outputs": [
    {
     "data": {
      "text/plain": [
       "{'gL': 2.243180142311169e-08,\n",
       " 'EL': -0.07260360433369341,\n",
       " 'VT': -0.01940656784241067}"
      ]
     },
     "execution_count": 70,
     "metadata": {},
     "output_type": "execute_result"
    }
   ],
   "source": [
    "res"
   ]
  },
  {
   "cell_type": "code",
   "execution_count": 71,
   "metadata": {},
   "outputs": [],
   "source": [
    "fits = generate_fits(model=eqs_fit, method='exponential_euler', params=res,\n",
    "                     input=inp_trace * amp, input_var='I', output_var='v',\n",
    "                     dt=dt, param_init={'v':-70*mV},threshold='v > -50*mV', reset='v = -70*mV')"
   ]
  },
  {
   "cell_type": "code",
   "execution_count": 72,
   "metadata": {},
   "outputs": [
    {
     "data": {
      "text/plain": [
       "array([[-70.        , -70.00058397, -70.00116781, ..., -69.18032498,\n",
       "        -69.18109279, -69.18186044]])"
      ]
     },
     "execution_count": 72,
     "metadata": {},
     "output_type": "execute_result"
    }
   ],
   "source": [
    "fits/mV"
   ]
  },
  {
   "cell_type": "code",
   "execution_count": 73,
   "metadata": {},
   "outputs": [
    {
     "data": {
      "text/plain": [
       "[<matplotlib.lines.Line2D at 0x7f0e1f748518>]"
      ]
     },
     "execution_count": 73,
     "metadata": {},
     "output_type": "execute_result"
    },
    {
     "data": {
      "image/png": "[encoded data removed]",
      "text/plain": [
       "<Figure size 432x288 with 1 Axes>"
      ]
     },
     "metadata": {
      "needs_background": "light"
     },
     "output_type": "display_data"
    }
   ],
   "source": [
    "plot(np.arange(len(out_trace))*dt/ms, out_trace)\n",
    "plot(np.arange(len(fits[0]))*dt/ms, fits[0]/mV)"
   ]
  },
  {
   "cell_type": "code",
   "execution_count": null,
   "metadata": {},
   "outputs": [],
   "source": []
  },
  {
   "cell_type": "code",
   "execution_count": null,
   "metadata": {},
   "outputs": [],
   "source": []
  }
 ],
 "metadata": {
  "kernelspec": {
   "display_name": "brian_opt",
   "language": "python",
   "name": "brian_opt"
  },
  "language_info": {
   "codemirror_mode": {
    "name": "ipython",
    "version": 3
   },
   "file_extension": ".py",
   "mimetype": "text/x-python",
   "name": "python",
   "nbconvert_exporter": "python",
   "pygments_lexer": "ipython3",
   "version": "3.7.3"
  }
 },
 "nbformat": 4,
 "nbformat_minor": 2
}
