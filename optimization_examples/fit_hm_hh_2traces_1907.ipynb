{
 "cells": [
  {
   "cell_type": "markdown",
   "metadata": {},
   "source": [
    "# Fit Hindmars Rose into HH model noisy traces"
   ]
  },
  {
   "cell_type": "code",
   "execution_count": 1,
   "metadata": {},
   "outputs": [],
   "source": [
    "import pandas as pd\n",
    "import numpy as np"
   ]
  },
  {
   "cell_type": "code",
   "execution_count": 2,
   "metadata": {},
   "outputs": [
    {
     "name": "stderr",
     "output_type": "stream",
     "text": [
      "WARNING    /home/alteska/anaconda3/envs/brian_opt/lib/python3.7/site-packages/sklearn/externals/joblib/__init__.py:15: DeprecationWarning: sklearn.externals.joblib is deprecated in 0.21 and will be removed in 0.23. Please import this functionality directly from joblib, which can be installed with: pip install joblib. If this warning is raised when loading pickled models, you may need to re-serialize those models with scikit-learn 0.21+.\n",
      "  warnings.warn(msg, category=DeprecationWarning)\n",
      " [py.warnings]\n"
     ]
    }
   ],
   "source": [
    "from brian2 import *\n",
    "from brian2tools import *\n",
    "\n",
    "prefs.codegen.target = 'cython'  # weave is not multiprocess-safe!"
   ]
  },
  {
   "cell_type": "markdown",
   "metadata": {},
   "source": [
    "## Setup Parametrs"
   ]
  },
  {
   "cell_type": "code",
   "execution_count": 3,
   "metadata": {},
   "outputs": [],
   "source": [
    "dt = 0.01*ms\n",
    "defaultclock.dt = dt"
   ]
  },
  {
   "cell_type": "markdown",
   "metadata": {},
   "source": [
    "### Load Input and Output"
   ]
  },
  {
   "cell_type": "code",
   "execution_count": 4,
   "metadata": {},
   "outputs": [],
   "source": [
    "df_inp_traces = pd.read_csv('input_traces_hh.csv')\n",
    "df_out_traces = pd.read_csv('output_traces_hh.csv')"
   ]
  },
  {
   "cell_type": "code",
   "execution_count": 5,
   "metadata": {},
   "outputs": [
    {
     "data": {
      "text/plain": [
       "array([[0.e+00, 0.e+00, 0.e+00, ..., 0.e+00, 0.e+00, 0.e+00],\n",
       "       [2.e-09, 2.e-09, 2.e-09, ..., 0.e+00, 0.e+00, 0.e+00]])"
      ]
     },
     "execution_count": 5,
     "metadata": {},
     "output_type": "execute_result"
    }
   ],
   "source": [
    "inp_traces = df_inp_traces.to_numpy()\n",
    "inp_traces = inp_traces[1:3, 1:]\n",
    "inp_traces"
   ]
  },
  {
   "cell_type": "code",
   "execution_count": 6,
   "metadata": {},
   "outputs": [
    {
     "data": {
      "text/plain": [
       "array([[-63.78548155, -64.75587972, -64.60550311, ..., -64.42127691,\n",
       "        -65.13069593, -64.48718384],\n",
       "       [-62.92648395, -65.82540807, -64.76394825, ..., -64.9418292 ,\n",
       "        -63.8704734 , -63.17105741]])"
      ]
     },
     "execution_count": 6,
     "metadata": {},
     "output_type": "execute_result"
    }
   ],
   "source": [
    "out_traces = df_out_traces.to_numpy()\n",
    "out_traces = out_traces[1:3, 1:]\n",
    "out_traces"
   ]
  },
  {
   "cell_type": "code",
   "execution_count": 7,
   "metadata": {},
   "outputs": [
    {
     "data": {
      "image/png": "[encoded data removed]",
      "text/plain": [
       "<Figure size 720x360 with 2 Axes>"
      ]
     },
     "metadata": {
      "needs_background": "light"
     },
     "output_type": "display_data"
    }
   ],
   "source": [
    "fig, ax = plt.subplots(ncols=2, figsize=(10,5))\n",
    "ax[0].plot(out_traces[0])\n",
    "ax[1].plot(out_traces[1]);"
   ]
  },
  {
   "cell_type": "markdown",
   "metadata": {},
   "source": [
    "# Model Fitting "
   ]
  },
  {
   "cell_type": "code",
   "execution_count": 8,
   "metadata": {},
   "outputs": [],
   "source": [
    "eqs = Equations('''\n",
    "dx/dt = (y - a*x**3 + b*x**2 + 3 * I/nA - z)/time_unit : 1\n",
    "dy/dt = (c - d*x**2 - y)/time_unit : 1\n",
    "dz/dt = r*(s*(x - x_1) - z)/time_unit : 1\n",
    "v = (base + x * scale) * mV :volt\n",
    "base: 1 (constant)\n",
    "scale: 1 (constant)\n",
    "a: 1 (constant)\n",
    "b: 1 (constant)\n",
    "c: 1 (constant)\n",
    "d: 1 (constant)\n",
    "r: 1 (constant)\n",
    "s: 1 (constant)\n",
    "x_1: 1 (constant)\n",
    "''',\n",
    "time_unit=1*ms\n",
    "               )"
   ]
  },
  {
   "cell_type": "code",
   "execution_count": 9,
   "metadata": {},
   "outputs": [],
   "source": [
    "start_scope()\n",
    "n_opt = NevergradOptimizer(method='TwoPointsDE')\n",
    "metric = MSEMetric()"
   ]
  },
  {
   "cell_type": "code",
   "execution_count": 10,
   "metadata": {},
   "outputs": [],
   "source": [
    "def callback(res, errors, parameters, index):\n",
    "    print('index {} errors minimum: {}'.format(index, min(errors)) )"
   ]
  },
  {
   "cell_type": "code",
   "execution_count": 14,
   "metadata": {},
   "outputs": [
    {
     "name": "stdout",
     "output_type": "stream",
     "text": [
      "index 0 errors minimum: 4.687393768251411\n",
      "index 1 errors minimum: 3.6326516245052574\n",
      "index 2 errors minimum: 3.371085373532263\n",
      "index 3 errors minimum: 2.203190119351921\n",
      "index 4 errors minimum: 2.1633886393723145\n",
      "index 5 errors minimum: 2.5996523506156253\n",
      "index 6 errors minimum: 1.9325627178045905\n",
      "index 7 errors minimum: 1.2758211340187766\n",
      "index 8 errors minimum: 1.270970225356769\n",
      "index 9 errors minimum: 1.5363818255072568\n",
      "index 10 errors minimum: 0.9722138233565165\n",
      "index 11 errors minimum: 1.0221380996642888\n",
      "index 12 errors minimum: 1.0396558251963277\n",
      "index 13 errors minimum: 0.7703863347319835\n",
      "index 14 errors minimum: 1.3196450282357928\n",
      "index 15 errors minimum: 0.7717780173652278\n",
      "index 16 errors minimum: 0.7683671494946119\n",
      "index 17 errors minimum: 0.847517915113273\n",
      "index 18 errors minimum: 0.8456237119564487\n",
      "index 19 errors minimum: 1.064382419773692\n",
      "index 20 errors minimum: 0.6993873907779085\n",
      "index 21 errors minimum: 0.6993873907779085\n",
      "index 22 errors minimum: 0.8390864293652561\n",
      "index 23 errors minimum: 0.6993873907779085\n",
      "index 24 errors minimum: 0.7039047220667316\n",
      "index 25 errors minimum: 0.6993575034034822\n",
      "index 26 errors minimum: 0.7614629529421667\n",
      "index 27 errors minimum: 0.7039047220667316\n",
      "index 28 errors minimum: 0.7158038521657712\n",
      "index 29 errors minimum: 0.7071031961553098\n",
      "index 30 errors minimum: 0.7140922801005465\n",
      "index 31 errors minimum: 0.7787075219148083\n",
      "index 32 errors minimum: 0.6849019562040826\n",
      "index 33 errors minimum: 0.7050088005122276\n",
      "index 34 errors minimum: 0.6868216467533901\n",
      "index 35 errors minimum: 0.7179949413937863\n",
      "index 36 errors minimum: 0.6986645752230762\n",
      "index 37 errors minimum: 0.6940784368135176\n",
      "index 38 errors minimum: 0.6849019562040826\n",
      "index 39 errors minimum: 0.6940784368135176\n",
      "index 40 errors minimum: 0.6935929650861018\n",
      "index 41 errors minimum: 0.6986645752230762\n",
      "index 42 errors minimum: 0.6849019562040826\n",
      "index 43 errors minimum: 0.6791154709584436\n",
      "index 44 errors minimum: 0.6806070259119263\n",
      "index 45 errors minimum: 0.6838822127786812\n",
      "index 46 errors minimum: 0.6691795076990718\n",
      "index 47 errors minimum: 0.6806070259119263\n",
      "index 48 errors minimum: 0.6806070259119263\n",
      "index 49 errors minimum: 0.6806070259119263\n",
      "index 50 errors minimum: 0.696900111202575\n",
      "index 51 errors minimum: 0.6806070259119263\n",
      "index 52 errors minimum: 0.6947359880025534\n",
      "index 53 errors minimum: 0.6720097077493241\n",
      "index 54 errors minimum: 0.6766495679253115\n",
      "index 55 errors minimum: 0.6691795076990718\n",
      "index 56 errors minimum: 0.6681571074233679\n",
      "index 57 errors minimum: 0.6691795076990718\n",
      "index 58 errors minimum: 0.6690825620232665\n",
      "index 59 errors minimum: 0.6681571074233679\n",
      "index 60 errors minimum: 0.6701889986886305\n",
      "index 61 errors minimum: 0.6994740940609225\n",
      "index 62 errors minimum: 0.6574149299832661\n",
      "index 63 errors minimum: 0.675825034241251\n",
      "index 64 errors minimum: 0.6694514418876073\n",
      "index 65 errors minimum: 0.6490052605481844\n",
      "index 66 errors minimum: 0.6816435720186058\n",
      "index 67 errors minimum: 0.6560774930605209\n",
      "index 68 errors minimum: 0.6485130529802581\n",
      "index 69 errors minimum: 0.6560774930605209\n",
      "index 70 errors minimum: 0.6574128598867413\n",
      "index 71 errors minimum: 0.6671952538996628\n",
      "index 72 errors minimum: 0.6562761980578825\n",
      "index 73 errors minimum: 0.6513337641600945\n",
      "index 74 errors minimum: 0.6434664204297634\n",
      "index 75 errors minimum: 0.6491673043344406\n",
      "index 76 errors minimum: 0.6434664204297634\n",
      "index 77 errors minimum: 0.6434664204297634\n",
      "index 78 errors minimum: 0.645650568401879\n",
      "index 79 errors minimum: 0.6416763454502464\n",
      "index 80 errors minimum: 0.6434664204297634\n",
      "index 81 errors minimum: 0.6622413625386897\n",
      "index 82 errors minimum: 0.6434664204297634\n",
      "index 83 errors minimum: 0.6438710243301866\n",
      "index 84 errors minimum: 0.6660561274908157\n",
      "index 85 errors minimum: 0.6485130529802581\n",
      "index 86 errors minimum: 0.6438045954974092\n",
      "index 87 errors minimum: 0.6419240753421676\n",
      "index 88 errors minimum: 0.6410675811559012\n",
      "index 89 errors minimum: 0.6383646192769225\n",
      "index 90 errors minimum: 0.6376465880629163\n",
      "index 91 errors minimum: 0.6376465880629163\n",
      "index 92 errors minimum: 0.6341954481089611\n",
      "index 93 errors minimum: 0.6341954481089611\n",
      "index 94 errors minimum: 0.6341965208041777\n",
      "index 95 errors minimum: 0.617592133441843\n",
      "index 96 errors minimum: 0.6296382134253798\n",
      "index 97 errors minimum: 0.617592133441843\n",
      "index 98 errors minimum: 0.6169213296945479\n",
      "index 99 errors minimum: 0.6351216279576941\n"
     ]
    },
    {
     "data": {
      "text/plain": [
       "{'r': 0.002004274690349309,\n",
       " 's': 0.42346893832309984,\n",
       " 'x_1': 4.948777963359355,\n",
       " 'd': 17.941588272727245,\n",
       " 'scale': 21.7258973294241,\n",
       " 'a': 2.8216660176456436,\n",
       " 'base': -28.631450894077688,\n",
       " 'c': 0.9039617005145306,\n",
       " 'b': 10.645759405027784}"
      ]
     },
     "execution_count": 14,
     "metadata": {},
     "output_type": "execute_result"
    }
   ],
   "source": [
    "res, error = fit_traces(model=eqs, input_var='I', output_var='v',\n",
    "                       input=inp_traces * amp, output=out_traces*mV, dt=dt,\n",
    "                       method='rk4',\n",
    "                       callback=callback,\n",
    "                       scale = [10, 50], \n",
    "                       base = [-30, 0],\n",
    "                       a = [0, 20],\n",
    "                       b = [0, 20],\n",
    "                       c = [0, 20],\n",
    "                       d = [0, 20],\n",
    "                       r = [0.0001, 0.01],\n",
    "                       s = [0, 10],\n",
    "                       x_1 = [-5, 5],\n",
    "                       param_init={'x': -1.6, 'y':1 - 5*(-1.6)**2, 'z':0.001*(4*(-1.6 - -1.6))}, \n",
    "                       n_rounds=100, n_samples=30, optimizer=n_opt, metric=metric\n",
    "                       )\n",
    "\n",
    "res"
   ]
  },
  {
   "cell_type": "markdown",
   "metadata": {},
   "source": [
    "## visualization of the results"
   ]
  },
  {
   "cell_type": "code",
   "execution_count": 15,
   "metadata": {},
   "outputs": [],
   "source": [
    "start_scope()\n",
    "fits = generate_fits(model=eqs, method='rk4', params=res,\n",
    "                     input=inp_traces * amp, input_var='I', output_var='v',\n",
    "                     dt=dt, param_init={'x': -1.6, 'y':1 - 5*(-1.6)**2, 'z':0.001*(4*(-1.6 - -1.6))}, \n",
    "                    )\n",
    "\n",
    "x = fits/mV"
   ]
  },
  {
   "cell_type": "code",
   "execution_count": 16,
   "metadata": {},
   "outputs": [
    {
     "data": {
      "image/png": "[encoded data removed]",
      "text/plain": [
       "<Figure size 720x360 with 2 Axes>"
      ]
     },
     "metadata": {
      "needs_background": "light"
     },
     "output_type": "display_data"
    }
   ],
   "source": [
    "fig, ax = plt.subplots(nrows=1, ncols=2, figsize=(10, 5))\n",
    "ax[0].plot(np.arange(len(out_traces[0]))*dt/ms, out_traces[0], label='goal');\n",
    "ax[0].plot(np.arange(len(fits[0]))*dt/ms, fits[0]/mV, label='fit');\n",
    "ax[1].plot(np.arange(len(out_traces[1]))*dt/ms, out_traces[1], label='goal');\n",
    "ax[1].plot(np.arange(len(fits[1]))*dt/ms, fits[1]/mV, label='fit');"
   ]
  },
  {
   "cell_type": "code",
   "execution_count": null,
   "metadata": {},
   "outputs": [],
   "source": []
  }
 ],
 "metadata": {
  "kernelspec": {
   "display_name": "brian_opt",
   "language": "python",
   "name": "brian_opt"
  },
  "language_info": {
   "codemirror_mode": {
    "name": "ipython",
    "version": 3
   },
   "file_extension": ".py",
   "mimetype": "text/x-python",
   "name": "python",
   "nbconvert_exporter": "python",
   "pygments_lexer": "ipython3",
   "version": "3.7.3"
  }
 },
 "nbformat": 4,
 "nbformat_minor": 2
}
