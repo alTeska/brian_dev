{
 "cells": [
  {
   "cell_type": "markdown",
   "metadata": {},
   "source": [
    "# Fit Hindmars Rose into HH model noisy traces"
   ]
  },
  {
   "cell_type": "code",
   "execution_count": 1,
   "metadata": {},
   "outputs": [],
   "source": [
    "import pandas as pd\n",
    "import numpy as np"
   ]
  },
  {
   "cell_type": "code",
   "execution_count": 2,
   "metadata": {},
   "outputs": [
    {
     "name": "stderr",
     "output_type": "stream",
     "text": [
      "WARNING    /home/alteska/anaconda3/envs/brian_opt/lib/python3.7/site-packages/sklearn/externals/joblib/__init__.py:15: DeprecationWarning: sklearn.externals.joblib is deprecated in 0.21 and will be removed in 0.23. Please import this functionality directly from joblib, which can be installed with: pip install joblib. If this warning is raised when loading pickled models, you may need to re-serialize those models with scikit-learn 0.21+.\n",
      "  warnings.warn(msg, category=DeprecationWarning)\n",
      " [py.warnings]\n"
     ]
    }
   ],
   "source": [
    "from brian2 import *\n",
    "from brian2tools import *\n",
    "\n",
    "prefs.codegen.target = 'cython'  # weave is not multiprocess-safe!"
   ]
  },
  {
   "cell_type": "markdown",
   "metadata": {},
   "source": [
    "## Setup Parametrs"
   ]
  },
  {
   "cell_type": "code",
   "execution_count": 3,
   "metadata": {},
   "outputs": [],
   "source": [
    "dt = 0.01*ms\n",
    "defaultclock.dt = dt"
   ]
  },
  {
   "cell_type": "markdown",
   "metadata": {},
   "source": [
    "### Load Input and Output"
   ]
  },
  {
   "cell_type": "code",
   "execution_count": 4,
   "metadata": {},
   "outputs": [],
   "source": [
    "df_inp_traces = pd.read_csv('input_traces_hh.csv')\n",
    "df_out_traces = pd.read_csv('output_traces_hh.csv')"
   ]
  },
  {
   "cell_type": "code",
   "execution_count": 5,
   "metadata": {},
   "outputs": [
    {
     "data": {
      "text/plain": [
       "array([[0., 0., 0., ..., 0., 0., 0.]])"
      ]
     },
     "execution_count": 5,
     "metadata": {},
     "output_type": "execute_result"
    }
   ],
   "source": [
    "inp_traces = df_inp_traces.to_numpy()\n",
    "inp_traces = inp_traces[0:1, 1:]\n",
    "inp_traces"
   ]
  },
  {
   "cell_type": "code",
   "execution_count": 6,
   "metadata": {},
   "outputs": [
    {
     "data": {
      "text/plain": [
       "array([[-63.54211145, -65.52491616, -62.90054542, ..., -81.5252667 ,\n",
       "        -82.30107475, -82.04870895]])"
      ]
     },
     "execution_count": 6,
     "metadata": {},
     "output_type": "execute_result"
    }
   ],
   "source": [
    "out_traces = df_out_traces.to_numpy()\n",
    "out_traces = out_traces[0:1, 1:]\n",
    "out_traces"
   ]
  },
  {
   "cell_type": "code",
   "execution_count": 7,
   "metadata": {},
   "outputs": [
    {
     "data": {
      "image/png": "[encoded data removed]",
      "text/plain": [
       "<Figure size 432x288 with 1 Axes>"
      ]
     },
     "metadata": {
      "needs_background": "light"
     },
     "output_type": "display_data"
    }
   ],
   "source": [
    "plot(out_traces[0]);"
   ]
  },
  {
   "cell_type": "markdown",
   "metadata": {},
   "source": [
    "# Model Fitting "
   ]
  },
  {
   "cell_type": "code",
   "execution_count": 8,
   "metadata": {},
   "outputs": [],
   "source": [
    "eqs = Equations('''\n",
    "dx/dt = (y - a*x**3 + b*x**2 + 3 * I/nA - z)/time_unit : 1\n",
    "dy/dt = (c - d*x**2 - y)/time_unit : 1\n",
    "dz/dt = r*(s*(x - x_1) - z)/time_unit : 1\n",
    "v = (base + x * scale)*mV :volt\n",
    "base: 1 (constant)\n",
    "scale: 1 (constant)\n",
    "a: 1 (constant)\n",
    "b: 1 (constant)\n",
    "c: 1 (constant)\n",
    "d: 1 (constant)\n",
    "r: 1 (constant)\n",
    "s: 1 (constant)\n",
    "x_1: 1 (constant)\n",
    "''',\n",
    "\n",
    "time_unit=1*ms)"
   ]
  },
  {
   "cell_type": "code",
   "execution_count": 9,
   "metadata": {},
   "outputs": [],
   "source": [
    "start_scope()\n",
    "n_opt = NevergradOptimizer(method='TwoPointsDE')\n",
    "metric = MSEMetric()"
   ]
  },
  {
   "cell_type": "code",
   "execution_count": 10,
   "metadata": {},
   "outputs": [],
   "source": [
    "def callback(res, errors, parameters, index):\n",
    "    print('index {} errors minimum: {}'.format(index, min(errors)) )"
   ]
  },
  {
   "cell_type": "code",
   "execution_count": 11,
   "metadata": {},
   "outputs": [
    {
     "name": "stdout",
     "output_type": "stream",
     "text": [
      "index 0 errors minimum: 4.6539386251795385\n",
      "index 1 errors minimum: 3.6829705227428375\n",
      "index 2 errors minimum: 3.9522523767551103\n",
      "index 3 errors minimum: 4.014420179804709\n",
      "index 4 errors minimum: 3.904956102305288\n",
      "index 5 errors minimum: 3.2859719002728194\n",
      "index 6 errors minimum: 2.943947851701983\n",
      "index 7 errors minimum: 1.7590133125844245\n",
      "index 8 errors minimum: 1.3164432614446646\n",
      "index 9 errors minimum: 1.6810808478095773\n",
      "index 10 errors minimum: 1.5240443413686169\n",
      "index 11 errors minimum: 1.6037877364703383\n",
      "index 12 errors minimum: 1.6564910155240467\n",
      "index 13 errors minimum: 1.5574894410229385\n",
      "index 14 errors minimum: 1.3835457483351927\n",
      "index 15 errors minimum: 1.3835457483351927\n",
      "index 16 errors minimum: 1.3619082283023305\n",
      "index 17 errors minimum: 1.1302641320016213\n",
      "index 18 errors minimum: 1.2742360511644693\n",
      "index 19 errors minimum: 1.1302641320016213\n",
      "index 20 errors minimum: 1.2564686351933878\n",
      "index 21 errors minimum: 1.2564686351933878\n",
      "index 22 errors minimum: 1.2614942750815699\n",
      "index 23 errors minimum: 1.1115397255343002\n",
      "index 24 errors minimum: 1.2481087850275314\n",
      "index 25 errors minimum: 1.2686373855645354\n",
      "index 26 errors minimum: 1.1115397255343002\n",
      "index 27 errors minimum: 1.2748116683422748\n",
      "index 28 errors minimum: 1.2262752329480566\n",
      "index 29 errors minimum: 1.127911507362029\n",
      "index 30 errors minimum: 1.2335302145475278\n",
      "index 31 errors minimum: 1.2831554119139743\n",
      "index 32 errors minimum: 1.1789466204744579\n",
      "index 33 errors minimum: 1.2252155981799095\n",
      "index 34 errors minimum: 1.0758186704419639\n",
      "index 35 errors minimum: 1.1789466204744579\n",
      "index 36 errors minimum: 1.2481087850275314\n",
      "index 37 errors minimum: 1.1760743973128662\n",
      "index 38 errors minimum: 1.2226564956052302\n",
      "index 39 errors minimum: 1.121109856149429\n",
      "index 40 errors minimum: 1.1869462725000883\n",
      "index 41 errors minimum: 1.0770413141224648\n",
      "index 42 errors minimum: 1.0758186704419639\n",
      "index 43 errors minimum: 1.1834508801945234\n",
      "index 44 errors minimum: 1.0516469612830688\n",
      "index 45 errors minimum: 1.1789466204744579\n",
      "index 46 errors minimum: 1.1036730138185917\n",
      "index 47 errors minimum: 1.0937655205291494\n",
      "index 48 errors minimum: 1.1348049659162234\n",
      "index 49 errors minimum: 1.0652931034739122\n",
      "index 50 errors minimum: 0.999715592464978\n",
      "index 51 errors minimum: 1.2138071343025985\n",
      "index 52 errors minimum: 1.0770413141224648\n",
      "index 53 errors minimum: 0.7399623598291009\n",
      "index 54 errors minimum: 1.0976233550775634\n",
      "index 55 errors minimum: 1.0460749431455725\n",
      "index 56 errors minimum: 1.0780881942237568\n",
      "index 57 errors minimum: 0.7418363956506113\n",
      "index 58 errors minimum: 0.7399623598291009\n",
      "index 59 errors minimum: 1.0327579511281155\n",
      "index 60 errors minimum: 1.040198165570536\n",
      "index 61 errors minimum: 0.6236674652188829\n",
      "index 62 errors minimum: 0.7057866343761716\n",
      "index 63 errors minimum: 1.0652931034739122\n",
      "index 64 errors minimum: 0.6230416992704115\n",
      "index 65 errors minimum: 1.0254064466534076\n",
      "index 66 errors minimum: 1.0327579511281155\n",
      "index 67 errors minimum: 0.6808101213404\n",
      "index 68 errors minimum: 0.6230416992704115\n",
      "index 69 errors minimum: 1.010651179574055\n",
      "index 70 errors minimum: 1.040198165570536\n",
      "index 71 errors minimum: 0.9924752720906955\n",
      "index 72 errors minimum: 0.9924752720906955\n",
      "index 73 errors minimum: 1.0652931034739122\n",
      "index 74 errors minimum: 1.002422487160736\n",
      "index 75 errors minimum: 0.6239111489766473\n",
      "index 76 errors minimum: 0.6230416992704115\n",
      "index 77 errors minimum: 1.0246993434775158\n",
      "index 78 errors minimum: 0.9830753870510105\n",
      "index 79 errors minimum: 1.0391497908377887\n",
      "index 80 errors minimum: 0.8808339520930663\n",
      "index 81 errors minimum: 1.002422487160736\n",
      "index 82 errors minimum: 1.002422487160736\n",
      "index 83 errors minimum: 0.9924752720906955\n",
      "index 84 errors minimum: 0.705052031682936\n",
      "index 85 errors minimum: 1.0391497908377887\n",
      "index 86 errors minimum: 0.8212609723947848\n",
      "index 87 errors minimum: 1.0103434118928196\n",
      "index 88 errors minimum: 1.0331243858097368\n",
      "index 89 errors minimum: 0.8212609723947848\n",
      "index 90 errors minimum: 0.7573821118238477\n",
      "index 91 errors minimum: 0.705052031682936\n",
      "index 92 errors minimum: 0.8212609723947848\n",
      "index 93 errors minimum: 0.6859105518124667\n",
      "index 94 errors minimum: 0.8633403121820945\n",
      "index 95 errors minimum: 0.6230416992704115\n",
      "index 96 errors minimum: 0.6430115551794423\n",
      "index 97 errors minimum: 1.0254064466534076\n",
      "index 98 errors minimum: 1.002422487160736\n",
      "index 99 errors minimum: 0.9789943802417382\n"
     ]
    },
    {
     "data": {
      "text/plain": [
       "{'base': -26.933343632666453,\n",
       " 'a': 1.768523857164853,\n",
       " 'b': 8.475646490292387,\n",
       " 'r': 0.007769861563136966,\n",
       " 'c': 3.8203142379430695,\n",
       " 'd': 15.601352359404746,\n",
       " 'scale': 18.68517581646187,\n",
       " 's': 0.386388384595028,\n",
       " 'x_1': -0.0104106850998105}"
      ]
     },
     "execution_count": 11,
     "metadata": {},
     "output_type": "execute_result"
    }
   ],
   "source": [
    "res, error = fit_traces(model=eqs, input_var='I', output_var='v',\n",
    "                       input=inp_traces * amp, output=out_traces*mV, dt=dt,\n",
    "                       method='rk4',\n",
    "                       callback=callback,\n",
    "                       scale = [10, 50], \n",
    "                       base = [-30, 0],\n",
    "                       a = [0, 20],\n",
    "                       b = [0, 20],\n",
    "                       c = [0, 20],\n",
    "                       d = [0, 20],\n",
    "                       r = [0.0001, 0.01],\n",
    "                       s = [0, 10],\n",
    "                       x_1 = [-5, 5],\n",
    "                       param_init={'x': -1.6, 'y':1 - 5*(-1.6)**2, 'z':0.001*(4*(-1.6 - -1.6))}, \n",
    "                       n_rounds=100, n_samples=30, optimizer=n_opt, metric=metric\n",
    "                       )\n",
    "\n",
    "res"
   ]
  },
  {
   "cell_type": "markdown",
   "metadata": {},
   "source": [
    "### visualization of the results"
   ]
  },
  {
   "cell_type": "code",
   "execution_count": 12,
   "metadata": {},
   "outputs": [],
   "source": [
    "start_scope()\n",
    "fits = generate_fits(model=eqs, method='rk4', params=res,\n",
    "                     input=inp_traces * amp, input_var='I', output_var='v',\n",
    "                     dt=dt, param_init={'x': -1.6, 'y':1 - 5*(-1.6)**2, 'z':0.001*(4*(-1.6 - -1.6))}, \n",
    "                    )\n",
    "\n",
    "x = fits/mV"
   ]
  },
  {
   "cell_type": "code",
   "execution_count": 13,
   "metadata": {},
   "outputs": [
    {
     "data": {
      "image/png": "[encoded data removed]",
      "text/plain": [
       "<Figure size 432x288 with 1 Axes>"
      ]
     },
     "metadata": {
      "needs_background": "light"
     },
     "output_type": "display_data"
    }
   ],
   "source": [
    "plot(np.arange(len(out_traces[0]))*dt/ms, out_traces[0], label='goal');\n",
    "plot(np.arange(len(fits[0]))*dt/ms, fits[0]/mV, label='fit');"
   ]
  },
  {
   "cell_type": "markdown",
   "metadata": {},
   "source": [
    "# Second Trace"
   ]
  },
  {
   "cell_type": "code",
   "execution_count": 21,
   "metadata": {},
   "outputs": [
    {
     "data": {
      "text/plain": [
       "array([[0., 0., 0., ..., 0., 0., 0.]])"
      ]
     },
     "execution_count": 21,
     "metadata": {},
     "output_type": "execute_result"
    }
   ],
   "source": [
    "inp_traces = df_inp_traces.to_numpy()\n",
    "inp_traces = inp_traces[1:2, 1:]\n",
    "inp_traces"
   ]
  },
  {
   "cell_type": "code",
   "execution_count": 24,
   "metadata": {},
   "outputs": [
    {
     "data": {
      "text/plain": [
       "array([[-63.78548155, -64.75587972, -64.60550311, ..., -64.42127691,\n",
       "        -65.13069593, -64.48718384]])"
      ]
     },
     "execution_count": 24,
     "metadata": {},
     "output_type": "execute_result"
    }
   ],
   "source": [
    "out_traces = df_out_traces.to_numpy()\n",
    "out_traces = out_traces[1:2, 1:]\n",
    "out_traces"
   ]
  },
  {
   "cell_type": "code",
   "execution_count": 25,
   "metadata": {},
   "outputs": [
    {
     "data": {
      "image/png": "[encoded data removed]",
      "text/plain": [
       "<Figure size 432x288 with 1 Axes>"
      ]
     },
     "metadata": {
      "needs_background": "light"
     },
     "output_type": "display_data"
    }
   ],
   "source": [
    "plot(out_traces[0]);"
   ]
  },
  {
   "cell_type": "markdown",
   "metadata": {},
   "source": [
    "# Model Fitting "
   ]
  },
  {
   "cell_type": "code",
   "execution_count": 26,
   "metadata": {},
   "outputs": [],
   "source": [
    "eqs = Equations('''\n",
    "dx/dt = (y - a*x**3 + b*x**2 + 3 * I/nA - z)/time_unit : 1\n",
    "dy/dt = (c - d*x**2 - y)/time_unit : 1\n",
    "dz/dt = r*(s*(x - x_1) - z)/time_unit : 1\n",
    "v = (base + x * scale)*mV :volt\n",
    "base: 1 (constant)\n",
    "scale: 1 (constant)\n",
    "a: 1 (constant)\n",
    "b: 1 (constant)\n",
    "c: 1 (constant)\n",
    "d: 1 (constant)\n",
    "r: 1 (constant)\n",
    "s: 1 (constant)\n",
    "x_1: 1 (constant)\n",
    "''',\n",
    "\n",
    "time_unit=1*ms)"
   ]
  },
  {
   "cell_type": "code",
   "execution_count": 27,
   "metadata": {},
   "outputs": [],
   "source": [
    "start_scope()\n",
    "n_opt = NevergradOptimizer(method='TwoPointsDE')\n",
    "metric = MSEMetric()"
   ]
  },
  {
   "cell_type": "code",
   "execution_count": 28,
   "metadata": {},
   "outputs": [],
   "source": [
    "def callback(res, errors, parameters, index):\n",
    "    print('index {} errors minimum: {}'.format(index, min(errors)) )"
   ]
  },
  {
   "cell_type": "code",
   "execution_count": 29,
   "metadata": {},
   "outputs": [
    {
     "name": "stdout",
     "output_type": "stream",
     "text": [
      "index 0 errors minimum: 3.8219896990307065\n",
      "index 1 errors minimum: 0.5780033133289342\n",
      "index 2 errors minimum: 0.5780033133289342\n",
      "index 3 errors minimum: 0.6130372976175761\n",
      "index 4 errors minimum: 0.76893893734913\n",
      "index 5 errors minimum: 0.6344361000655496\n",
      "index 6 errors minimum: 0.6344361000655496\n",
      "index 7 errors minimum: 0.6033522861604284\n",
      "index 8 errors minimum: 0.5801162012067164\n",
      "index 9 errors minimum: 0.5960779563572779\n",
      "index 10 errors minimum: 0.6369858694393464\n",
      "index 11 errors minimum: 0.5780033133289342\n",
      "index 12 errors minimum: 0.5764412123096053\n",
      "index 13 errors minimum: 0.5902513286722082\n",
      "index 14 errors minimum: 0.5862156165602873\n",
      "index 15 errors minimum: 0.5849264028977296\n",
      "index 16 errors minimum: 0.5764412123096053\n",
      "index 17 errors minimum: 0.58369391511955\n",
      "index 18 errors minimum: 0.5850401602998341\n",
      "index 19 errors minimum: 0.5764412123096053\n",
      "index 20 errors minimum: 0.573237601926785\n",
      "index 21 errors minimum: 0.573237601926785\n",
      "index 22 errors minimum: 0.5685645464815406\n",
      "index 23 errors minimum: 0.5664167645728182\n",
      "index 24 errors minimum: 0.5649997785476166\n",
      "index 25 errors minimum: 0.5780033133289342\n",
      "index 26 errors minimum: 0.20632395218277344\n",
      "index 27 errors minimum: 0.20632395218277344\n",
      "index 28 errors minimum: 0.5664429767935931\n",
      "index 29 errors minimum: 0.5706093309686656\n",
      "index 30 errors minimum: 0.5369261328111294\n",
      "index 31 errors minimum: 0.1823325260927725\n",
      "index 32 errors minimum: 0.1823325260927725\n",
      "index 33 errors minimum: 0.5664429767935931\n",
      "index 34 errors minimum: 0.5358965812771017\n",
      "index 35 errors minimum: 0.1889464508206545\n",
      "index 36 errors minimum: 0.24306610062712075\n",
      "index 37 errors minimum: 0.19683531529368944\n",
      "index 38 errors minimum: 0.2041418305976306\n",
      "index 39 errors minimum: 0.5681611348033954\n",
      "index 40 errors minimum: 0.2934479458843743\n",
      "index 41 errors minimum: 0.5622584548384857\n",
      "index 42 errors minimum: 0.5610490698684212\n",
      "index 43 errors minimum: 0.5725075918863392\n",
      "index 44 errors minimum: 0.5242575349794198\n",
      "index 45 errors minimum: 0.562267209579761\n",
      "index 46 errors minimum: 0.5621935400306319\n",
      "index 47 errors minimum: 0.1823325260927725\n",
      "index 48 errors minimum: 0.1823325260927725\n",
      "index 49 errors minimum: 0.1507307705465148\n",
      "index 50 errors minimum: 0.4802631320225589\n",
      "index 51 errors minimum: 0.4588149064627046\n",
      "index 52 errors minimum: 0.5664429767935931\n",
      "index 53 errors minimum: 0.25523514543347764\n",
      "index 54 errors minimum: 0.1507307705465148\n",
      "index 55 errors minimum: 0.15041493415123286\n",
      "index 56 errors minimum: 0.5610490698684212\n",
      "index 57 errors minimum: 0.5610490698684212\n",
      "index 58 errors minimum: 0.5718601479364356\n",
      "index 59 errors minimum: 0.26205488967583607\n",
      "index 60 errors minimum: 0.25523514543347764\n",
      "index 61 errors minimum: 0.5664429767935931\n",
      "index 62 errors minimum: 0.5635130155004726\n",
      "index 63 errors minimum: 0.568868142687244\n",
      "index 64 errors minimum: 0.15066760173910576\n",
      "index 65 errors minimum: 0.21147122348125313\n",
      "index 66 errors minimum: 0.2348940932108759\n",
      "index 67 errors minimum: 0.5667126853650161\n",
      "index 68 errors minimum: 0.21147122348125313\n",
      "index 69 errors minimum: 0.5643258365279383\n",
      "index 70 errors minimum: 0.21147122348125313\n",
      "index 71 errors minimum: 0.5619548802857002\n",
      "index 72 errors minimum: 0.5734157839795603\n",
      "index 73 errors minimum: 0.21127035146402068\n",
      "index 74 errors minimum: 0.21127035146402068\n",
      "index 75 errors minimum: 0.15041493415123286\n",
      "index 76 errors minimum: 0.5644606715818411\n",
      "index 77 errors minimum: 0.5589379364054602\n",
      "index 78 errors minimum: 0.5635090045845621\n",
      "index 79 errors minimum: 0.5664429767935931\n",
      "index 80 errors minimum: 0.568868142687244\n",
      "index 81 errors minimum: 0.2512671869342259\n",
      "index 82 errors minimum: 0.15458689757590827\n",
      "index 83 errors minimum: 0.5657751629131439\n",
      "index 84 errors minimum: 0.5642951014559685\n",
      "index 85 errors minimum: 0.5619520396315875\n",
      "index 86 errors minimum: 0.2061012186182889\n",
      "index 87 errors minimum: 0.562548601309756\n",
      "index 88 errors minimum: 0.562548601309756\n",
      "index 89 errors minimum: 0.15041493415123286\n",
      "index 90 errors minimum: 0.15041493415123286\n",
      "index 91 errors minimum: 0.38365809540617457\n",
      "index 92 errors minimum: 0.38365809540617457\n",
      "index 93 errors minimum: 0.5589379364054602\n",
      "index 94 errors minimum: 0.5589379364054602\n",
      "index 95 errors minimum: 0.5588848153479589\n",
      "index 96 errors minimum: 0.15041493415123286\n",
      "index 97 errors minimum: 0.15041493415123286\n",
      "index 98 errors minimum: 0.19062739537125425\n",
      "index 99 errors minimum: 0.17188785479438473\n"
     ]
    },
    {
     "data": {
      "text/plain": [
       "{'base': -28.017263353359365,\n",
       " 'a': 3.797843840443237,\n",
       " 'b': 10.322554797746303,\n",
       " 'r': 0.009204664149461412,\n",
       " 'c': 2.914200041200181,\n",
       " 'd': 16.494991214567378,\n",
       " 'scale': 38.49190638045689,\n",
       " 's': 6.863813968431657,\n",
       " 'x_1': -4.377809547849507}"
      ]
     },
     "execution_count": 29,
     "metadata": {},
     "output_type": "execute_result"
    }
   ],
   "source": [
    "res, error = fit_traces(model=eqs, input_var='I', output_var='v',\n",
    "                       input=inp_traces * amp, output=out_traces*mV, dt=dt,\n",
    "                       method='rk4',\n",
    "                       callback=callback,\n",
    "                       scale = [10, 50], \n",
    "                       base = [-30, 0],\n",
    "                       a = [0, 20],\n",
    "                       b = [0, 20],\n",
    "                       c = [0, 20],\n",
    "                       d = [0, 20],\n",
    "                       r = [0.0001, 0.01],\n",
    "                       s = [0, 10],\n",
    "                       x_1 = [-5, 5],\n",
    "                       param_init={'x': -1.6, 'y':1 - 5*(-1.6)**2, 'z':0.001*(4*(-1.6 - -1.6))}, \n",
    "                       n_rounds=100, n_samples=30, optimizer=n_opt, metric=metric\n",
    "                       )\n",
    "\n",
    "res"
   ]
  },
  {
   "cell_type": "markdown",
   "metadata": {},
   "source": [
    "### visualization of the results"
   ]
  },
  {
   "cell_type": "code",
   "execution_count": 32,
   "metadata": {},
   "outputs": [],
   "source": [
    "start_scope()\n",
    "fits = generate_fits(model=eqs, method='rk4', params=res,\n",
    "                     input=inp_traces * amp, input_var='I', output_var='v',\n",
    "                     dt=dt, param_init={'x': -1.6, 'y':1 - 5*(-1.6)**2, 'z':0.001*(4*(-1.6 - -1.6))}, \n",
    "                    )\n",
    "\n",
    "x = fits/mV"
   ]
  },
  {
   "cell_type": "code",
   "execution_count": 34,
   "metadata": {},
   "outputs": [
    {
     "data": {
      "image/png": "[encoded data removed]",
      "text/plain": [
       "<Figure size 432x288 with 1 Axes>"
      ]
     },
     "metadata": {
      "needs_background": "light"
     },
     "output_type": "display_data"
    }
   ],
   "source": [
    "plot(np.arange(len(out_traces[0]))*dt/ms, out_traces[0], label='goal');\n",
    "plot(np.arange(len(fits[0]))*dt/ms, fits[0]/mV, label='fit');"
   ]
  }
 ],
 "metadata": {
  "kernelspec": {
   "display_name": "brian_opt",
   "language": "python",
   "name": "brian_opt"
  },
  "language_info": {
   "codemirror_mode": {
    "name": "ipython",
    "version": 3
   },
   "file_extension": ".py",
   "mimetype": "text/x-python",
   "name": "python",
   "nbconvert_exporter": "python",
   "pygments_lexer": "ipython3",
   "version": "3.7.3"
  }
 },
 "nbformat": 4,
 "nbformat_minor": 2
}
