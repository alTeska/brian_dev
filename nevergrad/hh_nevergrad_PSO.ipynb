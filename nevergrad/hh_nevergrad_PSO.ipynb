{
 "cells": [
  {
   "cell_type": "markdown",
   "metadata": {},
   "source": [
    "# Notebook Vizualising Sample Results of Few Methods Avaliable in Nevergrad"
   ]
  },
  {
   "cell_type": "code",
   "execution_count": 1,
   "metadata": {},
   "outputs": [],
   "source": [
    "from brian2 import *\n",
    "from brian2tools import *\n",
    "from nevergrad.optimization import optimizerlib\n",
    "from nevergrad import instrumentation as inst"
   ]
  },
  {
   "cell_type": "code",
   "execution_count": 2,
   "metadata": {},
   "outputs": [],
   "source": [
    "%matplotlib inline\n",
    "prefs.codegen.target = 'cython'  # weave is not multiprocess-safe!\n",
    "candidates, parameters = [], []"
   ]
  },
  {
   "cell_type": "markdown",
   "metadata": {},
   "source": [
    "## Setup Model to be Fit"
   ]
  },
  {
   "cell_type": "markdown",
   "metadata": {},
   "source": [
    "### Parameters"
   ]
  },
  {
   "cell_type": "code",
   "execution_count": 3,
   "metadata": {},
   "outputs": [],
   "source": [
    "area = 20000*umetre**2\n",
    "Cm = 1*ufarad*cm**-2 * area\n",
    "El = -65*mV\n",
    "EK = -90*mV\n",
    "ENa = 50*mV\n",
    "VT = -63*mV"
   ]
  },
  {
   "cell_type": "markdown",
   "metadata": {},
   "source": [
    "### Generate a step-current input and an \"experimental\" voltage trace"
   ]
  },
  {
   "cell_type": "code",
   "execution_count": 4,
   "metadata": {},
   "outputs": [],
   "source": [
    "dt = 0.01*ms\n",
    "input_current = np.hstack([np.zeros(int(5*ms/dt)), np.ones(int(5*ms/dt)), np.zeros(int(5*ms/dt))])*nA\n",
    "\n",
    "N, n1 = np.array([input_current]).shape\n",
    "params_correct = {'gl': float(5e-5*siemens*cm**-2 * area),\n",
    "          'g_na': float(100*msiemens*cm**-2 * area),\n",
    "          'g_kd': float(30*msiemens*cm**-2 * area)}\n",
    "\n",
    "defaultclock.dt = dt\n",
    "I = TimedArray(input_current, dt=dt)"
   ]
  },
  {
   "cell_type": "markdown",
   "metadata": {},
   "source": [
    "### The model"
   ]
  },
  {
   "cell_type": "code",
   "execution_count": 5,
   "metadata": {},
   "outputs": [],
   "source": [
    "eqsHH = Equations('''\n",
    "dv/dt = (gl*(El-v) - g_na*(m*m*m)*h*(v-ENa) - g_kd*(n*n*n*n)*(v-EK) + I(t))/Cm : volt\n",
    "dm/dt = 0.32*(mV**-1)*(13.*mV-v+VT)/\n",
    "    (exp((13.*mV-v+VT)/(4.*mV))-1.)/ms*(1-m)-0.28*(mV**-1)*(v-VT-40.*mV)/\n",
    "    (exp((v-VT-40.*mV)/(5.*mV))-1.)/ms*m : 1\n",
    "dn/dt = 0.032*(mV**-1)*(15.*mV-v+VT)/\n",
    "    (exp((15.*mV-v+VT)/(5.*mV))-1.)/ms*(1.-n)-.5*exp((10.*mV-v+VT)/(40.*mV))/ms*n : 1\n",
    "dh/dt = 0.128*exp((17.*mV-v+VT)/(18.*mV))/ms*(1.-h)-4./(1+exp((40.*mV-v+VT)/(5.*mV)))/ms*h : 1\n",
    "g_na : siemens (constant)\n",
    "g_kd : siemens (constant)\n",
    "gl   : siemens (constant)\n",
    "''')\n",
    "\n",
    "G = NeuronGroup(1, eqsHH, method='exponential_euler')\n",
    "G.v = El\n",
    "G.set_states(params_correct, units=False)\n",
    "mon = StateMonitor(G, 'v', record=0)\n",
    "run(20*ms)\n",
    "\n",
    "voltage = mon.v[0]/mV\n",
    "voltage += np.random.randn(len(voltage))\n",
    "\n",
    "inp_trace = np.array([input_current])\n",
    "\n",
    "n0, n1 = inp_trace.shape\n",
    "out_trace = np.array([voltage[:n1]])"
   ]
  },
  {
   "cell_type": "markdown",
   "metadata": {},
   "source": [
    "## Setup Model for Modelfitting"
   ]
  },
  {
   "cell_type": "markdown",
   "metadata": {},
   "source": [
    "### Model for modelfitting"
   ]
  },
  {
   "cell_type": "code",
   "execution_count": 6,
   "metadata": {},
   "outputs": [],
   "source": [
    "eqs = Equations(\n",
    "'''\n",
    "dv/dt = (gl*(El-v) - g_na*(m*m*m)*h*(v-ENa) - g_kd*(n*n*n*n)*(v-EK) + I)/Cm : volt\n",
    "dm/dt = 0.32*(mV**-1)*(13.*mV-v+VT)/\n",
    "    (exp((13.*mV-v+VT)/(4.*mV))-1.)/ms*(1-m)-0.28*(mV**-1)*(v-VT-40.*mV)/\n",
    "    (exp((v-VT-40.*mV)/(5.*mV))-1.)/ms*m : 1\n",
    "dn/dt = 0.032*(mV**-1)*(15.*mV-v+VT)/\n",
    "    (exp((15.*mV-v+VT)/(5.*mV))-1.)/ms*(1.-n)-.5*exp((10.*mV-v+VT)/(40.*mV))/ms*n : 1\n",
    "dh/dt = 0.128*exp((17.*mV-v+VT)/(18.*mV))/ms*(1.-h)-4./(1+exp((40.*mV-v+VT)/(5.*mV)))/ms*h : 1\n",
    "g_na : siemens (constant)\n",
    "g_kd : siemens (constant)\n",
    "gl   : siemens (constant)\n",
    "''',\n",
    "Cm = 1*ufarad*cm**-2 * area, El = -65*mV, EK = -90*mV, ENa = 50*mV, VT = -63*mV)"
   ]
  },
  {
   "cell_type": "markdown",
   "metadata": {},
   "source": [
    "### setup the nevergrad optimizer"
   ]
  },
  {
   "cell_type": "code",
   "execution_count": 7,
   "metadata": {},
   "outputs": [],
   "source": [
    "arg1 = inst.var.Array(1).bounded(1e-7*siemens*cm**-2 * area, 1e-4*siemens*cm**-2 * area).asscalar()\n",
    "arg2 = inst.var.Array(1).bounded(1*msiemens*cm**-2 * area, 2000*msiemens*cm**-2 * area).asscalar()\n",
    "arg3 = inst.var.Array(1).bounded(1*msiemens*cm**-2 * area, 1000*msiemens*cm**-2 * area).asscalar()\n",
    "instrum = inst.Instrumentation(arg1, arg2, arg3)\n",
    "optim = optimizerlib.registry['PSO'](instrumentation=instrum, num_workers=100)"
   ]
  },
  {
   "cell_type": "markdown",
   "metadata": {},
   "source": [
    "### Get Parameters From Ask"
   ]
  },
  {
   "cell_type": "code",
   "execution_count": 8,
   "metadata": {},
   "outputs": [],
   "source": [
    "for _ in range(20):\n",
    "    cand = optim.ask()\n",
    "    candidates.append(cand)\n",
    "    parameters.append(list(cand.args))"
   ]
  },
  {
   "cell_type": "code",
   "execution_count": 9,
   "metadata": {},
   "outputs": [
    {
     "data": {
      "text/plain": [
       "[[7.785123119518497e-09, 1.5391573856402402e-05, 1.5640802645653574e-05],\n",
       " [9.436144971471895e-09, 2.09306959916967e-05, 7.476464462703784e-06],\n",
       " [1.5960100434031287e-08, 2.5568378998381493e-05, 1.3431728451499802e-05],\n",
       " [7.930013701410937e-09, 1.2411959890220245e-05, 1.3961620352579585e-05],\n",
       " [1.2807854051363507e-08, 2.4588011577114605e-05, 4.822332913590714e-06],\n",
       " [1.282736699357748e-08, 1.0198653237247499e-05, 1.5158147270586274e-05],\n",
       " [1.2572574244041112e-08, 2.2616126521461363e-05, 6.333450283693077e-06],\n",
       " [4.381670154041929e-09, 2.7648896752879212e-05, 4.5152544369667095e-06],\n",
       " [1.0989950203577866e-08, 2.9965519757029793e-05, 1.2717239307856141e-05],\n",
       " [1.2143084899167011e-08, 1.6457146576953918e-05, 5.535175781557628e-06],\n",
       " [1.67982722246288e-08, 2.421725990018244e-05, 3.6406380785797726e-06],\n",
       " [1.3247452687725812e-08, 6.284597109250448e-06, 1.1910527124973756e-05],\n",
       " [1.4851345331115922e-08, 8.378787619092613e-06, 1.633818566419152e-05],\n",
       " [1.2138587195744413e-08, 1.5930829172472228e-05, 1.1566606278332443e-05],\n",
       " [5.884903336548254e-09, 2.030098419973313e-05, 8.691207274737312e-06],\n",
       " [9.602795151079863e-09, 1.5392190333700363e-05, 1.0136388311461213e-05],\n",
       " [5.218447450182585e-09, 2.4237073927662876e-05, 1.1418882167210022e-05],\n",
       " [9.56902949255826e-09, 1.8999367241555405e-05, 1.2045905389673675e-05],\n",
       " [1.6484124123091374e-08, 1.1620738043427118e-05, 6.043599274316952e-06],\n",
       " [5.390776467540489e-09, 1.4145696776360069e-05, 1.7367052545645174e-05],\n",
       " [4.6079133041647786e-09, 2.9272501197220127e-05, 5.22194837719308e-06],\n",
       " [5.080700965924533e-09, 2.355793880483045e-05, 1.301421615244692e-05],\n",
       " [1.4250683664737295e-08, 2.521023075837483e-05, 4.55665230372395e-06],\n",
       " [1.7283487437193633e-08, 2.7399014858080356e-05, 7.325963208983715e-06],\n",
       " [9.078186751992644e-09, 9.177977239429791e-06, 9.816149118932668e-06],\n",
       " [9.07378811240742e-09, 6.78840444781987e-06, 7.332655703734158e-06],\n",
       " [7.690831207218344e-09, 3.1998213093299056e-05, 1.2693528594688154e-05],\n",
       " [1.2759983651681877e-08, 3.0461866257537516e-05, 1.4334362312297602e-05],\n",
       " [1.6537583482619698e-08, 2.854500948119322e-05, 1.4586370951537505e-05],\n",
       " [1.547503868199618e-08, 1.1705228073949376e-05, 8.484966409579424e-06],\n",
       " [1.535543381370944e-08, 3.291091982489188e-05, 1.6266496220546068e-05],\n",
       " [8.81164265747961e-09, 7.542793797589929e-06, 1.3285463597868091e-05],\n",
       " [1.10132177569408e-08, 1.170775572312596e-05, 1.0281788814253247e-05],\n",
       " [4.094255263741399e-09, 1.4008377810920692e-05, 1.1978262219923888e-05],\n",
       " [1.1646885861926028e-08, 2.754230602147749e-05, 4.0524165884909665e-06],\n",
       " [1.2659674896747393e-08, 1.8902094840190805e-05, 6.431226398078367e-06],\n",
       " [1.2265515396119497e-08, 1.251129375002978e-05, 9.451984803366557e-06],\n",
       " [4.964379856733209e-09, 8.461631930795143e-06, 1.5424118710214967e-05],\n",
       " [5.2631418730547705e-09, 2.8481740587880945e-05, 3.4921943252763367e-06],\n",
       " [1.054395962836676e-08, 1.0348422340415871e-05, 1.4723302504614136e-05],\n",
       " [8.939049530490856e-09, 1.0256087646421833e-05, 6.380070717721533e-06],\n",
       " [6.428143639527227e-09, 1.1368519884386306e-05, 1.5299566532921243e-05],\n",
       " [1.4119615451678132e-08, 1.8110586602996366e-05, 1.4976707467277182e-05],\n",
       " [4.334259372014497e-09, 1.5123600455198539e-05, 5.6536061962206915e-06],\n",
       " [1.4336316605711601e-08, 2.8705424587884474e-05, 1.2833036826904415e-05],\n",
       " [6.91968613573263e-09, 7.577614177387097e-06, 1.2513958973622834e-05],\n",
       " [4.040270622478988e-09, 7.600456944171069e-06, 1.0351665564579359e-05],\n",
       " [6.376609812580217e-09, 1.7763268482787014e-05, 1.2023493661960038e-05],\n",
       " [9.348035963292507e-09, 7.614506758539054e-06, 4.174120920638203e-06],\n",
       " [8.013836023074553e-09, 2.1415313204959215e-05, 9.22424774453644e-06],\n",
       " [6.766366135877475e-09, 2.5059919593193665e-05, 1.6971008281068296e-05],\n",
       " [3.7108867067735376e-09, 1.954965394491712e-05, 1.4742774290858034e-05],\n",
       " [3.8774003596750436e-09, 2.5128064150345488e-05, 7.465009294769652e-06],\n",
       " [2.2237923705806802e-09, 2.7778853247155545e-05, 9.968430885751358e-06],\n",
       " [3.8670135565492846e-09, 6.085467523481123e-06, 5.658500368451785e-06],\n",
       " [1.66495029902918e-08, 2.2385645230060116e-05, 5.801975456998657e-06],\n",
       " [1.447565605430041e-08, 3.5452822040124134e-05, 1.4988102145536698e-05],\n",
       " [4.493033832783808e-09, 2.0652712370801072e-05, 1.4687929453068069e-05],\n",
       " [3.4276174232393248e-09, 1.2682321585523942e-05, 6.163230711889701e-06],\n",
       " [1.5997805991970862e-08, 1.361306416226069e-05, 5.419004914355002e-06],\n",
       " [1.254472294409439e-08, 3.5193492723098826e-05, 1.4203721856568297e-05],\n",
       " [1.3724585673148064e-08, 1.3548316992147192e-05, 5.872393396385351e-06],\n",
       " [1.1507007916457125e-08, 7.719474480835549e-06, 9.062125447817955e-06],\n",
       " [1.385309212418961e-08, 7.1600200156383904e-06, 7.930844269789637e-06],\n",
       " [1.4806940572921494e-08, 2.9691521221530032e-05, 3.0419250108898762e-06],\n",
       " [4.698785213362112e-09, 2.5845935758598518e-05, 6.134076668166109e-06],\n",
       " [1.4306125520808e-08, 1.671996494630694e-05, 3.7903391168761573e-06],\n",
       " [1.6574682135438926e-08, 2.018962936314254e-05, 6.878100466714435e-06],\n",
       " [1.3975480984790551e-08, 9.972919349848705e-06, 7.103791466964912e-06],\n",
       " [1.261862233137263e-08, 3.281383793776724e-05, 8.467342960738136e-06],\n",
       " [1.7377857168499575e-08, 2.4541691973071356e-05, 1.6181407107155383e-05],\n",
       " [9.967376635962238e-09, 8.955946046161084e-06, 6.220376531301767e-06],\n",
       " [1.1956113553297998e-08, 1.908943006755936e-05, 1.3132051012353893e-05],\n",
       " [6.383236110262523e-09, 3.026622720794915e-05, 6.272992343191848e-06],\n",
       " [1.5865586655879083e-08, 1.5442086921366506e-05, 1.3852129796263614e-05],\n",
       " [3.0519057857263487e-09, 2.3103522418413063e-05, 8.784409520823181e-06],\n",
       " [1.4407659508783561e-08, 3.0344672238270356e-05, 6.921890418211511e-06],\n",
       " [7.001527883021968e-09, 1.944728692157691e-05, 1.6352529768505572e-05],\n",
       " [1.1742422490901783e-08, 1.517054334561124e-05, 7.662783345198199e-06],\n",
       " [5.542499221749571e-09, 1.7802310683484724e-05, 5.372849748766734e-06],\n",
       " [3.5356437905131425e-09, 9.250765726600397e-06, 1.0851748447063008e-05],\n",
       " [5.706942762400854e-09, 3.31004540349922e-05, 1.6737459230542387e-05],\n",
       " [9.254778079191303e-09, 1.6437721483292298e-05, 1.3811454685792076e-05],\n",
       " [1.488614365079035e-08, 2.3421384626795777e-05, 8.67929391026691e-06],\n",
       " [1.5233330153518145e-08, 2.250215563785194e-05, 1.3359189380448683e-05],\n",
       " [1.461778816441351e-08, 1.6058402778462192e-05, 1.6745344111347174e-05],\n",
       " [7.82059160194522e-09, 1.4253980177694805e-05, 1.6714056752802073e-05],\n",
       " [1.4444759611440058e-08, 2.2830570449057586e-05, 1.78355908328621e-05],\n",
       " [8.251692751069198e-09, 7.768370175905026e-06, 1.175908134465988e-05],\n",
       " [1.5688175601461374e-08, 2.0832305735538208e-05, 1.0780606776119708e-05],\n",
       " [1.0486004792003051e-08, 1.8084479624188125e-05, 1.246646704740273e-05],\n",
       " [5.536658820146113e-09, 1.470033059409984e-05, 1.474482428812543e-05],\n",
       " [9.856459340045608e-09, 3.052218242789484e-05, 2.6784215668079857e-06],\n",
       " [1.080881297234559e-08, 2.2386964919272426e-05, 1.7236129337847543e-05],\n",
       " [5.7043931579589546e-09, 1.3688680463222903e-05, 1.5468642522275556e-05],\n",
       " [6.9097742240034905e-09, 8.531320301911774e-06, 1.5053736519223194e-05],\n",
       " [5.802389161675329e-09, 2.484115854147546e-05, 1.4906343717903992e-05],\n",
       " [1.2448771887003732e-08, 1.9903099772749865e-05, 3.150352867618011e-06],\n",
       " [4.583616141423599e-09, 9.93113288481308e-06, 6.600327002284279e-06],\n",
       " [5.697121029007356e-09, 1.3707460867762602e-05, 8.316362803196233e-06]]"
      ]
     },
     "execution_count": 9,
     "metadata": {},
     "output_type": "execute_result"
    }
   ],
   "source": [
    "parameters"
   ]
  },
  {
   "cell_type": "markdown",
   "metadata": {},
   "source": [
    "### pass parameters to the NeuronGroup"
   ]
  },
  {
   "cell_type": "code",
   "execution_count": 10,
   "metadata": {},
   "outputs": [
    {
     "name": "stderr",
     "output_type": "stream",
     "text": [
      "INFO       No numerical integration method specified, using method 'exponential_euler' (took 0.18s, trying other methods took 0.17s). [brian2.stateupdaters.base.method_choice]\n"
     ]
    }
   ],
   "source": [
    "errors = fit_traces_ask_tell(model = eqs, input_var = 'I', output_var = 'v',\\\n",
    "        input = inp_trace * nA, output = out_trace*mV, dt = dt,\n",
    "        gl = [1e-5*siemens*cm**-2 * area, 1e-6*siemens*cm**-2 * area],\n",
    "        g_na = [1*msiemens*cm**-2 * area, 200*msiemens*cm**-2 * area],\n",
    "        g_kd = [1*msiemens*cm**-2 * area, 100*msiemens*cm**-2 * area],\n",
    "        update=parameters)"
   ]
  },
  {
   "cell_type": "markdown",
   "metadata": {},
   "source": [
    "### give information to the optimizer"
   ]
  },
  {
   "cell_type": "code",
   "execution_count": 11,
   "metadata": {},
   "outputs": [
    {
     "name": "stdout",
     "output_type": "stream",
     "text": [
      "Candidate(args=(7.785123119518497e-09, 1.5391573856402402e-05, 1.5640802645653574e-05), kwargs={}) 0.004742296189402231\n",
      "Candidate(args=(9.436144971471895e-09, 2.09306959916967e-05, 7.476464462703784e-06), kwargs={}) 0.0047415933569254585\n",
      "Candidate(args=(1.5960100434031287e-08, 2.5568378998381493e-05, 1.3431728451499802e-05), kwargs={}) 0.004738817268985218\n",
      "Candidate(args=(7.930013701410937e-09, 1.2411959890220245e-05, 1.3961620352579585e-05), kwargs={}) 0.004742234505516411\n",
      "Candidate(args=(1.2807854051363507e-08, 2.4588011577114605e-05, 4.822332913590714e-06), kwargs={}) 0.004740158394643551\n",
      "Candidate(args=(1.282736699357748e-08, 1.0198653237247499e-05, 1.5158147270586274e-05), kwargs={}) 0.00474015009155222\n",
      "Candidate(args=(1.2572574244041112e-08, 2.2616126521461363e-05, 6.333450283693077e-06), kwargs={}) 0.004740258511503995\n",
      "Candidate(args=(4.381670154041929e-09, 2.7648896752879212e-05, 4.5152544369667095e-06), kwargs={}) 0.004743745388491697\n",
      "Candidate(args=(1.0989950203577866e-08, 2.9965519757029793e-05, 1.2717239307856141e-05), kwargs={}) 0.004740932014660489\n",
      "Candidate(args=(1.2143084899167011e-08, 1.6457146576953918e-05, 5.535175781557628e-06), kwargs={}) 0.004740441274948795\n",
      "Candidate(args=(1.67982722246288e-08, 2.421725990018244e-05, 3.6406380785797726e-06), kwargs={}) 0.0047384607389956155\n",
      "Candidate(args=(1.3247452687725812e-08, 6.284597109250448e-06, 1.1910527124973756e-05), kwargs={}) 0.004739971341802281\n",
      "Candidate(args=(1.4851345331115922e-08, 8.378787619092613e-06, 1.633818566419152e-05), kwargs={}) 0.004739288941704595\n",
      "Candidate(args=(1.2138587195744413e-08, 1.5930829172472228e-05, 1.1566606278332443e-05), kwargs={}) 0.00474044318892767\n",
      "Candidate(args=(5.884903336548254e-09, 2.030098419973313e-05, 8.691207274737312e-06), kwargs={}) 0.0047431052473475115\n",
      "Candidate(args=(9.602795151079863e-09, 1.5392190333700363e-05, 1.0136388311461213e-05), kwargs={}) 0.004741522421123935\n",
      "Candidate(args=(5.218447450182585e-09, 2.4237073927662876e-05, 1.1418882167210022e-05), kwargs={}) 0.004743389041015535\n",
      "Candidate(args=(9.56902949255826e-09, 1.8999367241555405e-05, 1.2045905389673675e-05), kwargs={}) 0.004741536793614918\n",
      "Candidate(args=(1.6484124123091374e-08, 1.1620738043427118e-05, 6.043599274316952e-06), kwargs={}) 0.00473859436350827\n",
      "Candidate(args=(5.390776467540489e-09, 1.4145696776360069e-05, 1.7367052545645174e-05), kwargs={}) 0.00474331565718296\n",
      "Candidate(args=(4.6079133041647786e-09, 2.9272501197220127e-05, 5.22194837719308e-06), kwargs={}) 0.00474364903833169\n",
      "Candidate(args=(5.080700965924533e-09, 2.355793880483045e-05, 1.301421615244692e-05), kwargs={}) 0.004743447699279581\n",
      "Candidate(args=(1.4250683664737295e-08, 2.521023075837483e-05, 4.55665230372395e-06), kwargs={}) 0.004739544489422714\n",
      "Candidate(args=(1.7283487437193633e-08, 2.7399014858080356e-05, 7.325963208983715e-06), kwargs={}) 0.004738254358420704\n",
      "Candidate(args=(9.078186751992644e-09, 9.177977239429791e-06, 9.816149118932668e-06), kwargs={}) 0.004741745728297271\n",
      "Candidate(args=(9.07378811240742e-09, 6.78840444781987e-06, 7.332655703734158e-06), kwargs={}) 0.004741747600691323\n",
      "Candidate(args=(7.690831207218344e-09, 3.1998213093299056e-05, 1.2693528594688154e-05), kwargs={}) 0.004742336332527778\n",
      "Candidate(args=(1.2759983651681877e-08, 3.0461866257537516e-05, 1.4334362312297602e-05), kwargs={}) 0.004740178764387379\n",
      "Candidate(args=(1.6537583482619698e-08, 2.854500948119322e-05, 1.4586370951537505e-05), kwargs={}) 0.004738571623999258\n",
      "Candidate(args=(1.547503868199618e-08, 1.1705228073949376e-05, 8.484966409579424e-06), kwargs={}) 0.004739023611477031\n",
      "Candidate(args=(1.535543381370944e-08, 3.291091982489188e-05, 1.6266496220546068e-05), kwargs={}) 0.004739074492234968\n",
      "Candidate(args=(8.81164265747961e-09, 7.542793797589929e-06, 1.3285463597868091e-05), kwargs={}) 0.004741859191126184\n",
      "Candidate(args=(1.10132177569408e-08, 1.170775572312596e-05, 1.0281788814253247e-05), kwargs={}) 0.004740922112127117\n",
      "Candidate(args=(4.094255263741399e-09, 1.4008377810920692e-05, 1.1978262219923888e-05), kwargs={}) 0.004743867792988423\n",
      "Candidate(args=(1.1646885861926028e-08, 2.754230602147749e-05, 4.0524165884909665e-06), kwargs={}) 0.0047406524355430675\n",
      "Candidate(args=(1.2659674896747393e-08, 1.8902094840190805e-05, 6.431226398078367e-06), kwargs={}) 0.004740221447939856\n",
      "Candidate(args=(1.2265515396119497e-08, 1.251129375002978e-05, 9.451984803366557e-06), kwargs={}) 0.004740389175492224\n",
      "Candidate(args=(4.964379856733209e-09, 8.461631930795143e-06, 1.5424118710214967e-05), kwargs={}) 0.004743497234341689\n",
      "Candidate(args=(5.2631418730547705e-09, 2.8481740587880945e-05, 3.4921943252763367e-06), kwargs={}) 0.004743370008417665\n",
      "Candidate(args=(1.054395962836676e-08, 1.0348422340415871e-05, 1.4723302504614136e-05), kwargs={}) 0.004741121830051711\n",
      "Candidate(args=(8.939049530490856e-09, 1.0256087646421833e-05, 6.380070717721533e-06), kwargs={}) 0.004741804956030829\n",
      "Candidate(args=(6.428143639527227e-09, 1.1368519884386306e-05, 1.5299566532921243e-05), kwargs={}) 0.004742873935904743\n",
      "Candidate(args=(1.4119615451678132e-08, 1.8110586602996366e-05, 1.4976707467277182e-05), kwargs={}) 0.004739600253599069\n",
      "Candidate(args=(4.334259372014497e-09, 1.5123600455198539e-05, 5.6536061962206915e-06), kwargs={}) 0.004743765579594384\n",
      "Candidate(args=(1.4336316605711601e-08, 2.8705424587884474e-05, 1.2833036826904415e-05), kwargs={}) 0.004739508056493728\n",
      "Candidate(args=(6.91968613573263e-09, 7.577614177387097e-06, 1.2513958973622834e-05), kwargs={}) 0.004742664648145012\n",
      "Candidate(args=(4.040270622478988e-09, 7.600456944171069e-06, 1.0351665564579359e-05), kwargs={}) 0.004743890784403952\n",
      "Candidate(args=(6.376609812580217e-09, 1.7763268482787014e-05, 1.2023493661960038e-05), kwargs={}) 0.004742895878444644\n",
      "Candidate(args=(9.348035963292507e-09, 7.614506758539054e-06, 4.174120920638203e-06), kwargs={}) 0.0047416308616098956\n",
      "Candidate(args=(8.013836023074553e-09, 2.1415313204959215e-05, 9.22424774453644e-06), kwargs={}) 0.004742198820466558\n",
      "Candidate(args=(6.766366135877475e-09, 2.5059919593193665e-05, 1.6971008281068296e-05), kwargs={}) 0.004742729927259565\n",
      "Candidate(args=(3.7108867067735376e-09, 1.954965394491712e-05, 1.4742774290858034e-05), kwargs={}) 0.004744031067767046\n",
      "Candidate(args=(3.8774003596750436e-09, 2.5128064150345488e-05, 7.465009294769652e-06), kwargs={}) 0.004743960149657367\n",
      "Candidate(args=(2.2237923705806802e-09, 2.7778853247155545e-05, 9.968430885751358e-06), kwargs={}) 0.0047446644729025635\n",
      "Candidate(args=(3.8670135565492846e-09, 6.085467523481123e-06, 5.658500368451785e-06), kwargs={}) 0.004743964573358995\n",
      "Candidate(args=(1.66495029902918e-08, 2.2385645230060116e-05, 5.801975456998657e-06), kwargs={}) 0.00473852401823444\n",
      "Candidate(args=(1.447565605430041e-08, 3.5452822040124134e-05, 1.4988102145536698e-05), kwargs={}) 0.0047394487745478706\n",
      "Candidate(args=(4.493033832783808e-09, 2.0652712370801072e-05, 1.4687929453068069e-05), kwargs={}) 0.004743697961775642\n",
      "Candidate(args=(3.4276174232393248e-09, 1.2682321585523942e-05, 6.163230711889701e-06), kwargs={}) 0.004744151714763063\n",
      "Candidate(args=(1.5997805991970862e-08, 1.361306416226069e-05, 5.419004914355002e-06), kwargs={}) 0.00473880122967427\n",
      "Candidate(args=(1.254472294409439e-08, 3.5193492723098826e-05, 1.4203721856568297e-05), kwargs={}) 0.004740270363015071\n",
      "Candidate(args=(1.3724585673148064e-08, 1.3548316992147192e-05, 5.872393396385351e-06), kwargs={}) 0.004739768327053073\n",
      "Candidate(args=(1.1507007916457125e-08, 7.719474480835549e-06, 9.062125447817955e-06), kwargs={}) 0.004740711963360213\n",
      "Candidate(args=(1.385309212418961e-08, 7.1600200156383904e-06, 7.930844269789637e-06), kwargs={}) 0.004739713650644141\n",
      "Candidate(args=(1.4806940572921494e-08, 2.9691521221530032e-05, 3.0419250108898762e-06), kwargs={}) 0.004739307832905716\n",
      "Candidate(args=(4.698785213362112e-09, 2.5845935758598518e-05, 6.134076668166109e-06), kwargs={}) 0.0047436103393269135\n",
      "Candidate(args=(1.4306125520808e-08, 1.671996494630694e-05, 3.7903391168761573e-06), kwargs={}) 0.00473952090139434\n",
      "Candidate(args=(1.6574682135438926e-08, 2.018962936314254e-05, 6.878100466714435e-06), kwargs={}) 0.004738555843762576\n",
      "Candidate(args=(1.3975480984790551e-08, 9.972919349848705e-06, 7.103791466964912e-06), kwargs={}) 0.004739661577773546\n",
      "Candidate(args=(1.261862233137263e-08, 3.281383793776724e-05, 8.467342960738136e-06), kwargs={}) 0.004740238916820444\n",
      "Candidate(args=(1.7377857168499575e-08, 2.4541691973071356e-05, 1.6181407107155383e-05), kwargs={}) 0.004738214220525476\n",
      "Candidate(args=(9.967376635962238e-09, 8.955946046161084e-06, 6.220376531301767e-06), kwargs={}) 0.004741367238598117\n",
      "Candidate(args=(1.1956113553297998e-08, 1.908943006755936e-05, 1.3132051012353893e-05), kwargs={}) 0.004740520840545792\n",
      "Candidate(args=(6.383236110262523e-09, 3.026622720794915e-05, 6.272992343191848e-06), kwargs={}) 0.004742893057033253\n",
      "Candidate(args=(1.5865586655879083e-08, 1.5442086921366506e-05, 1.3852129796263614e-05), kwargs={}) 0.004738857473823424\n",
      "Candidate(args=(3.0519057857263487e-09, 2.3103522418413063e-05, 8.784409520823181e-06), kwargs={}) 0.004744311739059317\n",
      "Candidate(args=(1.4407659508783561e-08, 3.0344672238270356e-05, 6.921890418211511e-06), kwargs={}) 0.004739477703564396\n",
      "Candidate(args=(7.001527883021968e-09, 1.944728692157691e-05, 1.6352529768505572e-05), kwargs={}) 0.004742629802761199\n",
      "Candidate(args=(1.1742422490901783e-08, 1.517054334561124e-05, 7.662783345198199e-06), kwargs={}) 0.0047406117785238336\n",
      "Candidate(args=(5.542499221749571e-09, 1.7802310683484724e-05, 5.372849748766734e-06), kwargs={}) 0.004743251049273511\n",
      "Candidate(args=(3.5356437905131425e-09, 9.250765726600397e-06, 1.0851748447063008e-05), kwargs={}) 0.004744105704937147\n",
      "Candidate(args=(5.706942762400854e-09, 3.31004540349922e-05, 1.6737459230542387e-05), kwargs={}) 0.004743181025589922\n",
      "Candidate(args=(9.254778079191303e-09, 1.6437721483292298e-05, 1.3811454685792076e-05), kwargs={}) 0.0047416705583352555\n",
      "Candidate(args=(1.488614365079035e-08, 2.3421384626795777e-05, 8.67929391026691e-06), kwargs={}) 0.00473927413744735\n",
      "Candidate(args=(1.5233330153518145e-08, 2.250215563785194e-05, 1.3359189380448683e-05), kwargs={}) 0.004739126436621816\n",
      "Candidate(args=(1.461778816441351e-08, 1.6058402778462192e-05, 1.6745344111347174e-05), kwargs={}) 0.004739388305312086\n",
      "Candidate(args=(7.82059160194522e-09, 1.4253980177694805e-05, 1.6714056752802073e-05), kwargs={}) 0.0047422810894163555\n",
      "Candidate(args=(1.4444759611440058e-08, 2.2830570449057586e-05, 1.78355908328621e-05), kwargs={}) 0.004739461919363512\n",
      "Candidate(args=(8.251692751069198e-09, 7.768370175905026e-06, 1.175908134465988e-05), kwargs={}) 0.0047420975611232145\n",
      "Candidate(args=(1.5688175601461374e-08, 2.0832305735538208e-05, 1.0780606776119708e-05), kwargs={}) 0.004738932943024349\n",
      "Candidate(args=(1.0486004792003051e-08, 1.8084479624188125e-05, 1.246646704740273e-05), kwargs={}) 0.004741146496483201\n",
      "Candidate(args=(5.536658820146113e-09, 1.470033059409984e-05, 1.474482428812543e-05), kwargs={}) 0.004743253536266309\n",
      "Candidate(args=(9.856459340045608e-09, 3.052218242789484e-05, 2.6784215668079857e-06), kwargs={}) 0.0047414144494671686\n",
      "Candidate(args=(1.080881297234559e-08, 2.2386964919272426e-05, 1.7236129337847543e-05), kwargs={}) 0.004741009106381498\n",
      "Candidate(args=(5.7043931579589546e-09, 1.3688680463222903e-05, 1.5468642522275556e-05), kwargs={}) 0.004743182111258929\n",
      "Candidate(args=(6.9097742240034905e-09, 8.531320301911774e-06, 1.5053736519223194e-05), kwargs={}) 0.004742668868313299\n",
      "Candidate(args=(5.802389161675329e-09, 2.484115854147546e-05, 1.4906343717903992e-05), kwargs={}) 0.004743140382935606\n",
      "Candidate(args=(1.2448771887003732e-08, 1.9903099772749865e-05, 3.150352867618011e-06), kwargs={}) 0.004740311193138899\n",
      "Candidate(args=(4.583616141423599e-09, 9.93113288481308e-06, 6.600327002284279e-06), kwargs={}) 0.004743659385659232\n",
      "Candidate(args=(5.697121029007356e-09, 1.3707460867762602e-05, 8.316362803196233e-06), kwargs={}) 0.004743185207868252\n"
     ]
    }
   ],
   "source": [
    "for i, candidate in enumerate(candidates):\n",
    "    value = errors[i]\n",
    "    optim.tell(candidate, value)\n",
    "\n",
    "    print(candidate, value)"
   ]
  },
  {
   "cell_type": "markdown",
   "metadata": {},
   "source": [
    "### Get The Best Results"
   ]
  },
  {
   "cell_type": "code",
   "execution_count": 12,
   "metadata": {},
   "outputs": [
    {
     "name": "stdout",
     "output_type": "stream",
     "text": [
      "correct: {'gl': 1e-08, 'g_na': 2e-05, 'g_kd': 6e-06} \n",
      " output: (1.7377857168499575e-08, 2.4541691973071356e-05, 1.6181407107155383e-05)\n"
     ]
    }
   ],
   "source": [
    "ans = optim.provide_recommendation()\n",
    "print('correct:', params_correct, '\\n output:', ans.args)"
   ]
  },
  {
   "cell_type": "markdown",
   "metadata": {},
   "source": [
    "## Visualization of the results"
   ]
  },
  {
   "cell_type": "code",
   "execution_count": 13,
   "metadata": {},
   "outputs": [],
   "source": [
    "params = {'gl': ans.args[0],\n",
    "          'g_na': ans.args[1],\n",
    "          'g_kd': ans.args[2]}"
   ]
  },
  {
   "cell_type": "markdown",
   "metadata": {},
   "source": [
    "### re-run the neuron with new params"
   ]
  },
  {
   "cell_type": "code",
   "execution_count": 14,
   "metadata": {},
   "outputs": [],
   "source": [
    "start_scope()\n",
    "G = NeuronGroup(1, eqsHH, method='exponential_euler')\n",
    "G.v = El\n",
    "G.set_states(params, units=False)\n",
    "mon = StateMonitor(G, 'v', record=0)\n",
    "run(20*ms)\n",
    "\n",
    "voltage1 = mon.v[0]/mV"
   ]
  },
  {
   "cell_type": "code",
   "execution_count": 15,
   "metadata": {},
   "outputs": [
    {
     "data": {
      "image/png": "[encoded data removed]",
      "text/plain": [
       "<Figure size 432x288 with 1 Axes>"
      ]
     },
     "metadata": {
      "needs_background": "light"
     },
     "output_type": "display_data"
    }
   ],
   "source": [
    "plt.figure()\n",
    "plot(np.arange(len(voltage))*dt/ms, voltage);\n",
    "plot(np.arange(len(voltage1))*dt/ms, voltage1);\n",
    "plt.title('nevergrad optimization');"
   ]
  }
 ],
 "metadata": {
  "kernelspec": {
   "display_name": "brian_opt",
   "language": "python",
   "name": "brian_opt"
  },
  "language_info": {
   "codemirror_mode": {
    "name": "ipython",
    "version": 3
   },
   "file_extension": ".py",
   "mimetype": "text/x-python",
   "name": "python",
   "nbconvert_exporter": "python",
   "pygments_lexer": "ipython3",
   "version": "3.7.3"
  }
 },
 "nbformat": 4,
 "nbformat_minor": 2
}
