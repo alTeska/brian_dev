{
 "cells": [
  {
   "cell_type": "markdown",
   "metadata": {},
   "source": [
    "# Notebook Vizualising Sample Results of Few Methods Avaliable in Nevergrad"
   ]
  },
  {
   "cell_type": "code",
   "execution_count": 1,
   "metadata": {},
   "outputs": [],
   "source": [
    "from brian2 import *\n",
    "from brian2tools import *\n",
    "from nevergrad.optimization import optimizerlib\n",
    "from nevergrad import instrumentation as inst"
   ]
  },
  {
   "cell_type": "code",
   "execution_count": 2,
   "metadata": {},
   "outputs": [],
   "source": [
    "%matplotlib inline\n",
    "prefs.codegen.target = 'cython'  # weave is not multiprocess-safe!\n",
    "candidates, parameters = [], []"
   ]
  },
  {
   "cell_type": "markdown",
   "metadata": {},
   "source": [
    "## Setup Model to be Fit"
   ]
  },
  {
   "cell_type": "markdown",
   "metadata": {},
   "source": [
    "### Parameters"
   ]
  },
  {
   "cell_type": "code",
   "execution_count": 3,
   "metadata": {},
   "outputs": [],
   "source": [
    "area = 20000*umetre**2\n",
    "Cm = 1*ufarad*cm**-2 * area\n",
    "El = -65*mV\n",
    "EK = -90*mV\n",
    "ENa = 50*mV\n",
    "VT = -63*mV"
   ]
  },
  {
   "cell_type": "markdown",
   "metadata": {},
   "source": [
    "### Generate a step-current input and an \"experimental\" voltage trace"
   ]
  },
  {
   "cell_type": "code",
   "execution_count": 4,
   "metadata": {},
   "outputs": [],
   "source": [
    "dt = 0.01*ms\n",
    "input_current = np.hstack([np.zeros(int(5*ms/dt)), np.ones(int(5*ms/dt)), np.zeros(int(5*ms/dt))])*nA\n",
    "\n",
    "N, n1 = np.array([input_current]).shape\n",
    "params_correct = {'gl': float(5e-5*siemens*cm**-2 * area),\n",
    "          'g_na': float(100*msiemens*cm**-2 * area),\n",
    "          'g_kd': float(30*msiemens*cm**-2 * area)}\n",
    "\n",
    "defaultclock.dt = dt\n",
    "I = TimedArray(input_current, dt=dt)"
   ]
  },
  {
   "cell_type": "markdown",
   "metadata": {},
   "source": [
    "### The model"
   ]
  },
  {
   "cell_type": "code",
   "execution_count": 5,
   "metadata": {},
   "outputs": [],
   "source": [
    "eqsHH = Equations('''\n",
    "dv/dt = (gl*(El-v) - g_na*(m*m*m)*h*(v-ENa) - g_kd*(n*n*n*n)*(v-EK) + I(t))/Cm : volt\n",
    "dm/dt = 0.32*(mV**-1)*(13.*mV-v+VT)/\n",
    "    (exp((13.*mV-v+VT)/(4.*mV))-1.)/ms*(1-m)-0.28*(mV**-1)*(v-VT-40.*mV)/\n",
    "    (exp((v-VT-40.*mV)/(5.*mV))-1.)/ms*m : 1\n",
    "dn/dt = 0.032*(mV**-1)*(15.*mV-v+VT)/\n",
    "    (exp((15.*mV-v+VT)/(5.*mV))-1.)/ms*(1.-n)-.5*exp((10.*mV-v+VT)/(40.*mV))/ms*n : 1\n",
    "dh/dt = 0.128*exp((17.*mV-v+VT)/(18.*mV))/ms*(1.-h)-4./(1+exp((40.*mV-v+VT)/(5.*mV)))/ms*h : 1\n",
    "g_na : siemens (constant)\n",
    "g_kd : siemens (constant)\n",
    "gl   : siemens (constant)\n",
    "''')\n",
    "\n",
    "G = NeuronGroup(1, eqsHH, method='exponential_euler')\n",
    "G.v = El\n",
    "G.set_states(params_correct, units=False)\n",
    "mon = StateMonitor(G, 'v', record=0)\n",
    "run(20*ms)\n",
    "\n",
    "voltage = mon.v[0]/mV\n",
    "voltage += np.random.randn(len(voltage))\n",
    "\n",
    "inp_trace = np.array([input_current])\n",
    "\n",
    "n0, n1 = inp_trace.shape\n",
    "out_trace = np.array([voltage[:n1]])"
   ]
  },
  {
   "cell_type": "markdown",
   "metadata": {},
   "source": [
    "## Setup Model for Modelfitting"
   ]
  },
  {
   "cell_type": "markdown",
   "metadata": {},
   "source": [
    "### Model for modelfitting"
   ]
  },
  {
   "cell_type": "code",
   "execution_count": 6,
   "metadata": {},
   "outputs": [],
   "source": [
    "eqs = Equations(\n",
    "'''\n",
    "dv/dt = (gl*(El-v) - g_na*(m*m*m)*h*(v-ENa) - g_kd*(n*n*n*n)*(v-EK) + I)/Cm : volt\n",
    "dm/dt = 0.32*(mV**-1)*(13.*mV-v+VT)/\n",
    "    (exp((13.*mV-v+VT)/(4.*mV))-1.)/ms*(1-m)-0.28*(mV**-1)*(v-VT-40.*mV)/\n",
    "    (exp((v-VT-40.*mV)/(5.*mV))-1.)/ms*m : 1\n",
    "dn/dt = 0.032*(mV**-1)*(15.*mV-v+VT)/\n",
    "    (exp((15.*mV-v+VT)/(5.*mV))-1.)/ms*(1.-n)-.5*exp((10.*mV-v+VT)/(40.*mV))/ms*n : 1\n",
    "dh/dt = 0.128*exp((17.*mV-v+VT)/(18.*mV))/ms*(1.-h)-4./(1+exp((40.*mV-v+VT)/(5.*mV)))/ms*h : 1\n",
    "g_na : siemens (constant)\n",
    "g_kd : siemens (constant)\n",
    "gl   : siemens (constant)\n",
    "''',\n",
    "Cm = 1*ufarad*cm**-2 * area, El = -65*mV, EK = -90*mV, ENa = 50*mV, VT = -63*mV)"
   ]
  },
  {
   "cell_type": "markdown",
   "metadata": {},
   "source": [
    "### setup the nevergrad optimizer"
   ]
  },
  {
   "cell_type": "code",
   "execution_count": 7,
   "metadata": {},
   "outputs": [],
   "source": [
    "arg1 = inst.var.Array(1).bounded(1e-7*siemens*cm**-2 * area, 1e-4*siemens*cm**-2 * area).asscalar()\n",
    "arg2 = inst.var.Array(1).bounded(1*msiemens*cm**-2 * area, 200*msiemens*cm**-2 * area).asscalar()\n",
    "arg3 = inst.var.Array(1).bounded(1*msiemens*cm**-2 * area, 100*msiemens*cm**-2 * area).asscalar()\n",
    "instrum = inst.Instrumentation(arg1, arg2, arg3)\n",
    "optim = optimizerlib.registry['DE'](instrumentation=instrum, num_workers=100)"
   ]
  },
  {
   "cell_type": "markdown",
   "metadata": {},
   "source": [
    "### Get Parameters From Ask"
   ]
  },
  {
   "cell_type": "code",
   "execution_count": 8,
   "metadata": {},
   "outputs": [],
   "source": [
    "for _ in range(20):\n",
    "    cand = optim.ask()\n",
    "    candidates.append(cand)\n",
    "    parameters.append(list(cand.args))"
   ]
  },
  {
   "cell_type": "code",
   "execution_count": 9,
   "metadata": {},
   "outputs": [
    {
     "data": {
      "text/plain": [
       "[[1.0485574509124393e-08, 3.242545918101447e-05, 1.1100695460372539e-05],\n",
       " [1.532399307045503e-08, 2.6275832931191502e-05, 4.929978465959469e-06],\n",
       " [1.2086701491690575e-08, 2.9906628714082452e-05, 5.941075235625404e-06],\n",
       " [7.1750951609537385e-09, 1.173786272123536e-05, 6.518778631002472e-06],\n",
       " [1.1810904334386639e-08, 1.397933709566136e-05, 1.0034987161746607e-05],\n",
       " [9.285867481202971e-09, 1.7998140530166225e-05, 1.0699328368575795e-05],\n",
       " [1.4127104450581029e-08, 2.4540141069084537e-05, 1.3863069947444317e-05],\n",
       " [7.077555037657101e-09, 3.15945095172971e-05, 1.578780015769861e-05],\n",
       " [8.28081800686235e-09, 1.712770613342543e-05, 1.3383857960092772e-05],\n",
       " [1.1634240154842252e-08, 2.210642155884442e-05, 1.0505865032121883e-05],\n",
       " [1.1791129897729615e-08, 1.614351983690832e-05, 1.4387497645855528e-05],\n",
       " [5.045603385153552e-09, 1.91519678662361e-05, 1.0384381716090027e-05],\n",
       " [9.843627510219329e-09, 1.595837616284257e-05, 1.4080780557960089e-05],\n",
       " [1.598458774543281e-08, 2.2294150823649655e-05, 8.740822116976873e-06],\n",
       " [6.434673550609958e-09, 1.5859644407530733e-05, 1.4560210899582723e-05],\n",
       " [5.457860431561136e-09, 7.358609056929991e-06, 1.0609614902146219e-05],\n",
       " [9.803740836007278e-09, 9.727605706465985e-06, 1.4653373859028164e-05],\n",
       " [1.3018845865611804e-08, 2.61389943524111e-05, 8.435854018191902e-06],\n",
       " [1.0260798041625401e-08, 1.3693681550712124e-05, 8.021763521562996e-06],\n",
       " [8.16133508960536e-09, 1.6856877298440256e-05, 5.242286472540733e-06]]"
      ]
     },
     "execution_count": 9,
     "metadata": {},
     "output_type": "execute_result"
    }
   ],
   "source": [
    "parameters"
   ]
  },
  {
   "cell_type": "markdown",
   "metadata": {},
   "source": [
    "### pass parameters to the NeuronGroup"
   ]
  },
  {
   "cell_type": "code",
   "execution_count": 10,
   "metadata": {},
   "outputs": [
    {
     "name": "stderr",
     "output_type": "stream",
     "text": [
      "INFO       No numerical integration method specified, using method 'exponential_euler' (took 0.21s, trying other methods took 0.15s). [brian2.stateupdaters.base.method_choice]\n"
     ]
    }
   ],
   "source": [
    "errors = fit_traces_ask_tell(model = eqs, input_var = 'I', output_var = 'v',\\\n",
    "        input = inp_trace * nA, output = out_trace*mV, dt = dt,\n",
    "        gl = [1e-5*siemens*cm**-2 * area, 1e-6*siemens*cm**-2 * area],\n",
    "        g_na = [1*msiemens*cm**-2 * area, 2000*msiemens*cm**-2 * area],\n",
    "        g_kd = [1*msiemens*cm**-2 * area, 1000*msiemens*cm**-2 * area],\n",
    "        update=parameters)"
   ]
  },
  {
   "cell_type": "markdown",
   "metadata": {},
   "source": [
    "### give information to the optimizer"
   ]
  },
  {
   "cell_type": "code",
   "execution_count": 11,
   "metadata": {},
   "outputs": [
    {
     "name": "stdout",
     "output_type": "stream",
     "text": [
      "Candidate(args=(1.0485574509124393e-08, 3.242545918101447e-05, 1.1100695460372539e-05), kwargs={}) 0.004742105347948206\n",
      "Candidate(args=(1.532399307045503e-08, 2.6275832931191502e-05, 4.929978465959469e-06), kwargs={}) 0.004740046308812538\n",
      "Candidate(args=(1.2086701491690575e-08, 2.9906628714082452e-05, 5.941075235625404e-06), kwargs={}) 0.00474142386194964\n",
      "Candidate(args=(7.1750951609537385e-09, 1.173786272123536e-05, 6.518778631002472e-06), kwargs={}) 0.004743514728414599\n",
      "Candidate(args=(1.1810904334386639e-08, 1.397933709566136e-05, 1.0034987161746607e-05), kwargs={}) 0.004741541241458729\n",
      "Candidate(args=(9.285867481202971e-09, 1.7998140530166225e-05, 1.0699328368575795e-05), kwargs={}) 0.004742616049203784\n",
      "Candidate(args=(1.4127104450581029e-08, 2.4540141069084537e-05, 1.3863069947444317e-05), kwargs={}) 0.004740555564818461\n",
      "Candidate(args=(7.077555037657101e-09, 3.15945095172971e-05, 1.578780015769861e-05), kwargs={}) 0.004743556261515209\n",
      "Candidate(args=(8.28081800686235e-09, 1.712770613342543e-05, 1.3383857960092772e-05), kwargs={}) 0.004743043933981282\n",
      "Candidate(args=(1.1634240154842252e-08, 2.210642155884442e-05, 1.0505865032121883e-05), kwargs={}) 0.004741616431580402\n",
      "Candidate(args=(1.1791129897729615e-08, 1.614351983690832e-05, 1.4387497645855528e-05), kwargs={}) 0.004741549657599952\n",
      "Candidate(args=(5.045603385153552e-09, 1.91519678662361e-05, 1.0384381716090027e-05), kwargs={}) 0.004744421569020164\n",
      "Candidate(args=(9.843627510219329e-09, 1.595837616284257e-05, 1.4080780557960089e-05), kwargs={}) 0.004742378609691736\n",
      "Candidate(args=(1.598458774543281e-08, 2.2294150823649655e-05, 8.740822116976873e-06), kwargs={}) 0.0047397652628657205\n",
      "Candidate(args=(6.434673550609958e-09, 1.5859644407530733e-05, 1.4560210899582723e-05), kwargs={}) 0.004743830013945603\n",
      "Candidate(args=(5.457860431561136e-09, 7.358609056929991e-06, 1.0609614902146219e-05), kwargs={}) 0.0047442459950178765\n",
      "Candidate(args=(9.803740836007278e-09, 9.727605706465985e-06, 1.4653373859028164e-05), kwargs={}) 0.004742395589087497\n",
      "Candidate(args=(1.3018845865611804e-08, 2.61389943524111e-05, 8.435854018191902e-06), kwargs={}) 0.004741027164354998\n",
      "Candidate(args=(1.0260798041625401e-08, 1.3693681550712124e-05, 8.021763521562996e-06), kwargs={}) 0.00474220102801799\n",
      "Candidate(args=(8.16133508960536e-09, 1.6856877298440256e-05, 5.242286472540733e-06), kwargs={}) 0.004743094804893847\n"
     ]
    }
   ],
   "source": [
    "for i, candidate in enumerate(candidates):\n",
    "    value = errors[i]\n",
    "    optim.tell(candidate, value)\n",
    "\n",
    "    print(candidate, value)"
   ]
  },
  {
   "cell_type": "markdown",
   "metadata": {},
   "source": [
    "### Get The Best Results"
   ]
  },
  {
   "cell_type": "code",
   "execution_count": 12,
   "metadata": {},
   "outputs": [
    {
     "name": "stdout",
     "output_type": "stream",
     "text": [
      "correct: {'gl': 1e-08, 'g_na': 2e-05, 'g_kd': 6e-06} \n",
      " output: (1.598458774543281e-08, 2.2294150823649655e-05, 8.740822116976873e-06)\n"
     ]
    }
   ],
   "source": [
    "ans = optim.provide_recommendation()\n",
    "print('correct:', params_correct, '\\n output:', ans.args)"
   ]
  },
  {
   "cell_type": "markdown",
   "metadata": {},
   "source": [
    "## Visualization of the results"
   ]
  },
  {
   "cell_type": "code",
   "execution_count": 13,
   "metadata": {},
   "outputs": [],
   "source": [
    "params = {'gl': ans.args[0],\n",
    "          'g_na': ans.args[1],\n",
    "          'g_kd': ans.args[2]}"
   ]
  },
  {
   "cell_type": "markdown",
   "metadata": {},
   "source": [
    "### re-run the neuron with new params"
   ]
  },
  {
   "cell_type": "code",
   "execution_count": 14,
   "metadata": {},
   "outputs": [],
   "source": [
    "start_scope()\n",
    "G = NeuronGroup(1, eqsHH, method='exponential_euler')\n",
    "G.v = El\n",
    "G.set_states(params, units=False)\n",
    "mon = StateMonitor(G, 'v', record=0)\n",
    "run(20*ms)\n",
    "\n",
    "voltage1 = mon.v[0]/mV"
   ]
  },
  {
   "cell_type": "code",
   "execution_count": 15,
   "metadata": {},
   "outputs": [
    {
     "data": {
      "image/png": "[encoded data removed]",
      "text/plain": [
       "<Figure size 432x288 with 1 Axes>"
      ]
     },
     "metadata": {
      "needs_background": "light"
     },
     "output_type": "display_data"
    }
   ],
   "source": [
    "plt.figure()\n",
    "plot(np.arange(len(voltage))*dt/ms, voltage);\n",
    "plot(np.arange(len(voltage1))*dt/ms, voltage1);\n",
    "plt.title('nevergrad optimization');"
   ]
  }
 ],
 "metadata": {
  "kernelspec": {
   "display_name": "brian_opt",
   "language": "python",
   "name": "brian_opt"
  },
  "language_info": {
   "codemirror_mode": {
    "name": "ipython",
    "version": 3
   },
   "file_extension": ".py",
   "mimetype": "text/x-python",
   "name": "python",
   "nbconvert_exporter": "python",
   "pygments_lexer": "ipython3",
   "version": "3.7.3"
  }
 },
 "nbformat": 4,
 "nbformat_minor": 2
}
