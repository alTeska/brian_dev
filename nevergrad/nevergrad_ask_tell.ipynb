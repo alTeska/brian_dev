{
 "cells": [
  {
   "cell_type": "markdown",
   "metadata": {},
   "source": [
    "# Nevergrad Options"
   ]
  },
  {
   "cell_type": "code",
   "execution_count": 1,
   "metadata": {},
   "outputs": [],
   "source": [
    "import numpy as np\n",
    "import multiprocessing as mp\n",
    "\n",
    "from scipy.optimize import differential_evolution, rosen\n",
    "from scipy.optimize._differentialevolution import DifferentialEvolutionSolver\n",
    "\n",
    "from nevergrad.optimization import optimizerlib\n",
    "from concurrent import futures\n",
    "from nevergrad import instrumentation as inst"
   ]
  },
  {
   "cell_type": "code",
   "execution_count": 2,
   "metadata": {},
   "outputs": [],
   "source": [
    "def test_args(*args):\n",
    "    return args[0] - args[1]"
   ]
  },
  {
   "cell_type": "code",
   "execution_count": 3,
   "metadata": {},
   "outputs": [],
   "source": [
    "arg1 = inst.var.Array(1).bounded(-5, 5).asscalar()\n",
    "arg2 = inst.var.Array(1).bounded(0, 10).asscalar()\n",
    "instrum = inst.Instrumentation(arg1, arg2)"
   ]
  },
  {
   "cell_type": "code",
   "execution_count": 4,
   "metadata": {},
   "outputs": [],
   "source": [
    "# pick the optimization method; budget = number of allowed evaluations\n",
    "optim = optimizerlib.registry['DE'](instrumentation=instrum, budget=10000, num_workers=2)"
   ]
  },
  {
   "cell_type": "code",
   "execution_count": 26,
   "metadata": {},
   "outputs": [
    {
     "name": "stdout",
     "output_type": "stream",
     "text": [
      "Candidate(args=(-4.880757910175384, 9.013149218898533), kwargs={}) -13.893907129073916\n",
      "Candidate(args=(-4.15393348240092, 9.573071741158511), kwargs={}) -13.72700522355943\n",
      "Candidate(args=(-4.781778430752317, 9.691045161899394), kwargs={}) -14.47282359265171\n",
      "Candidate(args=(-4.699283591608244, 9.631604146008764), kwargs={}) -14.330887737617008\n",
      "Candidate(args=(-1.4702756044146932, 9.203761871202495), kwargs={}) -10.674037475617189\n",
      "Candidate(args=(-4.826547928352511, 9.754709281915192), kwargs={}) -14.581257210267703\n",
      "Candidate(args=(-1.0861796709272487, 9.63797073741873), kwargs={}) -10.724150408345979\n",
      "Candidate(args=(-4.846562195083752, 9.807839093554879), kwargs={}) -14.654401288638631\n",
      "Candidate(args=(-4.853826915521217, 9.825813810502552), kwargs={}) -14.67964072602377\n",
      "Candidate(args=(-4.879949235401302, 9.522089750330188), kwargs={}) -14.40203898573149\n"
     ]
    }
   ],
   "source": [
    "for _ in range(10):\n",
    "    x = optim.ask()\n",
    "    value = test_args(*x.args, **x.kwargs)\n",
    "    optim.tell(x, value)\n",
    "    print(x, value)\n",
    "    "
   ]
  },
  {
   "cell_type": "code",
   "execution_count": 27,
   "metadata": {},
   "outputs": [
    {
     "data": {
      "text/plain": [
       "140"
      ]
     },
     "execution_count": 27,
     "metadata": {},
     "output_type": "execute_result"
    }
   ],
   "source": [
    "\n",
    "optim.num_ask"
   ]
  },
  {
   "cell_type": "code",
   "execution_count": 6,
   "metadata": {},
   "outputs": [
    {
     "data": {
      "text/plain": [
       "Candidate(args=(-1.2557597196634664, 6.25145254979884), kwargs={}, data=[-0.41633508  0.41474829])"
      ]
     },
     "execution_count": 6,
     "metadata": {},
     "output_type": "execute_result"
    }
   ],
   "source": [
    "recommendation = optim.provide_recommendation()\n",
    "recommendation"
   ]
  },
  {
   "cell_type": "markdown",
   "metadata": {},
   "source": [
    "### Second round "
   ]
  },
  {
   "cell_type": "code",
   "execution_count": 7,
   "metadata": {},
   "outputs": [],
   "source": [
    "for _ in range(100):\n",
    "    x = optim.ask()\n",
    "    value = test_args(*x.args, **x.kwargs)\n",
    "    optim.tell(x, value)"
   ]
  },
  {
   "cell_type": "code",
   "execution_count": 8,
   "metadata": {},
   "outputs": [
    {
     "data": {
      "text/plain": [
       "Candidate(args=(-4.806748630423462, 9.522089750330188), kwargs={}, data=[-16.45104526   6.6103312 ])"
      ]
     },
     "execution_count": 8,
     "metadata": {},
     "output_type": "execute_result"
    }
   ],
   "source": [
    "recommendation = optim.provide_recommendation()\n",
    "recommendation"
   ]
  },
  {
   "cell_type": "markdown",
   "metadata": {},
   "source": [
    "## Candidates as a list"
   ]
  },
  {
   "cell_type": "code",
   "execution_count": 9,
   "metadata": {},
   "outputs": [],
   "source": [
    "optim2 = optimizerlib.registry['DE'](instrumentation=instrum, budget=60, num_workers=2)"
   ]
  },
  {
   "cell_type": "code",
   "execution_count": 10,
   "metadata": {},
   "outputs": [
    {
     "data": {
      "text/plain": [
       "30"
      ]
     },
     "execution_count": 10,
     "metadata": {},
     "output_type": "execute_result"
    }
   ],
   "source": [
    "optim2.llambda"
   ]
  },
  {
   "cell_type": "code",
   "execution_count": 11,
   "metadata": {},
   "outputs": [],
   "source": [
    "optim2._llambda = 40"
   ]
  },
  {
   "cell_type": "code",
   "execution_count": 12,
   "metadata": {},
   "outputs": [
    {
     "data": {
      "text/plain": [
       "40"
      ]
     },
     "execution_count": 12,
     "metadata": {},
     "output_type": "execute_result"
    }
   ],
   "source": [
    "optim2.llambda"
   ]
  },
  {
   "cell_type": "code",
   "execution_count": 13,
   "metadata": {},
   "outputs": [],
   "source": [
    "optim2._parameters.popsize = 'large'"
   ]
  },
  {
   "cell_type": "code",
   "execution_count": 14,
   "metadata": {},
   "outputs": [
    {
     "data": {
      "text/plain": [
       "40"
      ]
     },
     "execution_count": 14,
     "metadata": {},
     "output_type": "execute_result"
    }
   ],
   "source": [
    "optim2.llambda"
   ]
  },
  {
   "cell_type": "code",
   "execution_count": 15,
   "metadata": {},
   "outputs": [
    {
     "data": {
      "text/plain": [
       "[Candidate(args=(1.7992793580143474, 3.303631322458731), kwargs={}, data=[ 0.63430177 -0.58985957]),\n",
       " Candidate(args=(3.1577135768448064, 2.9429389733303037), kwargs={}, data=[ 1.53042371 -0.75429584]),\n",
       " Candidate(args=(-0.39625703121105094, 2.6809175739967634), kwargs={}, data=[-0.1251349  -0.89232981]),\n",
       " Candidate(args=(-2.629277730225453, 1.4616232900243018), kwargs={}, data=[-1.08471477 -2.02252687]),\n",
       " Candidate(args=(2.668646214923511, 2.4730833672386736), kwargs={}, data=[ 1.11200245 -1.01705686]),\n",
       " Candidate(args=(-1.615771664032394, 2.8625374928486687), kwargs={}, data=[-0.55622464 -0.79470454]),\n",
       " Candidate(args=(-1.6703712203145569, 3.8015515513701197), kwargs={}, data=[-0.57890307 -0.39536427]),\n",
       " Candidate(args=(1.3100496974165117, 4.798242366169475), kwargs={}, data=[ 0.43649222 -0.06346905]),\n",
       " Candidate(args=(-1.7406578374418356, 6.589300359157967), kwargs={}, data=[-0.60877096  0.5453854 ]),\n",
       " Candidate(args=(-1.6233243416496586, 3.165977628963581), kwargs={}, data=[-0.55933559 -0.64971539]),\n",
       " Candidate(args=(1.1269244926452573, 7.786181381110088), kwargs={}, data=[0.36960651 1.19816347]),\n",
       " Candidate(args=(-1.654355032225013, 2.4297442802744516), kwargs={}, data=[-0.57220465 -1.04514676]),\n",
       " Candidate(args=(-1.3455810939322566, 5.079997401562255), kwargs={}, data=[-0.4498471   0.02513722]),\n",
       " Candidate(args=(1.7778656731226996, 3.8394310956154527), kwargs={}, data=[ 0.62490775 -0.3816677 ]),\n",
       " Candidate(args=(-0.25874521648518756, 2.6012985193525924), kwargs={}, data=[-0.08146672 -0.93829512]),\n",
       " Candidate(args=(2.578656584248576, 3.1133572242112733), kwargs={}, data=[ 1.05068415 -0.67348233]),\n",
       " Candidate(args=(-3.1391584106881556, 4.501035958938281), kwargs={}, data=[-1.51111318 -0.15805084]),\n",
       " Candidate(args=(-3.1045966717499383, 2.4557124363571687), kwargs={}, data=[-1.47603585 -1.02822117]),\n",
       " Candidate(args=(-1.6249671641228278, 2.5783699558465965), kwargs={}, data=[-0.56001336 -0.95193245]),\n",
       " Candidate(args=(1.4018748158879697, 2.062419506007824), kwargs={}, data=[ 0.47128389 -1.32110795]),\n",
       " Candidate(args=(-1.0751453296568432, 3.266522914972454), kwargs={}, data=[-0.35122629 -0.60568325]),\n",
       " Candidate(args=(-3.638713901294835, 2.8006446354687906), kwargs={}, data=[-2.1939801  -0.82693089]),\n",
       " Candidate(args=(0.17098938878005024, 2.235985166140236), kwargs={}, data=[ 0.05376963 -1.18134249]),\n",
       " Candidate(args=(-3.29010367678007, 7.807916117842469), kwargs={}, data=[-1.67897212  1.21493158]),\n",
       " Candidate(args=(-3.117612006299761, 3.1035750435162255), kwargs={}, data=[-1.48911212 -0.67795869]),\n",
       " Candidate(args=(-1.3523260770577221, 7.55989042929238), kwargs={}, data=[-0.45239734  1.03835648]),\n",
       " Candidate(args=(0.22061949631663008, 1.7602709679665836), kwargs={}, data=[ 0.06942086 -1.62009427]),\n",
       " Candidate(args=(2.3240615994744958, 6.861189949147695), kwargs={}, data=[0.89514354 0.66192118]),\n",
       " Candidate(args=(0.57174721488531, 2.596368222893059), kwargs={}, data=[ 0.18157665 -0.94121191]),\n",
       " Candidate(args=(-2.759339121372681, 7.696397302669436), kwargs={}, data=[-1.17782968  1.13169266]),\n",
       " Candidate(args=(3.5633183005812716, 3.5278440312401362), kwargs={}, data=[ 2.06305821 -0.49855562]),\n",
       " Candidate(args=(-3.3247974768798354, 3.902528559068727), kwargs={}, data=[-1.7213739  -0.35912508]),\n",
       " Candidate(args=(1.6857360822189897, 7.6911687035853795), kwargs={}, data=[0.58536587 1.12795326]),\n",
       " Candidate(args=(-1.9789042044706997, 8.28890248195838), kwargs={}, data=[-0.71646508  1.67753189]),\n",
       " Candidate(args=(2.6657272613940823, 3.6801011826795915), kwargs={}, data=[ 1.10995359 -0.44018092]),\n",
       " Candidate(args=(2.628669807632065, 6.80695474480113), kwargs={}, data=[1.08429915 0.6376884 ]),\n",
       " Candidate(args=(1.463020606507662, 2.075354152007047), kwargs={}, data=[ 0.49497742 -1.31001172]),\n",
       " Candidate(args=(3.027675860043988, 3.908068157483377), kwargs={}, data=[ 1.40185335 -0.35716154]),\n",
       " Candidate(args=(2.6007833838594054, 5.689014940881877), kwargs={}, data=[1.06541717 0.21990577]),\n",
       " Candidate(args=(1.6528486134129168, 6.405941858138664), kwargs={}, data=[0.57157661 0.47284632])]"
      ]
     },
     "execution_count": 15,
     "metadata": {},
     "output_type": "execute_result"
    }
   ],
   "source": [
    "candidates = []\n",
    "for _ in range(40):\n",
    "    candidates.append(optim2.ask())\n",
    "    \n",
    "candidates    "
   ]
  },
  {
   "cell_type": "code",
   "execution_count": 16,
   "metadata": {},
   "outputs": [
    {
     "name": "stdout",
     "output_type": "stream",
     "text": [
      "Candidate(args=(1.7992793580143474, 3.303631322458731), kwargs={}) -1.5043519644443837\n",
      "Candidate(args=(3.1577135768448064, 2.9429389733303037), kwargs={}) 0.21477460351450262\n",
      "Candidate(args=(-0.39625703121105094, 2.6809175739967634), kwargs={}) -3.0771746052078144\n",
      "Candidate(args=(-2.629277730225453, 1.4616232900243018), kwargs={}) -4.090901020249754\n",
      "Candidate(args=(2.668646214923511, 2.4730833672386736), kwargs={}) 0.19556284768483723\n",
      "Candidate(args=(-1.615771664032394, 2.8625374928486687), kwargs={}) -4.478309156881062\n",
      "Candidate(args=(-1.6703712203145569, 3.8015515513701197), kwargs={}) -5.471922771684676\n",
      "Candidate(args=(1.3100496974165117, 4.798242366169475), kwargs={}) -3.488192668752964\n",
      "Candidate(args=(-1.7406578374418356, 6.589300359157967), kwargs={}) -8.329958196599803\n",
      "Candidate(args=(-1.6233243416496586, 3.165977628963581), kwargs={}) -4.78930197061324\n",
      "Candidate(args=(1.1269244926452573, 7.786181381110088), kwargs={}) -6.6592568884648315\n",
      "Candidate(args=(-1.654355032225013, 2.4297442802744516), kwargs={}) -4.084099312499465\n",
      "Candidate(args=(-1.3455810939322566, 5.079997401562255), kwargs={}) -6.425578495494512\n",
      "Candidate(args=(1.7778656731226996, 3.8394310956154527), kwargs={}) -2.061565422492753\n",
      "Candidate(args=(-0.25874521648518756, 2.6012985193525924), kwargs={}) -2.86004373583778\n",
      "Candidate(args=(2.578656584248576, 3.1133572242112733), kwargs={}) -0.5347006399626975\n",
      "Candidate(args=(-3.1391584106881556, 4.501035958938281), kwargs={}) -7.640194369626436\n",
      "Candidate(args=(-3.1045966717499383, 2.4557124363571687), kwargs={}) -5.560309108107107\n",
      "Candidate(args=(-1.6249671641228278, 2.5783699558465965), kwargs={}) -4.203337119969424\n",
      "Candidate(args=(1.4018748158879697, 2.062419506007824), kwargs={}) -0.6605446901198542\n",
      "Candidate(args=(-1.0751453296568432, 3.266522914972454), kwargs={}) -4.341668244629297\n",
      "Candidate(args=(-3.638713901294835, 2.8006446354687906), kwargs={}) -6.439358536763626\n",
      "Candidate(args=(0.17098938878005024, 2.235985166140236), kwargs={}) -2.0649957773601857\n",
      "Candidate(args=(-3.29010367678007, 7.807916117842469), kwargs={}) -11.09801979462254\n",
      "Candidate(args=(-3.117612006299761, 3.1035750435162255), kwargs={}) -6.2211870498159865\n",
      "Candidate(args=(-1.3523260770577221, 7.55989042929238), kwargs={}) -8.912216506350102\n",
      "Candidate(args=(0.22061949631663008, 1.7602709679665836), kwargs={}) -1.5396514716499534\n",
      "Candidate(args=(2.3240615994744958, 6.861189949147695), kwargs={}) -4.5371283496732\n",
      "Candidate(args=(0.57174721488531, 2.596368222893059), kwargs={}) -2.024621008007749\n",
      "Candidate(args=(-2.759339121372681, 7.696397302669436), kwargs={}) -10.455736424042117\n",
      "Candidate(args=(3.5633183005812716, 3.5278440312401362), kwargs={}) 0.0354742693411354\n",
      "Candidate(args=(-3.3247974768798354, 3.902528559068727), kwargs={}) -7.227326035948563\n",
      "Candidate(args=(1.6857360822189897, 7.6911687035853795), kwargs={}) -6.00543262136639\n",
      "Candidate(args=(-1.9789042044706997, 8.28890248195838), kwargs={}) -10.26780668642908\n",
      "Candidate(args=(2.6657272613940823, 3.6801011826795915), kwargs={}) -1.0143739212855092\n",
      "Candidate(args=(2.628669807632065, 6.80695474480113), kwargs={}) -4.178284937169066\n",
      "Candidate(args=(1.463020606507662, 2.075354152007047), kwargs={}) -0.6123335454993848\n",
      "Candidate(args=(3.027675860043988, 3.908068157483377), kwargs={}) -0.8803922974393892\n",
      "Candidate(args=(2.6007833838594054, 5.689014940881877), kwargs={}) -3.088231557022471\n",
      "Candidate(args=(1.6528486134129168, 6.405941858138664), kwargs={}) -4.753093244725747\n"
     ]
    }
   ],
   "source": [
    "for candidate in candidates:\n",
    "    value = test_args(*candidate.args, **candidate.kwargs)\n",
    "    optim2.tell(candidate, value)\n",
    "    \n",
    "    print(candidate, value)\n"
   ]
  },
  {
   "cell_type": "code",
   "execution_count": 17,
   "metadata": {},
   "outputs": [
    {
     "data": {
      "text/plain": [
       "Candidate(args=(-3.29010367678007, 7.807916117842469), kwargs={}, data=[-1.67897212  1.21493158])"
      ]
     },
     "execution_count": 17,
     "metadata": {},
     "output_type": "execute_result"
    }
   ],
   "source": [
    "optim2.provide_recommendation()"
   ]
  },
  {
   "cell_type": "code",
   "execution_count": null,
   "metadata": {},
   "outputs": [],
   "source": []
  }
 ],
 "metadata": {
  "kernelspec": {
   "display_name": "brian_opt",
   "language": "python",
   "name": "brian_opt"
  },
  "language_info": {
   "codemirror_mode": {
    "name": "ipython",
    "version": 3
   },
   "file_extension": ".py",
   "mimetype": "text/x-python",
   "name": "python",
   "nbconvert_exporter": "python",
   "pygments_lexer": "ipython3",
   "version": "3.7.3"
  }
 },
 "nbformat": 4,
 "nbformat_minor": 2
}
