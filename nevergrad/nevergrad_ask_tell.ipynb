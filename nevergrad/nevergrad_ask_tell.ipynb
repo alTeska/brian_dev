{
 "cells": [
  {
   "cell_type": "markdown",
   "metadata": {},
   "source": [
    "# Nevergrad Options"
   ]
  },
  {
   "cell_type": "code",
   "execution_count": 1,
   "metadata": {},
   "outputs": [],
   "source": [
    "import numpy as np\n",
    "import multiprocessing as mp\n",
    "\n",
    "from scipy.optimize import differential_evolution, rosen\n",
    "from scipy.optimize._differentialevolution import DifferentialEvolutionSolver\n",
    "\n",
    "from nevergrad.optimization import optimizerlib\n",
    "from concurrent import futures\n",
    "from nevergrad import instrumentation as inst"
   ]
  },
  {
   "cell_type": "code",
   "execution_count": 2,
   "metadata": {},
   "outputs": [],
   "source": [
    "def test_args(*args):\n",
    "    return args[0] - args[1]"
   ]
  },
  {
   "cell_type": "code",
   "execution_count": 3,
   "metadata": {},
   "outputs": [],
   "source": [
    "arg1 = inst.var.Array(1).bounded(-5, 5).asscalar()\n",
    "arg2 = inst.var.Array(1).bounded(0, 10).asscalar()\n",
    "instrum = inst.Instrumentation(arg1, arg2)"
   ]
  },
  {
   "cell_type": "code",
   "execution_count": 4,
   "metadata": {},
   "outputs": [],
   "source": [
    "# pick the optimization method; budget = number of allowed evaluations\n",
    "optim = optimizerlib.registry['DE'](instrumentation=instrum, budget=10000, num_workers=2)"
   ]
  },
  {
   "cell_type": "code",
   "execution_count": 5,
   "metadata": {},
   "outputs": [
    {
     "name": "stdout",
     "output_type": "stream",
     "text": [
      "Candidate(args=(3.68655062753555, 5.604143645881089), kwargs={}) -1.9175930183455385\n",
      "Candidate(args=(0.9041809261045395, 6.183757202889283), kwargs={}) -5.279576276784743\n",
      "Candidate(args=(-2.8545069846868634, 7.8200407620608114), kwargs={}) -10.674547746747674\n",
      "Candidate(args=(2.610151022286655, 7.62781788481868), kwargs={}) -5.017666862532025\n",
      "Candidate(args=(1.7770557717198043, 1.8758355013447336), kwargs={}) -0.09877972962492931\n",
      "Candidate(args=(1.1375016490889223, 3.775848619996525), kwargs={}) -2.6383469709076026\n",
      "Candidate(args=(3.8242271495192157, 3.7576443157851163), kwargs={}) 0.06658283373409946\n",
      "Candidate(args=(2.9985688898252154, 8.318659878554703), kwargs={}) -5.320090988729488\n",
      "Candidate(args=(-0.756187731383248, 5.346651444856206), kwargs={}) -6.102839176239454\n",
      "Candidate(args=(-1.8521577321327645, 3.682576785324332), kwargs={}) -5.534734517457096\n"
     ]
    }
   ],
   "source": [
    "for _ in range(10):\n",
    "    x = optim.ask()\n",
    "    value = test_args(*x.args, **x.kwargs)\n",
    "    optim.tell(x, value)\n",
    "    print(x, value)\n",
    "    "
   ]
  },
  {
   "cell_type": "code",
   "execution_count": 6,
   "metadata": {},
   "outputs": [
    {
     "data": {
      "text/plain": [
       "Candidate(args=(-2.8545069846868634, 7.8200407620608114), kwargs={}, data=[-1.25183237  1.22440695])"
      ]
     },
     "execution_count": 6,
     "metadata": {},
     "output_type": "execute_result"
    }
   ],
   "source": [
    "recommendation = optim.provide_recommendation()\n",
    "recommendation"
   ]
  },
  {
   "cell_type": "markdown",
   "metadata": {},
   "source": [
    "### Second round "
   ]
  },
  {
   "cell_type": "code",
   "execution_count": 7,
   "metadata": {},
   "outputs": [],
   "source": [
    "for _ in range(100):\n",
    "    x = optim.ask()\n",
    "    value = test_args(*x.args, **x.kwargs)\n",
    "    optim.tell(x, value)"
   ]
  },
  {
   "cell_type": "code",
   "execution_count": 8,
   "metadata": {},
   "outputs": [
    {
     "data": {
      "text/plain": [
       "Candidate(args=(-4.700410499890653, 9.608747451716308), kwargs={}, data=[-10.59347641   8.09464975])"
      ]
     },
     "execution_count": 8,
     "metadata": {},
     "output_type": "execute_result"
    }
   ],
   "source": [
    "recommendation = optim.provide_recommendation()\n",
    "recommendation"
   ]
  },
  {
   "cell_type": "markdown",
   "metadata": {},
   "source": [
    "## Candidates as a list"
   ]
  },
  {
   "cell_type": "code",
   "execution_count": 9,
   "metadata": {},
   "outputs": [],
   "source": [
    "optim2 = optimizerlib.registry['DE'](instrumentation=instrum, budget=60, num_workers=2)"
   ]
  },
  {
   "cell_type": "code",
   "execution_count": 10,
   "metadata": {},
   "outputs": [
    {
     "data": {
      "text/plain": [
       "30"
      ]
     },
     "execution_count": 10,
     "metadata": {},
     "output_type": "execute_result"
    }
   ],
   "source": [
    "optim2.llambda"
   ]
  },
  {
   "cell_type": "code",
   "execution_count": 11,
   "metadata": {},
   "outputs": [],
   "source": [
    "optim2._llambda = 40"
   ]
  },
  {
   "cell_type": "code",
   "execution_count": 12,
   "metadata": {},
   "outputs": [
    {
     "data": {
      "text/plain": [
       "40"
      ]
     },
     "execution_count": 12,
     "metadata": {},
     "output_type": "execute_result"
    }
   ],
   "source": [
    "optim2.llambda"
   ]
  },
  {
   "cell_type": "code",
   "execution_count": 13,
   "metadata": {},
   "outputs": [],
   "source": [
    "optim2._parameters.popsize = 'large'"
   ]
  },
  {
   "cell_type": "code",
   "execution_count": 14,
   "metadata": {},
   "outputs": [
    {
     "data": {
      "text/plain": [
       "40"
      ]
     },
     "execution_count": 14,
     "metadata": {},
     "output_type": "execute_result"
    }
   ],
   "source": [
    "optim2.llambda"
   ]
  },
  {
   "cell_type": "code",
   "execution_count": 15,
   "metadata": {},
   "outputs": [
    {
     "data": {
      "text/plain": [
       "[Candidate(args=(-3.56972278309648, 4.574987517841511), kwargs={}, data=[-2.07367795 -0.13432078]),\n",
       " Candidate(args=(1.053926408995553, 7.507675714078016), kwargs={}, data=[0.34375522 1.00483446]),\n",
       " Candidate(args=(-1.9855815103899257, 2.9228696029369043), kwargs={}, data=[-0.71964441 -0.76423551]),\n",
       " Candidate(args=(3.1446664152045276, 5.386200814268394), kwargs={}, data=[1.51680975 0.12192743]),\n",
       " Candidate(args=(2.1229482074991246, 3.8349036166867334), kwargs={}, data=[ 0.78729178 -0.38329813]),\n",
       " Candidate(args=(-1.7051927911313751, 7.020723535720634), kwargs={}, data=[-0.59360242  0.73653709]),\n",
       " Candidate(args=(-2.0032779578619078, 3.0726599640646812), kwargs={}, data=[-0.7281171  -0.69222939]),\n",
       " Candidate(args=(-1.936804198094351, 4.426896839114385), kwargs={}, data=[-0.69663646 -0.18201671]),\n",
       " Candidate(args=(1.335348389939061, 5.145132667139655), kwargs={}, data=[0.44598744 0.04562639]),\n",
       " Candidate(args=(1.0926716860166676, 5.054150270804809), kwargs={}, data=[0.35742364 0.01701345]),\n",
       " Candidate(args=(4.0503103271334675, 7.982799502027826), kwargs={}, data=[3.25167876 1.36085664]),\n",
       " Candidate(args=(-2.621599605876583, 6.518619038636513), kwargs={}, data=[-1.07947815  0.51691549]),\n",
       " Candidate(args=(3.583356372485974, 2.144754623069268), kwargs={}, data=[ 2.09658265 -1.25242804]),\n",
       " Candidate(args=(-2.6166935278932892, 1.9198584756319232), kwargs={}, data=[-1.07614638 -1.451888  ]),\n",
       " Candidate(args=(3.2228455526573794, 6.28712217872964), kwargs={}, data=[1.60103209 0.42794372]),\n",
       " Candidate(args=(3.85209760630233, 2.996166155122367), kwargs={}, data=[ 2.65170663 -0.72838436]),\n",
       " Candidate(args=(-1.3796978999079021, 5.00967929060168), kwargs={}, data=[-0.46279709  0.00304085]),\n",
       " Candidate(args=(3.6733165190042656, 7.940402156669137), kwargs={}, data=[2.25872435 1.3235444 ]),\n",
       " Candidate(args=(-1.1180640085293798, 2.2937387400128872), kwargs={}, data=[-0.36644589 -1.1387852 ]),\n",
       " Candidate(args=(-0.8985384135024449, 3.0258033773246034), kwargs={}, data=[-0.290029   -0.71422935]),\n",
       " Candidate(args=(-1.9460524161190706, 8.099596699211755), kwargs={}, data=[-0.70096064  1.47105436]),\n",
       " Candidate(args=(-2.2824021742777996, 3.475909436307065), kwargs={}, data=[-0.87184058 -0.51909566]),\n",
       " Candidate(args=(1.0815795699603972, 7.477426479376259), kwargs={}, data=[0.35349864 0.98591628]),\n",
       " Candidate(args=(-2.8383877847540093, 5.772357341429083), kwargs={}, data=[-1.23891445  0.24752003]),\n",
       " Candidate(args=(2.152673869595623, 3.8603933018631826), kwargs={}, data=[ 0.80253118 -0.37414173]),\n",
       " Candidate(args=(1.6338913843423006, 3.1126425886205893), kwargs={}, data=[ 0.56370204 -0.67380872]),\n",
       " Candidate(args=(3.39324780979783, 3.3927021365445302), kwargs={}, data=[ 1.8098884  -0.55274404]),\n",
       " Candidate(args=(-1.4049197910832352, 7.184155107586008), kwargs={}, data=[-0.4724535   0.81892173]),\n",
       " Candidate(args=(0.36738523283853747, 6.428717309371721), kwargs={}, data=[0.11593272 0.48163108]),\n",
       " Candidate(args=(3.0587260972314763, 6.479589582727112), kwargs={}, data=[1.43117994 0.50147483]),\n",
       " Candidate(args=(-1.8164050019002536, 7.330862950702878), kwargs={}, data=[-0.64187251  0.89899973]),\n",
       " Candidate(args=(-1.624487277941556, 4.718032962560691), kwargs={}, data=[-0.55981533 -0.08881499]),\n",
       " Candidate(args=(-1.4597025194272775, 4.6081378648595495), kwargs={}, data=[-0.49368029 -0.12373282]),\n",
       " Candidate(args=(2.064730079549705, 4.359018010283137), kwargs={}, data=[ 0.75808283 -0.20413718]),\n",
       " Candidate(args=(-1.0905435726637627, 6.2570400502582295), kwargs={}, data=[-0.35666984  0.41680711]),\n",
       " Candidate(args=(-0.1020748375451356, 3.32921191542275), kwargs={}, data=[-0.03207875 -0.57907794]),\n",
       " Candidate(args=(3.460392805219415, 5.752412253214744), kwargs={}, data=[1.90367541 0.24088042]),\n",
       " Candidate(args=(-2.6112529120081938, 7.010228258490425), kwargs={}, data=[-1.07246449  0.73146352]),\n",
       " Candidate(args=(1.6939647155229123, 3.9720892901252025), kwargs={}, data=[ 0.58884203 -0.33464176]),\n",
       " Candidate(args=(-0.010185413617938469, 5.627189180153704), kwargs={}, data=[-0.00319985  0.19962743])]"
      ]
     },
     "execution_count": 15,
     "metadata": {},
     "output_type": "execute_result"
    }
   ],
   "source": [
    "candidates = []\n",
    "for _ in range(40):\n",
    "    candidates.append(optim2.ask())\n",
    "    \n",
    "candidates    "
   ]
  },
  {
   "cell_type": "code",
   "execution_count": 16,
   "metadata": {},
   "outputs": [
    {
     "name": "stdout",
     "output_type": "stream",
     "text": [
      "Candidate(args=(-3.56972278309648, 4.574987517841511), kwargs={}) -8.14471030093799\n",
      "Candidate(args=(1.053926408995553, 7.507675714078016), kwargs={}) -6.4537493050824635\n",
      "Candidate(args=(-1.9855815103899257, 2.9228696029369043), kwargs={}) -4.90845111332683\n",
      "Candidate(args=(3.1446664152045276, 5.386200814268394), kwargs={}) -2.241534399063866\n",
      "Candidate(args=(2.1229482074991246, 3.8349036166867334), kwargs={}) -1.7119554091876088\n",
      "Candidate(args=(-1.7051927911313751, 7.020723535720634), kwargs={}) -8.72591632685201\n",
      "Candidate(args=(-2.0032779578619078, 3.0726599640646812), kwargs={}) -5.075937921926589\n",
      "Candidate(args=(-1.936804198094351, 4.426896839114385), kwargs={}) -6.363701037208736\n",
      "Candidate(args=(1.335348389939061, 5.145132667139655), kwargs={}) -3.8097842772005936\n",
      "Candidate(args=(1.0926716860166676, 5.054150270804809), kwargs={}) -3.961478584788141\n",
      "Candidate(args=(4.0503103271334675, 7.982799502027826), kwargs={}) -3.932489174894359\n",
      "Candidate(args=(-2.621599605876583, 6.518619038636513), kwargs={}) -9.140218644513096\n",
      "Candidate(args=(3.583356372485974, 2.144754623069268), kwargs={}) 1.4386017494167058\n",
      "Candidate(args=(-2.6166935278932892, 1.9198584756319232), kwargs={}) -4.5365520035252125\n",
      "Candidate(args=(3.2228455526573794, 6.28712217872964), kwargs={}) -3.0642766260722607\n",
      "Candidate(args=(3.85209760630233, 2.996166155122367), kwargs={}) 0.8559314511799627\n",
      "Candidate(args=(-1.3796978999079021, 5.00967929060168), kwargs={}) -6.389377190509582\n",
      "Candidate(args=(3.6733165190042656, 7.940402156669137), kwargs={}) -4.267085637664872\n",
      "Candidate(args=(-1.1180640085293798, 2.2937387400128872), kwargs={}) -3.411802748542267\n",
      "Candidate(args=(-0.8985384135024449, 3.0258033773246034), kwargs={}) -3.9243417908270484\n",
      "Candidate(args=(-1.9460524161190706, 8.099596699211755), kwargs={}) -10.045649115330825\n",
      "Candidate(args=(-2.2824021742777996, 3.475909436307065), kwargs={}) -5.758311610584864\n",
      "Candidate(args=(1.0815795699603972, 7.477426479376259), kwargs={}) -6.395846909415862\n",
      "Candidate(args=(-2.8383877847540093, 5.772357341429083), kwargs={}) -8.610745126183092\n",
      "Candidate(args=(2.152673869595623, 3.8603933018631826), kwargs={}) -1.7077194322675595\n",
      "Candidate(args=(1.6338913843423006, 3.1126425886205893), kwargs={}) -1.4787512042782887\n",
      "Candidate(args=(3.39324780979783, 3.3927021365445302), kwargs={}) 0.0005456732532995723\n",
      "Candidate(args=(-1.4049197910832352, 7.184155107586008), kwargs={}) -8.589074898669244\n",
      "Candidate(args=(0.36738523283853747, 6.428717309371721), kwargs={}) -6.0613320765331835\n",
      "Candidate(args=(3.0587260972314763, 6.479589582727112), kwargs={}) -3.4208634854956355\n",
      "Candidate(args=(-1.8164050019002536, 7.330862950702878), kwargs={}) -9.147267952603132\n",
      "Candidate(args=(-1.624487277941556, 4.718032962560691), kwargs={}) -6.342520240502247\n",
      "Candidate(args=(-1.4597025194272775, 4.6081378648595495), kwargs={}) -6.067840384286827\n",
      "Candidate(args=(2.064730079549705, 4.359018010283137), kwargs={}) -2.294287930733432\n",
      "Candidate(args=(-1.0905435726637627, 6.2570400502582295), kwargs={}) -7.347583622921992\n",
      "Candidate(args=(-0.1020748375451356, 3.32921191542275), kwargs={}) -3.4312867529678854\n",
      "Candidate(args=(3.460392805219415, 5.752412253214744), kwargs={}) -2.292019447995329\n",
      "Candidate(args=(-2.6112529120081938, 7.010228258490425), kwargs={}) -9.621481170498619\n",
      "Candidate(args=(1.6939647155229123, 3.9720892901252025), kwargs={}) -2.2781245746022902\n",
      "Candidate(args=(-0.010185413617938469, 5.627189180153704), kwargs={}) -5.637374593771643\n"
     ]
    }
   ],
   "source": [
    "for candidate in candidates:\n",
    "    value = test_args(*candidate.args, **candidate.kwargs)\n",
    "    optim2.tell(candidate, value)\n",
    "    \n",
    "    print(candidate, value)\n"
   ]
  },
  {
   "cell_type": "code",
   "execution_count": 17,
   "metadata": {},
   "outputs": [
    {
     "data": {
      "text/plain": [
       "Candidate(args=(-1.9460524161190706, 8.099596699211755), kwargs={}, data=[-0.70096064  1.47105436])"
      ]
     },
     "execution_count": 17,
     "metadata": {},
     "output_type": "execute_result"
    }
   ],
   "source": [
    "optim2.provide_recommendation()"
   ]
  },
  {
   "cell_type": "code",
   "execution_count": null,
   "metadata": {},
   "outputs": [],
   "source": []
  }
 ],
 "metadata": {
  "kernelspec": {
   "display_name": "brian_opt",
   "language": "python",
   "name": "brian_opt"
  },
  "language_info": {
   "codemirror_mode": {
    "name": "ipython",
    "version": 3
   },
   "file_extension": ".py",
   "mimetype": "text/x-python",
   "name": "python",
   "nbconvert_exporter": "python",
   "pygments_lexer": "ipython3",
   "version": "3.7.3"
  }
 },
 "nbformat": 4,
 "nbformat_minor": 2
}
