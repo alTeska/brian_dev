{
 "cells": [
  {
   "cell_type": "markdown",
   "metadata": {},
   "source": [
    "# Nevergrad Options"
   ]
  },
  {
   "cell_type": "code",
   "execution_count": 1,
   "metadata": {},
   "outputs": [],
   "source": [
    "import numpy as np\n",
    "import multiprocessing as mp\n",
    "\n",
    "from scipy.optimize import differential_evolution, rosen\n",
    "from scipy.optimize._differentialevolution import DifferentialEvolutionSolver\n",
    "\n",
    "from nevergrad.optimization import optimizerlib\n",
    "from concurrent import futures\n",
    "from nevergrad import instrumentation as inst"
   ]
  },
  {
   "cell_type": "code",
   "execution_count": 2,
   "metadata": {},
   "outputs": [],
   "source": [
    "def test_args(*args):\n",
    "    return args[0] - args[1]"
   ]
  },
  {
   "cell_type": "code",
   "execution_count": 3,
   "metadata": {},
   "outputs": [],
   "source": [
    "arg1 = inst.var.Array(1).bounded(-5, 5).asscalar()\n",
    "arg2 = inst.var.Array(1).bounded(0, 10).asscalar()\n",
    "instrum = inst.Instrumentation(arg1, arg2)"
   ]
  },
  {
   "cell_type": "code",
   "execution_count": 4,
   "metadata": {},
   "outputs": [],
   "source": [
    "# pick the optimization method; budget = number of allowed evaluations\n",
    "optim = optimizerlib.registry['DE'](instrumentation=instrum, budget=10000, num_workers=2)"
   ]
  },
  {
   "cell_type": "code",
   "execution_count": 5,
   "metadata": {},
   "outputs": [
    {
     "name": "stdout",
     "output_type": "stream",
     "text": [
      "Candidate(args=(3.400828873827265, 4.990904534247796), kwargs={}) -1.5900756604205308\n",
      "Candidate(args=(3.1321171686628433, 1.0188518419894126), kwargs={}) 2.1132653266734307\n",
      "Candidate(args=(-1.2077630158583053, 1.3982495954459861), kwargs={}) -2.6060126113042914\n",
      "Candidate(args=(0.6192372292962012, 2.943211991499944), kwargs={}) -2.323974762203743\n",
      "Candidate(args=(-1.3062921271688404, 2.4837381032090544), kwargs={}) -3.7900302303778948\n",
      "Candidate(args=(1.156778817077077, 3.9018194472676297), kwargs={}) -2.7450406301905526\n",
      "Candidate(args=(1.585763150635329, 7.550764476434884), kwargs={}) -5.965001325799554\n",
      "Candidate(args=(0.20772778689580917, 6.799045346103395), kwargs={}) -6.591317559207586\n",
      "Candidate(args=(1.0317210874106517, 4.983778289494067), kwargs={}) -3.9520572020834153\n",
      "Candidate(args=(1.0166928919190277, 8.249843525164621), kwargs={}) -7.233150633245594\n"
     ]
    }
   ],
   "source": [
    "for _ in range(10):\n",
    "    x = optim.ask()\n",
    "    value = test_args(*x.args, **x.kwargs)\n",
    "    optim.tell(x, value)\n",
    "    print(x, value)\n",
    "    "
   ]
  },
  {
   "cell_type": "code",
   "execution_count": 6,
   "metadata": {},
   "outputs": [
    {
     "data": {
      "text/plain": [
       "Candidate(args=(1.0166928919190277, 8.249843525164621), kwargs={}, data=[0.33072752 1.63167164])"
      ]
     },
     "execution_count": 6,
     "metadata": {},
     "output_type": "execute_result"
    }
   ],
   "source": [
    "recommendation = optim.provide_recommendation()\n",
    "recommendation"
   ]
  },
  {
   "cell_type": "markdown",
   "metadata": {},
   "source": [
    "### Second round "
   ]
  },
  {
   "cell_type": "code",
   "execution_count": 7,
   "metadata": {},
   "outputs": [],
   "source": [
    "for _ in range(100):\n",
    "    x = optim.ask()\n",
    "    value = test_args(*x.args, **x.kwargs)\n",
    "    optim.tell(x, value)"
   ]
  },
  {
   "cell_type": "code",
   "execution_count": 8,
   "metadata": {},
   "outputs": [
    {
     "data": {
      "text/plain": [
       "Candidate(args=(-4.685677709948526, 9.884192363889358), kwargs={}, data=[-10.09392612  27.47395945])"
      ]
     },
     "execution_count": 8,
     "metadata": {},
     "output_type": "execute_result"
    }
   ],
   "source": [
    "recommendation = optim.provide_recommendation()\n",
    "recommendation"
   ]
  },
  {
   "cell_type": "markdown",
   "metadata": {},
   "source": [
    "## Candidates as a list"
   ]
  },
  {
   "cell_type": "code",
   "execution_count": 9,
   "metadata": {},
   "outputs": [],
   "source": [
    "optim2 = optimizerlib.registry['DE'](instrumentation=instrum, budget=10000, num_workers=2)"
   ]
  },
  {
   "cell_type": "code",
   "execution_count": 10,
   "metadata": {},
   "outputs": [
    {
     "data": {
      "text/plain": [
       "[Candidate(args=(3.3370762172462958, 4.709560150529718), kwargs={}, data=[ 1.73676386 -0.09149844]),\n",
       " Candidate(args=(-3.9611628873351523, 4.64511399433361), kwargs={}, data=[-2.95453098 -0.11195499]),\n",
       " Candidate(args=(-3.691299512747834, 6.631094947077176), kwargs={}, data=[-2.29364277  0.56254493]),\n",
       " Candidate(args=(0.8732346210549986, 6.983645214941161), kwargs={}, data=[0.28143054 0.71872148]),\n",
       " Candidate(args=(2.93321332027968, 6.583595864195776), kwargs={}, data=[1.31734821 0.5430625 ]),\n",
       " Candidate(args=(0.8560272714115118, 2.7698526738168128), kwargs={}, data=[ 0.27560533 -0.84335127]),\n",
       " Candidate(args=(-1.427896738479835, 1.2380318594108788), kwargs={}, data=[-0.48131353 -2.44012309]),\n",
       " Candidate(args=(1.7746385465592676, 7.640564460056946), kwargs={}, data=[0.6234989  1.09246247]),\n",
       " Candidate(args=(2.131777785788943, 1.6467925894851074), kwargs={}, data=[ 0.79179486 -1.75729868]),\n",
       " Candidate(args=(0.9236673594955692, 7.175061695229371), kwargs={}, data=[0.29860737 0.81416023])]"
      ]
     },
     "execution_count": 10,
     "metadata": {},
     "output_type": "execute_result"
    }
   ],
   "source": [
    "candidates = []\n",
    "for _ in range(10):\n",
    "    candidates.append(optim2.ask())\n",
    "    \n",
    "candidates    "
   ]
  },
  {
   "cell_type": "code",
   "execution_count": 11,
   "metadata": {},
   "outputs": [
    {
     "name": "stdout",
     "output_type": "stream",
     "text": [
      "Candidate(args=(3.3370762172462958, 4.709560150529718), kwargs={}) -1.3724839332834224\n",
      "Candidate(args=(-3.9611628873351523, 4.64511399433361), kwargs={}) -8.606276881668762\n",
      "Candidate(args=(-3.691299512747834, 6.631094947077176), kwargs={}) -10.32239445982501\n",
      "Candidate(args=(0.8732346210549986, 6.983645214941161), kwargs={}) -6.110410593886162\n",
      "Candidate(args=(2.93321332027968, 6.583595864195776), kwargs={}) -3.650382543916096\n",
      "Candidate(args=(0.8560272714115118, 2.7698526738168128), kwargs={}) -1.913825402405301\n",
      "Candidate(args=(-1.427896738479835, 1.2380318594108788), kwargs={}) -2.665928597890714\n",
      "Candidate(args=(1.7746385465592676, 7.640564460056946), kwargs={}) -5.865925913497678\n",
      "Candidate(args=(2.131777785788943, 1.6467925894851074), kwargs={}) 0.4849851963038354\n",
      "Candidate(args=(0.9236673594955692, 7.175061695229371), kwargs={}) -6.251394335733802\n"
     ]
    }
   ],
   "source": [
    "for candidate in candidates:\n",
    "    value = test_args(*candidate.args, **candidate.kwargs)\n",
    "    optim2.tell(candidate, value)\n",
    "    \n",
    "    print(candidate, value)\n"
   ]
  },
  {
   "cell_type": "code",
   "execution_count": 12,
   "metadata": {},
   "outputs": [
    {
     "data": {
      "text/plain": [
       "Candidate(args=(-3.691299512747834, 6.631094947077176), kwargs={}, data=[-2.29364277  0.56254493])"
      ]
     },
     "execution_count": 12,
     "metadata": {},
     "output_type": "execute_result"
    }
   ],
   "source": [
    "optim2.provide_recommendation()"
   ]
  }
 ],
 "metadata": {
  "kernelspec": {
   "display_name": "brian_opt",
   "language": "python",
   "name": "brian_opt"
  },
  "language_info": {
   "codemirror_mode": {
    "name": "ipython",
    "version": 3
   },
   "file_extension": ".py",
   "mimetype": "text/x-python",
   "name": "python",
   "nbconvert_exporter": "python",
   "pygments_lexer": "ipython3",
   "version": "3.7.3"
  }
 },
 "nbformat": 4,
 "nbformat_minor": 2
}
