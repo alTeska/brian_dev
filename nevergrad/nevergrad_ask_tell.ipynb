{
 "cells": [
  {
   "cell_type": "markdown",
   "metadata": {},
   "source": [
    "# Nevergrad Options"
   ]
  },
  {
   "cell_type": "code",
   "execution_count": 1,
   "metadata": {},
   "outputs": [],
   "source": [
    "import numpy as np\n",
    "import multiprocessing as mp\n",
    "\n",
    "from scipy.optimize import differential_evolution, rosen\n",
    "from scipy.optimize._differentialevolution import DifferentialEvolutionSolver\n",
    "\n",
    "from nevergrad.optimization import optimizerlib\n",
    "from concurrent import futures\n",
    "from nevergrad import instrumentation as inst"
   ]
  },
  {
   "cell_type": "code",
   "execution_count": 2,
   "metadata": {},
   "outputs": [],
   "source": [
    "def test_args(*args):\n",
    "    return args[0] - args[1]"
   ]
  },
  {
   "cell_type": "code",
   "execution_count": 3,
   "metadata": {},
   "outputs": [],
   "source": [
    "arg1 = inst.var.Array(1).bounded(-5, 5).asscalar()\n",
    "arg2 = inst.var.Array(1).bounded(0, 10).asscalar()\n",
    "instrum = inst.Instrumentation(arg1, arg2)"
   ]
  },
  {
   "cell_type": "code",
   "execution_count": 4,
   "metadata": {},
   "outputs": [],
   "source": [
    "# pick the optimization method; budget = number of allowed evaluations\n",
    "optim = optimizerlib.registry['DE'](instrumentation=instrum, budget=10000, num_workers=2)"
   ]
  },
  {
   "cell_type": "code",
   "execution_count": 5,
   "metadata": {},
   "outputs": [
    {
     "name": "stdout",
     "output_type": "stream",
     "text": [
      "Candidate(args=(1.200597108112277, 2.8627268159359627), kwargs={}) -1.6621297078236856\n",
      "Candidate(args=(2.950540542112389, 5.270678363282774), kwargs={}) -2.320137821170385\n",
      "Candidate(args=(-1.8262292542002907, 7.156409913226069), kwargs={}) -8.98263916742636\n",
      "Candidate(args=(2.82573757628053, 7.4186906607096414), kwargs={}) -4.592953084429111\n",
      "Candidate(args=(-0.03359360875027265, 3.883591784543219), kwargs={}) -3.9171853932934915\n",
      "Candidate(args=(0.8894962024815771, 4.226231628783608), kwargs={}) -3.3367354263020306\n",
      "Candidate(args=(3.0147522248276415, 6.833629657787348), kwargs={}) -3.818877432959707\n",
      "Candidate(args=(-0.13111369526601005, 3.5115932362200795), kwargs={}) -3.6427069314860896\n",
      "Candidate(args=(3.2570315811808013, 6.3927714872127845), kwargs={}) -3.1357399060319833\n",
      "Candidate(args=(-3.607982019571851, 4.0452692797676795), kwargs={}) -7.65325129933953\n"
     ]
    }
   ],
   "source": [
    "for _ in range(10):\n",
    "    x = optim.ask()\n",
    "    value = test_args(*x.args, **x.kwargs)\n",
    "    optim.tell(x, value)\n",
    "    print(x, value)\n",
    "    "
   ]
  },
  {
   "cell_type": "code",
   "execution_count": 6,
   "metadata": {},
   "outputs": [
    {
     "data": {
      "text/plain": [
       "Candidate(args=(-1.8262292542002907, 7.156409913226069), kwargs={}, data=[-0.64623915  0.80446265])"
      ]
     },
     "execution_count": 6,
     "metadata": {},
     "output_type": "execute_result"
    }
   ],
   "source": [
    "recommendation = optim.provide_recommendation()\n",
    "recommendation"
   ]
  },
  {
   "cell_type": "markdown",
   "metadata": {},
   "source": [
    "### Second round "
   ]
  },
  {
   "cell_type": "code",
   "execution_count": 7,
   "metadata": {},
   "outputs": [],
   "source": [
    "for _ in range(100):\n",
    "    x = optim.ask()\n",
    "    value = test_args(*x.args, **x.kwargs)\n",
    "    optim.tell(x, value)"
   ]
  },
  {
   "cell_type": "code",
   "execution_count": 8,
   "metadata": {},
   "outputs": [
    {
     "data": {
      "text/plain": [
       "Candidate(args=(-4.59297273559548, 9.734830578150525), kwargs={}, data=[-7.77768752 11.97623798])"
      ]
     },
     "execution_count": 8,
     "metadata": {},
     "output_type": "execute_result"
    }
   ],
   "source": [
    "recommendation = optim.provide_recommendation()\n",
    "recommendation"
   ]
  },
  {
   "cell_type": "markdown",
   "metadata": {},
   "source": [
    "## Candidates as a list"
   ]
  },
  {
   "cell_type": "code",
   "execution_count": 64,
   "metadata": {},
   "outputs": [],
   "source": [
    "optim2 = optimizerlib.registry['DE'](instrumentation=instrum, budget=60, num_workers=2)"
   ]
  },
  {
   "cell_type": "code",
   "execution_count": 65,
   "metadata": {},
   "outputs": [
    {
     "data": {
      "text/plain": [
       "30"
      ]
     },
     "execution_count": 65,
     "metadata": {},
     "output_type": "execute_result"
    }
   ],
   "source": [
    "optim2.llambda"
   ]
  },
  {
   "cell_type": "code",
   "execution_count": 66,
   "metadata": {},
   "outputs": [],
   "source": [
    "optim2._llambda = 40"
   ]
  },
  {
   "cell_type": "code",
   "execution_count": 67,
   "metadata": {},
   "outputs": [
    {
     "data": {
      "text/plain": [
       "40"
      ]
     },
     "execution_count": 67,
     "metadata": {},
     "output_type": "execute_result"
    }
   ],
   "source": [
    "optim2.llambda"
   ]
  },
  {
   "cell_type": "code",
   "execution_count": 68,
   "metadata": {},
   "outputs": [],
   "source": [
    "optim2._parameters.popsize = 'large'"
   ]
  },
  {
   "cell_type": "code",
   "execution_count": 69,
   "metadata": {},
   "outputs": [
    {
     "data": {
      "text/plain": [
       "40"
      ]
     },
     "execution_count": 69,
     "metadata": {},
     "output_type": "execute_result"
    }
   ],
   "source": [
    "optim2.llambda"
   ]
  },
  {
   "cell_type": "code",
   "execution_count": 70,
   "metadata": {},
   "outputs": [
    {
     "data": {
      "text/plain": [
       "[Candidate(args=(1.823962607625096, 5.959100668846051), kwargs={}, data=[0.64523014 0.31077258]),\n",
       " Candidate(args=(-1.3701793499948027, 5.094729490606255), kwargs={}, data=[-0.45917128  0.02976894]),\n",
       " Candidate(args=(3.2980282171121154, 7.006017533352072), kwargs={}, data=[1.68851958 0.72943488]),\n",
       " Candidate(args=(1.7250085125445125, 2.2082191352908027), kwargs={}, data=[ 0.60205261 -1.20245706]),\n",
       " Candidate(args=(-2.617101189559333, 5.255278014607189), kwargs={}, data=[-1.0764228   0.08037033]),\n",
       " Candidate(args=(-0.07604422237793713, 6.507669166556257), kwargs={}, data=[-0.02389454  0.51256403]),\n",
       " Candidate(args=(3.6250933582161564, 2.625907933776402), kwargs={}, data=[ 2.16933503 -0.92386166]),\n",
       " Candidate(args=(1.4039352290868368, 1.8476504357392245), kwargs={}, data=[ 0.4720752  -1.52480608]),\n",
       " Candidate(args=(-1.7200501040258196, 2.143452858350387), kwargs={}, data=[-0.59993224 -1.25347902]),\n",
       " Candidate(args=(0.3434829011465007, 7.224614032576687), kwargs={}, data=[0.10832913 0.84038091]),\n",
       " Candidate(args=(1.5859779377512007, 3.005438041938664), kwargs={}, data=[ 0.54403194 -0.72393554]),\n",
       " Candidate(args=(2.7103655373401323, 6.332524774028844), kwargs={}, data=[1.14175108 0.44492435]),\n",
       " Candidate(args=(-0.10676189986304464, 4.456957016722619), kwargs={}, data=[-0.03355282 -0.17227661]),\n",
       " Candidate(args=(-2.64984361914089, 8.23934052944087), kwargs={}, data=[-1.09887719  1.61965196]),\n",
       " Candidate(args=(-0.715466239250484, 6.166408307013541), kwargs={}, data=[-0.2286337   0.38377091]),\n",
       " Candidate(args=(3.1837020142003762, 5.409317518306015), kwargs={}, data=[1.558057   0.12930439]),\n",
       " Candidate(args=(-1.8703071549050962, 3.659623691670115), kwargs={}, data=[-0.66604821 -0.44788252]),\n",
       " Candidate(args=(1.8932301089520567, 5.402964667709583), kwargs={}, data=[0.67649467 0.12727573]),\n",
       " Candidate(args=(2.6374677277653302, 6.296490402202107), kwargs={}, data=[1.09033078 0.43143022]),\n",
       " Candidate(args=(-1.8132682700805722, 5.816445935789847), kwargs={}, data=[-0.64048196  0.26227097]),\n",
       " Candidate(args=(2.712298814202406, 7.493991129417697), kwargs={}, data=[1.14315116 0.99623162]),\n",
       " Candidate(args=(0.892838842595746, 6.141637719068584), kwargs={}, data=[0.28808881 0.37486929]),\n",
       " Candidate(args=(0.9961040236232745, 7.377520121245922), kwargs={}, data=[0.32356706 0.92585981]),\n",
       " Candidate(args=(-0.5123232634986685, 2.811326119647139), kwargs={}, data=[-0.16235548 -0.82129615]),\n",
       " Candidate(args=(-0.06732900045049654, 4.9849101852882765), kwargs={}, data=[-0.02115518 -0.00474064]),\n",
       " Candidate(args=(-3.2010839776641764, 4.174807585594871), kwargs={}, data=[-1.5769346 -0.2652099]),\n",
       " Candidate(args=(-0.6973822044037945, 1.0365293524298185), kwargs={}, data=[-0.22266315 -2.96159988]),\n",
       " Candidate(args=(-1.5596972778413294, 7.6835261780601325), kwargs={}, data=[-0.53337961  1.12251231]),\n",
       " Candidate(args=(-1.13551073037461, 5.363798631024006), kwargs={}, data=[-0.37267552  0.11479096]),\n",
       " Candidate(args=(0.48943412941005465, 2.6132494305441876), kwargs={}, data=[ 0.15498358 -0.93125994]),\n",
       " Candidate(args=(-3.574688817739969, 2.5302647311662763), kwargs={}, data=[-2.08197368 -0.98116265]),\n",
       " Candidate(args=(2.259753320760008, 2.6449511446092684), kwargs={}, data=[ 0.85939382 -0.91283361]),\n",
       " Candidate(args=(-2.254528310339926, 5.547689996384137), kwargs={}, data=[-0.85654402  0.17378022]),\n",
       " Candidate(args=(2.954898589834858, 3.0528916916657476), kwargs={}, data=[ 1.33615257 -0.70145546]),\n",
       " Candidate(args=(-3.0785140070412242, 4.130703343019539), kwargs={}, data=[-1.45030007 -0.28009587]),\n",
       " Candidate(args=(2.5961351889643414, 5.1774415384503945), kwargs={}, data=[1.06230416 0.05580272]),\n",
       " Candidate(args=(0.550800149548055, 1.4596169697235433), kwargs={}, data=[ 0.17478698 -2.0257396 ]),\n",
       " Candidate(args=(0.9096243528806036, 6.513085447612518), kwargs={}, data=[0.29380854 0.51471452]),\n",
       " Candidate(args=(-0.7922918607744643, 8.64884451300964), kwargs={}, data=[-0.25417674  2.21261261]),\n",
       " Candidate(args=(0.38236719812077474, 2.556515808627766), kwargs={}, data=[ 0.12070534 -0.96510595])]"
      ]
     },
     "execution_count": 70,
     "metadata": {},
     "output_type": "execute_result"
    }
   ],
   "source": [
    "candidates = []\n",
    "for _ in range(40):\n",
    "    candidates.append(optim2.ask())\n",
    "    \n",
    "candidates    "
   ]
  },
  {
   "cell_type": "code",
   "execution_count": 14,
   "metadata": {},
   "outputs": [
    {
     "name": "stdout",
     "output_type": "stream",
     "text": [
      "Candidate(args=(2.6389092804130434, 7.155380931376526), kwargs={}) -4.516471650963483\n",
      "Candidate(args=(-1.0449635805814124, 6.920589520146406), kwargs={}) -7.965553100727818\n",
      "Candidate(args=(2.141306636359861, 5.8212905926332015), kwargs={}) -3.6799839562733405\n",
      "Candidate(args=(-1.256378491628472, 6.470318301303051), kwargs={}) -7.726696792931523\n",
      "Candidate(args=(-0.544069311882044, 3.8886120420822374), kwargs={}) -4.4326813539642815\n",
      "Candidate(args=(1.5050559187934598, 5.412825952435228), kwargs={}) -3.9077700336417687\n",
      "Candidate(args=(-0.9708816267433819, 7.784512679534524), kwargs={}) -8.755394306277905\n",
      "Candidate(args=(0.21822008740614068, 3.713719353078795), kwargs={}) -3.4954992656726542\n",
      "Candidate(args=(0.56929301781256, 1.5013307364352122), kwargs={}) -0.9320377186226522\n",
      "Candidate(args=(1.2158879525283832, 5.27045375525187), kwargs={}) -4.054565802723486\n",
      "Candidate(args=(-3.0424127577314293, 6.860118207086557), kwargs={}) -9.902530964817986\n",
      "Candidate(args=(2.9763184451010427, 4.72719975240317), kwargs={}) -1.750881307302127\n",
      "Candidate(args=(-1.4154220998771008, 4.647043431345676), kwargs={}) -6.062465531222776\n",
      "Candidate(args=(2.6561003764640603, 8.544414784236215), kwargs={}) -5.888314407772155\n",
      "Candidate(args=(-0.09827873348457436, 2.124463488465158), kwargs={}) -2.2227422219497326\n",
      "Candidate(args=(-1.959663879479369, 7.549193473549382), kwargs={}) -9.50885735302875\n",
      "Candidate(args=(1.428256905194171, 4.918810786201783), kwargs={}) -3.4905538810076124\n",
      "Candidate(args=(-0.9041604335656421, 2.545216193730527), kwargs={}) -3.4493766272961692\n",
      "Candidate(args=(-2.3408834390366713, 7.975244628723306), kwargs={}) -10.316128067759978\n",
      "Candidate(args=(-2.246465301374099, 8.658888666797887), kwargs={}) -10.905353968171987\n"
     ]
    }
   ],
   "source": [
    "for candidate in candidates:\n",
    "    value = test_args(*candidate.args, **candidate.kwargs)\n",
    "    optim2.tell(candidate, value)\n",
    "    \n",
    "    print(candidate, value)\n"
   ]
  },
  {
   "cell_type": "code",
   "execution_count": 15,
   "metadata": {},
   "outputs": [
    {
     "data": {
      "text/plain": [
       "Candidate(args=(-2.246465301374099, 8.658888666797887), kwargs={}, data=[-0.85216202  2.231347  ])"
      ]
     },
     "execution_count": 15,
     "metadata": {},
     "output_type": "execute_result"
    }
   ],
   "source": [
    "optim2.provide_recommendation()"
   ]
  },
  {
   "cell_type": "code",
   "execution_count": null,
   "metadata": {},
   "outputs": [],
   "source": []
  }
 ],
 "metadata": {
  "kernelspec": {
   "display_name": "brian_opt",
   "language": "python",
   "name": "brian_opt"
  },
  "language_info": {
   "codemirror_mode": {
    "name": "ipython",
    "version": 3
   },
   "file_extension": ".py",
   "mimetype": "text/x-python",
   "name": "python",
   "nbconvert_exporter": "python",
   "pygments_lexer": "ipython3",
   "version": "3.7.3"
  }
 },
 "nbformat": 4,
 "nbformat_minor": 2
}
