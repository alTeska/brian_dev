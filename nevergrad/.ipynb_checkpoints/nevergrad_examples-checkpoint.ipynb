{
 "cells": [
  {
   "cell_type": "markdown",
   "metadata": {},
   "source": [
    "# Notebook For Nevergrad Example Storage "
   ]
  },
  {
   "cell_type": "markdown",
   "metadata": {},
   "source": [
    "## Simple Optimization"
   ]
  },
  {
   "cell_type": "code",
   "execution_count": 1,
   "metadata": {},
   "outputs": [],
   "source": [
    "from nevergrad.optimization import optimizerlib"
   ]
  },
  {
   "cell_type": "code",
   "execution_count": 2,
   "metadata": {},
   "outputs": [],
   "source": [
    "def square(x):\n",
    "    return sum((x - .5)**2)"
   ]
  },
  {
   "cell_type": "code",
   "execution_count": 3,
   "metadata": {},
   "outputs": [],
   "source": [
    "optimizer = optimizerlib.OnePlusOne(instrumentation=2, budget=100)"
   ]
  },
  {
   "cell_type": "code",
   "execution_count": 4,
   "metadata": {},
   "outputs": [
    {
     "name": "stdout",
     "output_type": "stream",
     "text": [
      "Candidate(args=(array([0.50208994, 0.50068647]),), kwargs={})\n"
     ]
    }
   ],
   "source": [
    "# alternatively, you can use optimizerlib.registry which is a dict containing all optimizer classes\n",
    "recommendation = optimizer.optimize(square)\n",
    "print(recommendation)  # optimal args and kwargs"
   ]
  },
  {
   "cell_type": "markdown",
   "metadata": {},
   "source": [
    "#### Full List of optimizers:"
   ]
  },
  {
   "cell_type": "code",
   "execution_count": 5,
   "metadata": {},
   "outputs": [
    {
     "name": "stdout",
     "output_type": "stream",
     "text": [
      "['ASCMA2PDEthird', 'ASCMADEQRthird', 'ASCMADEthird', 'AlmostRotationInvariantDE', 'AlmostRotationInvariantDEAndBigPop', 'BO', 'BPRotationInvariantDE', 'CM', 'CMA', 'CMandAS', 'CMandAS2', 'CauchyLHSSearch', 'CauchyOnePlusOne', 'CauchyRandomSearch', 'CauchyScrHammersleySearch', 'Cobyla', 'DE', 'DiagonalCMA', 'DiscreteOnePlusOne', 'DoubleFastGADiscreteOnePlusOne', 'DoubleFastGAOptimisticNoisyDiscreteOnePlusOne', 'EDA', 'FastGADiscreteOnePlusOne', 'FastGANoisyDiscreteOnePlusOne', 'FastGAOptimisticNoisyDiscreteOnePlusOne', 'HaltonSearch', 'HaltonSearchPlusMiddlePoint', 'HammersleySearch', 'HammersleySearchPlusMiddlePoint', 'LBO', 'LHSSearch', 'LargeHaltonSearch', 'LargeHaltonSearchPlusMiddlePoint', 'LargeHammersleySearch', 'LargeHammersleySearchPlusMiddlePoint', 'LargeScrHaltonSearch', 'LargeScrHaltonSearchPlusMiddlePoint', 'LargeScrHammersleySearch', 'LargeScrHammersleySearchPlusMiddlePoint', 'LargerScaleRandomSearchPlusMiddlePoint', 'LhsDE', 'MEDA', 'MPCEDA', 'MicroCMA', 'MidQRBO', 'MilliCMA', 'MiniDE', 'MiniLhsDE', 'MiniQrDE', 'MultiCMA', 'MultiScaleCMA', 'NaiveTBPSA', 'NelderMead', 'NoisyBandit', 'NoisyDE', 'NoisyDiscreteOnePlusOne', 'NoisyOnePlusOne', 'OnePlusOne', 'OnePointDE', 'OptimisticDiscreteOnePlusOne', 'OptimisticNoisyOnePlusOne', 'PCEDA', 'PSO', 'ParaPortfolio', 'ParaSQPCMA', 'Portfolio', 'PortfolioDiscreteOnePlusOne', 'PortfolioNoisyDiscreteOnePlusOne', 'PortfolioOptimisticNoisyDiscreteOnePlusOne', 'Powell', 'QRBO', 'QrDE', 'RBO', 'RCobyla', 'RPowell', 'RSQP', 'RandomScaleRandomSearch', 'RandomScaleRandomSearchPlusMiddlePoint', 'RandomSearch', 'RandomSearchPlusMiddlePoint', 'RecombiningOptimisticNoisyDiscreteOnePlusOne', 'RecombiningPortfolioOptimisticNoisyDiscreteOnePlusOne', 'RescaleScrHammersleySearch', 'RotationInvariantDE', 'SPSA', 'SQP', 'ScrHaltonSearch', 'ScrHaltonSearchPlusMiddlePoint', 'ScrHammersleySearch', 'ScrHammersleySearchPlusMiddlePoint', 'SmallHaltonSearchPlusMiddlePoint', 'SmallHammersleySearchPlusMiddlePoint', 'SmallScaleRandomSearchPlusMiddlePoint', 'SmallScrHaltonSearchPlusMiddlePoint', 'SmallScrHammersleySearchPlusMiddlePoint', 'StupidRandom', 'TBPSA', 'TripleCMA', 'TwoPointsDE', 'Zero']\n"
     ]
    }
   ],
   "source": [
    "from nevergrad.optimization import registry\n",
    "print(sorted(registry.keys()))"
   ]
  },
  {
   "cell_type": "markdown",
   "metadata": {},
   "source": [
    "## Instrumentation"
   ]
  },
  {
   "cell_type": "markdown",
   "metadata": {},
   "source": [
    "#### instrumentation=n is a shortcut to state that the function has only one variable, of dimension n, Defining the following instrumentation instead will optimize on both x and y."
   ]
  },
  {
   "cell_type": "markdown",
   "metadata": {},
   "source": [
    "recommendation holds the optimal attributes args and kwargs found by the optimizer for the provided function. In this example, the optimal value will be found in recommendation.args[0] and will be a np.ndarray of size 2.\n",
    "\n",
    "instrumentation=n is a shortcut to state that the function has only one variable, of dimension n, Defining the following instrumentation instead will optimize on both x and y."
   ]
  },
  {
   "cell_type": "code",
   "execution_count": 6,
   "metadata": {},
   "outputs": [],
   "source": [
    "from nevergrad import instrumentation as inst"
   ]
  },
  {
   "cell_type": "code",
   "execution_count": 8,
   "metadata": {},
   "outputs": [],
   "source": [
    "def square(x, y=12):\n",
    "    return sum((x - .5)**2) + abs(y)"
   ]
  },
  {
   "cell_type": "code",
   "execution_count": 9,
   "metadata": {},
   "outputs": [
    {
     "name": "stdout",
     "output_type": "stream",
     "text": [
      "Candidate(args=(array([0.57992617, 0.55998044]),), kwargs={'y': 0.00010648625755706333})\n"
     ]
    }
   ],
   "source": [
    "instrum = inst.Instrumentation(inst.var.Array(2), y=inst.var.Array(1).asscalar())\n",
    "optimizer = optimizerlib.OnePlusOne(instrumentation=instrum, budget=100)\n",
    "recommendation = optimizer.optimize(square)\n",
    "print(recommendation)"
   ]
  },
  {
   "cell_type": "markdown",
   "metadata": {},
   "source": [
    "### Ask and Tell interface"
   ]
  },
  {
   "cell_type": "markdown",
   "metadata": {},
   "source": [
    "\n",
    "- ask: suggest a candidate on which to evaluate the function to optimize.\n",
    "- tell: for updated the optimizer with the value of the function for a candidate.\n",
    "- provide_recommendation: returns the candidate the algorithms considers the best. For most optimization algorithms in the platform, they can be called in arbitrary order - asynchronous optimization is OK. Some algorithms (with class attribute no_parallelization=True however do not support this.\n",
    "\n"
   ]
  },
  {
   "cell_type": "code",
   "execution_count": 14,
   "metadata": {},
   "outputs": [],
   "source": [
    "for _ in range(optimizer.budget):\n",
    "    x = optimizer.ask()\n",
    "    value = square(*x.args, **x.kwargs)\n",
    "    optimizer.tell(x, value)\n"
   ]
  },
  {
   "cell_type": "code",
   "execution_count": 12,
   "metadata": {},
   "outputs": [
    {
     "data": {
      "text/plain": [
       "Candidate(args=(array([0.57916272, 0.55847279]),), kwargs={'y': 8.858931433149866e-07}, data=[5.79162716e-01 5.58472794e-01 8.85893143e-07])"
      ]
     },
     "execution_count": 12,
     "metadata": {},
     "output_type": "execute_result"
    }
   ],
   "source": [
    "recommendation = optimizer.provide_recommendation()\n",
    "recommendation"
   ]
  },
  {
   "cell_type": "markdown",
   "metadata": {},
   "source": [
    "## Executor"
   ]
  },
  {
   "cell_type": "code",
   "execution_count": 15,
   "metadata": {},
   "outputs": [],
   "source": [
    "from concurrent import futures\n",
    "optimizer = optimizerlib.OnePlusOne(instrumentation=instrum, budget=100, num_workers=5)\n",
    "with futures.ProcessPoolExecutor(max_workers=optimizer.num_workers) as executor:\n",
    "    recommendation = optimizer.optimize(square, executor=executor, batch_mode=False)"
   ]
  },
  {
   "cell_type": "code",
   "execution_count": 16,
   "metadata": {},
   "outputs": [
    {
     "data": {
      "text/plain": [
       "<concurrent.futures.process.ProcessPoolExecutor at 0x7f38c1ed2da0>"
      ]
     },
     "execution_count": 16,
     "metadata": {},
     "output_type": "execute_result"
    }
   ],
   "source": [
    "futures.ProcessPoolExecutor(max_workers=optimizer.num_workers)"
   ]
  },
  {
   "cell_type": "code",
   "execution_count": 18,
   "metadata": {},
   "outputs": [
    {
     "name": "stdout",
     "output_type": "stream",
     "text": [
      "False\n",
      "False\n",
      "hello\n"
     ]
    }
   ],
   "source": [
    "from concurrent.futures import ThreadPoolExecutor\n",
    "from time import sleep\n",
    " \n",
    "def return_after_5_secs(message):\n",
    "    sleep(5)\n",
    "    return message\n",
    " \n",
    "pool = ThreadPoolExecutor(3)\n",
    " \n",
    "future = pool.submit(return_after_5_secs, (\"hello\"))\n",
    "print(future.done())\n",
    "sleep(5)\n",
    "print(future.done())\n",
    "print(future.result())"
   ]
  },
  {
   "cell_type": "code",
   "execution_count": 19,
   "metadata": {},
   "outputs": [
    {
     "ename": "NameError",
     "evalue": "name 'concurrent' is not defined",
     "output_type": "error",
     "traceback": [
      "\u001b[0;31m---------------------------------------------------------------------------\u001b[0m",
      "\u001b[0;31mNameError\u001b[0m                                 Traceback (most recent call last)",
      "\u001b[0;32m<ipython-input-19-b73e4fc0aaf5>\u001b[0m in \u001b[0;36m<module>\u001b[0;34m\u001b[0m\n\u001b[0;32m----> 1\u001b[0;31m \u001b[0;32mwith\u001b[0m \u001b[0mconcurrent\u001b[0m\u001b[0;34m.\u001b[0m\u001b[0mfutures\u001b[0m\u001b[0;34m.\u001b[0m\u001b[0mThreadPoolExecutor\u001b[0m\u001b[0;34m(\u001b[0m\u001b[0;34m)\u001b[0m \u001b[0;32mas\u001b[0m \u001b[0mexecutor\u001b[0m\u001b[0;34m:\u001b[0m\u001b[0;34m\u001b[0m\u001b[0;34m\u001b[0m\u001b[0m\n\u001b[0m\u001b[1;32m      2\u001b[0m      \u001b[0mresult\u001b[0m \u001b[0;34m=\u001b[0m \u001b[0mexecutor\u001b[0m\u001b[0;34m.\u001b[0m\u001b[0mmap\u001b[0m\u001b[0;34m(\u001b[0m\u001b[0mfunction\u001b[0m\u001b[0;34m,\u001b[0m \u001b[0miterable\u001b[0m\u001b[0;34m)\u001b[0m\u001b[0;34m\u001b[0m\u001b[0;34m\u001b[0m\u001b[0m\n",
      "\u001b[0;31mNameError\u001b[0m: name 'concurrent' is not defined"
     ]
    }
   ],
   "source": [
    "\n",
    "\n",
    "with concurrent.futures.ThreadPoolExecutor() as executor:\n",
    "     result = executor.map(function, iterable)"
   ]
  }
 ],
 "metadata": {
  "kernelspec": {
   "display_name": "brian_opt",
   "language": "python",
   "name": "brian_opt"
  },
  "language_info": {
   "codemirror_mode": {
    "name": "ipython",
    "version": 3
   },
   "file_extension": ".py",
   "mimetype": "text/x-python",
   "name": "python",
   "nbconvert_exporter": "python",
   "pygments_lexer": "ipython3",
   "version": "3.6.8"
  }
 },
 "nbformat": 4,
 "nbformat_minor": 2
}
