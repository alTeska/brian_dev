{
 "cells": [
  {
   "cell_type": "markdown",
   "metadata": {},
   "source": [
    "# Notebook Vizualising Sample Results of Few Methods Avaliable in Nevergrad"
   ]
  },
  {
   "cell_type": "code",
   "execution_count": 1,
   "metadata": {},
   "outputs": [],
   "source": [
    "from brian2 import *\n",
    "from brian2tools import *\n",
    "from nevergrad.optimization import optimizerlib\n",
    "from nevergrad import instrumentation as inst"
   ]
  },
  {
   "cell_type": "code",
   "execution_count": 2,
   "metadata": {},
   "outputs": [],
   "source": [
    "%matplotlib inline\n",
    "prefs.codegen.target = 'cython'  # weave is not multiprocess-safe!\n",
    "candidates, parameters = [], []"
   ]
  },
  {
   "cell_type": "markdown",
   "metadata": {},
   "source": [
    "## Setup Model to be Fit"
   ]
  },
  {
   "cell_type": "markdown",
   "metadata": {},
   "source": [
    "### Parameters"
   ]
  },
  {
   "cell_type": "code",
   "execution_count": 3,
   "metadata": {},
   "outputs": [],
   "source": [
    "area = 20000*umetre**2\n",
    "Cm = 1*ufarad*cm**-2 * area\n",
    "El = -65*mV\n",
    "EK = -90*mV\n",
    "ENa = 50*mV\n",
    "VT = -63*mV"
   ]
  },
  {
   "cell_type": "markdown",
   "metadata": {},
   "source": [
    "### Generate a step-current input and an \"experimental\" voltage trace"
   ]
  },
  {
   "cell_type": "code",
   "execution_count": 4,
   "metadata": {},
   "outputs": [],
   "source": [
    "dt = 0.01*ms\n",
    "input_current = np.hstack([np.zeros(int(5*ms/dt)), np.ones(int(5*ms/dt)), np.zeros(int(5*ms/dt))])*nA\n",
    "\n",
    "N, n1 = np.array([input_current]).shape\n",
    "params_correct = {'gl': float(5e-5*siemens*cm**-2 * area),\n",
    "          'g_na': float(100*msiemens*cm**-2 * area),\n",
    "          'g_kd': float(30*msiemens*cm**-2 * area)}\n",
    "\n",
    "defaultclock.dt = dt\n",
    "I = TimedArray(input_current, dt=dt)"
   ]
  },
  {
   "cell_type": "markdown",
   "metadata": {},
   "source": [
    "### The model"
   ]
  },
  {
   "cell_type": "code",
   "execution_count": 5,
   "metadata": {},
   "outputs": [],
   "source": [
    "eqsHH = Equations('''\n",
    "dv/dt = (gl*(El-v) - g_na*(m*m*m)*h*(v-ENa) - g_kd*(n*n*n*n)*(v-EK) + I(t))/Cm : volt\n",
    "dm/dt = 0.32*(mV**-1)*(13.*mV-v+VT)/\n",
    "    (exp((13.*mV-v+VT)/(4.*mV))-1.)/ms*(1-m)-0.28*(mV**-1)*(v-VT-40.*mV)/\n",
    "    (exp((v-VT-40.*mV)/(5.*mV))-1.)/ms*m : 1\n",
    "dn/dt = 0.032*(mV**-1)*(15.*mV-v+VT)/\n",
    "    (exp((15.*mV-v+VT)/(5.*mV))-1.)/ms*(1.-n)-.5*exp((10.*mV-v+VT)/(40.*mV))/ms*n : 1\n",
    "dh/dt = 0.128*exp((17.*mV-v+VT)/(18.*mV))/ms*(1.-h)-4./(1+exp((40.*mV-v+VT)/(5.*mV)))/ms*h : 1\n",
    "g_na : siemens (constant)\n",
    "g_kd : siemens (constant)\n",
    "gl   : siemens (constant)\n",
    "''')\n",
    "\n",
    "G = NeuronGroup(1, eqsHH, method='exponential_euler')\n",
    "G.v = El\n",
    "G.set_states(params_correct, units=False)\n",
    "mon = StateMonitor(G, 'v', record=0)\n",
    "run(20*ms)\n",
    "\n",
    "voltage = mon.v[0]/mV\n",
    "voltage += np.random.randn(len(voltage))\n",
    "\n",
    "inp_trace = np.array([input_current])\n",
    "\n",
    "n0, n1 = inp_trace.shape\n",
    "out_trace = np.array([voltage[:n1]])"
   ]
  },
  {
   "cell_type": "markdown",
   "metadata": {},
   "source": [
    "## Setup Model for Modelfitting"
   ]
  },
  {
   "cell_type": "markdown",
   "metadata": {},
   "source": [
    "### Model for modelfitting"
   ]
  },
  {
   "cell_type": "code",
   "execution_count": 6,
   "metadata": {},
   "outputs": [],
   "source": [
    "eqs = Equations(\n",
    "'''\n",
    "dv/dt = (gl*(El-v) - g_na*(m*m*m)*h*(v-ENa) - g_kd*(n*n*n*n)*(v-EK) + I)/Cm : volt\n",
    "dm/dt = 0.32*(mV**-1)*(13.*mV-v+VT)/\n",
    "    (exp((13.*mV-v+VT)/(4.*mV))-1.)/ms*(1-m)-0.28*(mV**-1)*(v-VT-40.*mV)/\n",
    "    (exp((v-VT-40.*mV)/(5.*mV))-1.)/ms*m : 1\n",
    "dn/dt = 0.032*(mV**-1)*(15.*mV-v+VT)/\n",
    "    (exp((15.*mV-v+VT)/(5.*mV))-1.)/ms*(1.-n)-.5*exp((10.*mV-v+VT)/(40.*mV))/ms*n : 1\n",
    "dh/dt = 0.128*exp((17.*mV-v+VT)/(18.*mV))/ms*(1.-h)-4./(1+exp((40.*mV-v+VT)/(5.*mV)))/ms*h : 1\n",
    "g_na : siemens (constant)\n",
    "g_kd : siemens (constant)\n",
    "gl   : siemens (constant)\n",
    "''',\n",
    "Cm = 1*ufarad*cm**-2 * area, El = -65*mV, EK = -90*mV, ENa = 50*mV, VT = -63*mV)"
   ]
  },
  {
   "cell_type": "markdown",
   "metadata": {},
   "source": [
    "### setup the nevergrad optimizer"
   ]
  },
  {
   "cell_type": "code",
   "execution_count": 7,
   "metadata": {},
   "outputs": [],
   "source": [
    "arg1 = inst.var.Array(1).bounded(1e-7*siemens*cm**-2 * area, 1e-4*siemens*cm**-2 * area).asscalar()\n",
    "arg2 = inst.var.Array(1).bounded(1*msiemens*cm**-2 * area, 200*msiemens*cm**-2 * area).asscalar()\n",
    "arg3 = inst.var.Array(1).bounded(1*msiemens*cm**-2 * area, 100*msiemens*cm**-2 * area).asscalar()\n",
    "instrum = inst.Instrumentation(arg1, arg2, arg3)\n",
    "optim = optimizerlib.registry['StupidRandom'](instrumentation=instrum, num_workers=100)"
   ]
  },
  {
   "cell_type": "markdown",
   "metadata": {},
   "source": [
    "### Get Parameters From Ask"
   ]
  },
  {
   "cell_type": "code",
   "execution_count": 8,
   "metadata": {},
   "outputs": [],
   "source": [
    "for _ in range(20):\n",
    "    cand = optim.ask()\n",
    "    candidates.append(cand)\n",
    "    parameters.append(list(cand.args))"
   ]
  },
  {
   "cell_type": "code",
   "execution_count": 9,
   "metadata": {},
   "outputs": [
    {
     "data": {
      "text/plain": [
       "[[7.435565603108107e-09, 3.180327560837526e-05, 9.373698123307407e-06],\n",
       " [1.738764705269339e-08, 2.5179770569909036e-05, 1.6451130458386555e-05],\n",
       " [8.753679205829414e-09, 3.157936676054254e-05, 1.5229317200064273e-05],\n",
       " [1.0010604182458691e-08, 1.3792635510879231e-05, 9.550861244407734e-06],\n",
       " [9.960264490138792e-09, 2.045972541710219e-05, 1.3373019634000911e-05],\n",
       " [8.404493227629548e-09, 3.412523650009505e-05, 1.5020758781086874e-05],\n",
       " [1.2389923464517665e-08, 3.479735020515325e-05, 9.22486788032825e-06],\n",
       " [1.2072113789902406e-08, 1.8090311712993658e-05, 1.642183849586058e-05],\n",
       " [8.96975943370456e-09, 3.278932080705905e-05, 1.7315634311845934e-05],\n",
       " [5.830552823221884e-09, 2.3960204997495688e-05, 8.430309821762457e-06],\n",
       " [5.326791798097464e-09, 2.0808156539605776e-05, 7.016630220772434e-06],\n",
       " [3.509432917379677e-09, 2.9046928503270207e-05, 6.9318393442888305e-06],\n",
       " [1.0579054542177795e-08, 2.63877981370971e-05, 5.292237020887113e-06],\n",
       " [1.117138695033368e-08, 6.0479042695660275e-06, 1.6098598618231272e-05],\n",
       " [6.552187272361512e-09, 1.1934218236204737e-05, 8.03596648234203e-06],\n",
       " [1.7616212804731786e-08, 1.9428369541245726e-05, 6.484248864331072e-06],\n",
       " [4.780725198365023e-09, 2.965717923888926e-05, 7.907277898657739e-06],\n",
       " [1.3054105689566064e-08, 3.2681026964718335e-05, 4.0934239631281724e-06],\n",
       " [7.919028453734909e-09, 9.384249944189174e-06, 1.2367317699187328e-05],\n",
       " [1.110125940270194e-08, 2.4586238347208186e-05, 1.1294628588843168e-05]]"
      ]
     },
     "execution_count": 9,
     "metadata": {},
     "output_type": "execute_result"
    }
   ],
   "source": [
    "parameters"
   ]
  },
  {
   "cell_type": "markdown",
   "metadata": {},
   "source": [
    "### pass parameters to the NeuronGroup"
   ]
  },
  {
   "cell_type": "code",
   "execution_count": 10,
   "metadata": {},
   "outputs": [
    {
     "name": "stderr",
     "output_type": "stream",
     "text": [
      "INFO       No numerical integration method specified, using method 'exponential_euler' (took 0.20s, trying other methods took 0.11s). [brian2.stateupdaters.base.method_choice]\n"
     ]
    }
   ],
   "source": [
    "errors = fit_traces_ask_tell(model = eqs, input_var = 'I', output_var = 'v',\\\n",
    "        input = inp_trace * nA, output = out_trace*mV, dt = dt,\n",
    "        gl = [1e-5*siemens*cm**-2 * area, 1e-6*siemens*cm**-2 * area],\n",
    "        g_na = [1*msiemens*cm**-2 * area, 2000*msiemens*cm**-2 * area],\n",
    "        g_kd = [1*msiemens*cm**-2 * area, 1000*msiemens*cm**-2 * area],\n",
    "        update=parameters)"
   ]
  },
  {
   "cell_type": "markdown",
   "metadata": {},
   "source": [
    "### give information to the optimizer"
   ]
  },
  {
   "cell_type": "code",
   "execution_count": 11,
   "metadata": {},
   "outputs": [
    {
     "name": "stdout",
     "output_type": "stream",
     "text": [
      "Candidate(args=(7.435565603108107e-09, 3.180327560837526e-05, 9.373698123307407e-06), kwargs={}) 0.0047472470944623125\n",
      "Candidate(args=(1.738764705269339e-08, 2.5179770569909036e-05, 1.6451130458386555e-05), kwargs={}) 0.004743009755154249\n",
      "Candidate(args=(8.753679205829414e-09, 3.157936676054254e-05, 1.5229317200064273e-05), kwargs={}) 0.0047466856344994274\n",
      "Candidate(args=(1.0010604182458691e-08, 1.3792635510879231e-05, 9.550861244407734e-06), kwargs={}) 0.004746150306893136\n",
      "Candidate(args=(9.960264490138792e-09, 2.045972541710219e-05, 1.3373019634000911e-05), kwargs={}) 0.004746171745410953\n",
      "Candidate(args=(8.404493227629548e-09, 3.412523650009505e-05, 1.5020758781086874e-05), kwargs={}) 0.004746834365602956\n",
      "Candidate(args=(1.2389923464517665e-08, 3.479735020515325e-05, 9.22486788032825e-06), kwargs={}) 0.004745137132043103\n",
      "Candidate(args=(1.2072113789902406e-08, 1.8090311712993658e-05, 1.642183849586058e-05), kwargs={}) 0.0047452724496235815\n",
      "Candidate(args=(8.96975943370456e-09, 3.278932080705905e-05, 1.7315634311845934e-05), kwargs={}) 0.004746593600602051\n",
      "Candidate(args=(5.830552823221884e-09, 2.3960204997495688e-05, 8.430309821762457e-06), kwargs={}) 0.004747930860675875\n",
      "Candidate(args=(5.326791798097464e-09, 2.0808156539605776e-05, 7.016630220772434e-06), kwargs={}) 0.004748145495058535\n",
      "Candidate(args=(3.509432917379677e-09, 2.9046928503270207e-05, 6.9318393442888305e-06), kwargs={}) 0.004748919895524078\n",
      "Candidate(args=(1.0579054542177795e-08, 2.63877981370971e-05, 5.292237020887113e-06), kwargs={}) 0.004745908224408305\n",
      "Candidate(args=(1.117138695033368e-08, 6.0479042695660275e-06, 1.6098598618231272e-05), kwargs={}) 0.004745655985996111\n",
      "Candidate(args=(6.552187272361512e-09, 1.1934218236204737e-05, 8.03596648234203e-06), kwargs={}) 0.004747623417047912\n",
      "Candidate(args=(1.7616212804731786e-08, 1.9428369541245726e-05, 6.484248864331072e-06), kwargs={}) 0.00474291248706705\n",
      "Candidate(args=(4.780725198365023e-09, 2.965717923888926e-05, 7.907277898657739e-06), kwargs={}) 0.004748378166477412\n",
      "Candidate(args=(1.3054105689566064e-08, 3.2681026964718335e-05, 4.0934239631281724e-06), kwargs={}) 0.004744854349151897\n",
      "Candidate(args=(7.919028453734909e-09, 9.384249944189174e-06, 1.2367317699187328e-05), kwargs={}) 0.004747041151430354\n",
      "Candidate(args=(1.110125940270194e-08, 2.4586238347208186e-05, 1.1294628588843168e-05), kwargs={}) 0.0047456858482849635\n"
     ]
    }
   ],
   "source": [
    "for i, candidate in enumerate(candidates):\n",
    "    value = errors[i]\n",
    "    optim.tell(candidate, value)\n",
    "\n",
    "    print(candidate, value)"
   ]
  },
  {
   "cell_type": "markdown",
   "metadata": {},
   "source": [
    "### Get The Best Results"
   ]
  },
  {
   "cell_type": "code",
   "execution_count": 12,
   "metadata": {},
   "outputs": [
    {
     "name": "stdout",
     "output_type": "stream",
     "text": [
      "correct: {'gl': 1e-08, 'g_na': 2e-05, 'g_kd': 6e-06} \n",
      " output: (1.122814453903174e-08, 1.5224708498938615e-05, 5.492448068735659e-06)\n"
     ]
    }
   ],
   "source": [
    "ans = optim.provide_recommendation()\n",
    "print('correct:', params_correct, '\\n output:', ans.args)"
   ]
  },
  {
   "cell_type": "markdown",
   "metadata": {},
   "source": [
    "## Visualization of the results"
   ]
  },
  {
   "cell_type": "code",
   "execution_count": 13,
   "metadata": {},
   "outputs": [],
   "source": [
    "params = {'gl': ans.args[0],\n",
    "          'g_na': ans.args[1],\n",
    "          'g_kd': ans.args[2]}"
   ]
  },
  {
   "cell_type": "markdown",
   "metadata": {},
   "source": [
    "### re-run the neuron with new params"
   ]
  },
  {
   "cell_type": "code",
   "execution_count": 14,
   "metadata": {},
   "outputs": [],
   "source": [
    "start_scope()\n",
    "G = NeuronGroup(1, eqsHH, method='exponential_euler')\n",
    "G.v = El\n",
    "G.set_states(params, units=False)\n",
    "mon = StateMonitor(G, 'v', record=0)\n",
    "run(20*ms)\n",
    "\n",
    "voltage1 = mon.v[0]/mV"
   ]
  },
  {
   "cell_type": "code",
   "execution_count": 15,
   "metadata": {},
   "outputs": [
    {
     "data": {
      "image/png": "[encoded data removed]",
      "text/plain": [
       "<Figure size 432x288 with 1 Axes>"
      ]
     },
     "metadata": {
      "needs_background": "light"
     },
     "output_type": "display_data"
    }
   ],
   "source": [
    "plt.figure()\n",
    "plot(np.arange(len(voltage))*dt/ms, voltage);\n",
    "plot(np.arange(len(voltage1))*dt/ms, voltage1);\n",
    "plt.title('nevergrad optimization');"
   ]
  },
  {
   "cell_type": "code",
   "execution_count": null,
   "metadata": {},
   "outputs": [],
   "source": []
  }
 ],
 "metadata": {
  "kernelspec": {
   "display_name": "brian_opt",
   "language": "python",
   "name": "brian_opt"
  },
  "language_info": {
   "codemirror_mode": {
    "name": "ipython",
    "version": 3
   },
   "file_extension": ".py",
   "mimetype": "text/x-python",
   "name": "python",
   "nbconvert_exporter": "python",
   "pygments_lexer": "ipython3",
   "version": "3.7.3"
  }
 },
 "nbformat": 4,
 "nbformat_minor": 2
}
