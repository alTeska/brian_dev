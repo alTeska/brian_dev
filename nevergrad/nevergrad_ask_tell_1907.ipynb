{
 "cells": [
  {
   "cell_type": "markdown",
   "metadata": {},
   "source": [
    "# Nevergrad Options"
   ]
  },
  {
   "cell_type": "code",
   "execution_count": 1,
   "metadata": {},
   "outputs": [],
   "source": [
    "import numpy as np\n",
    "import multiprocessing as mp\n",
    "\n",
    "from scipy.optimize import differential_evolution, rosen\n",
    "from scipy.optimize._differentialevolution import DifferentialEvolutionSolver\n",
    "\n",
    "from nevergrad.optimization import optimizerlib\n",
    "from concurrent import futures\n",
    "from nevergrad import instrumentation as inst"
   ]
  },
  {
   "cell_type": "code",
   "execution_count": 2,
   "metadata": {},
   "outputs": [],
   "source": [
    "def test_args(*args):\n",
    "    return args[0] - args[1]"
   ]
  },
  {
   "cell_type": "code",
   "execution_count": 3,
   "metadata": {},
   "outputs": [],
   "source": [
    "arg1 = inst.var.Array(1).bounded(-5, 5).asscalar()\n",
    "arg2 = inst.var.Array(1).bounded(0, 10).asscalar()\n",
    "instrum = inst.Instrumentation(arg1, arg2)"
   ]
  },
  {
   "cell_type": "code",
   "execution_count": 4,
   "metadata": {},
   "outputs": [],
   "source": [
    "# pick the optimization method; budget = number of allowed evaluations\n",
    "optim = optimizerlib.registry['DE'](instrumentation=instrum, budget=10000, num_workers=2)"
   ]
  },
  {
   "cell_type": "code",
   "execution_count": 5,
   "metadata": {},
   "outputs": [
    {
     "name": "stdout",
     "output_type": "stream",
     "text": [
      "Candidate(args=(1.9075866485463577, 5.772275853875552), kwargs={}) -3.8646892053291944\n",
      "Candidate(args=(2.4143382305774446, 1.487318155264811), kwargs={}) 0.9270200753126336\n",
      "Candidate(args=(-1.2252086042578925, 6.445183987563867), kwargs={}) -7.670392591821759\n",
      "Candidate(args=(0.0692889152352248, 3.094597476516234), kwargs={}) -3.025308561281009\n",
      "Candidate(args=(-1.9029444748292965, 2.9043756381801287), kwargs={}) -4.807320113009425\n",
      "Candidate(args=(-3.778634172685228, 6.41426952099126), kwargs={}) -10.192903693676488\n",
      "Candidate(args=(-0.31985869467928857, 3.4651772732898007), kwargs={}) -3.7850359679690895\n",
      "Candidate(args=(2.2508876761465615, 2.148169229324673), kwargs={}) 0.10271844682188869\n",
      "Candidate(args=(-2.36093473070759, 5.240171662713416), kwargs={}) -7.601106393421006\n",
      "Candidate(args=(-3.8441504950907173, 3.5275095233297886), kwargs={}) -7.371660018420506\n"
     ]
    }
   ],
   "source": [
    "for _ in range(10):\n",
    "    x = optim.ask()\n",
    "    value = test_args(*x.args, **x.kwargs)\n",
    "    optim.tell(x, value)\n",
    "    print(x, value)\n",
    "    "
   ]
  },
  {
   "cell_type": "code",
   "execution_count": 6,
   "metadata": {},
   "outputs": [
    {
     "data": {
      "text/plain": [
       "Candidate(args=(-3.778634172685228, 6.41426952099126), kwargs={}, data=[-2.47700536  0.47605145])"
      ]
     },
     "execution_count": 6,
     "metadata": {},
     "output_type": "execute_result"
    }
   ],
   "source": [
    "recommendation = optim.provide_recommendation()\n",
    "recommendation"
   ]
  },
  {
   "cell_type": "markdown",
   "metadata": {},
   "source": [
    "### Second round "
   ]
  },
  {
   "cell_type": "code",
   "execution_count": 7,
   "metadata": {},
   "outputs": [
    {
     "name": "stdout",
     "output_type": "stream",
     "text": [
      "Candidate(args=(0.7180100011071306, 6.629341051525345), kwargs={}) -5.911331050418214\n",
      "Candidate(args=(-2.106489917300548, 1.4552851894517365), kwargs={}) -3.5617751067522843\n",
      "Candidate(args=(3.2747097940810175, 4.3020908669912625), kwargs={}) -1.027381072910245\n",
      "Candidate(args=(2.064149812022985, 2.6342472126575123), kwargs={}) -0.5700974006345274\n",
      "Candidate(args=(-0.3069093087129589, 6.191322917970382), kwargs={}) -6.498232226683341\n",
      "Candidate(args=(-2.489235783151599, 4.538343209679075), kwargs={}) -7.027578992830675\n",
      "Candidate(args=(-1.6114558885993076, 2.656096977867576), kwargs={}) -4.267552866466883\n",
      "Candidate(args=(2.7351412624054103, 2.2482562076621444), kwargs={}) 0.48688505474326593\n",
      "Candidate(args=(-2.5841080197185278, 4.115957344193327), kwargs={}) -6.700065363911855\n",
      "Candidate(args=(-3.5771311316226346, 2.22123766952835), kwargs={}) -5.798368801150985\n"
     ]
    }
   ],
   "source": [
    "for _ in range(10):\n",
    "    x = optim.ask()\n",
    "    value = test_args(*x.args, **x.kwargs)\n",
    "    print(x, value)\n",
    "    optim.tell(x, value)"
   ]
  },
  {
   "cell_type": "code",
   "execution_count": 8,
   "metadata": {},
   "outputs": [
    {
     "data": {
      "text/plain": [
       "Candidate(args=(-3.778634172685228, 6.41426952099126), kwargs={}, data=[-2.47700536  0.47605145])"
      ]
     },
     "execution_count": 8,
     "metadata": {},
     "output_type": "execute_result"
    }
   ],
   "source": [
    "recommendation = optim.provide_recommendation()\n",
    "recommendation"
   ]
  },
  {
   "cell_type": "markdown",
   "metadata": {},
   "source": [
    "### Third round "
   ]
  },
  {
   "cell_type": "code",
   "execution_count": 18,
   "metadata": {},
   "outputs": [
    {
     "name": "stdout",
     "output_type": "stream",
     "text": [
      "Candidate(args=(3.45681267506867, 8.268810981515143), kwargs={}) -4.811998306446473\n",
      "Candidate(args=(1.0779993414127342, 5.02142688171394), kwargs={}) -3.943427540301206\n",
      "Candidate(args=(0.18369784516095414, 5.0275798293155605), kwargs={}) -4.843881984154606\n",
      "Candidate(args=(-2.19334095660803, 5.884531393422767), kwargs={}) -8.077872350030798\n",
      "Candidate(args=(-0.14199471164594588, 7.754660389341328), kwargs={}) -7.8966551009872745\n",
      "Candidate(args=(-2.192749422200382, 2.999379720109076), kwargs={}) -5.192129142309458\n",
      "Candidate(args=(-2.7571300441690445, 7.969863040133413), kwargs={}) -10.726993084302457\n",
      "Candidate(args=(-1.603950736506592, 2.907612107423188), kwargs={}) -4.51156284392978\n",
      "Candidate(args=(1.9186842311811487, 6.386956054681111), kwargs={}) -4.468271823499962\n",
      "Candidate(args=(-2.6992033230562216, 7.939362387118939), kwargs={}) -10.638565710175161\n"
     ]
    }
   ],
   "source": [
    "for _ in range(10):\n",
    "    x = optim.ask()\n",
    "    value = test_args(*x.args, **x.kwargs)\n",
    "    print(x, value)\n",
    "    optim.tell(x, value)"
   ]
  },
  {
   "cell_type": "code",
   "execution_count": 19,
   "metadata": {},
   "outputs": [
    {
     "data": {
      "text/plain": [
       "Candidate(args=(-2.7571300441690445, 7.969863040133413), kwargs={}, data=[-1.17617426  1.34932976])"
      ]
     },
     "execution_count": 19,
     "metadata": {},
     "output_type": "execute_result"
    }
   ],
   "source": [
    "recommendation = optim.provide_recommendation()\n",
    "recommendation"
   ]
  },
  {
   "cell_type": "markdown",
   "metadata": {},
   "source": [
    "## Candidates as a list"
   ]
  },
  {
   "cell_type": "code",
   "execution_count": 20,
   "metadata": {},
   "outputs": [],
   "source": [
    "optim2 = optimizerlib.registry['DE'](instrumentation=instrum, budget=60, num_workers=2)"
   ]
  },
  {
   "cell_type": "code",
   "execution_count": 10,
   "metadata": {},
   "outputs": [
    {
     "data": {
      "text/plain": [
       "30"
      ]
     },
     "execution_count": 10,
     "metadata": {},
     "output_type": "execute_result"
    }
   ],
   "source": [
    "optim2.llambda"
   ]
  },
  {
   "cell_type": "code",
   "execution_count": 11,
   "metadata": {},
   "outputs": [],
   "source": [
    "optim2._llambda = 40"
   ]
  },
  {
   "cell_type": "code",
   "execution_count": 12,
   "metadata": {},
   "outputs": [
    {
     "data": {
      "text/plain": [
       "40"
      ]
     },
     "execution_count": 12,
     "metadata": {},
     "output_type": "execute_result"
    }
   ],
   "source": [
    "optim2.llambda"
   ]
  },
  {
   "cell_type": "code",
   "execution_count": 13,
   "metadata": {},
   "outputs": [],
   "source": [
    "optim2._parameters.popsize = 'large'"
   ]
  },
  {
   "cell_type": "code",
   "execution_count": 14,
   "metadata": {},
   "outputs": [
    {
     "data": {
      "text/plain": [
       "40"
      ]
     },
     "execution_count": 14,
     "metadata": {},
     "output_type": "execute_result"
    }
   ],
   "source": [
    "optim2.llambda"
   ]
  },
  {
   "cell_type": "code",
   "execution_count": 15,
   "metadata": {},
   "outputs": [
    {
     "data": {
      "text/plain": [
       "[Candidate(args=(3.3138303055906877, 5.393494905160577), kwargs={}, data=[1.70779964 0.12425366]),\n",
       " Candidate(args=(0.05856917625199028, 6.215601938510986), kwargs={}, data=[0.01840213 0.40160893]),\n",
       " Candidate(args=(-0.6619512547172103, 2.968424084232255), kwargs={}, data=[-0.21100873 -0.74180927]),\n",
       " Candidate(args=(1.1297514239034816, 3.044997538678225), kwargs={}, data=[ 0.37061628 -0.70516221]),\n",
       " Candidate(args=(-0.9568936450587657, 1.4071449840668602), kwargs={}, data=[-0.31001242 -2.11278518]),\n",
       " Candidate(args=(-0.06368136259071605, 8.23216563474766), kwargs={}, data=[-0.02000876  1.61151458]),\n",
       " Candidate(args=(0.986650473035132, 1.7418578439637145), kwargs={}, data=[ 0.32028934 -1.64126054]),\n",
       " Candidate(args=(0.2048473423580124, 1.5439083897838102), kwargs={}, data=[ 0.06444368 -1.89744324]),\n",
       " Candidate(args=(3.94537425392299, 8.265178527314317), kwargs={}, data=[2.9069691  1.64945544]),\n",
       " Candidate(args=(1.431889673617951, 6.391041851148355), kwargs={}, data=[0.48285948 0.46713136]),\n",
       " Candidate(args=(-2.6614347390305597, 1.9320491051173039), kwargs={}, data=[-1.10694815 -1.44005083]),\n",
       " Candidate(args=(2.306208560140165, 4.836103366810892), kwargs={}, data=[ 0.88509106 -0.0515352 ]),\n",
       " Candidate(args=(-1.295399838297563, 7.887150222061765), kwargs={}, data=[-0.4310239   1.27850158]),\n",
       " Candidate(args=(1.4763562346188928, 5.5870683750948995), kwargs={}, data=[0.50020424 0.18655301]),\n",
       " Candidate(args=(1.6964990252629435, 5.933916747328987), kwargs={}, data=[0.58991477 0.3021178 ]),\n",
       " Candidate(args=(3.7848829061403273, 8.167310804468027), kwargs={}, data=[2.49108161 1.54054738]),\n",
       " Candidate(args=(3.802626185486963, 4.290931945164558), kwargs={}, data=[ 2.53181256 -0.22651955]),\n",
       " Candidate(args=(-2.139931564717422, 4.901840800939619), kwargs={}, data=[-0.79597088 -0.0308474 ]),\n",
       " Candidate(args=(-2.303558518188908, 8.697831885816841), kwargs={}, data=[-0.88360742  2.30655199]),\n",
       " Candidate(args=(2.8815737611345766, 4.484137182620235), kwargs={}, data=[ 1.2738964  -0.16349698]),\n",
       " Candidate(args=(-1.605063884481345, 2.555538564737679), kwargs={}, data=[-0.55182814 -0.96569909]),\n",
       " Candidate(args=(-1.082634063946041, 5.874001785823574), kwargs={}, data=[-0.35387136  0.28169066]),\n",
       " Candidate(args=(3.0014195779599913, 4.199489701774311), kwargs={}, data=[ 1.37767355 -0.25692725]),\n",
       " Candidate(args=(-2.27648887315615, 3.0287947640045796), kwargs={}, data=[-0.86857608 -0.71281113]),\n",
       " Candidate(args=(2.0941817416748982, 4.7033892461006), kwargs={}, data=[ 0.77275601 -0.09345366]),\n",
       " Candidate(args=(-1.4410368494205754, 5.345329443183893), kwargs={}, data=[-0.48640809  0.10891608]),\n",
       " Candidate(args=(1.0872159020688692, 5.0351358889885445), kwargs={}, data=[0.35549187 0.01103871]),\n",
       " Candidate(args=(-2.2568262233094045, 6.573428742942646), kwargs={}, data=[-0.85779635  0.53893356]),\n",
       " Candidate(args=(-2.6337294262418864, 7.378862169138134), kwargs={}, data=[-1.08776347  0.92664315]),\n",
       " Candidate(args=(-0.2729279647831273, 5.1666659529509), kwargs={}, data=[-0.08595359  0.05240755]),\n",
       " Candidate(args=(3.594468425081367, 3.7177146826755774), kwargs={}, data=[ 2.11555761 -0.42614706]),\n",
       " Candidate(args=(1.6979324936818467, 1.6993451302627012), kwargs={}, data=[ 0.59052199 -1.69170189]),\n",
       " Candidate(args=(0.6641548484701806, 3.2499604965923186), kwargs={}, data=[ 0.21173194 -0.61281786]),\n",
       " Candidate(args=(2.6461291492708714, 4.540778101110445), kwargs={}, data=[ 1.09630444 -0.14527813]),\n",
       " Candidate(args=(-0.08729692963963419, 4.2943706940618975), kwargs={}, data=[-0.02743202 -0.22538408]),\n",
       " Candidate(args=(2.519080764133013, 4.933682620920883), kwargs={}, data=[ 1.01206124 -0.02083723]),\n",
       " Candidate(args=(1.9951622253048067, 4.319236076392193), kwargs={}, data=[ 0.72422299 -0.21718983]),\n",
       " Candidate(args=(-1.481377216657279, 3.417744615946877), kwargs={}, data=[-0.50217786 -0.5425173 ]),\n",
       " Candidate(args=(0.3984343531510561, 1.6039571710784188), kwargs={}, data=[ 0.1258297  -1.81364879]),\n",
       " Candidate(args=(2.9028606579774996, 7.297935156204604), kwargs={}, data=[1.29158737 0.88046637])]"
      ]
     },
     "execution_count": 15,
     "metadata": {},
     "output_type": "execute_result"
    }
   ],
   "source": [
    "candidates = []\n",
    "for _ in range(40):\n",
    "    candidates.append(optim2.ask())\n",
    "    \n",
    "candidates    "
   ]
  },
  {
   "cell_type": "code",
   "execution_count": 16,
   "metadata": {},
   "outputs": [
    {
     "name": "stdout",
     "output_type": "stream",
     "text": [
      "Candidate(args=(3.3138303055906877, 5.393494905160577), kwargs={}) -2.0796645995698895\n",
      "Candidate(args=(0.05856917625199028, 6.215601938510986), kwargs={}) -6.1570327622589955\n",
      "Candidate(args=(-0.6619512547172103, 2.968424084232255), kwargs={}) -3.6303753389494653\n",
      "Candidate(args=(1.1297514239034816, 3.044997538678225), kwargs={}) -1.9152461147747435\n",
      "Candidate(args=(-0.9568936450587657, 1.4071449840668602), kwargs={}) -2.364038629125626\n",
      "Candidate(args=(-0.06368136259071605, 8.23216563474766), kwargs={}) -8.295846997338376\n",
      "Candidate(args=(0.986650473035132, 1.7418578439637145), kwargs={}) -0.7552073709285825\n",
      "Candidate(args=(0.2048473423580124, 1.5439083897838102), kwargs={}) -1.3390610474257978\n",
      "Candidate(args=(3.94537425392299, 8.265178527314317), kwargs={}) -4.319804273391327\n",
      "Candidate(args=(1.431889673617951, 6.391041851148355), kwargs={}) -4.959152177530404\n",
      "Candidate(args=(-2.6614347390305597, 1.9320491051173039), kwargs={}) -4.593483844147864\n",
      "Candidate(args=(2.306208560140165, 4.836103366810892), kwargs={}) -2.529894806670727\n",
      "Candidate(args=(-1.295399838297563, 7.887150222061765), kwargs={}) -9.182550060359327\n",
      "Candidate(args=(1.4763562346188928, 5.5870683750948995), kwargs={}) -4.110712140476007\n",
      "Candidate(args=(1.6964990252629435, 5.933916747328987), kwargs={}) -4.237417722066043\n",
      "Candidate(args=(3.7848829061403273, 8.167310804468027), kwargs={}) -4.3824278983277\n",
      "Candidate(args=(3.802626185486963, 4.290931945164558), kwargs={}) -0.4883057596775946\n",
      "Candidate(args=(-2.139931564717422, 4.901840800939619), kwargs={}) -7.041772365657041\n",
      "Candidate(args=(-2.303558518188908, 8.697831885816841), kwargs={}) -11.001390404005749\n",
      "Candidate(args=(2.8815737611345766, 4.484137182620235), kwargs={}) -1.6025634214856583\n",
      "Candidate(args=(-1.605063884481345, 2.555538564737679), kwargs={}) -4.160602449219024\n",
      "Candidate(args=(-1.082634063946041, 5.874001785823574), kwargs={}) -6.956635849769615\n",
      "Candidate(args=(3.0014195779599913, 4.199489701774311), kwargs={}) -1.19807012381432\n",
      "Candidate(args=(-2.27648887315615, 3.0287947640045796), kwargs={}) -5.30528363716073\n",
      "Candidate(args=(2.0941817416748982, 4.7033892461006), kwargs={}) -2.6092075044257017\n",
      "Candidate(args=(-1.4410368494205754, 5.345329443183893), kwargs={}) -6.786366292604468\n",
      "Candidate(args=(1.0872159020688692, 5.0351358889885445), kwargs={}) -3.9479199869196755\n",
      "Candidate(args=(-2.2568262233094045, 6.573428742942646), kwargs={}) -8.83025496625205\n",
      "Candidate(args=(-2.6337294262418864, 7.378862169138134), kwargs={}) -10.012591595380021\n",
      "Candidate(args=(-0.2729279647831273, 5.1666659529509), kwargs={}) -5.439593917734027\n",
      "Candidate(args=(3.594468425081367, 3.7177146826755774), kwargs={}) -0.12324625759421037\n",
      "Candidate(args=(1.6979324936818467, 1.6993451302627012), kwargs={}) -0.0014126365808544428\n",
      "Candidate(args=(0.6641548484701806, 3.2499604965923186), kwargs={}) -2.585805648122138\n",
      "Candidate(args=(2.6461291492708714, 4.540778101110445), kwargs={}) -1.8946489518395735\n",
      "Candidate(args=(-0.08729692963963419, 4.2943706940618975), kwargs={}) -4.3816676237015315\n",
      "Candidate(args=(2.519080764133013, 4.933682620920883), kwargs={}) -2.4146018567878698\n",
      "Candidate(args=(1.9951622253048067, 4.319236076392193), kwargs={}) -2.3240738510873866\n",
      "Candidate(args=(-1.481377216657279, 3.417744615946877), kwargs={}) -4.8991218326041555\n",
      "Candidate(args=(0.3984343531510561, 1.6039571710784188), kwargs={}) -1.2055228179273627\n",
      "Candidate(args=(2.9028606579774996, 7.297935156204604), kwargs={}) -4.395074498227104\n"
     ]
    }
   ],
   "source": [
    "for candidate in candidates:\n",
    "    value = test_args(*candidate.args, **candidate.kwargs)\n",
    "    optim2.tell(candidate, value)\n",
    "    \n",
    "    print(candidate, value)\n"
   ]
  },
  {
   "cell_type": "code",
   "execution_count": 17,
   "metadata": {},
   "outputs": [
    {
     "data": {
      "text/plain": [
       "Candidate(args=(-2.303558518188908, 8.697831885816841), kwargs={}, data=[-0.88360742  2.30655199])"
      ]
     },
     "execution_count": 17,
     "metadata": {},
     "output_type": "execute_result"
    }
   ],
   "source": [
    "optim2.provide_recommendation()"
   ]
  },
  {
   "cell_type": "code",
   "execution_count": null,
   "metadata": {},
   "outputs": [],
   "source": []
  }
 ],
 "metadata": {
  "kernelspec": {
   "display_name": "brian_opt",
   "language": "python",
   "name": "brian_opt"
  },
  "language_info": {
   "codemirror_mode": {
    "name": "ipython",
    "version": 3
   },
   "file_extension": ".py",
   "mimetype": "text/x-python",
   "name": "python",
   "nbconvert_exporter": "python",
   "pygments_lexer": "ipython3",
   "version": "3.7.3"
  }
 },
 "nbformat": 4,
 "nbformat_minor": 2
}
