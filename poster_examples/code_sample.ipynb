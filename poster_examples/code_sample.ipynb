{
 "cells": [
  {
   "cell_type": "code",
   "execution_count": 1,
   "metadata": {},
   "outputs": [],
   "source": []
  },
  {
   "cell_type": "code",
   "execution_count": 9,
   "metadata": {},
   "outputs": [],
   "source": [
    "code = \"\"\"\n",
    "from brian2 import *\n",
    "from brian2modelfitting import *\n",
    "\n",
    "...\n",
    "\n",
    "EL = -70*mV\n",
    "VT = -50*mV\n",
    "DeltaT = 2*mV\n",
    "\n",
    "model = '''\n",
    "        dv/dt = (gL*(EL-v)+gL*DeltaT*exp((v-VT)/DeltaT) + I)/C : volt\n",
    "        gL: siemens (constant)\n",
    "        C: farad (constant)\n",
    "        '''\n",
    "\n",
    "opt = NevergradOptimizer()\n",
    "metric = GammaFactor(delta=4*ms, time=60*ms)\n",
    "\n",
    "fitter = SpikeFitter(model=model, dt=0.1*ms,\n",
    "                     input=inp_trace * amp, output=out_spikes,\n",
    "                     n_samples=30,\n",
    "                     threshold='v > -50*mV',\n",
    "                     param_init={'v': -70*mV},\n",
    "                     reset='v = -70*mV',)\n",
    "\n",
    "result_dict, error = fitter.fit(n_rounds=10,\n",
    "                                optimizer=opt,\n",
    "                                metric=metric,\n",
    "                                callback='text',\n",
    "                                gL=[20*nS, 40*nS],\n",
    "                                C = [0.5*nF, 1.5*nF])\n",
    "\"\"\"\n"
   ]
  },
  {
   "cell_type": "code",
   "execution_count": 4,
   "metadata": {},
   "outputs": [],
   "source": [
    "from pygments.formatters.svg import SvgFormatter\n",
    "from pygments import highlight \n",
    "from pygments import lexers"
   ]
  },
  {
   "cell_type": "code",
   "execution_count": 5,
   "metadata": {},
   "outputs": [],
   "source": [
    "lex = lexers.get_lexer_by_name(\"python\") \n",
    "formatter = SvgFormatter()"
   ]
  },
  {
   "cell_type": "code",
   "execution_count": 10,
   "metadata": {},
   "outputs": [],
   "source": [
    "with open(\"out.svg\", \"w\") as f:\n",
    "     highlight(code, lex, formatter, outfile=f)"
   ]
  },
  {
   "cell_type": "code",
   "execution_count": null,
   "metadata": {},
   "outputs": [],
   "source": []
  }
 ],
 "metadata": {
  "kernelspec": {
   "display_name": "brian_opt",
   "language": "python",
   "name": "brian_opt"
  },
  "language_info": {
   "codemirror_mode": {
    "name": "ipython",
    "version": 3
   },
   "file_extension": ".py",
   "mimetype": "text/x-python",
   "name": "python",
   "nbconvert_exporter": "python",
   "pygments_lexer": "ipython3",
   "version": "3.7.3"
  }
 },
 "nbformat": 4,
 "nbformat_minor": 2
}
