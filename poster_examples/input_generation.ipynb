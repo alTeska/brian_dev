{
 "cells": [
  {
   "cell_type": "code",
   "execution_count": 1,
   "metadata": {},
   "outputs": [
    {
     "name": "stderr",
     "output_type": "stream",
     "text": [
      "INFO       Cache size for target \"cython\": 1088 MB.\n",
      "You can call \"clear_cache('cython')\" to delete all files from the cache or manually delete files in the \"/home/alteska/.cython/brian_extensions\" directory. [brian2]\n",
      "WARNING    /home/alteska/anaconda3/envs/brian_opt/lib/python3.7/site-packages/sklearn/externals/joblib/__init__.py:15: DeprecationWarning: sklearn.externals.joblib is deprecated in 0.21 and will be removed in 0.23. Please import this functionality directly from joblib, which can be installed with: pip install joblib. If this warning is raised when loading pickled models, you may need to re-serialize those models with scikit-learn 0.21+.\n",
      "  warnings.warn(msg, category=DeprecationWarning)\n",
      " [py.warnings]\n",
      "WARNING    /home/alteska/anaconda3/envs/brian_opt/lib/python3.7/site-packages/tqdm/autonotebook/__init__.py:14: TqdmExperimentalWarning: Using `tqdm.autonotebook.tqdm` in notebook mode. Use `tqdm.tqdm` instead to force console mode (e.g. in jupyter console)\n",
      "  \" (e.g. in jupyter console)\", TqdmExperimentalWarning)\n",
      " [py.warnings]\n"
     ]
    }
   ],
   "source": [
    "from brian2 import *\n",
    "from brian2modelfitting import *"
   ]
  },
  {
   "cell_type": "markdown",
   "metadata": {},
   "source": [
    "## generate noise"
   ]
  },
  {
   "cell_type": "code",
   "execution_count": 2,
   "metadata": {},
   "outputs": [],
   "source": [
    "tau = 1*ms"
   ]
  },
  {
   "cell_type": "code",
   "execution_count": 3,
   "metadata": {},
   "outputs": [],
   "source": [
    "eqs_noise = Equations('''\n",
    "dnoise/dt = -noise/tau + tau**-0.5*xi : 1\n",
    "I = noise *nA: amp\n",
    "''')\n"
   ]
  },
  {
   "cell_type": "code",
   "execution_count": 4,
   "metadata": {},
   "outputs": [],
   "source": [
    "start_scope()\n",
    "G = NeuronGroup(1, eqs_noise)"
   ]
  },
  {
   "cell_type": "code",
   "execution_count": 5,
   "metadata": {},
   "outputs": [],
   "source": [
    "mon0 = StateMonitor(G, ['I'], record=0)"
   ]
  },
  {
   "cell_type": "code",
   "execution_count": 6,
   "metadata": {},
   "outputs": [
    {
     "name": "stderr",
     "output_type": "stream",
     "text": [
      "INFO       No numerical integration method specified for group 'neurongroup', using method 'euler' (took 0.03s, trying other methods took 0.00s). [brian2.stateupdaters.base.method_choice]\n"
     ]
    }
   ],
   "source": [
    "run(1*second)"
   ]
  },
  {
   "cell_type": "code",
   "execution_count": 7,
   "metadata": {},
   "outputs": [
    {
     "data": {
      "image/png": "[encoded data removed]",
      "text/plain": [
       "<Figure size 432x288 with 1 Axes>"
      ]
     },
     "metadata": {
      "needs_background": "light"
     },
     "output_type": "display_data"
    }
   ],
   "source": [
    "inp_cur = mon0.I[0]/nA\n",
    "plot(inp_cur);"
   ]
  },
  {
   "cell_type": "markdown",
   "metadata": {},
   "source": [
    "## HH with external noise current"
   ]
  },
  {
   "cell_type": "code",
   "execution_count": 8,
   "metadata": {},
   "outputs": [],
   "source": [
    "# Parameters\n",
    "area = 20000*umetre**2\n",
    "Cm = 1*ufarad*cm**-2 * area\n",
    "El = -65*mV\n",
    "EK = -90*mV\n",
    "ENa = 50*mV\n",
    "VT = -63*mV\n",
    "\n",
    "dt = 0.01*ms"
   ]
  },
  {
   "cell_type": "code",
   "execution_count": 9,
   "metadata": {},
   "outputs": [],
   "source": [
    "# Generate a step-current input and an \"experimental\" voltage trace\n",
    "params_correct = {'gl': float(5e-5*siemens*cm**-2 * area),\n",
    "                  'g_na': float(100*msiemens*cm**-2 * area),\n",
    "                  'g_kd': float(30*msiemens*cm**-2 * area)}\n",
    "\n",
    "defaultclock.dt = dt"
   ]
  },
  {
   "cell_type": "code",
   "execution_count": 10,
   "metadata": {},
   "outputs": [],
   "source": [
    "I = TimedArray(inp_cur*nA, dt=dt)"
   ]
  },
  {
   "cell_type": "code",
   "execution_count": 11,
   "metadata": {},
   "outputs": [],
   "source": [
    "# The model\n",
    "eqsHH = Equations('''\n",
    "dv/dt = (gl*(El-v) - g_na*(m*m*m)*h*(v-ENa) - g_kd*(n*n*n*n)*(v-EK) + I(t))/Cm : volt\n",
    "dm/dt = 0.32*(mV**-1)*(13.*mV-v+VT)/\n",
    "    (exp((13.*mV-v+VT)/(4.*mV))-1.)/ms*(1-m)-0.28*(mV**-1)*(v-VT-40.*mV)/\n",
    "    (exp((v-VT-40.*mV)/(5.*mV))-1.)/ms*m : 1\n",
    "dn/dt = 0.032*(mV**-1)*(15.*mV-v+VT)/\n",
    "    (exp((15.*mV-v+VT)/(5.*mV))-1.)/ms*(1.-n)-.5*exp((10.*mV-v+VT)/(40.*mV))/ms*n : 1\n",
    "dh/dt = 0.128*exp((17.*mV-v+VT)/(18.*mV))/ms*(1.-h)-4./(1+exp((40.*mV-v+VT)/(5.*mV)))/ms*h : 1\n",
    "g_na : siemens (constant)\n",
    "g_kd : siemens (constant)\n",
    "gl   : siemens (constant)\n",
    "''')"
   ]
  },
  {
   "cell_type": "code",
   "execution_count": 12,
   "metadata": {},
   "outputs": [],
   "source": [
    "start_scope()\n",
    "neur = NeuronGroup(1, eqsHH, \n",
    "                threshold='v > -40*mV',\n",
    "                refractory='v > -40*mV',\n",
    "                method='exponential_euler'\n",
    "               )\n",
    "neur.v = El\n",
    "\n",
    "neur.set_states(params_correct, units=False)\n",
    "spike_mon = SpikeMonitor(neur)\n",
    "mon = StateMonitor(neur, 'v', record=0)\n",
    "\n",
    "run(1*second)\n"
   ]
  },
  {
   "cell_type": "code",
   "execution_count": 13,
   "metadata": {},
   "outputs": [
    {
     "data": {
      "image/png": "[encoded data removed]",
      "text/plain": [
       "<Figure size 432x288 with 1 Axes>"
      ]
     },
     "metadata": {
      "needs_background": "light"
     },
     "output_type": "display_data"
    }
   ],
   "source": [
    "voltage1 = mon.v[0]/mV\n",
    "plot(voltage1);"
   ]
  },
  {
   "cell_type": "code",
   "execution_count": 14,
   "metadata": {},
   "outputs": [
    {
     "data": {
      "text/plain": [
       "[array([10.72])]"
      ]
     },
     "execution_count": 14,
     "metadata": {},
     "output_type": "execute_result"
    }
   ],
   "source": [
    "out_spikes1 = [spike_mon.spike_trains()[0]/ms]\n",
    "out_spikes1"
   ]
  },
  {
   "cell_type": "code",
   "execution_count": null,
   "metadata": {},
   "outputs": [],
   "source": []
  }
 ],
 "metadata": {
  "kernelspec": {
   "display_name": "brian_opt",
   "language": "python",
   "name": "brian_opt"
  },
  "language_info": {
   "codemirror_mode": {
    "name": "ipython",
    "version": 3
   },
   "file_extension": ".py",
   "mimetype": "text/x-python",
   "name": "python",
   "nbconvert_exporter": "python",
   "pygments_lexer": "ipython3",
   "version": "3.7.3"
  }
 },
 "nbformat": 4,
 "nbformat_minor": 2
}
