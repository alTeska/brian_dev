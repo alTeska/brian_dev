{
 "cells": [
  {
   "cell_type": "code",
   "execution_count": 1,
   "metadata": {},
   "outputs": [],
   "source": [
    "from brian2 import *"
   ]
  },
  {
   "cell_type": "code",
   "execution_count": 15,
   "metadata": {},
   "outputs": [],
   "source": [
    "res={'D': 0.0011734163321673696,\n",
    "     'a': 1.395984835969274,\n",
    "     'tau': 0.04087378166417265,\n",
    "     'R': 207866590.0330437,\n",
    "     'taut': 0.08997833096837347,\n",
    "     'alpha': 0.014984551918012148}"
   ]
  },
  {
   "cell_type": "code",
   "execution_count": 19,
   "metadata": {},
   "outputs": [
    {
     "name": "stdout",
     "output_type": "stream",
     "text": [
      "a 1.395984835969274\n",
      "D 1.17341633 ms\n",
      "tau 40.87378166 ms\n",
      "R 207.86659003 Mohm\n",
      "taut 89.97833097 ms\n",
      "alpha 14.98455192 mV\n"
     ]
    }
   ],
   "source": [
    "print('a', 1.395984835969274)\n",
    "print('D', in_unit(res['D']*second, ms))\n",
    "print('tau', in_unit(res['tau']*second, ms))\n",
    "print('R', in_unit(res['R']*ohm, Mohm))\n",
    "print('taut', in_unit(res['taut']*second, ms))\n",
    "print('alpha', in_unit(res['alpha']*volt, mV))"
   ]
  }
 ],
 "metadata": {
  "kernelspec": {
   "display_name": "brian_opt",
   "language": "python",
   "name": "brian_opt"
  },
  "language_info": {
   "codemirror_mode": {
    "name": "ipython",
    "version": 3
   },
   "file_extension": ".py",
   "mimetype": "text/x-python",
   "name": "python",
   "nbconvert_exporter": "python",
   "pygments_lexer": "ipython3",
   "version": "3.7.3"
  }
 },
 "nbformat": 4,
 "nbformat_minor": 2
}
