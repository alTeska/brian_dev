{
 "cells": [
  {
   "cell_type": "markdown",
   "metadata": {},
   "source": [
    "# Visualization"
   ]
  },
  {
   "cell_type": "code",
   "execution_count": 1,
   "metadata": {},
   "outputs": [
    {
     "name": "stderr",
     "output_type": "stream",
     "text": [
      "WARNING    /home/alteska/anaconda3/envs/brian_opt/lib/python3.7/site-packages/sklearn/externals/joblib/__init__.py:15: DeprecationWarning: sklearn.externals.joblib is deprecated in 0.21 and will be removed in 0.23. Please import this functionality directly from joblib, which can be installed with: pip install joblib. If this warning is raised when loading pickled models, you may need to re-serialize those models with scikit-learn 0.21+.\n",
      "  warnings.warn(msg, category=DeprecationWarning)\n",
      " [py.warnings]\n",
      "WARNING    /home/alteska/anaconda3/envs/brian_opt/lib/python3.7/site-packages/tqdm/autonotebook/__init__.py:14: TqdmExperimentalWarning: Using `tqdm.autonotebook.tqdm` in notebook mode. Use `tqdm.tqdm` instead to force console mode (e.g. in jupyter console)\n",
      "  \" (e.g. in jupyter console)\", TqdmExperimentalWarning)\n",
      " [py.warnings]\n"
     ]
    }
   ],
   "source": [
    "from brian2 import *\n",
    "from brian2modelfitting import *\n",
    "\n",
    "import numpy as np"
   ]
  },
  {
   "cell_type": "code",
   "execution_count": 2,
   "metadata": {},
   "outputs": [],
   "source": [
    "dt = 0.01*ms\n",
    "defaultclock.dt = dt"
   ]
  },
  {
   "cell_type": "markdown",
   "metadata": {},
   "source": [
    "## Load the Data"
   ]
  },
  {
   "cell_type": "code",
   "execution_count": 3,
   "metadata": {},
   "outputs": [],
   "source": [
    "voltage1 = genfromtxt('voltage1nA.csv', delimiter=',')\n",
    "voltage2 = genfromtxt('voltage2nA.csv', delimiter=',')"
   ]
  },
  {
   "cell_type": "code",
   "execution_count": 4,
   "metadata": {},
   "outputs": [],
   "source": [
    "inp_cur1 = genfromtxt('inp_cur1nA.csv', delimiter=',')\n",
    "inp_cur2 = genfromtxt('inp_cur2nA.csv', delimiter=',')"
   ]
  },
  {
   "cell_type": "code",
   "execution_count": 5,
   "metadata": {},
   "outputs": [
    {
     "data": {
      "text/plain": [
       "array([[ 0.        , -0.01416314,  0.06263459, ..., -0.44478035,\n",
       "        -0.39163954, -0.33014548],\n",
       "       [ 0.        ,  0.39594954,  0.27878635, ..., -0.55344109,\n",
       "        -0.71057181, -0.62256885]])"
      ]
     },
     "execution_count": 5,
     "metadata": {},
     "output_type": "execute_result"
    }
   ],
   "source": [
    "inp_current = np.array([inp_cur1, inp_cur2])\n",
    "inp_current"
   ]
  },
  {
   "cell_type": "code",
   "execution_count": 6,
   "metadata": {},
   "outputs": [],
   "source": [
    "out_spikes1 = genfromtxt('out_spikes1nA.csv', delimiter=',')\n",
    "out_spikes2 = genfromtxt('out_spikes2nA.csv', delimiter=',')\n",
    "out_spikes = [out_spikes1, out_spikes2]\n",
    "# out_spikes"
   ]
  },
  {
   "cell_type": "markdown",
   "metadata": {},
   "source": [
    "## Define Model"
   ]
  },
  {
   "cell_type": "code",
   "execution_count": 7,
   "metadata": {},
   "outputs": [],
   "source": [
    "res={'taut': 0.038281479669330376,\n",
    " 'R': 8084051733.384311,\n",
    " 'D': 0.0025722558443824674,\n",
    " 'a': 0.08427460573972566,\n",
    " 'tau': 0.01007468391773357,\n",
    " 'alpha': 1.4880312994647356}\n",
    "\n"
   ]
  },
  {
   "cell_type": "code",
   "execution_count": 8,
   "metadata": {},
   "outputs": [],
   "source": [
    "res={'taut': 0.03940264530424703,\n",
    " 'tau': 0.019428036380643388,\n",
    " 'alpha': 1.0694762113655902,\n",
    " 'R': 13154191074.086367,\n",
    " 'a': 0.09021720088860954,\n",
    " 'D': 0.00047695430996046867}"
   ]
  },
  {
   "cell_type": "code",
   "execution_count": null,
   "metadata": {},
   "outputs": [],
   "source": [
    "\n",
    "model = '''\n",
    "        dv/dt = (R*I(t, i)- v)/tau : 1\n",
    "        dvt/dt = (a*v - vt) / taut :1\n",
    "        alpha : 1 (constant)\n",
    "        a : 1 (constant)\n",
    "        R : 1/amp (constant)\n",
    "        tau : second (constant)\n",
    "        taut : second (constant)\n",
    "        D : second(constant)\n",
    "        '''\n",
    "\n",
    "reset = '''\n",
    "v = 0\n",
    "vt = vt + alpha\n",
    "'''"
   ]
  },
  {
   "cell_type": "code",
   "execution_count": null,
   "metadata": {},
   "outputs": [],
   "source": [
    "I = TimedArray(inp_current*nA, dt=dt)"
   ]
  },
  {
   "cell_type": "code",
   "execution_count": null,
   "metadata": {},
   "outputs": [],
   "source": [
    "start_scope()\n",
    "G = NeuronGroup(2, model,\n",
    "                threshold='v > 1 + vt',\n",
    "                reset=reset,\n",
    "                refractory='D',\n",
    "                method='exponential_euler')\n",
    "\n",
    "G.set_states(res, units=False)\n",
    "mon = StateMonitor(G, 'v', record=True)\n",
    "spike_mon = SpikeMonitor(G)"
   ]
  },
  {
   "cell_type": "code",
   "execution_count": null,
   "metadata": {},
   "outputs": [],
   "source": [
    "run(20*second)"
   ]
  },
  {
   "cell_type": "code",
   "execution_count": null,
   "metadata": {},
   "outputs": [],
   "source": [
    "fits = mon.v[:]\n",
    "spikes = getattr(spike_mon, 't') / ms"
   ]
  },
  {
   "cell_type": "code",
   "execution_count": null,
   "metadata": {},
   "outputs": [],
   "source": [
    "t0 = np.arange(0, len(voltage1))*dt/ms\n",
    "t_ = spikes[0]\n",
    "t = spikes[0][t_<2000]"
   ]
  },
  {
   "cell_type": "code",
   "execution_count": null,
   "metadata": {},
   "outputs": [],
   "source": [
    "v = fits\n",
    "d = 2000000"
   ]
  },
  {
   "cell_type": "code",
   "execution_count": null,
   "metadata": {},
   "outputs": [],
   "source": [
    "fig, ax = plt.subplots(nrows=3, figsize=(14,10))\n",
    "ax[0].plot(t0[:d]/ms, inp_cur1[:d]);\n",
    "ax[1].plot(t0[:d]/ms, voltage1[:d]);\n",
    "ax[2].plot(np.arange(0, len(v))*dt/ms, v,'g');\n",
    "ax[2].vlines(spikes, v[np.int_(np.round(spikes/dt*ms))]-60, v[np.int_(np.round(spikes/dt*ms))]+100, 'g');\n"
   ]
  },
  {
   "cell_type": "code",
   "execution_count": null,
   "metadata": {},
   "outputs": [],
   "source": [
    "# for i in range(0, 199999, 5000):\n",
    "#     print(i)"
   ]
  },
  {
   "cell_type": "code",
   "execution_count": null,
   "metadata": {},
   "outputs": [],
   "source": [
    "plt.figure(figsize=(30,5))\n",
    "plot(t0[:d], voltage2[:d]);\n",
    "# plot(np.arange(0, len(v))*dt/ms, v-75,'r');\n",
    "vlines(spikes, v[np.int_(np.round(spikes/dt*ms))]-75, v[np.int_(np.round(spikes/dt*ms))]+60, 'r');\n",
    "xlim(2500, 4000)"
   ]
  },
  {
   "cell_type": "code",
   "execution_count": null,
   "metadata": {},
   "outputs": [],
   "source": [
    "plt.figure(figsize=(10,5))\n",
    "plot(np.arange(0, len(v))*dt/ms, v-60,'g');\n",
    "vlines(spikes, v[np.int_(np.round(spikes/dt*ms))]-60, v[np.int_(np.round(spikes/dt*ms))]+100, 'g');\n"
   ]
  },
  {
   "cell_type": "code",
   "execution_count": null,
   "metadata": {},
   "outputs": [],
   "source": []
  },
  {
   "cell_type": "code",
   "execution_count": null,
   "metadata": {},
   "outputs": [],
   "source": []
  },
  {
   "cell_type": "code",
   "execution_count": null,
   "metadata": {},
   "outputs": [],
   "source": []
  }
 ],
 "metadata": {
  "kernelspec": {
   "display_name": "brian_opt",
   "language": "python",
   "name": "brian_opt"
  },
  "language_info": {
   "codemirror_mode": {
    "name": "ipython",
    "version": 3
   },
   "file_extension": ".py",
   "mimetype": "text/x-python",
   "name": "python",
   "nbconvert_exporter": "python",
   "pygments_lexer": "ipython3",
   "version": "3.7.3"
  }
 },
 "nbformat": 4,
 "nbformat_minor": 2
}
