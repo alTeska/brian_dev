{
 "cells": [
  {
   "cell_type": "code",
   "execution_count": 1,
   "metadata": {},
   "outputs": [],
   "source": [
    "code=\"\"\"\n",
    "class CustomMetric(TraceMetric):\n",
    "    def get_features(self, traces, output, n_traces, dt):\n",
    "        traces = np.reshape(traces, (traces.shape[0]//n_traces, n_traces, -1))\n",
    "        diff_traces = np.diff(traces, axis=2)\n",
    "        diff_out = np.diff(output, axis=1)\n",
    "        return np.sum((diff_traces -diff_out)**2, axis=2).T\n",
    "\n",
    "    def get_errors(self, features):\n",
    "            return features.mean(axis=0)\n",
    "\n",
    "\"\"\""
   ]
  },
  {
   "cell_type": "code",
   "execution_count": 2,
   "metadata": {},
   "outputs": [],
   "source": [
    "from pygments.formatters.svg import SvgFormatter\n",
    "from pygments import highlight \n",
    "from pygments import lexers"
   ]
  },
  {
   "cell_type": "code",
   "execution_count": 3,
   "metadata": {},
   "outputs": [],
   "source": [
    "lex = lexers.get_lexer_by_name(\"python\") \n",
    "formatter = SvgFormatter()"
   ]
  },
  {
   "cell_type": "code",
   "execution_count": 4,
   "metadata": {},
   "outputs": [],
   "source": [
    "with open(\"metric.svg\", \"w\") as f:\n",
    "     highlight(code, lex, formatter, outfile=f)"
   ]
  },
  {
   "cell_type": "code",
   "execution_count": null,
   "metadata": {},
   "outputs": [],
   "source": []
  },
  {
   "cell_type": "code",
   "execution_count": null,
   "metadata": {},
   "outputs": [],
   "source": []
  }
 ],
 "metadata": {
  "kernelspec": {
   "display_name": "brian_opt",
   "language": "python",
   "name": "brian_opt"
  },
  "language_info": {
   "codemirror_mode": {
    "name": "ipython",
    "version": 3
   },
   "file_extension": ".py",
   "mimetype": "text/x-python",
   "name": "python",
   "nbconvert_exporter": "python",
   "pygments_lexer": "ipython3",
   "version": "3.7.3"
  }
 },
 "nbformat": 4,
 "nbformat_minor": 2
}
