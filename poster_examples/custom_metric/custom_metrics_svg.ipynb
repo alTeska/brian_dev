{
 "cells": [
  {
   "cell_type": "code",
   "execution_count": 5,
   "metadata": {},
   "outputs": [],
   "source": [
    "code=\"\"\"\n",
    "class CustomMetric(TraceMetric):\n",
    "    def get_features(self, traces, output, n_traces, dt):\n",
    "        mselist = []\n",
    "        output = atleast_2d(output)\n",
    "\n",
    "        for i in arange(n_traces):\n",
    "            temp_out = np.diff(output[i])\n",
    "            temp_traces = traces[i::n_traces]\n",
    "\n",
    "            for trace in temp_traces:\n",
    "                trace = np.diff(trace)\n",
    "                \n",
    "                mse = sum(square(temp_out - trace))\n",
    "                mselist.append(mse)\n",
    "\n",
    "        feat_arr = reshape(array(mselist), (n_traces,\n",
    "                           int(len(mselist)/n_traces)))\n",
    "\n",
    "        return feat_arr\n",
    "\n",
    "    def get_errors(self, features):\n",
    "        errors = features.mean(axis=0)\n",
    "        return errors\n",
    "\"\"\""
   ]
  },
  {
   "cell_type": "code",
   "execution_count": 6,
   "metadata": {},
   "outputs": [],
   "source": [
    "from pygments.formatters.svg import SvgFormatter\n",
    "from pygments import highlight \n",
    "from pygments import lexers"
   ]
  },
  {
   "cell_type": "code",
   "execution_count": 7,
   "metadata": {},
   "outputs": [],
   "source": [
    "lex = lexers.get_lexer_by_name(\"python\") \n",
    "formatter = SvgFormatter()"
   ]
  },
  {
   "cell_type": "code",
   "execution_count": 8,
   "metadata": {},
   "outputs": [],
   "source": [
    "with open(\"metric.svg\", \"w\") as f:\n",
    "     highlight(code, lex, formatter, outfile=f)"
   ]
  },
  {
   "cell_type": "code",
   "execution_count": null,
   "metadata": {},
   "outputs": [],
   "source": []
  },
  {
   "cell_type": "code",
   "execution_count": null,
   "metadata": {},
   "outputs": [],
   "source": []
  }
 ],
 "metadata": {
  "kernelspec": {
   "display_name": "brian_opt",
   "language": "python",
   "name": "brian_opt"
  },
  "language_info": {
   "codemirror_mode": {
    "name": "ipython",
    "version": 3
   },
   "file_extension": ".py",
   "mimetype": "text/x-python",
   "name": "python",
   "nbconvert_exporter": "python",
   "pygments_lexer": "ipython3",
   "version": "3.7.3"
  }
 },
 "nbformat": 4,
 "nbformat_minor": 2
}
