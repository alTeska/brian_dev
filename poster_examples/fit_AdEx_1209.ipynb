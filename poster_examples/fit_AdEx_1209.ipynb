{
 "cells": [
  {
   "cell_type": "markdown",
   "metadata": {},
   "source": [
    "# Fit AdapIF to HH Spike Trains"
   ]
  },
  {
   "cell_type": "code",
   "execution_count": 1,
   "metadata": {},
   "outputs": [
    {
     "name": "stderr",
     "output_type": "stream",
     "text": [
      "INFO       Cache size for target \"cython\": 1113 MB.\n",
      "You can call \"clear_cache('cython')\" to delete all files from the cache or manually delete files in the \"/home/alteska/.cython/brian_extensions\" directory. [brian2]\n",
      "WARNING    /home/alteska/anaconda3/envs/brian_opt/lib/python3.7/site-packages/sklearn/externals/joblib/__init__.py:15: DeprecationWarning: sklearn.externals.joblib is deprecated in 0.21 and will be removed in 0.23. Please import this functionality directly from joblib, which can be installed with: pip install joblib. If this warning is raised when loading pickled models, you may need to re-serialize those models with scikit-learn 0.21+.\n",
      "  warnings.warn(msg, category=DeprecationWarning)\n",
      " [py.warnings]\n",
      "WARNING    /home/alteska/anaconda3/envs/brian_opt/lib/python3.7/site-packages/tqdm/autonotebook/__init__.py:14: TqdmExperimentalWarning: Using `tqdm.autonotebook.tqdm` in notebook mode. Use `tqdm.tqdm` instead to force console mode (e.g. in jupyter console)\n",
      "  \" (e.g. in jupyter console)\", TqdmExperimentalWarning)\n",
      " [py.warnings]\n"
     ]
    }
   ],
   "source": [
    "from brian2 import *\n",
    "from brian2modelfitting import *\n",
    "\n",
    "import numpy as np"
   ]
  },
  {
   "cell_type": "code",
   "execution_count": 2,
   "metadata": {},
   "outputs": [],
   "source": [
    "dt = 0.01*ms\n",
    "defaultclock.dt = dt"
   ]
  },
  {
   "cell_type": "markdown",
   "metadata": {},
   "source": [
    "## Load the Data"
   ]
  },
  {
   "cell_type": "code",
   "execution_count": 3,
   "metadata": {},
   "outputs": [],
   "source": [
    "voltage1 = genfromtxt('voltage1nA.csv', delimiter=',')\n",
    "voltage2 = genfromtxt('voltage2nA.csv', delimiter=',')"
   ]
  },
  {
   "cell_type": "code",
   "execution_count": 4,
   "metadata": {},
   "outputs": [
    {
     "data": {
      "text/plain": [
       "[array([0.        , 0.05553714, 0.18616409, ..., 0.34263957, 0.23894004,\n",
       "        0.24489567]),\n",
       " array([ 0.        , -0.08325095,  0.03536872, ...,  0.76675788,\n",
       "         0.90452414,  1.0627096 ])]"
      ]
     },
     "execution_count": 4,
     "metadata": {},
     "output_type": "execute_result"
    }
   ],
   "source": [
    "inp_cur1 = genfromtxt('inp_cur1nA.csv', delimiter=',')\n",
    "inp_cur2 = genfromtxt('inp_cur2nA.csv', delimiter=',')\n",
    "inp_current = [inp_cur1, inp_cur2]\n",
    "inp_current"
   ]
  },
  {
   "cell_type": "code",
   "execution_count": 5,
   "metadata": {},
   "outputs": [
    {
     "data": {
      "text/plain": [
       "[array([  71.23,  122.83,  210.92,  225.54,  239.2 ,  281.24,  303.7 ,\n",
       "         336.2 ,  399.15,  536.37,  597.07,  663.54,  811.95,  939.29,\n",
       "         962.57,  991.39, 1009.98, 1035.9 , 1078.18, 1113.35, 1155.7 ,\n",
       "        1200.08, 1270.3 , 1293.  , 1315.59, 1467.74, 1488.74, 1522.48,\n",
       "        1554.55, 1571.92, 1670.46, 1705.1 , 1730.37, 1746.35, 1793.  ,\n",
       "        1866.76, 1892.38, 1937.42, 1948.02, 1986.21, 2111.73, 2171.24,\n",
       "        2276.79, 2418.89, 2440.3 , 2546.8 , 2584.71, 2599.82, 2662.19,\n",
       "        2837.62, 2961.99, 3005.25, 3059.41, 3177.22, 3190.72, 3252.33,\n",
       "        3349.37, 3418.14, 3466.01, 3521.96, 3604.86, 3638.6 , 3660.36,\n",
       "        3680.88, 3691.25, 3720.41, 3829.22, 3867.82, 3904.32, 3951.12,\n",
       "        3961.46, 4031.54, 4085.24, 4118.16, 4163.5 , 4199.79, 4264.13,\n",
       "        4357.91, 4377.63, 4440.7 , 4477.18, 4573.26, 4614.94, 4676.63,\n",
       "        4696.7 , 4713.32, 4843.36]),\n",
       " array([4.81000e+00, 2.39700e+01, 6.56500e+01, 7.03400e+01, 1.01920e+02,\n",
       "        1.10710e+02, 1.17300e+02, 2.47990e+02, 2.87020e+02, 3.63090e+02,\n",
       "        4.30010e+02, 4.35340e+02, 4.55970e+02, 4.66650e+02, 5.74620e+02,\n",
       "        6.47930e+02, 7.90760e+02, 8.54730e+02, 9.23840e+02, 9.32850e+02,\n",
       "        9.55320e+02, 9.81500e+02, 1.03102e+03, 1.06256e+03, 1.09298e+03,\n",
       "        1.11046e+03, 1.11799e+03, 1.18013e+03, 1.19276e+03, 1.20951e+03,\n",
       "        1.22709e+03, 1.23407e+03, 1.30225e+03, 1.35994e+03, 1.36689e+03,\n",
       "        1.43245e+03, 1.44342e+03, 1.45101e+03, 1.45932e+03, 1.49906e+03,\n",
       "        1.51163e+03, 1.53394e+03, 1.54062e+03, 1.54611e+03, 1.55673e+03,\n",
       "        1.61651e+03, 1.66341e+03, 1.70074e+03, 1.70962e+03, 1.75398e+03,\n",
       "        1.80667e+03, 1.81191e+03, 1.85988e+03, 1.89209e+03, 1.94946e+03,\n",
       "        1.98536e+03, 2.02046e+03, 2.03713e+03, 2.07147e+03, 2.08771e+03,\n",
       "        2.11970e+03, 2.18985e+03, 2.22146e+03, 2.24134e+03, 2.28419e+03,\n",
       "        2.29525e+03, 2.31869e+03, 2.32302e+03, 2.33948e+03, 2.36252e+03,\n",
       "        2.40511e+03, 2.43169e+03, 2.45461e+03, 2.49206e+03, 2.51803e+03,\n",
       "        2.52343e+03, 2.53210e+03, 2.59116e+03, 2.60968e+03, 2.63436e+03,\n",
       "        2.68290e+03, 2.68968e+03, 2.71968e+03, 2.77752e+03, 2.80616e+03,\n",
       "        2.81625e+03, 2.85784e+03, 2.87549e+03, 2.88918e+03, 2.90243e+03,\n",
       "        2.98643e+03, 3.01774e+03, 3.08316e+03, 3.11242e+03, 3.12006e+03,\n",
       "        3.12980e+03, 3.18251e+03, 3.19565e+03, 3.20607e+03, 3.23880e+03,\n",
       "        3.32288e+03, 3.38942e+03, 3.40526e+03, 3.51644e+03, 3.57710e+03,\n",
       "        3.60763e+03, 3.61801e+03, 3.65700e+03, 3.68346e+03, 3.78732e+03,\n",
       "        3.81035e+03, 3.96960e+03, 4.00125e+03, 4.03536e+03, 4.07408e+03,\n",
       "        4.10160e+03, 4.12750e+03, 4.22567e+03, 4.26866e+03, 4.27378e+03,\n",
       "        4.35561e+03, 4.39828e+03, 4.40860e+03, 4.42119e+03, 4.47894e+03,\n",
       "        4.48830e+03, 4.60219e+03, 4.60965e+03, 4.61850e+03, 4.64436e+03,\n",
       "        4.67172e+03, 4.67877e+03, 4.68456e+03, 4.69174e+03, 4.74674e+03,\n",
       "        4.83814e+03, 4.87938e+03, 4.89271e+03, 4.92920e+03, 4.94524e+03,\n",
       "        4.96253e+03])]"
      ]
     },
     "execution_count": 5,
     "metadata": {},
     "output_type": "execute_result"
    }
   ],
   "source": [
    "out_spikes1 = genfromtxt('out_spikes1nA.csv', delimiter=',')\n",
    "out_spikes2 = genfromtxt('out_spikes2nA.csv', delimiter=',')\n",
    "out_spikes = [out_spikes1, out_spikes2]\n",
    "out_spikes"
   ]
  },
  {
   "cell_type": "markdown",
   "metadata": {},
   "source": [
    "## Model Fitting"
   ]
  },
  {
   "cell_type": "code",
   "execution_count": 6,
   "metadata": {},
   "outputs": [],
   "source": [
    "eqs = Equations(\n",
    "\"\"\"\n",
    "dv/dt = (gL*(EL - v) + gL*DeltaT*exp((v - VT)/DeltaT) + I*k - w)/C : volt\n",
    "dw/dt = (a*(v - EL) - w)/tauw : amp\n",
    "Vcut = VT + 50 * DeltaT : volt\n",
    "taum = C / gL : second\n",
    "gL: siemens (constant)\n",
    "a : siemens (constant)\n",
    "b : amp (constant)\n",
    "VT : volt (constant)\n",
    "DeltaT : volt (constant)\n",
    "Vr : volt (constant)\n",
    "k : 1 (constant)\n",
    "C : farad (constant)\n",
    "tauw : second (constant)\n",
    "\"\"\", \n",
    "# EL : volt (constant)\n",
    "# C: farad (constant)\n",
    "# gL = 60 * nS,\n",
    "# VT = -50.4 * mV,\n",
    "# DeltaT = 5 * mV,    \n",
    "# a = 4*nS,\n",
    "# b = 0.0805*nA,\n",
    "# Vr = -70.6*mV\n",
    "# C = 171 * pF,\n",
    "# tauw = 144*ms,\n",
    "EL = -65 * mV,\n",
    ")"
   ]
  },
  {
   "cell_type": "code",
   "execution_count": 7,
   "metadata": {},
   "outputs": [],
   "source": [
    "n_opt = NevergradOptimizer()\n",
    "metric = GammaFactor(time=5*second, delta=10*ms)"
   ]
  },
  {
   "cell_type": "code",
   "execution_count": 8,
   "metadata": {},
   "outputs": [],
   "source": [
    "# pass parameters to the NeuronGroup1 - \n",
    "fitter = SpikeFitter(model=eqs, input_var='I', dt=dt,\n",
    "                     input=inp_current * nA, output=out_spikes,\n",
    "                     n_samples=30,\n",
    "                     threshold='v>Vcut',\n",
    "                     reset=\"v=Vr; w+=b\",\n",
    "                     refractory=1.41*ms,\n",
    "                     param_init={'v': -65*mV},\n",
    "                     )"
   ]
  },
  {
   "cell_type": "code",
   "execution_count": 9,
   "metadata": {},
   "outputs": [
    {
     "name": "stderr",
     "output_type": "stream",
     "text": [
      "WARNING    neurons's variable 'v' has NaN, very large values, or encountered an error in numerical integration. This is usually a sign that an unstable or invalid integration method was chosen. [brian2.groups.group.invalid_values]\n",
      "WARNING    neurons's variable 'w' has NaN, very large values, or encountered an error in numerical integration. This is usually a sign that an unstable or invalid integration method was chosen. [brian2.groups.group.invalid_values]\n"
     ]
    },
    {
     "name": "stdout",
     "output_type": "stream",
     "text": [
      "Round 0: fit (0.7538890523564831, 0.005137596152958699, -0.0348293145516439, 0.13372827321425793, 8.231182505026457e-09, -0.059552340191423615, 1.9469190085479577e-10, 5.531681079293624e-08, 1.3963586319087224e-09) with error: 0.0\n",
      "Round 1: fit (0.3385534234616341, 0.005289768744781495, -0.037634265871569136, 0.17086145247297566, 8.314848525131845e-09, -0.05675969757749825, 1.962374374941465e-10, 5.482030852284726e-08, 8.737011559259374e-10) with error: 0.0\n",
      "Round 2: fit (0.18873315978493244, 0.005289768744781495, -0.03589225769496117, 0.17086145247297566, 8.438689199540278e-09, -0.05892779306336912, 1.9712840615106548e-10, 5.482030852284726e-08, 1.3784786831205458e-09) with error: 0.0\n",
      "Round 3: fit (0.18873315978493244, 0.00514544275690587, -0.03365361929153808, 0.17086145247297566, 9.185007344369508e-09, -0.057217526734202745, 1.9870743931227335e-10, 5.482030852284726e-08, 6.888116526491022e-10) with error: 0.0\n",
      "Round 4: fit (0.21190515338584603, 0.0059905073568251475, -0.03441498490894007, 0.14636579785263334, 7.604251593416392e-09, -0.05781106860599086, 1.7940077141208862e-10, 5.586261721213666e-08, 1.4160376667295766e-09) with error: 0.0\n",
      "Round 5: fit (0.21190515338584603, 0.004967222472516275, -0.03441498490894007, 0.1178496835745583, 9.085256864459936e-09, -0.06538791321160907, 1.7940077141208862e-10, 5.586261721213666e-08, 1.5443401681519158e-09) with error: 0.0\n",
      "Round 6: fit (0.21190515338584603, 0.004967222472516275, -0.03441498490894007, 0.1178496835745583, 9.459961166810183e-09, -0.0660314367861411, 1.7940077141208862e-10, 5.586261721213666e-08, 1.4717232600152404e-09) with error: 0.0\n",
      "Round 7: fit (0.21190515338584603, 0.004978037137665544, -0.03441498490894007, 0.1178496835745583, 9.459961166810183e-09, -0.056720908623987154, 1.7213022192904413e-10, 6.400478659559205e-08, 1.4717232600152404e-09) with error: 0.0\n"
     ]
    },
    {
     "ename": "KeyboardInterrupt",
     "evalue": "",
     "output_type": "error",
     "traceback": [
      "\u001b[0;31m---------------------------------------------------------------------------\u001b[0m",
      "\u001b[0;31mKeyboardInterrupt\u001b[0m                         Traceback (most recent call last)",
      "\u001b[0;32m<ipython-input-9-8920f43b60e4>\u001b[0m in \u001b[0;36m<module>\u001b[0;34m\u001b[0m\n\u001b[1;32m     11\u001b[0m                                 \u001b[0mk\u001b[0m \u001b[0;34m=\u001b[0m \u001b[0;34m[\u001b[0m\u001b[0;36m0.01\u001b[0m\u001b[0;34m,\u001b[0m \u001b[0;36m2\u001b[0m\u001b[0;34m]\u001b[0m\u001b[0;34m,\u001b[0m\u001b[0;34m\u001b[0m\u001b[0;34m\u001b[0m\u001b[0m\n\u001b[1;32m     12\u001b[0m                                 \u001b[0mC\u001b[0m \u001b[0;34m=\u001b[0m \u001b[0;34m[\u001b[0m\u001b[0;36m170\u001b[0m\u001b[0;34m,\u001b[0m \u001b[0;36m200\u001b[0m\u001b[0;34m]\u001b[0m \u001b[0;34m*\u001b[0m \u001b[0mpF\u001b[0m\u001b[0;34m,\u001b[0m\u001b[0;34m\u001b[0m\u001b[0;34m\u001b[0m\u001b[0m\n\u001b[0;32m---> 13\u001b[0;31m                                 \u001b[0mtauw\u001b[0m \u001b[0;34m=\u001b[0m \u001b[0;34m[\u001b[0m\u001b[0;36m100\u001b[0m\u001b[0;34m,\u001b[0m \u001b[0;36m200\u001b[0m\u001b[0;34m]\u001b[0m\u001b[0;34m*\u001b[0m\u001b[0mms\u001b[0m\u001b[0;34m,\u001b[0m\u001b[0;34m\u001b[0m\u001b[0;34m\u001b[0m\u001b[0m\n\u001b[0m\u001b[1;32m     14\u001b[0m                                )\n",
      "\u001b[0;32m~/Desktop/brian/brian2modelfitting/brian2modelfitting/modelfitting/modelfitting.py\u001b[0m in \u001b[0;36mfit\u001b[0;34m(self, optimizer, metric, n_rounds, callback, restart, **params)\u001b[0m\n\u001b[1;32m    511\u001b[0m                             \"SpikeFitter\")\n\u001b[1;32m    512\u001b[0m         self.best_params, error = super().fit(optimizer, metric, n_rounds,\n\u001b[0;32m--> 513\u001b[0;31m                                               callback, restart, **params)\n\u001b[0m\u001b[1;32m    514\u001b[0m         \u001b[0;32mreturn\u001b[0m \u001b[0mself\u001b[0m\u001b[0;34m.\u001b[0m\u001b[0mbest_params\u001b[0m\u001b[0;34m,\u001b[0m \u001b[0merror\u001b[0m\u001b[0;34m\u001b[0m\u001b[0;34m\u001b[0m\u001b[0m\n\u001b[1;32m    515\u001b[0m \u001b[0;34m\u001b[0m\u001b[0m\n",
      "\u001b[0;32m~/Desktop/brian/brian2modelfitting/brian2modelfitting/modelfitting/modelfitting.py\u001b[0m in \u001b[0;36mfit\u001b[0;34m(self, optimizer, metric, n_rounds, callback, restart, **params)\u001b[0m\n\u001b[1;32m    271\u001b[0m         \u001b[0;32mfor\u001b[0m \u001b[0mindex\u001b[0m \u001b[0;32min\u001b[0m \u001b[0mrange\u001b[0m\u001b[0;34m(\u001b[0m\u001b[0mn_rounds\u001b[0m\u001b[0;34m)\u001b[0m\u001b[0;34m:\u001b[0m\u001b[0;34m\u001b[0m\u001b[0;34m\u001b[0m\u001b[0m\n\u001b[1;32m    272\u001b[0m             best_params, parameters, errors = self.optimization_iter(optimizer,\n\u001b[0;32m--> 273\u001b[0;31m                                                                      metric)\n\u001b[0m\u001b[1;32m    274\u001b[0m \u001b[0;34m\u001b[0m\u001b[0m\n\u001b[1;32m    275\u001b[0m             \u001b[0;31m# create output variables\u001b[0m\u001b[0;34m\u001b[0m\u001b[0;34m\u001b[0m\u001b[0;34m\u001b[0m\u001b[0m\n",
      "\u001b[0;32m~/Desktop/brian/brian2modelfitting/brian2modelfitting/modelfitting/modelfitting.py\u001b[0m in \u001b[0;36moptimization_iter\u001b[0;34m(self, optimizer, metric)\u001b[0m\n\u001b[1;32m    199\u001b[0m         d_param = get_param_dic(parameters, self.parameter_names,\n\u001b[1;32m    200\u001b[0m                                 self.n_traces, self.n_samples)\n\u001b[0;32m--> 201\u001b[0;31m         \u001b[0mself\u001b[0m\u001b[0;34m.\u001b[0m\u001b[0msimulator\u001b[0m\u001b[0;34m.\u001b[0m\u001b[0mrun\u001b[0m\u001b[0;34m(\u001b[0m\u001b[0mself\u001b[0m\u001b[0;34m.\u001b[0m\u001b[0mduration\u001b[0m\u001b[0;34m,\u001b[0m \u001b[0md_param\u001b[0m\u001b[0;34m,\u001b[0m \u001b[0mself\u001b[0m\u001b[0;34m.\u001b[0m\u001b[0mparameter_names\u001b[0m\u001b[0;34m)\u001b[0m\u001b[0;34m\u001b[0m\u001b[0;34m\u001b[0m\u001b[0m\n\u001b[0m\u001b[1;32m    202\u001b[0m         \u001b[0merrors\u001b[0m \u001b[0;34m=\u001b[0m \u001b[0mself\u001b[0m\u001b[0;34m.\u001b[0m\u001b[0mcalc_errors\u001b[0m\u001b[0;34m(\u001b[0m\u001b[0mmetric\u001b[0m\u001b[0;34m)\u001b[0m\u001b[0;34m\u001b[0m\u001b[0;34m\u001b[0m\u001b[0m\n\u001b[1;32m    203\u001b[0m \u001b[0;34m\u001b[0m\u001b[0m\n",
      "\u001b[0;32m~/Desktop/brian/brian2modelfitting/brian2modelfitting/modelfitting/simulation.py\u001b[0m in \u001b[0;36mrun\u001b[0;34m(self, duration, params, params_names, name)\u001b[0m\n\u001b[1;32m    102\u001b[0m                 \u001b[0mself\u001b[0m\u001b[0;34m.\u001b[0m\u001b[0mnetwork\u001b[0m\u001b[0;34m[\u001b[0m\u001b[0mname\u001b[0m\u001b[0;34m]\u001b[0m\u001b[0;34m.\u001b[0m\u001b[0m__setattr__\u001b[0m\u001b[0;34m(\u001b[0m\u001b[0mk\u001b[0m\u001b[0;34m,\u001b[0m \u001b[0mv\u001b[0m\u001b[0;34m)\u001b[0m\u001b[0;34m\u001b[0m\u001b[0;34m\u001b[0m\u001b[0m\n\u001b[1;32m    103\u001b[0m \u001b[0;34m\u001b[0m\u001b[0m\n\u001b[0;32m--> 104\u001b[0;31m         \u001b[0mself\u001b[0m\u001b[0;34m.\u001b[0m\u001b[0mnetwork\u001b[0m\u001b[0;34m.\u001b[0m\u001b[0mrun\u001b[0m\u001b[0;34m(\u001b[0m\u001b[0mduration\u001b[0m\u001b[0;34m,\u001b[0m \u001b[0mnamespace\u001b[0m\u001b[0;34m=\u001b[0m\u001b[0;34m{\u001b[0m\u001b[0;34m}\u001b[0m\u001b[0;34m)\u001b[0m\u001b[0;34m\u001b[0m\u001b[0;34m\u001b[0m\u001b[0m\n\u001b[0m\u001b[1;32m    105\u001b[0m \u001b[0;34m\u001b[0m\u001b[0m\n\u001b[1;32m    106\u001b[0m \u001b[0;34m\u001b[0m\u001b[0m\n",
      "\u001b[0;32m~/Desktop/brian/brian2/build/lib.linux-x86_64-3.7/brian2/core/base.py\u001b[0m in \u001b[0;36mdevice_override_decorated_function\u001b[0;34m(*args, **kwds)\u001b[0m\n\u001b[1;32m    274\u001b[0m                 \u001b[0;32mreturn\u001b[0m \u001b[0mgetattr\u001b[0m\u001b[0;34m(\u001b[0m\u001b[0mcurdev\u001b[0m\u001b[0;34m,\u001b[0m \u001b[0mname\u001b[0m\u001b[0;34m)\u001b[0m\u001b[0;34m(\u001b[0m\u001b[0;34m*\u001b[0m\u001b[0margs\u001b[0m\u001b[0;34m,\u001b[0m \u001b[0;34m**\u001b[0m\u001b[0mkwds\u001b[0m\u001b[0;34m)\u001b[0m\u001b[0;34m\u001b[0m\u001b[0;34m\u001b[0m\u001b[0m\n\u001b[1;32m    275\u001b[0m             \u001b[0;32melse\u001b[0m\u001b[0;34m:\u001b[0m\u001b[0;34m\u001b[0m\u001b[0;34m\u001b[0m\u001b[0m\n\u001b[0;32m--> 276\u001b[0;31m                 \u001b[0;32mreturn\u001b[0m \u001b[0mfunc\u001b[0m\u001b[0;34m(\u001b[0m\u001b[0;34m*\u001b[0m\u001b[0margs\u001b[0m\u001b[0;34m,\u001b[0m \u001b[0;34m**\u001b[0m\u001b[0mkwds\u001b[0m\u001b[0;34m)\u001b[0m\u001b[0;34m\u001b[0m\u001b[0;34m\u001b[0m\u001b[0m\n\u001b[0m\u001b[1;32m    277\u001b[0m \u001b[0;34m\u001b[0m\u001b[0m\n\u001b[1;32m    278\u001b[0m         \u001b[0mdevice_override_decorated_function\u001b[0m\u001b[0;34m.\u001b[0m\u001b[0m__doc__\u001b[0m \u001b[0;34m=\u001b[0m \u001b[0mfunc\u001b[0m\u001b[0;34m.\u001b[0m\u001b[0m__doc__\u001b[0m\u001b[0;34m\u001b[0m\u001b[0;34m\u001b[0m\u001b[0m\n",
      "\u001b[0;32m~/Desktop/brian/brian2/build/lib.linux-x86_64-3.7/brian2/units/fundamentalunits.py\u001b[0m in \u001b[0;36mnew_f\u001b[0;34m(*args, **kwds)\u001b[0m\n\u001b[1;32m   2373\u001b[0m                                                      get_dimensions(newkeyset[k]))\n\u001b[1;32m   2374\u001b[0m \u001b[0;34m\u001b[0m\u001b[0m\n\u001b[0;32m-> 2375\u001b[0;31m             \u001b[0mresult\u001b[0m \u001b[0;34m=\u001b[0m \u001b[0mf\u001b[0m\u001b[0;34m(\u001b[0m\u001b[0;34m*\u001b[0m\u001b[0margs\u001b[0m\u001b[0;34m,\u001b[0m \u001b[0;34m**\u001b[0m\u001b[0mkwds\u001b[0m\u001b[0;34m)\u001b[0m\u001b[0;34m\u001b[0m\u001b[0;34m\u001b[0m\u001b[0m\n\u001b[0m\u001b[1;32m   2376\u001b[0m             \u001b[0;32mif\u001b[0m \u001b[0;34m'result'\u001b[0m \u001b[0;32min\u001b[0m \u001b[0mau\u001b[0m\u001b[0;34m:\u001b[0m\u001b[0;34m\u001b[0m\u001b[0;34m\u001b[0m\u001b[0m\n\u001b[1;32m   2377\u001b[0m                 \u001b[0;32mif\u001b[0m \u001b[0mau\u001b[0m\u001b[0;34m[\u001b[0m\u001b[0;34m'result'\u001b[0m\u001b[0;34m]\u001b[0m \u001b[0;34m==\u001b[0m \u001b[0mbool\u001b[0m\u001b[0;34m:\u001b[0m\u001b[0;34m\u001b[0m\u001b[0;34m\u001b[0m\u001b[0m\n",
      "\u001b[0;32m~/Desktop/brian/brian2/build/lib.linux-x86_64-3.7/brian2/core/network.py\u001b[0m in \u001b[0;36mrun\u001b[0;34m(self, duration, report, report_period, namespace, profile, level)\u001b[0m\n\u001b[1;32m   1041\u001b[0m                 \u001b[0;32melse\u001b[0m\u001b[0;34m:\u001b[0m\u001b[0;34m\u001b[0m\u001b[0;34m\u001b[0m\u001b[0m\n\u001b[1;32m   1042\u001b[0m                     \u001b[0;32mfor\u001b[0m \u001b[0mobj\u001b[0m \u001b[0;32min\u001b[0m \u001b[0mactive_objects\u001b[0m\u001b[0;34m:\u001b[0m\u001b[0;34m\u001b[0m\u001b[0;34m\u001b[0m\u001b[0m\n\u001b[0;32m-> 1043\u001b[0;31m                         \u001b[0mobj\u001b[0m\u001b[0;34m.\u001b[0m\u001b[0mrun\u001b[0m\u001b[0;34m(\u001b[0m\u001b[0;34m)\u001b[0m\u001b[0;34m\u001b[0m\u001b[0;34m\u001b[0m\u001b[0m\n\u001b[0m\u001b[1;32m   1044\u001b[0m \u001b[0;34m\u001b[0m\u001b[0m\n\u001b[1;32m   1045\u001b[0m                 \u001b[0mtimestep\u001b[0m\u001b[0;34m[\u001b[0m\u001b[0;36m0\u001b[0m\u001b[0;34m]\u001b[0m \u001b[0;34m+=\u001b[0m \u001b[0;36m1\u001b[0m\u001b[0;34m\u001b[0m\u001b[0;34m\u001b[0m\u001b[0m\n",
      "\u001b[0;32m~/Desktop/brian/brian2/build/lib.linux-x86_64-3.7/brian2/core/base.py\u001b[0m in \u001b[0;36mrun\u001b[0;34m(self)\u001b[0m\n\u001b[1;32m    177\u001b[0m     \u001b[0;32mdef\u001b[0m \u001b[0mrun\u001b[0m\u001b[0;34m(\u001b[0m\u001b[0mself\u001b[0m\u001b[0;34m)\u001b[0m\u001b[0;34m:\u001b[0m\u001b[0;34m\u001b[0m\u001b[0;34m\u001b[0m\u001b[0m\n\u001b[1;32m    178\u001b[0m         \u001b[0;32mfor\u001b[0m \u001b[0mcodeobj\u001b[0m \u001b[0;32min\u001b[0m \u001b[0mself\u001b[0m\u001b[0;34m.\u001b[0m\u001b[0m_code_objects\u001b[0m\u001b[0;34m:\u001b[0m\u001b[0;34m\u001b[0m\u001b[0;34m\u001b[0m\u001b[0m\n\u001b[0;32m--> 179\u001b[0;31m             \u001b[0mcodeobj\u001b[0m\u001b[0;34m(\u001b[0m\u001b[0;34m)\u001b[0m\u001b[0;34m\u001b[0m\u001b[0;34m\u001b[0m\u001b[0m\n\u001b[0m\u001b[1;32m    180\u001b[0m \u001b[0;34m\u001b[0m\u001b[0m\n\u001b[1;32m    181\u001b[0m     contained_objects = property(fget=lambda self:self._contained_objects,\n",
      "\u001b[0;32m~/Desktop/brian/brian2/build/lib.linux-x86_64-3.7/brian2/codegen/codeobject.py\u001b[0m in \u001b[0;36m__call__\u001b[0;34m(self, **kwds)\u001b[0m\n\u001b[1;32m     97\u001b[0m     \u001b[0;32mdef\u001b[0m \u001b[0m__call__\u001b[0m\u001b[0;34m(\u001b[0m\u001b[0mself\u001b[0m\u001b[0;34m,\u001b[0m \u001b[0;34m**\u001b[0m\u001b[0mkwds\u001b[0m\u001b[0;34m)\u001b[0m\u001b[0;34m:\u001b[0m\u001b[0;34m\u001b[0m\u001b[0;34m\u001b[0m\u001b[0m\n\u001b[1;32m     98\u001b[0m         \u001b[0mself\u001b[0m\u001b[0;34m.\u001b[0m\u001b[0mupdate_namespace\u001b[0m\u001b[0;34m(\u001b[0m\u001b[0;34m)\u001b[0m\u001b[0;34m\u001b[0m\u001b[0;34m\u001b[0m\u001b[0m\n\u001b[0;32m---> 99\u001b[0;31m         \u001b[0mself\u001b[0m\u001b[0;34m.\u001b[0m\u001b[0mnamespace\u001b[0m\u001b[0;34m.\u001b[0m\u001b[0mupdate\u001b[0m\u001b[0;34m(\u001b[0m\u001b[0;34m**\u001b[0m\u001b[0mkwds\u001b[0m\u001b[0;34m)\u001b[0m\u001b[0;34m\u001b[0m\u001b[0;34m\u001b[0m\u001b[0m\n\u001b[0m\u001b[1;32m    100\u001b[0m \u001b[0;34m\u001b[0m\u001b[0m\n\u001b[1;32m    101\u001b[0m         \u001b[0;32mreturn\u001b[0m \u001b[0mself\u001b[0m\u001b[0;34m.\u001b[0m\u001b[0mrun\u001b[0m\u001b[0;34m(\u001b[0m\u001b[0;34m)\u001b[0m\u001b[0;34m\u001b[0m\u001b[0;34m\u001b[0m\u001b[0m\n",
      "\u001b[0;31mKeyboardInterrupt\u001b[0m: "
     ]
    }
   ],
   "source": [
    "result_dict, error = fitter.fit(n_rounds=10,\n",
    "                                optimizer=n_opt,\n",
    "                                metric=metric,\n",
    "                                callback='text',\n",
    "                                gL=[50, 70]*nS,\n",
    "                                a = [0, 10]*nS,\n",
    "                                b = [0.05, 2]*nA,\n",
    "                                VT = [-90, -30] * mV,\n",
    "                                DeltaT = [4, 7] * mV,    \n",
    "                                Vr = [-90, -50]*mV,\n",
    "                                k = [0.01, 2],\n",
    "                                C = [170, 200] * pF,\n",
    "                                tauw = [100, 200]*ms,\n",
    "                               )"
   ]
  },
  {
   "cell_type": "code",
   "execution_count": null,
   "metadata": {},
   "outputs": [],
   "source": [
    "result_dict"
   ]
  },
  {
   "cell_type": "code",
   "execution_count": null,
   "metadata": {},
   "outputs": [],
   "source": [
    "error"
   ]
  },
  {
   "cell_type": "code",
   "execution_count": null,
   "metadata": {},
   "outputs": [],
   "source": [
    "1 - error"
   ]
  },
  {
   "cell_type": "code",
   "execution_count": null,
   "metadata": {},
   "outputs": [],
   "source": [
    "# visualization of the results\n",
    "spikes = fitter.generate_spikes(params=None)\n",
    "print('spike times:', spikes)"
   ]
  },
  {
   "cell_type": "code",
   "execution_count": null,
   "metadata": {},
   "outputs": [],
   "source": [
    "print(len(out_spikes[0]))\n",
    "print(len(spikes[0]))"
   ]
  },
  {
   "cell_type": "code",
   "execution_count": null,
   "metadata": {},
   "outputs": [],
   "source": [
    "d=-1\n",
    "\n",
    "fig, ax = plt.subplots(nrows=2, figsize=(15,2))\n",
    "\n",
    "ax[0].set_yticks(np.arange(0, 1, step=1))\n",
    "ax[0].scatter(out_spikes[0][:d], np.ones_like(out_spikes[0][:d]));\n",
    "ax[0].scatter(spikes[0][:d], np.ones_like(spikes[0][:d])*2);\n",
    "\n",
    "ax[1].set_yticks(np.arange(0, 1, step=1))\n",
    "ax[1].scatter(out_spikes[1][:d], np.ones_like(out_spikes[1][:d]));\n",
    "ax[1].scatter(spikes[1][:d], np.ones_like(spikes[1][:d])*2);"
   ]
  },
  {
   "cell_type": "code",
   "execution_count": null,
   "metadata": {},
   "outputs": [],
   "source": [
    "fits = fitter.generate(params=None, output_var='v',)"
   ]
  },
  {
   "cell_type": "code",
   "execution_count": null,
   "metadata": {},
   "outputs": [],
   "source": [
    "fig, ax = plt.subplots(nrows=2, figsize=(15,10))\n",
    "\n",
    "ax[0].plot(voltage1);\n",
    "ax[0].plot(fits[0]/mV)\n",
    "\n",
    "ax[1].plot(voltage2);\n",
    "ax[1].plot(fits[1]/mV);\n"
   ]
  },
  {
   "cell_type": "code",
   "execution_count": null,
   "metadata": {},
   "outputs": [],
   "source": []
  }
 ],
 "metadata": {
  "kernelspec": {
   "display_name": "brian_opt",
   "language": "python",
   "name": "brian_opt"
  },
  "language_info": {
   "codemirror_mode": {
    "name": "ipython",
    "version": 3
   },
   "file_extension": ".py",
   "mimetype": "text/x-python",
   "name": "python",
   "nbconvert_exporter": "python",
   "pygments_lexer": "ipython3",
   "version": "3.7.3"
  }
 },
 "nbformat": 4,
 "nbformat_minor": 2
}
