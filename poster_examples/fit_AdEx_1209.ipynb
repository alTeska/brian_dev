{
 "cells": [
  {
   "cell_type": "markdown",
   "metadata": {},
   "source": [
    "# Fit AdapIF to HH Spike Trains"
   ]
  },
  {
   "cell_type": "code",
   "execution_count": 1,
   "metadata": {},
   "outputs": [
    {
     "name": "stderr",
     "output_type": "stream",
     "text": [
      "WARNING    /home/alteska/anaconda3/envs/brian_opt/lib/python3.7/site-packages/sklearn/externals/joblib/__init__.py:15: DeprecationWarning: sklearn.externals.joblib is deprecated in 0.21 and will be removed in 0.23. Please import this functionality directly from joblib, which can be installed with: pip install joblib. If this warning is raised when loading pickled models, you may need to re-serialize those models with scikit-learn 0.21+.\n",
      "  warnings.warn(msg, category=DeprecationWarning)\n",
      " [py.warnings]\n",
      "WARNING    /home/alteska/anaconda3/envs/brian_opt/lib/python3.7/site-packages/tqdm/autonotebook/__init__.py:14: TqdmExperimentalWarning: Using `tqdm.autonotebook.tqdm` in notebook mode. Use `tqdm.tqdm` instead to force console mode (e.g. in jupyter console)\n",
      "  \" (e.g. in jupyter console)\", TqdmExperimentalWarning)\n",
      " [py.warnings]\n"
     ]
    }
   ],
   "source": [
    "from brian2 import *\n",
    "from brian2modelfitting import *\n",
    "\n",
    "import numpy as np"
   ]
  },
  {
   "cell_type": "code",
   "execution_count": 2,
   "metadata": {},
   "outputs": [],
   "source": [
    "dt = 0.01*ms\n",
    "defaultclock.dt = dt"
   ]
  },
  {
   "cell_type": "markdown",
   "metadata": {},
   "source": [
    "## Load the Data"
   ]
  },
  {
   "cell_type": "code",
   "execution_count": 3,
   "metadata": {},
   "outputs": [],
   "source": [
    "voltage1 = genfromtxt('voltage1nA.csv', delimiter=',')\n",
    "voltage2 = genfromtxt('voltage2nA.csv', delimiter=',')"
   ]
  },
  {
   "cell_type": "code",
   "execution_count": 4,
   "metadata": {},
   "outputs": [
    {
     "data": {
      "text/plain": [
       "[array([0.        , 0.05553714, 0.18616409, ..., 0.34263957, 0.23894004,\n",
       "        0.24489567]),\n",
       " array([ 0.        , -0.08325095,  0.03536872, ...,  0.76675788,\n",
       "         0.90452414,  1.0627096 ])]"
      ]
     },
     "execution_count": 4,
     "metadata": {},
     "output_type": "execute_result"
    }
   ],
   "source": [
    "inp_cur1 = genfromtxt('inp_cur1nA.csv', delimiter=',')\n",
    "inp_cur2 = genfromtxt('inp_cur2nA.csv', delimiter=',')\n",
    "inp_current = [inp_cur1, inp_cur2]\n",
    "inp_current"
   ]
  },
  {
   "cell_type": "code",
   "execution_count": 5,
   "metadata": {},
   "outputs": [
    {
     "data": {
      "text/plain": [
       "[array([  71.23,  122.83,  210.92,  225.54,  239.2 ,  281.24,  303.7 ,\n",
       "         336.2 ,  399.15,  536.37,  597.07,  663.54,  811.95,  939.29,\n",
       "         962.57,  991.39, 1009.98, 1035.9 , 1078.18, 1113.35, 1155.7 ,\n",
       "        1200.08, 1270.3 , 1293.  , 1315.59, 1467.74, 1488.74, 1522.48,\n",
       "        1554.55, 1571.92, 1670.46, 1705.1 , 1730.37, 1746.35, 1793.  ,\n",
       "        1866.76, 1892.38, 1937.42, 1948.02, 1986.21, 2111.73, 2171.24,\n",
       "        2276.79, 2418.89, 2440.3 , 2546.8 , 2584.71, 2599.82, 2662.19,\n",
       "        2837.62, 2961.99, 3005.25, 3059.41, 3177.22, 3190.72, 3252.33,\n",
       "        3349.37, 3418.14, 3466.01, 3521.96, 3604.86, 3638.6 , 3660.36,\n",
       "        3680.88, 3691.25, 3720.41, 3829.22, 3867.82, 3904.32, 3951.12,\n",
       "        3961.46, 4031.54, 4085.24, 4118.16, 4163.5 , 4199.79, 4264.13,\n",
       "        4357.91, 4377.63, 4440.7 , 4477.18, 4573.26, 4614.94, 4676.63,\n",
       "        4696.7 , 4713.32, 4843.36]),\n",
       " array([4.81000e+00, 2.39700e+01, 6.56500e+01, 7.03400e+01, 1.01920e+02,\n",
       "        1.10710e+02, 1.17300e+02, 2.47990e+02, 2.87020e+02, 3.63090e+02,\n",
       "        4.30010e+02, 4.35340e+02, 4.55970e+02, 4.66650e+02, 5.74620e+02,\n",
       "        6.47930e+02, 7.90760e+02, 8.54730e+02, 9.23840e+02, 9.32850e+02,\n",
       "        9.55320e+02, 9.81500e+02, 1.03102e+03, 1.06256e+03, 1.09298e+03,\n",
       "        1.11046e+03, 1.11799e+03, 1.18013e+03, 1.19276e+03, 1.20951e+03,\n",
       "        1.22709e+03, 1.23407e+03, 1.30225e+03, 1.35994e+03, 1.36689e+03,\n",
       "        1.43245e+03, 1.44342e+03, 1.45101e+03, 1.45932e+03, 1.49906e+03,\n",
       "        1.51163e+03, 1.53394e+03, 1.54062e+03, 1.54611e+03, 1.55673e+03,\n",
       "        1.61651e+03, 1.66341e+03, 1.70074e+03, 1.70962e+03, 1.75398e+03,\n",
       "        1.80667e+03, 1.81191e+03, 1.85988e+03, 1.89209e+03, 1.94946e+03,\n",
       "        1.98536e+03, 2.02046e+03, 2.03713e+03, 2.07147e+03, 2.08771e+03,\n",
       "        2.11970e+03, 2.18985e+03, 2.22146e+03, 2.24134e+03, 2.28419e+03,\n",
       "        2.29525e+03, 2.31869e+03, 2.32302e+03, 2.33948e+03, 2.36252e+03,\n",
       "        2.40511e+03, 2.43169e+03, 2.45461e+03, 2.49206e+03, 2.51803e+03,\n",
       "        2.52343e+03, 2.53210e+03, 2.59116e+03, 2.60968e+03, 2.63436e+03,\n",
       "        2.68290e+03, 2.68968e+03, 2.71968e+03, 2.77752e+03, 2.80616e+03,\n",
       "        2.81625e+03, 2.85784e+03, 2.87549e+03, 2.88918e+03, 2.90243e+03,\n",
       "        2.98643e+03, 3.01774e+03, 3.08316e+03, 3.11242e+03, 3.12006e+03,\n",
       "        3.12980e+03, 3.18251e+03, 3.19565e+03, 3.20607e+03, 3.23880e+03,\n",
       "        3.32288e+03, 3.38942e+03, 3.40526e+03, 3.51644e+03, 3.57710e+03,\n",
       "        3.60763e+03, 3.61801e+03, 3.65700e+03, 3.68346e+03, 3.78732e+03,\n",
       "        3.81035e+03, 3.96960e+03, 4.00125e+03, 4.03536e+03, 4.07408e+03,\n",
       "        4.10160e+03, 4.12750e+03, 4.22567e+03, 4.26866e+03, 4.27378e+03,\n",
       "        4.35561e+03, 4.39828e+03, 4.40860e+03, 4.42119e+03, 4.47894e+03,\n",
       "        4.48830e+03, 4.60219e+03, 4.60965e+03, 4.61850e+03, 4.64436e+03,\n",
       "        4.67172e+03, 4.67877e+03, 4.68456e+03, 4.69174e+03, 4.74674e+03,\n",
       "        4.83814e+03, 4.87938e+03, 4.89271e+03, 4.92920e+03, 4.94524e+03,\n",
       "        4.96253e+03])]"
      ]
     },
     "execution_count": 5,
     "metadata": {},
     "output_type": "execute_result"
    }
   ],
   "source": [
    "out_spikes1 = genfromtxt('out_spikes1nA.csv', delimiter=',')\n",
    "out_spikes2 = genfromtxt('out_spikes2nA.csv', delimiter=',')\n",
    "out_spikes = [out_spikes1, out_spikes2]\n",
    "out_spikes"
   ]
  },
  {
   "cell_type": "markdown",
   "metadata": {},
   "source": [
    "## Model Fitting"
   ]
  },
  {
   "cell_type": "code",
   "execution_count": 6,
   "metadata": {},
   "outputs": [],
   "source": [
    "eqs = Equations(\n",
    "\"\"\"\n",
    "dv/dt = (gL*(EL - v) + gL*DeltaT*exp((v - VT)/DeltaT) + I*k - w)/C : volt\n",
    "dw/dt = (a*(v - EL) - w)/tauw : amp\n",
    "Vcut = VT + 50 * DeltaT : volt\n",
    "taum = C / gL : second\n",
    "\n",
    "gL: siemens (constant)\n",
    "k : 1 (constant)\n",
    "b : amp (constant)\n",
    "D : second (constant)\n",
    "\"\"\", \n",
    "# a : siemens (constant)\n",
    "# VT : volt (constant)\n",
    "# DeltaT : volt (constant)\n",
    "# Vr : volt (constant)\n",
    "# C : farad (constant)\n",
    "# tauw : second (constant)\n",
    "# C: farad (constant)\n",
    "\n",
    "# gL = 60 * nS,\n",
    "VT = -50.4 * mV,\n",
    "DeltaT = 5 * mV,    \n",
    "a = 4*nS,\n",
    "Vr = -70.6*mV,\n",
    "C = 171 * pF,\n",
    "tauw = 144*ms,\n",
    "EL = -65 * mV,\n",
    "\n",
    ")"
   ]
  },
  {
   "cell_type": "code",
   "execution_count": 7,
   "metadata": {},
   "outputs": [],
   "source": [
    "Vr = -70.6*mV\n",
    "# b = 0.0805*nA\n"
   ]
  },
  {
   "cell_type": "code",
   "execution_count": 8,
   "metadata": {},
   "outputs": [],
   "source": [
    "n_opt = NevergradOptimizer()\n",
    "metric = GammaFactor(time=5*second, delta=4*ms)"
   ]
  },
  {
   "cell_type": "code",
   "execution_count": 9,
   "metadata": {},
   "outputs": [],
   "source": [
    "# pass parameters to the NeuronGroup\n",
    "fitter = SpikeFitter(model=eqs, input_var='I', dt=dt,\n",
    "                     input=inp_current * nA, output=out_spikes,\n",
    "                     n_samples=30,\n",
    "                     refractory='D',\n",
    "                     threshold='v>Vcut',\n",
    "                     reset=\"v=Vr; w+=b\",\n",
    "                     method='exponential_euler',)  "
   ]
  },
  {
   "cell_type": "code",
   "execution_count": 10,
   "metadata": {},
   "outputs": [
    {
     "name": "stderr",
     "output_type": "stream",
     "text": [
      "WARNING    neurons's variable 'w' has NaN, very large values, or encountered an error in numerical integration. This is usually a sign that an unstable or invalid integration method was chosen. [brian2.groups.group.invalid_values]\n",
      "WARNING    neurons's variable 'v' has NaN, very large values, or encountered an error in numerical integration. This is usually a sign that an unstable or invalid integration method was chosen. [brian2.groups.group.invalid_values]\n"
     ]
    },
    {
     "name": "stdout",
     "output_type": "stream",
     "text": [
      "Round 0: fit (6.075579326045087e-08, 8.061380324249523e-11, 18.926305475016825, 0.0014661648076846852) with error: 2.8384680016023536\n",
      "Round 1: fit (6.144302635466627e-08, 8.080122547913165e-11, 13.964790554526942, 0.0017417990652978262) with error: 2.8235381508694006\n",
      "Round 2: fit (5.932904266245708e-08, 8.019979930683779e-11, 11.958655547591682, 0.0007891907063849249) with error: 2.749962521535695\n",
      "Round 3: fit (5.932904266245708e-08, 8.019979930683779e-11, 11.958655547591682, 0.0007891907063849249) with error: 2.749962521535695\n"
     ]
    }
   ],
   "source": [
    "result_dict, error = fitter.fit(n_rounds=4,\n",
    "                                optimizer=n_opt,\n",
    "                                metric=metric,\n",
    "                                callback='text',\n",
    "                                gL=[59*nS, 62*nS],\n",
    "#                                 a = [0, 20]*nS,\n",
    "                                b = [0.08, 0.081]*nA,\n",
    "                                D = [0.5, 2]*ms,\n",
    "#                                 VT = [-90, -10] * mV,\n",
    "#                                 DeltaT = [5, 8] * mV,    \n",
    "#                                 Vr = [-90, -30]*mV,\n",
    "                                k = [1, 100],\n",
    "#                                 C = [170, 200] * pF,\n",
    "#                                 tauw = [0.1, 500]*ms,\n",
    "                               )"
   ]
  },
  {
   "cell_type": "code",
   "execution_count": 11,
   "metadata": {},
   "outputs": [
    {
     "data": {
      "text/plain": [
       "{'gL': 5.932904266245708e-08,\n",
       " 'b': 8.019979930683779e-11,\n",
       " 'k': 11.958655547591682,\n",
       " 'D': 0.0007891907063849249}"
      ]
     },
     "execution_count": 11,
     "metadata": {},
     "output_type": "execute_result"
    }
   ],
   "source": [
    "result_dict"
   ]
  },
  {
   "cell_type": "code",
   "execution_count": 12,
   "metadata": {},
   "outputs": [
    {
     "data": {
      "text/plain": [
       "2.749962521535695"
      ]
     },
     "execution_count": 12,
     "metadata": {},
     "output_type": "execute_result"
    }
   ],
   "source": [
    "error"
   ]
  },
  {
   "cell_type": "code",
   "execution_count": 13,
   "metadata": {},
   "outputs": [
    {
     "data": {
      "text/plain": [
       "-1.749962521535695"
      ]
     },
     "execution_count": 13,
     "metadata": {},
     "output_type": "execute_result"
    }
   ],
   "source": [
    "1 - error"
   ]
  },
  {
   "cell_type": "code",
   "execution_count": 14,
   "metadata": {},
   "outputs": [
    {
     "name": "stderr",
     "output_type": "stream",
     "text": [
      "WARNING    neurons_'s variable 'w' has NaN, very large values, or encountered an error in numerical integration. This is usually a sign that an unstable or invalid integration method was chosen. [brian2.groups.group.invalid_values]\n",
      "WARNING    neurons_'s variable 'v' has NaN, very large values, or encountered an error in numerical integration. This is usually a sign that an unstable or invalid integration method was chosen. [brian2.groups.group.invalid_values]\n"
     ]
    },
    {
     "name": "stdout",
     "output_type": "stream",
     "text": [
      "spike times: [array([ 0.  ,  4.72, 22.89, 46.55, 47.4 , 48.79, 49.69, 58.21, 59.96]), array([0.  , 2.89])]\n"
     ]
    }
   ],
   "source": [
    "# visualization of the results\n",
    "spikes = fitter.generate_spikes(params=None)\n",
    "print('spike times:', spikes)"
   ]
  },
  {
   "cell_type": "code",
   "execution_count": 15,
   "metadata": {},
   "outputs": [
    {
     "name": "stdout",
     "output_type": "stream",
     "text": [
      "87\n",
      "9\n"
     ]
    }
   ],
   "source": [
    "print(len(out_spikes[0]))\n",
    "print(len(spikes[0]))"
   ]
  },
  {
   "cell_type": "code",
   "execution_count": 16,
   "metadata": {},
   "outputs": [
    {
     "data": {
      "image/png": "[encoded data removed]",
      "text/plain": [
       "<Figure size 1080x144 with 2 Axes>"
      ]
     },
     "metadata": {
      "needs_background": "light"
     },
     "output_type": "display_data"
    }
   ],
   "source": [
    "d=-1\n",
    "\n",
    "fig, ax = plt.subplots(nrows=2, figsize=(15,2))\n",
    "\n",
    "ax[0].set_yticks(np.arange(0, 1, step=1))\n",
    "ax[0].scatter(out_spikes[0][:d], np.ones_like(out_spikes[0][:d]));\n",
    "ax[0].scatter(spikes[0][:d], np.ones_like(spikes[0][:d])*2);\n",
    "\n",
    "ax[1].set_yticks(np.arange(0, 1, step=1))\n",
    "ax[1].scatter(out_spikes[1][:d], np.ones_like(out_spikes[1][:d]));\n",
    "ax[1].scatter(spikes[1][:d], np.ones_like(spikes[1][:d])*2);"
   ]
  },
  {
   "cell_type": "code",
   "execution_count": 17,
   "metadata": {},
   "outputs": [],
   "source": [
    "fits = fitter.generate(params=None, output_var='v',)"
   ]
  },
  {
   "cell_type": "code",
   "execution_count": 18,
   "metadata": {},
   "outputs": [
    {
     "data": {
      "image/png": "[encoded data removed]",
      "text/plain": [
       "<Figure size 1080x720 with 2 Axes>"
      ]
     },
     "metadata": {
      "needs_background": "light"
     },
     "output_type": "display_data"
    }
   ],
   "source": [
    "fig, ax = plt.subplots(nrows=2, figsize=(15,10))\n",
    "\n",
    "ax[0].plot(voltage1);\n",
    "ax[0].plot(fits[0]/mV)\n",
    "\n",
    "ax[1].plot(voltage2);\n",
    "ax[1].plot(fits[1]/mV);\n"
   ]
  },
  {
   "cell_type": "code",
   "execution_count": null,
   "metadata": {},
   "outputs": [],
   "source": []
  },
  {
   "cell_type": "code",
   "execution_count": null,
   "metadata": {},
   "outputs": [],
   "source": []
  }
 ],
 "metadata": {
  "kernelspec": {
   "display_name": "brian_opt",
   "language": "python",
   "name": "brian_opt"
  },
  "language_info": {
   "codemirror_mode": {
    "name": "ipython",
    "version": 3
   },
   "file_extension": ".py",
   "mimetype": "text/x-python",
   "name": "python",
   "nbconvert_exporter": "python",
   "pygments_lexer": "ipython3",
   "version": "3.7.3"
  }
 },
 "nbformat": 4,
 "nbformat_minor": 2
}
