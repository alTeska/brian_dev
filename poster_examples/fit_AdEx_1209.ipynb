{
 "cells": [
  {
   "cell_type": "markdown",
   "metadata": {},
   "source": [
    "# Fit AdapIF to HH Spike Trains"
   ]
  },
  {
   "cell_type": "code",
   "execution_count": 1,
   "metadata": {},
   "outputs": [
    {
     "name": "stderr",
     "output_type": "stream",
     "text": [
      "WARNING    /home/alteska/anaconda3/envs/brian_opt/lib/python3.7/site-packages/sklearn/externals/joblib/__init__.py:15: DeprecationWarning: sklearn.externals.joblib is deprecated in 0.21 and will be removed in 0.23. Please import this functionality directly from joblib, which can be installed with: pip install joblib. If this warning is raised when loading pickled models, you may need to re-serialize those models with scikit-learn 0.21+.\n",
      "  warnings.warn(msg, category=DeprecationWarning)\n",
      " [py.warnings]\n",
      "WARNING    /home/alteska/anaconda3/envs/brian_opt/lib/python3.7/site-packages/tqdm/autonotebook/__init__.py:14: TqdmExperimentalWarning: Using `tqdm.autonotebook.tqdm` in notebook mode. Use `tqdm.tqdm` instead to force console mode (e.g. in jupyter console)\n",
      "  \" (e.g. in jupyter console)\", TqdmExperimentalWarning)\n",
      " [py.warnings]\n"
     ]
    }
   ],
   "source": [
    "from brian2 import *\n",
    "from brian2modelfitting import *\n",
    "\n",
    "import numpy as np"
   ]
  },
  {
   "cell_type": "code",
   "execution_count": 2,
   "metadata": {},
   "outputs": [],
   "source": [
    "dt = 0.01*ms\n",
    "defaultclock.dt = dt"
   ]
  },
  {
   "cell_type": "markdown",
   "metadata": {},
   "source": [
    "## Load the Data"
   ]
  },
  {
   "cell_type": "code",
   "execution_count": 3,
   "metadata": {},
   "outputs": [],
   "source": [
    "voltage1 = genfromtxt('voltage1nA.csv', delimiter=',')\n",
    "voltage2 = genfromtxt('voltage2nA.csv', delimiter=',')"
   ]
  },
  {
   "cell_type": "code",
   "execution_count": 4,
   "metadata": {},
   "outputs": [
    {
     "data": {
      "text/plain": [
       "[array([0.        , 0.05553714, 0.18616409, ..., 0.34263957, 0.23894004,\n",
       "        0.24489567]),\n",
       " array([ 0.        , -0.08325095,  0.03536872, ...,  0.76675788,\n",
       "         0.90452414,  1.0627096 ])]"
      ]
     },
     "execution_count": 4,
     "metadata": {},
     "output_type": "execute_result"
    }
   ],
   "source": [
    "inp_cur1 = genfromtxt('inp_cur1nA.csv', delimiter=',')\n",
    "inp_cur2 = genfromtxt('inp_cur2nA.csv', delimiter=',')\n",
    "inp_current = [inp_cur1, inp_cur2]\n",
    "inp_current"
   ]
  },
  {
   "cell_type": "code",
   "execution_count": 5,
   "metadata": {},
   "outputs": [
    {
     "data": {
      "text/plain": [
       "[array([  71.23,  122.83,  210.92,  225.54,  239.2 ,  281.24,  303.7 ,\n",
       "         336.2 ,  399.15,  536.37,  597.07,  663.54,  811.95,  939.29,\n",
       "         962.57,  991.39, 1009.98, 1035.9 , 1078.18, 1113.35, 1155.7 ,\n",
       "        1200.08, 1270.3 , 1293.  , 1315.59, 1467.74, 1488.74, 1522.48,\n",
       "        1554.55, 1571.92, 1670.46, 1705.1 , 1730.37, 1746.35, 1793.  ,\n",
       "        1866.76, 1892.38, 1937.42, 1948.02, 1986.21, 2111.73, 2171.24,\n",
       "        2276.79, 2418.89, 2440.3 , 2546.8 , 2584.71, 2599.82, 2662.19,\n",
       "        2837.62, 2961.99, 3005.25, 3059.41, 3177.22, 3190.72, 3252.33,\n",
       "        3349.37, 3418.14, 3466.01, 3521.96, 3604.86, 3638.6 , 3660.36,\n",
       "        3680.88, 3691.25, 3720.41, 3829.22, 3867.82, 3904.32, 3951.12,\n",
       "        3961.46, 4031.54, 4085.24, 4118.16, 4163.5 , 4199.79, 4264.13,\n",
       "        4357.91, 4377.63, 4440.7 , 4477.18, 4573.26, 4614.94, 4676.63,\n",
       "        4696.7 , 4713.32, 4843.36]),\n",
       " array([4.81000e+00, 2.39700e+01, 6.56500e+01, 7.03400e+01, 1.01920e+02,\n",
       "        1.10710e+02, 1.17300e+02, 2.47990e+02, 2.87020e+02, 3.63090e+02,\n",
       "        4.30010e+02, 4.35340e+02, 4.55970e+02, 4.66650e+02, 5.74620e+02,\n",
       "        6.47930e+02, 7.90760e+02, 8.54730e+02, 9.23840e+02, 9.32850e+02,\n",
       "        9.55320e+02, 9.81500e+02, 1.03102e+03, 1.06256e+03, 1.09298e+03,\n",
       "        1.11046e+03, 1.11799e+03, 1.18013e+03, 1.19276e+03, 1.20951e+03,\n",
       "        1.22709e+03, 1.23407e+03, 1.30225e+03, 1.35994e+03, 1.36689e+03,\n",
       "        1.43245e+03, 1.44342e+03, 1.45101e+03, 1.45932e+03, 1.49906e+03,\n",
       "        1.51163e+03, 1.53394e+03, 1.54062e+03, 1.54611e+03, 1.55673e+03,\n",
       "        1.61651e+03, 1.66341e+03, 1.70074e+03, 1.70962e+03, 1.75398e+03,\n",
       "        1.80667e+03, 1.81191e+03, 1.85988e+03, 1.89209e+03, 1.94946e+03,\n",
       "        1.98536e+03, 2.02046e+03, 2.03713e+03, 2.07147e+03, 2.08771e+03,\n",
       "        2.11970e+03, 2.18985e+03, 2.22146e+03, 2.24134e+03, 2.28419e+03,\n",
       "        2.29525e+03, 2.31869e+03, 2.32302e+03, 2.33948e+03, 2.36252e+03,\n",
       "        2.40511e+03, 2.43169e+03, 2.45461e+03, 2.49206e+03, 2.51803e+03,\n",
       "        2.52343e+03, 2.53210e+03, 2.59116e+03, 2.60968e+03, 2.63436e+03,\n",
       "        2.68290e+03, 2.68968e+03, 2.71968e+03, 2.77752e+03, 2.80616e+03,\n",
       "        2.81625e+03, 2.85784e+03, 2.87549e+03, 2.88918e+03, 2.90243e+03,\n",
       "        2.98643e+03, 3.01774e+03, 3.08316e+03, 3.11242e+03, 3.12006e+03,\n",
       "        3.12980e+03, 3.18251e+03, 3.19565e+03, 3.20607e+03, 3.23880e+03,\n",
       "        3.32288e+03, 3.38942e+03, 3.40526e+03, 3.51644e+03, 3.57710e+03,\n",
       "        3.60763e+03, 3.61801e+03, 3.65700e+03, 3.68346e+03, 3.78732e+03,\n",
       "        3.81035e+03, 3.96960e+03, 4.00125e+03, 4.03536e+03, 4.07408e+03,\n",
       "        4.10160e+03, 4.12750e+03, 4.22567e+03, 4.26866e+03, 4.27378e+03,\n",
       "        4.35561e+03, 4.39828e+03, 4.40860e+03, 4.42119e+03, 4.47894e+03,\n",
       "        4.48830e+03, 4.60219e+03, 4.60965e+03, 4.61850e+03, 4.64436e+03,\n",
       "        4.67172e+03, 4.67877e+03, 4.68456e+03, 4.69174e+03, 4.74674e+03,\n",
       "        4.83814e+03, 4.87938e+03, 4.89271e+03, 4.92920e+03, 4.94524e+03,\n",
       "        4.96253e+03])]"
      ]
     },
     "execution_count": 5,
     "metadata": {},
     "output_type": "execute_result"
    }
   ],
   "source": [
    "out_spikes1 = genfromtxt('out_spikes1nA.csv', delimiter=',')\n",
    "out_spikes2 = genfromtxt('out_spikes2nA.csv', delimiter=',')\n",
    "out_spikes = [out_spikes1, out_spikes2]\n",
    "out_spikes"
   ]
  },
  {
   "cell_type": "markdown",
   "metadata": {},
   "source": [
    "## Model Fitting"
   ]
  },
  {
   "cell_type": "code",
   "execution_count": 25,
   "metadata": {},
   "outputs": [],
   "source": [
    "eqs = Equations(\n",
    "\"\"\"\n",
    "dv/dt = (gL*(EL - v) + gL*DeltaT*exp((v - VT)/DeltaT) + I*k - w)/C : volt\n",
    "dw/dt = (a*(v - EL) - w)/tauw : amp\n",
    "Vcut = VT + 50 * DeltaT : volt\n",
    "taum = C / gL : second\n",
    "\n",
    "gL: siemens (constant)\n",
    "k : 1 (constant)\n",
    "b : amp (constant)\n",
    "D : second (constant)\n",
    "\"\"\", \n",
    "# a : siemens (constant)\n",
    "# VT : volt (constant)\n",
    "# DeltaT : volt (constant)\n",
    "# Vr : volt (constant)\n",
    "# C : farad (constant)\n",
    "# tauw : second (constant)\n",
    "# C: farad (constant)\n",
    "\n",
    "# gL = 60 * nS,\n",
    "VT = -50.4 * mV,\n",
    "DeltaT = 5 * mV,    \n",
    "a = 4*nS,\n",
    "Vr = -70.6*mV,\n",
    "C = 171 * pF,\n",
    "tauw = 144*ms,\n",
    "EL = -65 * mV,\n",
    "\n",
    ")"
   ]
  },
  {
   "cell_type": "code",
   "execution_count": 26,
   "metadata": {},
   "outputs": [],
   "source": [
    "Vr = -70.6*mV\n",
    "# b = 0.0805*nA\n"
   ]
  },
  {
   "cell_type": "code",
   "execution_count": 27,
   "metadata": {},
   "outputs": [],
   "source": [
    "n_opt = NevergradOptimizer()\n",
    "metric = GammaFactor(time=5*second, delta=4*ms)"
   ]
  },
  {
   "cell_type": "code",
   "execution_count": 28,
   "metadata": {},
   "outputs": [],
   "source": [
    "# pass parameters to the NeuronGroup\n",
    "fitter = SpikeFitter(model=eqs, input_var='I', dt=dt,\n",
    "                     input=inp_current * nA, output=out_spikes,\n",
    "                     n_samples=30,\n",
    "                     refractory='D',\n",
    "                     threshold='v>Vcut',\n",
    "                     reset=\"v=Vr; w+=b\",\n",
    "                     method='exponential_euler',)  "
   ]
  },
  {
   "cell_type": "code",
   "execution_count": 29,
   "metadata": {},
   "outputs": [
    {
     "name": "stderr",
     "output_type": "stream",
     "text": [
      "cc1plus: warning: command line option ‘-Wstrict-prototypes’ is valid for C/ObjC but not for C++\n",
      "cc1plus: warning: command line option ‘-Wstrict-prototypes’ is valid for C/ObjC but not for C++\n",
      "cc1plus: warning: command line option ‘-Wstrict-prototypes’ is valid for C/ObjC but not for C++\n",
      "cc1plus: warning: command line option ‘-Wstrict-prototypes’ is valid for C/ObjC but not for C++\n",
      "cc1plus: warning: command line option ‘-Wstrict-prototypes’ is valid for C/ObjC but not for C++\n",
      "cc1plus: warning: command line option ‘-Wstrict-prototypes’ is valid for C/ObjC but not for C++\n",
      "cc1plus: warning: command line option ‘-Wstrict-prototypes’ is valid for C/ObjC but not for C++\n"
     ]
    },
    {
     "ename": "BrianObjectException",
     "evalue": "Original error and traceback:\nTraceback (most recent call last):\n  File \"/home/alteska/Desktop/brian/brian2/build/lib.linux-x86_64-3.7/brian2/core/network.py\", line 864, in before_run\n    obj.before_run(run_namespace)\n  File \"/home/alteska/Desktop/brian/brian2/build/lib.linux-x86_64-3.7/brian2/groups/group.py\", line 1128, in before_run\n    codeobj_class=self.codeobj_class\n  File \"/home/alteska/Desktop/brian/brian2/build/lib.linux-x86_64-3.7/brian2/codegen/codeobject.py\", line 416, in create_runner_codeobj\n    compiler_kwds=compiler_kwds\n  File \"/home/alteska/Desktop/brian/brian2/build/lib.linux-x86_64-3.7/brian2/devices/device.py\", line 326, in code_object\n    codeobj.compile()\n  File \"/home/alteska/Desktop/brian/brian2/build/lib.linux-x86_64-3.7/brian2/codegen/runtime/cython_rt/cython_rt.py\", line 147, in compile\n    sources=self.sources\n  File \"/home/alteska/Desktop/brian/brian2/build/lib.linux-x86_64-3.7/brian2/codegen/runtime/cython_rt/extension_manager.py\", line 138, in create_extension\n    sources=sources)\n  File \"/home/alteska/Desktop/brian/brian2/build/lib.linux-x86_64-3.7/brian2/codegen/runtime/cython_rt/extension_manager.py\", line 280, in _load_module\n    build_extension.run()\n  File \"/home/alteska/anaconda3/envs/brian_opt/lib/python3.7/distutils/command/build_ext.py\", line 340, in run\n    self.build_extensions()\n  File \"/home/alteska/anaconda3/envs/brian_opt/lib/python3.7/distutils/command/build_ext.py\", line 449, in build_extensions\n    self._build_extensions_serial()\n  File \"/home/alteska/anaconda3/envs/brian_opt/lib/python3.7/distutils/command/build_ext.py\", line 474, in _build_extensions_serial\n    self.build_extension(ext)\n  File \"/home/alteska/anaconda3/envs/brian_opt/lib/python3.7/distutils/command/build_ext.py\", line 534, in build_extension\n    depends=ext.depends)\n  File \"/home/alteska/anaconda3/envs/brian_opt/lib/python3.7/distutils/ccompiler.py\", line 574, in compile\n    self._compile(obj, src, ext, cc_args, extra_postargs, pp_opts)\n  File \"/home/alteska/anaconda3/envs/brian_opt/lib/python3.7/distutils/unixccompiler.py\", line 118, in _compile\n    extra_postargs)\n  File \"/home/alteska/anaconda3/envs/brian_opt/lib/python3.7/distutils/ccompiler.py\", line 909, in spawn\n    spawn(cmd, dry_run=self.dry_run)\n  File \"/home/alteska/anaconda3/envs/brian_opt/lib/python3.7/distutils/spawn.py\", line 36, in spawn\n    _spawn_posix(cmd, search_path, dry_run=dry_run)\n  File \"/home/alteska/anaconda3/envs/brian_opt/lib/python3.7/distutils/spawn.py\", line 115, in _spawn_posix\n    pid = os.fork()\nOSError: [Errno 12] Cannot allocate memory\n\nError encountered with object named \"neurons_stateupdater_4\".\nObject was created here (most recent call only, full details in debug log):\n  File \"/home/alteska/Desktop/brian/brian2modelfitting/brian2modelfitting/modelfitting/modelfitting.py\", line 165, in setup_neuron_group\n    namespace=namespace)\n\nAn error occurred when preparing an object. OSError: [Errno 12] Cannot allocate memory\n(See above for original error message and traceback.)",
     "output_type": "error",
     "traceback": [
      "\u001b[0;31m---------------------------------------------------------------------------\u001b[0m",
      "\u001b[0;31mOSError\u001b[0m                                   Traceback (most recent call last)",
      "\u001b[0;32m~/Desktop/brian/brian2/build/lib.linux-x86_64-3.7/brian2/core/network.py\u001b[0m in \u001b[0;36mbefore_run\u001b[0;34m(self, run_namespace)\u001b[0m\n\u001b[1;32m    863\u001b[0m                 \u001b[0;32mtry\u001b[0m\u001b[0;34m:\u001b[0m\u001b[0;34m\u001b[0m\u001b[0;34m\u001b[0m\u001b[0m\n\u001b[0;32m--> 864\u001b[0;31m                     \u001b[0mobj\u001b[0m\u001b[0;34m.\u001b[0m\u001b[0mbefore_run\u001b[0m\u001b[0;34m(\u001b[0m\u001b[0mrun_namespace\u001b[0m\u001b[0;34m)\u001b[0m\u001b[0;34m\u001b[0m\u001b[0;34m\u001b[0m\u001b[0m\n\u001b[0m\u001b[1;32m    865\u001b[0m                 \u001b[0;32mexcept\u001b[0m \u001b[0mException\u001b[0m \u001b[0;32mas\u001b[0m \u001b[0mex\u001b[0m\u001b[0;34m:\u001b[0m\u001b[0;34m\u001b[0m\u001b[0;34m\u001b[0m\u001b[0m\n",
      "\u001b[0;32m~/Desktop/brian/brian2/build/lib.linux-x86_64-3.7/brian2/groups/group.py\u001b[0m in \u001b[0;36mbefore_run\u001b[0;34m(self, run_namespace)\u001b[0m\n\u001b[1;32m   1127\u001b[0m                                                  \u001b[0moverride_conditional_write\u001b[0m\u001b[0;34m=\u001b[0m\u001b[0mself\u001b[0m\u001b[0;34m.\u001b[0m\u001b[0moverride_conditional_write\u001b[0m\u001b[0;34m,\u001b[0m\u001b[0;34m\u001b[0m\u001b[0;34m\u001b[0m\u001b[0m\n\u001b[0;32m-> 1128\u001b[0;31m                                                  \u001b[0mcodeobj_class\u001b[0m\u001b[0;34m=\u001b[0m\u001b[0mself\u001b[0m\u001b[0;34m.\u001b[0m\u001b[0mcodeobj_class\u001b[0m\u001b[0;34m\u001b[0m\u001b[0;34m\u001b[0m\u001b[0m\n\u001b[0m\u001b[1;32m   1129\u001b[0m                                                  )\n",
      "\u001b[0;32m~/Desktop/brian/brian2/build/lib.linux-x86_64-3.7/brian2/codegen/codeobject.py\u001b[0m in \u001b[0;36mcreate_runner_codeobj\u001b[0;34m(group, code, template_name, run_namespace, user_code, variable_indices, name, check_units, needed_variables, additional_variables, template_kwds, override_conditional_write, codeobj_class)\u001b[0m\n\u001b[1;32m    415\u001b[0m                               \u001b[0moverride_conditional_write\u001b[0m\u001b[0;34m=\u001b[0m\u001b[0moverride_conditional_write\u001b[0m\u001b[0;34m,\u001b[0m\u001b[0;34m\u001b[0m\u001b[0;34m\u001b[0m\u001b[0m\n\u001b[0;32m--> 416\u001b[0;31m                               \u001b[0mcompiler_kwds\u001b[0m\u001b[0;34m=\u001b[0m\u001b[0mcompiler_kwds\u001b[0m\u001b[0;34m\u001b[0m\u001b[0;34m\u001b[0m\u001b[0m\n\u001b[0m\u001b[1;32m    417\u001b[0m                               )\n",
      "\u001b[0;32m~/Desktop/brian/brian2/build/lib.linux-x86_64-3.7/brian2/devices/device.py\u001b[0m in \u001b[0;36mcode_object\u001b[0;34m(self, owner, name, abstract_code, variables, template_name, variable_indices, codeobj_class, template_kwds, override_conditional_write, compiler_kwds)\u001b[0m\n\u001b[1;32m    325\u001b[0m                                 name=name, compiler_kwds=compiler_kwds)\n\u001b[0;32m--> 326\u001b[0;31m         \u001b[0mcodeobj\u001b[0m\u001b[0;34m.\u001b[0m\u001b[0mcompile\u001b[0m\u001b[0;34m(\u001b[0m\u001b[0;34m)\u001b[0m\u001b[0;34m\u001b[0m\u001b[0;34m\u001b[0m\u001b[0m\n\u001b[0m\u001b[1;32m    327\u001b[0m         \u001b[0;32mreturn\u001b[0m \u001b[0mcodeobj\u001b[0m\u001b[0;34m\u001b[0m\u001b[0;34m\u001b[0m\u001b[0m\n",
      "\u001b[0;32m~/Desktop/brian/brian2/build/lib.linux-x86_64-3.7/brian2/codegen/runtime/cython_rt/cython_rt.py\u001b[0m in \u001b[0;36mcompile\u001b[0;34m(self)\u001b[0m\n\u001b[1;32m    146\u001b[0m             \u001b[0mowner_name\u001b[0m\u001b[0;34m=\u001b[0m\u001b[0mself\u001b[0m\u001b[0;34m.\u001b[0m\u001b[0mowner\u001b[0m\u001b[0;34m.\u001b[0m\u001b[0mname\u001b[0m\u001b[0;34m+\u001b[0m\u001b[0;34m'_'\u001b[0m\u001b[0;34m+\u001b[0m\u001b[0mself\u001b[0m\u001b[0;34m.\u001b[0m\u001b[0mtemplate_name\u001b[0m\u001b[0;34m,\u001b[0m\u001b[0;34m\u001b[0m\u001b[0;34m\u001b[0m\u001b[0m\n\u001b[0;32m--> 147\u001b[0;31m             \u001b[0msources\u001b[0m\u001b[0;34m=\u001b[0m\u001b[0mself\u001b[0m\u001b[0;34m.\u001b[0m\u001b[0msources\u001b[0m\u001b[0;34m\u001b[0m\u001b[0;34m\u001b[0m\u001b[0m\n\u001b[0m\u001b[1;32m    148\u001b[0m             )\n",
      "\u001b[0;32m~/Desktop/brian/brian2/build/lib.linux-x86_64-3.7/brian2/codegen/runtime/cython_rt/extension_manager.py\u001b[0m in \u001b[0;36mcreate_extension\u001b[0;34m(self, code, force, name, define_macros, include_dirs, library_dirs, runtime_library_dirs, extra_compile_args, extra_link_args, libraries, compiler, sources, owner_name)\u001b[0m\n\u001b[1;32m    137\u001b[0m                                            \u001b[0mkey\u001b[0m\u001b[0;34m=\u001b[0m\u001b[0mkey\u001b[0m\u001b[0;34m,\u001b[0m\u001b[0;34m\u001b[0m\u001b[0;34m\u001b[0m\u001b[0m\n\u001b[0;32m--> 138\u001b[0;31m                                            sources=sources)\n\u001b[0m\u001b[1;32m    139\u001b[0m                 \u001b[0;31m# Unlock\u001b[0m\u001b[0;34m\u001b[0m\u001b[0;34m\u001b[0m\u001b[0;34m\u001b[0m\u001b[0m\n",
      "\u001b[0;32m~/Desktop/brian/brian2/build/lib.linux-x86_64-3.7/brian2/codegen/runtime/cython_rt/extension_manager.py\u001b[0m in \u001b[0;36m_load_module\u001b[0;34m(self, module_path, define_macros, include_dirs, library_dirs, extra_compile_args, extra_link_args, libraries, code, lib_dir, module_name, runtime_library_dirs, compiler, key, sources)\u001b[0m\n\u001b[1;32m    279\u001b[0m                     \u001b[0mbuild_extension\u001b[0m\u001b[0;34m.\u001b[0m\u001b[0mbuild_lib\u001b[0m \u001b[0;34m=\u001b[0m \u001b[0mlib_dir\u001b[0m\u001b[0;34m\u001b[0m\u001b[0;34m\u001b[0m\u001b[0m\n\u001b[0;32m--> 280\u001b[0;31m                     \u001b[0mbuild_extension\u001b[0m\u001b[0;34m.\u001b[0m\u001b[0mrun\u001b[0m\u001b[0;34m(\u001b[0m\u001b[0;34m)\u001b[0m\u001b[0;34m\u001b[0m\u001b[0;34m\u001b[0m\u001b[0m\n\u001b[0m\u001b[1;32m    281\u001b[0m                     \u001b[0;32mif\u001b[0m \u001b[0mprefs\u001b[0m\u001b[0;34m[\u001b[0m\u001b[0;34m'codegen.runtime.cython.delete_source_files'\u001b[0m\u001b[0;34m]\u001b[0m\u001b[0;34m:\u001b[0m\u001b[0;34m\u001b[0m\u001b[0;34m\u001b[0m\u001b[0m\n",
      "\u001b[0;32m~/anaconda3/envs/brian_opt/lib/python3.7/distutils/command/build_ext.py\u001b[0m in \u001b[0;36mrun\u001b[0;34m(self)\u001b[0m\n\u001b[1;32m    339\u001b[0m         \u001b[0;31m# Now actually compile and link everything.\u001b[0m\u001b[0;34m\u001b[0m\u001b[0;34m\u001b[0m\u001b[0;34m\u001b[0m\u001b[0m\n\u001b[0;32m--> 340\u001b[0;31m         \u001b[0mself\u001b[0m\u001b[0;34m.\u001b[0m\u001b[0mbuild_extensions\u001b[0m\u001b[0;34m(\u001b[0m\u001b[0;34m)\u001b[0m\u001b[0;34m\u001b[0m\u001b[0;34m\u001b[0m\u001b[0m\n\u001b[0m\u001b[1;32m    341\u001b[0m \u001b[0;34m\u001b[0m\u001b[0m\n",
      "\u001b[0;32m~/anaconda3/envs/brian_opt/lib/python3.7/distutils/command/build_ext.py\u001b[0m in \u001b[0;36mbuild_extensions\u001b[0;34m(self)\u001b[0m\n\u001b[1;32m    448\u001b[0m         \u001b[0;32melse\u001b[0m\u001b[0;34m:\u001b[0m\u001b[0;34m\u001b[0m\u001b[0;34m\u001b[0m\u001b[0m\n\u001b[0;32m--> 449\u001b[0;31m             \u001b[0mself\u001b[0m\u001b[0;34m.\u001b[0m\u001b[0m_build_extensions_serial\u001b[0m\u001b[0;34m(\u001b[0m\u001b[0;34m)\u001b[0m\u001b[0;34m\u001b[0m\u001b[0;34m\u001b[0m\u001b[0m\n\u001b[0m\u001b[1;32m    450\u001b[0m \u001b[0;34m\u001b[0m\u001b[0m\n",
      "\u001b[0;32m~/anaconda3/envs/brian_opt/lib/python3.7/distutils/command/build_ext.py\u001b[0m in \u001b[0;36m_build_extensions_serial\u001b[0;34m(self)\u001b[0m\n\u001b[1;32m    473\u001b[0m             \u001b[0;32mwith\u001b[0m \u001b[0mself\u001b[0m\u001b[0;34m.\u001b[0m\u001b[0m_filter_build_errors\u001b[0m\u001b[0;34m(\u001b[0m\u001b[0mext\u001b[0m\u001b[0;34m)\u001b[0m\u001b[0;34m:\u001b[0m\u001b[0;34m\u001b[0m\u001b[0;34m\u001b[0m\u001b[0m\n\u001b[0;32m--> 474\u001b[0;31m                 \u001b[0mself\u001b[0m\u001b[0;34m.\u001b[0m\u001b[0mbuild_extension\u001b[0m\u001b[0;34m(\u001b[0m\u001b[0mext\u001b[0m\u001b[0;34m)\u001b[0m\u001b[0;34m\u001b[0m\u001b[0;34m\u001b[0m\u001b[0m\n\u001b[0m\u001b[1;32m    475\u001b[0m \u001b[0;34m\u001b[0m\u001b[0m\n",
      "\u001b[0;32m~/anaconda3/envs/brian_opt/lib/python3.7/distutils/command/build_ext.py\u001b[0m in \u001b[0;36mbuild_extension\u001b[0;34m(self, ext)\u001b[0m\n\u001b[1;32m    533\u001b[0m                                          \u001b[0mextra_postargs\u001b[0m\u001b[0;34m=\u001b[0m\u001b[0mextra_args\u001b[0m\u001b[0;34m,\u001b[0m\u001b[0;34m\u001b[0m\u001b[0;34m\u001b[0m\u001b[0m\n\u001b[0;32m--> 534\u001b[0;31m                                          depends=ext.depends)\n\u001b[0m\u001b[1;32m    535\u001b[0m \u001b[0;34m\u001b[0m\u001b[0m\n",
      "\u001b[0;32m~/anaconda3/envs/brian_opt/lib/python3.7/distutils/ccompiler.py\u001b[0m in \u001b[0;36mcompile\u001b[0;34m(self, sources, output_dir, macros, include_dirs, debug, extra_preargs, extra_postargs, depends)\u001b[0m\n\u001b[1;32m    573\u001b[0m                 \u001b[0;32mcontinue\u001b[0m\u001b[0;34m\u001b[0m\u001b[0;34m\u001b[0m\u001b[0m\n\u001b[0;32m--> 574\u001b[0;31m             \u001b[0mself\u001b[0m\u001b[0;34m.\u001b[0m\u001b[0m_compile\u001b[0m\u001b[0;34m(\u001b[0m\u001b[0mobj\u001b[0m\u001b[0;34m,\u001b[0m \u001b[0msrc\u001b[0m\u001b[0;34m,\u001b[0m \u001b[0mext\u001b[0m\u001b[0;34m,\u001b[0m \u001b[0mcc_args\u001b[0m\u001b[0;34m,\u001b[0m \u001b[0mextra_postargs\u001b[0m\u001b[0;34m,\u001b[0m \u001b[0mpp_opts\u001b[0m\u001b[0;34m)\u001b[0m\u001b[0;34m\u001b[0m\u001b[0;34m\u001b[0m\u001b[0m\n\u001b[0m\u001b[1;32m    575\u001b[0m \u001b[0;34m\u001b[0m\u001b[0m\n",
      "\u001b[0;32m~/anaconda3/envs/brian_opt/lib/python3.7/distutils/unixccompiler.py\u001b[0m in \u001b[0;36m_compile\u001b[0;34m(self, obj, src, ext, cc_args, extra_postargs, pp_opts)\u001b[0m\n\u001b[1;32m    117\u001b[0m             self.spawn(compiler_so + cc_args + [src, '-o', obj] +\n\u001b[0;32m--> 118\u001b[0;31m                        extra_postargs)\n\u001b[0m\u001b[1;32m    119\u001b[0m         \u001b[0;32mexcept\u001b[0m \u001b[0mDistutilsExecError\u001b[0m \u001b[0;32mas\u001b[0m \u001b[0mmsg\u001b[0m\u001b[0;34m:\u001b[0m\u001b[0;34m\u001b[0m\u001b[0;34m\u001b[0m\u001b[0m\n",
      "\u001b[0;32m~/anaconda3/envs/brian_opt/lib/python3.7/distutils/ccompiler.py\u001b[0m in \u001b[0;36mspawn\u001b[0;34m(self, cmd)\u001b[0m\n\u001b[1;32m    908\u001b[0m     \u001b[0;32mdef\u001b[0m \u001b[0mspawn\u001b[0m\u001b[0;34m(\u001b[0m\u001b[0mself\u001b[0m\u001b[0;34m,\u001b[0m \u001b[0mcmd\u001b[0m\u001b[0;34m)\u001b[0m\u001b[0;34m:\u001b[0m\u001b[0;34m\u001b[0m\u001b[0;34m\u001b[0m\u001b[0m\n\u001b[0;32m--> 909\u001b[0;31m         \u001b[0mspawn\u001b[0m\u001b[0;34m(\u001b[0m\u001b[0mcmd\u001b[0m\u001b[0;34m,\u001b[0m \u001b[0mdry_run\u001b[0m\u001b[0;34m=\u001b[0m\u001b[0mself\u001b[0m\u001b[0;34m.\u001b[0m\u001b[0mdry_run\u001b[0m\u001b[0;34m)\u001b[0m\u001b[0;34m\u001b[0m\u001b[0;34m\u001b[0m\u001b[0m\n\u001b[0m\u001b[1;32m    910\u001b[0m \u001b[0;34m\u001b[0m\u001b[0m\n",
      "\u001b[0;32m~/anaconda3/envs/brian_opt/lib/python3.7/distutils/spawn.py\u001b[0m in \u001b[0;36mspawn\u001b[0;34m(cmd, search_path, verbose, dry_run)\u001b[0m\n\u001b[1;32m     35\u001b[0m     \u001b[0;32mif\u001b[0m \u001b[0mos\u001b[0m\u001b[0;34m.\u001b[0m\u001b[0mname\u001b[0m \u001b[0;34m==\u001b[0m \u001b[0;34m'posix'\u001b[0m\u001b[0;34m:\u001b[0m\u001b[0;34m\u001b[0m\u001b[0;34m\u001b[0m\u001b[0m\n\u001b[0;32m---> 36\u001b[0;31m         \u001b[0m_spawn_posix\u001b[0m\u001b[0;34m(\u001b[0m\u001b[0mcmd\u001b[0m\u001b[0;34m,\u001b[0m \u001b[0msearch_path\u001b[0m\u001b[0;34m,\u001b[0m \u001b[0mdry_run\u001b[0m\u001b[0;34m=\u001b[0m\u001b[0mdry_run\u001b[0m\u001b[0;34m)\u001b[0m\u001b[0;34m\u001b[0m\u001b[0;34m\u001b[0m\u001b[0m\n\u001b[0m\u001b[1;32m     37\u001b[0m     \u001b[0;32melif\u001b[0m \u001b[0mos\u001b[0m\u001b[0;34m.\u001b[0m\u001b[0mname\u001b[0m \u001b[0;34m==\u001b[0m \u001b[0;34m'nt'\u001b[0m\u001b[0;34m:\u001b[0m\u001b[0;34m\u001b[0m\u001b[0;34m\u001b[0m\u001b[0m\n",
      "\u001b[0;32m~/anaconda3/envs/brian_opt/lib/python3.7/distutils/spawn.py\u001b[0m in \u001b[0;36m_spawn_posix\u001b[0;34m(cmd, search_path, verbose, dry_run)\u001b[0m\n\u001b[1;32m    114\u001b[0m             \u001b[0mexec_fn\u001b[0m \u001b[0;34m=\u001b[0m \u001b[0msearch_path\u001b[0m \u001b[0;32mand\u001b[0m \u001b[0mos\u001b[0m\u001b[0;34m.\u001b[0m\u001b[0mexecvpe\u001b[0m \u001b[0;32mor\u001b[0m \u001b[0mos\u001b[0m\u001b[0;34m.\u001b[0m\u001b[0mexecve\u001b[0m\u001b[0;34m\u001b[0m\u001b[0;34m\u001b[0m\u001b[0m\n\u001b[0;32m--> 115\u001b[0;31m     \u001b[0mpid\u001b[0m \u001b[0;34m=\u001b[0m \u001b[0mos\u001b[0m\u001b[0;34m.\u001b[0m\u001b[0mfork\u001b[0m\u001b[0;34m(\u001b[0m\u001b[0;34m)\u001b[0m\u001b[0;34m\u001b[0m\u001b[0;34m\u001b[0m\u001b[0m\n\u001b[0m\u001b[1;32m    116\u001b[0m     \u001b[0;32mif\u001b[0m \u001b[0mpid\u001b[0m \u001b[0;34m==\u001b[0m \u001b[0;36m0\u001b[0m\u001b[0;34m:\u001b[0m \u001b[0;31m# in the child\u001b[0m\u001b[0;34m\u001b[0m\u001b[0;34m\u001b[0m\u001b[0m\n",
      "\u001b[0;31mOSError\u001b[0m: [Errno 12] Cannot allocate memory",
      "\nDuring handling of the above exception, another exception occurred:\n",
      "\u001b[0;31mBrianObjectException\u001b[0m                      Traceback (most recent call last)",
      "\u001b[0;32m<ipython-input-29-c0334dccbc89>\u001b[0m in \u001b[0;36m<module>\u001b[0;34m\u001b[0m\n\u001b[1;32m     10\u001b[0m \u001b[0;31m#                                 DeltaT = [5, 8] * mV,\u001b[0m\u001b[0;34m\u001b[0m\u001b[0;34m\u001b[0m\u001b[0;34m\u001b[0m\u001b[0m\n\u001b[1;32m     11\u001b[0m \u001b[0;31m#                                 Vr = [-90, -30]*mV,\u001b[0m\u001b[0;34m\u001b[0m\u001b[0;34m\u001b[0m\u001b[0;34m\u001b[0m\u001b[0m\n\u001b[0;32m---> 12\u001b[0;31m                                 \u001b[0mk\u001b[0m \u001b[0;34m=\u001b[0m \u001b[0;34m[\u001b[0m\u001b[0;36m1\u001b[0m\u001b[0;34m,\u001b[0m \u001b[0;36m100\u001b[0m\u001b[0;34m]\u001b[0m\u001b[0;34m,\u001b[0m\u001b[0;34m\u001b[0m\u001b[0;34m\u001b[0m\u001b[0m\n\u001b[0m\u001b[1;32m     13\u001b[0m \u001b[0;31m#                                 C = [170, 200] * pF,\u001b[0m\u001b[0;34m\u001b[0m\u001b[0;34m\u001b[0m\u001b[0;34m\u001b[0m\u001b[0m\n\u001b[1;32m     14\u001b[0m \u001b[0;31m#                                 tauw = [0.1, 500]*ms,\u001b[0m\u001b[0;34m\u001b[0m\u001b[0;34m\u001b[0m\u001b[0;34m\u001b[0m\u001b[0m\n",
      "\u001b[0;32m~/Desktop/brian/brian2modelfitting/brian2modelfitting/modelfitting/modelfitting.py\u001b[0m in \u001b[0;36mfit\u001b[0;34m(self, optimizer, metric, n_rounds, callback, restart, **params)\u001b[0m\n\u001b[1;32m    511\u001b[0m                             \"SpikeFitter\")\n\u001b[1;32m    512\u001b[0m         self.best_params, error = super().fit(optimizer, metric, n_rounds,\n\u001b[0;32m--> 513\u001b[0;31m                                               callback, restart, **params)\n\u001b[0m\u001b[1;32m    514\u001b[0m         \u001b[0;32mreturn\u001b[0m \u001b[0mself\u001b[0m\u001b[0;34m.\u001b[0m\u001b[0mbest_params\u001b[0m\u001b[0;34m,\u001b[0m \u001b[0merror\u001b[0m\u001b[0;34m\u001b[0m\u001b[0;34m\u001b[0m\u001b[0m\n\u001b[1;32m    515\u001b[0m \u001b[0;34m\u001b[0m\u001b[0m\n",
      "\u001b[0;32m~/Desktop/brian/brian2modelfitting/brian2modelfitting/modelfitting/modelfitting.py\u001b[0m in \u001b[0;36mfit\u001b[0;34m(self, optimizer, metric, n_rounds, callback, restart, **params)\u001b[0m\n\u001b[1;32m    271\u001b[0m         \u001b[0;32mfor\u001b[0m \u001b[0mindex\u001b[0m \u001b[0;32min\u001b[0m \u001b[0mrange\u001b[0m\u001b[0;34m(\u001b[0m\u001b[0mn_rounds\u001b[0m\u001b[0;34m)\u001b[0m\u001b[0;34m:\u001b[0m\u001b[0;34m\u001b[0m\u001b[0;34m\u001b[0m\u001b[0m\n\u001b[1;32m    272\u001b[0m             best_params, parameters, errors = self.optimization_iter(optimizer,\n\u001b[0;32m--> 273\u001b[0;31m                                                                      metric)\n\u001b[0m\u001b[1;32m    274\u001b[0m \u001b[0;34m\u001b[0m\u001b[0m\n\u001b[1;32m    275\u001b[0m             \u001b[0;31m# create output variables\u001b[0m\u001b[0;34m\u001b[0m\u001b[0;34m\u001b[0m\u001b[0;34m\u001b[0m\u001b[0m\n",
      "\u001b[0;32m~/Desktop/brian/brian2modelfitting/brian2modelfitting/modelfitting/modelfitting.py\u001b[0m in \u001b[0;36moptimization_iter\u001b[0;34m(self, optimizer, metric)\u001b[0m\n\u001b[1;32m    199\u001b[0m         d_param = get_param_dic(parameters, self.parameter_names,\n\u001b[1;32m    200\u001b[0m                                 self.n_traces, self.n_samples)\n\u001b[0;32m--> 201\u001b[0;31m         \u001b[0mself\u001b[0m\u001b[0;34m.\u001b[0m\u001b[0msimulator\u001b[0m\u001b[0;34m.\u001b[0m\u001b[0mrun\u001b[0m\u001b[0;34m(\u001b[0m\u001b[0mself\u001b[0m\u001b[0;34m.\u001b[0m\u001b[0mduration\u001b[0m\u001b[0;34m,\u001b[0m \u001b[0md_param\u001b[0m\u001b[0;34m,\u001b[0m \u001b[0mself\u001b[0m\u001b[0;34m.\u001b[0m\u001b[0mparameter_names\u001b[0m\u001b[0;34m)\u001b[0m\u001b[0;34m\u001b[0m\u001b[0;34m\u001b[0m\u001b[0m\n\u001b[0m\u001b[1;32m    202\u001b[0m         \u001b[0merrors\u001b[0m \u001b[0;34m=\u001b[0m \u001b[0mself\u001b[0m\u001b[0;34m.\u001b[0m\u001b[0mcalc_errors\u001b[0m\u001b[0;34m(\u001b[0m\u001b[0mmetric\u001b[0m\u001b[0;34m)\u001b[0m\u001b[0;34m\u001b[0m\u001b[0;34m\u001b[0m\u001b[0m\n\u001b[1;32m    203\u001b[0m \u001b[0;34m\u001b[0m\u001b[0m\n",
      "\u001b[0;32m~/Desktop/brian/brian2modelfitting/brian2modelfitting/modelfitting/simulation.py\u001b[0m in \u001b[0;36mrun\u001b[0;34m(self, duration, params, params_names, name)\u001b[0m\n\u001b[1;32m    102\u001b[0m                 \u001b[0mself\u001b[0m\u001b[0;34m.\u001b[0m\u001b[0mnetwork\u001b[0m\u001b[0;34m[\u001b[0m\u001b[0mname\u001b[0m\u001b[0;34m]\u001b[0m\u001b[0;34m.\u001b[0m\u001b[0m__setattr__\u001b[0m\u001b[0;34m(\u001b[0m\u001b[0mk\u001b[0m\u001b[0;34m,\u001b[0m \u001b[0mv\u001b[0m\u001b[0;34m)\u001b[0m\u001b[0;34m\u001b[0m\u001b[0;34m\u001b[0m\u001b[0m\n\u001b[1;32m    103\u001b[0m \u001b[0;34m\u001b[0m\u001b[0m\n\u001b[0;32m--> 104\u001b[0;31m         \u001b[0mself\u001b[0m\u001b[0;34m.\u001b[0m\u001b[0mnetwork\u001b[0m\u001b[0;34m.\u001b[0m\u001b[0mrun\u001b[0m\u001b[0;34m(\u001b[0m\u001b[0mduration\u001b[0m\u001b[0;34m,\u001b[0m \u001b[0mnamespace\u001b[0m\u001b[0;34m=\u001b[0m\u001b[0;34m{\u001b[0m\u001b[0;34m}\u001b[0m\u001b[0;34m)\u001b[0m\u001b[0;34m\u001b[0m\u001b[0;34m\u001b[0m\u001b[0m\n\u001b[0m\u001b[1;32m    105\u001b[0m \u001b[0;34m\u001b[0m\u001b[0m\n\u001b[1;32m    106\u001b[0m \u001b[0;34m\u001b[0m\u001b[0m\n",
      "\u001b[0;32m~/Desktop/brian/brian2/build/lib.linux-x86_64-3.7/brian2/core/base.py\u001b[0m in \u001b[0;36mdevice_override_decorated_function\u001b[0;34m(*args, **kwds)\u001b[0m\n\u001b[1;32m    274\u001b[0m                 \u001b[0;32mreturn\u001b[0m \u001b[0mgetattr\u001b[0m\u001b[0;34m(\u001b[0m\u001b[0mcurdev\u001b[0m\u001b[0;34m,\u001b[0m \u001b[0mname\u001b[0m\u001b[0;34m)\u001b[0m\u001b[0;34m(\u001b[0m\u001b[0;34m*\u001b[0m\u001b[0margs\u001b[0m\u001b[0;34m,\u001b[0m \u001b[0;34m**\u001b[0m\u001b[0mkwds\u001b[0m\u001b[0;34m)\u001b[0m\u001b[0;34m\u001b[0m\u001b[0;34m\u001b[0m\u001b[0m\n\u001b[1;32m    275\u001b[0m             \u001b[0;32melse\u001b[0m\u001b[0;34m:\u001b[0m\u001b[0;34m\u001b[0m\u001b[0;34m\u001b[0m\u001b[0m\n\u001b[0;32m--> 276\u001b[0;31m                 \u001b[0;32mreturn\u001b[0m \u001b[0mfunc\u001b[0m\u001b[0;34m(\u001b[0m\u001b[0;34m*\u001b[0m\u001b[0margs\u001b[0m\u001b[0;34m,\u001b[0m \u001b[0;34m**\u001b[0m\u001b[0mkwds\u001b[0m\u001b[0;34m)\u001b[0m\u001b[0;34m\u001b[0m\u001b[0;34m\u001b[0m\u001b[0m\n\u001b[0m\u001b[1;32m    277\u001b[0m \u001b[0;34m\u001b[0m\u001b[0m\n\u001b[1;32m    278\u001b[0m         \u001b[0mdevice_override_decorated_function\u001b[0m\u001b[0;34m.\u001b[0m\u001b[0m__doc__\u001b[0m \u001b[0;34m=\u001b[0m \u001b[0mfunc\u001b[0m\u001b[0;34m.\u001b[0m\u001b[0m__doc__\u001b[0m\u001b[0;34m\u001b[0m\u001b[0;34m\u001b[0m\u001b[0m\n",
      "\u001b[0;32m~/Desktop/brian/brian2/build/lib.linux-x86_64-3.7/brian2/units/fundamentalunits.py\u001b[0m in \u001b[0;36mnew_f\u001b[0;34m(*args, **kwds)\u001b[0m\n\u001b[1;32m   2373\u001b[0m                                                      get_dimensions(newkeyset[k]))\n\u001b[1;32m   2374\u001b[0m \u001b[0;34m\u001b[0m\u001b[0m\n\u001b[0;32m-> 2375\u001b[0;31m             \u001b[0mresult\u001b[0m \u001b[0;34m=\u001b[0m \u001b[0mf\u001b[0m\u001b[0;34m(\u001b[0m\u001b[0;34m*\u001b[0m\u001b[0margs\u001b[0m\u001b[0;34m,\u001b[0m \u001b[0;34m**\u001b[0m\u001b[0mkwds\u001b[0m\u001b[0;34m)\u001b[0m\u001b[0;34m\u001b[0m\u001b[0;34m\u001b[0m\u001b[0m\n\u001b[0m\u001b[1;32m   2376\u001b[0m             \u001b[0;32mif\u001b[0m \u001b[0;34m'result'\u001b[0m \u001b[0;32min\u001b[0m \u001b[0mau\u001b[0m\u001b[0;34m:\u001b[0m\u001b[0;34m\u001b[0m\u001b[0;34m\u001b[0m\u001b[0m\n\u001b[1;32m   2377\u001b[0m                 \u001b[0;32mif\u001b[0m \u001b[0mau\u001b[0m\u001b[0;34m[\u001b[0m\u001b[0;34m'result'\u001b[0m\u001b[0;34m]\u001b[0m \u001b[0;34m==\u001b[0m \u001b[0mbool\u001b[0m\u001b[0;34m:\u001b[0m\u001b[0;34m\u001b[0m\u001b[0;34m\u001b[0m\u001b[0m\n",
      "\u001b[0;32m~/Desktop/brian/brian2/build/lib.linux-x86_64-3.7/brian2/core/network.py\u001b[0m in \u001b[0;36mrun\u001b[0;34m(self, duration, report, report_period, namespace, profile, level)\u001b[0m\n\u001b[1;32m    973\u001b[0m             \u001b[0mnamespace\u001b[0m \u001b[0;34m=\u001b[0m \u001b[0mget_local_namespace\u001b[0m\u001b[0;34m(\u001b[0m\u001b[0mlevel\u001b[0m\u001b[0;34m=\u001b[0m\u001b[0mlevel\u001b[0m\u001b[0;34m+\u001b[0m\u001b[0;36m3\u001b[0m\u001b[0;34m)\u001b[0m\u001b[0;34m\u001b[0m\u001b[0;34m\u001b[0m\u001b[0m\n\u001b[1;32m    974\u001b[0m \u001b[0;34m\u001b[0m\u001b[0m\n\u001b[0;32m--> 975\u001b[0;31m         \u001b[0mself\u001b[0m\u001b[0;34m.\u001b[0m\u001b[0mbefore_run\u001b[0m\u001b[0;34m(\u001b[0m\u001b[0mnamespace\u001b[0m\u001b[0;34m)\u001b[0m\u001b[0;34m\u001b[0m\u001b[0;34m\u001b[0m\u001b[0m\n\u001b[0m\u001b[1;32m    976\u001b[0m \u001b[0;34m\u001b[0m\u001b[0m\n\u001b[1;32m    977\u001b[0m         \u001b[0;32mif\u001b[0m \u001b[0mlen\u001b[0m\u001b[0;34m(\u001b[0m\u001b[0mall_objects\u001b[0m\u001b[0;34m)\u001b[0m\u001b[0;34m==\u001b[0m\u001b[0;36m0\u001b[0m\u001b[0;34m:\u001b[0m\u001b[0;34m\u001b[0m\u001b[0;34m\u001b[0m\u001b[0m\n",
      "\u001b[0;32m~/Desktop/brian/brian2/build/lib.linux-x86_64-3.7/brian2/core/base.py\u001b[0m in \u001b[0;36mdevice_override_decorated_function\u001b[0;34m(*args, **kwds)\u001b[0m\n\u001b[1;32m    274\u001b[0m                 \u001b[0;32mreturn\u001b[0m \u001b[0mgetattr\u001b[0m\u001b[0;34m(\u001b[0m\u001b[0mcurdev\u001b[0m\u001b[0;34m,\u001b[0m \u001b[0mname\u001b[0m\u001b[0;34m)\u001b[0m\u001b[0;34m(\u001b[0m\u001b[0;34m*\u001b[0m\u001b[0margs\u001b[0m\u001b[0;34m,\u001b[0m \u001b[0;34m**\u001b[0m\u001b[0mkwds\u001b[0m\u001b[0;34m)\u001b[0m\u001b[0;34m\u001b[0m\u001b[0;34m\u001b[0m\u001b[0m\n\u001b[1;32m    275\u001b[0m             \u001b[0;32melse\u001b[0m\u001b[0;34m:\u001b[0m\u001b[0;34m\u001b[0m\u001b[0;34m\u001b[0m\u001b[0m\n\u001b[0;32m--> 276\u001b[0;31m                 \u001b[0;32mreturn\u001b[0m \u001b[0mfunc\u001b[0m\u001b[0;34m(\u001b[0m\u001b[0;34m*\u001b[0m\u001b[0margs\u001b[0m\u001b[0;34m,\u001b[0m \u001b[0;34m**\u001b[0m\u001b[0mkwds\u001b[0m\u001b[0;34m)\u001b[0m\u001b[0;34m\u001b[0m\u001b[0;34m\u001b[0m\u001b[0m\n\u001b[0m\u001b[1;32m    277\u001b[0m \u001b[0;34m\u001b[0m\u001b[0m\n\u001b[1;32m    278\u001b[0m         \u001b[0mdevice_override_decorated_function\u001b[0m\u001b[0;34m.\u001b[0m\u001b[0m__doc__\u001b[0m \u001b[0;34m=\u001b[0m \u001b[0mfunc\u001b[0m\u001b[0;34m.\u001b[0m\u001b[0m__doc__\u001b[0m\u001b[0;34m\u001b[0m\u001b[0;34m\u001b[0m\u001b[0m\n",
      "\u001b[0;32m~/Desktop/brian/brian2/build/lib.linux-x86_64-3.7/brian2/core/network.py\u001b[0m in \u001b[0;36mbefore_run\u001b[0;34m(self, run_namespace)\u001b[0m\n\u001b[1;32m    864\u001b[0m                     \u001b[0mobj\u001b[0m\u001b[0;34m.\u001b[0m\u001b[0mbefore_run\u001b[0m\u001b[0;34m(\u001b[0m\u001b[0mrun_namespace\u001b[0m\u001b[0;34m)\u001b[0m\u001b[0;34m\u001b[0m\u001b[0;34m\u001b[0m\u001b[0m\n\u001b[1;32m    865\u001b[0m                 \u001b[0;32mexcept\u001b[0m \u001b[0mException\u001b[0m \u001b[0;32mas\u001b[0m \u001b[0mex\u001b[0m\u001b[0;34m:\u001b[0m\u001b[0;34m\u001b[0m\u001b[0;34m\u001b[0m\u001b[0m\n\u001b[0;32m--> 866\u001b[0;31m                     \u001b[0;32mraise\u001b[0m \u001b[0mbrian_object_exception\u001b[0m\u001b[0;34m(\u001b[0m\u001b[0;34m\"An error occurred when preparing an object.\"\u001b[0m\u001b[0;34m,\u001b[0m \u001b[0mobj\u001b[0m\u001b[0;34m,\u001b[0m \u001b[0mex\u001b[0m\u001b[0;34m)\u001b[0m\u001b[0;34m\u001b[0m\u001b[0;34m\u001b[0m\u001b[0m\n\u001b[0m\u001b[1;32m    867\u001b[0m \u001b[0;34m\u001b[0m\u001b[0m\n\u001b[1;32m    868\u001b[0m         \u001b[0;31m# Check that no object has been run as part of another network before\u001b[0m\u001b[0;34m\u001b[0m\u001b[0;34m\u001b[0m\u001b[0;34m\u001b[0m\u001b[0m\n",
      "\u001b[0;31mBrianObjectException\u001b[0m: Original error and traceback:\nTraceback (most recent call last):\n  File \"/home/alteska/Desktop/brian/brian2/build/lib.linux-x86_64-3.7/brian2/core/network.py\", line 864, in before_run\n    obj.before_run(run_namespace)\n  File \"/home/alteska/Desktop/brian/brian2/build/lib.linux-x86_64-3.7/brian2/groups/group.py\", line 1128, in before_run\n    codeobj_class=self.codeobj_class\n  File \"/home/alteska/Desktop/brian/brian2/build/lib.linux-x86_64-3.7/brian2/codegen/codeobject.py\", line 416, in create_runner_codeobj\n    compiler_kwds=compiler_kwds\n  File \"/home/alteska/Desktop/brian/brian2/build/lib.linux-x86_64-3.7/brian2/devices/device.py\", line 326, in code_object\n    codeobj.compile()\n  File \"/home/alteska/Desktop/brian/brian2/build/lib.linux-x86_64-3.7/brian2/codegen/runtime/cython_rt/cython_rt.py\", line 147, in compile\n    sources=self.sources\n  File \"/home/alteska/Desktop/brian/brian2/build/lib.linux-x86_64-3.7/brian2/codegen/runtime/cython_rt/extension_manager.py\", line 138, in create_extension\n    sources=sources)\n  File \"/home/alteska/Desktop/brian/brian2/build/lib.linux-x86_64-3.7/brian2/codegen/runtime/cython_rt/extension_manager.py\", line 280, in _load_module\n    build_extension.run()\n  File \"/home/alteska/anaconda3/envs/brian_opt/lib/python3.7/distutils/command/build_ext.py\", line 340, in run\n    self.build_extensions()\n  File \"/home/alteska/anaconda3/envs/brian_opt/lib/python3.7/distutils/command/build_ext.py\", line 449, in build_extensions\n    self._build_extensions_serial()\n  File \"/home/alteska/anaconda3/envs/brian_opt/lib/python3.7/distutils/command/build_ext.py\", line 474, in _build_extensions_serial\n    self.build_extension(ext)\n  File \"/home/alteska/anaconda3/envs/brian_opt/lib/python3.7/distutils/command/build_ext.py\", line 534, in build_extension\n    depends=ext.depends)\n  File \"/home/alteska/anaconda3/envs/brian_opt/lib/python3.7/distutils/ccompiler.py\", line 574, in compile\n    self._compile(obj, src, ext, cc_args, extra_postargs, pp_opts)\n  File \"/home/alteska/anaconda3/envs/brian_opt/lib/python3.7/distutils/unixccompiler.py\", line 118, in _compile\n    extra_postargs)\n  File \"/home/alteska/anaconda3/envs/brian_opt/lib/python3.7/distutils/ccompiler.py\", line 909, in spawn\n    spawn(cmd, dry_run=self.dry_run)\n  File \"/home/alteska/anaconda3/envs/brian_opt/lib/python3.7/distutils/spawn.py\", line 36, in spawn\n    _spawn_posix(cmd, search_path, dry_run=dry_run)\n  File \"/home/alteska/anaconda3/envs/brian_opt/lib/python3.7/distutils/spawn.py\", line 115, in _spawn_posix\n    pid = os.fork()\nOSError: [Errno 12] Cannot allocate memory\n\nError encountered with object named \"neurons_stateupdater_4\".\nObject was created here (most recent call only, full details in debug log):\n  File \"/home/alteska/Desktop/brian/brian2modelfitting/brian2modelfitting/modelfitting/modelfitting.py\", line 165, in setup_neuron_group\n    namespace=namespace)\n\nAn error occurred when preparing an object. OSError: [Errno 12] Cannot allocate memory\n(See above for original error message and traceback.)"
     ]
    }
   ],
   "source": [
    "result_dict, error = fitter.fit(n_rounds=4,\n",
    "                                optimizer=n_opt,\n",
    "                                metric=metric,\n",
    "                                callback='text',\n",
    "                                gL=[59*nS, 62*nS],\n",
    "#                                 a = [0, 20]*nS,\n",
    "                                b = [0.08, 0.081]*nA,\n",
    "                                D = [0.5, 2]*ms,\n",
    "#                                 VT = [-90, -10] * mV,\n",
    "#                                 DeltaT = [5, 8] * mV,    \n",
    "#                                 Vr = [-90, -30]*mV,\n",
    "                                k = [1, 100],\n",
    "#                                 C = [170, 200] * pF,\n",
    "#                                 tauw = [0.1, 500]*ms,\n",
    "                               )"
   ]
  },
  {
   "cell_type": "code",
   "execution_count": null,
   "metadata": {},
   "outputs": [],
   "source": [
    "result_dict"
   ]
  },
  {
   "cell_type": "code",
   "execution_count": null,
   "metadata": {},
   "outputs": [],
   "source": [
    "error"
   ]
  },
  {
   "cell_type": "code",
   "execution_count": null,
   "metadata": {},
   "outputs": [],
   "source": [
    "1 - error"
   ]
  },
  {
   "cell_type": "code",
   "execution_count": null,
   "metadata": {},
   "outputs": [],
   "source": [
    "# visualization of the results\n",
    "spikes = fitter.generate_spikes(params=None)\n",
    "print('spike times:', spikes)"
   ]
  },
  {
   "cell_type": "code",
   "execution_count": null,
   "metadata": {},
   "outputs": [],
   "source": [
    "print(len(out_spikes[0]))\n",
    "print(len(spikes[0]))"
   ]
  },
  {
   "cell_type": "code",
   "execution_count": null,
   "metadata": {},
   "outputs": [],
   "source": [
    "d=-1\n",
    "\n",
    "fig, ax = plt.subplots(nrows=2, figsize=(15,2))\n",
    "\n",
    "ax[0].set_yticks(np.arange(0, 1, step=1))\n",
    "ax[0].scatter(out_spikes[0][:d], np.ones_like(out_spikes[0][:d]));\n",
    "ax[0].scatter(spikes[0][:d], np.ones_like(spikes[0][:d])*2);\n",
    "\n",
    "ax[1].set_yticks(np.arange(0, 1, step=1))\n",
    "ax[1].scatter(out_spikes[1][:d], np.ones_like(out_spikes[1][:d]));\n",
    "ax[1].scatter(spikes[1][:d], np.ones_like(spikes[1][:d])*2);"
   ]
  },
  {
   "cell_type": "code",
   "execution_count": null,
   "metadata": {},
   "outputs": [],
   "source": [
    "fits = fitter.generate(params=None, output_var='v',)"
   ]
  },
  {
   "cell_type": "code",
   "execution_count": null,
   "metadata": {},
   "outputs": [],
   "source": [
    "fig, ax = plt.subplots(nrows=2, figsize=(15,10))\n",
    "\n",
    "ax[0].plot(voltage1);\n",
    "ax[0].plot(fits[0]/mV)\n",
    "\n",
    "ax[1].plot(voltage2);\n",
    "ax[1].plot(fits[1]/mV);\n"
   ]
  },
  {
   "cell_type": "code",
   "execution_count": null,
   "metadata": {},
   "outputs": [],
   "source": []
  },
  {
   "cell_type": "code",
   "execution_count": null,
   "metadata": {},
   "outputs": [],
   "source": []
  }
 ],
 "metadata": {
  "kernelspec": {
   "display_name": "brian_opt",
   "language": "python",
   "name": "brian_opt"
  },
  "language_info": {
   "codemirror_mode": {
    "name": "ipython",
    "version": 3
   },
   "file_extension": ".py",
   "mimetype": "text/x-python",
   "name": "python",
   "nbconvert_exporter": "python",
   "pygments_lexer": "ipython3",
   "version": "3.7.3"
  }
 },
 "nbformat": 4,
 "nbformat_minor": 2
}
