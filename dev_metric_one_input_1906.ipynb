{
 "cells": [
  {
   "cell_type": "markdown",
   "metadata": {},
   "source": [
    "# Notebook For Metric format dev and creation of RMS Metric"
   ]
  },
  {
   "cell_type": "code",
   "execution_count": 1,
   "metadata": {},
   "outputs": [
    {
     "name": "stderr",
     "output_type": "stream",
     "text": [
      "WARNING    /home/alteska/anaconda3/envs/brian_opt/lib/python3.7/site-packages/sklearn/externals/joblib/__init__.py:15: DeprecationWarning: sklearn.externals.joblib is deprecated in 0.21 and will be removed in 0.23. Please import this functionality directly from joblib, which can be installed with: pip install joblib. If this warning is raised when loading pickled models, you may need to re-serialize those models with scikit-learn 0.21+.\n",
      "  warnings.warn(msg, category=DeprecationWarning)\n",
      " [py.warnings]\n"
     ]
    }
   ],
   "source": [
    "from brian2 import *\n",
    "from brian2tools import *\n",
    "\n",
    "prefs.codegen.target = 'cython'  # weave is not multiprocess-safe!"
   ]
  },
  {
   "cell_type": "code",
   "execution_count": 2,
   "metadata": {},
   "outputs": [],
   "source": [
    "# Parameters\n",
    "area = 20000*umetre**2\n",
    "Cm = 1*ufarad*cm**-2 * area\n",
    "El = -65*mV\n",
    "EK = -90*mV\n",
    "ENa = 50*mV\n",
    "VT = -63*mV\n",
    "\n",
    "dt = 0.01*ms"
   ]
  },
  {
   "cell_type": "code",
   "execution_count": 3,
   "metadata": {},
   "outputs": [],
   "source": [
    "# Generate a step-current input and an \"experimental\" voltage trace\n",
    "input_current = np.hstack([np.zeros(int(5*ms/dt)), np.ones(int(5*ms/dt)), np.zeros(int(5*ms/dt))])*nA"
   ]
  },
  {
   "cell_type": "code",
   "execution_count": 4,
   "metadata": {},
   "outputs": [
    {
     "data": {
      "text/plain": [
       "(1497,)"
      ]
     },
     "execution_count": 4,
     "metadata": {},
     "output_type": "execute_result"
    }
   ],
   "source": [
    "np.shape(input_current)"
   ]
  },
  {
   "cell_type": "code",
   "execution_count": 5,
   "metadata": {},
   "outputs": [],
   "source": [
    "params_correct = {'gl': float(5e-5*siemens*cm**-2 * area),\n",
    "                  'g_na': float(100*msiemens*cm**-2 * area),\n",
    "                  'g_kd': float(30*msiemens*cm**-2 * area)}\n",
    "\n",
    "defaultclock.dt = dt"
   ]
  },
  {
   "cell_type": "code",
   "execution_count": 6,
   "metadata": {},
   "outputs": [],
   "source": [
    "# The model\n",
    "eqsHH = Equations('''\n",
    "dv/dt = (gl*(El-v) - g_na*(m*m*m)*h*(v-ENa) - g_kd*(n*n*n*n)*(v-EK) + I(t))/Cm : volt\n",
    "dm/dt = 0.32*(mV**-1)*(13.*mV-v+VT)/\n",
    "    (exp((13.*mV-v+VT)/(4.*mV))-1.)/ms*(1-m)-0.28*(mV**-1)*(v-VT-40.*mV)/\n",
    "    (exp((v-VT-40.*mV)/(5.*mV))-1.)/ms*m : 1\n",
    "dn/dt = 0.032*(mV**-1)*(15.*mV-v+VT)/\n",
    "    (exp((15.*mV-v+VT)/(5.*mV))-1.)/ms*(1.-n)-.5*exp((10.*mV-v+VT)/(40.*mV))/ms*n : 1\n",
    "dh/dt = 0.128*exp((17.*mV-v+VT)/(18.*mV))/ms*(1.-h)-4./(1+exp((40.*mV-v+VT)/(5.*mV)))/ms*h : 1\n",
    "g_na : siemens (constant)\n",
    "g_kd : siemens (constant)\n",
    "gl   : siemens (constant)\n",
    "''')"
   ]
  },
  {
   "cell_type": "code",
   "execution_count": 7,
   "metadata": {},
   "outputs": [],
   "source": [
    "I = TimedArray(input_current, dt=dt)\n",
    "\n",
    "G = NeuronGroup(1, eqsHH, method='exponential_euler')\n",
    "G.v = El\n",
    "G.set_states(params_correct, units=False)\n",
    "mon = StateMonitor(G, 'v', record=0)\n",
    "run(20*ms)\n",
    "\n",
    "voltage = mon.v[0]/mV\n",
    "voltage += np.random.randn(len(voltage))\n",
    "\n",
    "\n",
    "inp_trace = np.array([input_current])\n",
    "n0, n1 = inp_trace.shape\n",
    "\n",
    "out_trace = np.array([voltage[:n1]])"
   ]
  },
  {
   "cell_type": "code",
   "execution_count": 8,
   "metadata": {},
   "outputs": [
    {
     "data": {
      "text/plain": [
       "array([[-65.        , -65.        , -65.        , ..., -74.45678717,\n",
       "        -74.45205975, -74.44733469]])"
      ]
     },
     "execution_count": 8,
     "metadata": {},
     "output_type": "execute_result"
    }
   ],
   "source": [
    "mon.v/mV"
   ]
  },
  {
   "cell_type": "code",
   "execution_count": 9,
   "metadata": {},
   "outputs": [
    {
     "data": {
      "text/plain": [
       "(1497,)"
      ]
     },
     "execution_count": 9,
     "metadata": {},
     "output_type": "execute_result"
    }
   ],
   "source": [
    "np.shape(out_trace[0])"
   ]
  },
  {
   "cell_type": "code",
   "execution_count": 10,
   "metadata": {},
   "outputs": [
    {
     "data": {
      "image/png": "[encoded data removed]",
      "text/plain": [
       "<Figure size 432x288 with 1 Axes>"
      ]
     },
     "metadata": {
      "needs_background": "light"
     },
     "output_type": "display_data"
    }
   ],
   "source": [
    "plot(out_trace[0]);\n",
    "plot(inp_trace[0]);"
   ]
  },
  {
   "cell_type": "code",
   "execution_count": 11,
   "metadata": {},
   "outputs": [
    {
     "data": {
      "text/plain": [
       "array([[-64.12507978, -65.2854209 , -62.92801224, ..., -77.93710147,\n",
       "        -75.83074761, -76.32144711]])"
      ]
     },
     "execution_count": 11,
     "metadata": {},
     "output_type": "execute_result"
    }
   ],
   "source": [
    "out_trace"
   ]
  },
  {
   "cell_type": "code",
   "execution_count": 12,
   "metadata": {},
   "outputs": [
    {
     "data": {
      "text/plain": [
       "array([[0., 0., 0., ..., 0., 0., 0.]])"
      ]
     },
     "execution_count": 12,
     "metadata": {},
     "output_type": "execute_result"
    }
   ],
   "source": [
    "inp_trace"
   ]
  },
  {
   "cell_type": "code",
   "execution_count": 13,
   "metadata": {},
   "outputs": [],
   "source": [
    "# Model for modelfitting\n",
    "eqs = Equations(\n",
    "'''\n",
    "dv/dt = (gl*(El-v) - g_na*(m*m*m)*h*(v-ENa) - g_kd*(n*n*n*n)*(v-EK) + I)/Cm : volt\n",
    "dm/dt = 0.32*(mV**-1)*(13.*mV-v+VT)/\n",
    "    (exp((13.*mV-v+VT)/(4.*mV))-1.)/ms*(1-m)-0.28*(mV**-1)*(v-VT-40.*mV)/\n",
    "    (exp((v-VT-40.*mV)/(5.*mV))-1.)/ms*m : 1\n",
    "dn/dt = 0.032*(mV**-1)*(15.*mV-v+VT)/\n",
    "    (exp((15.*mV-v+VT)/(5.*mV))-1.)/ms*(1.-n)-.5*exp((10.*mV-v+VT)/(40.*mV))/ms*n : 1\n",
    "dh/dt = 0.128*exp((17.*mV-v+VT)/(18.*mV))/ms*(1.-h)-4./(1+exp((40.*mV-v+VT)/(5.*mV)))/ms*h : 1\n",
    "g_na : siemens (constant)\n",
    "g_kd : siemens (constant)\n",
    "gl   : siemens (constant)\n",
    "''',\n",
    "Cm=1*ufarad*cm**-2 * area, El=-65*mV, EK=-90*mV, ENa=50*mV, VT=-63*mV)"
   ]
  },
  {
   "cell_type": "code",
   "execution_count": 14,
   "metadata": {},
   "outputs": [],
   "source": [
    "n_opt = NevergradOptimizer()"
   ]
  },
  {
   "cell_type": "code",
   "execution_count": 15,
   "metadata": {},
   "outputs": [
    {
     "name": "stderr",
     "output_type": "stream",
     "text": [
      "INFO       No numerical integration method specified for group 'neurongroup_1', using method 'exponential_euler' (took 0.24s, trying other methods took 0.14s). [brian2.stateupdaters.base.method_choice]\n"
     ]
    }
   ],
   "source": [
    "# pass parameters to the NeuronGroup\n",
    "res, error, output_traces, errors = fit_traces_standalone(model=eqs, input_var='I', output_var='v',\n",
    "                                   input=inp_trace * amp, output=out_trace*mV, dt=dt,\n",
    "                                   gl=[1e-8*siemens*cm**-2 * area, 1e-4*siemens*cm**-2 * area],\n",
    "                                   g_na=[1*msiemens*cm**-2 * area, 200*msiemens*cm**-2 * area],\n",
    "                                   g_kd=[1*msiemens*cm**-2 * area, 100*msiemens*cm**-2 * area],\n",
    "                                   n_rounds=2, n_samples=30, optimizer=n_opt,)"
   ]
  },
  {
   "cell_type": "code",
   "execution_count": 16,
   "metadata": {},
   "outputs": [
    {
     "data": {
      "text/plain": [
       "(30, 1497)"
      ]
     },
     "execution_count": 16,
     "metadata": {},
     "output_type": "execute_result"
    }
   ],
   "source": [
    "np.shape(output_traces[0])"
   ]
  },
  {
   "cell_type": "code",
   "execution_count": 17,
   "metadata": {},
   "outputs": [],
   "source": [
    "xx = output_traces[0]"
   ]
  },
  {
   "cell_type": "code",
   "execution_count": 18,
   "metadata": {},
   "outputs": [
    {
     "data": {
      "text/plain": [
       "array([[ 0.00000000e+00, -4.99802821e-05, -9.99010034e-05, ...,\n",
       "        -7.87499658e-02, -7.87393930e-02, -7.87288284e-02],\n",
       "       [ 0.00000000e+00, -3.47342135e-05, -6.94487206e-05, ...,\n",
       "        -8.33646621e-02, -8.33548485e-02, -8.33450402e-02],\n",
       "       [ 0.00000000e+00, -4.66348453e-05, -9.32303842e-05, ...,\n",
       "        -7.66166413e-02, -7.66083069e-02, -7.65999784e-02],\n",
       "       ...,\n",
       "       [ 0.00000000e+00, -3.71020174e-05, -7.41685809e-05, ...,\n",
       "        -8.35862666e-02, -8.35756575e-02, -8.35650546e-02],\n",
       "       [ 0.00000000e+00, -2.58712881e-05, -5.17285124e-05, ...,\n",
       "        -8.02897843e-02, -8.02836987e-02, -8.02776155e-02],\n",
       "       [ 0.00000000e+00, -3.39209503e-05, -6.78044397e-05, ...,\n",
       "        -8.13523358e-02, -8.13438022e-02, -8.13352730e-02]])"
      ]
     },
     "execution_count": 18,
     "metadata": {},
     "output_type": "execute_result"
    }
   ],
   "source": [
    "xx"
   ]
  },
  {
   "cell_type": "code",
   "execution_count": 19,
   "metadata": {},
   "outputs": [
    {
     "data": {
      "text/plain": [
       "[<matplotlib.lines.Line2D at 0x7f1aabe9a2e8>]"
      ]
     },
     "execution_count": 19,
     "metadata": {},
     "output_type": "execute_result"
    },
    {
     "data": {
      "image/png": "[encoded data removed]",
      "text/plain": [
       "<Figure size 432x288 with 1 Axes>"
      ]
     },
     "metadata": {
      "needs_background": "light"
     },
     "output_type": "display_data"
    }
   ],
   "source": [
    "plt.plot(xx[0])"
   ]
  },
  {
   "cell_type": "markdown",
   "metadata": {},
   "source": [
    "## Calculate RMS"
   ]
  },
  {
   "cell_type": "code",
   "execution_count": 20,
   "metadata": {},
   "outputs": [
    {
     "data": {
      "text/plain": [
       "(30, 1497)"
      ]
     },
     "execution_count": 20,
     "metadata": {},
     "output_type": "execute_result"
    }
   ],
   "source": [
    "xx.shape"
   ]
  },
  {
   "cell_type": "code",
   "execution_count": 21,
   "metadata": {},
   "outputs": [
    {
     "data": {
      "text/plain": [
       "array([-64.12507978, -65.2854209 , -62.92801224, ..., -77.93710147,\n",
       "       -75.83074761, -76.32144711])"
      ]
     },
     "execution_count": 21,
     "metadata": {},
     "output_type": "execute_result"
    }
   ],
   "source": [
    "y = out_trace[0]\n",
    "y"
   ]
  },
  {
   "cell_type": "code",
   "execution_count": 22,
   "metadata": {},
   "outputs": [
    {
     "data": {
      "text/plain": [
       "(1497,)"
      ]
     },
     "execution_count": 22,
     "metadata": {},
     "output_type": "execute_result"
    }
   ],
   "source": [
    "y.shape"
   ]
  },
  {
   "cell_type": "code",
   "execution_count": 74,
   "metadata": {},
   "outputs": [],
   "source": [
    "from sklearn.metrics import mean_squared_error\n",
    "\n",
    "rms_list, mse_list = [], []\n",
    "for row in xx:\n",
    "#     print(np.array(row))\n",
    "    mse = mean_squared_error(y.transpose(), row.transpose())\n",
    "    mse2 = (np.square(y - row))\n",
    "#     rms = np.sqrt(mse)\n",
    "    rms = mse\n",
    "    rms_list.append(rms)\n",
    "    mse_list.append(mse2)\n",
    "    \n",
    "    \n",
    "#     print(mse, rms)\n",
    "    "
   ]
  },
  {
   "cell_type": "code",
   "execution_count": 75,
   "metadata": {},
   "outputs": [
    {
     "data": {
      "text/plain": [
       "array([[0.        , 0.00410562, 0.00835477, ..., 1.51611421, 1.51611486,\n",
       "        1.51612326],\n",
       "       [0.        , 0.00410757, 0.0083607 , ..., 1.22780734, 1.22783669,\n",
       "        1.22789315],\n",
       "       [0.        , 0.00410605, 0.00835607, ..., 1.4035203 , 1.40352207,\n",
       "        1.40352266],\n",
       "       ...,\n",
       "       [0.        , 0.00410727, 0.00835978, ..., 1.40921812, 1.40924991,\n",
       "        1.40930973],\n",
       "       [0.        , 0.00410871, 0.00836414, ..., 1.32800912, 1.32801463,\n",
       "        1.3280344 ],\n",
       "       [0.        , 0.00410768, 0.00836101, ..., 1.55980614, 1.55981774,\n",
       "        1.55984804]])"
      ]
     },
     "execution_count": 75,
     "metadata": {},
     "output_type": "execute_result"
    }
   ],
   "source": [
    "errors[0]"
   ]
  },
  {
   "cell_type": "code",
   "execution_count": 76,
   "metadata": {},
   "outputs": [
    {
     "data": {
      "text/plain": [
       "(30, 1497)"
      ]
     },
     "execution_count": 76,
     "metadata": {},
     "output_type": "execute_result"
    }
   ],
   "source": [
    "np.shape(errors[0])"
   ]
  },
  {
   "cell_type": "code",
   "execution_count": 77,
   "metadata": {},
   "outputs": [
    {
     "data": {
      "text/plain": [
       "array([[0.        , 0.00410562, 0.00835477, ..., 1.51611421, 1.51611486,\n",
       "        1.51612326],\n",
       "       [0.        , 0.00410757, 0.0083607 , ..., 1.22780734, 1.22783669,\n",
       "        1.22789315],\n",
       "       [0.        , 0.00410605, 0.00835607, ..., 1.4035203 , 1.40352207,\n",
       "        1.40352266],\n",
       "       ...,\n",
       "       [0.        , 0.00410727, 0.00835978, ..., 1.40921812, 1.40924991,\n",
       "        1.40930973],\n",
       "       [0.        , 0.00410871, 0.00836414, ..., 1.32800912, 1.32801463,\n",
       "        1.3280344 ],\n",
       "       [0.        , 0.00410768, 0.00836101, ..., 1.55980614, 1.55981774,\n",
       "        1.55984804]])"
      ]
     },
     "execution_count": 77,
     "metadata": {},
     "output_type": "execute_result"
    }
   ],
   "source": [
    "err = (errors[0])\n",
    "err"
   ]
  },
  {
   "cell_type": "code",
   "execution_count": 85,
   "metadata": {},
   "outputs": [
    {
     "data": {
      "text/plain": [
       "array([4112.0258562 , 4262.17965643, 3959.92215197, ..., 6061.92289948,\n",
       "       5738.36674894, 5812.95209094])"
      ]
     },
     "execution_count": 85,
     "metadata": {},
     "output_type": "execute_result"
    }
   ],
   "source": [
    "mse_list[0]"
   ]
  },
  {
   "cell_type": "code",
   "execution_count": 93,
   "metadata": {},
   "outputs": [
    {
     "data": {
      "image/png": "[encoded data removed]",
      "text/plain": [
       "<Figure size 432x288 with 1 Axes>"
      ]
     },
     "metadata": {
      "needs_background": "light"
     },
     "output_type": "display_data"
    }
   ],
   "source": [
    "plot(output_traces[0][0]*10)\n",
    "plot(y/100)\n",
    "# plot(err[0])\n",
    "plot(mse_list[0]/1000);\n",
    "plot(np.sqrt(mse_list[0])/10);\n"
   ]
  },
  {
   "cell_type": "code",
   "execution_count": 47,
   "metadata": {},
   "outputs": [
    {
     "data": {
      "text/plain": [
       "array([0.78227   , 0.59073461, 0.72178018, 0.74162514, 0.61634088,\n",
       "       0.72983903, 0.66397722, 0.68065534, 0.78322317, 0.58868678,\n",
       "       0.69597993, 0.71024466, 0.67315664, 0.75601839, 0.65611371,\n",
       "       0.66681407, 0.70514597, 0.72542535, 0.69275433, 0.73241021,\n",
       "       0.65735354, 0.66736607, 0.81669255, 0.70354075, 0.7368342 ,\n",
       "       0.73309493, 0.68774546, 0.68069688, 0.66454232, 0.78695993])"
      ]
     },
     "execution_count": 47,
     "metadata": {},
     "output_type": "execute_result"
    }
   ],
   "source": [
    "err_mean = mean(err, axis=1)\n",
    "(err_mean)"
   ]
  },
  {
   "cell_type": "code",
   "execution_count": 51,
   "metadata": {},
   "outputs": [
    {
     "data": {
      "text/plain": [
       "array([3.16964522, 3.16927102, 3.16982382, 3.16929221, 3.16929008,\n",
       "       3.16936933, 3.16923974, 3.16931925, 3.16965238, 3.16933461,\n",
       "       3.16941463, 3.16914754, 3.16916007, 3.16941293, 3.16957578,\n",
       "       3.1692037 , 3.1695333 , 3.16931471, 3.16914166, 3.16923938,\n",
       "       3.16920557, 3.16927753, 3.16952504, 3.16942178, 3.16926418,\n",
       "       3.16933678, 3.1691872 , 3.16924268, 3.16962258, 3.16956078])"
      ]
     },
     "execution_count": 51,
     "metadata": {},
     "output_type": "execute_result"
    }
   ],
   "source": [
    "np.array(rms_list)/1497"
   ]
  },
  {
   "cell_type": "code",
   "execution_count": null,
   "metadata": {},
   "outputs": [],
   "source": []
  },
  {
   "cell_type": "code",
   "execution_count": null,
   "metadata": {},
   "outputs": [],
   "source": []
  }
 ],
 "metadata": {
  "kernelspec": {
   "display_name": "brian_opt",
   "language": "python",
   "name": "brian_opt"
  },
  "language_info": {
   "codemirror_mode": {
    "name": "ipython",
    "version": 3
   },
   "file_extension": ".py",
   "mimetype": "text/x-python",
   "name": "python",
   "nbconvert_exporter": "python",
   "pygments_lexer": "ipython3",
   "version": "3.7.3"
  }
 },
 "nbformat": 4,
 "nbformat_minor": 2
}
