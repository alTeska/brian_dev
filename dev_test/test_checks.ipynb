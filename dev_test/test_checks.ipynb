{
 "cells": [
  {
   "cell_type": "code",
   "execution_count": 75,
   "metadata": {},
   "outputs": [],
   "source": [
    "import numpy as np\n",
    "from brian2tools.modelfitting import Optimizer, NevergradOptimizer, SkoptOptimizer"
   ]
  },
  {
   "cell_type": "markdown",
   "metadata": {},
   "source": [
    "## Ask"
   ]
  },
  {
   "cell_type": "code",
   "execution_count": 106,
   "metadata": {},
   "outputs": [],
   "source": [
    "n_opt = NevergradOptimizer()"
   ]
  },
  {
   "cell_type": "code",
   "execution_count": 107,
   "metadata": {},
   "outputs": [],
   "source": [
    "n_opt.initialize({'a', 'b'}, a=[0,1], b=[2,3])"
   ]
  },
  {
   "cell_type": "code",
   "execution_count": 108,
   "metadata": {},
   "outputs": [
    {
     "data": {
      "text/plain": [
       "[[0.3333144491541991, 2.6401495414250227],\n",
       " [0.2625006724569515, 2.7750853964993762]]"
      ]
     },
     "execution_count": 108,
     "metadata": {},
     "output_type": "execute_result"
    }
   ],
   "source": [
    "n_opt.ask(2)"
   ]
  },
  {
   "cell_type": "code",
   "execution_count": 109,
   "metadata": {},
   "outputs": [
    {
     "data": {
      "text/plain": [
       "[[0.7268061524078357, 2.5962489319723736],\n",
       " [0.32489604889628515, 2.3150938914746506]]"
      ]
     },
     "execution_count": 109,
     "metadata": {},
     "output_type": "execute_result"
    }
   ],
   "source": [
    "n_opt.ask(2)"
   ]
  },
  {
   "cell_type": "code",
   "execution_count": 110,
   "metadata": {},
   "outputs": [],
   "source": [
    "n_opt2 = NevergradOptimizer()\n",
    "n_opt2.initialize({'a', 'b', 'c'}, a=[0,1], b=[2,3], c=[4,5])"
   ]
  },
  {
   "cell_type": "code",
   "execution_count": 110,
   "metadata": {},
   "outputs": [],
   "source": [
    "n_samples = np.random.randint(1, 5)\n",
    "params = n_opt2.ask(n_samples)\n",
    "errors = np.random.rand(n_samples)"
   ]
  },
  {
   "cell_type": "code",
   "execution_count": 111,
   "metadata": {},
   "outputs": [],
   "source": [
    "n_opt2.tell(params, errors)"
   ]
  },
  {
   "cell_type": "code",
   "execution_count": 113,
   "metadata": {},
   "outputs": [
    {
     "data": {
      "text/plain": [
       "2"
      ]
     },
     "execution_count": 113,
     "metadata": {},
     "output_type": "execute_result"
    }
   ],
   "source": [
    "n_opt2.optim.num_tell"
   ]
  },
  {
   "cell_type": "code",
   "execution_count": 114,
   "metadata": {},
   "outputs": [
    {
     "data": {
      "text/plain": [
       "False"
      ]
     },
     "execution_count": 114,
     "metadata": {},
     "output_type": "execute_result"
    }
   ],
   "source": [
    "n_opt2.optim."
   ]
  },
  {
   "cell_type": "markdown",
   "metadata": {},
   "source": [
    "## Tell"
   ]
  },
  {
   "cell_type": "code",
   "execution_count": 101,
   "metadata": {},
   "outputs": [
    {
     "data": {
      "text/plain": [
       "[[0.22909125837906735, 0.0826539147730856, 0.9747353555589455],\n",
       " [0.5491338892249936, 1.9963256291712044, 0.03740361808469507],\n",
       " [0.8162437255018566, 1.5721714041062158, 0.15687717065277246]]"
      ]
     },
     "execution_count": 101,
     "metadata": {},
     "output_type": "execute_result"
    }
   ],
   "source": [
    "s_opt = SkoptOptimizer()\n",
    "s_opt.initialize(['a', 'b', 'c'], a=[0, 1], b=[0, 2], c=[0, 3])\n",
    "\n",
    "params = s_opt.ask(3)\n",
    "params"
   ]
  },
  {
   "cell_type": "code",
   "execution_count": 102,
   "metadata": {},
   "outputs": [],
   "source": [
    "errors = np.random.rand(3)\n",
    "s_opt.tell(params, errors)"
   ]
  },
  {
   "cell_type": "code",
   "execution_count": 103,
   "metadata": {},
   "outputs": [
    {
     "data": {
      "text/plain": [
       "[[0.22909125837906735, 0.0826539147730856, 0.9747353555589455],\n",
       " [0.5491338892249936, 1.9963256291712044, 0.03740361808469507],\n",
       " [0.8162437255018566, 1.5721714041062158, 0.15687717065277246]]"
      ]
     },
     "execution_count": 103,
     "metadata": {},
     "output_type": "execute_result"
    }
   ],
   "source": [
    "s_opt.optim.Xi"
   ]
  },
  {
   "cell_type": "code",
   "execution_count": 104,
   "metadata": {},
   "outputs": [
    {
     "data": {
      "text/plain": [
       "[0.6308827319746239, 0.9029746787105961, 0.7417586139240466]"
      ]
     },
     "execution_count": 104,
     "metadata": {},
     "output_type": "execute_result"
    }
   ],
   "source": [
    "s_opt.optim.yi"
   ]
  },
  {
   "cell_type": "code",
   "execution_count": 105,
   "metadata": {},
   "outputs": [
    {
     "data": {
      "text/plain": [
       "array([0.63088273, 0.90297468, 0.74175861])"
      ]
     },
     "execution_count": 105,
     "metadata": {},
     "output_type": "execute_result"
    }
   ],
   "source": [
    "errors"
   ]
  },
  {
   "cell_type": "code",
   "execution_count": 84,
   "metadata": {},
   "outputs": [
    {
     "data": {
      "text/plain": [
       "2"
      ]
     },
     "execution_count": 84,
     "metadata": {},
     "output_type": "execute_result"
    }
   ],
   "source": [
    "n_samples"
   ]
  },
  {
   "cell_type": "markdown",
   "metadata": {},
   "source": [
    "### Create Candidates to test Tell"
   ]
  },
  {
   "cell_type": "code",
   "execution_count": 128,
   "metadata": {},
   "outputs": [],
   "source": [
    "from nevergrad import instrumentation as inst\n",
    "from nevergrad.optimization.base import CandidateMaker"
   ]
  },
  {
   "cell_type": "code",
   "execution_count": 134,
   "metadata": {},
   "outputs": [],
   "source": [
    "n_opt2 = NevergradOptimizer()\n",
    "n_opt2.initialize(['a', 'b', 'c'], a=[0, 1], b=[0, 2], c=[0, 3])"
   ]
  },
  {
   "cell_type": "code",
   "execution_count": 135,
   "metadata": {},
   "outputs": [],
   "source": [
    "arg1 = inst.var.Array(1).bounded(0, 1).asscalar()\n",
    "arg2 = inst.var.Array(1).bounded(0, 2).asscalar()\n",
    "arg3 = inst.var.Array(1).bounded(0, 3).asscalar()\n",
    "instrum = inst.Instrumentation(arg1, arg2, arg3)\n",
    "\n",
    "CM  = CandidateMaker(instrum)"
   ]
  },
  {
   "cell_type": "code",
   "execution_count": 155,
   "metadata": {},
   "outputs": [],
   "source": [
    "data = np.random.rand(5,3)\n",
    "\n",
    "param, candidates = [], []\n",
    "for row in data:\n",
    "    print(row)\n",
    "    cand = CM.from_data(row)\n",
    "    candidates.append(cand)\n",
    "    param.append(list(cand.args))"
   ]
  },
  {
   "cell_type": "code",
   "execution_count": 156,
   "metadata": {},
   "outputs": [
    {
     "data": {
      "text/plain": [
       "[Candidate(args=(0.5898832819365851, 1.0519555498150166, 1.5866686183145686), kwargs={}, data=[0.29012927 0.08179326 0.09100919]),\n",
       " Candidate(args=(0.7484423754290133, 1.1705981742455847, 2.06737275067826), kwargs={}, data=[0.99026074 0.27457923 0.67558487]),\n",
       " Candidate(args=(0.6546488621769898, 1.2848512602406472, 1.6094287953635131), kwargs={}, data=[0.52806118 0.47990568 0.11509782]),\n",
       " Candidate(args=(0.710230384155197, 1.3837431068190849, 1.8070095536258926), kwargs={}, data=[0.77683941 0.68822909 0.33305458]),\n",
       " Candidate(args=(0.6743972346509352, 1.0269109025744312, 1.7105790187070757), kwargs={}, data=[0.61019905 0.04229674 0.22416321])]"
      ]
     },
     "execution_count": 156,
     "metadata": {},
     "output_type": "execute_result"
    }
   ],
   "source": [
    "candidates"
   ]
  },
  {
   "cell_type": "code",
   "execution_count": 157,
   "metadata": {},
   "outputs": [
    {
     "data": {
      "text/plain": [
       "[[0.5898832819365851, 1.0519555498150166, 1.5866686183145686],\n",
       " [0.7484423754290133, 1.1705981742455847, 2.06737275067826],\n",
       " [0.6546488621769898, 1.2848512602406472, 1.6094287953635131],\n",
       " [0.710230384155197, 1.3837431068190849, 1.8070095536258926],\n",
       " [0.6743972346509352, 1.0269109025744312, 1.7105790187070757]]"
      ]
     },
     "execution_count": 157,
     "metadata": {},
     "output_type": "execute_result"
    }
   ],
   "source": [
    "param"
   ]
  },
  {
   "cell_type": "code",
   "execution_count": null,
   "metadata": {},
   "outputs": [],
   "source": []
  }
 ],
 "metadata": {
  "kernelspec": {
   "display_name": "brian_opt",
   "language": "python",
   "name": "brian_opt"
  },
  "language_info": {
   "codemirror_mode": {
    "name": "ipython",
    "version": 3
   },
   "file_extension": ".py",
   "mimetype": "text/x-python",
   "name": "python",
   "nbconvert_exporter": "python",
   "pygments_lexer": "ipython3",
   "version": "3.7.3"
  }
 },
 "nbformat": 4,
 "nbformat_minor": 2
}
