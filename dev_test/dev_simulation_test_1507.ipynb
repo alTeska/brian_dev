{
 "cells": [
  {
   "cell_type": "markdown",
   "metadata": {},
   "source": [
    "# Dev Tests of Simulation"
   ]
  },
  {
   "cell_type": "code",
   "execution_count": 1,
   "metadata": {},
   "outputs": [
    {
     "name": "stderr",
     "output_type": "stream",
     "text": [
      "WARNING    /home/alteska/anaconda3/envs/brian_opt/lib/python3.7/site-packages/sklearn/externals/joblib/__init__.py:15: DeprecationWarning: sklearn.externals.joblib is deprecated in 0.21 and will be removed in 0.23. Please import this functionality directly from joblib, which can be installed with: pip install joblib. If this warning is raised when loading pickled models, you may need to re-serialize those models with scikit-learn 0.21+.\n",
      "  warnings.warn(msg, category=DeprecationWarning)\n",
      " [py.warnings]\n"
     ]
    }
   ],
   "source": [
    "import numpy as np\n",
    "from brian2 import *\n",
    "from brian2tools import *"
   ]
  },
  {
   "cell_type": "code",
   "execution_count": 2,
   "metadata": {},
   "outputs": [],
   "source": [
    "s = Simulation()\n",
    "rts = RuntimeSimulation()\n",
    "sas = CPPStandaloneSimulation()"
   ]
  },
  {
   "cell_type": "markdown",
   "metadata": {},
   "source": [
    "## Set up network"
   ]
  },
  {
   "cell_type": "code",
   "execution_count": 3,
   "metadata": {},
   "outputs": [],
   "source": [
    "model = Equations('''\n",
    "    I = g*(v-E) : amp\n",
    "    v = 10*mvolt :volt\n",
    "    g : siemens (constant)\n",
    "    E : volt (constant)\n",
    "    ''')\n",
    "\n",
    "dt = 0.1 *ms\n",
    "defaultclock.dt = dt\n",
    "\n",
    "neurons = NeuronGroup(1, model, name='neurons')\n",
    "monitor = StateMonitor(neurons, 'I', record=True, name='monitor')\n",
    "\n",
    "net = Network(neurons, monitor)\n",
    "rts.initialize(net)\n",
    "\n",
    "rts.run(10*ms, {'g': 100, 'E':10}, ['g', 'E'])"
   ]
  },
  {
   "cell_type": "code",
   "execution_count": 4,
   "metadata": {},
   "outputs": [
    {
     "data": {
      "text/plain": [
       "True"
      ]
     },
     "execution_count": 4,
     "metadata": {},
     "output_type": "execute_result"
    }
   ],
   "source": [
    "isinstance(rts.network, Network)"
   ]
  },
  {
   "cell_type": "code",
   "execution_count": 5,
   "metadata": {},
   "outputs": [],
   "source": [
    "I = getattr(rts.network['monitor'], 'I')"
   ]
  },
  {
   "cell_type": "code",
   "execution_count": 6,
   "metadata": {},
   "outputs": [
    {
     "data": {
      "text/plain": [
       "(1, 100)"
      ]
     },
     "execution_count": 6,
     "metadata": {},
     "output_type": "execute_result"
    }
   ],
   "source": [
    "I.shape"
   ]
  },
  {
   "cell_type": "code",
   "execution_count": 7,
   "metadata": {},
   "outputs": [
    {
     "data": {
      "text/plain": [
       "100.0"
      ]
     },
     "execution_count": 7,
     "metadata": {},
     "output_type": "execute_result"
    }
   ],
   "source": [
    "10 / 0.1"
   ]
  },
  {
   "cell_type": "code",
   "execution_count": 8,
   "metadata": {},
   "outputs": [
    {
     "data": {
      "image/png": "[encoded data removed]",
      "text/plain": [
       "<Figure size 432x288 with 1 Axes>"
      ]
     },
     "metadata": {
      "needs_background": "light"
     },
     "output_type": "display_data"
    }
   ],
   "source": [
    "plot(I.transpose());"
   ]
  },
  {
   "cell_type": "code",
   "execution_count": 10,
   "metadata": {},
   "outputs": [],
   "source": [
    "dt = 0.1 * ms\n",
    "duration = 10 * ms\n",
    "defaultclock.dt = dt"
   ]
  },
  {
   "cell_type": "code",
   "execution_count": 12,
   "metadata": {},
   "outputs": [
    {
     "name": "stderr",
     "output_type": "stream",
     "text": [
      "WARNING    Active device does not have an attribute 'static_array', ignoring this [brian2.devices.device]\n",
      "WARNING    Active device does not have an attribute 'main_queue', ignoring this [brian2.devices.device]\n",
      "WARNING    Active device does not have an attribute 'static_array', ignoring this [brian2.devices.device]\n",
      "WARNING    Active device does not have an attribute 'main_queue', ignoring this [brian2.devices.device]\n"
     ]
    },
    {
     "name": "stdout",
     "output_type": "stream",
     "text": [
      "{'g': <brian2.devices.device.Dummy object at 0x7fad18e31278>, 'E': <brian2.devices.device.Dummy object at 0x7fad18e88c88>}\n"
     ]
    }
   ],
   "source": [
    "start_scope()\n",
    "\n",
    "neurons = NeuronGroup(1, model, name='neurons')\n",
    "monitor = StateMonitor(neurons, 'I', record=True, name='monitor')\n",
    "net = Network(neurons, monitor)\n",
    "\n",
    "device.has_been_run = False\n",
    "sas = CPPStandaloneSimulation()\n",
    "sas.initialize(net)\n",
    "\n",
    "sas.run(duration, {'g': 100, 'E': 10}, ['g', 'E'])\n",
    "I = getattr(sas.network['monitor'], 'I')\n"
   ]
  },
  {
   "cell_type": "code",
   "execution_count": 13,
   "metadata": {},
   "outputs": [
    {
     "data": {
      "text/plain": [
       "True"
      ]
     },
     "execution_count": 13,
     "metadata": {},
     "output_type": "execute_result"
    }
   ],
   "source": [
    "isinstance({'g':100}, dict)"
   ]
  },
  {
   "cell_type": "code",
   "execution_count": 14,
   "metadata": {},
   "outputs": [],
   "source": [
    "from brian2tools.modelfitting.simulation import (initialize_neurons, initialize_parameter,\n",
    "                                                 run_again, set_parameter_value, set_states)\n"
   ]
  },
  {
   "cell_type": "code",
   "execution_count": 15,
   "metadata": {},
   "outputs": [
    {
     "name": "stderr",
     "output_type": "stream",
     "text": [
      "WARNING    Active device does not have an attribute 'static_array', ignoring this [brian2.devices.device]\n",
      "WARNING    Active device does not have an attribute 'main_queue', ignoring this [brian2.devices.device]\n"
     ]
    },
    {
     "data": {
      "text/plain": [
       "<brian2.devices.device.Dummy at 0x7fad18fded68>"
      ]
     },
     "execution_count": 15,
     "metadata": {},
     "output_type": "execute_result"
    }
   ],
   "source": [
    "initialize_parameter(neurons.__getattr__('g'), 100)"
   ]
  },
  {
   "cell_type": "code",
   "execution_count": 18,
   "metadata": {},
   "outputs": [
    {
     "data": {
      "text/html": [
       "NeuronGroup \"neurons\" with 1 neurons.<br>\n",
       "<b>Model:</b><nr>\n",
       "\\begin{align*}v &= 10.0 mvolt && \\text{(unit of $v$: $\\mathrm{V}$)}\\\\\n",
       "I &= g \\left(- E + v\\right) && \\text{(unit of $I$: $\\mathrm{A}$)}\\\\\n",
       "g &&& \\text{(unit: $\\mathrm{S}$, flags: constant)}\\\\\n",
       "E &&& \\text{(unit: $\\mathrm{V}$, flags: constant)}\\end{align*}"
      ],
      "text/plain": [
       "NeuronGroup(clock=Clock(dt=100. * usecond, name='defaultclock'), when=start, order=0, name='neurons')"
      ]
     },
     "execution_count": 18,
     "metadata": {},
     "output_type": "execute_result"
    }
   ],
   "source": [
    "net['neurons']"
   ]
  },
  {
   "cell_type": "code",
   "execution_count": 22,
   "metadata": {},
   "outputs": [
    {
     "ename": "KeyError",
     "evalue": "'No object with name \"neurons\" found'",
     "output_type": "error",
     "traceback": [
      "\u001b[0;31m---------------------------------------------------------------------------\u001b[0m",
      "\u001b[0;31mKeyError\u001b[0m                                  Traceback (most recent call last)",
      "\u001b[0;32m<ipython-input-22-fe9ae9721aa7>\u001b[0m in \u001b[0;36m<module>\u001b[0;34m\u001b[0m\n\u001b[1;32m      2\u001b[0m \u001b[0mrts\u001b[0m \u001b[0;34m=\u001b[0m \u001b[0mRuntimeSimulation\u001b[0m\u001b[0;34m(\u001b[0m\u001b[0;34m)\u001b[0m\u001b[0;34m\u001b[0m\u001b[0;34m\u001b[0m\u001b[0m\n\u001b[1;32m      3\u001b[0m \u001b[0mrts\u001b[0m\u001b[0;34m.\u001b[0m\u001b[0minitialize\u001b[0m\u001b[0;34m(\u001b[0m\u001b[0mempty_net\u001b[0m\u001b[0;34m)\u001b[0m\u001b[0;34m\u001b[0m\u001b[0;34m\u001b[0m\u001b[0m\n\u001b[0;32m----> 4\u001b[0;31m \u001b[0mrts\u001b[0m\u001b[0;34m.\u001b[0m\u001b[0mnetwork\u001b[0m\u001b[0;34m[\u001b[0m\u001b[0;34m'neurons'\u001b[0m\u001b[0;34m]\u001b[0m\u001b[0;34m\u001b[0m\u001b[0;34m\u001b[0m\u001b[0m\n\u001b[0m",
      "\u001b[0;32m~/Desktop/brian/brian2/build/lib.linux-x86_64-3.7/brian2/core/network.py\u001b[0m in \u001b[0;36m__getitem__\u001b[0;34m(self, item)\u001b[0m\n\u001b[1;32m    416\u001b[0m                 \u001b[0;32mreturn\u001b[0m \u001b[0mobj\u001b[0m\u001b[0;34m\u001b[0m\u001b[0;34m\u001b[0m\u001b[0m\n\u001b[1;32m    417\u001b[0m \u001b[0;34m\u001b[0m\u001b[0m\n\u001b[0;32m--> 418\u001b[0;31m         \u001b[0;32mraise\u001b[0m \u001b[0mKeyError\u001b[0m\u001b[0;34m(\u001b[0m\u001b[0;34m'No object with name \"%s\" found'\u001b[0m \u001b[0;34m%\u001b[0m \u001b[0mitem\u001b[0m\u001b[0;34m)\u001b[0m\u001b[0;34m\u001b[0m\u001b[0;34m\u001b[0m\u001b[0m\n\u001b[0m\u001b[1;32m    419\u001b[0m \u001b[0;34m\u001b[0m\u001b[0m\n\u001b[1;32m    420\u001b[0m     \u001b[0;32mdef\u001b[0m \u001b[0m__delitem__\u001b[0m\u001b[0;34m(\u001b[0m\u001b[0mself\u001b[0m\u001b[0;34m,\u001b[0m \u001b[0mkey\u001b[0m\u001b[0;34m)\u001b[0m\u001b[0;34m:\u001b[0m\u001b[0;34m\u001b[0m\u001b[0;34m\u001b[0m\u001b[0m\n",
      "\u001b[0;31mKeyError\u001b[0m: 'No object with name \"neurons\" found'"
     ]
    }
   ],
   "source": [
    "empty_net = Network()\n",
    "rts = RuntimeSimulation()\n",
    "rts.initialize(empty_net)\n",
    "rts.network['neurons']"
   ]
  }
 ],
 "metadata": {
  "kernelspec": {
   "display_name": "brian_opt",
   "language": "python",
   "name": "brian_opt"
  },
  "language_info": {
   "codemirror_mode": {
    "name": "ipython",
    "version": 3
   },
   "file_extension": ".py",
   "mimetype": "text/x-python",
   "name": "python",
   "nbconvert_exporter": "python",
   "pygments_lexer": "ipython3",
   "version": "3.7.3"
  }
 },
 "nbformat": 4,
 "nbformat_minor": 2
}
