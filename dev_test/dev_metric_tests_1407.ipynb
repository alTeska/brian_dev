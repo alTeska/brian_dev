{
 "cells": [
  {
   "cell_type": "markdown",
   "metadata": {},
   "source": [
    "# Dev Metric Tests"
   ]
  },
  {
   "cell_type": "code",
   "execution_count": 1,
   "metadata": {},
   "outputs": [
    {
     "name": "stderr",
     "output_type": "stream",
     "text": [
      "WARNING    /home/alteska/anaconda3/envs/brian_opt/lib/python3.7/site-packages/sklearn/externals/joblib/__init__.py:15: DeprecationWarning: sklearn.externals.joblib is deprecated in 0.21 and will be removed in 0.23. Please import this functionality directly from joblib, which can be installed with: pip install joblib. If this warning is raised when loading pickled models, you may need to re-serialize those models with scikit-learn 0.21+.\n",
      "  warnings.warn(msg, category=DeprecationWarning)\n",
      " [py.warnings]\n"
     ]
    }
   ],
   "source": [
    "import numpy as np\n",
    "from brian2tools import *\n",
    "\n",
    "from brian2 import *"
   ]
  },
  {
   "cell_type": "code",
   "execution_count": 2,
   "metadata": {},
   "outputs": [],
   "source": [
    "from numpy.testing import assert_array_less"
   ]
  },
  {
   "cell_type": "markdown",
   "metadata": {},
   "source": [
    "## MSE"
   ]
  },
  {
   "cell_type": "code",
   "execution_count": 3,
   "metadata": {},
   "outputs": [],
   "source": [
    "metric = MSEMetric()"
   ]
  },
  {
   "cell_type": "code",
   "execution_count": 4,
   "metadata": {},
   "outputs": [
    {
     "data": {
      "text/plain": [
       "(2, 20)"
      ]
     },
     "execution_count": 4,
     "metadata": {},
     "output_type": "execute_result"
    }
   ],
   "source": [
    "out_mse = np.random.rand(2,20)\n",
    "np.shape(out_mse)"
   ]
  },
  {
   "cell_type": "code",
   "execution_count": 5,
   "metadata": {},
   "outputs": [
    {
     "data": {
      "text/plain": [
       "(10, 20)"
      ]
     },
     "execution_count": 5,
     "metadata": {},
     "output_type": "execute_result"
    }
   ],
   "source": [
    "inp_mse = np.random.rand(10,20)\n",
    "np.shape(inp_mse)"
   ]
  },
  {
   "cell_type": "code",
   "execution_count": 6,
   "metadata": {},
   "outputs": [
    {
     "data": {
      "text/plain": [
       "\u001b[0;31mSignature:\u001b[0m \u001b[0mmetric\u001b[0m\u001b[0;34m.\u001b[0m\u001b[0mcalc\u001b[0m\u001b[0;34m(\u001b[0m\u001b[0mtraces\u001b[0m\u001b[0;34m,\u001b[0m \u001b[0moutput\u001b[0m\u001b[0;34m,\u001b[0m \u001b[0mn_traces\u001b[0m\u001b[0;34m)\u001b[0m\u001b[0;34m\u001b[0m\u001b[0;34m\u001b[0m\u001b[0m\n",
       "\u001b[0;31mDocstring:\u001b[0m\n",
       "Perform the error calculation across all parameters,\n",
       "calculate error between each output trace and corresponding\n",
       "simulation. You can also access metric.features, metric.errors.\n",
       "\n",
       "Parameters\n",
       "----------\n",
       "traces: 2D array\n",
       "    traces to be evaluated\n",
       "output: array\n",
       "    goal traces\n",
       "n_traces:\n",
       "    number of input traces\n",
       "\n",
       "Returns\n",
       "-------\n",
       "errors: array\n",
       "    weigheted/mean error for each set of parameters\n",
       "\u001b[0;31mFile:\u001b[0m      ~/Desktop/brian/brian2tools/brian2tools/modelfitting/metric.py\n",
       "\u001b[0;31mType:\u001b[0m      method\n"
      ]
     },
     "metadata": {},
     "output_type": "display_data"
    }
   ],
   "source": [
    "metric.calc?"
   ]
  },
  {
   "cell_type": "code",
   "execution_count": 7,
   "metadata": {},
   "outputs": [
    {
     "data": {
      "text/plain": [
       "(10,)"
      ]
     },
     "execution_count": 7,
     "metadata": {},
     "output_type": "execute_result"
    }
   ],
   "source": [
    "metric.get_features(inp_mse, out_mse, 2)\n",
    "np.shape(metric.features)"
   ]
  },
  {
   "cell_type": "code",
   "execution_count": 8,
   "metadata": {},
   "outputs": [
    {
     "data": {
      "text/plain": [
       "(5,)"
      ]
     },
     "execution_count": 8,
     "metadata": {},
     "output_type": "execute_result"
    }
   ],
   "source": [
    "metric.get_errors(metric.features, 2)\n",
    "np.shape(metric.errors)"
   ]
  },
  {
   "cell_type": "code",
   "execution_count": 9,
   "metadata": {},
   "outputs": [
    {
     "data": {
      "text/plain": [
       "(5,)"
      ]
     },
     "execution_count": 9,
     "metadata": {},
     "output_type": "execute_result"
    }
   ],
   "source": [
    "np.shape(metric.calc(inp_mse, out_mse, 2))"
   ]
  },
  {
   "cell_type": "code",
   "execution_count": 10,
   "metadata": {},
   "outputs": [
    {
     "data": {
      "text/plain": [
       "(20, 20)"
      ]
     },
     "execution_count": 10,
     "metadata": {},
     "output_type": "execute_result"
    }
   ],
   "source": [
    "out_from_inp = np.concatenate([inp_mse, inp_mse])\n",
    "np.shape(out_from_inp)"
   ]
  },
  {
   "cell_type": "code",
   "execution_count": 11,
   "metadata": {},
   "outputs": [
    {
     "data": {
      "text/plain": [
       "(5,)"
      ]
     },
     "execution_count": 11,
     "metadata": {},
     "output_type": "execute_result"
    }
   ],
   "source": [
    "feat = np.random.rand(10,1)\n",
    "metric.get_errors(feat, 2)\n",
    "np.shape(metric.errors)"
   ]
  },
  {
   "cell_type": "code",
   "execution_count": 12,
   "metadata": {},
   "outputs": [
    {
     "data": {
      "text/plain": [
       "array([0.])"
      ]
     },
     "execution_count": 12,
     "metadata": {},
     "output_type": "execute_result"
    }
   ],
   "source": [
    "metric.calc(out_mse, out_mse, 2)"
   ]
  },
  {
   "cell_type": "code",
   "execution_count": 13,
   "metadata": {},
   "outputs": [
    {
     "data": {
      "text/plain": [
       "array([3.09542491, 2.92969272, 2.78028551, 2.90101725, 3.04136841])"
      ]
     },
     "execution_count": 13,
     "metadata": {},
     "output_type": "execute_result"
    }
   ],
   "source": [
    "metric.calc(inp_mse, out_mse, 2)"
   ]
  },
  {
   "cell_type": "code",
   "execution_count": 14,
   "metadata": {},
   "outputs": [
    {
     "data": {
      "text/plain": [
       "True"
      ]
     },
     "execution_count": 14,
     "metadata": {},
     "output_type": "execute_result"
    }
   ],
   "source": [
    "np.all((np.greater(metric.calc(inp_mse, out_mse, 2), 0)))"
   ]
  },
  {
   "cell_type": "code",
   "execution_count": 15,
   "metadata": {},
   "outputs": [
    {
     "data": {
      "text/plain": [
       "array([False, False])"
      ]
     },
     "execution_count": 15,
     "metadata": {},
     "output_type": "execute_result"
    }
   ],
   "source": [
    "metric.get_features(out_mse, out_mse, 2)\n",
    "np.array(metric.features) > 0"
   ]
  },
  {
   "cell_type": "markdown",
   "metadata": {},
   "source": [
    "## Gamma Factor"
   ]
  },
  {
   "cell_type": "code",
   "execution_count": 16,
   "metadata": {},
   "outputs": [
    {
     "data": {
      "text/plain": [
       "\u001b[0;31mSignature:\u001b[0m \u001b[0mget_gamma_factor\u001b[0m\u001b[0;34m(\u001b[0m\u001b[0msource\u001b[0m\u001b[0;34m,\u001b[0m \u001b[0mtarget\u001b[0m\u001b[0;34m,\u001b[0m \u001b[0mdelta\u001b[0m\u001b[0;34m,\u001b[0m \u001b[0mdt\u001b[0m\u001b[0;34m)\u001b[0m\u001b[0;34m\u001b[0m\u001b[0;34m\u001b[0m\u001b[0m\n",
       "\u001b[0;31mDocstring:\u001b[0m\n",
       "Calculate gamma factor between source and tagret spike trains,\n",
       "with precision delta.\n",
       "\n",
       "Parameters\n",
       "----------\n",
       "source: list/array\n",
       "    source trace, goal performance\n",
       "target: list/array\n",
       "    target trace\n",
       "delta: float * ms\n",
       "    time window\n",
       "dt: float * ms\n",
       "    time step\n",
       "\n",
       "Returns\n",
       "-------\n",
       "    gamma factor: float\n",
       "\u001b[0;31mFile:\u001b[0m      ~/Desktop/brian/brian2tools/brian2tools/modelfitting/metric.py\n",
       "\u001b[0;31mType:\u001b[0m      function\n"
      ]
     },
     "metadata": {},
     "output_type": "display_data"
    }
   ],
   "source": [
    "get_gamma_factor?"
   ]
  },
  {
   "cell_type": "code",
   "execution_count": 17,
   "metadata": {},
   "outputs": [
    {
     "data": {
      "text/latex": [
       "$\\left[\\begin{matrix}1.0\\\\3.0\\\\5.0\\\\7.0\\\\9.0\\\\11.0\\end{matrix}\\right]\\,\\mathrm{m}\\,\\mathrm{s}$"
      ],
      "text/plain": [
       "array([ 1.,  3.,  5.,  7.,  9., 11.]) * msecond"
      ]
     },
     "execution_count": 17,
     "metadata": {},
     "output_type": "execute_result"
    }
   ],
   "source": [
    "src = [1, 3, 5, 7, 9, 11] * ms\n",
    "src"
   ]
  },
  {
   "cell_type": "code",
   "execution_count": 18,
   "metadata": {},
   "outputs": [
    {
     "data": {
      "text/latex": [
       "$\\left[\\begin{matrix}0.0\\\\2.0\\\\4.0\\\\6.0\\\\8.0\\end{matrix}\\right]\\,\\mathrm{m}\\,\\mathrm{s}$"
      ],
      "text/plain": [
       "array([0., 2., 4., 6., 8.]) * msecond"
      ]
     },
     "execution_count": 18,
     "metadata": {},
     "output_type": "execute_result"
    }
   ],
   "source": [
    "src2 = [0, 2, 4, 6, 8] * ms\n",
    "src2"
   ]
  },
  {
   "cell_type": "code",
   "execution_count": 19,
   "metadata": {},
   "outputs": [
    {
     "data": {
      "text/latex": [
       "$\\left[\\begin{matrix}0.0\\\\2.0\\\\4.0\\\\6.0\\\\8.0\\end{matrix}\\right]\\,\\mathrm{m}\\,\\mathrm{s}$"
      ],
      "text/plain": [
       "array([0., 2., 4., 6., 8.]) * msecond"
      ]
     },
     "execution_count": 19,
     "metadata": {},
     "output_type": "execute_result"
    }
   ],
   "source": [
    "trg = [0, 2, 4, 6, 8] * ms\n",
    "trg"
   ]
  },
  {
   "cell_type": "code",
   "execution_count": 20,
   "metadata": {},
   "outputs": [
    {
     "data": {
      "text/plain": [
       "0.9090909090909091"
      ]
     },
     "execution_count": 20,
     "metadata": {},
     "output_type": "execute_result"
    }
   ],
   "source": [
    "get_gamma_factor(src, trg, 8*ms, 0.1*ms)"
   ]
  },
  {
   "cell_type": "code",
   "execution_count": 21,
   "metadata": {},
   "outputs": [
    {
     "data": {
      "text/plain": [
       "1.0"
      ]
     },
     "execution_count": 21,
     "metadata": {},
     "output_type": "execute_result"
    }
   ],
   "source": [
    "get_gamma_factor(src2, trg, 10*ms, 0.1*ms)"
   ]
  },
  {
   "cell_type": "code",
   "execution_count": 22,
   "metadata": {},
   "outputs": [
    {
     "data": {
      "text/plain": [
       "1.0"
      ]
     },
     "execution_count": 22,
     "metadata": {},
     "output_type": "execute_result"
    }
   ],
   "source": [
    "get_gamma_factor([1,2]*ms, [0, 1]*ms, 10*ms, 0.1*ms)\n"
   ]
  },
  {
   "cell_type": "code",
   "execution_count": 23,
   "metadata": {},
   "outputs": [
    {
     "data": {
      "text/plain": [
       "0.8"
      ]
     },
     "execution_count": 23,
     "metadata": {},
     "output_type": "execute_result"
    }
   ],
   "source": [
    "get_gamma_factor([2, 3, 4]*ms, [1, 2]*ms, 10*ms, 0.1*ms)"
   ]
  },
  {
   "cell_type": "code",
   "execution_count": 24,
   "metadata": {},
   "outputs": [
    {
     "data": {
      "text/plain": [
       "1.0"
      ]
     },
     "execution_count": 24,
     "metadata": {},
     "output_type": "execute_result"
    }
   ],
   "source": [
    "get_gamma_factor([2, 3, 4]*ms, [2,3,4]*ms, 10*ms, 0.1*ms)"
   ]
  },
  {
   "cell_type": "code",
   "execution_count": 25,
   "metadata": {},
   "outputs": [
    {
     "data": {
      "text/plain": [
       "0.8"
      ]
     },
     "execution_count": 25,
     "metadata": {},
     "output_type": "execute_result"
    }
   ],
   "source": [
    "get_gamma_factor([2, 3, 4]*ms, [2,3]*ms, 1*ms, 0.1*ms)"
   ]
  },
  {
   "cell_type": "code",
   "execution_count": 26,
   "metadata": {},
   "outputs": [],
   "source": [
    "metric2 = GammaFactor(delta=20*ms, dt=0.01*ms)"
   ]
  },
  {
   "cell_type": "code",
   "execution_count": 68,
   "metadata": {},
   "outputs": [
    {
     "name": "stdout",
     "output_type": "stream",
     "text": [
      "0.9090909090909091\n",
      "1.0\n"
     ]
    }
   ],
   "source": [
    "# two different traces\n",
    "src = [1, 3, 5, 7, 9, 11] * ms\n",
    "src2 = [0, 2, 4, 6, 8] * ms\n",
    "trg = [0, 2, 4, 6, 8] * ms\n",
    "\n",
    "print(get_gamma_factor(src, trg, delta=122*ms, dt=0.1*ms))\n",
    "print(get_gamma_factor(src2, trg, delta=10*ms, dt=0.1*ms))"
   ]
  },
  {
   "cell_type": "code",
   "execution_count": 73,
   "metadata": {},
   "outputs": [
    {
     "name": "stdout",
     "output_type": "stream",
     "text": [
      "1.0\n",
      "1.25\n",
      "1.037037037037037\n"
     ]
    }
   ],
   "source": [
    "# two different traces\n",
    "src = [7, 9, 11] * ms\n",
    "src2 = [1, 2, 3] * ms\n",
    "trg = [0, 2, 4, 6, 8] * ms\n",
    "\n",
    "print(get_gamma_factor(trg, trg, delta=12*ms, dt=0.1*ms))\n",
    "print(get_gamma_factor(src2, trg, delta=12*ms, dt=0.1*ms))\n",
    "print(get_gamma_factor(src, src2, delta=5*ms, dt=0.1*ms))"
   ]
  },
  {
   "cell_type": "code",
   "execution_count": 74,
   "metadata": {},
   "outputs": [],
   "source": [
    "# np.random.rand(10, 2) * 10"
   ]
  },
  {
   "cell_type": "code",
   "execution_count": 28,
   "metadata": {},
   "outputs": [],
   "source": [
    "inp_gf = np.random.normal(loc=10, scale=4, size=(10, 5))\n",
    "out_gf = np.random.normal(loc=10, scale=4, size=(1, 5))\n",
    "inp_gf = np.round(np.sort(np.abs(inp_gf)), 2)\n",
    "out_gf = np.round(np.sort(np.abs(out_gf)), 2)"
   ]
  },
  {
   "cell_type": "code",
   "execution_count": 29,
   "metadata": {},
   "outputs": [
    {
     "name": "stdout",
     "output_type": "stream",
     "text": [
      "[[ 0.95  3.6  11.47 13.6  13.96]\n",
      " [ 4.39  5.46  6.88  7.68 11.15]\n",
      " [ 8.34  8.96  9.34 12.04 12.56]\n",
      " [ 5.04  7.51  8.14  8.57 14.72]\n",
      " [ 5.86  7.25 10.43 12.4  12.5 ]\n",
      " [ 5.91  8.62  9.29 15.62 21.46]\n",
      " [ 8.51  8.53  9.9  12.16 18.06]\n",
      " [ 9.89 10.13 11.7  14.27 15.05]\n",
      " [ 1.43  7.39 10.29 11.39 12.53]\n",
      " [ 4.97  6.63  9.48 10.96 12.  ]]\n"
     ]
    }
   ],
   "source": [
    "print(np.round(inp_gf, 2))"
   ]
  },
  {
   "cell_type": "code",
   "execution_count": 30,
   "metadata": {},
   "outputs": [
    {
     "name": "stdout",
     "output_type": "stream",
     "text": [
      "[[ 7.64  9.76 11.68 11.84 15.4 ]]\n"
     ]
    }
   ],
   "source": [
    "print(np.round(out_gf, 2))"
   ]
  },
  {
   "cell_type": "code",
   "execution_count": 31,
   "metadata": {},
   "outputs": [
    {
     "data": {
      "text/plain": [
       "(10,)"
      ]
     },
     "execution_count": 31,
     "metadata": {},
     "output_type": "execute_result"
    }
   ],
   "source": [
    "errors = metric2.calc(inp_gf*ms, out_gf*ms, 1)\n",
    "np.shape(errors)\n"
   ]
  },
  {
   "cell_type": "code",
   "execution_count": 32,
   "metadata": {},
   "outputs": [
    {
     "data": {
      "text/plain": [
       "0.0"
      ]
     },
     "execution_count": 32,
     "metadata": {},
     "output_type": "execute_result"
    }
   ],
   "source": [
    "errors = metric2.calc(out_gf*ms, out_gf*ms, 1)\n",
    "errors[0]"
   ]
  },
  {
   "cell_type": "code",
   "execution_count": 33,
   "metadata": {},
   "outputs": [],
   "source": [
    "inp_gf = np.random.rand(10, 5) * 10\n",
    "out_gf = np.random.rand(1, 5) * 10\n",
    "inp_gf = np.round(np.sort(inp_gf), 2)\n",
    "out_gf = np.round(np.sort(out_gf), 2)"
   ]
  },
  {
   "cell_type": "code",
   "execution_count": 34,
   "metadata": {},
   "outputs": [
    {
     "name": "stdout",
     "output_type": "stream",
     "text": [
      "[[1.05 2.69 3.28 7.76 8.15]\n",
      " [0.29 3.81 4.87 6.74 7.91]\n",
      " [2.39 5.85 6.15 7.89 7.97]\n",
      " [0.1  1.74 4.24 9.12 9.45]\n",
      " [2.63 4.02 6.1  8.32 9.67]\n",
      " [2.29 2.57 4.11 4.86 7.44]\n",
      " [1.86 3.82 3.99 6.51 9.32]\n",
      " [0.29 5.72 8.24 9.12 9.52]\n",
      " [0.69 2.46 4.87 6.44 8.56]\n",
      " [3.22 3.67 5.49 8.37 8.93]]\n",
      "[[1.55 4.3  6.04 7.14 8.08]]\n"
     ]
    }
   ],
   "source": [
    "print(inp_gf)\n",
    "print(out_gf)"
   ]
  },
  {
   "cell_type": "code",
   "execution_count": 35,
   "metadata": {},
   "outputs": [
    {
     "name": "stdout",
     "output_type": "stream",
     "text": [
      "[1.05 2.69 3.28 7.76 8.15]\n",
      "[1.55 4.3  6.04 7.14 8.08]\n"
     ]
    }
   ],
   "source": [
    "print(inp_gf[0])\n",
    "print(out_gf[0])"
   ]
  },
  {
   "cell_type": "code",
   "execution_count": 36,
   "metadata": {},
   "outputs": [
    {
     "data": {
      "text/latex": [
       "$\\left[\\begin{matrix}1.05 & 2.69 & 3.28 & 7.76 & 8.15\\\\0.29 & 3.81 & 4.87 & 6.74 & 7.91\\\\2.39 & 5.85 & 6.15 & 7.89 & 7.97\\\\0.1 & 1.74 & 4.24 & 9.12 & 9.45\\\\2.63 & 4.02 & 6.1 & 8.32 & 9.67\\\\2.29 & 2.57 & 4.11 & 4.86 & 7.44\\\\1.86 & 3.82 & 3.99 & 6.51 & 9.32\\\\0.29 & 5.72 & 8.24 & 9.12 & 9.52\\\\0.69 & 2.46 & 4.87 & 6.44 & 8.56\\\\3.22 & 3.67 & 5.49 & 8.37 & 8.93\\end{matrix}\\right]\\,\\mathrm{m}\\,\\mathrm{s}$"
      ],
      "text/plain": [
       "array([[1.05, 2.69, 3.28, 7.76, 8.15],\n",
       "       [0.29, 3.81, 4.87, 6.74, 7.91],\n",
       "       [2.39, 5.85, 6.15, 7.89, 7.97],\n",
       "       [0.1 , 1.74, 4.24, 9.12, 9.45],\n",
       "       [2.63, 4.02, 6.1 , 8.32, 9.67],\n",
       "       [2.29, 2.57, 4.11, 4.86, 7.44],\n",
       "       [1.86, 3.82, 3.99, 6.51, 9.32],\n",
       "       [0.29, 5.72, 8.24, 9.12, 9.52],\n",
       "       [0.69, 2.46, 4.87, 6.44, 8.56],\n",
       "       [3.22, 3.67, 5.49, 8.37, 8.93]]) * msecond"
      ]
     },
     "execution_count": 36,
     "metadata": {},
     "output_type": "execute_result"
    }
   ],
   "source": [
    "inp_gf*ms"
   ]
  },
  {
   "cell_type": "code",
   "execution_count": 37,
   "metadata": {},
   "outputs": [
    {
     "data": {
      "text/plain": [
       "2.220446049250313e-16"
      ]
     },
     "execution_count": 37,
     "metadata": {},
     "output_type": "execute_result"
    }
   ],
   "source": [
    "errors = metric2.calc(inp_gf*ms, out_gf*ms, 1)\n",
    "errors[0]"
   ]
  },
  {
   "cell_type": "code",
   "execution_count": 38,
   "metadata": {},
   "outputs": [
    {
     "data": {
      "text/plain": [
       "array([2.22044605e-16])"
      ]
     },
     "execution_count": 38,
     "metadata": {},
     "output_type": "execute_result"
    }
   ],
   "source": [
    "metric2.calc(out_gf*ms, out_gf*ms, 1)"
   ]
  },
  {
   "cell_type": "code",
   "execution_count": 39,
   "metadata": {},
   "outputs": [
    {
     "data": {
      "text/plain": [
       "array([1.55, 4.3 , 6.04, 7.14, 8.08])"
      ]
     },
     "execution_count": 39,
     "metadata": {},
     "output_type": "execute_result"
    }
   ],
   "source": [
    "(inp_gf[0])\n",
    "out_gf[0]"
   ]
  },
  {
   "cell_type": "code",
   "execution_count": 40,
   "metadata": {},
   "outputs": [
    {
     "data": {
      "text/plain": [
       "1.0000000000000002"
      ]
     },
     "execution_count": 40,
     "metadata": {},
     "output_type": "execute_result"
    }
   ],
   "source": [
    "get_gamma_factor(out_gf[0]*ms, out_gf[0]*ms, delta=20*ms, dt=0.01*ms)"
   ]
  },
  {
   "cell_type": "code",
   "execution_count": 41,
   "metadata": {},
   "outputs": [
    {
     "data": {
      "text/plain": [
       "0.9999999999999999"
      ]
     },
     "execution_count": 41,
     "metadata": {},
     "output_type": "execute_result"
    }
   ],
   "source": [
    "get_gamma_factor(inp_gf[0]*ms, out_gf[0]*ms, delta=6*ms, dt=0.01*ms)"
   ]
  },
  {
   "cell_type": "code",
   "execution_count": 42,
   "metadata": {},
   "outputs": [
    {
     "data": {
      "text/latex": [
       "$\\left[\\begin{matrix}1.05\\\\2.69\\\\3.28\\\\7.76\\\\8.15\\end{matrix}\\right]\\,\\mathrm{m}\\,\\mathrm{s}$"
      ],
      "text/plain": [
       "array([1.05, 2.69, 3.28, 7.76, 8.15]) * msecond"
      ]
     },
     "execution_count": 42,
     "metadata": {},
     "output_type": "execute_result"
    }
   ],
   "source": [
    "inp_gf[0]*ms"
   ]
  },
  {
   "cell_type": "code",
   "execution_count": 43,
   "metadata": {},
   "outputs": [
    {
     "data": {
      "text/latex": [
       "$\\left[\\begin{matrix}1.55\\\\4.3\\\\6.04\\\\7.14\\\\8.08\\end{matrix}\\right]\\,\\mathrm{m}\\,\\mathrm{s}$"
      ],
      "text/plain": [
       "array([1.55, 4.3 , 6.04, 7.14, 8.08]) * msecond"
      ]
     },
     "execution_count": 43,
     "metadata": {},
     "output_type": "execute_result"
    }
   ],
   "source": [
    "out_gf[0]*ms"
   ]
  },
  {
   "cell_type": "code",
   "execution_count": 44,
   "metadata": {},
   "outputs": [],
   "source": [
    "from numpy.testing.utils import assert_equal, assert_raises, assert_array_less\n",
    "\n",
    "mse = MSEMetric()\n",
    "out = np.random.rand(2, 20)\n",
    "inp = np.random.rand(10, 20)\n",
    "\n",
    "errors = mse.calc(inp, out, 2)\n",
    "assert_equal(np.shape(errors), (5,))\n",
    "assert_equal(mse.calc(out, out, 2), [0.])\n",
    "assert(np.all(mse.calc(inp, out, 2) > 0))"
   ]
  },
  {
   "cell_type": "code",
   "execution_count": 49,
   "metadata": {},
   "outputs": [],
   "source": [
    "# calc GammaFactor\n",
    "assert_raises(TypeError, GammaFactor)\n",
    "assert_raises(TypeError, GammaFactor, delta=10*ms)\n",
    "assert_raises(AssertionError, GammaFactor, dt=0.01*ms)\n",
    "assert_raises(DimensionMismatchError, GammaFactor, delta=10*ms, dt=0.01)\n",
    "assert_raises(DimensionMismatchError, GammaFactor, delta=10, dt=0.01*ms)\n"
   ]
  },
  {
   "cell_type": "code",
   "execution_count": 61,
   "metadata": {},
   "outputs": [],
   "source": [
    "inp_gf = np.random.rand(10, 5) * 10\n",
    "out_gf = np.random.rand(2, 5) * 10\n",
    "inp_gf = np.round(np.sort(inp_gf), 2)\n",
    "out_gf = np.round(np.sort(out_gf), 2)"
   ]
  },
  {
   "cell_type": "code",
   "execution_count": 62,
   "metadata": {},
   "outputs": [],
   "source": [
    "gf = GammaFactor(delta=10*ms, dt=1*ms)\n",
    "errors = gf.calc(inp_gf, out_gf, 2)\n",
    "\n",
    "assert_equal(np.shape(errors), (5,))"
   ]
  },
  {
   "cell_type": "code",
   "execution_count": 63,
   "metadata": {},
   "outputs": [
    {
     "data": {
      "text/plain": [
       "array([1.01123854, 1.01123854, 1.01123854, 1.01123854, 1.01123854])"
      ]
     },
     "execution_count": 63,
     "metadata": {},
     "output_type": "execute_result"
    }
   ],
   "source": [
    "errors"
   ]
  },
  {
   "cell_type": "code",
   "execution_count": 64,
   "metadata": {},
   "outputs": [
    {
     "data": {
      "text/plain": [
       "array([0.])"
      ]
     },
     "execution_count": 64,
     "metadata": {},
     "output_type": "execute_result"
    }
   ],
   "source": [
    "errors = gf.calc(out_gf, out_gf, 2)\n",
    "errors"
   ]
  },
  {
   "cell_type": "markdown",
   "metadata": {},
   "source": [
    "### Firing Rate"
   ]
  },
  {
   "cell_type": "code",
   "execution_count": 76,
   "metadata": {},
   "outputs": [
    {
     "data": {
      "text/plain": [
       "1.0"
      ]
     },
     "execution_count": 76,
     "metadata": {},
     "output_type": "execute_result"
    }
   ],
   "source": [
    "x = [1,2,3]\n",
    "firing_rate(x)"
   ]
  },
  {
   "cell_type": "code",
   "execution_count": 77,
   "metadata": {},
   "outputs": [
    {
     "data": {
      "text/plain": [
       "10.000000000000002"
      ]
     },
     "execution_count": 77,
     "metadata": {},
     "output_type": "execute_result"
    }
   ],
   "source": [
    "x = [1.1, 1.2, 1.3, 1.4, 1.5]\n",
    "firing_rate(x)"
   ]
  },
  {
   "cell_type": "code",
   "execution_count": 78,
   "metadata": {},
   "outputs": [
    {
     "data": {
      "text/plain": [
       "5.0"
      ]
     },
     "execution_count": 78,
     "metadata": {},
     "output_type": "execute_result"
    }
   ],
   "source": [
    "x = [1, 1.2, 1.4, 1.6, 1.8]\n",
    "firing_rate(x)"
   ]
  }
 ],
 "metadata": {
  "kernelspec": {
   "display_name": "brian_opt",
   "language": "python",
   "name": "brian_opt"
  },
  "language_info": {
   "codemirror_mode": {
    "name": "ipython",
    "version": 3
   },
   "file_extension": ".py",
   "mimetype": "text/x-python",
   "name": "python",
   "nbconvert_exporter": "python",
   "pygments_lexer": "ipython3",
   "version": "3.7.3"
  }
 },
 "nbformat": 4,
 "nbformat_minor": 2
}
