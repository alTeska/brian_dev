{
 "cells": [
  {
   "cell_type": "markdown",
   "metadata": {},
   "source": [
    "# Notebook Ilustrating a Benchmark HH Neuron to be used with Model Fitting"
   ]
  },
  {
   "cell_type": "code",
   "execution_count": 1,
   "metadata": {},
   "outputs": [],
   "source": [
    "from brian2 import *\n",
    "from brian2tools import *\n",
    "\n",
    "import matplotlib.pyplot as plt\n",
    "%matplotlib inline"
   ]
  },
  {
   "cell_type": "markdown",
   "metadata": {},
   "source": [
    "## HH Example"
   ]
  },
  {
   "cell_type": "code",
   "execution_count": 2,
   "metadata": {},
   "outputs": [],
   "source": [
    "area = 20000*umetre**2"
   ]
  },
  {
   "cell_type": "code",
   "execution_count": 3,
   "metadata": {},
   "outputs": [],
   "source": [
    "# Generate a step-current input and an \"experimental\" voltage trace\n",
    "dt = 0.01*ms\n",
    "input_current = np.hstack([np.zeros(int(5*ms/dt)), np.ones(int(5*ms/dt)), np.zeros(int(5*ms/dt))])*nA"
   ]
  },
  {
   "cell_type": "code",
   "execution_count": 4,
   "metadata": {},
   "outputs": [],
   "source": [
    "N, n1 = np.array([input_current]).shape"
   ]
  },
  {
   "cell_type": "code",
   "execution_count": 5,
   "metadata": {},
   "outputs": [
    {
     "name": "stdout",
     "output_type": "stream",
     "text": [
      "\"correct\" parameters: {'gl': 1e-08, 'g_na': 2e-05, 'g_kd': 6e-06}\n"
     ]
    }
   ],
   "source": [
    "\n",
    "params = {'gl': float(5e-5*siemens*cm**-2 * area),\n",
    "          'g_na': float(100*msiemens*cm**-2 * area),\n",
    "          'g_kd': float(30*msiemens*cm**-2 * area)}\n",
    "print ('\"correct\" parameters:', params)"
   ]
  },
  {
   "cell_type": "code",
   "execution_count": 6,
   "metadata": {},
   "outputs": [
    {
     "data": {
      "text/plain": [
       "(1497,)"
      ]
     },
     "execution_count": 6,
     "metadata": {},
     "output_type": "execute_result"
    }
   ],
   "source": [
    "input_current.shape"
   ]
  },
  {
   "cell_type": "code",
   "execution_count": 7,
   "metadata": {},
   "outputs": [],
   "source": [
    "# Parameters\n",
    "Cm = 1*ufarad*cm**-2 * area\n",
    "El = -65*mV\n",
    "EK = -90*mV\n",
    "ENa = 50*mV\n",
    "VT = -63*mV\n",
    "gl = 5e-5*siemens*cm**-2 * area,\n",
    "g_kd = 30*msiemens*cm**-2 * area,\n",
    "\n",
    "defaultclock.dt = dt\n",
    "I = TimedArray(input_current, dt=dt)"
   ]
  },
  {
   "cell_type": "code",
   "execution_count": 8,
   "metadata": {},
   "outputs": [],
   "source": [
    "# The model\n",
    "eqs = Equations('''\n",
    "dv/dt = (gl*(El-v) - g_na*(m*m*m)*h*(v-ENa) - g_kd*(n*n*n*n)*(v-EK) + I(t))/Cm : volt\n",
    "dm/dt = 0.32*(mV**-1)*(13.*mV-v+VT)/\n",
    "    (exp((13.*mV-v+VT)/(4.*mV))-1.)/ms*(1-m)-0.28*(mV**-1)*(v-VT-40.*mV)/\n",
    "    (exp((v-VT-40.*mV)/(5.*mV))-1.)/ms*m : 1\n",
    "dn/dt = 0.032*(mV**-1)*(15.*mV-v+VT)/\n",
    "    (exp((15.*mV-v+VT)/(5.*mV))-1.)/ms*(1.-n)-.5*exp((10.*mV-v+VT)/(40.*mV))/ms*n : 1\n",
    "dh/dt = 0.128*exp((17.*mV-v+VT)/(18.*mV))/ms*(1.-h)-4./(1+exp((40.*mV-v+VT)/(5.*mV)))/ms*h : 1\n",
    "g_na : siemens (constant)\n",
    "g_kd : siemens (constant)\n",
    "gl   : siemens (constant)\n",
    "''')\n",
    "\n",
    "G = NeuronGroup(1, eqs, method='exponential_euler')\n",
    "G.v = El\n",
    "G.set_states(params, units=False)\n",
    "mon = StateMonitor(G, 'v', record=0)\n",
    "run(20*ms)"
   ]
  },
  {
   "cell_type": "code",
   "execution_count": 9,
   "metadata": {},
   "outputs": [],
   "source": [
    "voltage = mon.v[0]/mV"
   ]
  },
  {
   "cell_type": "code",
   "execution_count": 10,
   "metadata": {},
   "outputs": [],
   "source": [
    "voltage += np.random.randn(len(voltage))"
   ]
  },
  {
   "cell_type": "code",
   "execution_count": 11,
   "metadata": {},
   "outputs": [
    {
     "data": {
      "image/png": "[encoded data removed]",
      "text/plain": [
       "<Figure size 432x288 with 1 Axes>"
      ]
     },
     "metadata": {
      "needs_background": "light"
     },
     "output_type": "display_data"
    }
   ],
   "source": [
    "plot(np.arange(len(voltage))*dt/ms, voltage); \n",
    "title('target voltage'); xlabel('time (ms)'); ylabel('v (mV)');"
   ]
  },
  {
   "cell_type": "code",
   "execution_count": 12,
   "metadata": {},
   "outputs": [
    {
     "data": {
      "image/png": "[encoded data removed]",
      "text/plain": [
       "<Figure size 432x288 with 2 Axes>"
      ]
     },
     "metadata": {
      "needs_background": "light"
     },
     "output_type": "display_data"
    }
   ],
   "source": [
    "fig, ax = plt.subplots(2,1)\n",
    "ax[0].plot(np.arange(len(I.values))*dt/ms, I.values);\n",
    "ax[1].plot(np.arange(len(voltage))*dt/ms, voltage); "
   ]
  },
  {
   "cell_type": "code",
   "execution_count": 13,
   "metadata": {},
   "outputs": [
    {
     "data": {
      "text/plain": [
       "(1, 1497)"
      ]
     },
     "execution_count": 13,
     "metadata": {},
     "output_type": "execute_result"
    }
   ],
   "source": [
    "inp_trace = np.array([input_current])\n",
    "n0, n1 = inp_trace.shape\n",
    "inp_trace.shape"
   ]
  },
  {
   "cell_type": "code",
   "execution_count": 14,
   "metadata": {},
   "outputs": [
    {
     "data": {
      "text/plain": [
       "(1, 1497)"
      ]
     },
     "execution_count": 14,
     "metadata": {},
     "output_type": "execute_result"
    }
   ],
   "source": [
    "out_trace = np.array([voltage[:n1]])\n",
    "out_trace.shape"
   ]
  },
  {
   "cell_type": "markdown",
   "metadata": {},
   "source": [
    "## brian2tools version "
   ]
  },
  {
   "cell_type": "code",
   "execution_count": 18,
   "metadata": {},
   "outputs": [],
   "source": [
    "# params = {'gl': float(5e-5*siemens*cm**-2 * area),\n",
    "#           'g_na': float(100*msiemens*cm**-2 * area),\n",
    "#           'g_kd': float(30*msiemens*cm**-2 * area)}"
   ]
  },
  {
   "cell_type": "code",
   "execution_count": 22,
   "metadata": {},
   "outputs": [
    {
     "name": "stdout",
     "output_type": "stream",
     "text": [
      "input [[0. 0. 0. ... 0. 0. 0.]] A\n",
      "params: [[9.96258669e-05 8.94125198e-04 1.80964077e-11]\n",
      " [6.91370972e-05 6.53809384e-04 3.52121992e-13]\n",
      " [5.17237275e-05 6.33282845e-04 1.17278964e-11]\n",
      " [7.73409456e-05 4.32166401e-05 3.12878011e-12]\n",
      " [5.91265276e-05 1.37943452e-04 1.01102608e-11]\n",
      " [8.57967367e-05 1.11077554e-04 1.80012501e-11]\n",
      " [1.34041068e-05 5.54349760e-04 1.53215413e-11]\n",
      " [5.51646778e-05 3.12069971e-04 1.93727164e-11]\n",
      " [2.68970036e-05 2.37292919e-04 1.00123894e-11]\n",
      " [3.27201798e-05 8.59817470e-04 7.63918871e-12]\n",
      " [6.32055441e-05 4.64123231e-04 1.69573707e-12]\n",
      " [7.54681341e-05 5.76874876e-04 1.26663745e-11]\n",
      " [7.33191700e-05 8.14947943e-04 5.46712375e-12]\n",
      " [8.16965234e-05 1.85216227e-05 5.88572230e-12]\n",
      " [3.61734144e-05 7.91629319e-04 1.31065566e-11]\n",
      " [1.14693552e-05 3.58480045e-04 1.55052310e-11]\n",
      " [7.96895612e-06 5.29522172e-04 8.37633578e-12]\n",
      " [2.02542482e-05 2.94174971e-04 1.11557155e-11]\n",
      " [5.16504822e-06 7.52223470e-04 1.04762755e-12]\n",
      " [2.61381215e-05 3.96475869e-04 2.71804318e-12]\n",
      " [4.84259557e-05 9.04352052e-04 3.87868722e-12]\n",
      " [4.40204665e-05 9.53946205e-04 7.42586687e-12]\n",
      " [5.09929662e-08 4.90842796e-04 6.77258877e-12]\n",
      " [6.61595744e-05 9.88000002e-04 9.14591491e-12]\n",
      " [4.21038557e-05 1.95632289e-04 4.52344499e-12]\n",
      " [8.70821884e-05 7.03104359e-04 1.36417176e-11]\n",
      " [9.52869878e-05 7.32084789e-05 1.88364124e-11]\n",
      " [9.09162884e-05 6.98027896e-04 1.63949536e-11]\n",
      " [1.72151740e-05 4.25021878e-04 1.73462654e-11]\n",
      " [3.74953491e-05 2.08477129e-04 1.44432644e-11]]\n",
      "dictionary {'g_kd': array([9.96258669e-05, 9.96258669e-05, 9.96258669e-05, ...,\n",
      "       3.74953491e-05, 3.74953491e-05, 3.74953491e-05]), 'g_na': array([0.00089413, 0.00089413, 0.00089413, ..., 0.00020848, 0.00020848,\n",
      "       0.00020848]), 'gl': array([1.80964077e-11, 1.80964077e-11, 1.80964077e-11, ...,\n",
      "       1.44432644e-11, 1.44432644e-11, 1.44432644e-11])}\n"
     ]
    },
    {
     "ename": "BrianObjectException",
     "evalue": "Original error and traceback:\nTraceback (most recent call last):\n  File \"/home/alteska/Desktop/brian/brian2/build/lib.linux-x86_64-3.7/brian2/parsing/bast.py\", line 129, in render_node\n    return getattr(self, methname)(node)\n  File \"/home/alteska/Desktop/brian/brian2/build/lib.linux-x86_64-3.7/brian2/parsing/bast.py\", line 190, in render_Call\n    for subnode, argtype in zip(node.args, funcvar._arg_types):\nAttributeError: 'Subexpression' object has no attribute '_arg_types'\n\nDuring handling of the above exception, another exception occurred:\n\nTraceback (most recent call last):\n  File \"/home/alteska/Desktop/brian/brian2/build/lib.linux-x86_64-3.7/brian2/core/network.py\", line 864, in before_run\n    obj.before_run(run_namespace)\n  File \"/home/alteska/Desktop/brian/brian2/build/lib.linux-x86_64-3.7/brian2/groups/group.py\", line 1128, in before_run\n    codeobj_class=self.codeobj_class\n  File \"/home/alteska/Desktop/brian/brian2/build/lib.linux-x86_64-3.7/brian2/codegen/codeobject.py\", line 309, in create_runner_codeobj\n    _, uk, u = analyse_identifiers(v, all_variables, recursive=True)\n  File \"/home/alteska/Desktop/brian/brian2/build/lib.linux-x86_64-3.7/brian2/codegen/translation.py\", line 94, in analyse_identifiers\n    scalar_stmts, vector_stmts = make_statements(code, variables, np.float64, optimise=False)\n  File \"/home/alteska/Desktop/brian/brian2/build/lib.linux-x86_64-3.7/brian2/utils/caching.py\", line 100, in cached_func\n    func._cache[cache_key] = func(*args, **kwds)\n  File \"/home/alteska/Desktop/brian/brian2/build/lib.linux-x86_64-3.7/brian2/codegen/translation.py\", line 236, in make_statements\n    annotated_ast = brian_ast(expr, variables)\n  File \"/home/alteska/Desktop/brian/brian2/build/lib.linux-x86_64-3.7/brian2/parsing/bast.py\", line 112, in brian_ast\n    return renderer.render_node(node)\n  File \"/home/alteska/Desktop/brian/brian2/build/lib.linux-x86_64-3.7/brian2/parsing/bast.py\", line 129, in render_node\n    return getattr(self, methname)(node)\n  File \"/home/alteska/Desktop/brian/brian2/build/lib.linux-x86_64-3.7/brian2/parsing/bast.py\", line 209, in render_BinOp\n    node.left = self.render_node(node.left)\n  File \"/home/alteska/Desktop/brian/brian2/build/lib.linux-x86_64-3.7/brian2/parsing/bast.py\", line 129, in render_node\n    return getattr(self, methname)(node)\n  File \"/home/alteska/Desktop/brian/brian2/build/lib.linux-x86_64-3.7/brian2/parsing/bast.py\", line 210, in render_BinOp\n    node.right = self.render_node(node.right)\n  File \"/home/alteska/Desktop/brian/brian2/build/lib.linux-x86_64-3.7/brian2/parsing/bast.py\", line 129, in render_node\n    return getattr(self, methname)(node)\n  File \"/home/alteska/Desktop/brian/brian2/build/lib.linux-x86_64-3.7/brian2/parsing/bast.py\", line 209, in render_BinOp\n    node.left = self.render_node(node.left)\n  File \"/home/alteska/Desktop/brian/brian2/build/lib.linux-x86_64-3.7/brian2/parsing/bast.py\", line 131, in render_node\n    raise SyntaxError(\"Unknown syntax: \" + nodename)\n  File \"<string>\", line None\nSyntaxError: Unknown syntax: Call\n\nError encountered with object named \"neurongroup_2_run_regularly_1\".\nObject was created here (most recent call only, full details in debug log):\n  File \"/home/alteska/Desktop/brian/brian2tools/brian2tools/modelfitting/modelfitting.py\", line 132, in fit_traces\n    neurons.run_regularly(state_update_code, when='groups')\n\nAn error occurred when preparing an object.   File \"<string>\", line None\n\nSyntaxError: Unknown syntax: Call\n(See above for original error message and traceback.)",
     "output_type": "error",
     "traceback": [
      "Traceback \u001b[0;36m(most recent call last)\u001b[0m:\n",
      "  File \u001b[1;32m\"/home/alteska/anaconda3/envs/brian_opt/lib/python3.7/site-packages/IPython/core/interactiveshell.py\"\u001b[0m, line \u001b[1;32m3296\u001b[0m, in \u001b[1;35mrun_code\u001b[0m\n    exec(code_obj, self.user_global_ns, self.user_ns)\n",
      "  File \u001b[1;32m\"<ipython-input-22-e92f4ba42cda>\"\u001b[0m, line \u001b[1;32m8\u001b[0m, in \u001b[1;35m<module>\u001b[0m\n    tol = 1e-6, popsize=10)\n",
      "  File \u001b[1;32m\"/home/alteska/Desktop/brian/brian2tools/brian2tools/modelfitting/modelfitting.py\"\u001b[0m, line \u001b[1;32m172\u001b[0m, in \u001b[1;35mfit_traces\u001b[0m\n    res = differential_evolution(error_function, bounds, tol = tol, maxiter = maxiter, popsize = popsize, disp=True)\n",
      "  File \u001b[1;32m\"/home/alteska/Desktop/brian/brian2tools/brian2tools/modelfitting/differential_evolution.py\"\u001b[0m, line \u001b[1;32m187\u001b[0m, in \u001b[1;35mdifferential_evolution\u001b[0m\n    return solver.solve()\n",
      "  File \u001b[1;32m\"/home/alteska/Desktop/brian/brian2tools/brian2tools/modelfitting/differential_evolution.py\"\u001b[0m, line \u001b[1;32m440\u001b[0m, in \u001b[1;35msolve\u001b[0m\n    self.population_energies = self.func(np.array(parameters),*self.args)\n",
      "  File \u001b[1;32m\"/home/alteska/Desktop/brian/brian2tools/brian2tools/modelfitting/modelfitting.py\"\u001b[0m, line \u001b[1;32m152\u001b[0m, in \u001b[1;35merror_function\u001b[0m\n    run(duration, namespace = {})\n",
      "  File \u001b[1;32m\"/home/alteska/Desktop/brian/brian2/build/lib.linux-x86_64-3.7/brian2/units/fundamentalunits.py\"\u001b[0m, line \u001b[1;32m2375\u001b[0m, in \u001b[1;35mnew_f\u001b[0m\n    result = f(*args, **kwds)\n",
      "  File \u001b[1;32m\"/home/alteska/Desktop/brian/brian2/build/lib.linux-x86_64-3.7/brian2/core/magic.py\"\u001b[0m, line \u001b[1;32m371\u001b[0m, in \u001b[1;35mrun\u001b[0m\n    namespace=namespace, profile=profile, level=2+level)\n",
      "  File \u001b[1;32m\"/home/alteska/Desktop/brian/brian2/build/lib.linux-x86_64-3.7/brian2/core/magic.py\"\u001b[0m, line \u001b[1;32m231\u001b[0m, in \u001b[1;35mrun\u001b[0m\n    namespace=namespace, profile=profile, level=level+1)\n",
      "  File \u001b[1;32m\"/home/alteska/Desktop/brian/brian2/build/lib.linux-x86_64-3.7/brian2/core/base.py\"\u001b[0m, line \u001b[1;32m276\u001b[0m, in \u001b[1;35mdevice_override_decorated_function\u001b[0m\n    return func(*args, **kwds)\n",
      "  File \u001b[1;32m\"/home/alteska/Desktop/brian/brian2/build/lib.linux-x86_64-3.7/brian2/units/fundamentalunits.py\"\u001b[0m, line \u001b[1;32m2375\u001b[0m, in \u001b[1;35mnew_f\u001b[0m\n    result = f(*args, **kwds)\n",
      "  File \u001b[1;32m\"/home/alteska/Desktop/brian/brian2/build/lib.linux-x86_64-3.7/brian2/core/network.py\"\u001b[0m, line \u001b[1;32m975\u001b[0m, in \u001b[1;35mrun\u001b[0m\n    self.before_run(namespace)\n",
      "  File \u001b[1;32m\"/home/alteska/Desktop/brian/brian2/build/lib.linux-x86_64-3.7/brian2/core/base.py\"\u001b[0m, line \u001b[1;32m276\u001b[0m, in \u001b[1;35mdevice_override_decorated_function\u001b[0m\n    return func(*args, **kwds)\n",
      "\u001b[0;36m  File \u001b[0;32m\"/home/alteska/Desktop/brian/brian2/build/lib.linux-x86_64-3.7/brian2/core/network.py\"\u001b[0;36m, line \u001b[0;32m866\u001b[0;36m, in \u001b[0;35mbefore_run\u001b[0;36m\u001b[0m\n\u001b[0;31m    raise brian_object_exception(\"An error occurred when preparing an object.\", obj, ex)\u001b[0m\n",
      "\u001b[0;36m  File \u001b[0;32m\"<string>\"\u001b[0;36m, line \u001b[0;32munknown\u001b[0m\n\u001b[0;31mBrianObjectException\u001b[0m\u001b[0;31m:\u001b[0m Unknown syntax: Call\n"
     ]
    }
   ],
   "source": [
    "params, fits, error = fit_traces(model = eqs, input_var = 'I', output_var = 'v',\\\n",
    "        input = inp_trace * nA, output = out_trace*mV, dt = dt,\n",
    "        gl = [1e-09, 1e-07],\n",
    "        g_na  = [1e-07, 1e-03],\n",
    "        g_kd = [1e-08, 1e-04], \n",
    "        tol = 1e-6, popsize=10)"
   ]
  },
  {
   "cell_type": "code",
   "execution_count": null,
   "metadata": {},
   "outputs": [],
   "source": []
  }
 ],
 "metadata": {
  "kernelspec": {
   "display_name": "brian_opt",
   "language": "python",
   "name": "brian_opt"
  },
  "language_info": {
   "codemirror_mode": {
    "name": "ipython",
    "version": 3
   },
   "file_extension": ".py",
   "mimetype": "text/x-python",
   "name": "python",
   "nbconvert_exporter": "python",
   "pygments_lexer": "ipython3",
   "version": "3.7.3"
  }
 },
 "nbformat": 4,
 "nbformat_minor": 2
}
