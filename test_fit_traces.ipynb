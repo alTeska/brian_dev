{
 "cells": [
  {
   "cell_type": "markdown",
   "metadata": {},
   "source": [
    "# Notebook Ilustrating a Benchmark HH Neuron to be used with Model Fitting"
   ]
  },
  {
   "cell_type": "code",
   "execution_count": 1,
   "metadata": {},
   "outputs": [],
   "source": [
    "from brian2 import *\n",
    "from brian2tools import *\n",
    "\n",
    "import matplotlib.pyplot as plt\n",
    "%matplotlib inline\n",
    "prefs.codegen.target = 'cython'  # weave is not multiprocess-safe!\n"
   ]
  },
  {
   "cell_type": "markdown",
   "metadata": {},
   "source": [
    "## HH Example"
   ]
  },
  {
   "cell_type": "code",
   "execution_count": 2,
   "metadata": {},
   "outputs": [],
   "source": [
    "area = 20000*umetre**2"
   ]
  },
  {
   "cell_type": "code",
   "execution_count": 3,
   "metadata": {},
   "outputs": [],
   "source": [
    "# Generate a step-current input and an \"experimental\" voltage trace\n",
    "dt = 0.01*ms\n",
    "input_current = np.hstack([np.zeros(int(5*ms/dt)), np.ones(int(5*ms/dt)), np.zeros(int(5*ms/dt))])*nA"
   ]
  },
  {
   "cell_type": "code",
   "execution_count": 4,
   "metadata": {},
   "outputs": [],
   "source": [
    "N, n1 = np.array([input_current]).shape"
   ]
  },
  {
   "cell_type": "code",
   "execution_count": 5,
   "metadata": {},
   "outputs": [
    {
     "name": "stdout",
     "output_type": "stream",
     "text": [
      "\"correct\" parameters: {'gl': 1e-08, 'g_na': 2e-05, 'g_kd': 6e-06}\n"
     ]
    }
   ],
   "source": [
    "params = {'gl': float(5e-5*siemens*cm**-2 * area),\n",
    "          'g_na': float(100*msiemens*cm**-2 * area),\n",
    "          'g_kd': float(30*msiemens*cm**-2 * area)}\n",
    "print ('\"correct\" parameters:', params)"
   ]
  },
  {
   "cell_type": "code",
   "execution_count": 6,
   "metadata": {},
   "outputs": [
    {
     "data": {
      "text/plain": [
       "(1497,)"
      ]
     },
     "execution_count": 6,
     "metadata": {},
     "output_type": "execute_result"
    }
   ],
   "source": [
    "input_current.shape"
   ]
  },
  {
   "cell_type": "code",
   "execution_count": 7,
   "metadata": {},
   "outputs": [],
   "source": [
    "# Parameters\n",
    "Cm = 1*ufarad*cm**-2 * area\n",
    "El = -65*mV\n",
    "EK = -90*mV\n",
    "ENa = 50*mV\n",
    "VT = -63*mV\n",
    "# gl = 5e-5*siemens*cm**-2 * area\n",
    "# g_kd = 30*msiemens*cm**-2 * area\n",
    "\n",
    "defaultclock.dt = dt\n",
    "I = TimedArray(input_current, dt=dt)"
   ]
  },
  {
   "cell_type": "code",
   "execution_count": 8,
   "metadata": {},
   "outputs": [],
   "source": [
    "# The model\n",
    "eqs = Equations('''\n",
    "dv/dt = (gl*(El-v) - g_na*(m*m*m)*h*(v-ENa) - g_kd*(n*n*n*n)*(v-EK) + I(t))/Cm : volt\n",
    "dm/dt = 0.32*(mV**-1)*(13.*mV-v+VT)/\n",
    "    (exp((13.*mV-v+VT)/(4.*mV))-1.)/ms*(1-m)-0.28*(mV**-1)*(v-VT-40.*mV)/\n",
    "    (exp((v-VT-40.*mV)/(5.*mV))-1.)/ms*m : 1\n",
    "dn/dt = 0.032*(mV**-1)*(15.*mV-v+VT)/\n",
    "    (exp((15.*mV-v+VT)/(5.*mV))-1.)/ms*(1.-n)-.5*exp((10.*mV-v+VT)/(40.*mV))/ms*n : 1\n",
    "dh/dt = 0.128*exp((17.*mV-v+VT)/(18.*mV))/ms*(1.-h)-4./(1+exp((40.*mV-v+VT)/(5.*mV)))/ms*h : 1\n",
    "g_na : siemens (constant)\n",
    "g_kd : siemens (constant)\n",
    "gl   : siemens (constant)\n",
    "''')\n",
    "\n",
    "G = NeuronGroup(1, eqs, method='exponential_euler')\n",
    "G.v = El\n",
    "G.set_states(params, units=False)\n",
    "mon = StateMonitor(G, 'v', record=0)\n",
    "run(20*ms)"
   ]
  },
  {
   "cell_type": "code",
   "execution_count": 11,
   "metadata": {},
   "outputs": [],
   "source": [
    "voltage = mon.v[0]/mV\n",
    "\n",
    "voltage += np.random.randn(len(voltage))\n",
    "\n",
    "plot(np.arange(len(voltage))*dt/ms, voltage); \n",
    "title('target voltage'); xlabel('time (ms)'); ylabel('v (mV)');"
   ]
  },
  {
   "cell_type": "code",
   "execution_count": 12,
   "metadata": {},
   "outputs": [
    {
     "data": {
      "image/png": "[encoded data removed]",
      "text/plain": [
       "<Figure size 432x288 with 2 Axes>"
      ]
     },
     "metadata": {
      "needs_background": "light"
     },
     "output_type": "display_data"
    }
   ],
   "source": [
    "fig, ax = plt.subplots(2,1)\n",
    "ax[0].plot(np.arange(len(I.values))*dt/ms, I.values);\n",
    "ax[1].plot(np.arange(len(voltage))*dt/ms, voltage); "
   ]
  },
  {
   "cell_type": "code",
   "execution_count": 13,
   "metadata": {},
   "outputs": [
    {
     "data": {
      "text/plain": [
       "(1, 1497)"
      ]
     },
     "execution_count": 13,
     "metadata": {},
     "output_type": "execute_result"
    }
   ],
   "source": [
    "inp_trace = np.array([input_current])\n",
    "n0, n1 = inp_trace.shape\n",
    "inp_trace.shape"
   ]
  },
  {
   "cell_type": "code",
   "execution_count": 14,
   "metadata": {},
   "outputs": [
    {
     "data": {
      "text/plain": [
       "(1, 1497)"
      ]
     },
     "execution_count": 14,
     "metadata": {},
     "output_type": "execute_result"
    }
   ],
   "source": [
    "out_trace = np.array([voltage[:n1]])\n",
    "out_trace.shape"
   ]
  },
  {
   "cell_type": "markdown",
   "metadata": {},
   "source": [
    "## brian2tools version "
   ]
  },
  {
   "cell_type": "code",
   "execution_count": 15,
   "metadata": {},
   "outputs": [],
   "source": [
    "# params = {'gl': float(5e-5*siemens*cm**-2 * area),\n",
    "#           'g_na': float(100*msiemens*cm**-2 * area),\n",
    "#           'g_kd': float(30*msiemens*cm**-2 * area)}"
   ]
  },
  {
   "cell_type": "code",
   "execution_count": 16,
   "metadata": {},
   "outputs": [],
   "source": [
    "gl = [1e-5, 1e-6]*siemens*cm**-2 * area,\n",
    "g_na = [1, 200]*msiemens*cm**-2 * area,\n",
    "g_kd = [1, 100]*msiemens*cm**-2 * area,"
   ]
  },
  {
   "cell_type": "code",
   "execution_count": 19,
   "metadata": {},
   "outputs": [
    {
     "name": "stdout",
     "output_type": "stream",
     "text": [
      "input [[0. 0. 0. ... 0. 0. 0.]] A\n",
      "params: [[1.96347438e-05 2.97639892e-05 6.75782177e-10]\n",
      " [1.20398092e-05 6.01103852e-06 1.87855993e-09]\n",
      " [8.37489534e-06 1.61490529e-06 1.14308396e-09]\n",
      " [3.84400694e-06 2.12440695e-05 1.23350567e-09]\n",
      " [1.54517558e-05 1.15914286e-05 1.00240396e-09]\n",
      " [2.01946095e-06 1.56377576e-05 1.70394671e-09]\n",
      " [1.70865030e-05 1.92827180e-05 7.27291891e-10]\n",
      " [1.02754394e-05 1.33367744e-05 8.83345541e-10]\n",
      " [1.78013175e-05 2.69168071e-05 1.45256492e-09]\n",
      " [1.85888975e-05 8.18870214e-06 1.98566061e-09]\n",
      " [9.06607496e-06 1.29106490e-06 1.57367514e-09]\n",
      " [4.21186045e-07 1.68206129e-05 1.51755690e-09]\n",
      " [1.50189330e-05 3.65469781e-05 1.67336465e-09]\n",
      " [1.61283281e-05 2.41595846e-05 1.28983589e-09]\n",
      " [7.64897265e-06 3.96160550e-05 1.18673582e-09]\n",
      " [6.37867635e-06 8.13961702e-06 4.55170118e-10]\n",
      " [3.46542038e-06 3.53292894e-05 1.92629794e-09]\n",
      " [5.09534839e-06 3.44118018e-06 1.39050001e-09]\n",
      " [1.07778189e-05 3.78333792e-05 4.04362730e-10]\n",
      " [1.02159745e-06 3.37135649e-05 2.66726997e-10]\n",
      " [9.59188045e-06 2.54274973e-05 9.60336885e-10]\n",
      " [2.69523338e-06 2.35459122e-05 5.85716961e-10]\n",
      " [1.28913355e-05 2.21199417e-05 1.80759355e-09]\n",
      " [1.34872223e-05 1.46253162e-05 7.73176014e-10]\n",
      " [1.41395166e-05 4.97467695e-06 1.08973358e-09]\n",
      " [4.70809288e-06 1.79972017e-05 2.49749865e-10]\n",
      " [1.90857605e-05 1.07843566e-05 1.63023093e-09]\n",
      " [5.57510052e-06 3.19983271e-05 3.61453871e-10]\n",
      " [1.26601016e-05 3.31684542e-05 8.08537326e-10]\n",
      " [6.83551610e-06 2.88840286e-05 5.38438610e-10]]\n",
      "dictionary {'g_kd': array([1.96347438e-05, 1.96347438e-05, 1.96347438e-05, ...,\n",
      "       6.83551610e-06, 6.83551610e-06, 6.83551610e-06]), 'g_na': array([2.97639892e-05, 2.97639892e-05, 2.97639892e-05, ...,\n",
      "       2.88840286e-05, 2.88840286e-05, 2.88840286e-05]), 'gl': array([6.75782177e-10, 6.75782177e-10, 6.75782177e-10, ...,\n",
      "       5.38438610e-10, 5.38438610e-10, 5.38438610e-10])}\n"
     ]
    },
    {
     "ename": "BrianObjectException",
     "evalue": "Original error and traceback:\nTraceback (most recent call last):\n  File \"/home/alteska/Desktop/brian/brian2/build/lib.linux-x86_64-3.7/brian2/parsing/bast.py\", line 129, in render_node\n    return getattr(self, methname)(node)\n  File \"/home/alteska/Desktop/brian/brian2/build/lib.linux-x86_64-3.7/brian2/parsing/bast.py\", line 190, in render_Call\n    for subnode, argtype in zip(node.args, funcvar._arg_types):\nAttributeError: 'Subexpression' object has no attribute '_arg_types'\n\nDuring handling of the above exception, another exception occurred:\n\nTraceback (most recent call last):\n  File \"/home/alteska/Desktop/brian/brian2/build/lib.linux-x86_64-3.7/brian2/core/network.py\", line 864, in before_run\n    obj.before_run(run_namespace)\n  File \"/home/alteska/Desktop/brian/brian2/build/lib.linux-x86_64-3.7/brian2/groups/group.py\", line 1128, in before_run\n    codeobj_class=self.codeobj_class\n  File \"/home/alteska/Desktop/brian/brian2/build/lib.linux-x86_64-3.7/brian2/codegen/codeobject.py\", line 309, in create_runner_codeobj\n    _, uk, u = analyse_identifiers(v, all_variables, recursive=True)\n  File \"/home/alteska/Desktop/brian/brian2/build/lib.linux-x86_64-3.7/brian2/codegen/translation.py\", line 94, in analyse_identifiers\n    scalar_stmts, vector_stmts = make_statements(code, variables, np.float64, optimise=False)\n  File \"/home/alteska/Desktop/brian/brian2/build/lib.linux-x86_64-3.7/brian2/utils/caching.py\", line 100, in cached_func\n    func._cache[cache_key] = func(*args, **kwds)\n  File \"/home/alteska/Desktop/brian/brian2/build/lib.linux-x86_64-3.7/brian2/codegen/translation.py\", line 236, in make_statements\n    annotated_ast = brian_ast(expr, variables)\n  File \"/home/alteska/Desktop/brian/brian2/build/lib.linux-x86_64-3.7/brian2/parsing/bast.py\", line 112, in brian_ast\n    return renderer.render_node(node)\n  File \"/home/alteska/Desktop/brian/brian2/build/lib.linux-x86_64-3.7/brian2/parsing/bast.py\", line 129, in render_node\n    return getattr(self, methname)(node)\n  File \"/home/alteska/Desktop/brian/brian2/build/lib.linux-x86_64-3.7/brian2/parsing/bast.py\", line 209, in render_BinOp\n    node.left = self.render_node(node.left)\n  File \"/home/alteska/Desktop/brian/brian2/build/lib.linux-x86_64-3.7/brian2/parsing/bast.py\", line 129, in render_node\n    return getattr(self, methname)(node)\n  File \"/home/alteska/Desktop/brian/brian2/build/lib.linux-x86_64-3.7/brian2/parsing/bast.py\", line 210, in render_BinOp\n    node.right = self.render_node(node.right)\n  File \"/home/alteska/Desktop/brian/brian2/build/lib.linux-x86_64-3.7/brian2/parsing/bast.py\", line 129, in render_node\n    return getattr(self, methname)(node)\n  File \"/home/alteska/Desktop/brian/brian2/build/lib.linux-x86_64-3.7/brian2/parsing/bast.py\", line 209, in render_BinOp\n    node.left = self.render_node(node.left)\n  File \"/home/alteska/Desktop/brian/brian2/build/lib.linux-x86_64-3.7/brian2/parsing/bast.py\", line 131, in render_node\n    raise SyntaxError(\"Unknown syntax: \" + nodename)\n  File \"<string>\", line None\nSyntaxError: Unknown syntax: Call\n\nError encountered with object named \"neurongroup_3_run_regularly_1\".\nObject was created here (most recent call only, full details in debug log):\n  File \"/home/alteska/Desktop/brian/brian2tools/brian2tools/modelfitting/modelfitting.py\", line 132, in fit_traces\n    neurons.run_regularly(state_update_code, when='groups')\n\nAn error occurred when preparing an object.   File \"<string>\", line None\n\nSyntaxError: Unknown syntax: Call\n(See above for original error message and traceback.)",
     "output_type": "error",
     "traceback": [
      "Traceback \u001b[0;36m(most recent call last)\u001b[0m:\n",
      "  File \u001b[1;32m\"/home/alteska/anaconda3/envs/brian_opt/lib/python3.7/site-packages/IPython/core/interactiveshell.py\"\u001b[0m, line \u001b[1;32m3296\u001b[0m, in \u001b[1;35mrun_code\u001b[0m\n    exec(code_obj, self.user_global_ns, self.user_ns)\n",
      "  File \u001b[1;32m\"<ipython-input-19-665cd01b2480>\"\u001b[0m, line \u001b[1;32m6\u001b[0m, in \u001b[1;35m<module>\u001b[0m\n    tol = 1e-6, popsize=10)\n",
      "  File \u001b[1;32m\"/home/alteska/Desktop/brian/brian2tools/brian2tools/modelfitting/modelfitting.py\"\u001b[0m, line \u001b[1;32m172\u001b[0m, in \u001b[1;35mfit_traces\u001b[0m\n    res = differential_evolution(error_function, bounds, tol = tol, maxiter = maxiter, popsize = popsize, disp=True)\n",
      "  File \u001b[1;32m\"/home/alteska/Desktop/brian/brian2tools/brian2tools/modelfitting/differential_evolution.py\"\u001b[0m, line \u001b[1;32m187\u001b[0m, in \u001b[1;35mdifferential_evolution\u001b[0m\n    return solver.solve()\n",
      "  File \u001b[1;32m\"/home/alteska/Desktop/brian/brian2tools/brian2tools/modelfitting/differential_evolution.py\"\u001b[0m, line \u001b[1;32m440\u001b[0m, in \u001b[1;35msolve\u001b[0m\n    self.population_energies = self.func(np.array(parameters),*self.args)\n",
      "  File \u001b[1;32m\"/home/alteska/Desktop/brian/brian2tools/brian2tools/modelfitting/modelfitting.py\"\u001b[0m, line \u001b[1;32m152\u001b[0m, in \u001b[1;35merror_function\u001b[0m\n    run(duration, namespace = {})\n",
      "  File \u001b[1;32m\"/home/alteska/Desktop/brian/brian2/build/lib.linux-x86_64-3.7/brian2/units/fundamentalunits.py\"\u001b[0m, line \u001b[1;32m2375\u001b[0m, in \u001b[1;35mnew_f\u001b[0m\n    result = f(*args, **kwds)\n",
      "  File \u001b[1;32m\"/home/alteska/Desktop/brian/brian2/build/lib.linux-x86_64-3.7/brian2/core/magic.py\"\u001b[0m, line \u001b[1;32m371\u001b[0m, in \u001b[1;35mrun\u001b[0m\n    namespace=namespace, profile=profile, level=2+level)\n",
      "  File \u001b[1;32m\"/home/alteska/Desktop/brian/brian2/build/lib.linux-x86_64-3.7/brian2/core/magic.py\"\u001b[0m, line \u001b[1;32m231\u001b[0m, in \u001b[1;35mrun\u001b[0m\n    namespace=namespace, profile=profile, level=level+1)\n",
      "  File \u001b[1;32m\"/home/alteska/Desktop/brian/brian2/build/lib.linux-x86_64-3.7/brian2/core/base.py\"\u001b[0m, line \u001b[1;32m276\u001b[0m, in \u001b[1;35mdevice_override_decorated_function\u001b[0m\n    return func(*args, **kwds)\n",
      "  File \u001b[1;32m\"/home/alteska/Desktop/brian/brian2/build/lib.linux-x86_64-3.7/brian2/units/fundamentalunits.py\"\u001b[0m, line \u001b[1;32m2375\u001b[0m, in \u001b[1;35mnew_f\u001b[0m\n    result = f(*args, **kwds)\n",
      "  File \u001b[1;32m\"/home/alteska/Desktop/brian/brian2/build/lib.linux-x86_64-3.7/brian2/core/network.py\"\u001b[0m, line \u001b[1;32m975\u001b[0m, in \u001b[1;35mrun\u001b[0m\n    self.before_run(namespace)\n",
      "  File \u001b[1;32m\"/home/alteska/Desktop/brian/brian2/build/lib.linux-x86_64-3.7/brian2/core/base.py\"\u001b[0m, line \u001b[1;32m276\u001b[0m, in \u001b[1;35mdevice_override_decorated_function\u001b[0m\n    return func(*args, **kwds)\n",
      "\u001b[0;36m  File \u001b[0;32m\"/home/alteska/Desktop/brian/brian2/build/lib.linux-x86_64-3.7/brian2/core/network.py\"\u001b[0;36m, line \u001b[0;32m866\u001b[0;36m, in \u001b[0;35mbefore_run\u001b[0;36m\u001b[0m\n\u001b[0;31m    raise brian_object_exception(\"An error occurred when preparing an object.\", obj, ex)\u001b[0m\n",
      "\u001b[0;36m  File \u001b[0;32m\"<string>\"\u001b[0;36m, line \u001b[0;32munknown\u001b[0m\n\u001b[0;31mBrianObjectException\u001b[0m\u001b[0;31m:\u001b[0m Unknown syntax: Call\n"
     ]
    }
   ],
   "source": [
    "params, fits, error = fit_traces(model = eqs, input_var = 'I', output_var = 'v',\\\n",
    "        input = inp_trace * nA, output = out_trace*mV, dt = dt,\n",
    "        gl = [1e-5*siemens*cm**-2 * area, 1e-6*siemens*cm**-2 * area],\n",
    "        g_na = [1*msiemens*cm**-2 * area, 200*msiemens*cm**-2 * area],\n",
    "        g_kd = [1*msiemens*cm**-2 * area, 100*msiemens*cm**-2 * area],\n",
    "        tol = 1e-6, popsize=10)"
   ]
  },
  {
   "cell_type": "code",
   "execution_count": null,
   "metadata": {},
   "outputs": [],
   "source": []
  }
 ],
 "metadata": {
  "kernelspec": {
   "display_name": "brian_opt",
   "language": "python",
   "name": "brian_opt"
  },
  "language_info": {
   "codemirror_mode": {
    "name": "ipython",
    "version": 3
   },
   "file_extension": ".py",
   "mimetype": "text/x-python",
   "name": "python",
   "nbconvert_exporter": "python",
   "pygments_lexer": "ipython3",
   "version": "3.7.3"
  }
 },
 "nbformat": 4,
 "nbformat_minor": 2
}
