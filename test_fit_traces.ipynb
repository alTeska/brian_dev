{
 "cells": [
  {
   "cell_type": "markdown",
   "metadata": {},
   "source": [
    "# Notebook Ilustrating a Benchmark HH Neuron to be used with Model Fitting"
   ]
  },
  {
   "cell_type": "code",
   "execution_count": 1,
   "metadata": {},
   "outputs": [],
   "source": [
    "from brian2 import *\n",
    "from brian2tools import *\n",
    "\n",
    "import matplotlib.pyplot as plt\n",
    "%matplotlib inline\n",
    "prefs.codegen.target = 'cython'  # weave is not multiprocess-safe!\n"
   ]
  },
  {
   "cell_type": "markdown",
   "metadata": {},
   "source": [
    "## HH Example"
   ]
  },
  {
   "cell_type": "code",
   "execution_count": 2,
   "metadata": {},
   "outputs": [],
   "source": [
    "area = 20000*umetre**2"
   ]
  },
  {
   "cell_type": "code",
   "execution_count": 3,
   "metadata": {},
   "outputs": [],
   "source": [
    "# Generate a step-current input and an \"experimental\" voltage trace\n",
    "dt = 0.01*ms\n",
    "input_current = np.hstack([np.zeros(int(5*ms/dt)), np.ones(int(5*ms/dt)), np.zeros(int(5*ms/dt))])*nA"
   ]
  },
  {
   "cell_type": "code",
   "execution_count": 4,
   "metadata": {},
   "outputs": [],
   "source": [
    "N, n1 = np.array([input_current]).shape"
   ]
  },
  {
   "cell_type": "code",
   "execution_count": 5,
   "metadata": {},
   "outputs": [
    {
     "name": "stdout",
     "output_type": "stream",
     "text": [
      "\"correct\" parameters: {'gl': 1e-08, 'g_na': 2e-05, 'g_kd': 6e-06}\n"
     ]
    }
   ],
   "source": [
    "params = {'gl': float(5e-5*siemens*cm**-2 * area),\n",
    "          'g_na': float(100*msiemens*cm**-2 * area),\n",
    "          'g_kd': float(30*msiemens*cm**-2 * area)}\n",
    "print ('\"correct\" parameters:', params)"
   ]
  },
  {
   "cell_type": "code",
   "execution_count": 6,
   "metadata": {},
   "outputs": [
    {
     "data": {
      "text/plain": [
       "(1497,)"
      ]
     },
     "execution_count": 6,
     "metadata": {},
     "output_type": "execute_result"
    }
   ],
   "source": [
    "input_current.shape"
   ]
  },
  {
   "cell_type": "code",
   "execution_count": 7,
   "metadata": {},
   "outputs": [],
   "source": [
    "# Parameters\n",
    "Cm = 1*ufarad*cm**-2 * area\n",
    "El = -65*mV\n",
    "EK = -90*mV\n",
    "ENa = 50*mV\n",
    "VT = -63*mV\n",
    "# gl = 5e-5*siemens*cm**-2 * area\n",
    "# g_kd = 30*msiemens*cm**-2 * area\n",
    "\n",
    "defaultclock.dt = dt\n",
    "I = TimedArray(input_current, dt=dt)"
   ]
  },
  {
   "cell_type": "code",
   "execution_count": 8,
   "metadata": {},
   "outputs": [],
   "source": [
    "# The model\n",
    "eqs = Equations('''\n",
    "dv/dt = (gl*(El-v) - g_na*(m*m*m)*h*(v-ENa) - g_kd*(n*n*n*n)*(v-EK) + I(t))/Cm : volt\n",
    "dm/dt = 0.32*(mV**-1)*(13.*mV-v+VT)/\n",
    "    (exp((13.*mV-v+VT)/(4.*mV))-1.)/ms*(1-m)-0.28*(mV**-1)*(v-VT-40.*mV)/\n",
    "    (exp((v-VT-40.*mV)/(5.*mV))-1.)/ms*m : 1\n",
    "dn/dt = 0.032*(mV**-1)*(15.*mV-v+VT)/\n",
    "    (exp((15.*mV-v+VT)/(5.*mV))-1.)/ms*(1.-n)-.5*exp((10.*mV-v+VT)/(40.*mV))/ms*n : 1\n",
    "dh/dt = 0.128*exp((17.*mV-v+VT)/(18.*mV))/ms*(1.-h)-4./(1+exp((40.*mV-v+VT)/(5.*mV)))/ms*h : 1\n",
    "g_na : siemens (constant)\n",
    "g_kd : siemens (constant)\n",
    "gl   : siemens (constant)\n",
    "''')"
   ]
  },
  {
   "cell_type": "code",
   "execution_count": 9,
   "metadata": {},
   "outputs": [],
   "source": [
    "G = NeuronGroup(1, eqs, method='exponential_euler')\n",
    "G.v = El\n",
    "G.set_states(params, units=False)\n",
    "mon = StateMonitor(G, 'v', record=0)\n",
    "run(20*ms)"
   ]
  },
  {
   "cell_type": "code",
   "execution_count": 10,
   "metadata": {},
   "outputs": [
    {
     "data": {
      "image/png": "[encoded data removed]",
      "text/plain": [
       "<Figure size 432x288 with 1 Axes>"
      ]
     },
     "metadata": {
      "needs_background": "light"
     },
     "output_type": "display_data"
    }
   ],
   "source": [
    "voltage = mon.v[0]/mV\n",
    "\n",
    "voltage += np.random.randn(len(voltage))\n",
    "\n",
    "plot(np.arange(len(voltage))*dt/ms, voltage); \n",
    "title('target voltage'); xlabel('time (ms)'); ylabel('v (mV)');"
   ]
  },
  {
   "cell_type": "code",
   "execution_count": 11,
   "metadata": {},
   "outputs": [
    {
     "data": {
      "image/png": "[encoded data removed]",
      "text/plain": [
       "<Figure size 432x288 with 2 Axes>"
      ]
     },
     "metadata": {
      "needs_background": "light"
     },
     "output_type": "display_data"
    }
   ],
   "source": [
    "fig, ax = plt.subplots(2,1)\n",
    "ax[0].plot(np.arange(len(I.values))*dt/ms, I.values);\n",
    "ax[1].plot(np.arange(len(voltage))*dt/ms, voltage); "
   ]
  },
  {
   "cell_type": "code",
   "execution_count": 12,
   "metadata": {},
   "outputs": [
    {
     "data": {
      "text/plain": [
       "(1, 1497)"
      ]
     },
     "execution_count": 12,
     "metadata": {},
     "output_type": "execute_result"
    }
   ],
   "source": [
    "inp_trace = np.array([input_current])\n",
    "n0, n1 = inp_trace.shape\n",
    "inp_trace.shape"
   ]
  },
  {
   "cell_type": "code",
   "execution_count": 13,
   "metadata": {},
   "outputs": [
    {
     "data": {
      "text/plain": [
       "(1, 1497)"
      ]
     },
     "execution_count": 13,
     "metadata": {},
     "output_type": "execute_result"
    }
   ],
   "source": [
    "out_trace = np.array([voltage[:n1]])\n",
    "out_trace.shape"
   ]
  },
  {
   "cell_type": "markdown",
   "metadata": {},
   "source": [
    "## brian2tools version "
   ]
  },
  {
   "cell_type": "code",
   "execution_count": 14,
   "metadata": {},
   "outputs": [],
   "source": [
    "eqs = Equations(\n",
    "'''\n",
    "dv/dt = (gl*(El-v) - g_na*(m*m*m)*h*(v-ENa) - g_kd*(n*n*n*n)*(v-EK) + I)/Cm : volt\n",
    "dm/dt = 0.32*(mV**-1)*(13.*mV-v+VT)/\n",
    "    (exp((13.*mV-v+VT)/(4.*mV))-1.)/ms*(1-m)-0.28*(mV**-1)*(v-VT-40.*mV)/\n",
    "    (exp((v-VT-40.*mV)/(5.*mV))-1.)/ms*m : 1\n",
    "dn/dt = 0.032*(mV**-1)*(15.*mV-v+VT)/\n",
    "    (exp((15.*mV-v+VT)/(5.*mV))-1.)/ms*(1.-n)-.5*exp((10.*mV-v+VT)/(40.*mV))/ms*n : 1\n",
    "dh/dt = 0.128*exp((17.*mV-v+VT)/(18.*mV))/ms*(1.-h)-4./(1+exp((40.*mV-v+VT)/(5.*mV)))/ms*h : 1\n",
    "g_na : siemens (constant)\n",
    "g_kd : siemens (constant)\n",
    "gl   : siemens (constant)\n",
    "''',\n",
    "Cm = 1*ufarad*cm**-2 * area,El = -65*mV,EK = -90*mV,ENa = 50*mV,VT = -63*mV)"
   ]
  },
  {
   "cell_type": "code",
   "execution_count": 15,
   "metadata": {},
   "outputs": [],
   "source": [
    "# params = {'gl': float(5e-5*siemens*cm**-2 * area),\n",
    "#           'g_na': float(100*msiemens*cm**-2 * area),\n",
    "#           'g_kd': float(30*msiemens*cm**-2 * area)}"
   ]
  },
  {
   "cell_type": "code",
   "execution_count": 16,
   "metadata": {},
   "outputs": [],
   "source": [
    "gl = [1e-5, 1e-6]*siemens*cm**-2 * area,\n",
    "g_na = [1, 200]*msiemens*cm**-2 * area,\n",
    "g_kd = [1, 100]*msiemens*cm**-2 * area,"
   ]
  },
  {
   "cell_type": "code",
   "execution_count": 17,
   "metadata": {},
   "outputs": [],
   "source": [
    "# Parameters\n",
    "Cm = 1*ufarad*cm**-2 * area\n",
    "El = -65*mV\n",
    "EK = -90*mV\n",
    "ENa = 50*mV\n",
    "VT = -63*mV\n"
   ]
  },
  {
   "cell_type": "code",
   "execution_count": 18,
   "metadata": {},
   "outputs": [
    {
     "name": "stderr",
     "output_type": "stream",
     "text": [
      "INFO       No numerical integration method specified, using method 'exponential_euler' (took 0.17s, trying other methods took 0.10s). [brian2.stateupdaters.base.method_choice]\n"
     ]
    },
    {
     "name": "stdout",
     "output_type": "stream",
     "text": [
      "input [[0. 0. 0. ... 0. 0. 0.]] A\n",
      "params: [[3.49600471e-05 1.98021473e-09 1.13032613e-05]\n",
      " [3.83550583e-05 9.87720920e-10 1.71479744e-05]\n",
      " [2.01952659e-05 1.79717086e-09 1.38845078e-05]\n",
      " [9.39542939e-06 5.12222589e-10 5.78093432e-06]\n",
      " [3.02226482e-05 6.09347744e-10 1.79392998e-05]\n",
      " [1.00399629e-05 2.36473731e-10 3.11129152e-06]\n",
      " [6.23501829e-06 9.30182716e-10 7.15947675e-06]\n",
      " [1.37345557e-05 1.36044403e-09 4.34373825e-06]\n",
      " [1.21160805e-05 1.30307284e-09 3.79998746e-06]\n",
      " [2.87162441e-05 1.24864705e-09 8.83745237e-06]\n",
      " [1.63304897e-05 1.40802687e-09 1.41545100e-05]\n",
      " [1.58622227e-05 1.65703694e-09 1.84431110e-05]\n",
      " [3.61806929e-05 8.24448615e-10 1.65698419e-05]\n",
      " [1.95419634e-05 1.50556115e-09 1.05030832e-05]\n",
      " [3.40166113e-05 4.48065031e-10 1.08136000e-06]\n",
      " [2.15949638e-05 1.21886663e-09 6.22830795e-06]\n",
      " [2.64641492e-05 1.57053573e-09 4.89619663e-06]\n",
      " [3.95771592e-05 6.30668488e-10 1.79917646e-06]\n",
      " [3.14848047e-05 2.82656848e-10 2.31552375e-06]\n",
      " [1.24697009e-05 1.85078358e-09 1.29976540e-05]\n",
      " [2.28872494e-05 1.73399760e-09 1.18813404e-05]\n",
      " [7.80532708e-06 8.69084416e-10 1.48774887e-05]\n",
      " [3.26447280e-05 1.91352279e-09 1.56576322e-05]\n",
      " [4.62270259e-06 7.68695455e-10 7.59459351e-06]\n",
      " [7.12093270e-07 1.59774629e-09 1.23226737e-05]\n",
      " [2.68628278e-05 3.38196240e-10 8.47622817e-06]\n",
      " [4.06436109e-06 7.21099272e-10 9.61551530e-06]\n",
      " [2.78724293e-06 4.04131312e-10 1.94298618e-05]\n",
      " [2.46010160e-05 1.11040922e-09 2.47340308e-07]\n",
      " [1.84158036e-05 1.07137914e-09 1.87070482e-05]]\n",
      "dictionary {'g_na': array([3.49600471e-05, 3.49600471e-05, 3.49600471e-05, ...,\n",
      "       1.84158036e-05, 1.84158036e-05, 1.84158036e-05]), 'gl': array([1.98021473e-09, 1.98021473e-09, 1.98021473e-09, ...,\n",
      "       1.07137914e-09, 1.07137914e-09, 1.07137914e-09]), 'g_kd': array([1.13032613e-05, 1.13032613e-05, 1.13032613e-05, ...,\n",
      "       1.87070482e-05, 1.87070482e-05, 1.87070482e-05])}\n",
      "params: [[1.83516393e-05 1.53568658e-09 4.63935020e-06]\n",
      " [3.20696027e-05 1.91054077e-09 5.28102766e-06]\n",
      " [1.84385832e-05 1.79717086e-09 6.62451480e-07]\n",
      " [9.39542939e-06 5.12222589e-10 6.90435965e-06]\n",
      " [2.95474936e-05 1.92091906e-09 1.79392998e-05]\n",
      " [2.43111521e-05 1.50698457e-09 7.52288711e-06]\n",
      " [3.25914214e-05 9.48897221e-10 5.74301465e-06]\n",
      " [3.85158877e-05 1.40397476e-09 1.19043364e-05]\n",
      " [1.38219638e-05 1.30307284e-09 1.24516907e-05]\n",
      " [2.48274060e-05 7.58399130e-10 7.23877520e-06]\n",
      " [3.46011171e-05 1.04015592e-09 2.67520032e-06]\n",
      " [3.87115954e-05 1.73878311e-09 1.02769131e-05]\n",
      " [3.78831718e-05 1.85595167e-09 1.44910234e-05]\n",
      " [3.61699188e-05 1.93314049e-09 1.05030832e-05]\n",
      " [3.40166113e-05 1.91054077e-09 5.28102766e-06]\n",
      " [3.39472221e-05 1.72373242e-09 8.95378595e-06]\n",
      " [2.82325169e-05 1.62750541e-09 4.89619663e-06]\n",
      " [3.35245639e-05 6.30668488e-10 1.79917646e-06]\n",
      " [8.57311771e-06 1.68553529e-09 2.31552375e-06]\n",
      " [3.19470504e-05 1.85078358e-09 1.49460927e-05]\n",
      " [3.63310647e-05 1.63692411e-09 7.58765154e-06]\n",
      " [7.80532708e-06 1.53465021e-09 5.40440954e-06]\n",
      " [1.28796438e-05 1.91352279e-09 1.57150812e-05]\n",
      " [4.62270259e-06 7.36519474e-10 1.33601339e-05]\n",
      " [5.47533762e-06 1.27956454e-09 1.66927059e-05]\n",
      " [1.19950815e-05 1.89407881e-09 1.47655213e-05]\n",
      " [9.27101698e-06 1.14142673e-09 1.54331976e-05]\n",
      " [9.30000422e-06 1.08105612e-09 1.94298618e-05]\n",
      " [2.55093958e-05 1.45095946e-09 7.80611422e-06]\n",
      " [1.84158036e-05 1.25607773e-09 1.87070482e-05]]\n",
      "dictionary {'g_na': array([1.83516393e-05, 1.83516393e-05, 1.83516393e-05, ...,\n",
      "       1.84158036e-05, 1.84158036e-05, 1.84158036e-05]), 'gl': array([1.53568658e-09, 1.53568658e-09, 1.53568658e-09, ...,\n",
      "       1.25607773e-09, 1.25607773e-09, 1.25607773e-09]), 'g_kd': array([4.63935020e-06, 4.63935020e-06, 4.63935020e-06, ...,\n",
      "       1.87070482e-05, 1.87070482e-05, 1.87070482e-05])}\n",
      "differential_evolution step 1: f(x)= 0.00474837\n",
      "params: [[1.03088178e-05 1.98021473e-09 9.07277564e-06]\n",
      " [1.42987897e-05 7.37746992e-10 5.28102766e-06]\n",
      " [3.74459999e-05 3.64316288e-10 1.38845078e-05]\n",
      " [2.98893668e-05 1.72812476e-09 5.78093432e-06]\n",
      " [3.13428487e-05 1.73865013e-09 2.15043827e-06]\n",
      " [1.39599022e-05 1.63563672e-09 6.74137514e-06]\n",
      " [7.92796386e-06 8.86526055e-10 1.57851561e-05]\n",
      " [3.79926406e-05 1.40397476e-09 9.27190619e-06]\n",
      " [3.29322061e-05 1.30307284e-09 1.44548439e-05]\n",
      " [3.13291739e-05 1.16345494e-09 7.43968559e-06]\n",
      " [8.74869981e-06 1.40802687e-09 7.97031497e-06]\n",
      " [3.79502577e-05 1.93799817e-09 1.84258258e-05]\n",
      " [3.60622200e-05 1.96233625e-09 1.09459830e-05]\n",
      " [3.60209953e-05 1.97790858e-09 3.27849813e-06]\n",
      " [3.32411213e-05 1.91054077e-09 1.01051099e-05]\n",
      " [3.39472221e-05 9.61149879e-10 8.13389484e-06]\n",
      " [2.82325169e-05 1.52207640e-09 1.60681291e-05]\n",
      " [6.01160411e-06 6.30668488e-10 1.80392222e-05]\n",
      " [3.49063849e-05 1.83574621e-09 2.31552375e-06]\n",
      " [1.45536743e-05 1.75232393e-09 1.29976540e-05]\n",
      " [1.42539542e-05 8.81345669e-10 7.65138017e-06]\n",
      " [2.26060246e-05 1.53465021e-09 1.39182913e-05]\n",
      " [2.06467220e-05 1.90034248e-09 9.30705041e-06]\n",
      " [4.62270259e-06 7.68695455e-10 8.13389484e-06]\n",
      " [7.12093270e-07 1.33873149e-09 1.37777575e-05]\n",
      " [2.48757789e-05 1.62531411e-09 1.53181467e-05]\n",
      " [3.96930932e-05 1.41123955e-09 1.48095587e-05]\n",
      " [2.97573012e-05 1.70744643e-09 6.34834791e-06]\n",
      " [2.55093958e-05 9.72945989e-10 4.57208155e-06]\n",
      " [1.07096685e-05 1.25607773e-09 1.67489292e-05]]\n",
      "dictionary {'g_na': array([1.03088178e-05, 1.03088178e-05, 1.03088178e-05, ...,\n",
      "       1.07096685e-05, 1.07096685e-05, 1.07096685e-05]), 'gl': array([1.98021473e-09, 1.98021473e-09, 1.98021473e-09, ...,\n",
      "       1.25607773e-09, 1.25607773e-09, 1.25607773e-09]), 'g_kd': array([9.07277564e-06, 9.07277564e-06, 9.07277564e-06, ...,\n",
      "       1.67489292e-05, 1.67489292e-05, 1.67489292e-05])}\n",
      "differential_evolution step 2: f(x)= 0.00474837\n",
      "params: [[3.55368580e-05 4.91566688e-10 9.73090377e-06]\n",
      " [2.61617473e-05 1.52164070e-09 1.35056620e-05]\n",
      " [3.82707371e-05 1.65124491e-09 1.33356143e-05]\n",
      " [2.46540693e-05 1.93479031e-09 1.01624852e-05]\n",
      " [3.69883367e-05 1.99437248e-09 1.80810585e-05]\n",
      " [3.31916704e-05 1.44962992e-09 6.74137514e-06]\n",
      " [3.25914214e-05 9.19207630e-10 5.74301465e-06]\n",
      " [3.81897694e-05 1.40397476e-09 1.19043364e-05]\n",
      " [5.43831905e-06 1.32876777e-09 4.61747939e-06]\n",
      " [3.61823832e-05 1.86285322e-09 1.51256650e-05]\n",
      " [3.38358613e-05 1.88615633e-09 1.15610261e-05]\n",
      " [3.79502577e-05 1.93799817e-09 9.34666456e-06]\n",
      " [3.58586981e-05 1.70860439e-09 9.43862073e-06]\n",
      " [3.60209953e-05 1.97790858e-09 1.20520280e-05]\n",
      " [6.51442581e-06 1.26802794e-09 5.28102766e-06]\n",
      " [3.37377111e-05 1.91839620e-09 7.48085771e-06]\n",
      " [3.35719910e-05 1.31870211e-09 1.23361461e-05]\n",
      " [3.75469511e-05 1.85157655e-09 1.79917646e-06]\n",
      " [2.05111678e-05 1.38991222e-09 7.14575054e-06]\n",
      " [3.37377111e-05 9.93882077e-10 1.29976540e-05]\n",
      " [2.24487605e-05 1.78639586e-09 1.13668802e-05]\n",
      " [5.81840916e-06 1.07397687e-09 5.40440954e-06]\n",
      " [2.96488742e-05 1.98404618e-09 1.63922796e-05]\n",
      " [4.62270259e-06 7.68695455e-10 9.53309587e-06]\n",
      " [2.28163921e-05 1.59774629e-09 1.63147089e-05]\n",
      " [2.63542990e-05 1.48869672e-09 1.65018853e-05]\n",
      " [3.96930932e-05 1.84485231e-09 1.48095587e-05]\n",
      " [3.69507694e-05 1.75191794e-09 1.18997662e-05]\n",
      " [3.34973290e-05 1.79603900e-09 7.80611422e-06]\n",
      " [1.84158036e-05 3.83674411e-10 8.47217122e-06]]\n",
      "dictionary {'g_na': array([3.55368580e-05, 3.55368580e-05, 3.55368580e-05, ...,\n",
      "       1.84158036e-05, 1.84158036e-05, 1.84158036e-05]), 'gl': array([4.91566688e-10, 4.91566688e-10, 4.91566688e-10, ...,\n",
      "       3.83674411e-10, 3.83674411e-10, 3.83674411e-10]), 'g_kd': array([9.73090377e-06, 9.73090377e-06, 9.73090377e-06, ...,\n",
      "       8.47217122e-06, 8.47217122e-06, 8.47217122e-06])}\n",
      "differential_evolution step 3: f(x)= 0.00474836\n",
      "params: [[3.69883367e-05 1.99437248e-09 1.62844232e-05]\n",
      " [3.66404283e-05 1.91765865e-09 1.97728146e-05]\n",
      " [3.83312328e-05 5.35951666e-10 1.67394049e-05]\n",
      " [3.45700441e-05 1.96693043e-09 1.16567511e-05]\n",
      " [3.85517368e-05 1.68693334e-09 1.59228346e-05]\n",
      " [3.85517368e-05 1.68693334e-09 1.59228346e-05]\n",
      " [2.24212220e-05 9.48897221e-10 5.83899074e-06]\n",
      " [1.35513912e-05 1.40397476e-09 1.37907446e-05]\n",
      " [1.13623941e-05 3.05636027e-10 4.61747939e-06]\n",
      " [3.91661891e-05 1.57080806e-09 9.18432246e-06]\n",
      " [2.77915655e-05 8.89718295e-10 1.15610261e-05]\n",
      " [3.79502577e-05 1.78480661e-09 1.32761513e-05]\n",
      " [1.33320984e-05 1.73967156e-09 1.19948539e-05]\n",
      " [3.60209953e-05 1.97790858e-09 1.74868847e-05]\n",
      " [1.19212002e-05 1.83477759e-09 1.41041849e-05]\n",
      " [3.73877662e-05 1.91839620e-09 1.13138710e-05]\n",
      " [3.56957706e-05 1.81713102e-09 7.93266036e-06]\n",
      " [3.75469511e-05 1.85157655e-09 1.50711668e-05]\n",
      " [3.56719473e-05 1.46613568e-09 2.31552375e-06]\n",
      " [7.77329110e-06 1.85078358e-09 4.81523129e-06]\n",
      " [3.54309636e-05 1.96493354e-09 1.13668802e-05]\n",
      " [3.75836466e-05 1.85339654e-09 1.87200736e-05]\n",
      " [3.77563273e-05 2.28700098e-10 1.92453776e-05]\n",
      " [1.57528751e-05 1.36112024e-09 7.59459351e-06]\n",
      " [1.16504340e-05 7.44097945e-10 1.56656264e-05]\n",
      " [1.19950815e-05 1.55063272e-09 5.93665040e-06]\n",
      " [3.96930932e-05 5.77032388e-10 1.56411283e-05]\n",
      " [3.69507694e-05 1.91963448e-09 1.94556358e-05]\n",
      " [3.34973290e-05 1.79603900e-09 1.17798019e-05]\n",
      " [3.64855091e-05 1.60193002e-09 1.83079169e-05]]\n",
      "dictionary {'g_na': array([3.69883367e-05, 3.69883367e-05, 3.69883367e-05, ...,\n",
      "       3.64855091e-05, 3.64855091e-05, 3.64855091e-05]), 'gl': array([1.99437248e-09, 1.99437248e-09, 1.99437248e-09, ...,\n",
      "       1.60193002e-09, 1.60193002e-09, 1.60193002e-09]), 'g_kd': array([1.62844232e-05, 1.62844232e-05, 1.62844232e-05, ...,\n",
      "       1.83079169e-05, 1.83079169e-05, 1.83079169e-05])}\n",
      "differential_evolution step 4: f(x)= 0.00474836\n",
      "params: [[3.77186776e-05 1.98833701e-09 1.09484868e-05]\n",
      " [3.66496097e-05 1.91765865e-09 1.84747444e-05]\n",
      " [3.95178961e-05 1.79717086e-09 1.39571026e-05]\n",
      " [8.56521361e-06 1.96693043e-09 1.91063413e-05]\n",
      " [3.25452899e-05 1.99437248e-09 1.80810585e-05]\n",
      " [3.85517368e-05 2.28172424e-10 1.59228346e-05]\n",
      " [3.83428343e-05 1.83863740e-09 5.74301465e-06]\n",
      " [3.31873967e-05 1.40397476e-09 1.32284842e-05]\n",
      " [3.62117621e-05 1.32876777e-09 1.59336120e-05]\n",
      " [3.61823832e-05 1.86285322e-09 1.50710664e-05]\n",
      " [9.38044874e-06 7.75730270e-10 1.84362012e-05]\n",
      " [3.79502577e-05 1.86219437e-09 1.92380178e-05]\n",
      " [3.60622200e-05 1.69180803e-09 1.09459830e-05]\n",
      " [3.76356636e-05 1.96907012e-09 6.22733730e-06]\n",
      " [1.23823677e-05 1.91054077e-09 3.02451788e-06]\n",
      " [3.53010763e-05 1.91839620e-09 7.48085771e-06]\n",
      " [2.36762607e-05 1.81713102e-09 1.70715730e-06]\n",
      " [3.47629676e-05 4.20290485e-10 1.22740177e-05]\n",
      " [2.44302776e-05 1.06234424e-09 1.33959148e-05]\n",
      " [3.93215367e-05 4.88545748e-10 1.29976540e-05]\n",
      " [3.54309636e-05 1.65138117e-09 1.03538543e-05]\n",
      " [1.77549921e-05 1.43069001e-09 1.57314459e-05]\n",
      " [1.45807284e-05 1.45751828e-09 9.82517955e-06]\n",
      " [3.49824559e-05 1.97528074e-09 1.42494100e-05]\n",
      " [7.12093270e-07 1.59774629e-09 1.29489568e-05]\n",
      " [3.80473305e-05 1.96360498e-09 1.47655213e-05]\n",
      " [3.70084434e-05 1.01255451e-09 1.73453604e-05]\n",
      " [3.68083212e-05 8.76971702e-10 6.36333980e-07]\n",
      " [3.84016143e-05 6.30700137e-10 7.80611422e-06]\n",
      " [2.47859838e-05 1.60193002e-09 1.36236370e-05]]\n",
      "dictionary {'g_na': array([3.77186776e-05, 3.77186776e-05, 3.77186776e-05, ...,\n",
      "       2.47859838e-05, 2.47859838e-05, 2.47859838e-05]), 'gl': array([1.98833701e-09, 1.98833701e-09, 1.98833701e-09, ...,\n",
      "       1.60193002e-09, 1.60193002e-09, 1.60193002e-09]), 'g_kd': array([1.09484868e-05, 1.09484868e-05, 1.09484868e-05, ...,\n",
      "       1.36236370e-05, 1.36236370e-05, 1.36236370e-05])}\n",
      "differential_evolution step 5: f(x)= 0.00474836\n",
      "params: [[3.76421596e-05 1.94671126e-09 5.11770581e-06]\n",
      " [3.42409507e-05 1.92994640e-09 1.12583836e-05]\n",
      " [3.78934953e-05 8.67805757e-10 5.96249548e-06]\n",
      " [3.10010257e-05 1.96693043e-09 1.66143784e-05]\n",
      " [8.52514098e-07 1.00312259e-09 7.78915292e-06]\n",
      " [3.75623615e-05 1.98504021e-09 1.91038618e-05]\n",
      " [3.41424264e-05 1.83863740e-09 5.74301465e-06]\n",
      " [3.61651419e-05 1.88047460e-09 1.88840004e-05]\n",
      " [1.96671139e-05 1.10607986e-09 4.61747939e-06]\n",
      " [2.79195068e-05 2.37302485e-10 5.86356440e-06]\n",
      " [3.55761009e-05 3.12007256e-10 1.77551992e-05]\n",
      " [1.04214697e-05 1.81129929e-09 1.76732503e-05]\n",
      " [3.37066821e-05 1.87351676e-09 1.30616380e-05]\n",
      " [3.60209953e-05 1.97790858e-09 1.56428728e-05]\n",
      " [3.96070770e-05 1.90963806e-09 1.18498268e-05]\n",
      " [3.23924919e-05 1.99879918e-09 1.64469828e-05]\n",
      " [3.70591268e-05 1.97111971e-09 7.93266036e-06]\n",
      " [1.95838368e-05 1.85157655e-09 1.62652383e-05]\n",
      " [3.54301275e-05 1.42311877e-09 8.37052305e-06]\n",
      " [1.80991496e-05 1.64660261e-09 1.83286685e-05]\n",
      " [3.54309636e-05 1.87938149e-09 1.52153876e-05]\n",
      " [3.75836466e-05 1.60735585e-09 1.87200736e-05]\n",
      " [2.96488742e-05 1.56821426e-09 7.37914860e-06]\n",
      " [3.42144844e-05 7.23907919e-10 9.97485769e-06]\n",
      " [7.12093270e-07 8.48274754e-10 1.63035443e-05]\n",
      " [3.05672134e-05 1.77932014e-09 1.84196422e-05]\n",
      " [3.53118020e-05 1.96268104e-09 1.55818627e-05]\n",
      " [3.70750036e-05 1.91963448e-09 1.60100334e-05]\n",
      " [3.34973290e-05 1.97165166e-09 7.80611422e-06]\n",
      " [3.73521360e-05 1.79482512e-09 1.89157621e-05]]\n",
      "dictionary {'g_na': array([3.76421596e-05, 3.76421596e-05, 3.76421596e-05, ...,\n",
      "       3.73521360e-05, 3.73521360e-05, 3.73521360e-05]), 'gl': array([1.94671126e-09, 1.94671126e-09, 1.94671126e-09, ...,\n",
      "       1.79482512e-09, 1.79482512e-09, 1.79482512e-09]), 'g_kd': array([5.11770581e-06, 5.11770581e-06, 5.11770581e-06, ...,\n",
      "       1.89157621e-05, 1.89157621e-05, 1.89157621e-05])}\n",
      "differential_evolution step 6: f(x)= 0.00474836\n",
      "params: [[3.23924919e-05 1.74790819e-09 1.51665678e-05]\n",
      " [3.05692174e-05 1.98899506e-09 1.64106297e-05]\n",
      " [7.58131327e-06 1.79717086e-09 1.48235854e-05]\n",
      " [3.45700441e-05 1.96693043e-09 9.71395601e-06]\n",
      " [3.46761886e-05 1.72518854e-09 1.87247261e-05]\n",
      " [3.44600340e-05 1.98504021e-09 1.19948033e-05]\n",
      " [2.82890342e-06 6.40509385e-10 1.86500904e-05]\n",
      " [3.02504667e-05 1.94233665e-09 1.88840004e-05]\n",
      " [3.08495109e-05 1.68057304e-09 1.48091852e-05]\n",
      " [3.61823832e-05 1.79684167e-09 1.17530430e-05]\n",
      " [2.48568475e-06 1.88615633e-09 1.15610261e-05]\n",
      " [3.03897986e-05 7.99130330e-10 1.17530430e-05]\n",
      " [3.42519714e-05 1.07062426e-09 1.17531850e-05]\n",
      " [3.17299962e-05 1.97790858e-09 1.84494901e-05]\n",
      " [3.19860576e-05 1.95533372e-09 1.66807546e-05]\n",
      " [2.37364262e-05 8.60307287e-10 1.58118090e-05]\n",
      " [3.26605098e-05 1.97111971e-09 9.56824919e-06]\n",
      " [3.75469511e-05 1.97906797e-09 1.25352039e-05]\n",
      " [3.49063849e-05 7.25684433e-10 9.24737249e-06]\n",
      " [3.03732718e-05 1.49135812e-09 1.29976540e-05]\n",
      " [3.54309636e-05 1.96458460e-09 3.50546708e-06]\n",
      " [1.20687362e-05 1.56741183e-09 1.73368044e-05]\n",
      " [3.27375816e-05 1.95818785e-09 1.63922796e-05]\n",
      " [3.54162011e-05 1.99345174e-09 1.21059233e-05]\n",
      " [7.12093270e-07 3.31895593e-10 1.49172153e-05]\n",
      " [3.80473305e-05 1.83871469e-09 5.37114463e-06]\n",
      " [2.72584580e-05 1.96268104e-09 1.58576230e-05]\n",
      " [2.94899068e-05 1.91963448e-09 1.64319586e-05]\n",
      " [3.66270929e-05 1.99472042e-09 7.73220287e-06]\n",
      " [3.46874800e-05 1.96423109e-09 1.89157621e-05]]\n",
      "dictionary {'g_na': array([3.23924919e-05, 3.23924919e-05, 3.23924919e-05, ...,\n",
      "       3.46874800e-05, 3.46874800e-05, 3.46874800e-05]), 'gl': array([1.74790819e-09, 1.74790819e-09, 1.74790819e-09, ...,\n",
      "       1.96423109e-09, 1.96423109e-09, 1.96423109e-09]), 'g_kd': array([1.51665678e-05, 1.51665678e-05, 1.51665678e-05, ...,\n",
      "       1.89157621e-05, 1.89157621e-05, 1.89157621e-05])}\n",
      "differential_evolution step 7: f(x)= 0.00474836\n",
      "params: [[3.12182113e-05 1.96955639e-09 1.72298101e-05]\n",
      " [1.62608117e-05 1.80485809e-09 1.70988676e-05]\n",
      " [3.40384027e-05 1.86487958e-09 1.89005278e-05]\n",
      " [3.10258548e-05 1.82164731e-09 1.17500533e-05]\n",
      " [2.97069311e-05 1.99789211e-09 1.80810585e-05]\n",
      " [1.41155819e-05 7.72790948e-10 1.48459970e-05]\n",
      " [3.83428343e-05 1.83863740e-09 1.78217084e-05]\n",
      " [1.32326246e-05 1.89615877e-09 1.28311583e-05]\n",
      " [3.08495109e-05 1.97730467e-09 1.64158012e-05]\n",
      " [1.46235846e-05 1.86311230e-09 1.30963491e-05]\n",
      " [3.31378121e-05 1.88615633e-09 3.70696520e-06]\n",
      " [2.88302675e-05 1.79017186e-09 1.84258258e-05]\n",
      " [3.60622200e-05 1.02443258e-09 1.06310799e-05]\n",
      " [3.60209953e-05 1.87884408e-09 1.25414524e-05]\n",
      " [2.84647450e-05 1.43197456e-09 1.01748970e-05]\n",
      " [3.86943585e-05 1.58254701e-09 1.80868992e-05]\n",
      " [2.51671417e-05 1.97111971e-09 1.39753427e-05]\n",
      " [1.33022178e-05 1.73853474e-09 1.36951915e-05]\n",
      " [3.32471709e-05 1.90079483e-09 1.59991181e-05]\n",
      " [2.57813632e-05 1.85078358e-09 1.26075314e-05]\n",
      " [2.94240144e-05 1.96493354e-09 1.23678889e-05]\n",
      " [2.87491895e-05 1.90758467e-09 1.54905995e-05]\n",
      " [3.31079020e-05 1.67218996e-09 9.76153373e-06]\n",
      " [2.42427431e-05 1.85441765e-09 1.21059233e-05]\n",
      " [2.96989897e-05 1.98431566e-09 1.63932788e-05]\n",
      " [3.74888240e-05 1.85605249e-09 1.86785529e-05]\n",
      " [3.73033984e-05 5.50956097e-10 1.55818627e-05]\n",
      " [7.75785963e-07 1.91963448e-09 1.62341915e-05]\n",
      " [3.66270929e-05 1.86589843e-09 1.09324498e-05]\n",
      " [3.17727661e-05 9.66566636e-10 1.68601918e-05]]\n",
      "dictionary {'g_na': array([3.12182113e-05, 3.12182113e-05, 3.12182113e-05, ...,\n",
      "       3.17727661e-05, 3.17727661e-05, 3.17727661e-05]), 'gl': array([1.96955639e-09, 1.96955639e-09, 1.96955639e-09, ...,\n",
      "       9.66566636e-10, 9.66566636e-10, 9.66566636e-10]), 'g_kd': array([1.72298101e-05, 1.72298101e-05, 1.72298101e-05, ...,\n",
      "       1.68601918e-05, 1.68601918e-05, 1.68601918e-05])}\n",
      "differential_evolution step 8: f(x)= 0.00474836\n",
      "params: [[3.06481949e-05 1.98941973e-09 1.64122044e-05]\n",
      " [3.19170392e-05 1.94649032e-09 1.63849918e-05]\n",
      " [3.50054950e-05 1.30428270e-09 1.89005278e-05]\n",
      " [2.70165623e-05 1.50243475e-09 1.51300696e-05]\n",
      " [3.78312853e-05 1.98556157e-09 1.53935031e-05]\n",
      " [3.07610111e-05 2.35787289e-10 1.18756490e-05]\n",
      " [3.83428343e-05 1.98866274e-09 1.95573794e-05]\n",
      " [2.98591965e-05 1.95144799e-09 1.67543971e-05]\n",
      " [3.20784287e-05 6.21660826e-10 1.92564679e-05]\n",
      " [2.87933138e-05 1.86311230e-09 1.30963491e-05]\n",
      " [2.76638254e-05 1.88615633e-09 1.44631704e-05]\n",
      " [3.37873350e-05 1.11609146e-09 1.65108972e-05]\n",
      " [2.90445132e-05 7.96592419e-10 1.47264027e-05]\n",
      " [3.60545338e-05 1.97790858e-09 1.53580777e-05]\n",
      " [2.86059540e-05 1.95533372e-09 1.53909028e-05]\n",
      " [3.23924919e-05 1.03599056e-09 1.31669212e-05]\n",
      " [3.56924150e-05 1.95854637e-09 7.93266036e-06]\n",
      " [3.70537597e-05 1.98992734e-09 1.53782707e-05]\n",
      " [3.63436329e-05 1.90079483e-09 1.84155627e-05]\n",
      " [2.67999292e-05 2.68449648e-10 1.29976540e-05]\n",
      " [3.86790871e-05 3.40532983e-10 1.86807488e-05]\n",
      " [3.19836938e-05 8.94715683e-10 1.54905995e-05]\n",
      " [2.96488742e-05 1.98404618e-09 1.91765819e-05]\n",
      " [3.54162011e-05 1.92339574e-09 1.62955934e-05]\n",
      " [3.11489885e-05 4.95304627e-10 1.63932788e-05]\n",
      " [3.13595126e-05 1.94778349e-09 1.47655213e-05]\n",
      " [3.53118020e-05 1.99081517e-09 1.63830684e-05]\n",
      " [3.69507694e-05 1.35725967e-09 1.58695029e-05]\n",
      " [3.26556965e-05 7.45935133e-10 1.62955934e-05]\n",
      " [3.46874800e-05 1.96423109e-09 9.22514098e-06]]\n",
      "dictionary {'g_na': array([3.06481949e-05, 3.06481949e-05, 3.06481949e-05, ...,\n",
      "       3.46874800e-05, 3.46874800e-05, 3.46874800e-05]), 'gl': array([1.98941973e-09, 1.98941973e-09, 1.98941973e-09, ...,\n",
      "       1.96423109e-09, 1.96423109e-09, 1.96423109e-09]), 'g_kd': array([1.64122044e-05, 1.64122044e-05, 1.64122044e-05, ...,\n",
      "       9.22514098e-06, 9.22514098e-06, 9.22514098e-06])}\n",
      "differential_evolution step 9: f(x)= 0.00474836\n",
      "params: [[3.23924919e-05 1.99957957e-09 1.64469828e-05]\n",
      " [2.09362275e-05 1.76067829e-09 1.49267887e-05]\n",
      " [3.35208641e-05 1.60893216e-09 1.89005278e-05]\n",
      " [3.45700441e-05 1.33367347e-09 1.49130743e-05]\n",
      " [2.91668200e-05 1.59576213e-09 1.87090989e-05]\n",
      " [3.29603392e-05 1.97144882e-09 1.54274013e-05]\n",
      " [3.53634257e-05 1.98866274e-09 1.95573794e-05]\n",
      " [2.75641712e-05 5.63848030e-10 2.42982561e-06]\n",
      " [3.46846864e-05 3.95624608e-10 1.94227444e-05]\n",
      " [2.86702997e-05 1.81401236e-09 1.92523520e-06]\n",
      " [3.38358613e-05 1.91146972e-09 1.15610261e-05]\n",
      " [3.02849612e-05 1.93799817e-09 1.68132451e-05]\n",
      " [3.51304800e-05 1.43753503e-09 1.46642660e-05]\n",
      " [3.86340114e-05 1.97790858e-09 1.82137839e-05]\n",
      " [3.19860576e-05 1.99018141e-09 1.66807546e-05]\n",
      " [3.12296933e-05 1.94066633e-09 6.24342055e-06]\n",
      " [3.16345467e-05 9.43043517e-10 7.93266036e-06]\n",
      " [2.60006125e-05 1.93698483e-09 4.25363300e-06]\n",
      " [2.98654861e-05 1.90079483e-09 1.62816441e-05]\n",
      " [3.58904831e-05 1.61300884e-09 1.90270314e-05]\n",
      " [3.53636821e-05 1.97336787e-09 1.30163959e-05]\n",
      " [3.83414376e-05 1.90758467e-09 8.51652101e-06]\n",
      " [3.05060281e-05 1.23230910e-09 1.63922796e-05]\n",
      " [3.89060653e-05 1.99345174e-09 9.01102150e-06]\n",
      " [1.27670127e-05 1.94911647e-09 1.08572028e-05]\n",
      " [3.12203390e-05 1.98677673e-09 1.25519070e-05]\n",
      " [3.09613449e-05 1.99336156e-09 1.63830684e-05]\n",
      " [2.75072447e-05 1.98796569e-09 1.47075900e-05]\n",
      " [1.95493804e-05 8.92840826e-10 7.81714294e-06]\n",
      " [3.46874800e-05 1.91046663e-09 1.49797891e-05]]\n",
      "dictionary {'g_na': array([3.23924919e-05, 3.23924919e-05, 3.23924919e-05, ...,\n",
      "       3.46874800e-05, 3.46874800e-05, 3.46874800e-05]), 'gl': array([1.99957957e-09, 1.99957957e-09, 1.99957957e-09, ...,\n",
      "       1.91046663e-09, 1.91046663e-09, 1.91046663e-09]), 'g_kd': array([1.64469828e-05, 1.64469828e-05, 1.64469828e-05, ...,\n",
      "       1.49797891e-05, 1.49797891e-05, 1.49797891e-05])}\n",
      "differential_evolution step 10: f(x)= 0.00474836\n",
      "params: [[3.32035716e-05 2.72984230e-10 1.17568763e-05]\n",
      " [3.53943304e-05 1.96975289e-09 1.19471636e-05]\n",
      " [3.40384027e-05 1.29878673e-09 1.82103321e-05]\n",
      " [3.60561620e-05 8.63158264e-10 1.16567511e-05]\n",
      " [3.39056317e-05 1.93519339e-09 1.22590435e-05]\n",
      " [3.39056317e-05 1.98504021e-09 1.22590435e-05]\n",
      " [2.71463735e-05 1.98866274e-09 7.05849885e-06]\n",
      " [2.67317978e-05 6.72009119e-10 1.37731236e-05]\n",
      " [3.48294391e-05 1.19136112e-09 6.66958177e-06]\n",
      " [3.04932270e-05 1.99078267e-09 1.30963491e-05]\n",
      " [3.20751927e-05 1.89544851e-09 1.70016164e-05]\n",
      " [3.06369321e-05 2.75072249e-10 1.07226673e-05]\n",
      " [3.41480517e-05 1.99269893e-09 9.48235896e-06]\n",
      " [3.45892813e-05 1.16231097e-09 3.27849813e-06]\n",
      " [2.99215388e-05 1.91267512e-09 4.49954883e-06]\n",
      " [3.70270752e-05 8.89627242e-10 9.37057259e-06]\n",
      " [3.58174483e-05 1.94021200e-09 1.24950162e-05]\n",
      " [3.45957774e-05 1.21782565e-09 1.53782707e-05]\n",
      " [3.68951625e-05 4.24100933e-10 1.33892968e-05]\n",
      " [3.48634450e-05 9.20126321e-10 1.29976540e-05]\n",
      " [3.16139458e-05 1.33168371e-09 1.92685346e-05]\n",
      " [3.58563966e-05 1.99560479e-09 9.31829060e-06]\n",
      " [3.01235029e-05 1.93650050e-09 9.07694997e-06]\n",
      " [3.54162011e-05 1.94984433e-09 1.80656769e-05]\n",
      " [2.96989897e-05 1.31169180e-09 1.60048418e-05]\n",
      " [3.12203390e-05 1.89395432e-09 1.78091636e-05]\n",
      " [3.19764555e-05 8.13421398e-10 1.63830684e-05]\n",
      " [3.77012395e-05 1.98495754e-09 1.47075900e-05]\n",
      " [3.28041380e-05 1.99472042e-09 2.71011109e-06]\n",
      " [3.54298039e-05 1.99860700e-09 1.46836335e-05]]\n",
      "dictionary {'g_na': array([3.32035716e-05, 3.32035716e-05, 3.32035716e-05, ...,\n",
      "       3.54298039e-05, 3.54298039e-05, 3.54298039e-05]), 'gl': array([2.7298423e-10, 2.7298423e-10, 2.7298423e-10, ..., 1.9986070e-09,\n",
      "       1.9986070e-09, 1.9986070e-09]), 'g_kd': array([1.17568763e-05, 1.17568763e-05, 1.17568763e-05, ...,\n",
      "       1.46836335e-05, 1.46836335e-05, 1.46836335e-05])}\n",
      "differential_evolution step 11: f(x)= 0.00474836\n",
      "params: [[3.23924919e-05 1.99957957e-09 1.34591813e-05]\n",
      " [3.05692174e-05 1.99724384e-09 1.99570074e-05]\n",
      " [1.52318662e-05 1.31874426e-09 1.91499294e-05]\n",
      " [1.37203346e-05 1.88395296e-09 1.93846210e-05]\n",
      " [2.97069311e-05 1.99856990e-09 1.80810585e-05]\n",
      " [3.75740965e-05 1.98530773e-09 9.67809247e-06]\n",
      " [3.23924919e-05 1.99895650e-09 1.64469828e-05]\n",
      " [3.42462700e-05 6.09725213e-10 1.67543971e-05]\n",
      " [2.88356929e-05 1.97730467e-09 1.98618956e-05]\n",
      " [3.04932270e-05 4.21887273e-10 1.51019108e-05]\n",
      " [3.27059287e-05 5.80409473e-10 1.15610261e-05]\n",
      " [3.82625540e-05 1.97820424e-09 8.34440649e-06]\n",
      " [3.50612825e-05 1.93625536e-09 1.52211665e-05]\n",
      " [3.33110788e-05 1.99398193e-09 3.27849813e-06]\n",
      " [3.82646093e-05 3.52122029e-10 1.56365907e-05]\n",
      " [3.21857086e-05 6.96008069e-10 1.95058180e-05]\n",
      " [3.64609173e-05 1.31571678e-09 1.92879320e-05]\n",
      " [3.33940277e-05 1.99596234e-09 1.50912915e-05]\n",
      " [3.32471709e-05 5.32391936e-10 1.88824664e-05]\n",
      " [3.33047384e-05 1.98314237e-09 1.51174258e-05]\n",
      " [2.92298749e-05 2.09675529e-10 1.91719346e-05]\n",
      " [3.35351331e-05 3.64609237e-10 1.64980126e-05]\n",
      " [2.96488742e-05 4.37958379e-10 1.51011130e-05]\n",
      " [2.99807175e-05 1.91475645e-09 1.21059233e-05]\n",
      " [3.40107335e-05 1.93093081e-09 1.91992685e-05]\n",
      " [3.67873248e-05 1.18294330e-09 1.25519070e-05]\n",
      " [3.20475520e-05 1.32956607e-09 1.62869356e-05]\n",
      " [3.38878676e-05 1.98777082e-09 1.14937621e-05]\n",
      " [3.82688945e-05 1.98904380e-09 9.69194558e-06]\n",
      " [3.54298039e-05 1.99984490e-09 1.39345883e-05]]\n",
      "dictionary {'g_na': array([3.23924919e-05, 3.23924919e-05, 3.23924919e-05, ...,\n",
      "       3.54298039e-05, 3.54298039e-05, 3.54298039e-05]), 'gl': array([1.99957957e-09, 1.99957957e-09, 1.99957957e-09, ...,\n",
      "       1.99984490e-09, 1.99984490e-09, 1.99984490e-09]), 'g_kd': array([1.34591813e-05, 1.34591813e-05, 1.34591813e-05, ...,\n",
      "       1.39345883e-05, 1.39345883e-05, 1.39345883e-05])}\n",
      "differential_evolution step 12: f(x)= 0.00474836\n",
      "params: [[3.61425499e-05 1.99984490e-09 1.51556504e-05]\n",
      " [2.16255969e-05 1.99492800e-09 1.08647396e-05]\n",
      " [3.85406480e-05 1.99697610e-09 7.53249240e-06]\n",
      " [3.11558866e-05 1.96693043e-09 7.85019743e-06]\n",
      " [3.42398363e-05 1.99643175e-09 1.80810585e-05]\n",
      " [3.75740965e-05 1.99231141e-09 1.26770113e-05]\n",
      " [3.46482748e-05 1.98823444e-09 1.07340949e-05]\n",
      " [3.22544879e-05 1.89169146e-09 1.48774827e-05]\n",
      " [3.27020718e-05 1.99890576e-09 1.61909054e-05]\n",
      " [3.47526343e-05 1.99078267e-09 1.30963491e-05]\n",
      " [3.47421316e-05 1.99678725e-09 1.02265759e-05]\n",
      " [3.83333370e-05 1.99872956e-09 8.34440649e-06]\n",
      " [2.77462181e-05 1.00865330e-09 8.67187806e-06]\n",
      " [3.28857837e-05 1.84865246e-09 1.89549874e-05]\n",
      " [3.55099924e-05 1.99018141e-09 1.39111178e-05]\n",
      " [3.23924919e-05 9.23381491e-10 1.19204449e-05]\n",
      " [3.70591268e-05 1.97032728e-09 1.42588994e-05]\n",
      " [3.41335509e-05 1.14427013e-09 1.83225408e-05]\n",
      " [3.32471709e-05 1.90079483e-09 1.16782711e-05]\n",
      " [3.50344756e-05 1.99791131e-09 1.64380898e-05]\n",
      " [3.42511077e-05 1.97336787e-09 1.30163959e-05]\n",
      " [3.58563966e-05 1.02468891e-09 1.36734210e-05]\n",
      " [3.23142174e-05 5.82916933e-10 1.63922796e-05]\n",
      " [2.94910610e-05 9.86532001e-10 1.99561555e-05]\n",
      " [1.33174377e-05 1.98431566e-09 1.32403752e-05]\n",
      " [2.04084512e-05 1.98854853e-09 9.66699034e-06]\n",
      " [3.54769699e-05 1.17070614e-09 1.31169162e-05]\n",
      " [3.42417654e-05 1.94045021e-09 1.78343568e-05]\n",
      " [3.09830109e-05 1.12745409e-09 9.38502572e-06]\n",
      " [3.92327907e-05 1.99618188e-09 1.39345883e-05]]\n",
      "dictionary {'g_na': array([3.61425499e-05, 3.61425499e-05, 3.61425499e-05, ...,\n",
      "       3.92327907e-05, 3.92327907e-05, 3.92327907e-05]), 'gl': array([1.99984490e-09, 1.99984490e-09, 1.99984490e-09, ...,\n",
      "       1.99618188e-09, 1.99618188e-09, 1.99618188e-09]), 'g_kd': array([1.51556504e-05, 1.51556504e-05, 1.51556504e-05, ...,\n",
      "       1.39345883e-05, 1.39345883e-05, 1.39345883e-05])}\n",
      "differential_evolution step 13: f(x)= 0.00474836\n",
      "params: [[3.57419223e-05 1.99984490e-09 1.39345883e-05]\n",
      " [3.30557257e-05 2.16625237e-10 1.85054089e-05]\n",
      " [3.37617459e-05 2.11856197e-10 1.88113314e-05]\n",
      " [4.87998330e-07 1.27468316e-09 1.94709881e-05]\n",
      " [3.82311147e-05 1.99856990e-09 1.65467006e-05]\n",
      " [3.82522408e-05 2.68758973e-10 2.91599896e-06]\n",
      " [3.37743448e-05 8.58031328e-10 1.18619865e-05]\n",
      " [3.29463411e-05 1.99911850e-09 1.59888515e-05]\n",
      " [6.01918986e-06 1.99936834e-09 1.80560423e-05]\n",
      " [3.30004058e-05 1.99078267e-09 1.67396129e-05]\n",
      " [3.90808292e-05 1.99678725e-09 1.10573399e-05]\n",
      " [3.07030180e-05 1.98692706e-09 1.59441234e-05]\n",
      " [3.41480517e-05 1.05328428e-09 1.66742390e-05]\n",
      " [3.24876512e-05 1.71548132e-09 1.42560574e-05]\n",
      " [3.94536060e-05 1.98585018e-09 1.00625762e-05]\n",
      " [3.23924919e-05 1.99879918e-09 1.63755792e-05]\n",
      " [2.78268878e-05 1.99165091e-09 7.93266036e-06]\n",
      " [3.07504882e-05 1.99596234e-09 1.73249559e-05]\n",
      " [3.47182610e-05 1.98927416e-09 1.59991181e-05]\n",
      " [3.42168972e-05 1.61156211e-09 1.94782594e-05]\n",
      " [3.73528809e-05 1.96998614e-09 1.56081632e-05]\n",
      " [3.68160869e-05 1.99800669e-09 9.31829060e-06]\n",
      " [3.79132668e-05 2.79881183e-10 1.18803251e-05]\n",
      " [3.88519089e-05 5.32712125e-10 1.30041397e-05]\n",
      " [2.96989897e-05 1.67734453e-09 1.63932788e-05]\n",
      " [3.28506655e-05 1.47281107e-09 1.95539923e-05]\n",
      " [3.04027547e-05 1.05953665e-09 1.63830684e-05]\n",
      " [3.17787787e-05 1.99929914e-09 1.68118366e-05]\n",
      " [3.56829324e-05 1.99472042e-09 1.37252063e-05]\n",
      " [3.47247543e-05 3.27149473e-10 1.24007158e-05]]\n",
      "dictionary {'g_na': array([3.57419223e-05, 3.57419223e-05, 3.57419223e-05, ...,\n",
      "       3.47247543e-05, 3.47247543e-05, 3.47247543e-05]), 'gl': array([1.99984490e-09, 1.99984490e-09, 1.99984490e-09, ...,\n",
      "       3.27149473e-10, 3.27149473e-10, 3.27149473e-10]), 'g_kd': array([1.39345883e-05, 1.39345883e-05, 1.39345883e-05, ...,\n",
      "       1.24007158e-05, 1.24007158e-05, 1.24007158e-05])}\n",
      "differential_evolution step 14: f(x)= 0.00474836\n"
     ]
    }
   ],
   "source": [
    "params, fits, error = fit_traces(model = eqs, input_var = 'I', output_var = 'v',\\\n",
    "        input = inp_trace * nA, output = out_trace*mV, dt = dt,\n",
    "        gl = [1e-5*siemens*cm**-2 * area, 1e-6*siemens*cm**-2 * area],\n",
    "        g_na = [1*msiemens*cm**-2 * area, 200*msiemens*cm**-2 * area],\n",
    "        g_kd = [1*msiemens*cm**-2 * area, 100*msiemens*cm**-2 * area],\n",
    "        tol = 1e-6, popsize=10)"
   ]
  },
  {
   "cell_type": "code",
   "execution_count": 19,
   "metadata": {},
   "outputs": [
    {
     "data": {
      "text/plain": [
       "{'g_na': 3.542980394909107e-05,\n",
       " 'gl': 1.9998449000747737e-09,\n",
       " 'g_kd': 1.393458828798507e-05}"
      ]
     },
     "execution_count": 19,
     "metadata": {},
     "output_type": "execute_result"
    }
   ],
   "source": [
    "params"
   ]
  },
  {
   "cell_type": "code",
   "execution_count": 20,
   "metadata": {},
   "outputs": [
    {
     "data": {
      "text/latex": [
       "$\\left[\\begin{array}{ccccccccccccccccccccccccccccccccccccccccccccccccccccccccccccccccccccccccccccccccccccccccccccccccccccccccccccccccccccccccccccccccccccccccccccccccccccccccccccccccccccccccccccccccccccccccccccccccccccccccccccccccccccccccccccccccccccccccccccccccccccccccccccccccccccccccccccccccccccccccccccccccccccccccccccccccccccccccccccccccccccccccccccccccccccccccccccccccccccccccccccccccccccccccccccccccccccccccccccccccccccccccccccccccccccccccccccccccccccccccccccccccccccccccccccccccccccccccccccccccccccccccccccccccccccccccccccccccccccccccccccccccccccccccccccccccccccccccccccccccccccccccccccccccccccccccccccccccccccccccccccccccccccccccccccccccccccccccccccccccccccccccccccccccccccccccccccccccccccccccccccccccccccccccccccccccccccccccccccccccccccccccccccccccccccccccccccccccccccccccccccccccccccccccccccccccccccccccccccccccccccccccccccccccccccccccccccccccccccccccccccccccccccccccccccccccccccccccccccccccccccccccccccccccccccccccccccccccccccccccccccccccccccccccccccccccccccccccccccccccccccccccccccccccccccccccccccccccccccccccccccccccccccccccccccccccccccccccccccccccccccccccccccccccccccccccccccccccccccccccccccccccccccccccccccccccccccccccccccccccccccccccccccccccccccccccccccccccccccccccccccccccccccccccccccccccccccccccccccccccccccccccccccccccccccccccccccccccccccccccccccccccccccccccccccccccccccccccccccccccccccccccccccccccccccccccccccccccccccccccccccccccccccccccccccccccccccccccccccccccccccccccccccccccccccccccccccccccccccccccccccccccccccccccccccccccccccccccccccccccccccccccccccccccccccccccccccccccccccccccccccccccccccccccc}0.0 & 0.0 & 0.0 & 0.0 & 0.0 & 0.0 & 0.0 & 0.0 & 0.0 & 0.0 & 0.0 & 0.0 & 0.0 & 0.0 & 0.0 & 0.0 & 0.0 & 0.0 & 0.0 & 0.0 & 0.0 & 0.0 & 0.0 & 0.0 & 0.0 & 0.0 & 0.0 & 0.0 & 0.0 & 0.0 & 0.0 & 0.0 & 0.0 & 0.0 & 0.0 & 0.0 & 0.0 & 0.0 & 0.0 & 0.0 & 0.0 & 0.0 & 0.0 & 0.0 & 0.0 & 0.0 & 0.0 & 0.0 & 0.0 & 0.0 & 0.0 & 0.0 & 0.0 & 0.0 & 0.0 & 0.0 & 0.0 & 0.0 & 0.0 & 0.0 & 0.0 & 0.0 & 0.0 & 0.0 & 0.0 & 0.0 & 0.0 & 0.0 & 0.0 & 0.0 & 0.0 & 0.0 & 0.0 & 0.0 & 0.0 & 0.0 & 0.0 & 0.0 & 0.0 & 0.0 & 0.0 & 0.0 & 0.0 & 0.0 & 0.0 & 0.0 & 0.0 & 0.0 & 0.0 & 0.0 & 0.0 & 0.0 & 0.0 & 0.0 & 0.0 & 0.0 & 0.0 & 0.0 & 0.0 & 0.0 & 0.0 & 0.0 & 0.0 & 0.0 & 0.0 & 0.0 & 0.0 & 0.0 & 0.0 & 0.0 & 0.0 & 0.0 & 0.0 & 0.0 & 0.0 & 0.0 & 0.0 & 0.0 & 0.0 & 0.0 & 0.0 & 0.0 & 0.0 & 0.0 & 0.0 & 0.0 & 0.0 & 0.0 & 0.0 & 0.0 & 0.0 & 0.0 & 0.0 & 0.0 & 0.0 & 0.0 & 0.0 & 0.0 & 0.0 & 0.0 & 0.0 & 0.0 & 0.0 & 0.0 & 0.0 & 0.0 & 0.0 & 0.0 & 0.0 & 0.0 & 0.0 & 0.0 & 0.0 & 0.0 & 0.0 & 0.0 & 0.0 & 0.0 & 0.0 & 0.0 & 0.0 & 0.0 & 0.0 & 0.0 & 0.0 & 0.0 & 0.0 & 0.0 & 0.0 & 0.0 & 0.0 & 0.0 & 0.0 & 0.0 & 0.0 & 0.0 & 0.0 & 0.0 & 0.0 & 0.0 & 0.0 & 0.0 & 0.0 & 0.0 & 0.0 & 0.0 & 0.0 & 0.0 & 0.0 & 0.0 & 0.0 & 0.0 & 0.0 & 0.0 & 0.0 & 0.0 & 0.0 & 0.0 & 0.0 & 0.0 & 0.0 & 0.0 & 0.0 & 0.0 & 0.0 & 0.0 & 0.0 & 0.0 & 0.0 & 0.0 & 0.0 & 0.0 & 0.0 & 0.0 & 0.0 & 0.0 & 0.0 & 0.0 & 0.0 & 0.0 & 0.0 & 0.0 & 0.0 & 0.0 & 0.0 & 0.0 & 0.0 & 0.0 & 0.0 & 0.0 & 0.0 & 0.0 & 0.0 & 0.0 & 0.0 & 0.0 & 0.0 & 0.0 & 0.0 & 0.0 & 0.0 & 0.0 & 0.0 & 0.0 & 0.0 & 0.0 & 0.0 & 0.0 & 0.0 & 0.0 & 0.0 & 0.0 & 0.0 & 0.0 & 0.0 & 0.0 & 0.0 & 0.0 & 0.0 & 0.0 & 0.0 & 0.0 & 0.0 & 0.0 & 0.0 & 0.0 & 0.0 & 0.0 & 0.0 & 0.0 & 0.0 & 0.0 & 0.0 & 0.0 & 0.0 & 0.0 & 0.0 & 0.0 & 0.0 & 0.0 & 0.0 & 0.0 & 0.0 & 0.0 & 0.0 & 0.0 & 0.0 & 0.0 & 0.0 & 0.0 & 0.0 & 0.0 & 0.0 & 0.0 & 0.0 & 0.0 & 0.0 & 0.0 & 0.0 & 0.0 & 0.0 & 0.0 & 0.0 & 0.0 & 0.0 & 0.0 & 0.0 & 0.0 & 0.0 & 0.0 & 0.0 & 0.0 & 0.0 & 0.0 & 0.0 & 0.0 & 0.0 & 0.0 & 0.0 & 0.0 & 0.0 & 0.0 & 0.0 & 0.0 & 0.0 & 0.0 & 0.0 & 0.0 & 0.0 & 0.0 & 0.0 & 0.0 & 0.0 & 0.0 & 0.0 & 0.0 & 0.0 & 0.0 & 0.0 & 0.0 & 0.0 & 0.0 & 0.0 & 0.0 & 0.0 & 0.0 & 0.0 & 0.0 & 0.0 & 0.0 & 0.0 & 0.0 & 0.0 & 0.0 & 0.0 & 0.0 & 0.0 & 0.0 & 0.0 & 0.0 & 0.0 & 0.0 & 0.0 & 0.0 & 0.0 & 0.0 & 0.0 & 0.0 & 0.0 & 0.0 & 0.0 & 0.0 & 0.0 & 0.0 & 0.0 & 0.0 & 0.0 & 0.0 & 0.0 & 0.0 & 0.0 & 0.0 & 0.0 & 0.0 & 0.0 & 0.0 & 0.0 & 0.0 & 0.0 & 0.0 & 0.0 & 0.0 & 0.0 & 0.0 & 0.0 & 0.0 & 0.0 & 0.0 & 0.0 & 0.0 & 0.0 & 0.0 & 0.0 & 0.0 & 0.0 & 0.0 & 0.0 & 0.0 & 0.0 & 0.0 & 0.0 & 0.0 & 0.0 & 0.0 & 0.0 & 0.0 & 0.0 & 0.0 & 0.0 & 0.0 & 0.0 & 0.0 & 0.0 & 0.0 & 0.0 & 0.0 & 0.0 & 0.0 & 0.0 & 0.0 & 0.0 & 0.0 & 0.0 & 0.0 & 0.0 & 0.0 & 0.0 & 0.0 & 0.0 & 0.0 & 0.0 & 0.0 & 0.0 & 0.0 & 0.0 & 0.0 & 0.0 & 0.0 & 0.0 & 0.0 & 0.0 & 0.0 & 0.0 & 0.0 & 0.0 & 0.0 & 0.0 & 0.0 & 0.0 & 0.0 & 0.0 & 0.0 & 0.0 & 0.0 & 0.0 & 0.0 & 0.0 & 0.0 & 0.0 & 0.0 & 0.0 & 0.0 & 0.0 & 0.0 & 0.0 & 0.0 & 0.0 & 0.0 & 0.0 & 0.0 & 0.0 & 0.0 & 0.0 & 0.0 & 0.0 & 0.0 & 0.0 & 0.0 & 0.0 & 0.0 & 0.0 & 0.0 & 0.0 & 0.0 & 0.0 & 0.0 & 0.0 & 0.0 & 0.0 & 0.0 & 0.0 & 0.0 & 0.0 & 0.0 & 0.0 & 0.0 & 0.0 & 0.0 & 0.0 & 0.0 & 0.0 & 0.0 & 0.0 & 0.0 & 0.0 & 0.0 & 0.0 & 0.0 & 0.0 & 0.0 & 0.0 & 0.0 & 0.0 & 0.0 & 0.0 & 0.0 & 0.0 & 0.0 & 0.0 & 0.0 & 0.0 & 0.0 & 0.0 & 0.0 & 0.0 & 0.0 & 0.0 & 0.0 & 0.0 & 0.0 & 0.0 & 0.0 & 0.0 & 0.0 & 0.0 & 0.0 & 0.0 & 0.0 & 0.0 & 0.0 & 0.0 & 0.0 & 0.0 & 0.0 & 0.0 & 0.0 & 0.0 & 0.0 & 0.0 & 0.0 & 0.0 & 0.0 & 0.0 & 0.0 & 0.0 & 0.0 & 0.0 & 0.0 & 0.0 & 0.0 & 0.0 & 0.0 & 0.0 & 0.0 & 0.0 & 0.0 & 0.0 & 0.0 & 0.0 & 0.0 & 0.0 & 0.0 & 0.0 & 0.0 & 0.0 & 0.0 & 0.0 & 0.0 & 0.0 & 0.0 & 0.0 & 0.0 & 0.0 & 0.0 & 0.0 & 0.0 & 0.0 & 0.0 & 0.0 & 0.0 & 0.0 & 0.0 & 0.0 & 0.0 & 0.0 & 0.0 & 0.0 & 0.0 & 0.0 & 0.0 & 0.0 & 0.0 & 0.0 & 0.0 & 0.0 & 0.0 & 0.0 & 0.0 & 0.0 & 0.0 & 0.0 & 0.0 & 0.0 & 0.0 & 0.0 & 0.0 & 0.0 & 0.0 & 0.0 & 0.0 & 0.0 & 0.0 & 0.0 & 0.0 & 0.0 & 0.0 & 0.0 & 0.0 & 0.0 & 0.0 & 0.0 & 0.0 & 0.0 & 0.0 & 0.0 & 0.0 & 0.0 & 0.0 & 0.0 & 0.0 & 0.0 & 0.0 & 0.0 & 0.0 & 0.0 & 0.0 & 0.0 & 0.0 & 0.0 & 0.0 & 0.0 & 0.0 & 0.0 & 0.0 & 0.0 & 0.0 & 0.0 & 0.0 & 0.0 & 0.0 & 0.0 & 0.0 & 0.0 & 0.0 & 0.0 & 0.0 & 0.0 & 0.0 & 0.0 & 0.0 & 0.0 & 0.0 & 0.0 & 0.0 & 0.0 & 0.0 & 0.0 & 0.0 & 0.0 & 0.0 & 0.0 & 0.0 & 0.0 & 0.0 & 0.0 & 0.0 & 0.0 & 0.0 & 0.0 & 0.0 & 0.0 & 0.0 & 0.0 & 0.0 & 0.0 & 0.0 & 0.0 & 0.0 & 0.0 & 0.0 & 0.0 & 0.0 & 0.0 & 0.0 & 0.0 & 0.0 & 0.0 & 0.0 & 0.0 & 0.0 & 0.0 & 0.0 & 0.0 & 0.0 & 0.0 & 0.0 & 0.0 & 0.0 & 0.0 & 0.0 & 0.0 & 0.0 & 0.0 & 0.0 & 0.0 & 0.0 & 0.0 & 0.0 & 0.0 & 0.0 & 0.0 & 0.0 & 0.0 & 0.0 & 0.0 & 0.0 & 0.0 & 0.0 & 0.0 & 0.0 & 0.0 & 0.0 & 0.0 & 0.0 & 0.0 & 0.0 & 0.0 & 0.0 & 0.0 & 0.0 & 0.0 & 0.0 & 0.0 & 0.0 & 0.0 & 0.0 & 0.0 & 0.0 & 0.0 & 0.0 & 0.0 & 0.0 & 0.0 & 0.0 & 0.0 & 0.0 & 0.0 & 0.0 & 0.0 & 0.0 & 0.0 & 0.0 & 0.0 & 0.0 & 0.0 & 0.0 & 0.0 & 0.0 & 0.0 & 0.0 & 0.0 & 0.0 & 0.0 & 0.0 & 0.0 & 0.0 & 0.0 & 0.0 & 0.0 & 0.0 & 0.0 & 0.0 & 0.0 & 0.0 & 0.0 & 0.0 & 0.0 & 0.0 & 0.0 & 0.0 & 0.0 & 0.0 & 0.0 & 0.0 & 0.0 & 0.0 & 0.0 & 0.0 & 0.0 & 0.0 & 0.0 & 0.0 & 0.0 & 0.0 & 0.0 & 0.0 & 0.0 & 0.0 & 0.0 & 0.0 & 0.0 & 0.0 & 0.0 & 0.0 & 0.0 & 0.0 & 0.0 & 0.0 & 0.0 & 0.0 & 0.0 & 0.0 & 0.0 & 0.0 & 0.0 & 0.0 & 0.0 & 0.0 & 0.0 & 0.0 & 0.0 & 0.0 & 0.0 & 0.0 & 0.0 & 0.0 & 0.0 & 0.0 & 0.0 & 0.0 & 0.0 & 0.0 & 0.0 & 0.0 & 0.0 & 0.0 & 0.0 & 0.0 & 0.0 & 0.0 & 0.0 & 0.0 & 0.0 & 0.0 & 0.0 & 0.0 & 0.0 & 0.0 & 0.0 & 0.0 & 0.0 & 0.0 & 0.0 & 0.0 & 0.0 & 0.0 & 0.0 & 0.0 & 0.0 & 0.0 & 0.0 & 0.0 & 0.0 & 0.0 & 0.0 & 0.0 & 0.0 & 0.0 & 0.0 & 0.0 & 0.0 & 0.0 & 0.0 & 0.0 & 0.0 & 0.0 & 0.0 & 0.0 & 0.0 & 0.0 & 0.0 & 0.0 & 0.0 & 0.0 & 0.0 & 0.0 & 0.0 & 0.0 & 0.0 & 0.0 & 0.0 & 0.0 & 0.0 & 0.0 & 0.0 & 0.0 & 0.0 & 0.0 & 0.0 & 0.0 & 0.0 & 0.0 & 0.0 & 0.0 & 0.0 & 0.0 & 0.0 & 0.0 & 0.0 & 0.0 & 0.0 & 0.0 & 0.0 & 0.0 & 0.0 & 0.0 & 0.0 & 0.0 & 0.0 & 0.0 & 0.0 & 0.0 & 0.0 & 0.0 & 0.0 & 0.0 & 0.0 & 0.0 & 0.0 & 0.0 & 0.0 & 0.0 & 0.0 & 0.0 & 0.0 & 0.0 & 0.0 & 0.0 & 0.0 & 0.0 & 0.0 & 0.0 & 0.0 & 0.0 & 0.0 & 0.0 & 0.0 & 0.0 & 0.0 & 0.0 & 0.0 & 0.0 & 0.0 & 0.0 & 0.0 & 0.0 & 0.0 & 0.0 & 0.0 & 0.0 & 0.0 & 0.0 & 0.0 & 0.0 & 0.0 & 0.0 & 0.0 & 0.0 & 0.0 & 0.0 & 0.0 & 0.0 & 0.0 & 0.0 & 0.0 & 0.0 & 0.0 & 0.0 & 0.0 & 0.0 & 0.0 & 0.0 & 0.0 & 0.0 & 0.0 & 0.0 & 0.0 & 0.0 & 0.0 & 0.0 & 0.0 & 0.0 & 0.0 & 0.0 & 0.0 & 0.0 & 0.0 & 0.0 & 0.0 & 0.0 & 0.0 & 0.0 & 0.0 & 0.0 & 0.0 & 0.0 & 0.0 & 0.0 & 0.0 & 0.0 & 0.0 & 0.0 & 0.0 & 0.0 & 0.0 & 0.0 & 0.0 & 0.0 & 0.0 & 0.0 & 0.0 & 0.0 & 0.0 & 0.0 & 0.0 & 0.0 & 0.0 & 0.0 & 0.0 & 0.0 & 0.0 & 0.0 & 0.0 & 0.0 & 0.0 & 0.0 & 0.0 & 0.0 & 0.0 & 0.0 & 0.0 & 0.0 & 0.0 & 0.0 & 0.0 & 0.0 & 0.0 & 0.0 & 0.0 & 0.0 & 0.0 & 0.0 & 0.0 & 0.0 & 0.0 & 0.0 & 0.0 & 0.0 & 0.0 & 0.0 & 0.0 & 0.0 & 0.0 & 0.0 & 0.0 & 0.0 & 0.0 & 0.0 & 0.0 & 0.0 & 0.0 & 0.0 & 0.0 & 0.0 & 0.0 & 0.0 & 0.0 & 0.0 & 0.0 & 0.0 & 0.0 & 0.0 & 0.0 & 0.0 & 0.0 & 0.0 & 0.0 & 0.0 & 0.0 & 0.0 & 0.0 & 0.0 & 0.0 & 0.0 & 0.0 & 0.0 & 0.0 & 0.0 & 0.0 & 0.0 & 0.0 & 0.0 & 0.0 & 0.0 & 0.0 & 0.0 & 0.0 & 0.0 & 0.0 & 0.0 & 0.0 & 0.0 & 0.0 & 0.0 & 0.0 & 0.0 & 0.0 & 0.0 & 0.0 & 0.0 & 0.0 & 0.0 & 0.0 & 0.0 & 0.0 & 0.0 & 0.0 & 0.0 & 0.0 & 0.0 & 0.0 & 0.0 & 0.0 & 0.0 & 0.0 & 0.0 & 0.0 & 0.0 & 0.0 & 0.0 & 0.0 & 0.0 & 0.0 & 0.0 & 0.0 & 0.0 & 0.0 & 0.0 & 0.0 & 0.0 & 0.0 & 0.0 & 0.0 & 0.0 & 0.0 & 0.0 & 0.0 & 0.0 & 0.0 & 0.0 & 0.0 & 0.0 & 0.0 & 0.0 & 0.0 & 0.0 & 0.0 & 0.0 & 0.0 & 0.0 & 0.0 & 0.0 & 0.0 & 0.0 & 0.0 & 0.0 & 0.0 & 0.0 & 0.0 & 0.0 & 0.0 & 0.0 & 0.0 & 0.0 & 0.0 & 0.0 & 0.0 & 0.0 & 0.0 & 0.0 & 0.0 & 0.0 & 0.0 & 0.0 & 0.0 & 0.0 & 0.0 & 0.0 & 0.0 & 0.0 & 0.0 & 0.0 & 0.0 & 0.0 & 0.0 & 0.0 & 0.0 & 0.0 & 0.0 & 0.0 & 0.0 & 0.0 & 0.0 & 0.0 & 0.0 & 0.0 & 0.0 & 0.0 & 0.0 & 0.0 & 0.0 & 0.0 & 0.0 & 0.0 & 0.0 & 0.0 & 0.0 & 0.0 & 0.0 & 0.0 & 0.0 & 0.0 & 0.0 & 0.0 & 0.0 & 0.0 & 0.0 & 0.0 & 0.0 & 0.0 & 0.0 & 0.0 & 0.0 & 0.0 & 0.0 & 0.0 & 0.0 & 0.0 & 0.0 & 0.0 & 0.0 & 0.0 & 0.0 & 0.0 & 0.0 & 0.0 & 0.0 & 0.0 & 0.0 & 0.0 & 0.0 & 0.0 & 0.0 & 0.0 & 0.0 & 0.0 & 0.0 & 0.0 & 0.0 & 0.0 & 0.0 & 0.0 & 0.0 & 0.0 & 0.0 & 0.0 & 0.0 & 0.0 & 0.0 & 0.0 & 0.0 & 0.0 & 0.0 & 0.0 & 0.0 & 0.0 & 0.0 & 0.0 & 0.0 & 0.0 & 0.0 & 0.0 & 0.0 & 0.0 & 0.0 & 0.0 & 0.0 & 0.0 & 0.0 & 0.0 & 0.0 & 0.0 & 0.0 & 0.0 & 0.0 & 0.0 & 0.0 & 0.0 & 0.0 & 0.0 & 0.0 & 0.0 & 0.0 & 0.0 & 0.0 & 0.0 & 0.0 & 0.0 & 0.0 & 0.0 & 0.0 & 0.0 & 0.0 & 0.0 & 0.0 & 0.0 & 0.0 & 0.0 & 0.0 & 0.0 & 0.0 & 0.0 & 0.0 & 0.0 & 0.0 & 0.0 & 0.0 & 0.0 & 0.0 & 0.0 & 0.0 & 0.0 & 0.0 & 0.0 & 0.0 & 0.0 & 0.0 & 0.0 & 0.0 & 0.0 & 0.0 & 0.0 & 0.0 & 0.0 & 0.0 & 0.0 & 0.0 & 0.0 & 0.0 & 0.0 & 0.0 & 0.0 & 0.0 & 0.0 & 0.0 & 0.0 & 0.0 & 0.0 & 0.0 & 0.0 & 0.0 & 0.0 & 0.0 & 0.0 & 0.0 & 0.0 & 0.0 & 0.0 & 0.0 & 0.0 & 0.0 & 0.0 & 0.0 & 0.0 & 0.0 & 0.0 & 0.0 & 0.0 & 0.0 & 0.0 & 0.0 & 0.0 & 0.0 & 0.0 & 0.0 & 0.0 & 0.0 & 0.0 & 0.0 & 0.0 & 0.0 & 0.0 & 0.0 & 0.0 & 0.0 & 0.0 & 0.0 & 0.0 & 0.0 & 0.0 & 0.0 & 0.0 & 0.0 & 0.0 & 0.0 & 0.0 & 0.0 & 0.0 & 0.0 & 0.0 & 0.0 & 0.0 & 0.0 & 0.0 & 0.0 & 0.0 & 0.0 & 0.0 & 0.0 & 0.0 & 0.0 & 0.0 & 0.0 & 0.0 & 0.0 & 0.0 & 0.0 & 0.0 & 0.0 & 0.0 & 0.0 & 0.0 & 0.0 & 0.0 & 0.0 & 0.0 & 0.0 & 0.0 & 0.0 & 0.0 & 0.0 & 0.0 & 0.0 & 0.0 & 0.0 & 0.0 & 0.0 & 0.0 & 0.0 & 0.0 & 0.0 & 0.0 & 0.0 & 0.0 & 0.0 & 0.0 & 0.0\\end{array}\\right]\\,\\mathrm{V}$"
      ],
      "text/plain": [
       "array([[0., 0., 0., ..., 0., 0., 0.]]) * volt"
      ]
     },
     "execution_count": 20,
     "metadata": {},
     "output_type": "execute_result"
    }
   ],
   "source": [
    "fits"
   ]
  },
  {
   "cell_type": "code",
   "execution_count": 21,
   "metadata": {},
   "outputs": [
    {
     "data": {
      "text/latex": [
       "$68.90834427621455\\,\\mathrm{m}\\,\\mathrm{V}$"
      ],
      "text/plain": [
       "68.90834428 * mvolt"
      ]
     },
     "execution_count": 21,
     "metadata": {},
     "output_type": "execute_result"
    }
   ],
   "source": [
    "error"
   ]
  },
  {
   "cell_type": "code",
   "execution_count": null,
   "metadata": {},
   "outputs": [],
   "source": []
  }
 ],
 "metadata": {
  "kernelspec": {
   "display_name": "brian_opt",
   "language": "python",
   "name": "brian_opt"
  },
  "language_info": {
   "codemirror_mode": {
    "name": "ipython",
    "version": 3
   },
   "file_extension": ".py",
   "mimetype": "text/x-python",
   "name": "python",
   "nbconvert_exporter": "python",
   "pygments_lexer": "ipython3",
   "version": "3.7.3"
  }
 },
 "nbformat": 4,
 "nbformat_minor": 2
}
