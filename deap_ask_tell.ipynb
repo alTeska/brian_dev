{
 "cells": [
  {
   "cell_type": "code",
   "execution_count": 3,
   "metadata": {},
   "outputs": [],
   "source": [
    "import random\n",
    "import array\n",
    "\n",
    "import numpy\n",
    "\n",
    "from deap import base\n",
    "from deap import benchmarks\n",
    "from deap import creator\n",
    "from deap import tools"
   ]
  },
  {
   "cell_type": "code",
   "execution_count": 4,
   "metadata": {},
   "outputs": [],
   "source": [
    "# Problem dimension\n",
    "NDIM = 10\n",
    "\n",
    "creator.create(\"FitnessMin\", base.Fitness, weights=(-1.0,))\n",
    "creator.create(\"Individual\", array.array, typecode='d', fitness=creator.FitnessMin)\n",
    "\n",
    "toolbox = base.Toolbox()\n",
    "toolbox.register(\"attr_float\", random.uniform, -3, 3)\n",
    "toolbox.register(\"individual\", tools.initRepeat, creator.Individual, toolbox.attr_float, NDIM)\n",
    "toolbox.register(\"population\", tools.initRepeat, list, toolbox.individual)\n",
    "toolbox.register(\"select\", tools.selRandom, k=3)\n",
    "toolbox.register(\"evaluate\", benchmarks.sphere)"
   ]
  },
  {
   "cell_type": "code",
   "execution_count": 6,
   "metadata": {},
   "outputs": [
    {
     "name": "stdout",
     "output_type": "stream",
     "text": [
      "gen\tevals\tstd    \tmin    \tavg    \tmax    \n",
      "0  \t300  \t8.62346\t9.02876\t29.9009\t59.5017\n",
      "Best individual is  Individual('d', [-0.0025348981642214774, -0.007001224630555081, -0.012315652271759125, 0.010228490953307245, -0.003979308088799316, 0.005106211699217322, 0.008850111359381518, -0.0074258250902836664, -0.0020334975814297884, -0.00019217816472583138]) 0.0004912878580796643\n"
     ]
    }
   ],
   "source": [
    "# # Differential evolution parameters\n",
    "# CR = 0.25\n",
    "# F = 1  \n",
    "# MU = 300\n",
    "# NGEN = 200    \n",
    "\n",
    "# pop = toolbox.population(n=MU);\n",
    "# hof = tools.HallOfFame(1)\n",
    "# stats = tools.Statistics(lambda ind: ind.fitness.values)\n",
    "# stats.register(\"avg\", numpy.mean)\n",
    "# stats.register(\"std\", numpy.std)\n",
    "# stats.register(\"min\", numpy.min)\n",
    "# stats.register(\"max\", numpy.max)\n",
    "\n",
    "# logbook = tools.Logbook()\n",
    "# logbook.header = \"gen\", \"evals\", \"std\", \"min\", \"avg\", \"max\"\n",
    "\n",
    "# # Evaluate the individuals\n",
    "# fitnesses = toolbox.map(toolbox.evaluate, pop)\n",
    "# for ind, fit in zip(pop, fitnesses):\n",
    "#     ind.fitness.values = fit\n",
    "\n",
    "# record = stats.compile(pop)\n",
    "# logbook.record(gen=0, evals=len(pop), **record)\n",
    "# print(logbook.stream)\n",
    "\n",
    "# for g in range(1, NGEN):\n",
    "#     for k, agent in enumerate(pop):\n",
    "#         a,b,c = toolbox.select(pop)\n",
    "#         y = toolbox.clone(agent)\n",
    "#         index = random.randrange(NDIM)\n",
    "#         for i, value in enumerate(agent):\n",
    "#             if i == index or random.random() < CR:\n",
    "#                 y[i] = a[i] + F*(b[i]-c[i])\n",
    "#         y.fitness.values = toolbox.evaluate(y)\n",
    "#         if y.fitness > agent.fitness:\n",
    "#             pop[k] = y\n",
    "#     hof.update(pop)\n",
    "#     record = stats.compile(pop)\n",
    "#     logbook.record(gen=g, evals=len(pop), **record)\n",
    "\n",
    "# print(\"Best individual is \", hof[0], hof[0].fitness.values[0])"
   ]
  },
  {
   "cell_type": "code",
   "execution_count": 8,
   "metadata": {},
   "outputs": [
    {
     "ename": "AttributeError",
     "evalue": "'Toolbox' object has no attribute 'generate'",
     "output_type": "error",
     "traceback": [
      "\u001b[0;31m---------------------------------------------------------------------------\u001b[0m",
      "\u001b[0;31mAttributeError\u001b[0m                            Traceback (most recent call last)",
      "\u001b[0;32m<ipython-input-8-4825fad883aa>\u001b[0m in \u001b[0;36m<module>\u001b[0;34m\u001b[0m\n\u001b[1;32m      1\u001b[0m \u001b[0mngen\u001b[0m \u001b[0;34m=\u001b[0m\u001b[0;36m10\u001b[0m\u001b[0;34m\u001b[0m\u001b[0;34m\u001b[0m\u001b[0m\n\u001b[1;32m      2\u001b[0m \u001b[0;32mfor\u001b[0m \u001b[0mg\u001b[0m \u001b[0;32min\u001b[0m \u001b[0mrange\u001b[0m\u001b[0;34m(\u001b[0m\u001b[0mngen\u001b[0m\u001b[0;34m)\u001b[0m\u001b[0;34m:\u001b[0m\u001b[0;34m\u001b[0m\u001b[0;34m\u001b[0m\u001b[0m\n\u001b[0;32m----> 3\u001b[0;31m     \u001b[0mpopulation\u001b[0m \u001b[0;34m=\u001b[0m \u001b[0mtoolbox\u001b[0m\u001b[0;34m.\u001b[0m\u001b[0mgenerate\u001b[0m\u001b[0;34m(\u001b[0m\u001b[0;34m)\u001b[0m\u001b[0;34m\u001b[0m\u001b[0;34m\u001b[0m\u001b[0m\n\u001b[0m\u001b[1;32m      4\u001b[0m \u001b[0;31m#     evaluate(population)\u001b[0m\u001b[0;34m\u001b[0m\u001b[0;34m\u001b[0m\u001b[0;34m\u001b[0m\u001b[0m\n\u001b[1;32m      5\u001b[0m \u001b[0;31m#     toolbox.update(population)\u001b[0m\u001b[0;34m\u001b[0m\u001b[0;34m\u001b[0m\u001b[0;34m\u001b[0m\u001b[0m\n",
      "\u001b[0;31mAttributeError\u001b[0m: 'Toolbox' object has no attribute 'generate'"
     ]
    }
   ],
   "source": [
    "ngen =10\n",
    "for g in range(ngen):\n",
    "    population = toolbox.generate()\n",
    "#     evaluate(population)\n",
    "#     toolbox.update(population)"
   ]
  },
  {
   "cell_type": "code",
   "execution_count": 12,
   "metadata": {},
   "outputs": [
    {
     "ename": "NameError",
     "evalue": "name 'INDCLSNAME' is not defined",
     "output_type": "error",
     "traceback": [
      "\u001b[0;31m---------------------------------------------------------------------------\u001b[0m",
      "\u001b[0;31mNameError\u001b[0m                                 Traceback (most recent call last)",
      "\u001b[0;32m<ipython-input-12-4cf72b2273b0>\u001b[0m in \u001b[0;36m<module>\u001b[0;34m\u001b[0m\n\u001b[1;32m      4\u001b[0m \u001b[0mtoolbox\u001b[0m \u001b[0;34m=\u001b[0m \u001b[0mbase\u001b[0m\u001b[0;34m.\u001b[0m\u001b[0mToolbox\u001b[0m\u001b[0;34m(\u001b[0m\u001b[0;34m)\u001b[0m\u001b[0;34m\u001b[0m\u001b[0;34m\u001b[0m\u001b[0m\n\u001b[1;32m      5\u001b[0m \u001b[0mtoolbox\u001b[0m\u001b[0;34m.\u001b[0m\u001b[0mregister\u001b[0m\u001b[0;34m(\u001b[0m\u001b[0;34m\"evaluate\"\u001b[0m\u001b[0;34m,\u001b[0m \u001b[0mbenchmarks\u001b[0m\u001b[0;34m.\u001b[0m\u001b[0msphere\u001b[0m\u001b[0;34m)\u001b[0m\u001b[0;34m\u001b[0m\u001b[0;34m\u001b[0m\u001b[0m\n\u001b[0;32m----> 6\u001b[0;31m \u001b[0mtoolbox\u001b[0m\u001b[0;34m.\u001b[0m\u001b[0mregister\u001b[0m\u001b[0;34m(\u001b[0m\u001b[0;34m\"generate\"\u001b[0m\u001b[0;34m,\u001b[0m \u001b[0mstrategy\u001b[0m\u001b[0;34m.\u001b[0m\u001b[0mgenerate\u001b[0m\u001b[0;34m,\u001b[0m \u001b[0mcreator\u001b[0m\u001b[0;34m.\u001b[0m\u001b[0m__dict__\u001b[0m\u001b[0;34m[\u001b[0m\u001b[0mINDCLSNAME\u001b[0m\u001b[0;34m]\u001b[0m\u001b[0;34m)\u001b[0m\u001b[0;34m\u001b[0m\u001b[0;34m\u001b[0m\u001b[0m\n\u001b[0m\u001b[1;32m      7\u001b[0m \u001b[0mtoolbox\u001b[0m\u001b[0;34m.\u001b[0m\u001b[0mregister\u001b[0m\u001b[0;34m(\u001b[0m\u001b[0;34m\"update\"\u001b[0m\u001b[0;34m,\u001b[0m \u001b[0mstrategy\u001b[0m\u001b[0;34m.\u001b[0m\u001b[0mupdate\u001b[0m\u001b[0;34m)\u001b[0m\u001b[0;34m\u001b[0m\u001b[0;34m\u001b[0m\u001b[0m\n\u001b[1;32m      8\u001b[0m \u001b[0;34m\u001b[0m\u001b[0m\n",
      "\u001b[0;31mNameError\u001b[0m: name 'INDCLSNAME' is not defined"
     ]
    }
   ],
   "source": [
    "from deap import cma\n",
    "\n",
    "strategy = cma.Strategy(centroid=[0.0]*NDIM, sigma=1.0)\n",
    "toolbox = base.Toolbox()\n",
    "toolbox.register(\"evaluate\", benchmarks.sphere)\n",
    "toolbox.register(\"generate\", strategy.generate, creator.__dict__[INDCLSNAME])\n",
    "toolbox.register(\"update\", strategy.update)\n",
    "\n",
    "pop, _ = algorithms.eaGenerateUpdate(toolbox, ngen=100)\n",
    "best, = tools.selBest(pop, k=1)"
   ]
  }
 ],
 "metadata": {
  "kernelspec": {
   "display_name": "brian_opt",
   "language": "python",
   "name": "brian_opt"
  },
  "language_info": {
   "codemirror_mode": {
    "name": "ipython",
    "version": 3
   },
   "file_extension": ".py",
   "mimetype": "text/x-python",
   "name": "python",
   "nbconvert_exporter": "python",
   "pygments_lexer": "ipython3",
   "version": "3.7.3"
  }
 },
 "nbformat": 4,
 "nbformat_minor": 2
}
