{
 "cells": [
  {
   "cell_type": "markdown",
   "metadata": {},
   "source": [
    "# Example of Ask/Tell interface with DEAP "
   ]
  },
  {
   "cell_type": "code",
   "execution_count": 1,
   "metadata": {},
   "outputs": [],
   "source": [
    "import random\n",
    "import array\n",
    "import numpy\n",
    "\n",
    "from deap import base, benchmarks, creator, tools, algorithms\n",
    "from deap import cma"
   ]
  },
  {
   "cell_type": "markdown",
   "metadata": {},
   "source": [
    "## Generate/Update (aka ask/tell)"
   ]
  },
  {
   "cell_type": "code",
   "execution_count": 2,
   "metadata": {},
   "outputs": [],
   "source": [
    "FITCLSNAME = \"FIT_TYPE\"\n",
    "INDCLSNAME = \"IND_TYPE\"\n",
    "creator.create(FITCLSNAME, base.Fitness, weights=(-1.0,))\n",
    "creator.create(INDCLSNAME, list, fitness=creator.__dict__[FITCLSNAME])\n",
    "# HV_THRESHOLD = 116.0        # 120.777 is Optimal value"
   ]
  },
  {
   "cell_type": "code",
   "execution_count": 3,
   "metadata": {},
   "outputs": [],
   "source": [
    "NDIM = 2\n",
    "\n",
    "strategy = cma.Strategy(centroid=[0.0]*NDIM, sigma=1.0)\n",
    "\n",
    "toolbox = base.Toolbox()\n",
    "toolbox.register(\"evaluate\", benchmarks.sphere)\n",
    "toolbox.register(\"generate\", strategy.generate, creator.__dict__[INDCLSNAME])\n",
    "toolbox.register(\"update\", strategy.update)"
   ]
  },
  {
   "cell_type": "code",
   "execution_count": 4,
   "metadata": {},
   "outputs": [
    {
     "name": "stdout",
     "output_type": "stream",
     "text": [
      "[[-1.1181817242175354, -0.3960074472585139], [1.7326433935294574, -0.5631455316394197], [0.20190159062020474, 0.4355054992386995], [0.24855196465660626, -0.10440064208347434], [0.22672611073722526, -1.9579110632980519], [0.13632617921183277, -0.5026771400684753]] \n",
      "\n",
      "[[1.0287661316921595, 0.30758574496951785], [-0.72747202364791, -0.28926524345969884], [-0.2897024579699778, -0.11735104794430082], [-0.0674636712274339, 1.4105273271783927], [0.18704212712662607, 0.03042276311602353], [-0.2769007613999105, 0.21026411873891315]] \n",
      "\n"
     ]
    }
   ],
   "source": [
    "stats = None\n",
    "ngen = 2\n",
    "\n",
    "logbook = tools.Logbook()\n",
    "logbook.header = ['gen', 'nevals'] + (stats.fields if stats else [])\n",
    "\n",
    "for gen in range(ngen):\n",
    "    # Generate a new population\n",
    "    population = toolbox.generate()\n",
    "    print(population, '\\n')"
   ]
  },
  {
   "cell_type": "code",
   "execution_count": 5,
   "metadata": {},
   "outputs": [
    {
     "data": {
      "text/plain": [
       "<map at 0x7f72a80d6a90>"
      ]
     },
     "execution_count": 5,
     "metadata": {},
     "output_type": "execute_result"
    }
   ],
   "source": [
    "fitnesses = toolbox.map(toolbox.evaluate, population)\n",
    "fitnesses"
   ]
  },
  {
   "cell_type": "code",
   "execution_count": 6,
   "metadata": {},
   "outputs": [
    {
     "name": "stdout",
     "output_type": "stream",
     "text": [
      "[1.0287661316921595, 0.30758574496951785] (1.152968744225303,)\n",
      "<class 'tuple'>\n",
      "[-0.72747202364791, -0.28926524345969884] (0.6128899262641841,)\n",
      "<class 'tuple'>\n",
      "[-0.2897024579699778, -0.11735104794430082] (0.09769878260747233,)\n",
      "<class 'tuple'>\n",
      "[-0.0674636712274339, 1.4105273271783927] (1.9941386876525036,)\n",
      "<class 'tuple'>\n",
      "[0.18704212712662607, 0.03042276311602353] (0.03591030183566663,)\n",
      "<class 'tuple'>\n",
      "[-0.2769007613999105, 0.21026411873891315] (0.12088503129290193,)\n",
      "<class 'tuple'>\n"
     ]
    }
   ],
   "source": [
    "for ind, fit in zip(population, fitnesses):\n",
    "    print(ind, fit)\n",
    "    print(type(fit))\n",
    "    ind.fitness.values = fit"
   ]
  },
  {
   "cell_type": "code",
   "execution_count": 7,
   "metadata": {},
   "outputs": [],
   "source": [
    "toolbox.update(population)"
   ]
  },
  {
   "cell_type": "markdown",
   "metadata": {},
   "source": [
    "## Differential Evolution"
   ]
  },
  {
   "cell_type": "code",
   "execution_count": 8,
   "metadata": {},
   "outputs": [],
   "source": [
    "# Problem dimension\n",
    "NDIM = 10\n",
    "\n",
    "creator.create(\"FitnessMin\", base.Fitness, weights=(-1.0,))\n",
    "creator.create(\"Individual\", array.array, typecode='d', fitness=creator.FitnessMin)"
   ]
  },
  {
   "cell_type": "code",
   "execution_count": 9,
   "metadata": {},
   "outputs": [],
   "source": [
    "toolbox = base.Toolbox()\n",
    "toolbox.register(\"attr_float\", random.uniform, -3, 3)\n",
    "toolbox.register(\"individual\", tools.initRepeat, creator.Individual, toolbox.attr_float, NDIM)\n",
    "toolbox.register(\"population\", tools.initRepeat, list, toolbox.individual)\n",
    "toolbox.register(\"select\", tools.selRandom, k=3)\n",
    "toolbox.register(\"evaluate\", benchmarks.sphere)"
   ]
  },
  {
   "cell_type": "code",
   "execution_count": 10,
   "metadata": {},
   "outputs": [
    {
     "name": "stdout",
     "output_type": "stream",
     "text": [
      "gen\tevals\tstd    \tmin    \tavg    \tmax   \n",
      "0  \t300  \t8.36759\t6.53248\t29.2301\t63.893\n",
      "1  \t300  \t8.34231\t6.53248\t28.3044\t63.893\n",
      "2  \t300  \t8.36757\t3.3417 \t27.4456\t63.893\n",
      "3  \t300  \t8.19147\t3.3417 \t26.4221\t63.893\n",
      "4  \t300  \t7.91929\t3.3417 \t25.5406\t52.2714\n",
      "5  \t300  \t7.85309\t3.3417 \t24.5663\t44.5414\n",
      "6  \t300  \t7.84191\t3.3417 \t23.5903\t44.5414\n",
      "7  \t300  \t7.6953 \t3.3417 \t22.8467\t44.5414\n",
      "8  \t300  \t7.51544\t3.3417 \t22.0238\t42.4721\n",
      "9  \t300  \t7.31856\t3.3417 \t21.2106\t42.4721\n",
      "10 \t300  \t7.05602\t3.3417 \t20.5445\t42.4721\n",
      "11 \t300  \t6.78236\t3.3417 \t19.5857\t35.64  \n",
      "12 \t300  \t6.71492\t3.3417 \t18.666 \t35.0752\n",
      "13 \t300  \t6.49194\t3.3417 \t17.9906\t35.0752\n",
      "14 \t300  \t6.1274 \t3.3417 \t17.2125\t35.0752\n",
      "15 \t300  \t5.91746\t3.3417 \t16.3136\t35.0752\n",
      "16 \t300  \t5.83048\t3.3417 \t15.7701\t35.0752\n",
      "17 \t300  \t5.57395\t3.3417 \t15.0399\t35.0752\n",
      "18 \t300  \t5.3967 \t3.3417 \t14.5375\t35.0752\n",
      "19 \t300  \t5.2124 \t3.31779\t13.9037\t35.0752\n",
      "20 \t300  \t5.09596\t3.31779\t13.3339\t35.0752\n",
      "21 \t300  \t4.72846\t3.31779\t12.721 \t26.7395\n",
      "22 \t300  \t4.51798\t3.31779\t11.9892\t24.9657\n",
      "23 \t300  \t4.3113 \t3.31779\t11.6038\t24.9657\n",
      "24 \t300  \t4.24738\t3.31779\t11.0663\t24.9657\n",
      "25 \t300  \t3.95281\t3.31779\t10.4776\t21.6883\n",
      "26 \t300  \t3.8557 \t3.03925\t10.0374\t21.2752\n",
      "27 \t300  \t3.62481\t2.22182\t9.5837 \t20.6309\n",
      "28 \t300  \t3.55695\t2.22182\t9.20984\t20.6309\n",
      "29 \t300  \t3.51384\t1.6597 \t8.95841\t20.6309\n",
      "30 \t300  \t3.38091\t1.6597 \t8.57068\t19.918 \n",
      "31 \t300  \t3.27412\t1.6597 \t8.19914\t19.918 \n",
      "32 \t300  \t3.14647\t1.6597 \t7.82475\t19.918 \n",
      "33 \t300  \t2.96797\t1.6597 \t7.43993\t19.918 \n",
      "34 \t300  \t2.86124\t1.6597 \t7.04106\t19.918 \n",
      "35 \t300  \t2.75409\t1.6597 \t6.74948\t19.918 \n",
      "36 \t300  \t2.61304\t1.6597 \t6.47553\t17.062 \n",
      "37 \t300  \t2.54072\t1.47681\t6.20149\t17.062 \n",
      "38 \t300  \t2.36991\t1.04254\t5.90883\t17.062 \n",
      "39 \t300  \t2.36887\t0.959587\t5.66772\t17.062 \n",
      "40 \t300  \t2.20309\t0.959587\t5.42857\t17.062 \n",
      "41 \t300  \t1.95369\t0.959587\t5.11075\t11.1149\n",
      "42 \t300  \t1.88974\t0.959587\t4.91139\t10.8582\n",
      "43 \t300  \t1.77671\t0.959587\t4.64548\t10.4632\n",
      "44 \t300  \t1.68139\t0.959587\t4.42763\t9.97755\n",
      "45 \t300  \t1.63426\t0.959587\t4.24329\t9.97755\n",
      "46 \t300  \t1.58822\t0.809616\t4.03963\t9.97755\n",
      "47 \t300  \t1.55038\t0.809616\t3.85653\t9.97755\n",
      "48 \t300  \t1.44353\t0.809616\t3.66298\t9.10264\n",
      "49 \t300  \t1.36383\t0.650339\t3.48594\t8.20688\n",
      "50 \t300  \t1.33582\t0.650339\t3.32593\t8.20688\n",
      "51 \t300  \t1.25964\t0.650339\t3.19863\t7.59468\n",
      "52 \t300  \t1.22948\t0.650339\t3.05434\t7.59468\n",
      "53 \t300  \t1.15734\t0.612164\t2.92308\t7.59468\n",
      "54 \t300  \t1.11573\t0.442507\t2.79088\t7.20926\n",
      "55 \t300  \t1.07886\t0.442507\t2.69266\t6.65771\n",
      "56 \t300  \t1.02257\t0.442507\t2.53785\t5.24092\n",
      "57 \t300  \t0.975289\t0.442507\t2.41412\t5.17727\n",
      "58 \t300  \t0.920083\t0.442507\t2.29897\t5.11223\n",
      "59 \t300  \t0.881244\t0.442507\t2.19258\t5.08742\n",
      "60 \t300  \t0.865972\t0.442507\t2.09404\t4.95469\n",
      "61 \t300  \t0.830614\t0.442507\t2.01176\t4.95469\n",
      "62 \t300  \t0.826556\t0.442507\t1.95744\t4.95469\n",
      "63 \t300  \t0.809403\t0.442507\t1.88951\t4.95469\n",
      "64 \t300  \t0.774483\t0.442507\t1.80847\t4.5434 \n",
      "65 \t300  \t0.736952\t0.432123\t1.72377\t3.91252\n",
      "66 \t300  \t0.685025\t0.381005\t1.64058\t3.84355\n",
      "67 \t300  \t0.653981\t0.381005\t1.5631 \t3.84355\n",
      "68 \t300  \t0.64178 \t0.377382\t1.49182\t3.59408\n",
      "69 \t300  \t0.608996\t0.370136\t1.41242\t3.59408\n",
      "70 \t300  \t0.590946\t0.241271\t1.34328\t3.59408\n",
      "71 \t300  \t0.567907\t0.224548\t1.29066\t3.59408\n",
      "72 \t300  \t0.554605\t0.224548\t1.23014\t3.59408\n",
      "73 \t300  \t0.521451\t0.224548\t1.17754\t3.49956\n",
      "74 \t300  \t0.510501\t0.224548\t1.12208\t3.49956\n",
      "75 \t300  \t0.490911\t0.224548\t1.07473\t3.49956\n",
      "76 \t300  \t0.467839\t0.217708\t1.03465\t3.49956\n",
      "77 \t300  \t0.430839\t0.217708\t0.98044\t3.04242\n",
      "78 \t300  \t0.397624\t0.217708\t0.932843\t2.41878\n",
      "79 \t300  \t0.380493\t0.217708\t0.895114\t2.41878\n",
      "80 \t300  \t0.36907 \t0.216224\t0.853715\t2.35456\n",
      "81 \t300  \t0.338375\t0.216224\t0.805179\t2.33471\n",
      "82 \t300  \t0.32301 \t0.216224\t0.764905\t2.33471\n",
      "83 \t300  \t0.308008\t0.20087 \t0.734869\t1.71597\n",
      "84 \t300  \t0.283298\t0.20087 \t0.692059\t1.71597\n",
      "85 \t300  \t0.265845\t0.167708\t0.655904\t1.4401 \n",
      "86 \t300  \t0.254317\t0.149516\t0.615188\t1.37814\n",
      "87 \t300  \t0.237401\t0.149516\t0.581179\t1.37814\n",
      "88 \t300  \t0.230418\t0.149516\t0.550616\t1.37814\n",
      "89 \t300  \t0.227315\t0.145409\t0.529185\t1.29214\n",
      "90 \t300  \t0.219568\t0.145409\t0.503091\t1.29214\n",
      "91 \t300  \t0.208782\t0.145409\t0.480498\t1.29214\n",
      "92 \t300  \t0.190252\t0.145409\t0.454034\t1.21758\n",
      "93 \t300  \t0.182803\t0.145409\t0.438863\t1.19135\n",
      "94 \t300  \t0.173466\t0.123196\t0.419228\t1.01966\n",
      "95 \t300  \t0.166775\t0.0747075\t0.398388\t0.971719\n",
      "96 \t300  \t0.159585\t0.0747075\t0.381454\t0.964726\n",
      "97 \t300  \t0.152184\t0.0671004\t0.363128\t0.962633\n",
      "98 \t300  \t0.144897\t0.0671004\t0.344942\t0.962633\n",
      "99 \t300  \t0.135764\t0.0671004\t0.328106\t0.867961\n",
      "100\t300  \t0.131471\t0.0671004\t0.314756\t0.867961\n",
      "101\t300  \t0.124363\t0.0671004\t0.303702\t0.825841\n",
      "102\t300  \t0.122367\t0.0671004\t0.293854\t0.825841\n",
      "103\t300  \t0.121116\t0.0671004\t0.284005\t0.825841\n",
      "104\t300  \t0.116623\t0.0671004\t0.269417\t0.825841\n",
      "105\t300  \t0.112453\t0.0671004\t0.258782\t0.825841\n",
      "106\t300  \t0.106784\t0.0597212\t0.246635\t0.825841\n",
      "107\t300  \t0.102717\t0.0255878\t0.235626\t0.726152\n",
      "108\t300  \t0.0924585\t0.0255878\t0.224691\t0.579799\n",
      "109\t300  \t0.0848208\t0.0255878\t0.211995\t0.52482 \n",
      "110\t300  \t0.083124 \t0.0255878\t0.202062\t0.52482 \n",
      "111\t300  \t0.0780069\t0.0255878\t0.19223 \t0.477666\n",
      "112\t300  \t0.0773627\t0.0255878\t0.183631\t0.477666\n",
      "113\t300  \t0.0720162\t0.0205228\t0.174414\t0.42161 \n",
      "114\t300  \t0.0692727\t0.0205228\t0.164139\t0.393066\n",
      "115\t300  \t0.0671321\t0.0205228\t0.157087\t0.393066\n",
      "116\t300  \t0.0655115\t0.0205228\t0.150463\t0.386147\n",
      "117\t300  \t0.0615862\t0.0205228\t0.143426\t0.36356 \n",
      "118\t300  \t0.0565083\t0.0205228\t0.135875\t0.322812\n",
      "119\t300  \t0.0525829\t0.0205228\t0.129146\t0.310907\n",
      "120\t300  \t0.0511204\t0.0205228\t0.124298\t0.275369\n",
      "121\t300  \t0.0503669\t0.0205228\t0.119399\t0.275369\n",
      "122\t300  \t0.0491353\t0.0205228\t0.114389\t0.275369\n",
      "123\t300  \t0.0472621\t0.0205228\t0.108673\t0.268955\n",
      "124\t300  \t0.04607  \t0.0205228\t0.105369\t0.268955\n",
      "125\t300  \t0.044787 \t0.0205228\t0.100402\t0.268955\n",
      "126\t300  \t0.0431046\t0.0205228\t0.0949093\t0.268955\n",
      "127\t300  \t0.0414837\t0.0196748\t0.0909882\t0.268955\n",
      "128\t300  \t0.0397617\t0.0196748\t0.0867161\t0.268955\n",
      "129\t300  \t0.0357922\t0.0196748\t0.0820243\t0.206954\n",
      "130\t300  \t0.0348812\t0.0141952\t0.0784388\t0.206954\n",
      "131\t300  \t0.0325484\t0.0141952\t0.0741489\t0.206954\n",
      "132\t300  \t0.0317614\t0.0141952\t0.0714016\t0.206954\n",
      "133\t300  \t0.0306759\t0.0141952\t0.0686931\t0.181128\n",
      "134\t300  \t0.0283956\t0.0141952\t0.0654459\t0.15536 \n",
      "135\t300  \t0.0270046\t0.0141952\t0.0626151\t0.149941\n",
      "136\t300  \t0.0266284\t0.0136725\t0.0608079\t0.149941\n",
      "137\t300  \t0.024143 \t0.0134698\t0.0568719\t0.148329\n",
      "138\t300  \t0.023423 \t0.0127091\t0.0544329\t0.148329\n",
      "139\t300  \t0.0231614\t0.0127091\t0.0521743\t0.148329\n",
      "140\t300  \t0.0221502\t0.0127091\t0.0496797\t0.148329\n",
      "141\t300  \t0.0215069\t0.0112527\t0.047437 \t0.126374\n",
      "142\t300  \t0.0205243\t0.0112527\t0.0451063\t0.118357\n",
      "143\t300  \t0.0203397\t0.0112527\t0.0429284\t0.118357\n",
      "144\t300  \t0.019853 \t0.00953268\t0.0417229\t0.110775\n",
      "145\t300  \t0.0197073\t0.00953268\t0.0399865\t0.110775\n",
      "146\t300  \t0.0185502\t0.00953268\t0.038694 \t0.110775\n",
      "147\t300  \t0.0182948\t0.00953268\t0.0371065\t0.107435\n",
      "148\t300  \t0.0159502\t0.00953268\t0.0343343\t0.104198\n",
      "149\t300  \t0.0149072\t0.00575342\t0.0323844\t0.0888468\n",
      "150\t300  \t0.0141717\t0.00575342\t0.0310613\t0.0888468\n",
      "151\t300  \t0.013537 \t0.00426376\t0.029955 \t0.0888468\n",
      "152\t300  \t0.0130398\t0.00426376\t0.0289715\t0.0888468\n",
      "153\t300  \t0.0123122\t0.00426376\t0.0275258\t0.0888468\n",
      "154\t300  \t0.0107387\t0.00426376\t0.0260661\t0.0632191\n",
      "155\t300  \t0.0103981\t0.00426376\t0.024967 \t0.0632191\n",
      "156\t300  \t0.00965713\t0.00426376\t0.0234519\t0.0569784\n",
      "157\t300  \t0.00925568\t0.00426376\t0.022284 \t0.0569784\n",
      "158\t300  \t0.00881336\t0.00346771\t0.021473 \t0.0513121\n",
      "159\t300  \t0.00846433\t0.00346771\t0.0205883\t0.0476561\n",
      "160\t300  \t0.00804649\t0.00346771\t0.0196972\t0.0476561\n",
      "161\t300  \t0.00778321\t0.00346771\t0.0190762\t0.0476561\n",
      "162\t300  \t0.00742546\t0.00346771\t0.0180877\t0.0436194\n",
      "163\t300  \t0.00712238\t0.00346771\t0.0174548\t0.0436194\n",
      "164\t300  \t0.0068684 \t0.00346771\t0.0167028\t0.0436194\n",
      "165\t300  \t0.0066095 \t0.00248951\t0.015839 \t0.0436194\n",
      "166\t300  \t0.00652382\t0.00248951\t0.0151743\t0.0436194\n",
      "167\t300  \t0.0063185 \t0.00248951\t0.0146894\t0.0436194\n",
      "168\t300  \t0.00580589\t0.00234301\t0.0139411\t0.0414147\n",
      "169\t300  \t0.00572212\t0.00167611\t0.0132221\t0.0414147\n",
      "170\t300  \t0.00556117\t0.00167611\t0.0128119\t0.038654 \n",
      "171\t300  \t0.00506471\t0.00167611\t0.0121359\t0.0318409\n",
      "172\t300  \t0.00453123\t0.00167611\t0.0114296\t0.0296067\n",
      "173\t300  \t0.0043226 \t0.00167611\t0.010935 \t0.0296067\n",
      "174\t300  \t0.00422155\t0.00167611\t0.0104842\t0.0296067\n",
      "175\t300  \t0.00412241\t0.00167611\t0.0101168\t0.0296067\n",
      "176\t300  \t0.00389469\t0.00167611\t0.00966934\t0.0296067\n",
      "177\t300  \t0.00372504\t0.00167611\t0.00928055\t0.0296067\n",
      "178\t300  \t0.00364079\t0.00167611\t0.00887627\t0.0296067\n",
      "179\t300  \t0.00359123\t0.00167611\t0.00860878\t0.0296067\n",
      "180\t300  \t0.00334108\t0.00167611\t0.00824324\t0.0199428\n",
      "181\t300  \t0.00334638\t0.00167611\t0.00784758\t0.0199428\n",
      "182\t300  \t0.00324562\t0.00124669\t0.00745634\t0.0196373\n",
      "183\t300  \t0.00308398\t0.00124669\t0.00710921\t0.0196373\n",
      "184\t300  \t0.00293928\t0.000849267\t0.0067701 \t0.0196373\n",
      "185\t300  \t0.00278469\t0.000849267\t0.00645417\t0.0192899\n",
      "186\t300  \t0.00264588\t0.000849267\t0.00604487\t0.0192899\n",
      "187\t300  \t0.00246182\t0.000849267\t0.00569864\t0.017176 \n",
      "188\t300  \t0.00237897\t0.000849267\t0.00545375\t0.0160689\n",
      "189\t300  \t0.00218911\t0.000849267\t0.0051559 \t0.0134939\n",
      "190\t300  \t0.00214084\t0.000849267\t0.00493247\t0.0134228\n",
      "191\t300  \t0.00204355\t0.000849267\t0.00473417\t0.0122392\n",
      "192\t300  \t0.00196122\t0.000849267\t0.00454133\t0.0122392\n",
      "193\t300  \t0.00184874\t0.000849267\t0.00429771\t0.0122392\n",
      "194\t300  \t0.00179892\t0.000678777\t0.00409575\t0.0122392\n",
      "195\t300  \t0.00162369\t0.000678777\t0.00393332\t0.00923401\n",
      "196\t300  \t0.0015771 \t0.000678777\t0.00375532\t0.00923401\n",
      "197\t300  \t0.00147386\t0.000666895\t0.00358344\t0.00873467\n",
      "198\t300  \t0.00138738\t0.000578307\t0.00339548\t0.00873467\n",
      "199\t300  \t0.00132396\t0.000578307\t0.00325708\t0.00822175\n",
      "Best individual is  Individual('d', [0.0002322397970737633, 0.01723910163280462, 0.000473638960851952, 0.008011217577189589, 0.0026725884447078574, 0.012140376747395765, -0.00026464628267297563, -0.007375805354101983, -0.0011851356305583316, 0.002500706833268307]) 0.0005783066013326196\n"
     ]
    }
   ],
   "source": [
    "# Differential evolution parameters\n",
    "CR = 0.25\n",
    "F = 1  \n",
    "MU = 300\n",
    "NGEN = 200    \n",
    "\n",
    "pop = toolbox.population(n=MU);\n",
    "hof = tools.HallOfFame(1)\n",
    "stats = tools.Statistics(lambda ind: ind.fitness.values)\n",
    "stats.register(\"avg\", numpy.mean)\n",
    "stats.register(\"std\", numpy.std)\n",
    "stats.register(\"min\", numpy.min)\n",
    "stats.register(\"max\", numpy.max)\n",
    "\n",
    "logbook = tools.Logbook()\n",
    "logbook.header = \"gen\", \"evals\", \"std\", \"min\", \"avg\", \"max\"\n",
    "\n",
    "# Evaluate the individuals\n",
    "fitnesses = toolbox.map(toolbox.evaluate, pop)\n",
    "for ind, fit in zip(pop, fitnesses):\n",
    "    ind.fitness.values = fit\n",
    "\n",
    "record = stats.compile(pop)\n",
    "logbook.record(gen=0, evals=len(pop), **record)\n",
    "print(logbook.stream)\n",
    "\n",
    "for g in range(1, NGEN):\n",
    "    for k, agent in enumerate(pop):\n",
    "        a,b,c = toolbox.select(pop)\n",
    "        y = toolbox.clone(agent)\n",
    "        index = random.randrange(NDIM)\n",
    "        for i, value in enumerate(agent):\n",
    "            if i == index or random.random() < CR:\n",
    "                y[i] = a[i] + F*(b[i]-c[i])\n",
    "        y.fitness.values = toolbox.evaluate(y)\n",
    "        if y.fitness > agent.fitness:\n",
    "            pop[k] = y\n",
    "    hof.update(pop)\n",
    "    record = stats.compile(pop)\n",
    "    logbook.record(gen=g, evals=len(pop), **record)\n",
    "    print(logbook.stream)\n",
    "\n",
    "print(\"Best individual is \", hof[0], hof[0].fitness.values[0])\n"
   ]
  },
  {
   "cell_type": "markdown",
   "metadata": {},
   "source": [
    "## Problem with use of brian!"
   ]
  },
  {
   "cell_type": "code",
   "execution_count": 11,
   "metadata": {},
   "outputs": [],
   "source": [
    "import numpy as np\n",
    "from brian2 import *\n",
    "from brian2.equations.equations import (DIFFERENTIAL_EQUATION, Equations,\n",
    "                                        SingleEquation, PARAMETER)\n",
    "from brian2.input import TimedArray\n",
    "from brian2 import NeuronGroup, StateMonitor, store, restore, run, defaultclock, second, Quantity\n",
    "from brian2.stateupdaters.base import StateUpdateMethod"
   ]
  },
  {
   "cell_type": "markdown",
   "metadata": {},
   "source": [
    "### Input"
   ]
  },
  {
   "cell_type": "code",
   "execution_count": 12,
   "metadata": {},
   "outputs": [],
   "source": [
    "input_traces = zeros((10,1))*volt\n",
    "for i in range(1):\n",
    "    input_traces[1:,i]=i*10*mV"
   ]
  },
  {
   "cell_type": "code",
   "execution_count": 13,
   "metadata": {},
   "outputs": [],
   "source": [
    "# Create target current traces\n",
    "output_traces = 10*nS*input_traces"
   ]
  },
  {
   "cell_type": "code",
   "execution_count": 14,
   "metadata": {},
   "outputs": [],
   "source": [
    "input = input_traces\n",
    "output = output_traces"
   ]
  },
  {
   "cell_type": "code",
   "execution_count": 15,
   "metadata": {},
   "outputs": [],
   "source": [
    "params = np.array([\n",
    " [ 1.80869973e-08,  2.50218013e-02],\n",
    " [ 1.88373085e-08,  9.89559934e-02], \n",
    " [ 1.88373085e-08,  9.89559934e-02], \n",
    "])"
   ]
  },
  {
   "cell_type": "markdown",
   "metadata": {},
   "source": [
    "### Setup The Model for Optimization"
   ]
  },
  {
   "cell_type": "code",
   "execution_count": 16,
   "metadata": {},
   "outputs": [],
   "source": [
    "input_var = 'v'\n",
    "output_var = 'I'\n",
    "\n",
    "parameter_names = {'g', 'E'}\n",
    "method = ('linear', 'exponential_euler', 'euler')\n",
    "t_start = 0*second\n",
    "popsize, _ = np.shape(params)\n",
    "dt = 0.1 *ms\n",
    "defaultclock.dt = dt"
   ]
  },
  {
   "cell_type": "code",
   "execution_count": 17,
   "metadata": {},
   "outputs": [],
   "source": [
    "model = Equations('''\n",
    "I = g*(v-E) : amp\n",
    "g : siemens (constant)\n",
    "E : volt (constant)\n",
    "''')"
   ]
  },
  {
   "cell_type": "code",
   "execution_count": 18,
   "metadata": {},
   "outputs": [
    {
     "name": "stderr",
     "output_type": "stream",
     "text": [
      "INFO       No numerical integration method specified, using method 'linear' (took 0.00s). [brian2.stateupdaters.base.method_choice]\n"
     ]
    }
   ],
   "source": [
    "state_update_code = StateUpdateMethod.apply_stateupdater(model, {}, method=method)"
   ]
  },
  {
   "cell_type": "markdown",
   "metadata": {},
   "source": [
    "### Required Model Operations"
   ]
  },
  {
   "cell_type": "code",
   "execution_count": 19,
   "metadata": {},
   "outputs": [],
   "source": [
    "Nsteps, Ntraces = input_traces.shape\n",
    "# N = popsize * len(parameter_names)\n",
    "N = popsize\n",
    "duration = Nsteps*dt"
   ]
  },
  {
   "cell_type": "code",
   "execution_count": 20,
   "metadata": {},
   "outputs": [],
   "source": [
    "model_without_diffeq = Equations([eq for eq in model.ordered\n",
    "                                      if eq.type != DIFFERENTIAL_EQUATION])\n",
    "    \n",
    "# Add a parameter for each differential equation\n",
    "diffeq_params = Equations([SingleEquation(PARAMETER, varname, model.dimensions[varname])\n",
    "                           for varname in model.diff_eq_names])\n",
    "\n",
    "# Our new model:\n",
    "model = model_without_diffeq + diffeq_params\n",
    "\n",
    "# Replace input variable by TimedArray\n",
    "input_traces = TimedArray(input, dt = dt)"
   ]
  },
  {
   "cell_type": "code",
   "execution_count": 21,
   "metadata": {},
   "outputs": [],
   "source": [
    "input_unit = input.dim\n",
    "model = model + Equations(input_var + '= input_var(t,i % Ntraces) : '+ \"% s\" % repr(input_unit))\n",
    "\n",
    "# Add criterion with TimedArray\n",
    "output_traces = TimedArray(output, dt = dt)\n",
    "error_unit = output.dim**2\n",
    "model = model + Equations('total_error : %s' % repr(error_unit))"
   ]
  },
  {
   "cell_type": "code",
   "execution_count": 22,
   "metadata": {},
   "outputs": [],
   "source": [
    "neurons = NeuronGroup(Ntraces*N, model, method = method)\n",
    "neurons.namespace['input_var'] = input_traces\n",
    "neurons.namespace['output_var'] = output_traces\n",
    "neurons.namespace['t_start'] = t_start\n",
    "neurons.namespace['Ntraces'] = Ntraces"
   ]
  },
  {
   "cell_type": "markdown",
   "metadata": {},
   "source": [
    "#### Record error  \n",
    "additional differential equation calculating the error"
   ]
  },
  {
   "cell_type": "code",
   "execution_count": 23,
   "metadata": {},
   "outputs": [],
   "source": [
    "neurons.run_regularly('total_error +=  (' + output_var + '-output_var(t,i % Ntraces))**2 * int(t>=t_start)',\n",
    "                      when='end')\n",
    "\n",
    "# Add the code doing the numerical integration\n",
    "neurons.run_regularly(state_update_code, when='groups')\n",
    "\n",
    "# store the state of the network\n",
    "store()"
   ]
  },
  {
   "cell_type": "code",
   "execution_count": 24,
   "metadata": {},
   "outputs": [],
   "source": [
    "def parameters_dict(params):\n",
    "    d = dict()\n",
    "    for name, value in zip(parameter_names, params.T):\n",
    "        d[name] = value\n",
    "            \n",
    "    return d"
   ]
  },
  {
   "cell_type": "code",
   "execution_count": 25,
   "metadata": {},
   "outputs": [],
   "source": [
    "def calc_error(params):\n",
    "    print(params)\n",
    "    popsize, _ = np.shape(params)\n",
    "    N = popsize\n",
    "\n",
    "#     neurons = NeuronGroup(Ntraces*N, model, method = method)\n",
    "    neurons = NeuronGroup(N, model, method = method)\n",
    "    neurons.namespace['input_var'] = input_traces\n",
    "    neurons.namespace['output_var'] = output_traces\n",
    "    neurons.namespace['t_start'] = t_start\n",
    "    neurons.namespace['Ntraces'] = Ntraces\n",
    "\n",
    "    # Record error\n",
    "    neurons.run_regularly('total_error +=  (' + output_var + '-output_var(t,i % Ntraces))**2 * int(t>=t_start)',\n",
    "                          when='end')\n",
    "\n",
    "    # Add the code doing the numerical integration\n",
    "    neurons.run_regularly(state_update_code, when='groups')\n",
    "\n",
    "    d = parameters_dict(params)\n",
    "    neurons.set_states(d, units=False)\n",
    "    run(duration, namespace = {})\n",
    "\n",
    "    e = neurons.total_error/int((duration-t_start)/defaultclock.dt)\n",
    "    e = mean(e.reshape((N,Ntraces)),axis=1)\n",
    "    \n",
    "    return array(e)"
   ]
  },
  {
   "cell_type": "code",
   "execution_count": 26,
   "metadata": {},
   "outputs": [
    {
     "data": {
      "text/html": [
       "NeuronGroup \"neurongroup\" with 3 neurons.<br>\n",
       "<b>Model:</b><nr>\n",
       "\\begin{align*}v &= \\operatorname{input_{var}}{\\left(t,i\\bmod{Ntraces} \\right)} && \\text{(unit of $v$: $\\mathrm{V}$)}\\\\\n",
       "I &= g \\left(- E + v\\right) && \\text{(unit of $I$: $\\mathrm{A}$)}\\\\\n",
       "g &&& \\text{(unit: $\\mathrm{S}$, flags: constant)}\\\\\n",
       "E &&& \\text{(unit: $\\mathrm{V}$, flags: constant)}\\\\\n",
       "total_{error} &&& \\text{(unit: $\\mathrm{A^2}$)}\\end{align*}"
      ],
      "text/plain": [
       "NeuronGroup(clock=Clock(dt=100. * usecond, name='defaultclock'), when=start, order=0, name='neurongroup')"
      ]
     },
     "execution_count": 26,
     "metadata": {},
     "output_type": "execute_result"
    }
   ],
   "source": [
    "neurons"
   ]
  },
  {
   "cell_type": "markdown",
   "metadata": {},
   "source": [
    "### Ask and Tel with calc_error Function"
   ]
  },
  {
   "cell_type": "code",
   "execution_count": 27,
   "metadata": {},
   "outputs": [],
   "source": [
    "start_scope()"
   ]
  },
  {
   "cell_type": "code",
   "execution_count": 28,
   "metadata": {},
   "outputs": [],
   "source": [
    "model = Equations('''\n",
    "I = g*(v-E) : amp\n",
    "g : siemens (constant)\n",
    "E : volt (constant)\n",
    "''')"
   ]
  },
  {
   "cell_type": "code",
   "execution_count": 29,
   "metadata": {},
   "outputs": [],
   "source": [
    "state_update_code = StateUpdateMethod.apply_stateupdater(model, {}, method=method)"
   ]
  },
  {
   "cell_type": "code",
   "execution_count": 30,
   "metadata": {},
   "outputs": [],
   "source": [
    "model_without_diffeq = Equations([eq for eq in model.ordered\n",
    "                                      if eq.type != DIFFERENTIAL_EQUATION])\n",
    "    \n",
    "# Add a parameter for each differential equation\n",
    "diffeq_params = Equations([SingleEquation(PARAMETER, varname, model.dimensions[varname])\n",
    "                           for varname in model.diff_eq_names])\n",
    "\n",
    "# Our new model:\n",
    "model = model_without_diffeq + diffeq_params\n",
    "\n",
    "# Replace input variable by TimedArray\n",
    "input_traces = TimedArray(input, dt = dt)"
   ]
  },
  {
   "cell_type": "code",
   "execution_count": 31,
   "metadata": {},
   "outputs": [],
   "source": [
    "input_unit = input.dim\n",
    "model = model + Equations(input_var + '= input_var(t,i % Ntraces) : '+ \"% s\" % repr(input_unit))\n",
    "\n",
    "# Add criterion with TimedArray\n",
    "output_traces = TimedArray(output, dt = dt)\n",
    "error_unit = output.dim**2\n",
    "model = model + Equations('total_error : %s' % repr(error_unit))"
   ]
  },
  {
   "cell_type": "markdown",
   "metadata": {},
   "source": [
    "### set up DEAP"
   ]
  },
  {
   "cell_type": "code",
   "execution_count": 32,
   "metadata": {},
   "outputs": [],
   "source": [
    "NDIM = 2\n",
    "creator.create(\"FitnessMin\", base.Fitness, weights=(-1.0,))\n",
    "creator.create(\"Individual\", array.array, typecode='d', fitness=creator.FitnessMin)\n",
    "\n",
    "strategy = cma.Strategy(centroid=[0.0]*NDIM, sigma=1.0)\n",
    "\n",
    "toolbox = base.Toolbox()\n",
    "toolbox.register(\"evaluate\", benchmarks.sphere)\n",
    "toolbox.register(\"generate\", strategy.generate, creator.__dict__[INDCLSNAME])\n",
    "toolbox.register(\"update\", strategy.update)"
   ]
  },
  {
   "cell_type": "code",
   "execution_count": 33,
   "metadata": {},
   "outputs": [],
   "source": [
    "hof = tools.HallOfFame(1)\n",
    "stats = tools.Statistics(lambda ind: ind.fitness.values)"
   ]
  },
  {
   "cell_type": "code",
   "execution_count": 34,
   "metadata": {},
   "outputs": [
    {
     "name": "stdout",
     "output_type": "stream",
     "text": [
      "[[-0.12303182119136652, -0.35285769435042047], [-1.0874706190900092, 0.8396581486753585], [1.9421244382504428, 0.09595131293367264], [-0.23711706480165134, -0.654145810686827], [-0.4223480943256372, 0.4969505881062848], [1.0049069616305315, -0.3224481136006225]] \n",
      "\n"
     ]
    }
   ],
   "source": [
    "stats = None\n",
    "ngen = 1\n",
    "\n",
    "logbook = tools.Logbook()\n",
    "logbook.header = ['gen', 'nevals'] + (stats.fields if stats else [])\n",
    "\n",
    "for gen in range(ngen):\n",
    "    # Generate a new population\n",
    "    population = toolbox.generate()\n",
    "    print(population, '\\n')"
   ]
  },
  {
   "cell_type": "code",
   "execution_count": 35,
   "metadata": {},
   "outputs": [
    {
     "data": {
      "text/plain": [
       "[[-0.12303182119136652, -0.35285769435042047],\n",
       " [-1.0874706190900092, 0.8396581486753585],\n",
       " [1.9421244382504428, 0.09595131293367264],\n",
       " [-0.23711706480165134, -0.654145810686827],\n",
       " [-0.4223480943256372, 0.4969505881062848],\n",
       " [1.0049069616305315, -0.3224481136006225]]"
      ]
     },
     "execution_count": 35,
     "metadata": {},
     "output_type": "execute_result"
    }
   ],
   "source": [
    "population"
   ]
  },
  {
   "cell_type": "code",
   "execution_count": 36,
   "metadata": {},
   "outputs": [
    {
     "name": "stdout",
     "output_type": "stream",
     "text": [
      "[[-0.12303182 -0.35285769]\n",
      " [-1.08747062  0.83965815]\n",
      " [ 1.94212444  0.09595131]\n",
      " [-0.23711706 -0.65414581]\n",
      " [-0.42234809  0.49695059]\n",
      " [ 1.00490696 -0.32244811]]\n"
     ]
    }
   ],
   "source": [
    "fitnesses = calc_error(np.array(population))"
   ]
  },
  {
   "cell_type": "code",
   "execution_count": 37,
   "metadata": {},
   "outputs": [],
   "source": [
    "hof.update(population)"
   ]
  },
  {
   "cell_type": "code",
   "execution_count": 38,
   "metadata": {},
   "outputs": [
    {
     "name": "stdout",
     "output_type": "stream",
     "text": [
      "[-0.12303182119136652, -0.35285769435042047] 0.0018846646708547197\n",
      "[-1.0874706190900092, 0.8396581486753585] 0.8337581236370715\n",
      "[1.9421244382504428, 0.09595131293367264] 0.03472609505300484\n",
      "[-0.23711706480165134, -0.654145810686827] 0.024058843630887776\n",
      "[-0.4223480943256372, 0.4969505881062848] 0.04405218918698917\n",
      "[1.0049069616305315, -0.3224481136006225] 0.10499567039236266\n"
     ]
    }
   ],
   "source": [
    "for ind, fit in zip(population, fitnesses):\n",
    "    print(ind, fit)\n",
    "    ind.fitness.values = (fit,)"
   ]
  },
  {
   "cell_type": "code",
   "execution_count": 39,
   "metadata": {},
   "outputs": [],
   "source": [
    "toolbox.update(population)"
   ]
  },
  {
   "cell_type": "code",
   "execution_count": 40,
   "metadata": {},
   "outputs": [
    {
     "name": "stdout",
     "output_type": "stream",
     "text": [
      "gen\tnevals\n",
      "0  \t6     \n"
     ]
    }
   ],
   "source": [
    "record = stats.compile(population) if stats is not None else {}\n",
    "logbook.record(gen=gen, nevals=len(population), **record)\n",
    "\n",
    "print(logbook.stream)"
   ]
  },
  {
   "cell_type": "code",
   "execution_count": 49,
   "metadata": {},
   "outputs": [
    {
     "ename": "AttributeError",
     "evalue": "'IND_TYPE' object has no attribute 'fitnesses'",
     "output_type": "error",
     "traceback": [
      "\u001b[0;31m---------------------------------------------------------------------------\u001b[0m",
      "\u001b[0;31mAttributeError\u001b[0m                            Traceback (most recent call last)",
      "\u001b[0;32m<ipython-input-49-b79e28dc8656>\u001b[0m in \u001b[0;36m<module>\u001b[0;34m\u001b[0m\n\u001b[0;32m----> 1\u001b[0;31m \u001b[0mhof\u001b[0m\u001b[0;34m[\u001b[0m\u001b[0;36m0\u001b[0m\u001b[0;34m]\u001b[0m\u001b[0;34m.\u001b[0m\u001b[0mfitnesses\u001b[0m\u001b[0;34m.\u001b[0m\u001b[0mvalues\u001b[0m\u001b[0;34m[\u001b[0m\u001b[0;36m0\u001b[0m\u001b[0;34m]\u001b[0m\u001b[0;34m\u001b[0m\u001b[0;34m\u001b[0m\u001b[0m\n\u001b[0m",
      "\u001b[0;31mAttributeError\u001b[0m: 'IND_TYPE' object has no attribute 'fitnesses'"
     ]
    }
   ],
   "source": [
    "hof[0].fitnesses.values[0]"
   ]
  },
  {
   "cell_type": "code",
   "execution_count": 47,
   "metadata": {},
   "outputs": [
    {
     "ename": "IndexError",
     "evalue": "tuple index out of range",
     "output_type": "error",
     "traceback": [
      "\u001b[0;31m---------------------------------------------------------------------------\u001b[0m",
      "\u001b[0;31mIndexError\u001b[0m                                Traceback (most recent call last)",
      "\u001b[0;32m<ipython-input-47-b73154fe854c>\u001b[0m in \u001b[0;36m<module>\u001b[0;34m\u001b[0m\n\u001b[0;32m----> 1\u001b[0;31m \u001b[0mhof\u001b[0m\u001b[0;34m[\u001b[0m\u001b[0;36m0\u001b[0m\u001b[0;34m]\u001b[0m\u001b[0;34m.\u001b[0m\u001b[0mfitness\u001b[0m\u001b[0;34m.\u001b[0m\u001b[0mvalues\u001b[0m\u001b[0;34m[\u001b[0m\u001b[0;36m0\u001b[0m\u001b[0;34m]\u001b[0m\u001b[0;34m\u001b[0m\u001b[0;34m\u001b[0m\u001b[0m\n\u001b[0m",
      "\u001b[0;31mIndexError\u001b[0m: tuple index out of range"
     ]
    }
   ],
   "source": [
    "hof[0].fitness.values[0]"
   ]
  },
  {
   "cell_type": "code",
   "execution_count": 41,
   "metadata": {},
   "outputs": [
    {
     "ename": "IndexError",
     "evalue": "tuple index out of range",
     "output_type": "error",
     "traceback": [
      "\u001b[0;31m---------------------------------------------------------------------------\u001b[0m",
      "\u001b[0;31mIndexError\u001b[0m                                Traceback (most recent call last)",
      "\u001b[0;32m<ipython-input-41-c7f3494b60cb>\u001b[0m in \u001b[0;36m<module>\u001b[0;34m\u001b[0m\n\u001b[0;32m----> 1\u001b[0;31m \u001b[0mprint\u001b[0m\u001b[0;34m(\u001b[0m\u001b[0;34m\"Best individual is \"\u001b[0m\u001b[0;34m,\u001b[0m \u001b[0mhof\u001b[0m\u001b[0;34m[\u001b[0m\u001b[0;36m0\u001b[0m\u001b[0;34m]\u001b[0m\u001b[0;34m,\u001b[0m \u001b[0mhof\u001b[0m\u001b[0;34m[\u001b[0m\u001b[0;36m0\u001b[0m\u001b[0;34m]\u001b[0m\u001b[0;34m.\u001b[0m\u001b[0mfitness\u001b[0m\u001b[0;34m.\u001b[0m\u001b[0mvalues\u001b[0m\u001b[0;34m[\u001b[0m\u001b[0;36m0\u001b[0m\u001b[0;34m]\u001b[0m\u001b[0;34m)\u001b[0m\u001b[0;34m\u001b[0m\u001b[0;34m\u001b[0m\u001b[0m\n\u001b[0m",
      "\u001b[0;31mIndexError\u001b[0m: tuple index out of range"
     ]
    }
   ],
   "source": [
    "print(\"Best individual is \", hof[0], hof[0].fitness.values[0])\n"
   ]
  },
  {
   "cell_type": "code",
   "execution_count": null,
   "metadata": {},
   "outputs": [],
   "source": []
  }
 ],
 "metadata": {
  "kernelspec": {
   "display_name": "brian_opt",
   "language": "python",
   "name": "brian_opt"
  },
  "language_info": {
   "codemirror_mode": {
    "name": "ipython",
    "version": 3
   },
   "file_extension": ".py",
   "mimetype": "text/x-python",
   "name": "python",
   "nbconvert_exporter": "python",
   "pygments_lexer": "ipython3",
   "version": "3.7.3"
  }
 },
 "nbformat": 4,
 "nbformat_minor": 2
}
